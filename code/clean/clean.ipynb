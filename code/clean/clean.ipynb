{
 "cells": [
  {
   "cell_type": "code",
   "execution_count": 15,
   "metadata": {},
   "outputs": [],
   "source": [
    "import pickle\n",
    "import math\n",
    "import pandas as pd\n",
    "import numpy as np\n",
    "import os\n",
    "import pathlib\n",
    "import tqdm\n",
    "from functools import reduce\n",
    "from scipy.stats import uniform, randint\n",
    "from sklearn.metrics import auc, accuracy_score, confusion_matrix, mean_squared_error\n",
    "from sklearn.model_selection import cross_val_score, GridSearchCV, KFold, RandomizedSearchCV, train_test_split\n",
    "import warnings\n",
    "import torch\n",
    "from torch.utils.data import Dataset\n",
    "from torch.utils.data import DataLoader\n",
    "warnings.filterwarnings(\"ignore\", message=\"pandas.Int64Index is deprecated and will be removed from pandas in a future version. Use pandas.Index with the appropriate dtype instead.\")\n",
    "\n",
    "\n",
    "proj_dir = '/Users/nickbachelder/Desktop/Kaggle/Linemen'\n",
    "os.chdir( os.path.join(proj_dir, 'code/clean') )\n",
    "\n",
    "%run clean_objects.ipynb"
   ]
  },
  {
   "cell_type": "code",
   "execution_count": 11,
   "metadata": {},
   "outputs": [
    {
     "name": "stdout",
     "output_type": "stream",
     "text": [
      "Warning: Your Kaggle API key is readable by other users on this system! To fix this, you can run 'chmod 600 /Users/nickbachelder/.kaggle/kaggle.json'\n",
      "Downloading nfl-big-data-bowl-2023.zip to /Users/nickbachelder/Desktop/Kaggle/Linemen/data\n"
     ]
    },
    {
     "name": "stderr",
     "output_type": "stream",
     "text": [
      " 99%|█████████▉| 171M/172M [00:13<00:00, 13.9MB/s] "
     ]
    },
    {
     "name": "stdout",
     "output_type": "stream",
     "text": [
      "\n",
      "Archive:  /Users/nickbachelder/Desktop/Kaggle/Linemen/data/nfl-big-data-bowl-2023.zip\n",
      "  inflating: games.csv               \n",
      "  inflating: pffScoutingData.csv     \n",
      "  inflating: players.csv             \n",
      "  inflating: plays.csv               \n",
      "  inflating: week1.csv               "
     ]
    },
    {
     "name": "stderr",
     "output_type": "stream",
     "text": [
      "100%|██████████| 172M/172M [00:13<00:00, 13.5MB/s]\n"
     ]
    },
    {
     "name": "stdout",
     "output_type": "stream",
     "text": [
      "\n",
      "  inflating: week2.csv               \n",
      "  inflating: week3.csv               \n",
      "  inflating: week4.csv               \n",
      "  inflating: week5.csv               \n",
      "  inflating: week6.csv               \n",
      "  inflating: week7.csv               \n",
      "  inflating: week8.csv               \n"
     ]
    }
   ],
   "source": [
    "# pull data, sort out paths\n",
    "\n",
    "data_dir = os.path.join(proj_dir, 'data' )\n",
    "os.chdir( proj_dir )\n",
    "os.system(\"rm -rf {}\".format( data_dir ))\n",
    "os.system('mkdir data')\n",
    "os.chdir( data_dir )\n",
    "os.system(\"kaggle competitions download -c nfl-big-data-bowl-2023\")\n",
    "os.system( 'unzip {}.zip'.format( os.path.join(data_dir, 'nfl-big-data-bowl-2023')) )\n",
    "\n",
    "curr_cd = os.getcwd()\n",
    "files = [x for x in os.listdir(curr_cd) if os.path.isfile(os.path.join(curr_cd, x))]\n",
    "\n",
    "player_files = [os.path.join(curr_cd, x) for x in files if x.endswith('players.csv')]\n",
    "player_tracking_files = [os.path.join(curr_cd, x) for x in files if x.startswith('week')]\n",
    "play_details_files = [os.path.join(curr_cd, x) for x in files if x.endswith('ScoutingData.csv')]\n",
    "play_info_files = [os.path.join(curr_cd, x) for x in files if x.endswith('plays.csv')]"
   ]
  },
  {
   "cell_type": "code",
   "execution_count": 3,
   "metadata": {},
   "outputs": [
    {
     "name": "stderr",
     "output_type": "stream",
     "text": [
      "100%|██████████| 8/8 [01:29<00:00, 11.14s/it]\n"
     ]
    }
   ],
   "source": [
    "# create master object with all data\n",
    "\n",
    "all_data = master_track(track_paths = player_tracking_files, \n",
    "                            play_info_path = play_info_files[0],\n",
    "                            play_details_path = play_details_files[0],\n",
    "                            players_path = player_files[0])\n",
    "\n"
   ]
  },
  {
   "cell_type": "code",
   "execution_count": 6,
   "metadata": {},
   "outputs": [
    {
     "name": "stdout",
     "output_type": "stream",
     "text": [
      "Getting week 1 training data\n",
      "Getting week 2 training data\n",
      "Getting week 3 training data\n",
      "Getting week 4 training data\n",
      "Getting week 5 training data\n",
      "Getting week 6 training data\n",
      "Getting week 7 training data\n",
      "Getting week 8 training data\n"
     ]
    },
    {
     "name": "stderr",
     "output_type": "stream",
     "text": [
      "100%|██████████| 1030/1030 [04:41<00:00,  3.66it/s]\n"
     ]
    },
    {
     "name": "stdout",
     "output_type": "stream",
     "text": [
      "Done\n"
     ]
    }
   ],
   "source": [
    "# get training data (features) through week 8 \n",
    "\n",
    "week = 9\n",
    "all_data.load_training_data(week = week)\n"
   ]
  },
  {
   "cell_type": "code",
   "execution_count": 7,
   "metadata": {},
   "outputs": [
    {
     "name": "stdout",
     "output_type": "stream",
     "text": [
      "Getting week 1 average metrics by position and blocker number\n",
      "Getting week 2 average metrics by position and blocker number\n",
      "Getting week 3 average metrics by position and blocker number\n",
      "Getting week 4 average metrics by position and blocker number\n",
      "Getting week 5 average metrics by position and blocker number\n",
      "Getting week 6 average metrics by position and blocker number\n",
      "Getting week 7 average metrics by position and blocker number\n",
      "Getting week 8 average metrics by position and blocker number\n",
      "Done\n"
     ]
    }
   ],
   "source": [
    "# get averages up through week 8 \n",
    "\n",
    "all_data.get_averages_up_to_week(week = week)"
   ]
  },
  {
   "cell_type": "code",
   "execution_count": 14,
   "metadata": {},
   "outputs": [],
   "source": [
    "# save all data object with pickle to data\n",
    "\n",
    "os.chdir( os.path.join(proj_dir, 'data') )\n",
    "with open('all_data.pkl', 'wb') as file:\n",
    "    pickle.dump(all_data, file)"
   ]
  },
  {
   "cell_type": "code",
   "execution_count": 12,
   "metadata": {},
   "outputs": [
    {
     "data": {
      "text/plain": [
       "0"
      ]
     },
     "execution_count": 12,
     "metadata": {},
     "output_type": "execute_result"
    }
   ],
   "source": [
    "for week_num in range(1, 9):\n",
    "    os.system(f\"rm week{week_num}.csv\")\n",
    "os.system(\"rm games.csv\")\n",
    "os.system(\"rm pffScoutingData.csv\")\n",
    "os.system(\"rm players.csv\")\n",
    "os.system(\"rm nfl-big-data-bowl-2023.zip\")\n",
    "os.system(\"rm plays.csv\")"
   ]
  },
  {
   "cell_type": "code",
   "execution_count": 13,
   "metadata": {},
   "outputs": [
    {
     "data": {
      "text/plain": [
       "0"
      ]
     },
     "execution_count": 13,
     "metadata": {},
     "output_type": "execute_result"
    }
   ],
   "source": []
  },
  {
   "cell_type": "code",
   "execution_count": null,
   "metadata": {},
   "outputs": [],
   "source": []
  }
 ],
 "metadata": {
  "kernelspec": {
   "display_name": "Python 3.10.6",
   "language": "python",
   "name": "python3"
  },
  "language_info": {
   "codemirror_mode": {
    "name": "ipython",
    "version": 3
   },
   "file_extension": ".py",
   "mimetype": "text/x-python",
   "name": "python",
   "nbconvert_exporter": "python",
   "pygments_lexer": "ipython3",
   "version": "3.10.6"
  },
  "orig_nbformat": 4,
  "vscode": {
   "interpreter": {
    "hash": "8b5140b98f9aa636ad904647e184ddf94a8c49b25e448223e4f659e3845abf7f"
   }
  }
 },
 "nbformat": 4,
 "nbformat_minor": 2
}
