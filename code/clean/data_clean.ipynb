{
 "cells": [
  {
   "cell_type": "code",
   "execution_count": 166,
   "metadata": {},
   "outputs": [],
   "source": [
    "import os\n",
    "\n",
    "proj_dir = '/Users/nickbachelder/Desktop/Kaggle/Linemen'\n",
    "os.chdir( os.path.join(proj_dir, 'code/objects') )\n",
    "\n",
    "%run load_modules.ipynb\n",
    "%run tracking_objects.ipynb"
   ]
  },
  {
   "cell_type": "code",
   "execution_count": 167,
   "metadata": {},
   "outputs": [
    {
     "name": "stdout",
     "output_type": "stream",
     "text": [
      "Warning: Your Kaggle API key is readable by other users on this system! To fix this, you can run 'chmod 600 /Users/nickbachelder/.kaggle/kaggle.json'\n",
      "Downloading nfl-big-data-bowl-2023.zip to /Users/nickbachelder/Desktop/Kaggle/Linemen/data\n"
     ]
    },
    {
     "name": "stderr",
     "output_type": "stream",
     "text": [
      "100%|██████████| 172M/172M [00:13<00:00, 13.4MB/s] \n"
     ]
    },
    {
     "name": "stdout",
     "output_type": "stream",
     "text": [
      "\n",
      "Archive:  /Users/nickbachelder/Desktop/Kaggle/Linemen/data/nfl-big-data-bowl-2023.zip\n",
      "  inflating: games.csv               \n",
      "  inflating: pffScoutingData.csv     \n",
      "  inflating: players.csv             \n",
      "  inflating: plays.csv               \n",
      "  inflating: week1.csv               \n",
      "  inflating: week2.csv               \n",
      "  inflating: week3.csv               \n",
      "  inflating: week4.csv               \n",
      "  inflating: week5.csv               \n",
      "  inflating: week6.csv               \n",
      "  inflating: week7.csv               \n",
      "  inflating: week8.csv               \n"
     ]
    }
   ],
   "source": [
    "data_dir = os.path.join(proj_dir, 'data' )\n",
    "os.chdir( proj_dir )\n",
    "os.system(\"rm -rf {}\".format( data_dir ))\n",
    "os.system('mkdir data')\n",
    "os.chdir( data_dir )\n",
    "os.system(\"kaggle competitions download -c nfl-big-data-bowl-2023\")\n",
    "os.system( 'unzip {}.zip'.format( os.path.join(data_dir, 'nfl-big-data-bowl-2023')) )\n",
    "\n",
    "curr_cd = os.getcwd()\n",
    "files = [x for x in os.listdir(curr_cd) if os.path.isfile(os.path.join(curr_cd, x))]\n",
    "\n",
    "player_files = [os.path.join(curr_cd, x) for x in files if x.endswith('players.csv')]\n",
    "player_tracking_files = [os.path.join(curr_cd, x) for x in files if x.startswith('week')]\n",
    "play_details_files = [os.path.join(curr_cd, x) for x in files if x.endswith('ScoutingData.csv')]\n",
    "play_info_files = [os.path.join(curr_cd, x) for x in files if x.endswith('plays.csv')]\n"
   ]
  },
  {
   "cell_type": "code",
   "execution_count": 168,
   "metadata": {},
   "outputs": [],
   "source": [
    "all_data = master_track(track_paths = player_tracking_files, \n",
    "                            play_info_path = play_info_files[0],\n",
    "                            play_details_path = play_details_files[0],\n",
    "                            players_path = player_files[0])"
   ]
  },
  {
   "cell_type": "code",
   "execution_count": 169,
   "metadata": {},
   "outputs": [
    {
     "name": "stdout",
     "output_type": "stream",
     "text": [
      "Getting week 1 training data\n"
     ]
    },
    {
     "name": "stderr",
     "output_type": "stream",
     "text": [
      "100%|██████████| 1172/1172 [05:45<00:00,  3.39it/s]\n"
     ]
    },
    {
     "name": "stdout",
     "output_type": "stream",
     "text": [
      "Done\n"
     ]
    }
   ],
   "source": [
    "all_data.load_training_data(week = 2)"
   ]
  },
  {
   "cell_type": "code",
   "execution_count": 172,
   "metadata": {},
   "outputs": [
    {
     "name": "stdout",
     "output_type": "stream",
     "text": [
      "Getting week 1 average metrics by position and blocker number\n",
      "Done\n"
     ]
    }
   ],
   "source": [
    "all_data.get_averages_up_to_week(week = 2)"
   ]
  },
  {
   "cell_type": "code",
   "execution_count": 330,
   "metadata": {},
   "outputs": [
    {
     "name": "stdout",
     "output_type": "stream",
     "text": [
      "Getting week 1 normalized training data\n"
     ]
    },
    {
     "name": "stderr",
     "output_type": "stream",
     "text": [
      "100%|██████████| 1172/1172 [00:00<00:00, 3449.28it/s]"
     ]
    },
    {
     "name": "stdout",
     "output_type": "stream",
     "text": [
      "Train NA\n",
      "465\n",
      "Test NA\n",
      "188\n",
      "Length train : 936\n",
      "Length test : 234\n"
     ]
    },
    {
     "name": "stderr",
     "output_type": "stream",
     "text": [
      "\n"
     ]
    }
   ],
   "source": [
    "all_dat_labels = all_data.get_rush_sequences_labels(week = 2, normalize = True)\n",
    "training_dat, test_dat = train_test_split(all_dat_labels, test_size = 0.2)\n",
    "\n",
    "# remove nas (fix these nas being created later)\n",
    "bad_indexs = []\n",
    "print('Train NA')\n",
    "for value in range(len(training_dat)):\n",
    "    any_na = training_dat[value][0].isnull().values.any()\n",
    "    if any_na == True:\n",
    "        bad_indexs.append(value)\n",
    "        print(value)\n",
    "\n",
    "for index in sorted(bad_indexs, reverse=True):\n",
    "    del training_dat[index]\n",
    "\n",
    "\n",
    "bad_indexs = []\n",
    "print('Test NA')\n",
    "for value in range(len(test_dat)):\n",
    "    any_na = test_dat[value][0].isnull().values.any()\n",
    "    if any_na == True:\n",
    "        bad_indexs.append(value)\n",
    "        print(value)\n",
    "\n",
    "for index in sorted(bad_indexs, reverse=True):\n",
    "    del test_dat[index]\n",
    "\n",
    "print(f'Length train : {len(training_dat)}')\n",
    "print(f'Length test : {len(test_dat)}')"
   ]
  },
  {
   "cell_type": "code",
   "execution_count": null,
   "metadata": {},
   "outputs": [],
   "source": []
  },
  {
   "cell_type": "code",
   "execution_count": 338,
   "metadata": {},
   "outputs": [
    {
     "name": "stdout",
     "output_type": "stream",
     "text": [
      "Epoch 0\n",
      "---------\n",
      "Train loss: 0.6469906326383352 , Train AUC: 0.6099976650062267\n",
      "Test loss: 0.6349352598190308 , Test AUC: 0.771586037966932\n",
      "\n",
      "Epoch 1\n",
      "---------\n",
      "Train loss: 0.6249321009963751 , Train AUC: 0.6649819037982565\n",
      "Test loss: 0.5923715457320213 , Test AUC: 0.7716625842008573\n",
      "\n",
      "Epoch 2\n",
      "---------\n",
      "Train loss: 0.5779630076140165 , Train AUC: 0.7402027552926526\n",
      "Test loss: 0.5723301693797112 , Test AUC: 0.7931720759338641\n",
      "\n",
      "Epoch 3\n",
      "---------\n",
      "Train loss: 0.5333229210227728 , Train AUC: 0.7780247898505603\n",
      "Test loss: 0.524150412529707 , Test AUC: 0.8085578689528475\n",
      "\n",
      "Epoch 4\n",
      "---------\n",
      "Train loss: 0.5186495929956436 , Train AUC: 0.8012287904732254\n",
      "Test loss: 0.5204357169568539 , Test AUC: 0.8270055113288426\n",
      "\n",
      "Epoch 5\n",
      "---------\n",
      "Train loss: 0.5279954662546515 , Train AUC: 0.7968993228518056\n",
      "Test loss: 0.539288729429245 , Test AUC: 0.8221065523576241\n",
      "\n",
      "Epoch 6\n",
      "---------\n",
      "Train loss: 0.49321465799584985 , Train AUC: 0.8303335149439602\n",
      "Test loss: 0.5068298988044262 , Test AUC: 0.8251684017146356\n",
      "\n",
      "Epoch 7\n",
      "---------\n",
      "Train loss: 0.486174120567739 , Train AUC: 0.8212367683686177\n",
      "Test loss: 0.4911907911300659 , Test AUC: 0.8325168401714634\n",
      "\n",
      "Epoch 8\n",
      "---------\n",
      "Train loss: 0.46773637644946575 , Train AUC: 0.8365407067247821\n",
      "Test loss: 0.50002296641469 , Test AUC: 0.8372627066748316\n",
      "\n",
      "Epoch 9\n",
      "---------\n",
      "Train loss: 0.481274900957942 , Train AUC: 0.8321334059775841\n",
      "Test loss: 0.4856436215341091 , Test AUC: 0.8385639926515616\n",
      "\n",
      "Epoch 10\n",
      "---------\n",
      "Train loss: 0.4615663308650255 , Train AUC: 0.843677031444583\n",
      "Test loss: 0.5460310615599155 , Test AUC: 0.8401714635639926\n",
      "\n",
      "Epoch 11\n",
      "---------\n",
      "Train loss: 0.4841341534629464 , Train AUC: 0.8329214663760897\n",
      "Test loss: 0.47835659608244896 , Test AUC: 0.8439222290263318\n",
      "\n",
      "Epoch 12\n",
      "---------\n",
      "Train loss: 0.46655896957963705 , Train AUC: 0.8491350793897883\n",
      "Test loss: 0.4905898869037628 , Test AUC: 0.8462186160440907\n",
      "\n",
      "Epoch 13\n",
      "---------\n",
      "Train loss: 0.4688880988396704 , Train AUC: 0.8511976572229141\n",
      "Test loss: 0.48809221759438515 , Test AUC: 0.8463717085119412\n",
      "\n",
      "Epoch 14\n",
      "---------\n",
      "Train loss: 0.448992851190269 , Train AUC: 0.8553909168742216\n",
      "Test loss: 0.4670880101621151 , Test AUC: 0.8511941212492344\n",
      "\n",
      "Epoch 15\n",
      "---------\n",
      "Train loss: 0.4634008212015033 , Train AUC: 0.8609608499377335\n",
      "Test loss: 0.5185410156846046 , Test AUC: 0.8531843233312922\n",
      "\n",
      "Epoch 16\n",
      "---------\n",
      "Train loss: 0.45557130593806505 , Train AUC: 0.8533040161892902\n",
      "Test loss: 0.4711083583533764 , Test AUC: 0.8525719534598898\n",
      "\n",
      "Epoch 17\n",
      "---------\n",
      "Train loss: 0.43820855719968677 , Train AUC: 0.8535034635740971\n",
      "Test loss: 0.5264796204864979 , Test AUC: 0.8533374157991426\n",
      "\n",
      "Epoch 18\n",
      "---------\n",
      "Train loss: 0.4640003154054284 , Train AUC: 0.8458660881070984\n",
      "Test loss: 0.4855867251753807 , Test AUC: 0.8505817513778323\n",
      "\n",
      "Epoch 19\n",
      "---------\n",
      "Train loss: 0.42111700866371393 , Train AUC: 0.8751848536737237\n",
      "Test loss: 0.4676908999681473 , Test AUC: 0.8543325168401715\n",
      "\n",
      "Epoch 20\n",
      "---------\n",
      "Train loss: 0.43728024419397116 , Train AUC: 0.8636071762141968\n",
      "Test loss: 0.462005440145731 , Test AUC: 0.8527250459277405\n",
      "\n",
      "Epoch 21\n",
      "---------\n",
      "Train loss: 0.42067062528803945 , Train AUC: 0.8746886674968866\n",
      "Test loss: 0.4814280681312084 , Test AUC: 0.8543325168401714\n",
      "\n",
      "Epoch 22\n",
      "---------\n",
      "Train loss: 0.4073632494546473 , Train AUC: 0.8816936488169365\n",
      "Test loss: 0.5137654282152653 , Test AUC: 0.8589252908756889\n",
      "\n",
      "Epoch 23\n",
      "---------\n",
      "Train loss: 0.4010833380743861 , Train AUC: 0.8867382082814446\n",
      "Test loss: 0.4575653560459614 , Test AUC: 0.8561696264543786\n",
      "\n",
      "Epoch 24\n",
      "---------\n",
      "Train loss: 0.4066535523161292 , Train AUC: 0.8837854140722292\n",
      "Test loss: 0.4704462140798569 , Test AUC: 0.8594611145131661\n",
      "\n",
      "Epoch 25\n",
      "---------\n",
      "Train loss: 0.3946365234442055 , Train AUC: 0.8890586083437112\n",
      "Test loss: 0.4636170044541359 , Test AUC: 0.8574709124311084\n",
      "\n",
      "Epoch 26\n",
      "---------\n",
      "Train loss: 0.39153607934713364 , Train AUC: 0.8935437422166873\n",
      "Test loss: 0.464179378002882 , Test AUC: 0.8604562155541946\n",
      "\n",
      "Epoch 27\n",
      "---------\n",
      "Train loss: 0.41801753267645836 , Train AUC: 0.8861398661270237\n",
      "Test loss: 0.46264126524329185 , Test AUC: 0.8631353337415799\n",
      "\n",
      "Epoch 28\n",
      "---------\n",
      "Train loss: 0.3798113642260432 , Train AUC: 0.8978245641344956\n",
      "Test loss: 0.5562635473906994 , Test AUC: 0.8508879363135334\n",
      "\n",
      "Epoch 29\n",
      "---------\n",
      "Train loss: 0.40599504113197327 , Train AUC: 0.8787846357409714\n",
      "Test loss: 0.48600905388593674 , Test AUC: 0.8554807103490508\n",
      "\n"
     ]
    },
    {
     "data": {
      "text/plain": [
       "900"
      ]
     },
     "execution_count": 338,
     "metadata": {},
     "output_type": "execute_result"
    }
   ],
   "source": [
    "## make dataset object\n",
    "from torch.utils.data import Dataset\n",
    "\n",
    "class RushDataset(Dataset):\n",
    "    def __init__(self, sequences, sequence_length):\n",
    "        self.sequences = sequences\n",
    "        self.sequence_length = sequence_length\n",
    "    def __len__(self):\n",
    "        return len(self.sequences)\n",
    "    def __getitem__(self, idx):\n",
    "        sequence, label = self.sequences[idx]\n",
    "        label = int(label)\n",
    "        if sequence.shape[0] > self.sequence_length:\n",
    "            sequence = sequence.iloc[0:self.sequence_length]\n",
    "        if sequence.shape[0] < self.sequence_length:\n",
    "            # padding = pd.DataFrame(0, index=np.arange(self.sequence_length - sequence.shape[0]), columns=sequence.columns) zero pad does not work\n",
    "            padding = pd.DataFrame(sequence.iloc[-1:].copy())\n",
    "            num_padded = self.sequence_length - sequence.shape[0]\n",
    "            padding_rep = pd.DataFrame(np.repeat(padding.values, num_padded, axis=0)) \n",
    "            padding_rep.columns = sequence.columns\n",
    "            sequence = pd.concat([sequence, padding_rep])\n",
    "\n",
    "        label_tensor = torch.Tensor([label])[0].long()\n",
    "        data_tensor = torch.Tensor(sequence.values)\n",
    "            \n",
    "        return data_tensor, label_tensor\n",
    "    \n",
    "\n",
    "class SequenceModel(torch.nn.Module):\n",
    "    def __init__(self, n_features, n_classes, n_hidden, n_layers):\n",
    "        super().__init__()\n",
    "        self.n_features = n_features\n",
    "        self.n_classes = n_classes\n",
    "        self.n_hidden = n_hidden\n",
    "        self.n_layers = n_layers\n",
    "        self.ltsm = torch.nn.LSTM(input_size = n_features, hidden_size = n_hidden, num_layers = n_layers, batch_first = True)\n",
    "        self.classifier = torch.nn.Linear(n_hidden, n_classes)\n",
    "    def forward(self, x):\n",
    "        batch_size = x.shape[0]\n",
    "        _, (hidden, _) = self.ltsm(x)\n",
    "        out = hidden[-1]\n",
    "        return self.classifier(out)\n",
    "    def get_layer_probabilities(self, x):\n",
    "        unfolded_hiddens, (_, _) = self.ltsm(x)\n",
    "        unfolded_probs = []\n",
    "        for rush in unfolded_hiddens:\n",
    "            for time in rush:\n",
    "                time_output = self.classifier(time)\n",
    "                time_prob = torch.nn.functional.softmax(time_output, dim = 0).numpy().tolist()[1]\n",
    "                unfolded_probs.append(time_prob)\n",
    "        return unfolded_probs\n",
    "\n",
    "\n",
    "\n",
    "def train_model(data_loader, model, loss_function, optimizer):\n",
    "    num_batches = len(data_loader)\n",
    "    total_loss = 0\n",
    "    model.train()\n",
    "    \n",
    "    outputs = []\n",
    "    labels = []\n",
    "    i = 0\n",
    "    for X, y in data_loader:\n",
    "        i += 1\n",
    "        output = model(X)\n",
    "        outputs.extend([x[0] for x in output.detach().numpy().tolist()])\n",
    "        labels.extend(y.numpy())\n",
    "        loss = loss_function(output, y)\n",
    "\n",
    "        optimizer.zero_grad()\n",
    "        loss.backward()\n",
    "        optimizer.step()\n",
    "\n",
    "        total_loss += loss.item()\n",
    "    avg_loss = total_loss / num_batches\n",
    "    tpr, fpr, thresholds = sklearn.metrics.roc_curve(y_true = labels, y_score = outputs, pos_label = 1)\n",
    "    auc = sklearn.metrics.auc(fpr, tpr)\n",
    "    print(f\"Train loss: {avg_loss} , Train AUC: {auc}\")\n",
    "\n",
    "def test_model(data_loader, model, loss_function):\n",
    "    \n",
    "    num_batches = len(data_loader)\n",
    "    total_loss = 0\n",
    "\n",
    "    model.eval()\n",
    "    with torch.no_grad():\n",
    "        outputs = []\n",
    "        labels = []\n",
    "        for X, y in data_loader:\n",
    "            output = model(X)\n",
    "            outputs.extend([x[0] for x in output.detach().numpy().tolist()])\n",
    "            labels.extend(y.numpy())\n",
    "            total_loss += loss_function(output, y).item()\n",
    "    avg_loss = total_loss / num_batches\n",
    "    tpr, fpr, thresholds = sklearn.metrics.roc_curve(y_true = labels, y_score = outputs, pos_label = 1)\n",
    "    auc = sklearn.metrics.auc(fpr, tpr)\n",
    "    print(f\"Test loss: {avg_loss} , Test AUC: {auc}\")\n",
    "\n",
    "def train_rush_lstm(train_loader, test_loader, model, loss_function, optimizer, num_epochs = 10):\n",
    "    for ix_epoch in range(num_epochs):\n",
    "        print(f\"Epoch {ix_epoch}\\n---------\")\n",
    "        train_model(train_loader, model, loss_function, optimizer=optimizer)\n",
    "        test_model(test_loader, model, loss_function)\n",
    "        print()\n",
    "\n",
    "\n",
    "def predict(data_loader, model):\n",
    "    outputs = []\n",
    "    model.eval()\n",
    "    with torch.no_grad():\n",
    "        for X, _ in data_loader:\n",
    "            y_star = model.get_layer_probabilities(X)\n",
    "            outputs.append(y_star)\n",
    "    return outputs\n",
    "\n",
    "\n",
    "model = SequenceModel(n_features = training_dat[0][0].shape[1], n_classes = 2, n_hidden = 15, n_layers = 1)\n",
    "loss_function = torch.nn.CrossEntropyLoss()\n",
    "optimizer = torch.optim.Adam(model.parameters(), lr= 0.01)\n",
    "train_dataset = RushDataset(sequences = training_dat, sequence_length=30)\n",
    "train_loader = DataLoader(train_dataset, batch_size = 30, shuffle = True)\n",
    "test_dataset = RushDataset(sequences = test_dat, sequence_length=30)\n",
    "test_loader = DataLoader(test_dataset, batch_size = 30, shuffle = True)\n",
    "\n",
    "\n",
    "train_rush_lstm(train_loader = train_loader, test_loader = test_loader, num_epochs = 30, model = model, loss_function = loss_function, optimizer = optimizer)\n",
    "\n",
    "\n",
    "len(predict(test_loader, model)[0])\n"
   ]
  },
  {
   "cell_type": "code",
   "execution_count": 147,
   "metadata": {},
   "outputs": [
    {
     "ename": "TypeError",
     "evalue": "master_track.predict_play() got multiple values for argument 'mods'",
     "output_type": "error",
     "traceback": [
      "\u001b[0;31m---------------------------------------------------------------------------\u001b[0m",
      "\u001b[0;31mTypeError\u001b[0m                                 Traceback (most recent call last)",
      "\u001b[1;32m/Users/nickbachelder/Desktop/Kaggle/Linemen/code/clean/data_clean.ipynb Cell 10\u001b[0m in \u001b[0;36m<cell line: 1>\u001b[0;34m()\u001b[0m\n\u001b[0;32m----> <a href='vscode-notebook-cell:/Users/nickbachelder/Desktop/Kaggle/Linemen/code/clean/data_clean.ipynb#X11sZmlsZQ%3D%3D?line=0'>1</a>\u001b[0m all_data\u001b[39m.\u001b[39;49mpredict_play(mods \u001b[39m=\u001b[39;49m time_models_gb, play_id \u001b[39m=\u001b[39;49m \u001b[39m20210916002752\u001b[39;49m)\n",
      "\u001b[0;31mTypeError\u001b[0m: master_track.predict_play() got multiple values for argument 'mods'"
     ]
    }
   ],
   "source": [
    "def get_play_train(play_id, type = 'team', time_split = True):\n",
    "    if (type == 'individual') & (time_split == True):\n",
    "            print('Time split is only used for team level data. Changing time_split to False.')\n",
    "            time_split = False\n",
    "\n",
    "    get_play_week = all_data.search_track_weeks(variables = ['playId'], variable_values = [play_id]).week.tolist()[0]\n",
    "    if type == 'individual':\n",
    "        all_training = all_data.training_data_individual.get(str(get_play_week))\n",
    "    else:\n",
    "        all_training = all_data.training_data_team.get(str(get_play_week))\n",
    "    current_play = all_training.loc[(all_training.playId == play_id)]\n",
    "    if time_split == True:\n",
    "        current_play = current_play.drop(['playId'], axis = 1)\n",
    "        times_split_dict = {str(round(time, 1)) : current_play.loc[current_play.time_after_snap == time].drop(['time_after_snap', 'week'], axis = 1) for time in current_play.time_after_snap.unique()}\n",
    "        current_play = times_split_dict\n",
    "    return(current_play)\n",
    "\n",
    "def predict_play(mods, play_id):\n",
    "    data_predict = get_play_train(play_id, type = 'team', time_split = True)\n",
    "    predictions = []\n",
    "    for key in data_predict.keys():\n",
    "        if mods.get(str(key)) == None:\n",
    "            print('Not enough models trained to cover entire play length')\n",
    "            missing_len = round((max([float(x) for x in data_predict.keys()]) - (float(key) - 0.1)) / 0.1, 0)\n",
    "            missing_append = np.repeat(np.NaN, missing_len).tolist()\n",
    "            predictions = predictions + missing_append\n",
    "            break\n",
    "        mod_time = mods.get(str(key))\n",
    "        data_predict_time = data_predict.get(str(key))\n",
    "        data_predict_true_labels = [int(x) for x in data_predict_time.disrupt_team]\n",
    "        data_predict_data = data_predict_time.drop(['disrupt_team'], axis = 1)\n",
    "        predicted = mod_time.predict_proba(data_predict_data)[0][1]\n",
    "        predictions.append(predicted)\n",
    "    predictions_df = pd.DataFrame({'time_after_snap' : data_predict.keys(), 'predicted_prob' : predictions})\n",
    "    return(predictions_df)\n",
    "\n",
    "\n",
    "all_data.predict_play(mods = time_models_gb, play_id = 20210916002752)\n",
    "  "
   ]
  },
  {
   "cell_type": "code",
   "execution_count": 122,
   "metadata": {},
   "outputs": [
    {
     "data": {
      "text/plain": [
       "array([  202109190159,   202109190555,   202109190595,  2021091600111,\n",
       "        2021091600261,  2021091600280,  2021091600375,  2021091600498,\n",
       "        2021091600543,  2021091600590,  2021091600727,  2021091900241,\n",
       "        2021091900440,  2021091900571,  2021091900635,  2021091900940,\n",
       "        2021091901198,  2021091901602,  2021091901646,  2021091901771,\n",
       "        2021091902164,  2021091902434,  2021091902503,  2021091902985,\n",
       "        2021091903289,  2021091903522,  2021091903588,  2021091904174,\n",
       "        2021091904348,  2021091904420,  2021091904498,  2021091904594,\n",
       "        2021091904639,  2021091904912,  2021091905247,  2021091905350,\n",
       "        2021091905472,  2021091905515,  2021091905620,  2021091905876,\n",
       "        2021091905923,  2021091905945,  2021091906283,  2021091906342,\n",
       "        2021091906639,  2021091907360,  2021091907735,  2021091907757,\n",
       "        2021091907869,  2021091907919,  2021091908176,  2021091908217,\n",
       "        2021091908497,  2021091908552,  2021091908890,  2021091908985,\n",
       "        2021091909386,  2021091909569,  2021091909619,  2021091909641,\n",
       "        2021091910168,  2021091910508,  2021091910628,  2021091910848,\n",
       "        2021091911127,  2021091911202,  2021091911256,  2021091911367,\n",
       "        2021091911492,  2021091912110,  2021091912321,  2021091912465,\n",
       "        2021091912577,  2021091912673,  2021091912943,  2021091913523,\n",
       "        2021091913806,  2021091913865,  2021092000105,  2021092000354,\n",
       "        2021092000624,  2021092000817,  2021092000970, 20210916001117,\n",
       "       20210916001160, 20210916001233, 20210916001426, 20210916001516,\n",
       "       20210916001594, 20210916001991, 20210916002185, 20210916002298,\n",
       "       20210916002624, 20210916002678, 20210916002752, 20210916002873,\n",
       "       20210916002966, 20210916003001, 20210916003085, 20210916003185,\n",
       "       20210916003204, 20210916003392, 20210916003440, 20210916003654,\n",
       "       20210916003905, 20210916004300, 20210919001155, 20210919001179,\n",
       "       20210919001224, 20210919001459, 20210919001621, 20210919001735,\n",
       "       20210919001757, 20210919001779, 20210919001850, 20210919002019,\n",
       "       20210919002098, 20210919002284, 20210919002412, 20210919002467,\n",
       "       20210919002720, 20210919002784, 20210919003006, 20210919003073,\n",
       "       20210919003310, 20210919003562, 20210919003584, 20210919003603,\n",
       "       20210919003776, 20210919003800, 20210919011059, 20210919011385,\n",
       "       20210919011796, 20210919011856, 20210919011987, 20210919012113,\n",
       "       20210919012154, 20210919012240, 20210919012262, 20210919012281,\n",
       "       20210919012509, 20210919012585, 20210919013291, 20210919013441,\n",
       "       20210919013691, 20210919013811, 20210919021029, 20210919021263,\n",
       "       20210919021751, 20210919022264, 20210919022492, 20210919022678,\n",
       "       20210919022795, 20210919022898, 20210919022965, 20210919023710,\n",
       "       20210919023761, 20210919023783, 20210919023820, 20210919023852,\n",
       "       20210919031199, 20210919031266, 20210919031404, 20210919031426,\n",
       "       20210919031494, 20210919031568, 20210919031898, 20210919031920,\n",
       "       20210919032050, 20210919032276, 20210919032368, 20210919032449,\n",
       "       20210919032509, 20210919032531, 20210919032552, 20210919033086,\n",
       "       20210919033233, 20210919033501, 20210919041058, 20210919041136,\n",
       "       20210919041379, 20210919041535, 20210919041733, 20210919041898,\n",
       "       20210919041940, 20210919042030, 20210919042216, 20210919042261,\n",
       "       20210919042299, 20210919042339, 20210919042865, 20210919042887,\n",
       "       20210919043071, 20210919043336, 20210919043533, 20210919051123,\n",
       "       20210919051189, 20210919051213, 20210919051235, 20210919051367,\n",
       "       20210919051452, 20210919051568, 20210919051730, 20210919051767,\n",
       "       20210919051791, 20210919051832, 20210919051867, 20210919051889,\n",
       "       20210919051910, 20210919051956, 20210919052261, 20210919052324,\n",
       "       20210919052486, 20210919052543, 20210919052598, 20210919052690,\n",
       "       20210919052958, 20210919053002, 20210919053049, 20210919053098,\n",
       "       20210919053146, 20210919053168, 20210919053525, 20210919053553,\n",
       "       20210919053572, 20210919053730, 20210919053779, 20210919054000,\n",
       "       20210919054151, 20210919054203, 20210919061100, 20210919061153,\n",
       "       20210919061492, 20210919061710, 20210919061761, 20210919061911,\n",
       "       20210919061956, 20210919062272, 20210919062427, 20210919062473,\n",
       "       20210919062671, 20210919062819, 20210919062876, 20210919062909,\n",
       "       20210919062979, 20210919063050, 20210919063134, 20210919063156,\n",
       "       20210919063293, 20210919063336, 20210919063500, 20210919063568,\n",
       "       20210919063836, 20210919063858, 20210919063877, 20210919063906,\n",
       "       20210919071438, 20210919071540, 20210919072086, 20210919072115,\n",
       "       20210919072273, 20210919072334, 20210919072572, 20210919072594,\n",
       "       20210919072890, 20210919073202, 20210919073224, 20210919073245,\n",
       "       20210919073627, 20210919073653, 20210919081520, 20210919081554,\n",
       "       20210919081686, 20210919081991, 20210919082060, 20210919082240,\n",
       "       20210919082308, 20210919082356, 20210919082420, 20210919082444,\n",
       "       20210919082531, 20210919082665, 20210919082932, 20210919083110,\n",
       "       20210919083229, 20210919083511, 20210919091243, 20210919091325,\n",
       "       20210919091351, 20210919091441, 20210919091797, 20210919092847,\n",
       "       20210919092938, 20210919093017, 20210919093299, 20210919093433,\n",
       "       20210919093589, 20210919093613, 20210919093635, 20210919093934,\n",
       "       20210919094127, 20210919101173, 20210919101290, 20210919101312,\n",
       "       20210919101552, 20210919101621, 20210919101695, 20210919101799,\n",
       "       20210919102033, 20210919102125, 20210919102158, 20210919102661,\n",
       "       20210919102683, 20210919102781, 20210919102907, 20210919103049,\n",
       "       20210919103094, 20210919103129, 20210919103365, 20210919103564,\n",
       "       20210919103672, 20210919103804, 20210919103828, 20210919103871,\n",
       "       20210919104078, 20210919104138, 20210919111021, 20210919111143,\n",
       "       20210919111171, 20210919111323, 20210919111499, 20210919111544,\n",
       "       20210919111647, 20210919111794, 20210919111818, 20210919111924,\n",
       "       20210919111972, 20210919111998, 20210919112062, 20210919112558,\n",
       "       20210919112749, 20210919112842, 20210919112944, 20210919113323,\n",
       "       20210919113390, 20210919113629, 20210919113729, 20210919121025,\n",
       "       20210919121218, 20210919121282, 20210919121327, 20210919121411,\n",
       "       20210919121642, 20210919121746, 20210919122015, 20210919122333,\n",
       "       20210919122943, 20210919123261, 20210919123497, 20210919123516,\n",
       "       20210919123540, 20210919123597, 20210919123929, 20210919124167,\n",
       "       20210919124380, 20210919124574, 20210919131220, 20210919131352,\n",
       "       20210919131399, 20210919131866, 20210919132412, 20210919132615,\n",
       "       20210919132698, 20210919132775, 20210919132933, 20210919133139,\n",
       "       20210919133364, 20210919133428, 20210920001923, 20210920002119,\n",
       "       20210920002248, 20210920002294, 20210920002437, 20210920002531,\n",
       "       20210920002959, 20210920003054, 20210920003203, 20210920003294,\n",
       "       20210920003365, 20210920003391, 20210920003498, 20210920003546,\n",
       "       20210920003669, 20210920003710, 20210920003759])"
      ]
     },
     "execution_count": 122,
     "metadata": {},
     "output_type": "execute_result"
    }
   ],
   "source": [
    "all_data.training_data_team.get('2')[all_data.training_data_team.get('2').disrupt_team == True].playId.unique()"
   ]
  },
  {
   "cell_type": "code",
   "execution_count": null,
   "metadata": {},
   "outputs": [],
   "source": []
  },
  {
   "cell_type": "code",
   "execution_count": null,
   "metadata": {},
   "outputs": [],
   "source": []
  },
  {
   "cell_type": "code",
   "execution_count": 1335,
   "metadata": {},
   "outputs": [
    {
     "name": "stdout",
     "output_type": "stream",
     "text": [
      "Percent of player play disruptions: 0.022958343514613237\n",
      "Percent of team play disruptions: 0.37583265163024426\n"
     ]
    }
   ],
   "source": [
    "play_dets = all_data.play_details_df\n",
    "play_dets['disrupt'] = play_dets.pff_hit + play_dets.pff_hurry + play_dets.pff_sack\n",
    "print( f'Percent of player play disruptions: {play_dets.disrupt.sum() / len(play_dets.disrupt)}')\n",
    "team_dets = play_dets.groupby('playId').agg({'disrupt' : [sum]})\n",
    "team_dets.columns = [\"_\".join(x) for x in np.array(team_dets.columns).ravel()]\n",
    "team_dets = team_dets.reset_index()\n",
    "print( f'Percent of team play disruptions: {len(team_dets.loc[team_dets.disrupt_sum > 0]) / len(team_dets)}')"
   ]
  },
  {
   "cell_type": "code",
   "execution_count": null,
   "metadata": {},
   "outputs": [],
   "source": []
  },
  {
   "cell_type": "code",
   "execution_count": null,
   "metadata": {},
   "outputs": [],
   "source": [
    "# sack / hurry / hit are dependent on both pass coverage and lineman and we only care about linemen. \n",
    "# Instead of using sack / hit /hurry, use P(Sack, Hurry, Hit @ time t) given conditions for team\n",
    "# to evaluate players, need some sort of metric for 'contribution to P(Sack, Hurry, Hit @ time t) on play'\n",
    "# to do so try to do  or sommin    [ P(Sack, Hurry, Hit @ time t replacing player with rusher average) / P(Sack, Hurry, Hit @ time t) ] - P(Sack, Hurry, Hit @ time t)\n",
    "\n",
    "\n",
    "\n",
    "\n",
    "# new idea: since there is no team level time of sack\n",
    "# find model that we can track each player prob of hit/hurry/sack \n",
    "# each player route will have a prob of sack at time t. \n",
    "# to compare use average route stats in similar situation: note may have to import more data (ie. play type etc)\n",
    "\n",
    "\n",
    "# also: need to create qb_metric for 'facing rusher' "
   ]
  },
  {
   "cell_type": "code",
   "execution_count": null,
   "metadata": {},
   "outputs": [],
   "source": [
    "\n",
    "\n"
   ]
  },
  {
   "cell_type": "code",
   "execution_count": null,
   "metadata": {},
   "outputs": [],
   "source": [
    "train_week_1 = all_data.training_data_team.get('2')\n",
    "\n",
    "\n",
    "\n",
    "px.line(train_week_1, x='time_after_snap', y=\"rusher_distance_from_qb_min\", color=\"disrupt_team\")"
   ]
  },
  {
   "cell_type": "code",
   "execution_count": null,
   "metadata": {},
   "outputs": [],
   "source": [
    "\n"
   ]
  },
  {
   "cell_type": "code",
   "execution_count": null,
   "metadata": {},
   "outputs": [],
   "source": [
    "\n",
    "\n",
    "\n",
    "\n",
    "\n",
    "\n",
    "\n",
    "\n",
    "\n",
    "\n",
    "\n",
    "\n",
    "\n"
   ]
  },
  {
   "cell_type": "code",
   "execution_count": null,
   "metadata": {},
   "outputs": [],
   "source": [
    "# code for plotting movement\n",
    "\n",
    "player_ids = all_data.search_track_weeks(variables = [\"playId\"], variable_values = [20210913004845]).reset_index(drop = True).nflId.unique()\n",
    "player_ids = np.intersect1d(player_ids, all_data.all_linemen)\n",
    "full_play_info = pd.DataFrame()\n",
    "for player_id in player_ids:\n",
    "    player_df = all_data.get_player_play(player_id, 20210913004845)\n",
    "    full_play_info = pd.concat([full_play_info, player_df])\n",
    "full_play_blockers = full_play_info.loc[full_play_info.Block_or_Rush == \"Block\"]\n",
    "full_play_rushers = full_play_info.loc[full_play_info.Block_or_Rush == \"Rush\"]\n",
    "\n",
    "n_frame = len(full_play_rushers.frameId.unique())\n",
    "n_player_rush = len(full_play_rushers.nflId.unique())\n",
    "n_player_block = len(full_play_blockers.nflId.unique())\n",
    "\n",
    "motion_rush = np.empty(shape = (n_frame,3,n_player_rush))\n",
    "motion_block = np.empty(shape = (n_frame,3,n_player_block))\n",
    "for frame in range(n_frame):\n",
    "    this_frame_rush = full_play_rushers.loc[full_play_rushers.frameId == frame + 1].copy()\n",
    "    x_this_frame_rush, y_this_frame_rush, color_this_frame_rush = this_frame_rush.x.values.tolist(), this_frame_rush.y.values.tolist(), this_frame_rush.x.values.tolist()\n",
    "    motion_rush[frame, :, :] = [x_this_frame_rush, y_this_frame_rush, color_this_frame_rush]\n",
    "    \n",
    "    this_frame_block = full_play_blockers.loc[full_play_blockers.frameId == frame + 1].copy()\n",
    "    x_this_frame_block, y_this_frame_block, color_this_frame_block = this_frame_block.x.values.tolist(), this_frame_block.y.values.tolist(), this_frame_block.x.values.tolist()\n",
    "    motion_block[frame, :, :] = [x_this_frame_block, y_this_frame_block, color_this_frame_block]"
   ]
  },
  {
   "cell_type": "code",
   "execution_count": 1096,
   "metadata": {},
   "outputs": [],
   "source": [
    "range_x = [min(motion_rush[0,0,:]) - 3, max(motion_rush[0,0,:]) + 20]\n",
    "range_y = [min(motion_rush[0,1,:]) - 5, max(motion_rush[0,1,:]) + 5]\n",
    "color_min, color_max = np.amin(motion_rush[:,2,:]), np.amax(motion_rush[:,2,:])\n",
    "start_frame = [go.Scatter(x=motion_rush[0,0,:], y = motion_rush[0,1,:], \n",
    "                            mode = \"markers\", \n",
    "                            name = \"Rushers\",\n",
    "                            legendgroup = \"Rushers\",\n",
    "                            marker = dict(size=16,color=motion_rush[0,2,:],colorscale='Greens',showscale=True, cmin=color_min, cmax = color_max)),\n",
    "               go.Scatter(x=motion_block[0,0,:], y = motion_block[0,1,:], \n",
    "                            mode = \"markers\", \n",
    "                            name = \"Blockers\",\n",
    "                            legendgroup = \"Blockers\",\n",
    "                            marker = dict(size=16,color=motion_block[0,2,:],colorscale='Greens', showscale=True, cmin=color_min, cmax = color_max),\n",
    "                            marker_symbol = \"x\"  )]\n",
    "\n",
    "all_frame = [   go.Frame(data = [go.Scatter(x=vec[0][0], y = vec[0][1], \n",
    "                                            mode = \"markers\", \n",
    "                                            name = \"Rushers\",\n",
    "                                            legendgroup = \"Rushers\",\n",
    "                                            marker = dict(size=16,color=vec[0][2] ) ),\n",
    "                                 go.Scatter(x=vec[1][0], y = vec[1][1], \n",
    "                                            mode = \"markers\", \n",
    "                                            name = \"Blockers\",\n",
    "                                            legendgroup = \"Blockers\",\n",
    "                                            marker = dict(size=16,color=vec[1][2]),\n",
    "                                            marker_symbol = \"x\" ) ]) \n",
    "            for vec in zip(motion_rush[1:,:,:], motion_block[1:,:,:])  ]\n",
    "layout_draw = go.Layout(\n",
    "        xaxis=dict(range=range_x, autorange=False),\n",
    "        yaxis=dict(range=range_y, autorange=False),\n",
    "        title= f'Play {play_id}',\n",
    "        updatemenus=[dict(type=\"buttons\",\n",
    "                        buttons=[dict(label=\"Play\",\n",
    "                                    method=\"animate\",\n",
    "                                    args=[None, {\"frame\": {\"duration\": 100, \"redraw\": False}, \"fromcurrent\": True, \"transition\": {\"duration\": 0}}])])]\n",
    "    )\n"
   ]
  },
  {
   "cell_type": "code",
   "execution_count": 1363,
   "metadata": {},
   "outputs": [
    {
     "data": {
      "application/vnd.plotly.v1+json": {
       "config": {
        "plotlyServerURL": "https://plot.ly"
       },
       "data": [
        {
         "legendgroup": "Rushers",
         "marker": {
          "cmax": 50.39,
          "cmin": 39.48,
          "color": [
           39.86,
           39.97,
           39.64,
           39.49
          ],
          "colorscale": [
           [
            0,
            "rgb(247,252,245)"
           ],
           [
            0.125,
            "rgb(229,245,224)"
           ],
           [
            0.25,
            "rgb(199,233,192)"
           ],
           [
            0.375,
            "rgb(161,217,155)"
           ],
           [
            0.5,
            "rgb(116,196,118)"
           ],
           [
            0.625,
            "rgb(65,171,93)"
           ],
           [
            0.75,
            "rgb(35,139,69)"
           ],
           [
            0.875,
            "rgb(0,109,44)"
           ],
           [
            1,
            "rgb(0,68,27)"
           ]
          ],
          "showscale": true,
          "size": 16
         },
         "mode": "markers",
         "name": "Rushers",
         "type": "scatter",
         "x": [
          39.86,
          39.97,
          39.64,
          39.49
         ],
         "y": [
          18.61,
          24.26,
          14.02,
          27.84
         ]
        },
        {
         "legendgroup": "Blockers",
         "marker": {
          "cmax": 50.39,
          "cmin": 39.48,
          "color": [
           41.56,
           41.78,
           41.08,
           41.82,
           41.49
          ],
          "colorscale": [
           [
            0,
            "rgb(247,252,245)"
           ],
           [
            0.125,
            "rgb(229,245,224)"
           ],
           [
            0.25,
            "rgb(199,233,192)"
           ],
           [
            0.375,
            "rgb(161,217,155)"
           ],
           [
            0.5,
            "rgb(116,196,118)"
           ],
           [
            0.625,
            "rgb(65,171,93)"
           ],
           [
            0.75,
            "rgb(35,139,69)"
           ],
           [
            0.875,
            "rgb(0,109,44)"
           ],
           [
            1,
            "rgb(0,68,27)"
           ]
          ],
          "showscale": true,
          "size": 16,
          "symbol": "x"
         },
         "mode": "markers",
         "name": "Blockers",
         "type": "scatter",
         "x": [
          41.56,
          41.78,
          41.08,
          41.82,
          41.49
         ],
         "y": [
          25.49,
          20.66,
          23.78,
          22.29,
          27.14
         ]
        }
       ],
       "frames": [
        {
         "data": [
          {
           "legendgroup": "Rushers",
           "marker": {
            "color": [
             39.85,
             39.97,
             39.65,
             39.49
            ],
            "size": 16
           },
           "mode": "markers",
           "name": "Rushers",
           "type": "scatter",
           "x": [
            39.85,
            39.97,
            39.65,
            39.49
           ],
           "y": [
            18.62,
            24.26,
            14.03,
            27.83
           ]
          },
          {
           "legendgroup": "Blockers",
           "marker": {
            "color": [
             41.56,
             41.78,
             41.08,
             41.82,
             41.49
            ],
            "size": 16,
            "symbol": "x"
           },
           "mode": "markers",
           "name": "Blockers",
           "type": "scatter",
           "x": [
            41.56,
            41.78,
            41.08,
            41.82,
            41.49
           ],
           "y": [
            25.49,
            20.66,
            23.78,
            22.29,
            27.14
           ]
          }
         ]
        },
        {
         "data": [
          {
           "legendgroup": "Rushers",
           "marker": {
            "color": [
             39.85,
             39.98,
             39.67,
             39.48
            ],
            "size": 16
           },
           "mode": "markers",
           "name": "Rushers",
           "type": "scatter",
           "x": [
            39.85,
            39.98,
            39.67,
            39.48
           ],
           "y": [
            18.62,
            24.26,
            14,
            27.83
           ]
          },
          {
           "legendgroup": "Blockers",
           "marker": {
            "color": [
             41.56,
             41.78,
             41.08,
             41.82,
             41.49
            ],
            "size": 16,
            "symbol": "x"
           },
           "mode": "markers",
           "name": "Blockers",
           "type": "scatter",
           "x": [
            41.56,
            41.78,
            41.08,
            41.82,
            41.49
           ],
           "y": [
            25.49,
            20.66,
            23.78,
            22.29,
            27.14
           ]
          }
         ]
        },
        {
         "data": [
          {
           "legendgroup": "Rushers",
           "marker": {
            "color": [
             39.85,
             39.99,
             39.68,
             39.49
            ],
            "size": 16
           },
           "mode": "markers",
           "name": "Rushers",
           "type": "scatter",
           "x": [
            39.85,
            39.99,
            39.68,
            39.49
           ],
           "y": [
            18.62,
            24.27,
            14.01,
            27.84
           ]
          },
          {
           "legendgroup": "Blockers",
           "marker": {
            "color": [
             41.56,
             41.78,
             41.09,
             41.82,
             41.48
            ],
            "size": 16,
            "symbol": "x"
           },
           "mode": "markers",
           "name": "Blockers",
           "type": "scatter",
           "x": [
            41.56,
            41.78,
            41.09,
            41.82,
            41.48
           ],
           "y": [
            25.47,
            20.66,
            23.79,
            22.29,
            27.14
           ]
          }
         ]
        },
        {
         "data": [
          {
           "legendgroup": "Rushers",
           "marker": {
            "color": [
             39.86,
             39.99,
             39.7,
             39.5
            ],
            "size": 16
           },
           "mode": "markers",
           "name": "Rushers",
           "type": "scatter",
           "x": [
            39.86,
            39.99,
            39.7,
            39.5
           ],
           "y": [
            18.63,
            24.27,
            14.03,
            27.83
           ]
          },
          {
           "legendgroup": "Blockers",
           "marker": {
            "color": [
             41.57,
             41.79,
             41.1,
             41.83,
             41.48
            ],
            "size": 16,
            "symbol": "x"
           },
           "mode": "markers",
           "name": "Blockers",
           "type": "scatter",
           "x": [
            41.57,
            41.79,
            41.1,
            41.83,
            41.48
           ],
           "y": [
            25.45,
            20.66,
            23.79,
            22.29,
            27.14
           ]
          }
         ]
        },
        {
         "data": [
          {
           "legendgroup": "Rushers",
           "marker": {
            "color": [
             39.87,
             40.02,
             39.72,
             39.51
            ],
            "size": 16
           },
           "mode": "markers",
           "name": "Rushers",
           "type": "scatter",
           "x": [
            39.87,
            40.02,
            39.72,
            39.51
           ],
           "y": [
            18.64,
            24.28,
            14.03,
            27.82
           ]
          },
          {
           "legendgroup": "Blockers",
           "marker": {
            "color": [
             41.58,
             41.8,
             41.13,
             41.83,
             41.48
            ],
            "size": 16,
            "symbol": "x"
           },
           "mode": "markers",
           "name": "Blockers",
           "type": "scatter",
           "x": [
            41.58,
            41.8,
            41.13,
            41.83,
            41.48
           ],
           "y": [
            25.41,
            20.66,
            23.79,
            22.29,
            27.14
           ]
          }
         ]
        },
        {
         "data": [
          {
           "legendgroup": "Rushers",
           "marker": {
            "color": [
             39.9,
             40.06,
             39.74,
             39.53
            ],
            "size": 16
           },
           "mode": "markers",
           "name": "Rushers",
           "type": "scatter",
           "x": [
            39.9,
            40.06,
            39.74,
            39.53
           ],
           "y": [
            18.66,
            24.29,
            14.04,
            27.81
           ]
          },
          {
           "legendgroup": "Blockers",
           "marker": {
            "color": [
             41.59,
             41.83,
             41.17,
             41.85,
             41.49
            ],
            "size": 16,
            "symbol": "x"
           },
           "mode": "markers",
           "name": "Blockers",
           "type": "scatter",
           "x": [
            41.59,
            41.83,
            41.17,
            41.85,
            41.49
           ],
           "y": [
            25.35,
            20.64,
            23.79,
            22.28,
            27.14
           ]
          }
         ]
        },
        {
         "data": [
          {
           "legendgroup": "Rushers",
           "marker": {
            "color": [
             39.96,
             40.13,
             39.78,
             39.56
            ],
            "size": 16
           },
           "mode": "markers",
           "name": "Rushers",
           "type": "scatter",
           "x": [
            39.96,
            40.13,
            39.78,
            39.56
           ],
           "y": [
            18.7,
            24.3,
            14.05,
            27.78
           ]
          },
          {
           "legendgroup": "Blockers",
           "marker": {
            "color": [
             41.6,
             41.89,
             41.24,
             41.89,
             41.49
            ],
            "size": 16,
            "symbol": "x"
           },
           "mode": "markers",
           "name": "Blockers",
           "type": "scatter",
           "x": [
            41.6,
            41.89,
            41.24,
            41.89,
            41.49
           ],
           "y": [
            25.29,
            20.63,
            23.77,
            22.27,
            27.13
           ]
          }
         ]
        },
        {
         "data": [
          {
           "legendgroup": "Rushers",
           "marker": {
            "color": [
             40.05,
             40.26,
             39.83,
             39.63
            ],
            "size": 16
           },
           "mode": "markers",
           "name": "Rushers",
           "type": "scatter",
           "x": [
            40.05,
            40.26,
            39.83,
            39.63
           ],
           "y": [
            18.76,
            24.32,
            14.08,
            27.72
           ]
          },
          {
           "legendgroup": "Blockers",
           "marker": {
            "color": [
             41.64,
             41.98,
             41.31,
             41.94,
             41.5
            ],
            "size": 16,
            "symbol": "x"
           },
           "mode": "markers",
           "name": "Blockers",
           "type": "scatter",
           "x": [
            41.64,
            41.98,
            41.31,
            41.94,
            41.5
           ],
           "y": [
            25.21,
            20.61,
            23.76,
            22.26,
            27.12
           ]
          }
         ]
        },
        {
         "data": [
          {
           "legendgroup": "Rushers",
           "marker": {
            "color": [
             40.18,
             40.42,
             39.9,
             39.73
            ],
            "size": 16
           },
           "mode": "markers",
           "name": "Rushers",
           "type": "scatter",
           "x": [
            40.18,
            40.42,
            39.9,
            39.73
           ],
           "y": [
            18.85,
            24.34,
            14.12,
            27.61
           ]
          },
          {
           "legendgroup": "Blockers",
           "marker": {
            "color": [
             41.69,
             42.09,
             41.41,
             42.03,
             41.51
            ],
            "size": 16,
            "symbol": "x"
           },
           "mode": "markers",
           "name": "Blockers",
           "type": "scatter",
           "x": [
            41.69,
            42.09,
            41.41,
            42.03,
            41.51
           ],
           "y": [
            25.13,
            20.58,
            23.74,
            22.24,
            27.09
           ]
          }
         ]
        },
        {
         "data": [
          {
           "legendgroup": "Rushers",
           "marker": {
            "color": [
             40.34,
             40.6,
             40.02,
             39.87
            ],
            "size": 16
           },
           "mode": "markers",
           "name": "Rushers",
           "type": "scatter",
           "x": [
            40.34,
            40.6,
            40.02,
            39.87
           ],
           "y": [
            18.97,
            24.37,
            14.19,
            27.49
           ]
          },
          {
           "legendgroup": "Blockers",
           "marker": {
            "color": [
             41.76,
             42.22,
             41.53,
             42.12,
             41.53
            ],
            "size": 16,
            "symbol": "x"
           },
           "mode": "markers",
           "name": "Blockers",
           "type": "scatter",
           "x": [
            41.76,
            42.22,
            41.53,
            42.12,
            41.53
           ],
           "y": [
            25.05,
            20.57,
            23.71,
            22.22,
            27.05
           ]
          }
         ]
        },
        {
         "data": [
          {
           "legendgroup": "Rushers",
           "marker": {
            "color": [
             40.54,
             40.8,
             40.17,
             40.05
            ],
            "size": 16
           },
           "mode": "markers",
           "name": "Rushers",
           "type": "scatter",
           "x": [
            40.54,
            40.8,
            40.17,
            40.05
           ],
           "y": [
            19.13,
            24.39,
            14.3,
            27.32
           ]
          },
          {
           "legendgroup": "Blockers",
           "marker": {
            "color": [
             41.86,
             42.35,
             41.67,
             42.25,
             41.55
            ],
            "size": 16,
            "symbol": "x"
           },
           "mode": "markers",
           "name": "Blockers",
           "type": "scatter",
           "x": [
            41.86,
            42.35,
            41.67,
            42.25,
            41.55
           ],
           "y": [
            24.98,
            20.56,
            23.67,
            22.2,
            27
           ]
          }
         ]
        },
        {
         "data": [
          {
           "legendgroup": "Rushers",
           "marker": {
            "color": [
             40.75,
             41.04,
             40.37,
             40.25
            ],
            "size": 16
           },
           "mode": "markers",
           "name": "Rushers",
           "type": "scatter",
           "x": [
            40.75,
            41.04,
            40.37,
            40.25
           ],
           "y": [
            19.31,
            24.41,
            14.44,
            27.13
           ]
          },
          {
           "legendgroup": "Blockers",
           "marker": {
            "color": [
             41.96,
             42.48,
             41.81,
             42.39,
             41.58
            ],
            "size": 16,
            "symbol": "x"
           },
           "mode": "markers",
           "name": "Blockers",
           "type": "scatter",
           "x": [
            41.96,
            42.48,
            41.81,
            42.39,
            41.58
           ],
           "y": [
            24.91,
            20.56,
            23.63,
            22.19,
            26.93
           ]
          }
         ]
        },
        {
         "data": [
          {
           "legendgroup": "Rushers",
           "marker": {
            "color": [
             40.99,
             41.28,
             40.62,
             40.47
            ],
            "size": 16
           },
           "mode": "markers",
           "name": "Rushers",
           "type": "scatter",
           "x": [
            40.99,
            41.28,
            40.62,
            40.47
           ],
           "y": [
            19.53,
            24.43,
            14.62,
            26.9
           ]
          },
          {
           "legendgroup": "Blockers",
           "marker": {
            "color": [
             42.1,
             42.61,
             41.96,
             42.53,
             41.63
            ],
            "size": 16,
            "symbol": "x"
           },
           "mode": "markers",
           "name": "Blockers",
           "type": "scatter",
           "x": [
            42.1,
            42.61,
            41.96,
            42.53,
            41.63
           ],
           "y": [
            24.83,
            20.56,
            23.59,
            22.17,
            26.85
           ]
          }
         ]
        },
        {
         "data": [
          {
           "legendgroup": "Rushers",
           "marker": {
            "color": [
             41.23,
             41.53,
             40.91,
             40.71
            ],
            "size": 16
           },
           "mode": "markers",
           "name": "Rushers",
           "type": "scatter",
           "x": [
            41.23,
            41.53,
            40.91,
            40.71
           ],
           "y": [
            19.78,
            24.44,
            14.83,
            26.65
           ]
          },
          {
           "legendgroup": "Blockers",
           "marker": {
            "color": [
             42.22,
             42.73,
             42.13,
             42.69,
             41.68
            ],
            "size": 16,
            "symbol": "x"
           },
           "mode": "markers",
           "name": "Blockers",
           "type": "scatter",
           "x": [
            42.22,
            42.73,
            42.13,
            42.69,
            41.68
           ],
           "y": [
            24.75,
            20.59,
            23.55,
            22.15,
            26.75
           ]
          }
         ]
        },
        {
         "data": [
          {
           "legendgroup": "Rushers",
           "marker": {
            "color": [
             41.48,
             41.78,
             41.24,
             40.96
            ],
            "size": 16
           },
           "mode": "markers",
           "name": "Rushers",
           "type": "scatter",
           "x": [
            41.48,
            41.78,
            41.24,
            40.96
           ],
           "y": [
            20.05,
            24.45,
            15.08,
            26.38
           ]
          },
          {
           "legendgroup": "Blockers",
           "marker": {
            "color": [
             42.37,
             42.86,
             42.3,
             42.85,
             41.74
            ],
            "size": 16,
            "symbol": "x"
           },
           "mode": "markers",
           "name": "Blockers",
           "type": "scatter",
           "x": [
            42.37,
            42.86,
            42.3,
            42.85,
            41.74
           ],
           "y": [
            24.68,
            20.63,
            23.5,
            22.13,
            26.64
           ]
          }
         ]
        },
        {
         "data": [
          {
           "legendgroup": "Rushers",
           "marker": {
            "color": [
             41.73,
             42.04,
             41.61,
             41.21
            ],
            "size": 16
           },
           "mode": "markers",
           "name": "Rushers",
           "type": "scatter",
           "x": [
            41.73,
            42.04,
            41.61,
            41.21
           ],
           "y": [
            20.34,
            24.46,
            15.35,
            26.08
           ]
          },
          {
           "legendgroup": "Blockers",
           "marker": {
            "color": [
             42.54,
             43,
             42.48,
             43,
             41.85
            ],
            "size": 16,
            "symbol": "x"
           },
           "mode": "markers",
           "name": "Blockers",
           "type": "scatter",
           "x": [
            42.54,
            43,
            42.48,
            43,
            41.85
           ],
           "y": [
            24.61,
            20.67,
            23.45,
            22.11,
            26.5
           ]
          }
         ]
        },
        {
         "data": [
          {
           "legendgroup": "Rushers",
           "marker": {
            "color": [
             41.97,
             42.28,
             42.01,
             41.45
            ],
            "size": 16
           },
           "mode": "markers",
           "name": "Rushers",
           "type": "scatter",
           "x": [
            41.97,
            42.28,
            42.01,
            41.45
           ],
           "y": [
            20.64,
            24.48,
            15.64,
            25.77
           ]
          },
          {
           "legendgroup": "Blockers",
           "marker": {
            "color": [
             42.74,
             43.14,
             42.67,
             43.15,
             41.96
            ],
            "size": 16,
            "symbol": "x"
           },
           "mode": "markers",
           "name": "Blockers",
           "type": "scatter",
           "x": [
            42.74,
            43.14,
            42.67,
            43.15,
            41.96
           ],
           "y": [
            24.54,
            20.72,
            23.39,
            22.09,
            26.35
           ]
          }
         ]
        },
        {
         "data": [
          {
           "legendgroup": "Rushers",
           "marker": {
            "color": [
             42.19,
             42.53,
             42.45,
             41.69
            ],
            "size": 16
           },
           "mode": "markers",
           "name": "Rushers",
           "type": "scatter",
           "x": [
            42.19,
            42.53,
            42.45,
            41.69
           ],
           "y": [
            20.96,
            24.51,
            15.98,
            25.46
           ]
          },
          {
           "legendgroup": "Blockers",
           "marker": {
            "color": [
             42.94,
             43.31,
             42.87,
             43.32,
             42.1
            ],
            "size": 16,
            "symbol": "x"
           },
           "mode": "markers",
           "name": "Blockers",
           "type": "scatter",
           "x": [
            42.94,
            43.31,
            42.87,
            43.32,
            42.1
           ],
           "y": [
            24.49,
            20.78,
            23.35,
            22.08,
            26.19
           ]
          }
         ]
        },
        {
         "data": [
          {
           "legendgroup": "Rushers",
           "marker": {
            "color": [
             42.42,
             42.79,
             42.92,
             41.91
            ],
            "size": 16
           },
           "mode": "markers",
           "name": "Rushers",
           "type": "scatter",
           "x": [
            42.42,
            42.79,
            42.92,
            41.91
           ],
           "y": [
            21.27,
            24.54,
            16.33,
            25.14
           ]
          },
          {
           "legendgroup": "Blockers",
           "marker": {
            "color": [
             43.14,
             43.5,
             43.07,
             43.47,
             42.24
            ],
            "size": 16,
            "symbol": "x"
           },
           "mode": "markers",
           "name": "Blockers",
           "type": "scatter",
           "x": [
            43.14,
            43.5,
            43.07,
            43.47,
            42.24
           ],
           "y": [
            24.45,
            20.82,
            23.31,
            22.07,
            26.02
           ]
          }
         ]
        },
        {
         "data": [
          {
           "legendgroup": "Rushers",
           "marker": {
            "color": [
             42.63,
             43.03,
             43.41,
             42.14
            ],
            "size": 16
           },
           "mode": "markers",
           "name": "Rushers",
           "type": "scatter",
           "x": [
            42.63,
            43.03,
            43.41,
            42.14
           ],
           "y": [
            21.59,
            24.57,
            16.69,
            24.83
           ]
          },
          {
           "legendgroup": "Blockers",
           "marker": {
            "color": [
             43.35,
             43.7,
             43.27,
             43.65,
             42.39
            ],
            "size": 16,
            "symbol": "x"
           },
           "mode": "markers",
           "name": "Blockers",
           "type": "scatter",
           "x": [
            43.35,
            43.7,
            43.27,
            43.65,
            42.39
           ],
           "y": [
            24.42,
            20.87,
            23.28,
            22.07,
            25.85
           ]
          }
         ]
        },
        {
         "data": [
          {
           "legendgroup": "Rushers",
           "marker": {
            "color": [
             42.84,
             43.28,
             43.94,
             42.35
            ],
            "size": 16
           },
           "mode": "markers",
           "name": "Rushers",
           "type": "scatter",
           "x": [
            42.84,
            43.28,
            43.94,
            42.35
           ],
           "y": [
            21.89,
            24.61,
            17.06,
            24.53
           ]
          },
          {
           "legendgroup": "Blockers",
           "marker": {
            "color": [
             43.54,
             43.96,
             43.48,
             43.82,
             42.57
            ],
            "size": 16,
            "symbol": "x"
           },
           "mode": "markers",
           "name": "Blockers",
           "type": "scatter",
           "x": [
            43.54,
            43.96,
            43.48,
            43.82,
            42.57
           ],
           "y": [
            24.39,
            20.91,
            23.25,
            22.07,
            25.64
           ]
          }
         ]
        },
        {
         "data": [
          {
           "legendgroup": "Rushers",
           "marker": {
            "color": [
             43.04,
             43.53,
             44.49,
             42.57
            ],
            "size": 16
           },
           "mode": "markers",
           "name": "Rushers",
           "type": "scatter",
           "x": [
            43.04,
            43.53,
            44.49,
            42.57
           ],
           "y": [
            22.18,
            24.66,
            17.44,
            24.27
           ]
          },
          {
           "legendgroup": "Blockers",
           "marker": {
            "color": [
             43.74,
             44.24,
             43.69,
             44,
             42.74
            ],
            "size": 16,
            "symbol": "x"
           },
           "mode": "markers",
           "name": "Blockers",
           "type": "scatter",
           "x": [
            43.74,
            44.24,
            43.69,
            44,
            42.74
           ],
           "y": [
            24.37,
            20.96,
            23.24,
            22.08,
            25.44
           ]
          }
         ]
        },
        {
         "data": [
          {
           "legendgroup": "Rushers",
           "marker": {
            "color": [
             43.25,
             43.78,
             45.06,
             42.79
            ],
            "size": 16
           },
           "mode": "markers",
           "name": "Rushers",
           "type": "scatter",
           "x": [
            43.25,
            43.78,
            45.06,
            42.79
           ],
           "y": [
            22.45,
            24.71,
            17.84,
            24.02
           ]
          },
          {
           "legendgroup": "Blockers",
           "marker": {
            "color": [
             43.97,
             44.56,
             43.9,
             44.17,
             42.93
            ],
            "size": 16,
            "symbol": "x"
           },
           "mode": "markers",
           "name": "Blockers",
           "type": "scatter",
           "x": [
            43.97,
            44.56,
            43.9,
            44.17,
            42.93
           ],
           "y": [
            24.36,
            21,
            23.22,
            22.07,
            25.23
           ]
          }
         ]
        },
        {
         "data": [
          {
           "legendgroup": "Rushers",
           "marker": {
            "color": [
             43.45,
             44.04,
             45.64,
             43.01
            ],
            "size": 16
           },
           "mode": "markers",
           "name": "Rushers",
           "type": "scatter",
           "x": [
            43.45,
            44.04,
            45.64,
            43.01
           ],
           "y": [
            22.65,
            24.75,
            18.24,
            23.82
           ]
          },
          {
           "legendgroup": "Blockers",
           "marker": {
            "color": [
             44.17,
             44.91,
             44.12,
             44.37,
             43.13
            ],
            "size": 16,
            "symbol": "x"
           },
           "mode": "markers",
           "name": "Blockers",
           "type": "scatter",
           "x": [
            44.17,
            44.91,
            44.12,
            44.37,
            43.13
           ],
           "y": [
            24.36,
            21.04,
            23.23,
            22.09,
            25.02
           ]
          }
         ]
        },
        {
         "data": [
          {
           "legendgroup": "Rushers",
           "marker": {
            "color": [
             43.67,
             44.31,
             46.23,
             43.23
            ],
            "size": 16
           },
           "mode": "markers",
           "name": "Rushers",
           "type": "scatter",
           "x": [
            43.67,
            44.31,
            46.23,
            43.23
           ],
           "y": [
            22.8,
            24.79,
            18.66,
            23.63
           ]
          },
          {
           "legendgroup": "Blockers",
           "marker": {
            "color": [
             44.38,
             45.3,
             44.33,
             44.58,
             43.32
            ],
            "size": 16,
            "symbol": "x"
           },
           "mode": "markers",
           "name": "Blockers",
           "type": "scatter",
           "x": [
            44.38,
            45.3,
            44.33,
            44.58,
            43.32
           ],
           "y": [
            24.36,
            21.09,
            23.24,
            22.13,
            24.81
           ]
          }
         ]
        },
        {
         "data": [
          {
           "legendgroup": "Rushers",
           "marker": {
            "color": [
             43.89,
             44.59,
             46.81,
             43.45
            ],
            "size": 16
           },
           "mode": "markers",
           "name": "Rushers",
           "type": "scatter",
           "x": [
            43.89,
            44.59,
            46.81,
            43.45
           ],
           "y": [
            22.89,
            24.85,
            19.08,
            23.47
           ]
          },
          {
           "legendgroup": "Blockers",
           "marker": {
            "color": [
             44.6,
             45.74,
             44.54,
             44.79,
             43.52
            ],
            "size": 16,
            "symbol": "x"
           },
           "mode": "markers",
           "name": "Blockers",
           "type": "scatter",
           "x": [
            44.6,
            45.74,
            44.54,
            44.79,
            43.52
           ],
           "y": [
            24.38,
            21.17,
            23.24,
            22.18,
            24.6
           ]
          }
         ]
        },
        {
         "data": [
          {
           "legendgroup": "Rushers",
           "marker": {
            "color": [
             44.11,
             44.87,
             47.39,
             43.66
            ],
            "size": 16
           },
           "mode": "markers",
           "name": "Rushers",
           "type": "scatter",
           "x": [
            44.11,
            44.87,
            47.39,
            43.66
           ],
           "y": [
            22.93,
            24.91,
            19.51,
            23.33
           ]
          },
          {
           "legendgroup": "Blockers",
           "marker": {
            "color": [
             44.81,
             46.18,
             44.75,
             45.03,
             43.71
            ],
            "size": 16,
            "symbol": "x"
           },
           "mode": "markers",
           "name": "Blockers",
           "type": "scatter",
           "x": [
            44.81,
            46.18,
            44.75,
            45.03,
            43.71
           ],
           "y": [
            24.41,
            21.25,
            23.27,
            22.24,
            24.4
           ]
          }
         ]
        },
        {
         "data": [
          {
           "legendgroup": "Rushers",
           "marker": {
            "color": [
             44.35,
             45.16,
             47.96,
             43.85
            ],
            "size": 16
           },
           "mode": "markers",
           "name": "Rushers",
           "type": "scatter",
           "x": [
            44.35,
            45.16,
            47.96,
            43.85
           ],
           "y": [
            22.93,
            24.98,
            19.94,
            23.21
           ]
          },
          {
           "legendgroup": "Blockers",
           "marker": {
            "color": [
             45.04,
             46.63,
             44.95,
             45.25,
             43.9
            ],
            "size": 16,
            "symbol": "x"
           },
           "mode": "markers",
           "name": "Blockers",
           "type": "scatter",
           "x": [
            45.04,
            46.63,
            44.95,
            45.25,
            43.9
           ],
           "y": [
            24.44,
            21.34,
            23.29,
            22.34,
            24.21
           ]
          }
         ]
        },
        {
         "data": [
          {
           "legendgroup": "Rushers",
           "marker": {
            "color": [
             44.6,
             45.46,
             48.51,
             44.03
            ],
            "size": 16
           },
           "mode": "markers",
           "name": "Rushers",
           "type": "scatter",
           "x": [
            44.6,
            45.46,
            48.51,
            44.03
           ],
           "y": [
            22.88,
            25.07,
            20.37,
            23.09
           ]
          },
          {
           "legendgroup": "Blockers",
           "marker": {
            "color": [
             45.24,
             47.11,
             45.15,
             45.49,
             44.1
            ],
            "size": 16,
            "symbol": "x"
           },
           "mode": "markers",
           "name": "Blockers",
           "type": "scatter",
           "x": [
            45.24,
            47.11,
            45.15,
            45.49,
            44.1
           ],
           "y": [
            24.49,
            21.45,
            23.32,
            22.46,
            24.01
           ]
          }
         ]
        },
        {
         "data": [
          {
           "legendgroup": "Rushers",
           "marker": {
            "color": [
             44.86,
             45.77,
             49.03,
             44.19
            ],
            "size": 16
           },
           "mode": "markers",
           "name": "Rushers",
           "type": "scatter",
           "x": [
            44.86,
            45.77,
            49.03,
            44.19
           ],
           "y": [
            22.79,
            25.16,
            20.8,
            22.97
           ]
          },
          {
           "legendgroup": "Blockers",
           "marker": {
            "color": [
             45.46,
             47.59,
             45.35,
             45.73,
             44.29
            ],
            "size": 16,
            "symbol": "x"
           },
           "mode": "markers",
           "name": "Blockers",
           "type": "scatter",
           "x": [
            45.46,
            47.59,
            45.35,
            45.73,
            44.29
           ],
           "y": [
            24.54,
            21.56,
            23.35,
            22.58,
            23.82
           ]
          }
         ]
        },
        {
         "data": [
          {
           "legendgroup": "Rushers",
           "marker": {
            "color": [
             45.14,
             46.09,
             49.52,
             44.31
            ],
            "size": 16
           },
           "mode": "markers",
           "name": "Rushers",
           "type": "scatter",
           "x": [
            45.14,
            46.09,
            49.52,
            44.31
           ],
           "y": [
            22.67,
            25.26,
            21.22,
            22.84
           ]
          },
          {
           "legendgroup": "Blockers",
           "marker": {
            "color": [
             45.66,
             48.06,
             45.56,
             45.97,
             44.46
            ],
            "size": 16,
            "symbol": "x"
           },
           "mode": "markers",
           "name": "Blockers",
           "type": "scatter",
           "x": [
            45.66,
            48.06,
            45.56,
            45.97,
            44.46
           ],
           "y": [
            24.59,
            21.69,
            23.37,
            22.74,
            23.63
           ]
          }
         ]
        },
        {
         "data": [
          {
           "legendgroup": "Rushers",
           "marker": {
            "color": [
             45.44,
             46.4,
             49.98,
             44.41
            ],
            "size": 16
           },
           "mode": "markers",
           "name": "Rushers",
           "type": "scatter",
           "x": [
            45.44,
            46.4,
            49.98,
            44.41
           ],
           "y": [
            22.52,
            25.38,
            21.64,
            22.7
           ]
          },
          {
           "legendgroup": "Blockers",
           "marker": {
            "color": [
             45.85,
             48.54,
             45.79,
             46.21,
             44.62
            ],
            "size": 16,
            "symbol": "x"
           },
           "mode": "markers",
           "name": "Blockers",
           "type": "scatter",
           "x": [
            45.85,
            48.54,
            45.79,
            46.21,
            44.62
           ],
           "y": [
            24.66,
            21.82,
            23.39,
            22.92,
            23.43
           ]
          }
         ]
        },
        {
         "data": [
          {
           "legendgroup": "Rushers",
           "marker": {
            "color": [
             45.74,
             46.7,
             50.39,
             44.49
            ],
            "size": 16
           },
           "mode": "markers",
           "name": "Rushers",
           "type": "scatter",
           "x": [
            45.74,
            46.7,
            50.39,
            44.49
           ],
           "y": [
            22.36,
            25.49,
            22.05,
            22.55
           ]
          },
          {
           "legendgroup": "Blockers",
           "marker": {
            "color": [
             46.03,
             49,
             46.02,
             46.42,
             44.76
            ],
            "size": 16,
            "symbol": "x"
           },
           "mode": "markers",
           "name": "Blockers",
           "type": "scatter",
           "x": [
            46.03,
            49,
            46.02,
            46.42,
            44.76
           ],
           "y": [
            24.72,
            21.96,
            23.42,
            23.13,
            23.25
           ]
          }
         ]
        }
       ],
       "layout": {
        "legend": {
         "orientation": "h"
        },
        "template": {
         "data": {
          "bar": [
           {
            "error_x": {
             "color": "#2a3f5f"
            },
            "error_y": {
             "color": "#2a3f5f"
            },
            "marker": {
             "line": {
              "color": "#E5ECF6",
              "width": 0.5
             },
             "pattern": {
              "fillmode": "overlay",
              "size": 10,
              "solidity": 0.2
             }
            },
            "type": "bar"
           }
          ],
          "barpolar": [
           {
            "marker": {
             "line": {
              "color": "#E5ECF6",
              "width": 0.5
             },
             "pattern": {
              "fillmode": "overlay",
              "size": 10,
              "solidity": 0.2
             }
            },
            "type": "barpolar"
           }
          ],
          "carpet": [
           {
            "aaxis": {
             "endlinecolor": "#2a3f5f",
             "gridcolor": "white",
             "linecolor": "white",
             "minorgridcolor": "white",
             "startlinecolor": "#2a3f5f"
            },
            "baxis": {
             "endlinecolor": "#2a3f5f",
             "gridcolor": "white",
             "linecolor": "white",
             "minorgridcolor": "white",
             "startlinecolor": "#2a3f5f"
            },
            "type": "carpet"
           }
          ],
          "choropleth": [
           {
            "colorbar": {
             "outlinewidth": 0,
             "ticks": ""
            },
            "type": "choropleth"
           }
          ],
          "contour": [
           {
            "colorbar": {
             "outlinewidth": 0,
             "ticks": ""
            },
            "colorscale": [
             [
              0,
              "#0d0887"
             ],
             [
              0.1111111111111111,
              "#46039f"
             ],
             [
              0.2222222222222222,
              "#7201a8"
             ],
             [
              0.3333333333333333,
              "#9c179e"
             ],
             [
              0.4444444444444444,
              "#bd3786"
             ],
             [
              0.5555555555555556,
              "#d8576b"
             ],
             [
              0.6666666666666666,
              "#ed7953"
             ],
             [
              0.7777777777777778,
              "#fb9f3a"
             ],
             [
              0.8888888888888888,
              "#fdca26"
             ],
             [
              1,
              "#f0f921"
             ]
            ],
            "type": "contour"
           }
          ],
          "contourcarpet": [
           {
            "colorbar": {
             "outlinewidth": 0,
             "ticks": ""
            },
            "type": "contourcarpet"
           }
          ],
          "heatmap": [
           {
            "colorbar": {
             "outlinewidth": 0,
             "ticks": ""
            },
            "colorscale": [
             [
              0,
              "#0d0887"
             ],
             [
              0.1111111111111111,
              "#46039f"
             ],
             [
              0.2222222222222222,
              "#7201a8"
             ],
             [
              0.3333333333333333,
              "#9c179e"
             ],
             [
              0.4444444444444444,
              "#bd3786"
             ],
             [
              0.5555555555555556,
              "#d8576b"
             ],
             [
              0.6666666666666666,
              "#ed7953"
             ],
             [
              0.7777777777777778,
              "#fb9f3a"
             ],
             [
              0.8888888888888888,
              "#fdca26"
             ],
             [
              1,
              "#f0f921"
             ]
            ],
            "type": "heatmap"
           }
          ],
          "heatmapgl": [
           {
            "colorbar": {
             "outlinewidth": 0,
             "ticks": ""
            },
            "colorscale": [
             [
              0,
              "#0d0887"
             ],
             [
              0.1111111111111111,
              "#46039f"
             ],
             [
              0.2222222222222222,
              "#7201a8"
             ],
             [
              0.3333333333333333,
              "#9c179e"
             ],
             [
              0.4444444444444444,
              "#bd3786"
             ],
             [
              0.5555555555555556,
              "#d8576b"
             ],
             [
              0.6666666666666666,
              "#ed7953"
             ],
             [
              0.7777777777777778,
              "#fb9f3a"
             ],
             [
              0.8888888888888888,
              "#fdca26"
             ],
             [
              1,
              "#f0f921"
             ]
            ],
            "type": "heatmapgl"
           }
          ],
          "histogram": [
           {
            "marker": {
             "pattern": {
              "fillmode": "overlay",
              "size": 10,
              "solidity": 0.2
             }
            },
            "type": "histogram"
           }
          ],
          "histogram2d": [
           {
            "colorbar": {
             "outlinewidth": 0,
             "ticks": ""
            },
            "colorscale": [
             [
              0,
              "#0d0887"
             ],
             [
              0.1111111111111111,
              "#46039f"
             ],
             [
              0.2222222222222222,
              "#7201a8"
             ],
             [
              0.3333333333333333,
              "#9c179e"
             ],
             [
              0.4444444444444444,
              "#bd3786"
             ],
             [
              0.5555555555555556,
              "#d8576b"
             ],
             [
              0.6666666666666666,
              "#ed7953"
             ],
             [
              0.7777777777777778,
              "#fb9f3a"
             ],
             [
              0.8888888888888888,
              "#fdca26"
             ],
             [
              1,
              "#f0f921"
             ]
            ],
            "type": "histogram2d"
           }
          ],
          "histogram2dcontour": [
           {
            "colorbar": {
             "outlinewidth": 0,
             "ticks": ""
            },
            "colorscale": [
             [
              0,
              "#0d0887"
             ],
             [
              0.1111111111111111,
              "#46039f"
             ],
             [
              0.2222222222222222,
              "#7201a8"
             ],
             [
              0.3333333333333333,
              "#9c179e"
             ],
             [
              0.4444444444444444,
              "#bd3786"
             ],
             [
              0.5555555555555556,
              "#d8576b"
             ],
             [
              0.6666666666666666,
              "#ed7953"
             ],
             [
              0.7777777777777778,
              "#fb9f3a"
             ],
             [
              0.8888888888888888,
              "#fdca26"
             ],
             [
              1,
              "#f0f921"
             ]
            ],
            "type": "histogram2dcontour"
           }
          ],
          "mesh3d": [
           {
            "colorbar": {
             "outlinewidth": 0,
             "ticks": ""
            },
            "type": "mesh3d"
           }
          ],
          "parcoords": [
           {
            "line": {
             "colorbar": {
              "outlinewidth": 0,
              "ticks": ""
             }
            },
            "type": "parcoords"
           }
          ],
          "pie": [
           {
            "automargin": true,
            "type": "pie"
           }
          ],
          "scatter": [
           {
            "fillpattern": {
             "fillmode": "overlay",
             "size": 10,
             "solidity": 0.2
            },
            "type": "scatter"
           }
          ],
          "scatter3d": [
           {
            "line": {
             "colorbar": {
              "outlinewidth": 0,
              "ticks": ""
             }
            },
            "marker": {
             "colorbar": {
              "outlinewidth": 0,
              "ticks": ""
             }
            },
            "type": "scatter3d"
           }
          ],
          "scattercarpet": [
           {
            "marker": {
             "colorbar": {
              "outlinewidth": 0,
              "ticks": ""
             }
            },
            "type": "scattercarpet"
           }
          ],
          "scattergeo": [
           {
            "marker": {
             "colorbar": {
              "outlinewidth": 0,
              "ticks": ""
             }
            },
            "type": "scattergeo"
           }
          ],
          "scattergl": [
           {
            "marker": {
             "colorbar": {
              "outlinewidth": 0,
              "ticks": ""
             }
            },
            "type": "scattergl"
           }
          ],
          "scattermapbox": [
           {
            "marker": {
             "colorbar": {
              "outlinewidth": 0,
              "ticks": ""
             }
            },
            "type": "scattermapbox"
           }
          ],
          "scatterpolar": [
           {
            "marker": {
             "colorbar": {
              "outlinewidth": 0,
              "ticks": ""
             }
            },
            "type": "scatterpolar"
           }
          ],
          "scatterpolargl": [
           {
            "marker": {
             "colorbar": {
              "outlinewidth": 0,
              "ticks": ""
             }
            },
            "type": "scatterpolargl"
           }
          ],
          "scatterternary": [
           {
            "marker": {
             "colorbar": {
              "outlinewidth": 0,
              "ticks": ""
             }
            },
            "type": "scatterternary"
           }
          ],
          "surface": [
           {
            "colorbar": {
             "outlinewidth": 0,
             "ticks": ""
            },
            "colorscale": [
             [
              0,
              "#0d0887"
             ],
             [
              0.1111111111111111,
              "#46039f"
             ],
             [
              0.2222222222222222,
              "#7201a8"
             ],
             [
              0.3333333333333333,
              "#9c179e"
             ],
             [
              0.4444444444444444,
              "#bd3786"
             ],
             [
              0.5555555555555556,
              "#d8576b"
             ],
             [
              0.6666666666666666,
              "#ed7953"
             ],
             [
              0.7777777777777778,
              "#fb9f3a"
             ],
             [
              0.8888888888888888,
              "#fdca26"
             ],
             [
              1,
              "#f0f921"
             ]
            ],
            "type": "surface"
           }
          ],
          "table": [
           {
            "cells": {
             "fill": {
              "color": "#EBF0F8"
             },
             "line": {
              "color": "white"
             }
            },
            "header": {
             "fill": {
              "color": "#C8D4E3"
             },
             "line": {
              "color": "white"
             }
            },
            "type": "table"
           }
          ]
         },
         "layout": {
          "annotationdefaults": {
           "arrowcolor": "#2a3f5f",
           "arrowhead": 0,
           "arrowwidth": 1
          },
          "autotypenumbers": "strict",
          "coloraxis": {
           "colorbar": {
            "outlinewidth": 0,
            "ticks": ""
           }
          },
          "colorscale": {
           "diverging": [
            [
             0,
             "#8e0152"
            ],
            [
             0.1,
             "#c51b7d"
            ],
            [
             0.2,
             "#de77ae"
            ],
            [
             0.3,
             "#f1b6da"
            ],
            [
             0.4,
             "#fde0ef"
            ],
            [
             0.5,
             "#f7f7f7"
            ],
            [
             0.6,
             "#e6f5d0"
            ],
            [
             0.7,
             "#b8e186"
            ],
            [
             0.8,
             "#7fbc41"
            ],
            [
             0.9,
             "#4d9221"
            ],
            [
             1,
             "#276419"
            ]
           ],
           "sequential": [
            [
             0,
             "#0d0887"
            ],
            [
             0.1111111111111111,
             "#46039f"
            ],
            [
             0.2222222222222222,
             "#7201a8"
            ],
            [
             0.3333333333333333,
             "#9c179e"
            ],
            [
             0.4444444444444444,
             "#bd3786"
            ],
            [
             0.5555555555555556,
             "#d8576b"
            ],
            [
             0.6666666666666666,
             "#ed7953"
            ],
            [
             0.7777777777777778,
             "#fb9f3a"
            ],
            [
             0.8888888888888888,
             "#fdca26"
            ],
            [
             1,
             "#f0f921"
            ]
           ],
           "sequentialminus": [
            [
             0,
             "#0d0887"
            ],
            [
             0.1111111111111111,
             "#46039f"
            ],
            [
             0.2222222222222222,
             "#7201a8"
            ],
            [
             0.3333333333333333,
             "#9c179e"
            ],
            [
             0.4444444444444444,
             "#bd3786"
            ],
            [
             0.5555555555555556,
             "#d8576b"
            ],
            [
             0.6666666666666666,
             "#ed7953"
            ],
            [
             0.7777777777777778,
             "#fb9f3a"
            ],
            [
             0.8888888888888888,
             "#fdca26"
            ],
            [
             1,
             "#f0f921"
            ]
           ]
          },
          "colorway": [
           "#636efa",
           "#EF553B",
           "#00cc96",
           "#ab63fa",
           "#FFA15A",
           "#19d3f3",
           "#FF6692",
           "#B6E880",
           "#FF97FF",
           "#FECB52"
          ],
          "font": {
           "color": "#2a3f5f"
          },
          "geo": {
           "bgcolor": "white",
           "lakecolor": "white",
           "landcolor": "#E5ECF6",
           "showlakes": true,
           "showland": true,
           "subunitcolor": "white"
          },
          "hoverlabel": {
           "align": "left"
          },
          "hovermode": "closest",
          "mapbox": {
           "style": "light"
          },
          "paper_bgcolor": "white",
          "plot_bgcolor": "#E5ECF6",
          "polar": {
           "angularaxis": {
            "gridcolor": "white",
            "linecolor": "white",
            "ticks": ""
           },
           "bgcolor": "#E5ECF6",
           "radialaxis": {
            "gridcolor": "white",
            "linecolor": "white",
            "ticks": ""
           }
          },
          "scene": {
           "xaxis": {
            "backgroundcolor": "#E5ECF6",
            "gridcolor": "white",
            "gridwidth": 2,
            "linecolor": "white",
            "showbackground": true,
            "ticks": "",
            "zerolinecolor": "white"
           },
           "yaxis": {
            "backgroundcolor": "#E5ECF6",
            "gridcolor": "white",
            "gridwidth": 2,
            "linecolor": "white",
            "showbackground": true,
            "ticks": "",
            "zerolinecolor": "white"
           },
           "zaxis": {
            "backgroundcolor": "#E5ECF6",
            "gridcolor": "white",
            "gridwidth": 2,
            "linecolor": "white",
            "showbackground": true,
            "ticks": "",
            "zerolinecolor": "white"
           }
          },
          "shapedefaults": {
           "line": {
            "color": "#2a3f5f"
           }
          },
          "ternary": {
           "aaxis": {
            "gridcolor": "white",
            "linecolor": "white",
            "ticks": ""
           },
           "baxis": {
            "gridcolor": "white",
            "linecolor": "white",
            "ticks": ""
           },
           "bgcolor": "#E5ECF6",
           "caxis": {
            "gridcolor": "white",
            "linecolor": "white",
            "ticks": ""
           }
          },
          "title": {
           "x": 0.05
          },
          "xaxis": {
           "automargin": true,
           "gridcolor": "white",
           "linecolor": "white",
           "ticks": "",
           "title": {
            "standoff": 15
           },
           "zerolinecolor": "white",
           "zerolinewidth": 2
          },
          "yaxis": {
           "automargin": true,
           "gridcolor": "white",
           "linecolor": "white",
           "ticks": "",
           "title": {
            "standoff": 15
           },
           "zerolinecolor": "white",
           "zerolinewidth": 2
          }
         }
        },
        "title": {
         "text": "Play 202109090097"
        },
        "updatemenus": [
         {
          "buttons": [
           {
            "args": [
             null,
             {
              "frame": {
               "duration": 100,
               "redraw": false
              },
              "fromcurrent": true,
              "transition": {
               "duration": 0
              }
             }
            ],
            "label": "Play",
            "method": "animate"
           }
          ],
          "type": "buttons"
         }
        ],
        "xaxis": {
         "autorange": false,
         "range": [
          36.49,
          59.97
         ]
        },
        "yaxis": {
         "autorange": false,
         "range": [
          9.02,
          32.84
         ]
        }
       }
      }
     },
     "metadata": {},
     "output_type": "display_data"
    }
   ],
   "source": [
    "from __future__ import annotations\n",
    "import plotly\n",
    "import plotly.graph_objects as go\n",
    "fig = go.Figure(\n",
    "    data= start_frame,\n",
    "    layout=layout_draw,\n",
    "    frames=all_frame\n",
    ")\n",
    "\n",
    "fig.update_layout(legend=dict(orientation = \"h\"))  \n",
    "fig.show()"
   ]
  },
  {
   "cell_type": "code",
   "execution_count": 1205,
   "metadata": {},
   "outputs": [
    {
     "data": {
      "image/png": "[encoded data removed]",
      "text/plain": [
       "<Figure size 640x480 with 1 Axes>"
      ]
     },
     "metadata": {},
     "output_type": "display_data"
    }
   ],
   "source": [
    "import matplotlib.pyplot as plt\n",
    "plot_overall_avgs = all_dist_dfs.query(\"time_after_snap > 0\").groupby(by = ['time_after_snap']).mean().reset_index()\n",
    "\n",
    "plt.title = \"Average Rusher Distance From QB by Seconds After Snap\"\n",
    "plt.xlabel = \"Seconds After Snap\"\n",
    "plt.plot('time_after_snap',  'rusher_distance_from_qb', data = plot_overall_avgs, linestyle='dashed')\n",
    "plt.ylabel = \"Rusher Distance From QB\"\n",
    "plt.show()"
   ]
  },
  {
   "cell_type": "code",
   "execution_count": null,
   "metadata": {},
   "outputs": [],
   "source": []
  },
  {
   "cell_type": "code",
   "execution_count": null,
   "metadata": {},
   "outputs": [],
   "source": []
  },
  {
   "cell_type": "code",
   "execution_count": null,
   "metadata": {},
   "outputs": [],
   "source": [
    "### want to get groups of players with similar starting positions: conlusion: just use number of blockers on play for now, maybe add in weigt of blocker later\n",
    "\n",
    "# this_week_starting_pos = all_data.training_data_individual.get('1')\n",
    "# this_week_starting_pos = this_week_training_individual.loc[this_week_training_individual.time_after_snap == 0, ['playId', 'nflId', 'rusher_distance_from_qb', 'y']]\n",
    "\n",
    "\n",
    "\n",
    "# gmm_train = this_week_starting_pos.drop(['playId', 'nflId'], axis = 1)\n",
    "# gmm = mixture.GaussianMixture(n_components=2).fit(gmm_train)\n",
    "# gmm_labels = gmm.predict(gmm_train).astype(str)\n",
    "\n",
    "# this_week_starting_pos['starting_pos_class'] = gmm_labels\n",
    "# this_week_starting_pos.groupby('starting_pos_class').groups.items()\n",
    "# plot_df = this_week_starting_pos.drop(['playId', 'nflId'], axis = 1).reset_index(drop = 1)\n",
    "# plot_df.starting_pos_class.unique()\n",
    "# plot_df\n",
    "\n",
    "# groups = plot_df.groupby('starting_pos_class')\n",
    "# # Plot\n",
    "# fig, ax = plt.subplots()\n",
    "# ax.margins(0.05) # Optional, just adds 5% padding to the autoscaling\n",
    "# for name, group in groups:\n",
    "#     ax.plot(group.rusher_distance_from_qb, group.y, marker='o', linestyle='', ms=12, label=name)\n",
    "# ax.legend()\n",
    "\n",
    "# plt.show()\n",
    "\n",
    "# ret_df = this_week_starting_pos.loc[:, ['playId', 'nflId', 'starting_pos_class']]\n",
    "# ret_df"
   ]
  },
  {
   "cell_type": "code",
   "execution_count": null,
   "metadata": {},
   "outputs": [],
   "source": []
  }
 ],
 "metadata": {
  "kernelspec": {
   "display_name": "Python 3.9.12",
   "language": "python",
   "name": "python3"
  },
  "language_info": {
   "codemirror_mode": {
    "name": "ipython",
    "version": 3
   },
   "file_extension": ".py",
   "mimetype": "text/x-python",
   "name": "python",
   "nbconvert_exporter": "python",
   "pygments_lexer": "ipython3",
   "version": "3.10.6"
  },
  "orig_nbformat": 4,
  "vscode": {
   "interpreter": {
    "hash": "8b5140b98f9aa636ad904647e184ddf94a8c49b25e448223e4f659e3845abf7f"
   }
  }
 },
 "nbformat": 4,
 "nbformat_minor": 2
}
