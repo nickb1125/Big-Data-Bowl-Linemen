{
 "cells": [
  {
   "cell_type": "code",
   "execution_count": 815,
   "metadata": {},
   "outputs": [],
   "source": [
    "import os\n",
    "\n",
    "proj_dir = '/Users/nickbachelder/Desktop/Kaggle/Linemen'\n",
    "os.chdir( os.path.join(proj_dir, 'code/objects') )\n",
    "\n",
    "%run load_modules.ipynb\n",
    "%run tracking_objects.ipynb"
   ]
  },
  {
   "cell_type": "code",
   "execution_count": 775,
   "metadata": {},
   "outputs": [
    {
     "name": "stdout",
     "output_type": "stream",
     "text": [
      "Warning: Your Kaggle API key is readable by other users on this system! To fix this, you can run 'chmod 600 /Users/nickbachelder/.kaggle/kaggle.json'\n",
      "Downloading nfl-big-data-bowl-2023.zip to /Users/nickbachelder/Desktop/Kaggle/Linemen/data\n"
     ]
    },
    {
     "name": "stderr",
     "output_type": "stream",
     "text": [
      "100%|██████████| 172M/172M [00:43<00:00, 4.20MB/s] \n"
     ]
    },
    {
     "name": "stdout",
     "output_type": "stream",
     "text": [
      "\n",
      "Archive:  /Users/nickbachelder/Desktop/Kaggle/Linemen/data/nfl-big-data-bowl-2023.zip\n",
      "  inflating: games.csv               \n",
      "  inflating: pffScoutingData.csv     \n",
      "  inflating: players.csv             \n",
      "  inflating: plays.csv               \n",
      "  inflating: week1.csv               \n",
      "  inflating: week2.csv               \n",
      "  inflating: week3.csv               \n",
      "  inflating: week4.csv               \n",
      "  inflating: week5.csv               \n",
      "  inflating: week6.csv               \n",
      "  inflating: week7.csv               \n",
      "  inflating: week8.csv               \n"
     ]
    }
   ],
   "source": [
    "data_dir = os.path.join(proj_dir, 'data' )\n",
    "os.chdir( proj_dir )\n",
    "os.system(\"rm -rf {}\".format( data_dir ))\n",
    "os.system('mkdir data')\n",
    "os.chdir( data_dir )\n",
    "os.system(\"kaggle competitions download -c nfl-big-data-bowl-2023\")\n",
    "os.system( 'unzip {}.zip'.format( os.path.join(data_dir, 'nfl-big-data-bowl-2023')) )\n",
    "\n",
    "curr_cd = os.getcwd()\n",
    "files = [x for x in os.listdir(curr_cd) if os.path.isfile(os.path.join(curr_cd, x))]\n",
    "\n",
    "player_files = [os.path.join(curr_cd, x) for x in files if x.endswith('players.csv')]\n",
    "player_tracking_files = [os.path.join(curr_cd, x) for x in files if x.startswith('week')]\n",
    "play_details_files = [os.path.join(curr_cd, x) for x in files if x.endswith('ScoutingData.csv')]\n",
    "play_info_files = [os.path.join(curr_cd, x) for x in files if x.endswith('plays.csv')]\n"
   ]
  },
  {
   "cell_type": "code",
   "execution_count": 816,
   "metadata": {},
   "outputs": [],
   "source": [
    "all_data = master_track(track_paths = player_tracking_files, \n",
    "                            play_info_path = play_info_files[0],\n",
    "                            play_details_path = play_details_files[0],\n",
    "                            players_path = player_files[0])"
   ]
  },
  {
   "cell_type": "code",
   "execution_count": 817,
   "metadata": {},
   "outputs": [
    {
     "name": "stdout",
     "output_type": "stream",
     "text": [
      "Getting week 1 training data\n"
     ]
    },
    {
     "name": "stderr",
     "output_type": "stream",
     "text": [
      "100%|██████████| 1172/1172 [06:03<00:00,  3.22it/s]\n"
     ]
    },
    {
     "name": "stdout",
     "output_type": "stream",
     "text": [
      "Getting week 2 training data\n"
     ]
    },
    {
     "name": "stderr",
     "output_type": "stream",
     "text": [
      "100%|██████████| 1062/1062 [05:35<00:00,  3.17it/s]\n"
     ]
    },
    {
     "name": "stdout",
     "output_type": "stream",
     "text": [
      "Done\n"
     ]
    }
   ],
   "source": [
    "all_data.load_training_data(week = 3)"
   ]
  },
  {
   "cell_type": "code",
   "execution_count": 818,
   "metadata": {},
   "outputs": [
    {
     "name": "stdout",
     "output_type": "stream",
     "text": [
      "Getting week 1 average metrics by position and blocker number\n",
      "Getting week 2 average metrics by position and blocker number\n",
      "Done\n"
     ]
    }
   ],
   "source": [
    "all_data.get_averages_up_to_week(week = 3)"
   ]
  },
  {
   "cell_type": "code",
   "execution_count": null,
   "metadata": {},
   "outputs": [],
   "source": [
    "# figure out where these issues are coming from later and fix\n",
    "\n",
    "all_dat_labels = all_data.get_rush_sequences_labels(week = 2, normalize = True)\n",
    "\n",
    "training_dat, test_dat = train_test_split(all_dat_labels, test_size = 0.2)\n",
    "\n",
    "# remove nas (fix these nas being created later)\n",
    "bad_indexs = []\n",
    "print('Train NA')\n",
    "for value in range(len(training_dat)):\n",
    "    any_na = training_dat[value][0].isnull().values.any()\n",
    "    if any_na == True:\n",
    "        bad_indexs.append(value)\n",
    "        print(value)\n",
    "\n",
    "for index in sorted(bad_indexs, reverse=True):\n",
    "    del training_dat[index]\n",
    "\n",
    "\n",
    "bad_indexs = []\n",
    "print('Test NA')\n",
    "for value in range(len(test_dat)):\n",
    "    any_na = test_dat[value][0].isnull().values.any()\n",
    "    if any_na == True:\n",
    "        bad_indexs.append(value)\n",
    "        print(value)\n",
    "\n",
    "for index in sorted(bad_indexs, reverse=True):\n",
    "    del test_dat[index]\n",
    "\n",
    "print(f'Length train : {len(training_dat)}')\n",
    "print(f'Length test : {len(test_dat)}')"
   ]
  },
  {
   "cell_type": "code",
   "execution_count": 821,
   "metadata": {},
   "outputs": [
    {
     "name": "stdout",
     "output_type": "stream",
     "text": [
      "Epoch 0\n",
      "---------\n",
      "Overall Train loss: 0.670867657288909 , Overall Train AUC: 0.464750780996136\n",
      "Train loss for period 1: 0.6704177875071764 , Train AUC for period 1: 0.4702223787967995\n",
      "Train loss for period 2: 0.6711292583495378 , Train AUC for period 2: 0.4695461696603511\n",
      "Train loss for period 3: 0.6713026016950607 , Train AUC for period 3: 0.4680642234598048\n",
      "Train loss for period 4: 0.671387167647481 , Train AUC for period 4: 0.4675595278311311\n",
      "Train loss for period 5: 0.6708110123872757 , Train AUC for period 5: 0.46031860781607414\n",
      "Train loss for period 6: 0.67015815153718 , Train AUC for period 6: 0.45354329340681615\n",
      "Overall test loss: 0.6460421830415726 , Overall test AUC: 0.5540354400056366\n",
      "Test loss for period 1: 17.424545992165804 , Test AUC for period 1: 0.5265105032221391\n",
      "Test loss for period 2: 17.44692675769329 , Test AUC for period 2: 0.5350862789842775\n",
      "Test loss for period 3: 17.326089445501566 , Test AUC for period 3: 0.5529847067307296\n",
      "Test loss for period 4: 17.197580836713314 , Test AUC for period 4: 0.5676818626512561\n",
      "Test loss for period 5: 16.736738611012697 , Test AUC for period 5: 0.6069947636569487\n",
      "Test loss for period 6: 16.24501222744584 , Test AUC for period 6: 0.639948825713222\n",
      "\n",
      "Epoch 1\n",
      "---------\n",
      "Overall Train loss: 0.664652619510889 , Overall Train AUC: 0.5406089732246748\n",
      "Train loss for period 1: 0.6669525541365147 , Train AUC for period 1: 0.5230433271883174\n",
      "Train loss for period 2: 0.6671340670436621 , Train AUC for period 2: 0.5270910266680823\n",
      "Train loss for period 3: 0.6663382612168789 , Train AUC for period 3: 0.5318691787234453\n",
      "Train loss for period 4: 0.664977204054594 , Train AUC for period 4: 0.5407778431959231\n",
      "Train loss for period 5: 0.662574203684926 , Train AUC for period 5: 0.5540845695754149\n",
      "Train loss for period 6: 0.6599394530057907 , Train AUC for period 6: 0.5669440288783576\n",
      "Overall test loss: 0.6601898223161697 , Overall test AUC: 0.5537861533854718\n",
      "Test loss for period 1: 17.512369949370623 , Test AUC for period 1: 0.5257561678324931\n",
      "Test loss for period 2: 17.53434895724058 , Test AUC for period 2: 0.5342484605857624\n",
      "Test loss for period 3: 17.41336516663432 , Test AUC for period 3: 0.5520769765264768\n",
      "Test loss for period 4: 17.28451843559742 , Test AUC for period 4: 0.5667630784795994\n",
      "Test loss for period 5: 16.823187869042158 , Test AUC for period 5: 0.6060064803670173\n",
      "Test loss for period 6: 16.331367697566748 , Test AUC for period 6: 0.6388621620993016\n",
      "\n",
      "Epoch 2\n",
      "---------\n",
      "Overall Train loss: 0.6643483601510525 , Overall Train AUC: 0.549447932518502\n",
      "Train loss for period 1: 0.667579660192132 , Train AUC for period 1: 0.520782379568948\n",
      "Train loss for period 2: 0.6668645031750202 , Train AUC for period 2: 0.5262341347592344\n",
      "Train loss for period 3: 0.666097017005086 , Train AUC for period 3: 0.5307590220737981\n",
      "Train loss for period 4: 0.6648618075996637 , Train AUC for period 4: 0.5474410030210314\n",
      "Train loss for period 5: 0.6618984863162041 , Train AUC for period 5: 0.5761074058702598\n",
      "Train loss for period 6: 0.6587886456400156 , Train AUC for period 6: 0.6031428378391421\n",
      "Overall test loss: 0.6476055830717087 , Overall test AUC: 0.5701233882900021\n",
      "Test loss for period 1: 17.598537396639585 , Test AUC for period 1: 0.5250273354488335\n",
      "Test loss for period 2: 17.619686298072338 , Test AUC for period 2: 0.5334519405202748\n",
      "Test loss for period 3: 17.498247276991606 , Test AUC for period 3: 0.5512568000276435\n",
      "Test loss for period 4: 17.369753807783127 , Test AUC for period 4: 0.5658945743755723\n",
      "Test loss for period 5: 16.907696176320314 , Test AUC for period 5: 0.6050646600130156\n",
      "Test loss for period 6: 16.415844801813364 , Test AUC for period 6: 0.6378237348752297\n",
      "\n",
      "Epoch 3\n",
      "---------\n",
      "Overall Train loss: 0.6542258430272341 , Overall Train AUC: 0.5909930635317433\n",
      "Train loss for period 1: 0.6624584216624498 , Train AUC for period 1: 0.5503325064908742\n",
      "Train loss for period 2: 0.6608489770442247 , Train AUC for period 2: 0.5577058499908307\n",
      "Train loss for period 3: 0.6591622494161129 , Train AUC for period 3: 0.5666600712307084\n",
      "Train loss for period 4: 0.6563720125705004 , Train AUC for period 4: 0.5863535282365091\n",
      "Train loss for period 5: 0.648233812302351 , Train AUC for period 5: 0.6293015915913017\n",
      "Train loss for period 6: 0.6382795814424753 , Train AUC for period 6: 0.675576360670611\n",
      "Overall test loss: 0.6454406529664993 , Overall test AUC: 0.5788762065807088\n",
      "Test loss for period 1: 17.673050578683615 , Test AUC for period 1: 0.5254963883818432\n",
      "Test loss for period 2: 17.6940176486969 , Test AUC for period 2: 0.5338860880046088\n",
      "Test loss for period 3: 17.572419051080942 , Test AUC for period 3: 0.5515810014782198\n",
      "Test loss for period 4: 17.443083487451077 , Test AUC for period 4: 0.5661399849608691\n",
      "Test loss for period 5: 16.98025405034423 , Test AUC for period 5: 0.6051357118835969\n",
      "Test loss for period 6: 16.48672342672944 , Test AUC for period 6: 0.6378074357482539\n",
      "\n",
      "Epoch 4\n",
      "---------\n",
      "Overall Train loss: 0.6608328595757484 , Overall Train AUC: 0.5816652430176854\n",
      "Train loss for period 1: 0.6737072467803955 , Train AUC for period 1: 0.5349837366201126\n",
      "Train loss for period 2: 0.67051150649786 , Train AUC for period 2: 0.5437731041338906\n",
      "Train loss for period 3: 0.6670855768024921 , Train AUC for period 3: 0.555641800264461\n",
      "Train loss for period 4: 0.6621859166771173 , Train AUC for period 4: 0.578392579651954\n",
      "Train loss for period 5: 0.6517765577882528 , Train AUC for period 5: 0.6217533564334455\n",
      "Train loss for period 6: 0.6397303119301796 , Train AUC for period 6: 0.6632741031011418\n",
      "Overall test loss: 0.639743410050869 , Overall test AUC: 0.5842385771154794\n",
      "Test loss for period 1: 17.763160187751055 , Test AUC for period 1: 0.524560156252651\n",
      "Test loss for period 2: 17.781864687800407 , Test AUC for period 2: 0.5329939988530463\n",
      "Test loss for period 3: 17.657968942075968 , Test AUC for period 3: 0.5507713178996042\n",
      "Test loss for period 4: 17.52560582011938 , Test AUC for period 4: 0.5655646993884045\n",
      "Test loss for period 5: 17.060879204422235 , Test AUC for period 5: 0.6045328227843376\n",
      "Test loss for period 6: 16.56639563664794 , Test AUC for period 6: 0.6371470798490184\n",
      "\n",
      "Epoch 5\n",
      "---------\n",
      "Overall Train loss: 0.6543220095336437 , Overall Train AUC: 0.5874615722017924\n",
      "Train loss for period 1: 0.6704058721661568 , Train AUC for period 1: 0.5287275956257782\n",
      "Train loss for period 2: 0.6663388106971979 , Train AUC for period 2: 0.5371113920874072\n",
      "Train loss for period 3: 0.6626189649105072 , Train AUC for period 3: 0.5522720472554944\n",
      "Train loss for period 4: 0.6565699838101864 , Train AUC for period 4: 0.5822401961257444\n",
      "Train loss for period 5: 0.6426115557551384 , Train AUC for period 5: 0.6407431930274982\n",
      "Train loss for period 6: 0.6273868307471275 , Train AUC for period 6: 0.7043937185711391\n",
      "Overall test loss: 0.644851379096508 , Overall test AUC: 0.5873608909321496\n",
      "Test loss for period 1: 17.838919293135405 , Test AUC for period 1: 0.5249447861877152\n",
      "Test loss for period 2: 17.859567992389202 , Test AUC for period 2: 0.5333064166115267\n",
      "Test loss for period 3: 17.73549284413457 , Test AUC for period 3: 0.5511469686094632\n",
      "Test loss for period 4: 17.600586161017418 , Test AUC for period 4: 0.5662306514742002\n",
      "Test loss for period 5: 17.133948747068644 , Test AUC for period 5: 0.6052157552682046\n",
      "Test loss for period 6: 16.640635762363672 , Test AUC for period 6: 0.6376016996198145\n",
      "\n",
      "Epoch 6\n",
      "---------\n",
      "Overall Train loss: 0.6395178725942969 , Overall Train AUC: 0.6093281127508545\n",
      "Train loss for period 1: 0.6649290695786476 , Train AUC for period 1: 0.5429922688621426\n",
      "Train loss for period 2: 0.6600082162767649 , Train AUC for period 2: 0.5537543795303406\n",
      "Train loss for period 3: 0.6556263510137796 , Train AUC for period 3: 0.5745426467323637\n",
      "Train loss for period 4: 0.6446198998019099 , Train AUC for period 4: 0.6059550030403351\n",
      "Train loss for period 5: 0.6197887742891908 , Train AUC for period 5: 0.670412809945274\n",
      "Train loss for period 6: 0.5921350056305528 , Train AUC for period 6: 0.7385859063576785\n",
      "Overall test loss: 0.6485900208353996 , Overall test AUC: 0.599386317198619\n",
      "Test loss for period 1: 17.934972401708364 , Test AUC for period 1: 0.5239064876443016\n",
      "Test loss for period 2: 17.955153860151768 , Test AUC for period 2: 0.5322329273834004\n",
      "Test loss for period 3: 17.82870167121291 , Test AUC for period 3: 0.5500434085351695\n",
      "Test loss for period 4: 17.692072451114655 , Test AUC for period 4: 0.5650693692222404\n",
      "Test loss for period 5: 17.220183331519365 , Test AUC for period 5: 0.6040032812619778\n",
      "Test loss for period 6: 16.727540496736765 , Test AUC for period 6: 0.6362182525266329\n",
      "\n",
      "Epoch 7\n",
      "---------\n",
      "Overall Train loss: 0.6624920004978776 , Overall Train AUC: 0.5609455066849838\n",
      "Train loss for period 1: 0.6761207785457373 , Train AUC for period 1: 0.5126545503682184\n",
      "Train loss for period 2: 0.6740496139973402 , Train AUC for period 2: 0.521563793952146\n",
      "Train loss for period 3: 0.6717840824276209 , Train AUC for period 3: 0.5330404316310674\n",
      "Train loss for period 4: 0.6651232894510031 , Train AUC for period 4: 0.5531386875404172\n",
      "Train loss for period 5: 0.6519187148660421 , Train AUC for period 5: 0.5969197061974577\n",
      "Train loss for period 6: 0.6359555777162313 , Train AUC for period 6: 0.6455108245581862\n",
      "Overall test loss: 0.6396698877215385 , Overall test AUC: 0.5979588969914746\n",
      "Test loss for period 1: 18.003558602184057 , Test AUC for period 1: 0.5249201333324516\n",
      "Test loss for period 2: 18.02567619085312 , Test AUC for period 2: 0.5331022250362591\n",
      "Test loss for period 3: 17.89909565076232 , Test AUC for period 3: 0.5509152058288036\n",
      "Test loss for period 4: 17.761950477957726 , Test AUC for period 4: 0.5659082653335625\n",
      "Test loss for period 5: 17.28978196159005 , Test AUC for period 5: 0.6046430590639176\n",
      "Test loss for period 6: 16.796791810542345 , Test AUC for period 6: 0.6367323492653381\n",
      "\n",
      "Epoch 8\n",
      "---------\n",
      "Overall Train loss: 0.653380835428834 , Overall Train AUC: 0.5945743262735358\n",
      "Train loss for period 1: 0.6685725711286068 , Train AUC for period 1: 0.5281006109625797\n",
      "Train loss for period 2: 0.6648418717086315 , Train AUC for period 2: 0.5398543534703254\n",
      "Train loss for period 3: 0.6619192864745855 , Train AUC for period 3: 0.5579671257733552\n",
      "Train loss for period 4: 0.6564116105437279 , Train AUC for period 4: 0.5937757101354155\n",
      "Train loss for period 5: 0.6422616187483072 , Train AUC for period 5: 0.6498354358296254\n",
      "Train loss for period 6: 0.6262780353426933 , Train AUC for period 6: 0.7045967936529385\n",
      "Overall test loss: 0.6364427283406258 , Overall test AUC: 0.596874559642077\n",
      "Test loss for period 1: 18.072024878114462 , Test AUC for period 1: 0.5258635731008103\n",
      "Test loss for period 2: 18.096593879163265 , Test AUC for period 2: 0.5339844376180712\n",
      "Test loss for period 3: 17.971049305051565 , Test AUC for period 3: 0.5517358335676654\n",
      "Test loss for period 4: 17.83441613614559 , Test AUC for period 4: 0.5666486306125945\n",
      "Test loss for period 5: 17.360821042209864 , Test AUC for period 5: 0.6054298060003765\n",
      "Test loss for period 6: 16.8656703568995 , Test AUC for period 6: 0.6375669554348233\n",
      "\n",
      "Epoch 9\n",
      "---------\n",
      "Overall Train loss: 0.6466241087764502 , Overall Train AUC: 0.608378686339297\n",
      "Train loss for period 1: 0.6754350261762738 , Train AUC for period 1: 0.538377426235679\n",
      "Train loss for period 2: 0.6678992845118046 , Train AUC for period 2: 0.5427156466261932\n",
      "Train loss for period 3: 0.6639783121645451 , Train AUC for period 3: 0.559595587170751\n",
      "Train loss for period 4: 0.6517621940001845 , Train AUC for period 4: 0.6008568919088478\n",
      "Train loss for period 5: 0.6251175403594971 , Train AUC for period 5: 0.673199687279817\n",
      "Train loss for period 6: 0.5955522591248155 , Train AUC for period 6: 0.7416386923663459\n",
      "Overall test loss: 0.6393667757511139 , Overall test AUC: 0.6021605280772211\n",
      "Test loss for period 1: 18.142575901001692 , Test AUC for period 1: 0.5266663756740669\n",
      "Test loss for period 2: 18.17075964063406 , Test AUC for period 2: 0.5346054852014674\n",
      "Test loss for period 3: 18.045054081827402 , Test AUC for period 3: 0.552430097726069\n",
      "Test loss for period 4: 17.90945052355528 , Test AUC for period 4: 0.567222069420984\n",
      "Test loss for period 5: 17.43281404301524 , Test AUC for period 5: 0.6060666670371853\n",
      "Test loss for period 6: 16.933880414813757 , Test AUC for period 6: 0.638285582758092\n",
      "\n",
      "Epoch 10\n",
      "---------\n",
      "Overall Train loss: 0.6426168978214264 , Overall Train AUC: 0.6103600893547518\n",
      "Train loss for period 1: 0.6688943039625883 , Train AUC for period 1: 0.5362923354599594\n",
      "Train loss for period 2: 0.6639991793781519 , Train AUC for period 2: 0.5467297576418583\n",
      "Train loss for period 3: 0.6611708179116249 , Train AUC for period 3: 0.5614902467979962\n",
      "Train loss for period 4: 0.6498093772679567 , Train AUC for period 4: 0.599619716814501\n",
      "Train loss for period 5: 0.6217711875215173 , Train AUC for period 5: 0.6773682280154816\n",
      "Train loss for period 6: 0.5900565860792994 , Train AUC for period 6: 0.7507676122269731\n",
      "Overall test loss: 0.6354496031999588 , Overall test AUC: 0.6061849591347848\n",
      "Test loss for period 1: 18.225327011197805 , Test AUC for period 1: 0.5263539417724525\n",
      "Test loss for period 2: 18.253242515027523 , Test AUC for period 2: 0.5343460271085033\n",
      "Test loss for period 3: 18.127239797264338 , Test AUC for period 3: 0.552200737182743\n",
      "Test loss for period 4: 17.990366101264954 , Test AUC for period 4: 0.5670858976984269\n",
      "Test loss for period 5: 17.508186083287 , Test AUC for period 5: 0.6062978038769277\n",
      "Test loss for period 6: 17.00547071918845 , Test AUC for period 6: 0.6387150334005698\n",
      "\n",
      "Epoch 11\n",
      "---------\n",
      "Overall Train loss: 0.641051284968853 , Overall Train AUC: 0.6239157612688118\n",
      "Train loss for period 1: 0.6768452059477568 , Train AUC for period 1: 0.5438720356732654\n",
      "Train loss for period 2: 0.6672163605690002 , Train AUC for period 2: 0.5560797050392348\n",
      "Train loss for period 3: 0.6627514772117138 , Train AUC for period 3: 0.57201521132742\n",
      "Train loss for period 4: 0.6485127061605453 , Train AUC for period 4: 0.6138110359338654\n",
      "Train loss for period 5: 0.6143836714327335 , Train AUC for period 5: 0.6913650622062216\n",
      "Train loss for period 6: 0.5765982856974006 , Train AUC for period 6: 0.7657718107849857\n",
      "Overall test loss: 0.6343384087085724 , Overall test AUC: 0.6100771066723032\n",
      "Test loss for period 1: 18.31965095922351 , Test AUC for period 1: 0.5250219121663655\n",
      "Test loss for period 2: 18.34340412169695 , Test AUC for period 2: 0.5332990355666005\n",
      "Test loss for period 3: 18.21706770732999 , Test AUC for period 3: 0.5511099427461235\n",
      "Test loss for period 4: 18.079429782927036 , Test AUC for period 4: 0.5660445668699329\n",
      "Test loss for period 5: 17.591882932931185 , Test AUC for period 5: 0.6055919784690826\n",
      "Test loss for period 6: 17.084858637303114 , Test AUC for period 6: 0.6381788809378857\n",
      "\n",
      "Epoch 12\n",
      "---------\n",
      "Overall Train loss: 0.6390764266252518 , Overall Train AUC: 0.6225564231503019\n",
      "Train loss for period 1: 0.668213127180934 , Train AUC for period 1: 0.5350947329813622\n",
      "Train loss for period 2: 0.6648052576929331 , Train AUC for period 2: 0.553971449805515\n",
      "Train loss for period 3: 0.6611029170453548 , Train AUC for period 3: 0.5761342380341097\n",
      "Train loss for period 4: 0.6484158467501402 , Train AUC for period 4: 0.6132618452421168\n",
      "Train loss for period 5: 0.6160247381776571 , Train AUC for period 5: 0.6889130078083527\n",
      "Train loss for period 6: 0.5758966915309429 , Train AUC for period 6: 0.7699667010916251\n",
      "Overall test loss: 0.6262789741158485 , Overall test AUC: 0.6136102303952653\n",
      "Test loss for period 1: 18.390954334288836 , Test AUC for period 1: 0.5257244268793486\n",
      "Test loss for period 2: 18.421885192394257 , Test AUC for period 2: 0.5336462921235593\n",
      "Test loss for period 3: 18.29648246243596 , Test AUC for period 3: 0.5513480542212331\n",
      "Test loss for period 4: 18.15753348171711 , Test AUC for period 4: 0.5662977310137902\n",
      "Test loss for period 5: 17.665158797055483 , Test AUC for period 5: 0.6060103436941877\n",
      "Test loss for period 6: 17.155339423567057 , Test AUC for period 6: 0.6385707406512726\n",
      "\n",
      "Epoch 13\n",
      "---------\n",
      "Overall Train loss: 0.6406921707093716 , Overall Train AUC: 0.6394211566571543\n",
      "Train loss for period 1: 0.6707199979573488 , Train AUC for period 1: 0.5551081490632872\n",
      "Train loss for period 2: 0.6613537035882473 , Train AUC for period 2: 0.5697544567452006\n",
      "Train loss for period 3: 0.6562041565775871 , Train AUC for period 3: 0.587178858571332\n",
      "Train loss for period 4: 0.6452100854367018 , Train AUC for period 4: 0.6271086895673071\n",
      "Train loss for period 5: 0.6226826682686806 , Train AUC for period 5: 0.6971113920874072\n",
      "Train loss for period 6: 0.5879823351278901 , Train AUC for period 6: 0.7725178800660187\n",
      "Overall test loss: 0.6332030296325684 , Overall test AUC: 0.6145655428732474\n",
      "Test loss for period 1: 18.46484911069274 , Test AUC for period 1: 0.5262503566652302\n",
      "Test loss for period 2: 18.501973673701286 , Test AUC for period 2: 0.5338041353655689\n",
      "Test loss for period 3: 18.375427816063166 , Test AUC for period 3: 0.5515683855082678\n",
      "Test loss for period 4: 18.23399206995964 , Test AUC for period 4: 0.5667234109753765\n",
      "Test loss for period 5: 17.741351414471865 , Test AUC for period 5: 0.6063956076390458\n",
      "Test loss for period 6: 17.22073971107602 , Test AUC for period 6: 0.639317174810681\n",
      "\n",
      "Epoch 14\n",
      "---------\n",
      "Overall Train loss: 0.6298545841127634 , Overall Train AUC: 0.6477924083851048\n",
      "Train loss for period 1: 0.6689560580998659 , Train AUC for period 1: 0.5714623529298213\n",
      "Train loss for period 2: 0.6627669204026461 , Train AUC for period 2: 0.5756746165799608\n",
      "Train loss for period 3: 0.6577240657061338 , Train AUC for period 3: 0.5968697095756079\n",
      "Train loss for period 4: 0.6395972426980734 , Train AUC for period 4: 0.6361597189379096\n",
      "Train loss for period 5: 0.5985675258561969 , Train AUC for period 5: 0.7092447421506269\n",
      "Train loss for period 6: 0.5515156965702772 , Train AUC for period 6: 0.7849967666277375\n",
      "Overall test loss: 0.6251200214028358 , Overall test AUC: 0.6209267772845769\n",
      "Test loss for period 1: 18.55329603329301 , Test AUC for period 1: 0.5255142799888071\n",
      "Test loss for period 2: 18.58956830203533 , Test AUC for period 2: 0.5330852386556725\n",
      "Test loss for period 3: 18.462139900773764 , Test AUC for period 3: 0.5508822454466686\n",
      "Test loss for period 4: 18.320895358920097 , Test AUC for period 4: 0.5661524939687794\n",
      "Test loss for period 5: 17.82532960548997 , Test AUC for period 5: 0.6060013565379366\n",
      "Test loss for period 6: 17.30658481642604 , Test AUC for period 6: 0.6386408325706161\n",
      "\n",
      "Epoch 15\n",
      "---------\n",
      "Overall Train loss: 0.6324966344982386 , Overall Train AUC: 0.6459137869277387\n",
      "Train loss for period 1: 0.6705956682562828 , Train AUC for period 1: 0.5575798932504561\n",
      "Train loss for period 2: 0.6655955761671066 , Train AUC for period 2: 0.5714571409267712\n",
      "Train loss for period 3: 0.6615718882530928 , Train AUC for period 3: 0.5930742131323173\n",
      "Train loss for period 4: 0.6448629256337881 , Train AUC for period 4: 0.6345239221288137\n",
      "Train loss for period 5: 0.6026185909286141 , Train AUC for period 5: 0.7114928527995213\n",
      "Train loss for period 6: 0.549735120497644 , Train AUC for period 6: 0.7881950061289296\n",
      "Overall test loss: 0.630564734339714 , Overall test AUC: 0.6218494152046783\n",
      "Test loss for period 1: 18.635281305760145 , Test AUC for period 1: 0.5253011523891874\n",
      "Test loss for period 2: 18.67209378629923 , Test AUC for period 2: 0.532835881045025\n",
      "Test loss for period 3: 18.544169019907713 , Test AUC for period 3: 0.5506743895785725\n",
      "Test loss for period 4: 18.403326347470284 , Test AUC for period 4: 0.5659245980277108\n",
      "Test loss for period 5: 17.91025435552001 , Test AUC for period 5: 0.6056088490519425\n",
      "Test loss for period 6: 17.38990981504321 , Test AUC for period 6: 0.6383107667840158\n",
      "\n",
      "Epoch 16\n",
      "---------\n",
      "Overall Train loss: 0.6307301204651594 , Overall Train AUC: 0.6396793063102773\n",
      "Train loss for period 1: 0.6735313422977924 , Train AUC for period 1: 0.5393190614533767\n",
      "Train loss for period 2: 0.6631555631756783 , Train AUC for period 2: 0.5634935863406912\n",
      "Train loss for period 3: 0.6577889788895845 , Train AUC for period 3: 0.5877214859999806\n",
      "Train loss for period 4: 0.6388998022302985 , Train AUC for period 4: 0.630772920748598\n",
      "Train loss for period 5: 0.5995474569499493 , Train AUC for period 5: 0.7037781230997904\n",
      "Train loss for period 6: 0.5514576332643628 , Train AUC for period 6: 0.7773749843157316\n",
      "Overall test loss: 0.624562494456768 , Overall test AUC: 0.6270813957584724\n",
      "Test loss for period 1: 18.716859098523855 , Test AUC for period 1: 0.5251315680678137\n",
      "Test loss for period 2: 18.754256151616573 , Test AUC for period 2: 0.5326614493694533\n",
      "Test loss for period 3: 18.62519384548068 , Test AUC for period 3: 0.5505942548482788\n",
      "Test loss for period 4: 18.483791634440422 , Test AUC for period 4: 0.565891717859673\n",
      "Test loss for period 5: 17.989515405148268 , Test AUC for period 5: 0.6055893703311264\n",
      "Test loss for period 6: 17.465104941278696 , Test AUC for period 6: 0.6383996520100528\n",
      "\n",
      "Epoch 17\n",
      "---------\n",
      "Overall Train loss: 0.6407653940841556 , Overall Train AUC: 0.6248174806936039\n",
      "Train loss for period 1: 0.6714558154344559 , Train AUC for period 1: 0.5347397376625131\n",
      "Train loss for period 2: 0.6680298205465078 , Train AUC for period 2: 0.5550088314496124\n",
      "Train loss for period 3: 0.6648259051144123 , Train AUC for period 3: 0.5767820707095082\n",
      "Train loss for period 4: 0.6506661586463451 , Train AUC for period 4: 0.6170245253699074\n",
      "Train loss for period 5: 0.6158662168309093 , Train AUC for period 5: 0.6866258071365834\n",
      "Train loss for period 6: 0.5737484879791737 , Train AUC for period 6: 0.7575069252077562\n",
      "Overall test loss: 0.6471712663769722 , Overall test AUC: 0.6168222891566265\n",
      "Test loss for period 1: 18.79706086590886 , Test AUC for period 1: 0.5251290131055469\n",
      "Test loss for period 2: 18.837190210819244 , Test AUC for period 2: 0.5325480550218359\n",
      "Test loss for period 3: 18.707973200827837 , Test AUC for period 3: 0.5505902987975615\n",
      "Test loss for period 4: 18.566061817109585 , Test AUC for period 4: 0.5660428354791229\n",
      "Test loss for period 5: 18.069331292062998 , Test AUC for period 5: 0.6058324315213408\n",
      "Test loss for period 6: 17.54011232033372 , Test AUC for period 6: 0.6389810832069616\n",
      "\n",
      "Epoch 18\n",
      "---------\n",
      "Overall Train loss: 0.6368766240775585 , Overall Train AUC: 0.632252711367636\n",
      "Train loss for period 1: 0.681139387190342 , Train AUC for period 1: 0.5210032140685474\n",
      "Train loss for period 2: 0.6665583997964859 , Train AUC for period 2: 0.5458028897661356\n",
      "Train loss for period 3: 0.6596242878586054 , Train AUC for period 3: 0.5700967116121498\n",
      "Train loss for period 4: 0.6428542677313089 , Train AUC for period 4: 0.619638730973776\n",
      "Train loss for period 5: 0.6070809448137879 , Train AUC for period 5: 0.7086860926385283\n",
      "Train loss for period 6: 0.5640024272724986 , Train AUC for period 6: 0.7890094298647775\n",
      "Overall test loss: 0.6493845283985138 , Overall test AUC: 0.617105439301064\n",
      "Test loss for period 1: 18.871883030980825 , Test AUC for period 1: 0.5254695051720104\n",
      "Test loss for period 2: 18.910998955368996 , Test AUC for period 2: 0.5331158739196318\n",
      "Test loss for period 3: 18.781689386814833 , Test AUC for period 3: 0.5514170710986995\n",
      "Test loss for period 4: 18.641699612140656 , Test AUC for period 4: 0.5669481573865707\n",
      "Test loss for period 5: 18.140414137393236 , Test AUC for period 5: 0.6069421950893767\n",
      "Test loss for period 6: 17.605510029941797 , Test AUC for period 6: 0.6401812262198484\n",
      "\n",
      "Epoch 19\n",
      "---------\n",
      "Overall Train loss: 0.6355662662535906 , Overall Train AUC: 0.6479645867986183\n",
      "Train loss for period 1: 0.671522494405508 , Train AUC for period 1: 0.5625611203876186\n",
      "Train loss for period 2: 0.662026971578598 , Train AUC for period 2: 0.5748872180451128\n",
      "Train loss for period 3: 0.6556619163602591 , Train AUC for period 3: 0.5960890673410097\n",
      "Train loss for period 4: 0.6402987614274025 , Train AUC for period 4: 0.6349731195768626\n",
      "Train loss for period 5: 0.6107844207435846 , Train AUC for period 5: 0.7037984885191154\n",
      "Train loss for period 6: 0.5731030134484172 , Train AUC for period 6: 0.7763060410976093\n",
      "Overall test loss: 0.6269658878445625 , Overall test AUC: 0.6269541323187486\n",
      "Test loss for period 1: 18.950690742582083 , Test AUC for period 1: 0.5255127717228589\n",
      "Test loss for period 2: 18.995887346565723 , Test AUC for period 2: 0.5328973592603286\n",
      "Test loss for period 3: 18.864981677383184 , Test AUC for period 3: 0.5513128382744732\n",
      "Test loss for period 4: 18.725483782589436 , Test AUC for period 4: 0.5667156728553693\n",
      "Test loss for period 5: 18.215266067534685 , Test AUC for period 5: 0.6073059406092198\n",
      "Test loss for period 6: 17.67266047373414 , Test AUC for period 6: 0.6408347534372241\n",
      "\n"
     ]
    }
   ],
   "source": [
    "# model building\n",
    "\n",
    "model = SequenceModel(n_features = training_dat[0][0].shape[1], n_classes = 2, n_hidden = 15, n_layers = 1)\n",
    "loss_function = torch.nn.CrossEntropyLoss()\n",
    "optimizer = torch.optim.Adam(model.parameters(), lr= 0.01)\n",
    "train_dataset = RushDataset(sequences = training_dat, sequence_length=30)\n",
    "train_loader = DataLoader(train_dataset, batch_size = 30, shuffle = True)\n",
    "test_dataset = RushDataset(sequences = test_dat, sequence_length=30)\n",
    "test_loader = DataLoader(test_dataset, batch_size = 30, shuffle = True)\n",
    "\n",
    "lstm_model = train_rush_lstm(train_loader, test_loader, model, loss_function, optimizer, num_epochs = 20)"
   ]
  },
  {
   "cell_type": "code",
   "execution_count": 1089,
   "metadata": {},
   "outputs": [
    {
     "ename": "AttributeError",
     "evalue": "'DataFrame' object has no attribute 'nflId'",
     "output_type": "error",
     "traceback": [
      "\u001b[0;31m---------------------------------------------------------------------------\u001b[0m",
      "\u001b[0;31mAttributeError\u001b[0m                            Traceback (most recent call last)",
      "\u001b[1;32m/Users/nickbachelder/Desktop/Kaggle/Linemen/code/clean/data_clean.ipynb Cell 8\u001b[0m in \u001b[0;36m<cell line: 4>\u001b[0;34m()\u001b[0m\n\u001b[1;32m      <a href='vscode-notebook-cell:/Users/nickbachelder/Desktop/Kaggle/Linemen/code/clean/data_clean.ipynb#X55sZmlsZQ%3D%3D?line=0'>1</a>\u001b[0m play_id \u001b[39m=\u001b[39m \u001b[39m2021091201901\u001b[39m\n\u001b[1;32m      <a href='vscode-notebook-cell:/Users/nickbachelder/Desktop/Kaggle/Linemen/code/clean/data_clean.ipynb#X55sZmlsZQ%3D%3D?line=1'>2</a>\u001b[0m player_id \u001b[39m=\u001b[39m \u001b[39m47792\u001b[39m\n\u001b[0;32m----> <a href='vscode-notebook-cell:/Users/nickbachelder/Desktop/Kaggle/Linemen/code/clean/data_clean.ipynb#X55sZmlsZQ%3D%3D?line=3'>4</a>\u001b[0m all_data\u001b[39m.\u001b[39;49mreplace_player_with_average(play_id \u001b[39m=\u001b[39;49m play_id, player_id \u001b[39m=\u001b[39;49m player_id)\n",
      "File \u001b[0;32m/var/folders/xs/5ps3sp7d651c8whk_0_xk6580000gn/T/ipykernel_1846/3052880796.py:376\u001b[0m, in \u001b[0;36mmaster_track.replace_player_with_average\u001b[0;34m(self, play_id, player_id)\u001b[0m\n\u001b[1;32m    374\u001b[0m \u001b[39mdef\u001b[39;00m \u001b[39mreplace_player_with_average\u001b[39m(\u001b[39mself\u001b[39m, play_id, player_id): \u001b[39m# might need to add normalize to this\u001b[39;00m\n\u001b[1;32m    375\u001b[0m     current_play \u001b[39m=\u001b[39m \u001b[39mself\u001b[39m\u001b[39m.\u001b[39mget_play_train(play_id, \u001b[39mtype\u001b[39m \u001b[39m=\u001b[39m \u001b[39m'\u001b[39m\u001b[39mindividual\u001b[39m\u001b[39m'\u001b[39m, time_split \u001b[39m=\u001b[39m \u001b[39mFalse\u001b[39;00m)\n\u001b[0;32m--> 376\u001b[0m     current_player \u001b[39m=\u001b[39m current_play\u001b[39m.\u001b[39mloc[(all_training\u001b[39m.\u001b[39;49mnflId \u001b[39m==\u001b[39m player_id)]\u001b[39m.\u001b[39mcopy()\n\u001b[1;32m    377\u001b[0m     current_player_keep \u001b[39m=\u001b[39m current_player\u001b[39m.\u001b[39mloc[:,[\u001b[39m'\u001b[39m\u001b[39mgameId\u001b[39m\u001b[39m'\u001b[39m, \u001b[39m'\u001b[39m\u001b[39mplayId\u001b[39m\u001b[39m'\u001b[39m, \u001b[39m'\u001b[39m\u001b[39mnflId\u001b[39m\u001b[39m'\u001b[39m, \u001b[39m'\u001b[39m\u001b[39mteam\u001b[39m\u001b[39m'\u001b[39m, \u001b[39m'\u001b[39m\u001b[39mweek\u001b[39m\u001b[39m'\u001b[39m, \u001b[39m'\u001b[39m\u001b[39mx\u001b[39m\u001b[39m'\u001b[39m, \n\u001b[1;32m    378\u001b[0m                                                 \u001b[39m'\u001b[39m\u001b[39my\u001b[39m\u001b[39m'\u001b[39m, \u001b[39m'\u001b[39m\u001b[39mx_qb\u001b[39m\u001b[39m'\u001b[39m, \u001b[39m'\u001b[39m\u001b[39my_qb\u001b[39m\u001b[39m'\u001b[39m, \u001b[39m'\u001b[39m\u001b[39ms_qb\u001b[39m\u001b[39m'\u001b[39m, \u001b[39m'\u001b[39m\u001b[39ma_qb\u001b[39m\u001b[39m'\u001b[39m, \u001b[39m'\u001b[39m\u001b[39mdisrupt_individual\u001b[39m\u001b[39m'\u001b[39m]]\u001b[39m.\u001b[39mreset_index(drop \u001b[39m=\u001b[39m \u001b[39m1\u001b[39m)\n\u001b[1;32m    379\u001b[0m     max_time_after_snap \u001b[39m=\u001b[39m \u001b[39mmax\u001b[39m(current_player\u001b[39m.\u001b[39mtime_after_snap\u001b[39m.\u001b[39mtolist())\n",
      "File \u001b[0;32m~/opt/anaconda3/envs/data-science/lib/python3.10/site-packages/pandas/core/generic.py:5575\u001b[0m, in \u001b[0;36mNDFrame.__getattr__\u001b[0;34m(self, name)\u001b[0m\n\u001b[1;32m   5568\u001b[0m \u001b[39mif\u001b[39;00m (\n\u001b[1;32m   5569\u001b[0m     name \u001b[39mnot\u001b[39;00m \u001b[39min\u001b[39;00m \u001b[39mself\u001b[39m\u001b[39m.\u001b[39m_internal_names_set\n\u001b[1;32m   5570\u001b[0m     \u001b[39mand\u001b[39;00m name \u001b[39mnot\u001b[39;00m \u001b[39min\u001b[39;00m \u001b[39mself\u001b[39m\u001b[39m.\u001b[39m_metadata\n\u001b[1;32m   5571\u001b[0m     \u001b[39mand\u001b[39;00m name \u001b[39mnot\u001b[39;00m \u001b[39min\u001b[39;00m \u001b[39mself\u001b[39m\u001b[39m.\u001b[39m_accessors\n\u001b[1;32m   5572\u001b[0m     \u001b[39mand\u001b[39;00m \u001b[39mself\u001b[39m\u001b[39m.\u001b[39m_info_axis\u001b[39m.\u001b[39m_can_hold_identifiers_and_holds_name(name)\n\u001b[1;32m   5573\u001b[0m ):\n\u001b[1;32m   5574\u001b[0m     \u001b[39mreturn\u001b[39;00m \u001b[39mself\u001b[39m[name]\n\u001b[0;32m-> 5575\u001b[0m \u001b[39mreturn\u001b[39;00m \u001b[39mobject\u001b[39;49m\u001b[39m.\u001b[39;49m\u001b[39m__getattribute__\u001b[39;49m(\u001b[39mself\u001b[39;49m, name)\n",
      "\u001b[0;31mAttributeError\u001b[0m: 'DataFrame' object has no attribute 'nflId'"
     ]
    }
   ],
   "source": [
    "play_id = 2021091201901\n",
    "player_id = 47792\n",
    "\n",
    "all_data.replace_player_with_average(play_id = play_id, player_id = player_id)"
   ]
  },
  {
   "cell_type": "code",
   "execution_count": 1063,
   "metadata": {},
   "outputs": [
    {
     "name": "stdout",
     "output_type": "stream",
     "text": [
      "Getting week 1 normalized training data\n",
      "Getting week 2 normalized training data\n"
     ]
    },
    {
     "name": "stderr",
     "output_type": "stream",
     "text": [
      "100%|██████████| 1/1 [00:00<00:00, 381.23it/s]\n"
     ]
    }
   ],
   "source": [
    "### plotting all below\n",
    "\n",
    "\n",
    "play_id = 2021091201901\n",
    "\n",
    "play_prob = predict_play(master_track = all_data, week = 3, play_id = play_id, model = lstm_model, normalize = True)\n",
    "\n",
    "player_ids = all_data.search_track_weeks(variables = [\"playId\"], variable_values = [play_id]).reset_index(drop = True).nflId.unique()\n",
    "player_ids = np.intersect1d(player_ids, all_data.all_linemen).tolist()\n",
    "\n",
    "rusher_play_info = all_data.get_play(play_id).reset_index()\n",
    "rusher_play_info = rusher_play_info.loc[rusher_play_info.nflId.isin(player_ids)]\n",
    "\n",
    "\n",
    "def_match = all_data.play_details_df.loc[(all_data.play_details_df.playId == play_id) & (all_data.play_details_df.pff_nflIdBlockedPlayer.notna()), ['playId', 'nflId', 'pff_nflIdBlockedPlayer']]\n",
    "defender_track = []\n",
    "for defender in def_match.nflId:\n",
    "    this_def = all_data.search_track_weeks(variables = [\"playId\", \"nflId\"], variable_values = [play_id, defender])\n",
    "    defender_track.append(this_def)\n",
    "defender_track = pd.concat(defender_track).merge(def_match, on = ['playId', 'nflId'], how = 'left').loc[:,['nflId', 'playId', 'time_after_snap', 'pff_nflIdBlockedPlayer', 'x', 'y']].rename(columns = {'pff_nflIdBlockedPlayer' : 'nflId', 'nflId' : 'blockerId', 'x' : 'x_block', 'y' : 'y_block'})\n",
    "\n",
    "# get qb track\n",
    "qb_track = all_data.get_qb_track_on_play(play_id).loc[:, ['playId', 'time_after_snap', 'x', 'y', 's', 'a']].rename(columns = {'x' : 'x_qb', 'y' : 'y_qb', 's' : 's_qb', 'a' : 'a_qb'})\n",
    "defender_qb_track = defender_track.merge(qb_track, on = ['playId', 'time_after_snap'], how = 'left')\n",
    "\n",
    "block_df = defender_qb_track.loc[(defender_qb_track.time_after_snap >= 0) & (defender_qb_track.time_after_snap < len(play_prob) / 10), ['blockerId', 'time_after_snap', 'x_block', 'y_block']].rename(columns = {'blockerId' : 'nflId', 'x_block' : 'x', 'y_block' : 'y'}).drop_duplicates()\n",
    "rush_df = rusher_play_info.loc[(rusher_play_info.time_after_snap >= 0) & (rusher_play_info.time_after_snap < len(play_prob) / 10), ['nflId', 'time_after_snap', 'x', 'y']].drop_duplicates()\n",
    "qb_df = defender_qb_track.loc[(defender_qb_track.time_after_snap >= 0) & (defender_qb_track.time_after_snap < len(play_prob) / 10), ['time_after_snap', 'x_qb', 'y_qb']].rename(columns = {'x_qb' : 'x', 'y_qb' : 'y'}).drop_duplicates()\n",
    "qb_df['nflId'] = 1\n",
    "\n",
    "unique_time_after_snap = rush_df.time_after_snap.unique()\n",
    "n_player_rush = len(rush_df.nflId.unique())\n",
    "n_player_block = len(block_df.nflId.unique())\n",
    "\n",
    "n_frame = len(unique_time_after_snap)\n",
    "motion_rush = np.empty(shape = (n_frame,3,n_player_rush))\n",
    "motion_block = np.empty(shape = (n_frame,3,n_player_block))\n",
    "motion_qb = np.empty(shape = (n_frame,3, 1))\n",
    "frame = 0\n",
    "for time_after in unique_time_after_snap:\n",
    "    this_frame_rush = rush_df.loc[rush_df.time_after_snap == time_after].copy()\n",
    "    x_this_frame_rush, y_this_frame_rush, color_this_frame_rush = this_frame_rush.x.values.tolist(), this_frame_rush.y.values.tolist(), this_frame_rush.x.values.tolist()\n",
    "    motion_rush[frame, :, :] = [x_this_frame_rush, y_this_frame_rush, color_this_frame_rush]\n",
    "    \n",
    "    this_frame_block = block_df.loc[block_df.time_after_snap == time_after].copy()\n",
    "    x_this_frame_block, y_this_frame_block, color_this_frame_block = this_frame_block.x.values.tolist(), this_frame_block.y.values.tolist(), this_frame_block.x.values.tolist()\n",
    "    motion_block[frame, :, :] = [x_this_frame_block, y_this_frame_block, color_this_frame_block]\n",
    "\n",
    "    this_frame_qb = qb_df.loc[block_df.time_after_snap == time_after].copy()\n",
    "    x_this_frame_qb, y_this_frame_qb, color_this_frame_qb = this_frame_qb.x.values.tolist(), this_frame_qb.y.values.tolist(), this_frame_qb.x.values.tolist()\n",
    "    motion_qb[frame, :, :] = [x_this_frame_qb, y_this_frame_qb, color_this_frame_qb]\n",
    "\n",
    "    frame += 1"
   ]
  },
  {
   "cell_type": "code",
   "execution_count": 1086,
   "metadata": {},
   "outputs": [],
   "source": [
    "range_x = [min(motion_block[0,0,:]) - 15, max(motion_rush[0,0,:]) + 15]\n",
    "range_y = [min(motion_rush[0,1,:]) - 15, max(motion_rush[0,1,:]) + 15]\n",
    "color_min, color_max = np.amin(motion_rush[:,2,:]), np.amax(motion_rush[:,2,:])\n",
    "start_frame = [go.Scatter(x=motion_rush[0,0,:], y = motion_rush[0,1,:], \n",
    "                            mode = \"markers+text\", \n",
    "                            text = ['QB Distruption Probability: ' + str(round(play_prob[0], 3))],\n",
    "                            textposition=\"bottom center\",\n",
    "                            name = \"Rushers\",\n",
    "                            legendgroup = \"Rushers\",\n",
    "                            marker = dict(size=16,color=motion_rush[0,2,:],colorscale='Greens',showscale=True, cmin=color_min, cmax = color_max)),\n",
    "               go.Scatter(x=motion_block[0,0,:], y = motion_block[0,1,:], \n",
    "                            mode = \"markers\", \n",
    "                            name = \"Blockers\",\n",
    "                            legendgroup = \"Blockers\",\n",
    "                            marker = dict(size=16),\n",
    "                            marker_symbol = \"x\"  ),\n",
    "                go.Scatter(x=motion_qb[0,0,:], y = motion_qb[0,1,:], \n",
    "                            mode = \"markers\", \n",
    "                            name = \"QB\",\n",
    "                            legendgroup = \"QB\",\n",
    "                            marker = dict(size=16),\n",
    "                            marker_symbol = \"x\"  ),\n",
    "                go.Scatter(x= np.array(range_x[1]-8), y = np.array(range_y[1]-3), \n",
    "                            mode = \"text\",\n",
    "                            text = ['QB Distruption Probability: ' + str(round(play_prob[0], 3))],\n",
    "                            textfont = dict(size=20) ) ]\n",
    "\n",
    "all_frame = [   go.Frame(data = [go.Scatter(x=vec[0][0], y = vec[0][1], \n",
    "                                            mode = \"markers+text\", \n",
    "                                            text = 'QB Distruption Probability: ' + str(round(vec[3], 3)),\n",
    "                                            textposition=\"bottom center\",\n",
    "                                            name = \"Rushers\",\n",
    "                                            legendgroup = \"Rushers\",\n",
    "                                            marker = dict(size=16,color=vec[0][2] ) ),\n",
    "                                 go.Scatter(x=vec[1][0], y = vec[1][1], \n",
    "                                            mode = \"markers\", \n",
    "                                            name = \"Blockers\",\n",
    "                                            legendgroup = \"Blockers\",\n",
    "                                            marker = dict(size=16),\n",
    "                                            marker_symbol = \"x\" ),\n",
    "                                go.Scatter(x=vec[2][0], y = vec[2][1], \n",
    "                                            mode = \"markers\", \n",
    "                                            name = \"QB\",\n",
    "                                            legendgroup = \"QB\",\n",
    "                                            marker = dict(size=16),\n",
    "                                            marker_symbol = \"x\" ),\n",
    "                                go.Scatter(x= np.array(range_x[1]-8), y = np.array(range_y[1]-3), \n",
    "                                                mode = \"text\",\n",
    "                                                text = ['QB Distruption Probability: ' + str(round(vec[3], 3))],\n",
    "                                                ) ]) \n",
    "            for vec in zip(motion_rush[1:,:,:], motion_block[1:,:,:], motion_qb[1:,:,:], play_prob[1:])  ]\n",
    "layout_draw = go.Layout(\n",
    "        xaxis=dict(range=range_x, autorange=False),\n",
    "        yaxis=dict(range=range_y, autorange=False),\n",
    "        title= f'Play {play_id}',\n",
    "        updatemenus=[dict(type=\"buttons\",\n",
    "                        buttons=[dict(label=\"Play\",\n",
    "                                    method=\"animate\",\n",
    "                                    args=[None, {\"frame\": {\"duration\": 200, \"redraw\": False}, \"fromcurrent\": True, \"transition\": {\"duration\": 0}}])])]\n",
    "    )\n"
   ]
  },
  {
   "cell_type": "code",
   "execution_count": 1087,
   "metadata": {},
   "outputs": [
    {
     "data": {
      "application/vnd.plotly.v1+json": {
       "config": {
        "plotlyServerURL": "https://plot.ly"
       },
       "data": [
        {
         "legendgroup": "Rushers",
         "marker": {
          "cmax": 31.64,
          "cmin": 26.07,
          "color": [
           31.62,
           31.64
          ],
          "colorscale": [
           [
            0,
            "rgb(247,252,245)"
           ],
           [
            0.125,
            "rgb(229,245,224)"
           ],
           [
            0.25,
            "rgb(199,233,192)"
           ],
           [
            0.375,
            "rgb(161,217,155)"
           ],
           [
            0.5,
            "rgb(116,196,118)"
           ],
           [
            0.625,
            "rgb(65,171,93)"
           ],
           [
            0.75,
            "rgb(35,139,69)"
           ],
           [
            0.875,
            "rgb(0,109,44)"
           ],
           [
            1,
            "rgb(0,68,27)"
           ]
          ],
          "showscale": true,
          "size": 16
         },
         "mode": "markers+text",
         "name": "Rushers",
         "text": [
          "QB Distruption Probability: 0.288"
         ],
         "textposition": "bottom center",
         "type": "scatter",
         "x": [
          31.62,
          31.64
         ],
         "y": [
          24.67,
          21.14
         ]
        },
        {
         "legendgroup": "Blockers",
         "marker": {
          "size": 16,
          "symbol": "x"
         },
         "mode": "markers",
         "name": "Blockers",
         "type": "scatter",
         "x": [
          29.53,
          29.42,
          29.96,
          30.52,
          29.53
         ],
         "y": [
          22.2,
          20.87,
          25.14,
          23.65,
          26.69
         ]
        },
        {
         "legendgroup": "QB",
         "marker": {
          "size": 16,
          "symbol": "x"
         },
         "mode": "markers",
         "name": "QB",
         "type": "scatter",
         "x": [
          25.8
         ],
         "y": [
          23.8
         ]
        },
        {
         "mode": "text",
         "text": [
          "QB Distruption Probability: 0.288"
         ],
         "textfont": {
          "size": 20
         },
         "type": "scatter",
         "x": [
          38.64
         ],
         "y": [
          36.67
         ]
        }
       ],
       "frames": [
        {
         "data": [
          {
           "legendgroup": "Rushers",
           "marker": {
            "color": [
             31.55,
             31.58
            ],
            "size": 16
           },
           "mode": "markers+text",
           "name": "Rushers",
           "text": "QB Distruption Probability: 0.288",
           "textposition": "bottom center",
           "type": "scatter",
           "x": [
            31.55,
            31.58
           ],
           "y": [
            24.66,
            21.14
           ]
          },
          {
           "legendgroup": "Blockers",
           "marker": {
            "size": 16,
            "symbol": "x"
           },
           "mode": "markers",
           "name": "Blockers",
           "type": "scatter",
           "x": [
            29.51,
            29.41,
            29.94,
            30.47,
            29.48
           ],
           "y": [
            22.19,
            20.87,
            25.12,
            23.67,
            26.7
           ]
          },
          {
           "legendgroup": "QB",
           "marker": {
            "size": 16,
            "symbol": "x"
           },
           "mode": "markers",
           "name": "QB",
           "type": "scatter",
           "x": [
            25.78
           ],
           "y": [
            23.81
           ]
          },
          {
           "mode": "text",
           "text": [
            "QB Distruption Probability: 0.288"
           ],
           "type": "scatter",
           "x": [
            38.64
           ],
           "y": [
            36.67
           ]
          }
         ]
        },
        {
         "data": [
          {
           "legendgroup": "Rushers",
           "marker": {
            "color": [
             31.42,
             31.48
            ],
            "size": 16
           },
           "mode": "markers+text",
           "name": "Rushers",
           "text": "QB Distruption Probability: 0.315",
           "textposition": "bottom center",
           "type": "scatter",
           "x": [
            31.42,
            31.48
           ],
           "y": [
            24.65,
            21.13
           ]
          },
          {
           "legendgroup": "Blockers",
           "marker": {
            "size": 16,
            "symbol": "x"
           },
           "mode": "markers",
           "name": "Blockers",
           "type": "scatter",
           "x": [
            29.48,
            29.4,
            29.9,
            30.37,
            29.4
           ],
           "y": [
            22.18,
            20.87,
            25.11,
            23.72,
            26.73
           ]
          },
          {
           "legendgroup": "QB",
           "marker": {
            "size": 16,
            "symbol": "x"
           },
           "mode": "markers",
           "name": "QB",
           "type": "scatter",
           "x": [
            25.76
           ],
           "y": [
            23.82
           ]
          },
          {
           "mode": "text",
           "text": [
            "QB Distruption Probability: 0.315"
           ],
           "type": "scatter",
           "x": [
            38.64
           ],
           "y": [
            36.67
           ]
          }
         ]
        },
        {
         "data": [
          {
           "legendgroup": "Rushers",
           "marker": {
            "color": [
             31.23,
             31.34
            ],
            "size": 16
           },
           "mode": "markers+text",
           "name": "Rushers",
           "text": "QB Distruption Probability: 0.364",
           "textposition": "bottom center",
           "type": "scatter",
           "x": [
            31.23,
            31.34
           ],
           "y": [
            24.62,
            21.14
           ]
          },
          {
           "legendgroup": "Blockers",
           "marker": {
            "size": 16,
            "symbol": "x"
           },
           "mode": "markers",
           "name": "Blockers",
           "type": "scatter",
           "x": [
            29.43,
            29.39,
            29.82,
            30.23,
            29.29
           ],
           "y": [
            22.16,
            20.86,
            25.1,
            23.79,
            26.79
           ]
          },
          {
           "legendgroup": "QB",
           "marker": {
            "size": 16,
            "symbol": "x"
           },
           "mode": "markers",
           "name": "QB",
           "type": "scatter",
           "x": [
            25.74
           ],
           "y": [
            23.82
           ]
          },
          {
           "mode": "text",
           "text": [
            "QB Distruption Probability: 0.364"
           ],
           "type": "scatter",
           "x": [
            38.64
           ],
           "y": [
            36.67
           ]
          }
         ]
        },
        {
         "data": [
          {
           "legendgroup": "Rushers",
           "marker": {
            "color": [
             31.04,
             31.15
            ],
            "size": 16
           },
           "mode": "markers+text",
           "name": "Rushers",
           "text": "QB Distruption Probability: 0.423",
           "textposition": "bottom center",
           "type": "scatter",
           "x": [
            31.04,
            31.15
           ],
           "y": [
            24.63,
            21.15
           ]
          },
          {
           "legendgroup": "Blockers",
           "marker": {
            "size": 16,
            "symbol": "x"
           },
           "mode": "markers",
           "name": "Blockers",
           "type": "scatter",
           "x": [
            29.37,
            29.34,
            29.73,
            30.08,
            29.14
           ],
           "y": [
            22.14,
            20.86,
            25.09,
            23.84,
            26.88
           ]
          },
          {
           "legendgroup": "QB",
           "marker": {
            "size": 16,
            "symbol": "x"
           },
           "mode": "markers",
           "name": "QB",
           "type": "scatter",
           "x": [
            25.72
           ],
           "y": [
            23.83
           ]
          },
          {
           "mode": "text",
           "text": [
            "QB Distruption Probability: 0.423"
           ],
           "type": "scatter",
           "x": [
            38.64
           ],
           "y": [
            36.67
           ]
          }
         ]
        },
        {
         "data": [
          {
           "legendgroup": "Rushers",
           "marker": {
            "color": [
             30.84,
             30.92
            ],
            "size": 16
           },
           "mode": "markers+text",
           "name": "Rushers",
           "text": "QB Distruption Probability: 0.46",
           "textposition": "bottom center",
           "type": "scatter",
           "x": [
            30.84,
            30.92
           ],
           "y": [
            24.62,
            21.21
           ]
          },
          {
           "legendgroup": "Blockers",
           "marker": {
            "size": 16,
            "symbol": "x"
           },
           "mode": "markers",
           "name": "Blockers",
           "type": "scatter",
           "x": [
            29.3,
            29.24,
            29.62,
            29.93,
            28.99
           ],
           "y": [
            22.13,
            20.84,
            25.08,
            23.9,
            26.96
           ]
          },
          {
           "legendgroup": "QB",
           "marker": {
            "size": 16,
            "symbol": "x"
           },
           "mode": "markers",
           "name": "QB",
           "type": "scatter",
           "x": [
            25.66
           ],
           "y": [
            23.84
           ]
          },
          {
           "mode": "text",
           "text": [
            "QB Distruption Probability: 0.46"
           ],
           "type": "scatter",
           "x": [
            38.64
           ],
           "y": [
            36.67
           ]
          }
         ]
        },
        {
         "data": [
          {
           "legendgroup": "Rushers",
           "marker": {
            "color": [
             30.63,
             30.68
            ],
            "size": 16
           },
           "mode": "markers+text",
           "name": "Rushers",
           "text": "QB Distruption Probability: 0.488",
           "textposition": "bottom center",
           "type": "scatter",
           "x": [
            30.63,
            30.68
           ],
           "y": [
            24.66,
            21.28
           ]
          },
          {
           "legendgroup": "Blockers",
           "marker": {
            "size": 16,
            "symbol": "x"
           },
           "mode": "markers",
           "name": "Blockers",
           "type": "scatter",
           "x": [
            29.21,
            29.06,
            29.5,
            29.77,
            28.81
           ],
           "y": [
            22.11,
            20.81,
            25.08,
            23.97,
            27.04
           ]
          },
          {
           "legendgroup": "QB",
           "marker": {
            "size": 16,
            "symbol": "x"
           },
           "mode": "markers",
           "name": "QB",
           "type": "scatter",
           "x": [
            25.57
           ],
           "y": [
            23.87
           ]
          },
          {
           "mode": "text",
           "text": [
            "QB Distruption Probability: 0.488"
           ],
           "type": "scatter",
           "x": [
            38.64
           ],
           "y": [
            36.67
           ]
          }
         ]
        },
        {
         "data": [
          {
           "legendgroup": "Rushers",
           "marker": {
            "color": [
             30.41,
             30.41
            ],
            "size": 16
           },
           "mode": "markers+text",
           "name": "Rushers",
           "text": "QB Distruption Probability: 0.503",
           "textposition": "bottom center",
           "type": "scatter",
           "x": [
            30.41,
            30.41
           ],
           "y": [
            24.74,
            21.37
           ]
          },
          {
           "legendgroup": "Blockers",
           "marker": {
            "size": 16,
            "symbol": "x"
           },
           "mode": "markers",
           "name": "Blockers",
           "type": "scatter",
           "x": [
            29.08,
            28.87,
            29.37,
            29.6,
            28.59
           ],
           "y": [
            22.09,
            20.76,
            25.08,
            24.03,
            27.13
           ]
          },
          {
           "legendgroup": "QB",
           "marker": {
            "size": 16,
            "symbol": "x"
           },
           "mode": "markers",
           "name": "QB",
           "type": "scatter",
           "x": [
            25.43
           ],
           "y": [
            23.89
           ]
          },
          {
           "mode": "text",
           "text": [
            "QB Distruption Probability: 0.503"
           ],
           "type": "scatter",
           "x": [
            38.64
           ],
           "y": [
            36.67
           ]
          }
         ]
        },
        {
         "data": [
          {
           "legendgroup": "Rushers",
           "marker": {
            "color": [
             30.17,
             30.14
            ],
            "size": 16
           },
           "mode": "markers+text",
           "name": "Rushers",
           "text": "QB Distruption Probability: 0.521",
           "textposition": "bottom center",
           "type": "scatter",
           "x": [
            30.17,
            30.14
           ],
           "y": [
            24.8,
            21.49
           ]
          },
          {
           "legendgroup": "Blockers",
           "marker": {
            "size": 16,
            "symbol": "x"
           },
           "mode": "markers",
           "name": "Blockers",
           "type": "scatter",
           "x": [
            28.95,
            28.65,
            29.19,
            29.44,
            28.36
           ],
           "y": [
            22.08,
            20.7,
            25.09,
            24.09,
            27.21
           ]
          },
          {
           "legendgroup": "QB",
           "marker": {
            "size": 16,
            "symbol": "x"
           },
           "mode": "markers",
           "name": "QB",
           "type": "scatter",
           "x": [
            25.25
           ],
           "y": [
            23.91
           ]
          },
          {
           "mode": "text",
           "text": [
            "QB Distruption Probability: 0.521"
           ],
           "type": "scatter",
           "x": [
            38.64
           ],
           "y": [
            36.67
           ]
          }
         ]
        },
        {
         "data": [
          {
           "legendgroup": "Rushers",
           "marker": {
            "color": [
             29.94,
             29.86
            ],
            "size": 16
           },
           "mode": "markers+text",
           "name": "Rushers",
           "text": "QB Distruption Probability: 0.531",
           "textposition": "bottom center",
           "type": "scatter",
           "x": [
            29.94,
            29.86
           ],
           "y": [
            24.88,
            21.64
           ]
          },
          {
           "legendgroup": "Blockers",
           "marker": {
            "size": 16,
            "symbol": "x"
           },
           "mode": "markers",
           "name": "Blockers",
           "type": "scatter",
           "x": [
            28.8,
            28.39,
            29,
            29.27,
            28.12
           ],
           "y": [
            22.1,
            20.65,
            25.11,
            24.16,
            27.28
           ]
          },
          {
           "legendgroup": "QB",
           "marker": {
            "size": 16,
            "symbol": "x"
           },
           "mode": "markers",
           "name": "QB",
           "type": "scatter",
           "x": [
            25.05
           ],
           "y": [
            23.94
           ]
          },
          {
           "mode": "text",
           "text": [
            "QB Distruption Probability: 0.531"
           ],
           "type": "scatter",
           "x": [
            38.64
           ],
           "y": [
            36.67
           ]
          }
         ]
        },
        {
         "data": [
          {
           "legendgroup": "Rushers",
           "marker": {
            "color": [
             29.68,
             29.58
            ],
            "size": 16
           },
           "mode": "markers+text",
           "name": "Rushers",
           "text": "QB Distruption Probability: 0.535",
           "textposition": "bottom center",
           "type": "scatter",
           "x": [
            29.68,
            29.58
           ],
           "y": [
            24.98,
            21.81
           ]
          },
          {
           "legendgroup": "Blockers",
           "marker": {
            "size": 16,
            "symbol": "x"
           },
           "mode": "markers",
           "name": "Blockers",
           "type": "scatter",
           "x": [
            28.63,
            28.11,
            28.81,
            29.12,
            27.87
           ],
           "y": [
            22.14,
            20.58,
            25.12,
            24.24,
            27.35
           ]
          },
          {
           "legendgroup": "QB",
           "marker": {
            "size": 16,
            "symbol": "x"
           },
           "mode": "markers",
           "name": "QB",
           "type": "scatter",
           "x": [
            24.84
           ],
           "y": [
            23.98
           ]
          },
          {
           "mode": "text",
           "text": [
            "QB Distruption Probability: 0.535"
           ],
           "type": "scatter",
           "x": [
            38.64
           ],
           "y": [
            36.67
           ]
          }
         ]
        },
        {
         "data": [
          {
           "legendgroup": "Rushers",
           "marker": {
            "color": [
             29.42,
             29.31
            ],
            "size": 16
           },
           "mode": "markers+text",
           "name": "Rushers",
           "text": "QB Distruption Probability: 0.536",
           "textposition": "bottom center",
           "type": "scatter",
           "x": [
            29.42,
            29.31
           ],
           "y": [
            25.1,
            21.98
           ]
          },
          {
           "legendgroup": "Blockers",
           "marker": {
            "size": 16,
            "symbol": "x"
           },
           "mode": "markers",
           "name": "Blockers",
           "type": "scatter",
           "x": [
            28.46,
            27.82,
            28.61,
            28.96,
            27.6
           ],
           "y": [
            22.17,
            20.52,
            25.14,
            24.33,
            27.4
           ]
          },
          {
           "legendgroup": "QB",
           "marker": {
            "size": 16,
            "symbol": "x"
           },
           "mode": "markers",
           "name": "QB",
           "type": "scatter",
           "x": [
            24.63
           ],
           "y": [
            24.02
           ]
          },
          {
           "mode": "text",
           "text": [
            "QB Distruption Probability: 0.536"
           ],
           "type": "scatter",
           "x": [
            38.64
           ],
           "y": [
            36.67
           ]
          }
         ]
        },
        {
         "data": [
          {
           "legendgroup": "Rushers",
           "marker": {
            "color": [
             29.18,
             29.06
            ],
            "size": 16
           },
           "mode": "markers+text",
           "name": "Rushers",
           "text": "QB Distruption Probability: 0.512",
           "textposition": "bottom center",
           "type": "scatter",
           "x": [
            29.18,
            29.06
           ],
           "y": [
            25.23,
            22.16
           ]
          },
          {
           "legendgroup": "Blockers",
           "marker": {
            "size": 16,
            "symbol": "x"
           },
           "mode": "markers",
           "name": "Blockers",
           "type": "scatter",
           "x": [
            28.27,
            27.5,
            28.4,
            28.8,
            27.32
           ],
           "y": [
            22.22,
            20.5,
            25.18,
            24.42,
            27.44
           ]
          },
          {
           "legendgroup": "QB",
           "marker": {
            "size": 16,
            "symbol": "x"
           },
           "mode": "markers",
           "name": "QB",
           "type": "scatter",
           "x": [
            24.42
           ],
           "y": [
            24.07
           ]
          },
          {
           "mode": "text",
           "text": [
            "QB Distruption Probability: 0.512"
           ],
           "type": "scatter",
           "x": [
            38.64
           ],
           "y": [
            36.67
           ]
          }
         ]
        },
        {
         "data": [
          {
           "legendgroup": "Rushers",
           "marker": {
            "color": [
             28.94,
             28.82
            ],
            "size": 16
           },
           "mode": "markers+text",
           "name": "Rushers",
           "text": "QB Distruption Probability: 0.506",
           "textposition": "bottom center",
           "type": "scatter",
           "x": [
            28.94,
            28.82
           ],
           "y": [
            25.36,
            22.35
           ]
          },
          {
           "legendgroup": "Blockers",
           "marker": {
            "size": 16,
            "symbol": "x"
           },
           "mode": "markers",
           "name": "Blockers",
           "type": "scatter",
           "x": [
            28.06,
            27.18,
            28.18,
            28.66,
            27.01
           ],
           "y": [
            22.32,
            20.48,
            25.21,
            24.53,
            27.45
           ]
          },
          {
           "legendgroup": "QB",
           "marker": {
            "size": 16,
            "symbol": "x"
           },
           "mode": "markers",
           "name": "QB",
           "type": "scatter",
           "x": [
            24.22
           ],
           "y": [
            24.12
           ]
          },
          {
           "mode": "text",
           "text": [
            "QB Distruption Probability: 0.506"
           ],
           "type": "scatter",
           "x": [
            38.64
           ],
           "y": [
            36.67
           ]
          }
         ]
        },
        {
         "data": [
          {
           "legendgroup": "Rushers",
           "marker": {
            "color": [
             28.7,
             28.59
            ],
            "size": 16
           },
           "mode": "markers+text",
           "name": "Rushers",
           "text": "QB Distruption Probability: 0.515",
           "textposition": "bottom center",
           "type": "scatter",
           "x": [
            28.7,
            28.59
           ],
           "y": [
            25.49,
            22.54
           ]
          },
          {
           "legendgroup": "Blockers",
           "marker": {
            "size": 16,
            "symbol": "x"
           },
           "mode": "markers",
           "name": "Blockers",
           "type": "scatter",
           "x": [
            27.86,
            26.86,
            27.96,
            28.51,
            26.68
           ],
           "y": [
            22.43,
            20.46,
            25.26,
            24.66,
            27.44
           ]
          },
          {
           "legendgroup": "QB",
           "marker": {
            "size": 16,
            "symbol": "x"
           },
           "mode": "markers",
           "name": "QB",
           "type": "scatter",
           "x": [
            24.03
           ],
           "y": [
            24.16
           ]
          },
          {
           "mode": "text",
           "text": [
            "QB Distruption Probability: 0.515"
           ],
           "type": "scatter",
           "x": [
            38.64
           ],
           "y": [
            36.67
           ]
          }
         ]
        },
        {
         "data": [
          {
           "legendgroup": "Rushers",
           "marker": {
            "color": [
             28.45,
             28.37
            ],
            "size": 16
           },
           "mode": "markers+text",
           "name": "Rushers",
           "text": "QB Distruption Probability: 0.533",
           "textposition": "bottom center",
           "type": "scatter",
           "x": [
            28.45,
            28.37
           ],
           "y": [
            25.64,
            22.74
           ]
          },
          {
           "legendgroup": "Blockers",
           "marker": {
            "size": 16,
            "symbol": "x"
           },
           "mode": "markers",
           "name": "Blockers",
           "type": "scatter",
           "x": [
            27.66,
            26.55,
            27.76,
            28.36,
            26.34
           ],
           "y": [
            22.54,
            20.46,
            25.31,
            24.8,
            27.43
           ]
          },
          {
           "legendgroup": "QB",
           "marker": {
            "size": 16,
            "symbol": "x"
           },
           "mode": "markers",
           "name": "QB",
           "type": "scatter",
           "x": [
            23.88
           ],
           "y": [
            24.23
           ]
          },
          {
           "mode": "text",
           "text": [
            "QB Distruption Probability: 0.533"
           ],
           "type": "scatter",
           "x": [
            38.64
           ],
           "y": [
            36.67
           ]
          }
         ]
        },
        {
         "data": [
          {
           "legendgroup": "Rushers",
           "marker": {
            "color": [
             28.21,
             28.17
            ],
            "size": 16
           },
           "mode": "markers+text",
           "name": "Rushers",
           "text": "QB Distruption Probability: 0.539",
           "textposition": "bottom center",
           "type": "scatter",
           "x": [
            28.21,
            28.17
           ],
           "y": [
            25.78,
            22.94
           ]
          },
          {
           "legendgroup": "Blockers",
           "marker": {
            "size": 16,
            "symbol": "x"
           },
           "mode": "markers",
           "name": "Blockers",
           "type": "scatter",
           "x": [
            27.47,
            26.23,
            27.55,
            28.21,
            26
           ],
           "y": [
            22.67,
            20.48,
            25.36,
            24.93,
            27.39
           ]
          },
          {
           "legendgroup": "QB",
           "marker": {
            "size": 16,
            "symbol": "x"
           },
           "mode": "markers",
           "name": "QB",
           "type": "scatter",
           "x": [
            23.78
           ],
           "y": [
            24.27
           ]
          },
          {
           "mode": "text",
           "text": [
            "QB Distruption Probability: 0.539"
           ],
           "type": "scatter",
           "x": [
            38.64
           ],
           "y": [
            36.67
           ]
          }
         ]
        },
        {
         "data": [
          {
           "legendgroup": "Rushers",
           "marker": {
            "color": [
             27.97,
             27.98
            ],
            "size": 16
           },
           "mode": "markers+text",
           "name": "Rushers",
           "text": "QB Distruption Probability: 0.532",
           "textposition": "bottom center",
           "type": "scatter",
           "x": [
            27.97,
            27.98
           ],
           "y": [
            25.94,
            23.14
           ]
          },
          {
           "legendgroup": "Blockers",
           "marker": {
            "size": 16,
            "symbol": "x"
           },
           "mode": "markers",
           "name": "Blockers",
           "type": "scatter",
           "x": [
            27.28,
            25.94,
            27.35,
            28.07,
            25.63
           ],
           "y": [
            22.83,
            20.5,
            25.44,
            25.07,
            27.33
           ]
          },
          {
           "legendgroup": "QB",
           "marker": {
            "size": 16,
            "symbol": "x"
           },
           "mode": "markers",
           "name": "QB",
           "type": "scatter",
           "x": [
            23.69
           ],
           "y": [
            24.33
           ]
          },
          {
           "mode": "text",
           "text": [
            "QB Distruption Probability: 0.532"
           ],
           "type": "scatter",
           "x": [
            38.64
           ],
           "y": [
            36.67
           ]
          }
         ]
        },
        {
         "data": [
          {
           "legendgroup": "Rushers",
           "marker": {
            "color": [
             27.74,
             27.81
            ],
            "size": 16
           },
           "mode": "markers+text",
           "name": "Rushers",
           "text": "QB Distruption Probability: 0.526",
           "textposition": "bottom center",
           "type": "scatter",
           "x": [
            27.74,
            27.81
           ],
           "y": [
            26.1,
            23.36
           ]
          },
          {
           "legendgroup": "Blockers",
           "marker": {
            "size": 16,
            "symbol": "x"
           },
           "mode": "markers",
           "name": "Blockers",
           "type": "scatter",
           "x": [
            27.11,
            25.66,
            27.18,
            27.93,
            25.29
           ],
           "y": [
            23,
            20.52,
            25.53,
            25.21,
            27.26
           ]
          },
          {
           "legendgroup": "QB",
           "marker": {
            "size": 16,
            "symbol": "x"
           },
           "mode": "markers",
           "name": "QB",
           "type": "scatter",
           "x": [
            23.62
           ],
           "y": [
            24.38
           ]
          },
          {
           "mode": "text",
           "text": [
            "QB Distruption Probability: 0.526"
           ],
           "type": "scatter",
           "x": [
            38.64
           ],
           "y": [
            36.67
           ]
          }
         ]
        },
        {
         "data": [
          {
           "legendgroup": "Rushers",
           "marker": {
            "color": [
             27.52,
             27.66
            ],
            "size": 16
           },
           "mode": "markers+text",
           "name": "Rushers",
           "text": "QB Distruption Probability: 0.527",
           "textposition": "bottom center",
           "type": "scatter",
           "x": [
            27.52,
            27.66
           ],
           "y": [
            26.26,
            23.57
           ]
          },
          {
           "legendgroup": "Blockers",
           "marker": {
            "size": 16,
            "symbol": "x"
           },
           "mode": "markers",
           "name": "Blockers",
           "type": "scatter",
           "x": [
            26.95,
            25.41,
            27.01,
            27.78,
            24.95
           ],
           "y": [
            23.17,
            20.58,
            25.63,
            25.36,
            27.16
           ]
          },
          {
           "legendgroup": "QB",
           "marker": {
            "size": 16,
            "symbol": "x"
           },
           "mode": "markers",
           "name": "QB",
           "type": "scatter",
           "x": [
            23.57
           ],
           "y": [
            24.45
           ]
          },
          {
           "mode": "text",
           "text": [
            "QB Distruption Probability: 0.527"
           ],
           "type": "scatter",
           "x": [
            38.64
           ],
           "y": [
            36.67
           ]
          }
         ]
        },
        {
         "data": [
          {
           "legendgroup": "Rushers",
           "marker": {
            "color": [
             27.3,
             27.52
            ],
            "size": 16
           },
           "mode": "markers+text",
           "name": "Rushers",
           "text": "QB Distruption Probability: 0.535",
           "textposition": "bottom center",
           "type": "scatter",
           "x": [
            27.3,
            27.52
           ],
           "y": [
            26.41,
            23.79
           ]
          },
          {
           "legendgroup": "Blockers",
           "marker": {
            "size": 16,
            "symbol": "x"
           },
           "mode": "markers",
           "name": "Blockers",
           "type": "scatter",
           "x": [
            26.8,
            25.17,
            26.85,
            27.66,
            24.63
           ],
           "y": [
            23.34,
            20.65,
            25.71,
            25.49,
            27.05
           ]
          },
          {
           "legendgroup": "QB",
           "marker": {
            "size": 16,
            "symbol": "x"
           },
           "mode": "markers",
           "name": "QB",
           "type": "scatter",
           "x": [
            23.55
           ],
           "y": [
            24.52
           ]
          },
          {
           "mode": "text",
           "text": [
            "QB Distruption Probability: 0.535"
           ],
           "type": "scatter",
           "x": [
            38.64
           ],
           "y": [
            36.67
           ]
          }
         ]
        },
        {
         "data": [
          {
           "legendgroup": "Rushers",
           "marker": {
            "color": [
             27.11,
             27.4
            ],
            "size": 16
           },
           "mode": "markers+text",
           "name": "Rushers",
           "text": "QB Distruption Probability: 0.545",
           "textposition": "bottom center",
           "type": "scatter",
           "x": [
            27.11,
            27.4
           ],
           "y": [
            26.56,
            24.03
           ]
          },
          {
           "legendgroup": "Blockers",
           "marker": {
            "size": 16,
            "symbol": "x"
           },
           "mode": "markers",
           "name": "Blockers",
           "type": "scatter",
           "x": [
            26.68,
            24.96,
            26.7,
            27.53,
            24.33
           ],
           "y": [
            23.54,
            20.73,
            25.79,
            25.63,
            26.93
           ]
          },
          {
           "legendgroup": "QB",
           "marker": {
            "size": 16,
            "symbol": "x"
           },
           "mode": "markers",
           "name": "QB",
           "type": "scatter",
           "x": [
            23.56
           ],
           "y": [
            24.56
           ]
          },
          {
           "mode": "text",
           "text": [
            "QB Distruption Probability: 0.545"
           ],
           "type": "scatter",
           "x": [
            38.64
           ],
           "y": [
            36.67
           ]
          }
         ]
        },
        {
         "data": [
          {
           "legendgroup": "Rushers",
           "marker": {
            "color": [
             26.92,
             27.29
            ],
            "size": 16
           },
           "mode": "markers+text",
           "name": "Rushers",
           "text": "QB Distruption Probability: 0.546",
           "textposition": "bottom center",
           "type": "scatter",
           "x": [
            26.92,
            27.29
           ],
           "y": [
            26.7,
            24.26
           ]
          },
          {
           "legendgroup": "Blockers",
           "marker": {
            "size": 16,
            "symbol": "x"
           },
           "mode": "markers",
           "name": "Blockers",
           "type": "scatter",
           "x": [
            26.57,
            24.76,
            26.57,
            27.41,
            24.06
           ],
           "y": [
            23.74,
            20.81,
            25.87,
            25.76,
            26.79
           ]
          },
          {
           "legendgroup": "QB",
           "marker": {
            "size": 16,
            "symbol": "x"
           },
           "mode": "markers",
           "name": "QB",
           "type": "scatter",
           "x": [
            23.57
           ],
           "y": [
            24.6
           ]
          },
          {
           "mode": "text",
           "text": [
            "QB Distruption Probability: 0.546"
           ],
           "type": "scatter",
           "x": [
            38.64
           ],
           "y": [
            36.67
           ]
          }
         ]
        },
        {
         "data": [
          {
           "legendgroup": "Rushers",
           "marker": {
            "color": [
             26.72,
             27.2
            ],
            "size": 16
           },
           "mode": "markers+text",
           "name": "Rushers",
           "text": "QB Distruption Probability: 0.557",
           "textposition": "bottom center",
           "type": "scatter",
           "x": [
            26.72,
            27.2
           ],
           "y": [
            26.84,
            24.51
           ]
          },
          {
           "legendgroup": "Blockers",
           "marker": {
            "size": 16,
            "symbol": "x"
           },
           "mode": "markers",
           "name": "Blockers",
           "type": "scatter",
           "x": [
            26.48,
            24.58,
            26.45,
            27.3,
            23.84
           ],
           "y": [
            23.93,
            20.89,
            25.96,
            25.9,
            26.64
           ]
          },
          {
           "legendgroup": "QB",
           "marker": {
            "size": 16,
            "symbol": "x"
           },
           "mode": "markers",
           "name": "QB",
           "type": "scatter",
           "x": [
            23.6
           ],
           "y": [
            24.64
           ]
          },
          {
           "mode": "text",
           "text": [
            "QB Distruption Probability: 0.557"
           ],
           "type": "scatter",
           "x": [
            38.64
           ],
           "y": [
            36.67
           ]
          }
         ]
        },
        {
         "data": [
          {
           "legendgroup": "Rushers",
           "marker": {
            "color": [
             26.53,
             27.13
            ],
            "size": 16
           },
           "mode": "markers+text",
           "name": "Rushers",
           "text": "QB Distruption Probability: 0.592",
           "textposition": "bottom center",
           "type": "scatter",
           "x": [
            26.53,
            27.13
           ],
           "y": [
            26.99,
            24.76
           ]
          },
          {
           "legendgroup": "Blockers",
           "marker": {
            "size": 16,
            "symbol": "x"
           },
           "mode": "markers",
           "name": "Blockers",
           "type": "scatter",
           "x": [
            26.43,
            24.42,
            26.33,
            27.22,
            23.63
           ],
           "y": [
            24.12,
            20.96,
            26.04,
            26.02,
            26.48
           ]
          },
          {
           "legendgroup": "QB",
           "marker": {
            "size": 16,
            "symbol": "x"
           },
           "mode": "markers",
           "name": "QB",
           "type": "scatter",
           "x": [
            23.62
           ],
           "y": [
            24.65
           ]
          },
          {
           "mode": "text",
           "text": [
            "QB Distruption Probability: 0.592"
           ],
           "type": "scatter",
           "x": [
            38.64
           ],
           "y": [
            36.67
           ]
          }
         ]
        },
        {
         "data": [
          {
           "legendgroup": "Rushers",
           "marker": {
            "color": [
             26.35,
             27.07
            ],
            "size": 16
           },
           "mode": "markers+text",
           "name": "Rushers",
           "text": "QB Distruption Probability: 0.623",
           "textposition": "bottom center",
           "type": "scatter",
           "x": [
            26.35,
            27.07
           ],
           "y": [
            27.12,
            25.01
           ]
          },
          {
           "legendgroup": "Blockers",
           "marker": {
            "size": 16,
            "symbol": "x"
           },
           "mode": "markers",
           "name": "Blockers",
           "type": "scatter",
           "x": [
            26.39,
            24.3,
            26.21,
            27.14,
            23.49
           ],
           "y": [
            24.32,
            21.04,
            26.13,
            26.15,
            26.26
           ]
          },
          {
           "legendgroup": "QB",
           "marker": {
            "size": 16,
            "symbol": "x"
           },
           "mode": "markers",
           "name": "QB",
           "type": "scatter",
           "x": [
            23.65
           ],
           "y": [
            24.64
           ]
          },
          {
           "mode": "text",
           "text": [
            "QB Distruption Probability: 0.623"
           ],
           "type": "scatter",
           "x": [
            38.64
           ],
           "y": [
            36.67
           ]
          }
         ]
        },
        {
         "data": [
          {
           "legendgroup": "Rushers",
           "marker": {
            "color": [
             26.21,
             27.03
            ],
            "size": 16
           },
           "mode": "markers+text",
           "name": "Rushers",
           "text": "QB Distruption Probability: 0.646",
           "textposition": "bottom center",
           "type": "scatter",
           "x": [
            26.21,
            27.03
           ],
           "y": [
            27.24,
            25.27
           ]
          },
          {
           "legendgroup": "Blockers",
           "marker": {
            "size": 16,
            "symbol": "x"
           },
           "mode": "markers",
           "name": "Blockers",
           "type": "scatter",
           "x": [
            26.37,
            24.2,
            26.1,
            27.07,
            23.45
           ],
           "y": [
            24.5,
            21.14,
            26.19,
            26.28,
            26.07
           ]
          },
          {
           "legendgroup": "QB",
           "marker": {
            "size": 16,
            "symbol": "x"
           },
           "mode": "markers",
           "name": "QB",
           "type": "scatter",
           "x": [
            23.69
           ],
           "y": [
            24.61
           ]
          },
          {
           "mode": "text",
           "text": [
            "QB Distruption Probability: 0.646"
           ],
           "type": "scatter",
           "x": [
            38.64
           ],
           "y": [
            36.67
           ]
          }
         ]
        },
        {
         "data": [
          {
           "legendgroup": "Rushers",
           "marker": {
            "color": [
             26.07,
             27.01
            ],
            "size": 16
           },
           "mode": "markers+text",
           "name": "Rushers",
           "text": "QB Distruption Probability: 0.657",
           "textposition": "bottom center",
           "type": "scatter",
           "x": [
            26.07,
            27.01
           ],
           "y": [
            27.38,
            25.51
           ]
          },
          {
           "legendgroup": "Blockers",
           "marker": {
            "size": 16,
            "symbol": "x"
           },
           "mode": "markers",
           "name": "Blockers",
           "type": "scatter",
           "x": [
            26.37,
            24.12,
            26.01,
            27,
            23.38
           ],
           "y": [
            24.68,
            21.23,
            26.26,
            26.41,
            25.86
           ]
          },
          {
           "legendgroup": "QB",
           "marker": {
            "size": 16,
            "symbol": "x"
           },
           "mode": "markers",
           "name": "QB",
           "type": "scatter",
           "x": [
            23.73
           ],
           "y": [
            24.57
           ]
          },
          {
           "mode": "text",
           "text": [
            "QB Distruption Probability: 0.657"
           ],
           "type": "scatter",
           "x": [
            38.64
           ],
           "y": [
            36.67
           ]
          }
         ]
        }
       ],
       "layout": {
        "legend": {
         "orientation": "h"
        },
        "template": {
         "data": {
          "bar": [
           {
            "error_x": {
             "color": "#2a3f5f"
            },
            "error_y": {
             "color": "#2a3f5f"
            },
            "marker": {
             "line": {
              "color": "#E5ECF6",
              "width": 0.5
             },
             "pattern": {
              "fillmode": "overlay",
              "size": 10,
              "solidity": 0.2
             }
            },
            "type": "bar"
           }
          ],
          "barpolar": [
           {
            "marker": {
             "line": {
              "color": "#E5ECF6",
              "width": 0.5
             },
             "pattern": {
              "fillmode": "overlay",
              "size": 10,
              "solidity": 0.2
             }
            },
            "type": "barpolar"
           }
          ],
          "carpet": [
           {
            "aaxis": {
             "endlinecolor": "#2a3f5f",
             "gridcolor": "white",
             "linecolor": "white",
             "minorgridcolor": "white",
             "startlinecolor": "#2a3f5f"
            },
            "baxis": {
             "endlinecolor": "#2a3f5f",
             "gridcolor": "white",
             "linecolor": "white",
             "minorgridcolor": "white",
             "startlinecolor": "#2a3f5f"
            },
            "type": "carpet"
           }
          ],
          "choropleth": [
           {
            "colorbar": {
             "outlinewidth": 0,
             "ticks": ""
            },
            "type": "choropleth"
           }
          ],
          "contour": [
           {
            "colorbar": {
             "outlinewidth": 0,
             "ticks": ""
            },
            "colorscale": [
             [
              0,
              "#0d0887"
             ],
             [
              0.1111111111111111,
              "#46039f"
             ],
             [
              0.2222222222222222,
              "#7201a8"
             ],
             [
              0.3333333333333333,
              "#9c179e"
             ],
             [
              0.4444444444444444,
              "#bd3786"
             ],
             [
              0.5555555555555556,
              "#d8576b"
             ],
             [
              0.6666666666666666,
              "#ed7953"
             ],
             [
              0.7777777777777778,
              "#fb9f3a"
             ],
             [
              0.8888888888888888,
              "#fdca26"
             ],
             [
              1,
              "#f0f921"
             ]
            ],
            "type": "contour"
           }
          ],
          "contourcarpet": [
           {
            "colorbar": {
             "outlinewidth": 0,
             "ticks": ""
            },
            "type": "contourcarpet"
           }
          ],
          "heatmap": [
           {
            "colorbar": {
             "outlinewidth": 0,
             "ticks": ""
            },
            "colorscale": [
             [
              0,
              "#0d0887"
             ],
             [
              0.1111111111111111,
              "#46039f"
             ],
             [
              0.2222222222222222,
              "#7201a8"
             ],
             [
              0.3333333333333333,
              "#9c179e"
             ],
             [
              0.4444444444444444,
              "#bd3786"
             ],
             [
              0.5555555555555556,
              "#d8576b"
             ],
             [
              0.6666666666666666,
              "#ed7953"
             ],
             [
              0.7777777777777778,
              "#fb9f3a"
             ],
             [
              0.8888888888888888,
              "#fdca26"
             ],
             [
              1,
              "#f0f921"
             ]
            ],
            "type": "heatmap"
           }
          ],
          "heatmapgl": [
           {
            "colorbar": {
             "outlinewidth": 0,
             "ticks": ""
            },
            "colorscale": [
             [
              0,
              "#0d0887"
             ],
             [
              0.1111111111111111,
              "#46039f"
             ],
             [
              0.2222222222222222,
              "#7201a8"
             ],
             [
              0.3333333333333333,
              "#9c179e"
             ],
             [
              0.4444444444444444,
              "#bd3786"
             ],
             [
              0.5555555555555556,
              "#d8576b"
             ],
             [
              0.6666666666666666,
              "#ed7953"
             ],
             [
              0.7777777777777778,
              "#fb9f3a"
             ],
             [
              0.8888888888888888,
              "#fdca26"
             ],
             [
              1,
              "#f0f921"
             ]
            ],
            "type": "heatmapgl"
           }
          ],
          "histogram": [
           {
            "marker": {
             "pattern": {
              "fillmode": "overlay",
              "size": 10,
              "solidity": 0.2
             }
            },
            "type": "histogram"
           }
          ],
          "histogram2d": [
           {
            "colorbar": {
             "outlinewidth": 0,
             "ticks": ""
            },
            "colorscale": [
             [
              0,
              "#0d0887"
             ],
             [
              0.1111111111111111,
              "#46039f"
             ],
             [
              0.2222222222222222,
              "#7201a8"
             ],
             [
              0.3333333333333333,
              "#9c179e"
             ],
             [
              0.4444444444444444,
              "#bd3786"
             ],
             [
              0.5555555555555556,
              "#d8576b"
             ],
             [
              0.6666666666666666,
              "#ed7953"
             ],
             [
              0.7777777777777778,
              "#fb9f3a"
             ],
             [
              0.8888888888888888,
              "#fdca26"
             ],
             [
              1,
              "#f0f921"
             ]
            ],
            "type": "histogram2d"
           }
          ],
          "histogram2dcontour": [
           {
            "colorbar": {
             "outlinewidth": 0,
             "ticks": ""
            },
            "colorscale": [
             [
              0,
              "#0d0887"
             ],
             [
              0.1111111111111111,
              "#46039f"
             ],
             [
              0.2222222222222222,
              "#7201a8"
             ],
             [
              0.3333333333333333,
              "#9c179e"
             ],
             [
              0.4444444444444444,
              "#bd3786"
             ],
             [
              0.5555555555555556,
              "#d8576b"
             ],
             [
              0.6666666666666666,
              "#ed7953"
             ],
             [
              0.7777777777777778,
              "#fb9f3a"
             ],
             [
              0.8888888888888888,
              "#fdca26"
             ],
             [
              1,
              "#f0f921"
             ]
            ],
            "type": "histogram2dcontour"
           }
          ],
          "mesh3d": [
           {
            "colorbar": {
             "outlinewidth": 0,
             "ticks": ""
            },
            "type": "mesh3d"
           }
          ],
          "parcoords": [
           {
            "line": {
             "colorbar": {
              "outlinewidth": 0,
              "ticks": ""
             }
            },
            "type": "parcoords"
           }
          ],
          "pie": [
           {
            "automargin": true,
            "type": "pie"
           }
          ],
          "scatter": [
           {
            "fillpattern": {
             "fillmode": "overlay",
             "size": 10,
             "solidity": 0.2
            },
            "type": "scatter"
           }
          ],
          "scatter3d": [
           {
            "line": {
             "colorbar": {
              "outlinewidth": 0,
              "ticks": ""
             }
            },
            "marker": {
             "colorbar": {
              "outlinewidth": 0,
              "ticks": ""
             }
            },
            "type": "scatter3d"
           }
          ],
          "scattercarpet": [
           {
            "marker": {
             "colorbar": {
              "outlinewidth": 0,
              "ticks": ""
             }
            },
            "type": "scattercarpet"
           }
          ],
          "scattergeo": [
           {
            "marker": {
             "colorbar": {
              "outlinewidth": 0,
              "ticks": ""
             }
            },
            "type": "scattergeo"
           }
          ],
          "scattergl": [
           {
            "marker": {
             "colorbar": {
              "outlinewidth": 0,
              "ticks": ""
             }
            },
            "type": "scattergl"
           }
          ],
          "scattermapbox": [
           {
            "marker": {
             "colorbar": {
              "outlinewidth": 0,
              "ticks": ""
             }
            },
            "type": "scattermapbox"
           }
          ],
          "scatterpolar": [
           {
            "marker": {
             "colorbar": {
              "outlinewidth": 0,
              "ticks": ""
             }
            },
            "type": "scatterpolar"
           }
          ],
          "scatterpolargl": [
           {
            "marker": {
             "colorbar": {
              "outlinewidth": 0,
              "ticks": ""
             }
            },
            "type": "scatterpolargl"
           }
          ],
          "scatterternary": [
           {
            "marker": {
             "colorbar": {
              "outlinewidth": 0,
              "ticks": ""
             }
            },
            "type": "scatterternary"
           }
          ],
          "surface": [
           {
            "colorbar": {
             "outlinewidth": 0,
             "ticks": ""
            },
            "colorscale": [
             [
              0,
              "#0d0887"
             ],
             [
              0.1111111111111111,
              "#46039f"
             ],
             [
              0.2222222222222222,
              "#7201a8"
             ],
             [
              0.3333333333333333,
              "#9c179e"
             ],
             [
              0.4444444444444444,
              "#bd3786"
             ],
             [
              0.5555555555555556,
              "#d8576b"
             ],
             [
              0.6666666666666666,
              "#ed7953"
             ],
             [
              0.7777777777777778,
              "#fb9f3a"
             ],
             [
              0.8888888888888888,
              "#fdca26"
             ],
             [
              1,
              "#f0f921"
             ]
            ],
            "type": "surface"
           }
          ],
          "table": [
           {
            "cells": {
             "fill": {
              "color": "#EBF0F8"
             },
             "line": {
              "color": "white"
             }
            },
            "header": {
             "fill": {
              "color": "#C8D4E3"
             },
             "line": {
              "color": "white"
             }
            },
            "type": "table"
           }
          ]
         },
         "layout": {
          "annotationdefaults": {
           "arrowcolor": "#2a3f5f",
           "arrowhead": 0,
           "arrowwidth": 1
          },
          "autotypenumbers": "strict",
          "coloraxis": {
           "colorbar": {
            "outlinewidth": 0,
            "ticks": ""
           }
          },
          "colorscale": {
           "diverging": [
            [
             0,
             "#8e0152"
            ],
            [
             0.1,
             "#c51b7d"
            ],
            [
             0.2,
             "#de77ae"
            ],
            [
             0.3,
             "#f1b6da"
            ],
            [
             0.4,
             "#fde0ef"
            ],
            [
             0.5,
             "#f7f7f7"
            ],
            [
             0.6,
             "#e6f5d0"
            ],
            [
             0.7,
             "#b8e186"
            ],
            [
             0.8,
             "#7fbc41"
            ],
            [
             0.9,
             "#4d9221"
            ],
            [
             1,
             "#276419"
            ]
           ],
           "sequential": [
            [
             0,
             "#0d0887"
            ],
            [
             0.1111111111111111,
             "#46039f"
            ],
            [
             0.2222222222222222,
             "#7201a8"
            ],
            [
             0.3333333333333333,
             "#9c179e"
            ],
            [
             0.4444444444444444,
             "#bd3786"
            ],
            [
             0.5555555555555556,
             "#d8576b"
            ],
            [
             0.6666666666666666,
             "#ed7953"
            ],
            [
             0.7777777777777778,
             "#fb9f3a"
            ],
            [
             0.8888888888888888,
             "#fdca26"
            ],
            [
             1,
             "#f0f921"
            ]
           ],
           "sequentialminus": [
            [
             0,
             "#0d0887"
            ],
            [
             0.1111111111111111,
             "#46039f"
            ],
            [
             0.2222222222222222,
             "#7201a8"
            ],
            [
             0.3333333333333333,
             "#9c179e"
            ],
            [
             0.4444444444444444,
             "#bd3786"
            ],
            [
             0.5555555555555556,
             "#d8576b"
            ],
            [
             0.6666666666666666,
             "#ed7953"
            ],
            [
             0.7777777777777778,
             "#fb9f3a"
            ],
            [
             0.8888888888888888,
             "#fdca26"
            ],
            [
             1,
             "#f0f921"
            ]
           ]
          },
          "colorway": [
           "#636efa",
           "#EF553B",
           "#00cc96",
           "#ab63fa",
           "#FFA15A",
           "#19d3f3",
           "#FF6692",
           "#B6E880",
           "#FF97FF",
           "#FECB52"
          ],
          "font": {
           "color": "#2a3f5f"
          },
          "geo": {
           "bgcolor": "white",
           "lakecolor": "white",
           "landcolor": "#E5ECF6",
           "showlakes": true,
           "showland": true,
           "subunitcolor": "white"
          },
          "hoverlabel": {
           "align": "left"
          },
          "hovermode": "closest",
          "mapbox": {
           "style": "light"
          },
          "paper_bgcolor": "white",
          "plot_bgcolor": "#E5ECF6",
          "polar": {
           "angularaxis": {
            "gridcolor": "white",
            "linecolor": "white",
            "ticks": ""
           },
           "bgcolor": "#E5ECF6",
           "radialaxis": {
            "gridcolor": "white",
            "linecolor": "white",
            "ticks": ""
           }
          },
          "scene": {
           "xaxis": {
            "backgroundcolor": "#E5ECF6",
            "gridcolor": "white",
            "gridwidth": 2,
            "linecolor": "white",
            "showbackground": true,
            "ticks": "",
            "zerolinecolor": "white"
           },
           "yaxis": {
            "backgroundcolor": "#E5ECF6",
            "gridcolor": "white",
            "gridwidth": 2,
            "linecolor": "white",
            "showbackground": true,
            "ticks": "",
            "zerolinecolor": "white"
           },
           "zaxis": {
            "backgroundcolor": "#E5ECF6",
            "gridcolor": "white",
            "gridwidth": 2,
            "linecolor": "white",
            "showbackground": true,
            "ticks": "",
            "zerolinecolor": "white"
           }
          },
          "shapedefaults": {
           "line": {
            "color": "#2a3f5f"
           }
          },
          "ternary": {
           "aaxis": {
            "gridcolor": "white",
            "linecolor": "white",
            "ticks": ""
           },
           "baxis": {
            "gridcolor": "white",
            "linecolor": "white",
            "ticks": ""
           },
           "bgcolor": "#E5ECF6",
           "caxis": {
            "gridcolor": "white",
            "linecolor": "white",
            "ticks": ""
           }
          },
          "title": {
           "x": 0.05
          },
          "xaxis": {
           "automargin": true,
           "gridcolor": "white",
           "linecolor": "white",
           "ticks": "",
           "title": {
            "standoff": 15
           },
           "zerolinecolor": "white",
           "zerolinewidth": 2
          },
          "yaxis": {
           "automargin": true,
           "gridcolor": "white",
           "linecolor": "white",
           "ticks": "",
           "title": {
            "standoff": 15
           },
           "zerolinecolor": "white",
           "zerolinewidth": 2
          }
         }
        },
        "title": {
         "text": "Play 2021091201901"
        },
        "updatemenus": [
         {
          "buttons": [
           {
            "args": [
             null,
             {
              "frame": {
               "duration": 200,
               "redraw": false
              },
              "fromcurrent": true,
              "transition": {
               "duration": 0
              }
             }
            ],
            "label": "Play",
            "method": "animate"
           }
          ],
          "type": "buttons"
         }
        ],
        "xaxis": {
         "autorange": false,
         "range": [
          14.420000000000002,
          46.64
         ]
        },
        "yaxis": {
         "autorange": false,
         "range": [
          6.140000000000001,
          39.67
         ]
        }
       }
      }
     },
     "metadata": {},
     "output_type": "display_data"
    }
   ],
   "source": [
    "from __future__ import annotations\n",
    "import plotly\n",
    "import plotly.graph_objects as go\n",
    "fig = go.Figure(\n",
    "    data= start_frame,\n",
    "    layout=layout_draw,\n",
    "    frames=all_frame\n",
    ")\n",
    "\n",
    "fig.update_layout(legend=dict(orientation = \"h\"))  \n",
    "fig.show()"
   ]
  },
  {
   "cell_type": "code",
   "execution_count": 1040,
   "metadata": {},
   "outputs": [
    {
     "data": {
      "text/plain": [
       "0.28772175312042236"
      ]
     },
     "execution_count": 1040,
     "metadata": {},
     "output_type": "execute_result"
    }
   ],
   "source": [
    "list(zip(motion_rush[1:,:,:], motion_block[1:,:,:], motion_qb[1:,:,:], play_prob[1:]))[0][3]"
   ]
  },
  {
   "cell_type": "code",
   "execution_count": null,
   "metadata": {},
   "outputs": [],
   "source": []
  },
  {
   "cell_type": "code",
   "execution_count": 1099,
   "metadata": {},
   "outputs": [
    {
     "data": {
      "text/plain": [
       "1"
      ]
     },
     "execution_count": 1099,
     "metadata": {},
     "output_type": "execute_result"
    }
   ],
   "source": [
    "all_data.get_play_train(play_id, type = 'individual', time_split = False)"
   ]
  },
  {
   "cell_type": "code",
   "execution_count": null,
   "metadata": {},
   "outputs": [],
   "source": []
  },
  {
   "cell_type": "code",
   "execution_count": null,
   "metadata": {},
   "outputs": [],
   "source": []
  },
  {
   "cell_type": "code",
   "execution_count": null,
   "metadata": {},
   "outputs": [],
   "source": []
  },
  {
   "cell_type": "code",
   "execution_count": null,
   "metadata": {},
   "outputs": [],
   "source": []
  },
  {
   "cell_type": "code",
   "execution_count": null,
   "metadata": {},
   "outputs": [],
   "source": [
    "\n",
    "  "
   ]
  },
  {
   "cell_type": "code",
   "execution_count": null,
   "metadata": {},
   "outputs": [],
   "source": []
  },
  {
   "cell_type": "code",
   "execution_count": null,
   "metadata": {},
   "outputs": [],
   "source": []
  },
  {
   "cell_type": "code",
   "execution_count": null,
   "metadata": {},
   "outputs": [],
   "source": []
  },
  {
   "cell_type": "code",
   "execution_count": 396,
   "metadata": {},
   "outputs": [
    {
     "name": "stdout",
     "output_type": "stream",
     "text": [
      "Percent of player play disruptions: 0.022958343514613237\n",
      "Percent of team play disruptions: 0.37583265163024426\n"
     ]
    }
   ],
   "source": [
    "play_dets = all_data.play_details_df\n",
    "play_dets['disrupt'] = play_dets.pff_hit + play_dets.pff_hurry + play_dets.pff_sack\n",
    "print( f'Percent of player play disruptions: {play_dets.disrupt.sum() / len(play_dets.disrupt)}')\n",
    "team_dets = play_dets.groupby('playId').agg({'disrupt' : [sum]})\n",
    "team_dets.columns = [\"_\".join(x) for x in np.array(team_dets.columns).ravel()]\n",
    "team_dets = team_dets.reset_index()\n",
    "print( f'Percent of team play disruptions: {len(team_dets.loc[team_dets.disrupt_sum > 0]) / len(team_dets)}')"
   ]
  },
  {
   "cell_type": "code",
   "execution_count": null,
   "metadata": {},
   "outputs": [],
   "source": []
  },
  {
   "cell_type": "code",
   "execution_count": null,
   "metadata": {},
   "outputs": [],
   "source": [
    "# sack / hurry / hit are dependent on both pass coverage and lineman and we only care about linemen. \n",
    "# Instead of using sack / hit /hurry, use P(Sack, Hurry, Hit @ time t) given conditions for team\n",
    "# to evaluate players, need some sort of metric for 'contribution to P(Sack, Hurry, Hit @ time t) on play'\n",
    "# to do so try to do  or sommin    [ P(Sack, Hurry, Hit @ time t replacing player with rusher average) / P(Sack, Hurry, Hit @ time t) ] - P(Sack, Hurry, Hit @ time t)\n",
    "\n",
    "\n",
    "\n",
    "\n",
    "# new idea: since there is no team level time of sack\n",
    "# find model that we can track each player prob of hit/hurry/sack \n",
    "# each player route will have a prob of sack at time t. \n",
    "# to compare use average route stats in similar situation: note may have to import more data (ie. play type etc)\n",
    "\n",
    "\n",
    "# also: need to create qb_metric for 'facing rusher' "
   ]
  },
  {
   "cell_type": "code",
   "execution_count": null,
   "metadata": {},
   "outputs": [],
   "source": [
    "\n",
    "\n"
   ]
  },
  {
   "cell_type": "code",
   "execution_count": null,
   "metadata": {},
   "outputs": [],
   "source": []
  },
  {
   "cell_type": "code",
   "execution_count": null,
   "metadata": {},
   "outputs": [],
   "source": [
    "\n"
   ]
  },
  {
   "cell_type": "code",
   "execution_count": null,
   "metadata": {},
   "outputs": [],
   "source": [
    "\n",
    "\n",
    "\n",
    "\n",
    "\n",
    "\n",
    "\n",
    "\n",
    "\n",
    "\n",
    "\n",
    "\n",
    "\n"
   ]
  },
  {
   "cell_type": "code",
   "execution_count": null,
   "metadata": {},
   "outputs": [],
   "source": []
  },
  {
   "cell_type": "code",
   "execution_count": 1096,
   "metadata": {},
   "outputs": [],
   "source": []
  },
  {
   "cell_type": "code",
   "execution_count": null,
   "metadata": {},
   "outputs": [],
   "source": []
  },
  {
   "cell_type": "code",
   "execution_count": 1205,
   "metadata": {},
   "outputs": [
    {
     "data": {
      "image/png": "[encoded data removed]",
      "text/plain": [
       "<Figure size 640x480 with 1 Axes>"
      ]
     },
     "metadata": {},
     "output_type": "display_data"
    }
   ],
   "source": [
    "import matplotlib.pyplot as plt\n",
    "plot_overall_avgs = all_dist_dfs.query(\"time_after_snap > 0\").groupby(by = ['time_after_snap']).mean().reset_index()\n",
    "\n",
    "plt.title = \"Average Rusher Distance From QB by Seconds After Snap\"\n",
    "plt.xlabel = \"Seconds After Snap\"\n",
    "plt.plot('time_after_snap',  'rusher_distance_from_qb', data = plot_overall_avgs, linestyle='dashed')\n",
    "plt.ylabel = \"Rusher Distance From QB\"\n",
    "plt.show()"
   ]
  },
  {
   "cell_type": "code",
   "execution_count": null,
   "metadata": {},
   "outputs": [],
   "source": []
  },
  {
   "cell_type": "code",
   "execution_count": null,
   "metadata": {},
   "outputs": [],
   "source": []
  },
  {
   "cell_type": "code",
   "execution_count": null,
   "metadata": {},
   "outputs": [],
   "source": [
    "### want to get groups of players with similar starting positions: conlusion: just use number of blockers on play for now, maybe add in weigt of blocker later\n",
    "\n",
    "# this_week_starting_pos = all_data.training_data_individual.get('1')\n",
    "# this_week_starting_pos = this_week_training_individual.loc[this_week_training_individual.time_after_snap == 0, ['playId', 'nflId', 'rusher_distance_from_qb', 'y']]\n",
    "\n",
    "\n",
    "\n",
    "# gmm_train = this_week_starting_pos.drop(['playId', 'nflId'], axis = 1)\n",
    "# gmm = mixture.GaussianMixture(n_components=2).fit(gmm_train)\n",
    "# gmm_labels = gmm.predict(gmm_train).astype(str)\n",
    "\n",
    "# this_week_starting_pos['starting_pos_class'] = gmm_labels\n",
    "# this_week_starting_pos.groupby('starting_pos_class').groups.items()\n",
    "# plot_df = this_week_starting_pos.drop(['playId', 'nflId'], axis = 1).reset_index(drop = 1)\n",
    "# plot_df.starting_pos_class.unique()\n",
    "# plot_df\n",
    "\n",
    "# groups = plot_df.groupby('starting_pos_class')\n",
    "# # Plot\n",
    "# fig, ax = plt.subplots()\n",
    "# ax.margins(0.05) # Optional, just adds 5% padding to the autoscaling\n",
    "# for name, group in groups:\n",
    "#     ax.plot(group.rusher_distance_from_qb, group.y, marker='o', linestyle='', ms=12, label=name)\n",
    "# ax.legend()\n",
    "\n",
    "# plt.show()\n",
    "\n",
    "# ret_df = this_week_starting_pos.loc[:, ['playId', 'nflId', 'starting_pos_class']]\n",
    "# ret_df"
   ]
  },
  {
   "cell_type": "code",
   "execution_count": null,
   "metadata": {},
   "outputs": [],
   "source": []
  }
 ],
 "metadata": {
  "kernelspec": {
   "display_name": "Python 3.9.12",
   "language": "python",
   "name": "python3"
  },
  "language_info": {
   "codemirror_mode": {
    "name": "ipython",
    "version": 3
   },
   "file_extension": ".py",
   "mimetype": "text/x-python",
   "name": "python",
   "nbconvert_exporter": "python",
   "pygments_lexer": "ipython3",
   "version": "3.10.6"
  },
  "orig_nbformat": 4,
  "vscode": {
   "interpreter": {
    "hash": "8b5140b98f9aa636ad904647e184ddf94a8c49b25e448223e4f659e3845abf7f"
   }
  }
 },
 "nbformat": 4,
 "nbformat_minor": 2
}
