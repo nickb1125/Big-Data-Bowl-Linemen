{
 "cells": [
  {
   "cell_type": "code",
   "execution_count": 52,
   "metadata": {},
   "outputs": [],
   "source": [
    "import os\n",
    "\n",
    "proj_dir = '/Users/nickbachelder/Desktop/Kaggle/Linemen'\n",
    "os.chdir( os.path.join(proj_dir, 'code/objects') )\n",
    "\n",
    "%run load_modules.ipynb\n",
    "%run tracking_objects.ipynb"
   ]
  },
  {
   "cell_type": "code",
   "execution_count": 53,
   "metadata": {},
   "outputs": [
    {
     "name": "stdout",
     "output_type": "stream",
     "text": [
      "Warning: Your Kaggle API key is readable by other users on this system! To fix this, you can run 'chmod 600 /Users/nickbachelder/.kaggle/kaggle.json'\n",
      "Downloading nfl-big-data-bowl-2023.zip to /Users/nickbachelder/Desktop/Kaggle/Linemen/data\n"
     ]
    },
    {
     "name": "stderr",
     "output_type": "stream",
     "text": [
      "100%|██████████| 172M/172M [01:26<00:00, 2.08MB/s] \n"
     ]
    },
    {
     "name": "stdout",
     "output_type": "stream",
     "text": [
      "\n",
      "Archive:  /Users/nickbachelder/Desktop/Kaggle/Linemen/data/nfl-big-data-bowl-2023.zip\n",
      "  inflating: games.csv               \n",
      "  inflating: pffScoutingData.csv     \n",
      "  inflating: players.csv             \n",
      "  inflating: plays.csv               \n",
      "  inflating: week1.csv               \n",
      "  inflating: week2.csv               \n",
      "  inflating: week3.csv               \n",
      "  inflating: week4.csv               \n",
      "  inflating: week5.csv               \n",
      "  inflating: week6.csv               \n",
      "  inflating: week7.csv               \n",
      "  inflating: week8.csv               \n"
     ]
    }
   ],
   "source": [
    "data_dir = os.path.join(proj_dir, 'data' )\n",
    "os.chdir( proj_dir )\n",
    "os.system(\"rm -rf {}\".format( data_dir ))\n",
    "os.system('mkdir data')\n",
    "os.chdir( data_dir )\n",
    "os.system(\"kaggle competitions download -c nfl-big-data-bowl-2023\")\n",
    "os.system( 'unzip {}.zip'.format( os.path.join(data_dir, 'nfl-big-data-bowl-2023')) )\n",
    "\n",
    "curr_cd = os.getcwd()\n",
    "files = [x for x in os.listdir(curr_cd) if os.path.isfile(os.path.join(curr_cd, x))]\n",
    "\n",
    "player_files = [os.path.join(curr_cd, x) for x in files if x.endswith('players.csv')]\n",
    "player_tracking_files = [os.path.join(curr_cd, x) for x in files if x.startswith('week')]\n",
    "play_details_files = [os.path.join(curr_cd, x) for x in files if x.endswith('ScoutingData.csv')]\n",
    "play_info_files = [os.path.join(curr_cd, x) for x in files if x.endswith('plays.csv')]\n"
   ]
  },
  {
   "cell_type": "code",
   "execution_count": 54,
   "metadata": {},
   "outputs": [],
   "source": [
    "all_data = master_track(track_paths = player_tracking_files, \n",
    "                            play_info_path = play_info_files[0],\n",
    "                            play_details_path = play_details_files[0],\n",
    "                            players_path = player_files[0])"
   ]
  },
  {
   "cell_type": "code",
   "execution_count": 55,
   "metadata": {},
   "outputs": [
    {
     "name": "stdout",
     "output_type": "stream",
     "text": [
      "Getting week 1 training data\n"
     ]
    },
    {
     "name": "stderr",
     "output_type": "stream",
     "text": [
      "100%|██████████| 1172/1172 [05:43<00:00,  3.41it/s]\n"
     ]
    },
    {
     "name": "stdout",
     "output_type": "stream",
     "text": [
      "Getting week 2 training data\n"
     ]
    },
    {
     "name": "stderr",
     "output_type": "stream",
     "text": [
      "100%|██████████| 1062/1062 [05:20<00:00,  3.31it/s]\n"
     ]
    },
    {
     "name": "stdout",
     "output_type": "stream",
     "text": [
      "Done\n"
     ]
    }
   ],
   "source": [
    "all_data.load_training_data(week = 3)"
   ]
  },
  {
   "cell_type": "code",
   "execution_count": 56,
   "metadata": {},
   "outputs": [
    {
     "name": "stdout",
     "output_type": "stream",
     "text": [
      "Getting week 1 average metrics by position and blocker number\n",
      "Getting week 2 average metrics by position and blocker number\n",
      "Done\n"
     ]
    }
   ],
   "source": [
    "all_data.get_averages_up_to_week(week = 3)"
   ]
  },
  {
   "cell_type": "code",
   "execution_count": 59,
   "metadata": {},
   "outputs": [
    {
     "name": "stdout",
     "output_type": "stream",
     "text": [
      "Getting week 1 normalized training data\n"
     ]
    },
    {
     "name": "stderr",
     "output_type": "stream",
     "text": [
      "100%|██████████| 1172/1172 [00:00<00:00, 4037.91it/s]\n"
     ]
    },
    {
     "name": "stdout",
     "output_type": "stream",
     "text": [
      "Train NA\n",
      "420\n",
      "623\n",
      "Test NA\n",
      "Length train : 935\n",
      "Length test : 235\n"
     ]
    }
   ],
   "source": [
    "# figure out where these issues are coming from later and fix\n",
    "\n",
    "all_dat_labels = all_data.get_rush_sequences_labels(week = 2, normalize = True)\n",
    "\n",
    "training_dat, test_dat = train_test_split(all_dat_labels, test_size = 0.2)\n",
    "\n",
    "# remove nas (fix these nas being created later)\n",
    "bad_indexs = []\n",
    "print('Train NA')\n",
    "for value in range(len(training_dat)):\n",
    "    any_na = training_dat[value][0].isnull().values.any()\n",
    "    if any_na == True:\n",
    "        bad_indexs.append(value)\n",
    "        print(value)\n",
    "\n",
    "for index in sorted(bad_indexs, reverse=True):\n",
    "    del training_dat[index]\n",
    "\n",
    "\n",
    "bad_indexs = []\n",
    "print('Test NA')\n",
    "for value in range(len(test_dat)):\n",
    "    any_na = test_dat[value][0].isnull().values.any()\n",
    "    if any_na == True:\n",
    "        bad_indexs.append(value)\n",
    "        print(value)\n",
    "\n",
    "for index in sorted(bad_indexs, reverse=True):\n",
    "    del test_dat[index]\n",
    "\n",
    "print(f'Length train : {len(training_dat)}')\n",
    "print(f'Length test : {len(test_dat)}')"
   ]
  },
  {
   "cell_type": "code",
   "execution_count": 60,
   "metadata": {},
   "outputs": [
    {
     "name": "stdout",
     "output_type": "stream",
     "text": [
      "Epoch 0\n",
      "---------\n",
      "Overall Train loss: 0.6711918052874113 , Overall Train AUC: 0.4739901271917515\n",
      "Train loss for period 1: 0.6695953482075742 , Train AUC for period 1: 0.4671905657052223\n",
      "Train loss for period 2: 0.6726724285828439 , Train AUC for period 2: 0.4674241712193307\n",
      "Train loss for period 3: 0.6733934502852591 , Train AUC for period 3: 0.46979880162133586\n",
      "Train loss for period 4: 0.6724127185972113 , Train AUC for period 4: 0.4742270261802659\n",
      "Train loss for period 5: 0.6702874836168791 , Train AUC for period 5: 0.47876617909103364\n",
      "Train loss for period 6: 0.6687893365558825 , Train AUC for period 6: 0.4855945877146606\n",
      "Overall test loss: 0.6750777244567872 , Overall test AUC: 0.5563263972155609\n",
      "Test loss for period 1: 0.6765628099441529 , Test AUC for period 1: 0.5121552757793765\n",
      "Test loss for period 2: 0.676536476612091 , Test AUC for period 2: 0.5412260191846523\n",
      "Test loss for period 3: 0.6761084079742432 , Test AUC for period 3: 0.5713009592326139\n",
      "Test loss for period 4: 0.6753442168235779 , Test AUC for period 4: 0.5639283573141487\n",
      "Test loss for period 5: 0.6735530018806457 , Test AUC for period 5: 0.5779016786570743\n",
      "Test loss for period 6: 0.6723613858222961 , Test AUC for period 6: 0.5949640287769784\n",
      "\n",
      "Epoch 1\n",
      "---------\n",
      "Overall Train loss: 0.6611667808733488 , Overall Train AUC: 0.49772620811494683\n",
      "Train loss for period 1: 0.6634033761526409 , Train AUC for period 1: 0.47896375491981436\n",
      "Train loss for period 2: 0.6636753490096644 , Train AUC for period 2: 0.4777790832011592\n",
      "Train loss for period 3: 0.6631254647907457 , Train AUC for period 3: 0.4819643031976345\n",
      "Train loss for period 4: 0.6614417904301694 , Train AUC for period 4: 0.4940571579627563\n",
      "Train loss for period 5: 0.6585701860879597 , Train AUC for period 5: 0.5190851592942881\n",
      "Train loss for period 6: 0.6567845720993845 , Train AUC for period 6: 0.5365918659069102\n",
      "Overall test loss: 0.6781394720077515 , Overall test AUC: 0.5698010758060218\n",
      "Test loss for period 1: 0.6809611320495605 , Test AUC for period 1: 0.5226004196642686\n",
      "Test loss for period 2: 0.6811946392059326 , Test AUC for period 2: 0.5494814148681054\n",
      "Test loss for period 3: 0.6801141977310181 , Test AUC for period 3: 0.58121103117506\n",
      "Test loss for period 4: 0.678519606590271 , Test AUC for period 4: 0.5848021582733813\n",
      "Test loss for period 5: 0.6752546072006226 , Test AUC for period 5: 0.5992296163069544\n",
      "Test loss for period 6: 0.6727928042411804 , Test AUC for period 6: 0.628968824940048\n",
      "\n",
      "Epoch 2\n",
      "---------\n",
      "Overall Train loss: 0.6564647837689048 , Overall Train AUC: 0.5672559973325848\n",
      "Train loss for period 1: 0.6599448135024623 , Train AUC for period 1: 0.5184509193444163\n",
      "Train loss for period 2: 0.659545964316318 , Train AUC for period 2: 0.5247770663220348\n",
      "Train loss for period 3: 0.6588551464833712 , Train AUC for period 3: 0.5377401163132233\n",
      "Train loss for period 4: 0.6568843345893057 , Train AUC for period 4: 0.5706902426129354\n",
      "Train loss for period 5: 0.6531432020036798 , Train AUC for period 5: 0.62173324325912\n",
      "Train loss for period 6: 0.650415185250734 , Train AUC for period 6: 0.6573284184143023\n",
      "Overall test loss: 0.675711166858673 , Overall test AUC: 0.5745823341326939\n",
      "Test loss for period 1: 0.6828348755836486 , Test AUC for period 1: 0.5302338129496403\n",
      "Test loss for period 2: 0.682280695438385 , Test AUC for period 2: 0.5487440047961631\n",
      "Test loss for period 3: 0.6793029189109803 , Test AUC for period 3: 0.5811031175059951\n",
      "Test loss for period 4: 0.6757183074951172 , Test AUC for period 4: 0.5911270983213429\n",
      "Test loss for period 5: 0.669628357887268 , Test AUC for period 5: 0.6114418465227818\n",
      "Test loss for period 6: 0.6645018577575683 , Test AUC for period 6: 0.6596462829736212\n",
      "\n",
      "Epoch 3\n",
      "---------\n",
      "Overall Train loss: 0.6552586931931345 , Overall Train AUC: 0.563257325056949\n",
      "Train loss for period 1: 0.6649749090797022 , Train AUC for period 1: 0.5104999118839217\n",
      "Train loss for period 2: 0.665515378901833 , Train AUC for period 2: 0.5109959074976992\n",
      "Train loss for period 3: 0.6623508647868508 , Train AUC for period 3: 0.5230300182106562\n",
      "Train loss for period 4: 0.6557631963177731 , Train AUC for period 4: 0.5637448354187472\n",
      "Train loss for period 5: 0.6455194761878565 , Train AUC for period 5: 0.6218821594313575\n",
      "Train loss for period 6: 0.6374283966265226 , Train AUC for period 6: 0.6607876598327752\n",
      "Overall test loss: 0.6685050010681153 , Overall test AUC: 0.5785121069810818\n",
      "Test loss for period 1: 0.6770860910415649 , Test AUC for period 1: 0.5327143285371703\n",
      "Test loss for period 2: 0.6749974131584168 , Test AUC for period 2: 0.5555785371702638\n",
      "Test loss for period 3: 0.670835816860199 , Test AUC for period 3: 0.5869424460431655\n",
      "Test loss for period 4: 0.668368399143219 , Test AUC for period 4: 0.5994574340527578\n",
      "Test loss for period 5: 0.6627455353736877 , Test AUC for period 5: 0.6158423261390887\n",
      "Test loss for period 6: 0.6569964528083801 , Test AUC for period 6: 0.673576139088729\n",
      "\n",
      "Epoch 4\n",
      "---------\n",
      "Overall Train loss: 0.6494171588044417 , Overall Train AUC: 0.5929360821198335\n",
      "Train loss for period 1: 0.6584225830278898 , Train AUC for period 1: 0.5336700346589908\n",
      "Train loss for period 2: 0.6576454733547411 , Train AUC for period 2: 0.5397139164659578\n",
      "Train loss for period 3: 0.6558591315620824 , Train AUC for period 3: 0.5598299359689831\n",
      "Train loss for period 4: 0.6512977010325381 , Train AUC for period 4: 0.5960694354696586\n",
      "Train loss for period 5: 0.6418212903173346 , Train AUC for period 5: 0.6558357320487967\n",
      "Train loss for period 6: 0.6314566951049002 , Train AUC for period 6: 0.7126853864379565\n",
      "Overall test loss: 0.6730868220329285 , Overall test AUC: 0.5860379196642687\n",
      "Test loss for period 1: 0.6839677691459656 , Test AUC for period 1: 0.5306414868105516\n",
      "Test loss for period 2: 0.6858257532119751 , Test AUC for period 2: 0.5562574940047962\n",
      "Test loss for period 3: 0.6826041340827942 , Test AUC for period 3: 0.5843824940047961\n",
      "Test loss for period 4: 0.675558066368103 , Test AUC for period 4: 0.5986750599520383\n",
      "Test loss for period 5: 0.6628237366676331 , Test AUC for period 5: 0.6247961630695443\n",
      "Test loss for period 6: 0.6477415442466736 , Test AUC for period 6: 0.6933962829736211\n",
      "\n",
      "Epoch 5\n",
      "---------\n",
      "Overall Train loss: 0.6516051794353285 , Overall Train AUC: 0.579987886758873\n",
      "Train loss for period 1: 0.6636588165634557 , Train AUC for period 1: 0.5236658246685857\n",
      "Train loss for period 2: 0.6632888034770363 , Train AUC for period 2: 0.5257130548865261\n",
      "Train loss for period 3: 0.6610901355743408 , Train AUC for period 3: 0.5449786563277135\n",
      "Train loss for period 4: 0.6543540295801664 , Train AUC for period 4: 0.5802770761127103\n",
      "Train loss for period 5: 0.6404331138259486 , Train AUC for period 5: 0.6373493704595743\n",
      "Train loss for period 6: 0.6268062873890525 , Train AUC for period 6: 0.685983473339991\n",
      "Overall test loss: 0.6658400893211365 , Overall test AUC: 0.5897781358246736\n",
      "Test loss for period 1: 0.6823939561843873 , Test AUC for period 1: 0.5321417865707434\n",
      "Test loss for period 2: 0.680872118473053 , Test AUC for period 2: 0.5609232613908872\n",
      "Test loss for period 3: 0.6745496273040772 , Test AUC for period 3: 0.59117206235012\n",
      "Test loss for period 4: 0.667286217212677 , Test AUC for period 4: 0.6043615107913669\n",
      "Test loss for period 5: 0.6530824780464173 , Test AUC for period 5: 0.6319364508393286\n",
      "Test loss for period 6: 0.6368558883666993 , Test AUC for period 6: 0.7024130695443646\n",
      "\n",
      "Epoch 6\n",
      "---------\n",
      "Overall Train loss: 0.6477880979839125 , Overall Train AUC: 0.5847833976254349\n",
      "Train loss for period 1: 0.6643324337507549 , Train AUC for period 1: 0.5226746166950597\n",
      "Train loss for period 2: 0.6631804955633063 , Train AUC for period 2: 0.5277296402905872\n",
      "Train loss for period 3: 0.6584981334836859 , Train AUC for period 3: 0.5457504552664043\n",
      "Train loss for period 4: 0.6495606397327623 , Train AUC for period 4: 0.5837938867023048\n",
      "Train loss for period 5: 0.6329368729340402 , Train AUC for period 5: 0.6471003935851495\n",
      "Train loss for period 6: 0.6182200532210501 , Train AUC for period 6: 0.7013872407918698\n",
      "Overall test loss: 0.6637072563171387 , Overall test AUC: 0.591023431254996\n",
      "Test loss for period 1: 0.6734477877616882 , Test AUC for period 1: 0.5338998800959233\n",
      "Test loss for period 2: 0.6710407495498657 , Test AUC for period 2: 0.5669364508393284\n",
      "Test loss for period 3: 0.668023157119751 , Test AUC for period 3: 0.5963159472422062\n",
      "Test loss for period 4: 0.6656081318855286 , Test AUC for period 4: 0.6072392086330936\n",
      "Test loss for period 5: 0.6571362257003784 , Test AUC for period 5: 0.6353687050359712\n",
      "Test loss for period 6: 0.6469874501228332 , Test AUC for period 6: 0.7080575539568346\n",
      "\n",
      "Epoch 7\n",
      "---------\n",
      "Overall Train loss: 0.6476608828494423 , Overall Train AUC: 0.5887387597607594\n",
      "Train loss for period 1: 0.6634864179711593 , Train AUC for period 1: 0.5210045232920166\n",
      "Train loss for period 2: 0.6620590278976842 , Train AUC for period 2: 0.525745755742231\n",
      "Train loss for period 3: 0.65820911056117 , Train AUC for period 3: 0.546850339736435\n",
      "Train loss for period 4: 0.6499196636049371 , Train AUC for period 4: 0.5881320370479155\n",
      "Train loss for period 5: 0.6337097600886696 , Train AUC for period 5: 0.6543809355969374\n",
      "Train loss for period 6: 0.6185811883524844 , Train AUC for period 6: 0.7104967788678063\n",
      "Overall test loss: 0.6643716216087341 , Overall test AUC: 0.5961888405941913\n",
      "Test loss for period 1: 0.6854977965354919 , Test AUC for period 1: 0.5312679856115108\n",
      "Test loss for period 2: 0.683542001247406 , Test AUC for period 2: 0.5647631894484413\n",
      "Test loss for period 3: 0.6768972516059876 , Test AUC for period 3: 0.5933423261390888\n",
      "Test loss for period 4: 0.6671110033988953 , Test AUC for period 4: 0.6073501199040767\n",
      "Test loss for period 5: 0.6477934956550598 , Test AUC for period 5: 0.6383483213429256\n",
      "Test loss for period 6: 0.625388240814209 , Test AUC for period 6: 0.7133093525179857\n",
      "\n",
      "Epoch 8\n",
      "---------\n",
      "Overall Train loss: 0.6439657619124964 , Overall Train AUC: 0.605675303674114\n",
      "Train loss for period 1: 0.6632114272368582 , Train AUC for period 1: 0.5290614658599151\n",
      "Train loss for period 2: 0.6614484755616439 , Train AUC for period 2: 0.5383641739607198\n",
      "Train loss for period 3: 0.6571949312561437 , Train AUC for period 3: 0.564792046055337\n",
      "Train loss for period 4: 0.647439181804657 , Train AUC for period 4: 0.6043405980144511\n",
      "Train loss for period 5: 0.6273074181456315 , Train AUC for period 5: 0.6742410268460319\n",
      "Train loss for period 6: 0.6071931876634297 , Train AUC for period 6: 0.7365164777066322\n",
      "Overall test loss: 0.6605140686035156 , Overall test AUC: 0.5997446209698907\n",
      "Test loss for period 1: 0.6821594715118409 , Test AUC for period 1: 0.5323531175059952\n",
      "Test loss for period 2: 0.6795778393745422 , Test AUC for period 2: 0.5673441247002398\n",
      "Test loss for period 3: 0.6751233220100403 , Test AUC for period 3: 0.5932464028776978\n",
      "Test loss for period 4: 0.6658580422401428 , Test AUC for period 4: 0.6076858513189449\n",
      "Test loss for period 5: 0.6442817330360413 , Test AUC for period 5: 0.6404946043165467\n",
      "Test loss for period 6: 0.6160842299461364 , Test AUC for period 6: 0.7163729016786571\n",
      "\n",
      "Epoch 9\n",
      "---------\n",
      "Overall Train loss: 0.6431697544298673 , Overall Train AUC: 0.6022576399903399\n",
      "Train loss for period 1: 0.6645620590762088 , Train AUC for period 1: 0.5312432199573127\n",
      "Train loss for period 2: 0.6628480177176627 , Train AUC for period 2: 0.539633241300985\n",
      "Train loss for period 3: 0.6586969432077909 , Train AUC for period 3: 0.5599475219800661\n",
      "Train loss for period 4: 0.6484157066596182 , Train AUC for period 4: 0.5942181166656876\n",
      "Train loss for period 5: 0.6249432657894335 , Train AUC for period 5: 0.660965752217588\n",
      "Train loss for period 6: 0.5995525686364425 , Train AUC for period 6: 0.7267205153811509\n",
      "Overall test loss: 0.6652437210083008 , Overall test AUC: 0.6053207017719158\n",
      "Test loss for period 1: 0.6900152683258056 , Test AUC for period 1: 0.5338938848920862\n",
      "Test loss for period 2: 0.6858215928077698 , Test AUC for period 2: 0.568060551558753\n",
      "Test loss for period 3: 0.6804654955863952 , Test AUC for period 3: 0.5908063549160671\n",
      "Test loss for period 4: 0.669620931148529 , Test AUC for period 4: 0.6079736211031175\n",
      "Test loss for period 5: 0.6470443129539489 , Test AUC for period 5: 0.6480785371702639\n",
      "Test loss for period 6: 0.6184945940971375 , Test AUC for period 6: 0.7260461630695443\n",
      "\n",
      "Epoch 10\n",
      "---------\n",
      "Overall Train loss: 0.6357331087714747 , Overall Train AUC: 0.6143507884757223\n",
      "Train loss for period 1: 0.6628620436317042 , Train AUC for period 1: 0.5282188803383657\n",
      "Train loss for period 2: 0.6602179251219097 , Train AUC for period 2: 0.5348178934382894\n",
      "Train loss for period 3: 0.654848785776841 , Train AUC for period 3: 0.5632876108793985\n",
      "Train loss for period 4: 0.642828527249788 , Train AUC for period 4: 0.6116143844602401\n",
      "Train loss for period 5: 0.6145301304365459 , Train AUC for period 5: 0.6867430339344809\n",
      "Train loss for period 6: 0.5791112027670208 , Train AUC for period 6: 0.7650517926726585\n",
      "Overall test loss: 0.6611205339431763 , Overall test AUC: 0.6081247501998401\n",
      "Test loss for period 1: 0.6863031506538391 , Test AUC for period 1: 0.5352757793764988\n",
      "Test loss for period 2: 0.6834418773651123 , Test AUC for period 2: 0.5695773381294964\n",
      "Test loss for period 3: 0.6803699493408203 , Test AUC for period 3: 0.5902907673860911\n",
      "Test loss for period 4: 0.670900297164917 , Test AUC for period 4: 0.6076828537170265\n",
      "Test loss for period 5: 0.6437761187553406 , Test AUC for period 5: 0.6501468824940048\n",
      "Test loss for period 6: 0.6019318699836731 , Test AUC for period 6: 0.731558752997602\n",
      "\n",
      "Epoch 11\n",
      "---------\n",
      "Overall Train loss: 0.6328690052032471 , Overall Train AUC: 0.6253926468764481\n",
      "Train loss for period 1: 0.6628594900432386 , Train AUC for period 1: 0.5379859601715327\n",
      "Train loss for period 2: 0.6599532773620204 , Train AUC for period 2: 0.5501905265425209\n",
      "Train loss for period 3: 0.6549777827764812 , Train AUC for period 3: 0.5721433746499833\n",
      "Train loss for period 4: 0.642747511989192 , Train AUC for period 4: 0.6114007519238678\n",
      "Train loss for period 5: 0.6099075675010681 , Train AUC for period 5: 0.6841248115294992\n",
      "Train loss for period 6: 0.5667683670395299 , Train AUC for period 6: 0.7620364604750436\n",
      "Overall test loss: 0.662174928188324 , Overall test AUC: 0.6155100502930988\n",
      "Test loss for period 1: 0.6938551187515258 , Test AUC for period 1: 0.5172212230215828\n",
      "Test loss for period 2: 0.6887476563453674 , Test AUC for period 2: 0.5387589928057553\n",
      "Test loss for period 3: 0.6806022882461548 , Test AUC for period 3: 0.5689508393285372\n",
      "Test loss for period 4: 0.668156623840332 , Test AUC for period 4: 0.6082134292565948\n",
      "Test loss for period 5: 0.6417180895805359 , Test AUC for period 5: 0.6638938848920863\n",
      "Test loss for period 6: 0.5999696493148804 , Test AUC for period 6: 0.7301588729016787\n",
      "\n",
      "Epoch 12\n",
      "---------\n",
      "Overall Train loss: 0.6347769938017193 , Overall Train AUC: 0.6142903310553696\n",
      "Train loss for period 1: 0.6607243857885662 , Train AUC for period 1: 0.5300063639389845\n",
      "Train loss for period 2: 0.6594200322502538 , Train AUC for period 2: 0.539277448158374\n",
      "Train loss for period 3: 0.6556180997898704 , Train AUC for period 3: 0.5572097554289295\n",
      "Train loss for period 4: 0.6431615289888883 , Train AUC for period 4: 0.6004705398578394\n",
      "Train loss for period 5: 0.6124959901759499 , Train AUC for period 5: 0.6760508331864731\n",
      "Train loss for period 6: 0.5772419477763929 , Train AUC for period 6: 0.7457913802894123\n",
      "Overall test loss: 0.661844003200531 , Overall test AUC: 0.6187988775646149\n",
      "Test loss for period 1: 0.6949780941009521 , Test AUC for period 1: 0.5230395683453237\n",
      "Test loss for period 2: 0.6912676692008972 , Test AUC for period 2: 0.5537320143884892\n",
      "Test loss for period 3: 0.6874359726905823 , Test AUC for period 3: 0.5802008393285372\n",
      "Test loss for period 4: 0.6742960453033447 , Test AUC for period 4: 0.6085611510791367\n",
      "Test loss for period 5: 0.6396035194396973 , Test AUC for period 5: 0.6614418465227818\n",
      "Test loss for period 6: 0.5834825873374939 , Test AUC for period 6: 0.7396552757793764\n",
      "\n",
      "Epoch 13\n",
      "---------\n",
      "Overall Train loss: 0.6241586804389954 , Overall Train AUC: 0.6340090095970377\n",
      "Train loss for period 1: 0.6595665247816789 , Train AUC for period 1: 0.5348287610879399\n",
      "Train loss for period 2: 0.6576962282783106 , Train AUC for period 2: 0.550603693042746\n",
      "Train loss for period 3: 0.6535463427242479 , Train AUC for period 3: 0.5720574125203156\n",
      "Train loss for period 4: 0.6376064325633802 , Train AUC for period 4: 0.6157009144490787\n",
      "Train loss for period 5: 0.5962123933591341 , Train AUC for period 5: 0.693448275862069\n",
      "Train loss for period 6: 0.5403241436732443 , Train AUC for period 6: 0.7737297577786916\n",
      "Overall test loss: 0.6531118154525757 , Overall test AUC: 0.6179633376632028\n",
      "Test loss for period 1: 0.6887701153755188 , Test AUC for period 1: 0.5038189448441247\n",
      "Test loss for period 2: 0.6845017433166504 , Test AUC for period 2: 0.5408693045563548\n",
      "Test loss for period 3: 0.6817794799804687 , Test AUC for period 3: 0.5726678657074341\n",
      "Test loss for period 4: 0.6672595262527465 , Test AUC for period 4: 0.6108962829736211\n",
      "Test loss for period 5: 0.629916501045227 , Test AUC for period 5: 0.6669304556354916\n",
      "Test loss for period 6: 0.5664434909820557 , Test AUC for period 6: 0.7462799760191847\n",
      "\n",
      "Epoch 14\n",
      "---------\n",
      "Overall Train loss: 0.6197060346603394 , Overall Train AUC: 0.6406148625715535\n",
      "Train loss for period 1: 0.6613704656299791 , Train AUC for period 1: 0.5211265151070121\n",
      "Train loss for period 2: 0.6570066370462117 , Train AUC for period 2: 0.5497592472928783\n",
      "Train loss for period 3: 0.6497306792359603 , Train AUC for period 3: 0.5847936125633946\n",
      "Train loss for period 4: 0.6309044141518442 , Train AUC for period 4: 0.6302980281579823\n",
      "Train loss for period 5: 0.5873975691042448 , Train AUC for period 5: 0.7062890403180011\n",
      "Train loss for period 6: 0.5318265776885184 , Train AUC for period 6: 0.7792619788913039\n",
      "Overall test loss: 0.6463297605514526 , Overall test AUC: 0.6191419780841994\n",
      "Test loss for period 1: 0.6932854413986206 , Test AUC for period 1: 0.48480815347721823\n",
      "Test loss for period 2: 0.6844613432884217 , Test AUC for period 2: 0.5303687050359712\n",
      "Test loss for period 3: 0.6745489001274109 , Test AUC for period 3: 0.5680995203836932\n",
      "Test loss for period 4: 0.6549170970916748 , Test AUC for period 4: 0.6161121103117506\n",
      "Test loss for period 5: 0.6160790622234344 , Test AUC for period 5: 0.6752068345323741\n",
      "Test loss for period 6: 0.554686826467514 , Test AUC for period 6: 0.7618105515587529\n",
      "\n",
      "Epoch 15\n",
      "---------\n",
      "Overall Train loss: 0.6235765563814264 , Overall Train AUC: 0.6377025935499031\n",
      "Train loss for period 1: 0.6658996625950462 , Train AUC for period 1: 0.520396718165619\n",
      "Train loss for period 2: 0.6617361338515031 , Train AUC for period 2: 0.5458025416593237\n",
      "Train loss for period 3: 0.6517827855913263 , Train AUC for period 3: 0.5814404041590789\n",
      "Train loss for period 4: 0.6334575540141055 , Train AUC for period 4: 0.63308249623059\n",
      "Train loss for period 5: 0.591437512322476 , Train AUC for period 5: 0.7107703303373866\n",
      "Train loss for period 6: 0.5371456036442205 , Train AUC for period 6: 0.7855267383344103\n",
      "Overall test loss: 0.6500804662704468 , Overall test AUC: 0.6305372368771649\n",
      "Test loss for period 1: 0.6814886569976807 , Test AUC for period 1: 0.5041906474820145\n",
      "Test loss for period 2: 0.6817952156066894 , Test AUC for period 2: 0.5451438848920863\n",
      "Test loss for period 3: 0.6846721529960632 , Test AUC for period 3: 0.5802697841726618\n",
      "Test loss for period 4: 0.6674707531929016 , Test AUC for period 4: 0.6155545563549161\n",
      "Test loss for period 5: 0.6226946949958801 , Test AUC for period 5: 0.6801918465227819\n",
      "Test loss for period 6: 0.5623611330986023 , Test AUC for period 6: 0.7741936450839328\n",
      "\n",
      "Epoch 16\n",
      "---------\n",
      "Overall Train loss: 0.6225736549026087 , Overall Train AUC: 0.6373691231471147\n",
      "Train loss for period 1: 0.6667485582201105 , Train AUC for period 1: 0.5221806771231079\n",
      "Train loss for period 2: 0.6614205899991488 , Train AUC for period 2: 0.5445232920166834\n",
      "Train loss for period 3: 0.6520771133272272 , Train AUC for period 3: 0.5825606532338601\n",
      "Train loss for period 4: 0.6326926789785686 , Train AUC for period 4: 0.6287144843251287\n",
      "Train loss for period 5: 0.5881657051412683 , Train AUC for period 5: 0.7037259394153008\n",
      "Train loss for period 6: 0.5343372853178727 , Train AUC for period 6: 0.7755835242515029\n",
      "Overall test loss: 0.6507705450057983 , Overall test AUC: 0.6289851452171595\n",
      "Test loss for period 1: 0.6867668271064759 , Test AUC for period 1: 0.5082673860911271\n",
      "Test loss for period 2: 0.6803592920303345 , Test AUC for period 2: 0.5514238609112709\n",
      "Test loss for period 3: 0.680258285999298 , Test AUC for period 3: 0.5910941247002397\n",
      "Test loss for period 4: 0.6649616599082947 , Test AUC for period 4: 0.6221223021582734\n",
      "Test loss for period 5: 0.6276723146438599 , Test AUC for period 5: 0.682185251798561\n",
      "Test loss for period 6: 0.5646047472953797 , Test AUC for period 6: 0.7766037170263789\n",
      "\n",
      "Epoch 17\n",
      "---------\n",
      "Overall Train loss: 0.6340199175633883 , Overall Train AUC: 0.632543171439077\n",
      "Train loss for period 1: 0.6617238521575928 , Train AUC for period 1: 0.5155172413793103\n",
      "Train loss for period 2: 0.6607386093390616 , Train AUC for period 2: 0.5282157473222504\n",
      "Train loss for period 3: 0.6550828563539606 , Train AUC for period 3: 0.5603454150267285\n",
      "Train loss for period 4: 0.6401559302681371 , Train AUC for period 4: 0.6251900370087529\n",
      "Train loss for period 5: 0.6110187110147978 , Train AUC for period 5: 0.7069316023419294\n",
      "Train loss for period 6: 0.5753994646825289 , Train AUC for period 6: 0.7769363018661027\n",
      "Overall test loss: 0.6444467663764953 , Overall test AUC: 0.630152378097522\n",
      "Test loss for period 1: 0.6946306109428406 , Test AUC for period 1: 0.49998800959232614\n",
      "Test loss for period 2: 0.6791643738746643 , Test AUC for period 2: 0.5484232613908873\n",
      "Test loss for period 3: 0.6675682067871094 , Test AUC for period 3: 0.5839478417266186\n",
      "Test loss for period 4: 0.6488470673561096 , Test AUC for period 4: 0.6224730215827339\n",
      "Test loss for period 5: 0.615111768245697 , Test AUC for period 5: 0.6785701438848921\n",
      "Test loss for period 6: 0.5613583981990814 , Test AUC for period 6: 0.7642056354916067\n",
      "\n",
      "Epoch 18\n",
      "---------\n",
      "Overall Train loss: 0.6237386119993109 , Overall Train AUC: 0.6456164182010831\n",
      "Train loss for period 1: 0.6684688894372237 , Train AUC for period 1: 0.5356934735358045\n",
      "Train loss for period 2: 0.6610274942297685 , Train AUC for period 2: 0.5609208130176819\n",
      "Train loss for period 3: 0.6505181475689537 , Train AUC for period 3: 0.5928725841508548\n",
      "Train loss for period 4: 0.6313660270289371 , Train AUC for period 4: 0.6412218762850261\n",
      "Train loss for period 5: 0.5894924261068043 , Train AUC for period 5: 0.7096036734613954\n",
      "Train loss for period 6: 0.5415586719387456 , Train AUC for period 6: 0.7740336603418905\n",
      "Overall test loss: 0.659698748588562 , Overall test AUC: 0.601740149547029\n",
      "Test loss for period 1: 0.6867599010467529 , Test AUC for period 1: 0.4703597122302158\n",
      "Test loss for period 2: 0.6817179679870605 , Test AUC for period 2: 0.5238669064748201\n",
      "Test loss for period 3: 0.6753969550132751 , Test AUC for period 3: 0.5621282973621102\n",
      "Test loss for period 4: 0.6620845675468445 , Test AUC for period 4: 0.6130995203836931\n",
      "Test loss for period 5: 0.6428054690361023 , Test AUC for period 5: 0.6655185851318945\n",
      "Test loss for period 6: 0.6094277739524842 , Test AUC for period 6: 0.7406324940047961\n",
      "\n",
      "Epoch 19\n",
      "---------\n",
      "Overall Train loss: 0.6336123064944619 , Overall Train AUC: 0.6220620250162634\n",
      "Train loss for period 1: 0.6678816864365026 , Train AUC for period 1: 0.5169686110947933\n",
      "Train loss for period 2: 0.6653472279247484 , Train AUC for period 2: 0.5302779572734928\n",
      "Train loss for period 3: 0.6583122360078912 , Train AUC for period 3: 0.5615420313693238\n",
      "Train loss for period 4: 0.6420757331346211 , Train AUC for period 4: 0.6179974152617047\n",
      "Train loss for period 5: 0.6051223183933058 , Train AUC for period 5: 0.6962147290920128\n",
      "Train loss for period 6: 0.5629347060856066 , Train AUC for period 6: 0.7678640662632908\n",
      "Overall test loss: 0.6607532858848572 , Overall test AUC: 0.6377313149480416\n",
      "Test loss for period 1: 0.7234469294548035 , Test AUC for period 1: 0.52056654676259\n",
      "Test loss for period 2: 0.6983721613883972 , Test AUC for period 2: 0.5637350119904077\n",
      "Test loss for period 3: 0.687540864944458 , Test AUC for period 3: 0.5979406474820144\n",
      "Test loss for period 4: 0.6661711096763611 , Test AUC for period 4: 0.6268195443645084\n",
      "Test loss for period 5: 0.6266488432884216 , Test AUC for period 5: 0.6814328537170264\n",
      "Test loss for period 6: 0.5623397827148438 , Test AUC for period 6: 0.7707074340527579\n",
      "\n"
     ]
    }
   ],
   "source": [
    "# model building\n",
    "\n",
    "model = SequenceModel(n_features = training_dat[0][0].shape[1], n_classes = 2, n_hidden = 15, n_layers = 1)\n",
    "loss_function = torch.nn.CrossEntropyLoss()\n",
    "optimizer = torch.optim.Adam(model.parameters(), lr= 0.01)\n",
    "train_dataset = RushDataset(sequences = training_dat, sequence_length=30)\n",
    "train_loader = DataLoader(train_dataset, batch_size = 50, shuffle = True)\n",
    "test_dataset = RushDataset(sequences = test_dat, sequence_length=30)\n",
    "test_loader = DataLoader(test_dataset, batch_size = 50, shuffle = True)\n",
    "\n",
    "lstm_model = train_rush_lstm(train_loader, test_loader, model, loss_function, optimizer, num_epochs = 20)"
   ]
  },
  {
   "cell_type": "code",
   "execution_count": null,
   "metadata": {},
   "outputs": [],
   "source": []
  },
  {
   "cell_type": "code",
   "execution_count": null,
   "metadata": {},
   "outputs": [],
   "source": [
    "\n",
    "\n",
    "\n",
    "\n"
   ]
  },
  {
   "cell_type": "code",
   "execution_count": null,
   "metadata": {},
   "outputs": [],
   "source": []
  },
  {
   "cell_type": "code",
   "execution_count": 465,
   "metadata": {},
   "outputs": [
    {
     "name": "stdout",
     "output_type": "stream",
     "text": [
      "Getting week 1 normalized training data\n"
     ]
    },
    {
     "name": "stderr",
     "output_type": "stream",
     "text": [
      "100%|██████████| 1/1 [00:00<00:00, 852.50it/s]\n"
     ]
    },
    {
     "name": "stdout",
     "output_type": "stream",
     "text": [
      "Getting week 1 normalized training data\n"
     ]
    },
    {
     "name": "stderr",
     "output_type": "stream",
     "text": [
      "100%|██████████| 1/1 [00:00<00:00, 1184.83it/s]\n"
     ]
    },
    {
     "name": "stdout",
     "output_type": "stream",
     "text": [
      "Getting week 1 normalized training data\n"
     ]
    },
    {
     "name": "stderr",
     "output_type": "stream",
     "text": [
      "100%|██████████| 1/1 [00:00<00:00, 1533.57it/s]"
     ]
    },
    {
     "name": "stdout",
     "output_type": "stream",
     "text": [
      "Getting week 1 normalized training data\n"
     ]
    },
    {
     "name": "stderr",
     "output_type": "stream",
     "text": [
      "\n",
      "100%|██████████| 1/1 [00:00<00:00, 1281.88it/s]\n"
     ]
    },
    {
     "name": "stdout",
     "output_type": "stream",
     "text": [
      "Getting week 1 normalized training data\n"
     ]
    },
    {
     "name": "stderr",
     "output_type": "stream",
     "text": [
      "100%|██████████| 1/1 [00:00<00:00, 1557.48it/s]\n"
     ]
    },
    {
     "name": "stdout",
     "output_type": "stream",
     "text": [
      "Getting week 1 normalized training data\n"
     ]
    },
    {
     "name": "stderr",
     "output_type": "stream",
     "text": [
      "100%|██████████| 1/1 [00:00<00:00, 1025.50it/s]\n"
     ]
    },
    {
     "name": "stdout",
     "output_type": "stream",
     "text": [
      "Getting week 1 normalized training data\n"
     ]
    },
    {
     "name": "stderr",
     "output_type": "stream",
     "text": [
      "100%|██████████| 1/1 [00:00<00:00, 1101.45it/s]\n"
     ]
    },
    {
     "name": "stdout",
     "output_type": "stream",
     "text": [
      "Getting week 1 normalized training data\n"
     ]
    },
    {
     "name": "stderr",
     "output_type": "stream",
     "text": [
      "100%|██████████| 1/1 [00:00<00:00, 943.60it/s]\n"
     ]
    },
    {
     "name": "stdout",
     "output_type": "stream",
     "text": [
      "Getting week 1 normalized training data\n"
     ]
    },
    {
     "name": "stderr",
     "output_type": "stream",
     "text": [
      "100%|██████████| 1/1 [00:00<00:00, 915.79it/s]\n"
     ]
    },
    {
     "name": "stdout",
     "output_type": "stream",
     "text": [
      "Getting week 1 normalized training data\n"
     ]
    },
    {
     "name": "stderr",
     "output_type": "stream",
     "text": [
      "100%|██████████| 1/1 [00:00<00:00, 1379.25it/s]\n"
     ]
    },
    {
     "name": "stdout",
     "output_type": "stream",
     "text": [
      "Getting week 1 normalized training data\n"
     ]
    },
    {
     "name": "stderr",
     "output_type": "stream",
     "text": [
      "100%|██████████| 1/1 [00:00<00:00, 1669.71it/s]\n"
     ]
    }
   ],
   "source": [
    "### plotting all below\n",
    "\n",
    "\n",
    "play_id = 2021090900187\n",
    "\n",
    "play_prob = predict_play(master_track = all_data, play_id = play_id, model = lstm_model, normalize = True)\n",
    "player_metrics = get_all_player_metrics_on_play(master_track = all_data, play_id = play_id, model = lstm_model)\n",
    "\n",
    "\n",
    "rusher_play_info = all_data.get_play(play_id).reset_index(drop = 1)\n",
    "rusher_play_info.time_after_snap = round(rusher_play_info.time_after_snap, 1)\n",
    "\n",
    "this = get_all_player_metrics_on_play(master_track = all_data, play_id = play_id, model = lstm_model)\n",
    "player_metrics = []\n",
    "for player_id in this.keys():\n",
    "    metrics = this.get(player_id)\n",
    "    metrics_df = pd.DataFrame({'nflId': float(player_id), 'rusher_metric' : metrics, 'time_after_snap' : np.array(range(0, len(metrics))) / 10})\n",
    "    player_metrics.append(metrics_df)\n",
    "player_metrics_df = pd.concat(player_metrics)\n",
    "\n",
    "rusher_play_info =  rusher_play_info.merge(player_metrics_df, on = ['nflId', 'time_after_snap'], how = 'left')\n",
    "\n",
    "\n",
    "\n",
    "def_match = all_data.play_details_df.loc[(all_data.play_details_df.playId == play_id) & (all_data.play_details_df.pff_nflIdBlockedPlayer.notna()), ['playId', 'nflId', 'pff_nflIdBlockedPlayer']]\n",
    "defender_track = []\n",
    "for defender in def_match.nflId:\n",
    "    this_def = all_data.search_track_weeks(variables = [\"playId\", \"nflId\"], variable_values = [play_id, defender])\n",
    "    defender_track.append(this_def)\n",
    "defender_track = pd.concat(defender_track).merge(def_match, on = ['playId', 'nflId'], how = 'left').loc[:,['nflId', 'playId', 'time_after_snap', 'pff_nflIdBlockedPlayer', 'x', 'y']].rename(columns = {'pff_nflIdBlockedPlayer' : 'nflId', 'nflId' : 'blockerId', 'x' : 'x_block', 'y' : 'y_block'})\n",
    "\n",
    "# get qb track\n",
    "qb_track = all_data.get_qb_track_on_play(play_id).loc[:, ['playId', 'time_after_snap', 'x', 'y', 's', 'a']].rename(columns = {'x' : 'x_qb', 'y' : 'y_qb', 's' : 's_qb', 'a' : 'a_qb'})\n",
    "defender_qb_track = defender_track.merge(qb_track, on = ['playId', 'time_after_snap'], how = 'left')\n",
    "defender_qb_track.time_after_snap = round(defender_qb_track.time_after_snap, 1)\n",
    "\n",
    "block_df = defender_qb_track.loc[(defender_qb_track.time_after_snap >= 0) & (defender_qb_track.time_after_snap < len(play_prob) / 10), ['blockerId', 'time_after_snap', 'x_block', 'y_block']].rename(columns = {'blockerId' : 'nflId', 'x_block' : 'x', 'y_block' : 'y'}).drop_duplicates()\n",
    "rush_df = rusher_play_info.loc[(rusher_play_info.time_after_snap >= 0) & (rusher_play_info.time_after_snap < len(play_prob) / 10), ['nflId', 'time_after_snap', 'rusher_metric', 'x', 'y']].drop_duplicates()\n",
    "qb_df = defender_qb_track.loc[(defender_qb_track.time_after_snap >= 0) & (defender_qb_track.time_after_snap < len(play_prob) / 10), ['time_after_snap', 'x_qb', 'y_qb']].rename(columns = {'x_qb' : 'x', 'y_qb' : 'y'}).drop_duplicates()\n",
    "qb_df['nflId'] = 1\n",
    "\n",
    "\n",
    "unique_time_after_snap = rush_df.time_after_snap.unique()\n",
    "n_player_rush = len(rush_df.nflId.unique())\n",
    "n_player_block = len(block_df.nflId.unique())\n",
    "\n",
    "n_frame = len(unique_time_after_snap)\n",
    "motion_rush = np.empty(shape = (n_frame,3,n_player_rush))\n",
    "motion_block = np.empty(shape = (n_frame,3,n_player_block))\n",
    "motion_qb = np.empty(shape = (n_frame,3, 1))\n",
    "frame = 0\n",
    "for time_after in unique_time_after_snap:\n",
    "    this_frame_rush = rush_df.loc[rush_df.time_after_snap == time_after].copy()\n",
    "    x_this_frame_rush, y_this_frame_rush, color_this_frame_rush = this_frame_rush.x.values.tolist(), this_frame_rush.y.values.tolist(), this_frame_rush.rusher_metric.values.tolist()\n",
    "    motion_rush[frame, :, :] = [x_this_frame_rush, y_this_frame_rush, color_this_frame_rush]\n",
    "    \n",
    "    this_frame_block = block_df.loc[block_df.time_after_snap == time_after].copy()\n",
    "    x_this_frame_block, y_this_frame_block, color_this_frame_block = this_frame_block.x.values.tolist(), this_frame_block.y.values.tolist(), this_frame_block.x.values.tolist()\n",
    "    motion_block[frame, :, :] = [x_this_frame_block, y_this_frame_block, color_this_frame_block]\n",
    "\n",
    "    this_frame_qb = qb_df.loc[block_df.time_after_snap == time_after].copy()\n",
    "    x_this_frame_qb, y_this_frame_qb, color_this_frame_qb = this_frame_qb.x.values.tolist(), this_frame_qb.y.values.tolist(), this_frame_qb.x.values.tolist()\n",
    "    motion_qb[frame, :, :] = [x_this_frame_qb, y_this_frame_qb, color_this_frame_qb]\n",
    "    frame += 1"
   ]
  },
  {
   "cell_type": "code",
   "execution_count": 466,
   "metadata": {},
   "outputs": [],
   "source": [
    "range_x = [min(np.append(np.append(motion_block[:,0,:], motion_rush[:,0,:]),motion_qb[:,0,:]) ) - 2, max(np.append(np.append(motion_block[:,0,:], motion_rush[:,0,:]),motion_qb[:,0,:])) + 2]\n",
    "range_y = [min(np.append(np.append(motion_block[0,1,:], motion_rush[:,1,:]),motion_qb[:,1,:]) ) - 2, max(np.append(np.append(motion_block[:,1,:], motion_rush[:,1,:]),motion_qb[:,1,:])) + 2]\n",
    "color_min, color_max = -0.3, 0.3\n",
    "vec_mobile = list(zip(motion_rush[:,:,:], motion_block[:,:,:], motion_qb[:,:,:], play_prob[:])) # index is (frame), (rusher or blocker or qb or prob_disrupt), (x or y or metric)\n",
    "start_frame = [go.Scatter(x=motion_rush[0,0,:], y = motion_rush[0,1,:], \n",
    "                            mode = \"markers+text\", \n",
    "                            text = ['Rusher Metric: ' + str(round(metric, 3)) for metric in motion_rush[0,2,:]],\n",
    "                            textposition=\"bottom center\",\n",
    "                            name = \"Rushers\",\n",
    "                            legendgroup = \"Rushers\",\n",
    "                            marker = dict(size=20,color=motion_rush[0,2,:], colorbar=dict(title='Metric'), colorscale='rdylbu_r',showscale=True, cmin=color_min, cmax = color_max)),\n",
    "               go.Scatter(x=motion_block[0,0,:], y = motion_block[0,1,:], \n",
    "                            mode = \"markers\", \n",
    "                            name = \"Blockers\",\n",
    "                            legendgroup = \"Blockers\",\n",
    "                            marker = dict(size=20, color = 'black'),\n",
    "                            marker_symbol = \"x\"  ),\n",
    "                go.Scatter(x=motion_qb[0,0,:], y = motion_qb[0,1,:], \n",
    "                            mode = \"markers\", \n",
    "                            name = \"QB\",\n",
    "                            legendgroup = \"QB\",\n",
    "                            marker = dict(size=16, color = 'black'),\n",
    "                            marker_symbol = \"diamond\"  ),\n",
    "                go.Scatter(x= np.array(range_x[0]+2), y = np.array(range_y[1]-2), \n",
    "                            mode = \"text\",\n",
    "                            text = ['QB Distruption Probability: ' + str(round(play_prob[0], 3))],\n",
    "                            textfont = dict(size=12) ) ]\n",
    "\n",
    "all_frame = [   go.Frame(data = [go.Scatter(x=vec_mobile[i][0][0], y = vec_mobile[i][0][1], \n",
    "                                            mode = \"markers+text\", \n",
    "                                            text = ['Rusher Metric: ' + str(round(metric, 3)) for metric in vec_mobile[i][0][2]],\n",
    "                                            textposition=\"bottom center\",\n",
    "                                            name = \"Rushers\",\n",
    "                                            legendgroup = \"Rushers\",\n",
    "                                            marker = dict(size=20, color=vec_mobile[i][0][2],showscale=False, colorscale='rdylbu_r', cmin=color_min, cmax = color_max) ),\n",
    "                                go.Scatter(x= np.ndarray.flatten(np.array([list(x) for x in np.array(vec_mobile[0:i], dtype = object)[:, 0]])[:, 0]), \n",
    "                                            y = np.ndarray.flatten(np.array([list(x) for x in np.array(vec_mobile[0:i], dtype = object)[:, 0]])[:, 1]), \n",
    "                                            mode = \"markers\", \n",
    "                                            marker = dict(size=10, color= np.ndarray.flatten(np.array([list(x) for x in np.array(vec_mobile[0:i], dtype = object)[:, 0]])[:, 2] ), \n",
    "                                                                colorscale='rdylbu_r',showscale=False, cmin=color_min, cmax = color_max),\n",
    "                                            marker_symbol = \"circle\" ),\n",
    "                                 go.Scatter(x=vec_mobile[i][1][0], y = vec_mobile[i][1][1], \n",
    "                                            mode = \"markers\", \n",
    "                                            name = \"Blockers\",\n",
    "                                            legendgroup = \"Blockers\",\n",
    "                                            marker = dict(size=20, color = 'black'),\n",
    "                                            marker_symbol = \"x\" ),\n",
    "                                go.Scatter(x=vec_mobile[i][2][0], y = vec_mobile[i][2][1], \n",
    "                                            mode = \"markers\", \n",
    "                                            name = \"QB\",\n",
    "                                            legendgroup = \"QB\",\n",
    "                                            marker = dict(size=20, color = 'black'),\n",
    "                                            marker_symbol = \"diamond\" ),\n",
    "                                go.Scatter(x= np.array(range_x[0] + 2), y = np.array(range_y[1] - 2), \n",
    "                                                mode = \"text\",\n",
    "                                                text = ['QB Distruption Probability: ' + str(round(vec_mobile[i][3], 3))],\n",
    "                                                textfont = dict(size=12) ) \n",
    "                                                ]) \n",
    "            for i in range(len(vec_mobile))[1:]]\n",
    "layout_draw = go.Layout(\n",
    "        autosize=False,\n",
    "        width=800,\n",
    "        height=600,\n",
    "        plot_bgcolor='green',\n",
    "        xaxis=dict(title='src freq', range=range_x, autorange=False, tickmode = 'linear', tick0 = round(range_x[0],-1), dtick = 5, gridcolor = 'black'),\n",
    "        yaxis=dict(range=range_y, autorange=False, gridcolor = 'green', tick0 = round(range_x[0],-1), dtick = 10),\n",
    "        title= f'Play {play_id}',\n",
    "        updatemenus=[dict(type=\"buttons\",\n",
    "                        buttons=[dict(label=\"Play\",\n",
    "                                    method=\"animate\",\n",
    "                                    args=[None, {\"frame\": {\"duration\": 200, \"redraw\": False}, \"fromcurrent\": True, \"transition\": {\"duration\": 0}}])])]\n",
    "    )\n"
   ]
  },
  {
   "cell_type": "code",
   "execution_count": 467,
   "metadata": {},
   "outputs": [
    {
     "data": {
      "application/vnd.plotly.v1+json": {
       "config": {
        "plotlyServerURL": "https://plot.ly"
       },
       "data": [
        {
         "legendgroup": "Rushers",
         "marker": {
          "cmax": 0.3,
          "cmin": -0.3,
          "color": [
           -0.0049426257610321045,
           -0.00005537271499633789,
           -0.0010282397270202637,
           -0.00816008448600769
          ],
          "colorbar": {
           "title": {
            "text": "Metric"
           }
          },
          "colorscale": [
           [
            0,
            "rgb(49,54,149)"
           ],
           [
            0.1,
            "rgb(69,117,180)"
           ],
           [
            0.2,
            "rgb(116,173,209)"
           ],
           [
            0.3,
            "rgb(171,217,233)"
           ],
           [
            0.4,
            "rgb(224,243,248)"
           ],
           [
            0.5,
            "rgb(255,255,191)"
           ],
           [
            0.6,
            "rgb(254,224,144)"
           ],
           [
            0.7,
            "rgb(253,174,97)"
           ],
           [
            0.8,
            "rgb(244,109,67)"
           ],
           [
            0.9,
            "rgb(215,48,39)"
           ],
           [
            1,
            "rgb(165,0,38)"
           ]
          ],
          "showscale": true,
          "size": 20
         },
         "mode": "markers+text",
         "name": "Rushers",
         "text": [
          "Rusher Metric: -0.005",
          "Rusher Metric: -0.0",
          "Rusher Metric: -0.001",
          "Rusher Metric: -0.008"
         ],
         "textposition": "bottom center",
         "type": "scatter",
         "x": [
          75.32,
          76.29,
          72.69,
          75.37
         ],
         "y": [
          28.68,
          21.36,
          25.11,
          25.6
         ]
        },
        {
         "legendgroup": "Blockers",
         "marker": {
          "color": "black",
          "size": 20,
          "symbol": "x"
         },
         "mode": "markers",
         "name": "Blockers",
         "type": "scatter",
         "x": [
          78.27,
          78.27,
          78.04,
          77.89,
          77.67
         ],
         "y": [
          23.17,
          29.21,
          24.93,
          27.93,
          26.46
         ]
        },
        {
         "legendgroup": "QB",
         "marker": {
          "color": "black",
          "size": 16,
          "symbol": "diamond"
         },
         "mode": "markers",
         "name": "QB",
         "type": "scatter",
         "x": [
          81.26
         ],
         "y": [
          26.46
         ]
        },
        {
         "mode": "text",
         "text": [
          "QB Distruption Probability: 0.291"
         ],
         "textfont": {
          "size": 12
         },
         "type": "scatter",
         "x": [
          72.69
         ],
         "y": [
          29.67
         ]
        }
       ],
       "frames": [
        {
         "data": [
          {
           "legendgroup": "Rushers",
           "marker": {
            "cmax": 0.3,
            "cmin": -0.3,
            "color": [
             0.0009160339832305908,
             -0.0032886266708374023,
             -0.0012939274311065674,
             0.0028631091117858887
            ],
            "colorscale": [
             [
              0,
              "rgb(49,54,149)"
             ],
             [
              0.1,
              "rgb(69,117,180)"
             ],
             [
              0.2,
              "rgb(116,173,209)"
             ],
             [
              0.3,
              "rgb(171,217,233)"
             ],
             [
              0.4,
              "rgb(224,243,248)"
             ],
             [
              0.5,
              "rgb(255,255,191)"
             ],
             [
              0.6,
              "rgb(254,224,144)"
             ],
             [
              0.7,
              "rgb(253,174,97)"
             ],
             [
              0.8,
              "rgb(244,109,67)"
             ],
             [
              0.9,
              "rgb(215,48,39)"
             ],
             [
              1,
              "rgb(165,0,38)"
             ]
            ],
            "showscale": false,
            "size": 20
           },
           "mode": "markers+text",
           "name": "Rushers",
           "text": [
            "Rusher Metric: 0.001",
            "Rusher Metric: -0.003",
            "Rusher Metric: -0.001",
            "Rusher Metric: 0.003"
           ],
           "textposition": "bottom center",
           "type": "scatter",
           "x": [
            75.38,
            76.39,
            72.7,
            75.42
           ],
           "y": [
            28.69,
            21.37,
            25.09,
            25.59
           ]
          },
          {
           "marker": {
            "cmax": 0.3,
            "cmin": -0.3,
            "color": [
             -0.0049426257610321045,
             -0.00005537271499633789,
             -0.0010282397270202637,
             -0.00816008448600769
            ],
            "colorscale": [
             [
              0,
              "rgb(49,54,149)"
             ],
             [
              0.1,
              "rgb(69,117,180)"
             ],
             [
              0.2,
              "rgb(116,173,209)"
             ],
             [
              0.3,
              "rgb(171,217,233)"
             ],
             [
              0.4,
              "rgb(224,243,248)"
             ],
             [
              0.5,
              "rgb(255,255,191)"
             ],
             [
              0.6,
              "rgb(254,224,144)"
             ],
             [
              0.7,
              "rgb(253,174,97)"
             ],
             [
              0.8,
              "rgb(244,109,67)"
             ],
             [
              0.9,
              "rgb(215,48,39)"
             ],
             [
              1,
              "rgb(165,0,38)"
             ]
            ],
            "showscale": false,
            "size": 10,
            "symbol": "circle"
           },
           "mode": "markers",
           "type": "scatter",
           "x": [
            75.32,
            76.29,
            72.69,
            75.37
           ],
           "y": [
            28.68,
            21.36,
            25.11,
            25.6
           ]
          },
          {
           "legendgroup": "Blockers",
           "marker": {
            "color": "black",
            "size": 20,
            "symbol": "x"
           },
           "mode": "markers",
           "name": "Blockers",
           "type": "scatter",
           "x": [
            78.3,
            78.32,
            78.1,
            77.96,
            77.74
           ],
           "y": [
            23.15,
            29.25,
            24.98,
            27.96,
            26.44
           ]
          },
          {
           "legendgroup": "QB",
           "marker": {
            "color": "black",
            "size": 20,
            "symbol": "diamond"
           },
           "mode": "markers",
           "name": "QB",
           "type": "scatter",
           "x": [
            81.35
           ],
           "y": [
            26.47
           ]
          },
          {
           "mode": "text",
           "text": [
            "QB Distruption Probability: 0.258"
           ],
           "textfont": {
            "size": 12
           },
           "type": "scatter",
           "x": [
            72.69
           ],
           "y": [
            29.67
           ]
          }
         ]
        },
        {
         "data": [
          {
           "legendgroup": "Rushers",
           "marker": {
            "cmax": 0.3,
            "cmin": -0.3,
            "color": [
             0.002233445644378662,
             -0.0030546188354492188,
             0.0006447732448577881,
             0.0019451677799224854
            ],
            "colorscale": [
             [
              0,
              "rgb(49,54,149)"
             ],
             [
              0.1,
              "rgb(69,117,180)"
             ],
             [
              0.2,
              "rgb(116,173,209)"
             ],
             [
              0.3,
              "rgb(171,217,233)"
             ],
             [
              0.4,
              "rgb(224,243,248)"
             ],
             [
              0.5,
              "rgb(255,255,191)"
             ],
             [
              0.6,
              "rgb(254,224,144)"
             ],
             [
              0.7,
              "rgb(253,174,97)"
             ],
             [
              0.8,
              "rgb(244,109,67)"
             ],
             [
              0.9,
              "rgb(215,48,39)"
             ],
             [
              1,
              "rgb(165,0,38)"
             ]
            ],
            "showscale": false,
            "size": 20
           },
           "mode": "markers+text",
           "name": "Rushers",
           "text": [
            "Rusher Metric: 0.002",
            "Rusher Metric: -0.003",
            "Rusher Metric: 0.001",
            "Rusher Metric: 0.002"
           ],
           "textposition": "bottom center",
           "type": "scatter",
           "x": [
            75.5,
            76.53,
            72.74,
            75.48
           ],
           "y": [
            28.71,
            21.36,
            25.08,
            25.59
           ]
          },
          {
           "marker": {
            "cmax": 0.3,
            "cmin": -0.3,
            "color": [
             -0.0049426257610321045,
             -0.00005537271499633789,
             -0.0010282397270202637,
             -0.00816008448600769,
             0.0009160339832305908,
             -0.0032886266708374023,
             -0.0012939274311065674,
             0.0028631091117858887
            ],
            "colorscale": [
             [
              0,
              "rgb(49,54,149)"
             ],
             [
              0.1,
              "rgb(69,117,180)"
             ],
             [
              0.2,
              "rgb(116,173,209)"
             ],
             [
              0.3,
              "rgb(171,217,233)"
             ],
             [
              0.4,
              "rgb(224,243,248)"
             ],
             [
              0.5,
              "rgb(255,255,191)"
             ],
             [
              0.6,
              "rgb(254,224,144)"
             ],
             [
              0.7,
              "rgb(253,174,97)"
             ],
             [
              0.8,
              "rgb(244,109,67)"
             ],
             [
              0.9,
              "rgb(215,48,39)"
             ],
             [
              1,
              "rgb(165,0,38)"
             ]
            ],
            "showscale": false,
            "size": 10,
            "symbol": "circle"
           },
           "mode": "markers",
           "type": "scatter",
           "x": [
            75.32,
            76.29,
            72.69,
            75.37,
            75.38,
            76.39,
            72.7,
            75.42
           ],
           "y": [
            28.68,
            21.36,
            25.11,
            25.6,
            28.69,
            21.37,
            25.09,
            25.59
           ]
          },
          {
           "legendgroup": "Blockers",
           "marker": {
            "color": "black",
            "size": 20,
            "symbol": "x"
           },
           "mode": "markers",
           "name": "Blockers",
           "type": "scatter",
           "x": [
            78.33,
            78.35,
            78.17,
            78.05,
            77.82
           ],
           "y": [
            23.12,
            29.27,
            25.04,
            27.98,
            26.42
           ]
          },
          {
           "legendgroup": "QB",
           "marker": {
            "color": "black",
            "size": 20,
            "symbol": "diamond"
           },
           "mode": "markers",
           "name": "QB",
           "type": "scatter",
           "x": [
            81.44
           ],
           "y": [
            26.49
           ]
          },
          {
           "mode": "text",
           "text": [
            "QB Distruption Probability: 0.257"
           ],
           "textfont": {
            "size": 12
           },
           "type": "scatter",
           "x": [
            72.69
           ],
           "y": [
            29.67
           ]
          }
         ]
        },
        {
         "data": [
          {
           "legendgroup": "Rushers",
           "marker": {
            "cmax": 0.3,
            "cmin": -0.3,
            "color": [
             0.00007233023643493652,
             -0.0034719109535217285,
             0.00038701295852661133,
             0.006372809410095215
            ],
            "colorscale": [
             [
              0,
              "rgb(49,54,149)"
             ],
             [
              0.1,
              "rgb(69,117,180)"
             ],
             [
              0.2,
              "rgb(116,173,209)"
             ],
             [
              0.3,
              "rgb(171,217,233)"
             ],
             [
              0.4,
              "rgb(224,243,248)"
             ],
             [
              0.5,
              "rgb(255,255,191)"
             ],
             [
              0.6,
              "rgb(254,224,144)"
             ],
             [
              0.7,
              "rgb(253,174,97)"
             ],
             [
              0.8,
              "rgb(244,109,67)"
             ],
             [
              0.9,
              "rgb(215,48,39)"
             ],
             [
              1,
              "rgb(165,0,38)"
             ]
            ],
            "showscale": false,
            "size": 20
           },
           "mode": "markers+text",
           "name": "Rushers",
           "text": [
            "Rusher Metric: 0.0",
            "Rusher Metric: -0.003",
            "Rusher Metric: 0.0",
            "Rusher Metric: 0.006"
           ],
           "textposition": "bottom center",
           "type": "scatter",
           "x": [
            75.64,
            76.69,
            72.81,
            75.58
           ],
           "y": [
            28.75,
            21.34,
            25.08,
            25.59
           ]
          },
          {
           "marker": {
            "cmax": 0.3,
            "cmin": -0.3,
            "color": [
             -0.0049426257610321045,
             -0.00005537271499633789,
             -0.0010282397270202637,
             -0.00816008448600769,
             0.0009160339832305908,
             -0.0032886266708374023,
             -0.0012939274311065674,
             0.0028631091117858887,
             0.002233445644378662,
             -0.0030546188354492188,
             0.0006447732448577881,
             0.0019451677799224854
            ],
            "colorscale": [
             [
              0,
              "rgb(49,54,149)"
             ],
             [
              0.1,
              "rgb(69,117,180)"
             ],
             [
              0.2,
              "rgb(116,173,209)"
             ],
             [
              0.3,
              "rgb(171,217,233)"
             ],
             [
              0.4,
              "rgb(224,243,248)"
             ],
             [
              0.5,
              "rgb(255,255,191)"
             ],
             [
              0.6,
              "rgb(254,224,144)"
             ],
             [
              0.7,
              "rgb(253,174,97)"
             ],
             [
              0.8,
              "rgb(244,109,67)"
             ],
             [
              0.9,
              "rgb(215,48,39)"
             ],
             [
              1,
              "rgb(165,0,38)"
             ]
            ],
            "showscale": false,
            "size": 10,
            "symbol": "circle"
           },
           "mode": "markers",
           "type": "scatter",
           "x": [
            75.32,
            76.29,
            72.69,
            75.37,
            75.38,
            76.39,
            72.7,
            75.42,
            75.5,
            76.53,
            72.74,
            75.48
           ],
           "y": [
            28.68,
            21.36,
            25.11,
            25.6,
            28.69,
            21.37,
            25.09,
            25.59,
            28.71,
            21.36,
            25.08,
            25.59
           ]
          },
          {
           "legendgroup": "Blockers",
           "marker": {
            "color": "black",
            "size": 20,
            "symbol": "x"
           },
           "mode": "markers",
           "name": "Blockers",
           "type": "scatter",
           "x": [
            78.4,
            78.39,
            78.25,
            78.16,
            77.95
           ],
           "y": [
            23.07,
            29.29,
            25.11,
            28.03,
            26.43
           ]
          },
          {
           "legendgroup": "QB",
           "marker": {
            "color": "black",
            "size": 20,
            "symbol": "diamond"
           },
           "mode": "markers",
           "name": "QB",
           "type": "scatter",
           "x": [
            81.55
           ],
           "y": [
            26.49
           ]
          },
          {
           "mode": "text",
           "text": [
            "QB Distruption Probability: 0.255"
           ],
           "textfont": {
            "size": 12
           },
           "type": "scatter",
           "x": [
            72.69
           ],
           "y": [
            29.67
           ]
          }
         ]
        },
        {
         "data": [
          {
           "legendgroup": "Rushers",
           "marker": {
            "cmax": 0.3,
            "cmin": -0.3,
            "color": [
             0.0021477043628692627,
             -0.0026093125343322754,
             0.0003782510757446289,
             0.006890594959259033
            ],
            "colorscale": [
             [
              0,
              "rgb(49,54,149)"
             ],
             [
              0.1,
              "rgb(69,117,180)"
             ],
             [
              0.2,
              "rgb(116,173,209)"
             ],
             [
              0.3,
              "rgb(171,217,233)"
             ],
             [
              0.4,
              "rgb(224,243,248)"
             ],
             [
              0.5,
              "rgb(255,255,191)"
             ],
             [
              0.6,
              "rgb(254,224,144)"
             ],
             [
              0.7,
              "rgb(253,174,97)"
             ],
             [
              0.8,
              "rgb(244,109,67)"
             ],
             [
              0.9,
              "rgb(215,48,39)"
             ],
             [
              1,
              "rgb(165,0,38)"
             ]
            ],
            "showscale": false,
            "size": 20
           },
           "mode": "markers+text",
           "name": "Rushers",
           "text": [
            "Rusher Metric: 0.002",
            "Rusher Metric: -0.003",
            "Rusher Metric: 0.0",
            "Rusher Metric: 0.007"
           ],
           "textposition": "bottom center",
           "type": "scatter",
           "x": [
            75.83,
            76.89,
            72.9,
            75.71
           ],
           "y": [
            28.8,
            21.33,
            25.09,
            25.59
           ]
          },
          {
           "marker": {
            "cmax": 0.3,
            "cmin": -0.3,
            "color": [
             -0.0049426257610321045,
             -0.00005537271499633789,
             -0.0010282397270202637,
             -0.00816008448600769,
             0.0009160339832305908,
             -0.0032886266708374023,
             -0.0012939274311065674,
             0.0028631091117858887,
             0.002233445644378662,
             -0.0030546188354492188,
             0.0006447732448577881,
             0.0019451677799224854,
             0.00007233023643493652,
             -0.0034719109535217285,
             0.00038701295852661133,
             0.006372809410095215
            ],
            "colorscale": [
             [
              0,
              "rgb(49,54,149)"
             ],
             [
              0.1,
              "rgb(69,117,180)"
             ],
             [
              0.2,
              "rgb(116,173,209)"
             ],
             [
              0.3,
              "rgb(171,217,233)"
             ],
             [
              0.4,
              "rgb(224,243,248)"
             ],
             [
              0.5,
              "rgb(255,255,191)"
             ],
             [
              0.6,
              "rgb(254,224,144)"
             ],
             [
              0.7,
              "rgb(253,174,97)"
             ],
             [
              0.8,
              "rgb(244,109,67)"
             ],
             [
              0.9,
              "rgb(215,48,39)"
             ],
             [
              1,
              "rgb(165,0,38)"
             ]
            ],
            "showscale": false,
            "size": 10,
            "symbol": "circle"
           },
           "mode": "markers",
           "type": "scatter",
           "x": [
            75.32,
            76.29,
            72.69,
            75.37,
            75.38,
            76.39,
            72.7,
            75.42,
            75.5,
            76.53,
            72.74,
            75.48,
            75.64,
            76.69,
            72.81,
            75.58
           ],
           "y": [
            28.68,
            21.36,
            25.11,
            25.6,
            28.69,
            21.37,
            25.09,
            25.59,
            28.71,
            21.36,
            25.08,
            25.59,
            28.75,
            21.34,
            25.08,
            25.59
           ]
          },
          {
           "legendgroup": "Blockers",
           "marker": {
            "color": "black",
            "size": 20,
            "symbol": "x"
           },
           "mode": "markers",
           "name": "Blockers",
           "type": "scatter",
           "x": [
            78.48,
            78.45,
            78.34,
            78.28,
            78.1
           ],
           "y": [
            23.01,
            29.32,
            25.18,
            28.08,
            26.44
           ]
          },
          {
           "legendgroup": "QB",
           "marker": {
            "color": "black",
            "size": 20,
            "symbol": "diamond"
           },
           "mode": "markers",
           "name": "QB",
           "type": "scatter",
           "x": [
            81.68
           ],
           "y": [
            26.48
           ]
          },
          {
           "mode": "text",
           "text": [
            "QB Distruption Probability: 0.259"
           ],
           "textfont": {
            "size": 12
           },
           "type": "scatter",
           "x": [
            72.69
           ],
           "y": [
            29.67
           ]
          }
         ]
        },
        {
         "data": [
          {
           "legendgroup": "Rushers",
           "marker": {
            "cmax": 0.3,
            "cmin": -0.3,
            "color": [
             0.015645384788513184,
             -0.0010910332202911377,
             0.0028673112392425537,
             0.01829087734222412
            ],
            "colorscale": [
             [
              0,
              "rgb(49,54,149)"
             ],
             [
              0.1,
              "rgb(69,117,180)"
             ],
             [
              0.2,
              "rgb(116,173,209)"
             ],
             [
              0.3,
              "rgb(171,217,233)"
             ],
             [
              0.4,
              "rgb(224,243,248)"
             ],
             [
              0.5,
              "rgb(255,255,191)"
             ],
             [
              0.6,
              "rgb(254,224,144)"
             ],
             [
              0.7,
              "rgb(253,174,97)"
             ],
             [
              0.8,
              "rgb(244,109,67)"
             ],
             [
              0.9,
              "rgb(215,48,39)"
             ],
             [
              1,
              "rgb(165,0,38)"
             ]
            ],
            "showscale": false,
            "size": 20
           },
           "mode": "markers+text",
           "name": "Rushers",
           "text": [
            "Rusher Metric: 0.016",
            "Rusher Metric: -0.001",
            "Rusher Metric: 0.003",
            "Rusher Metric: 0.018"
           ],
           "textposition": "bottom center",
           "type": "scatter",
           "x": [
            76.08,
            77.11,
            73.03,
            75.88
           ],
           "y": [
            28.85,
            21.33,
            25.11,
            25.61
           ]
          },
          {
           "marker": {
            "cmax": 0.3,
            "cmin": -0.3,
            "color": [
             -0.0049426257610321045,
             -0.00005537271499633789,
             -0.0010282397270202637,
             -0.00816008448600769,
             0.0009160339832305908,
             -0.0032886266708374023,
             -0.0012939274311065674,
             0.0028631091117858887,
             0.002233445644378662,
             -0.0030546188354492188,
             0.0006447732448577881,
             0.0019451677799224854,
             0.00007233023643493652,
             -0.0034719109535217285,
             0.00038701295852661133,
             0.006372809410095215,
             0.0021477043628692627,
             -0.0026093125343322754,
             0.0003782510757446289,
             0.006890594959259033
            ],
            "colorscale": [
             [
              0,
              "rgb(49,54,149)"
             ],
             [
              0.1,
              "rgb(69,117,180)"
             ],
             [
              0.2,
              "rgb(116,173,209)"
             ],
             [
              0.3,
              "rgb(171,217,233)"
             ],
             [
              0.4,
              "rgb(224,243,248)"
             ],
             [
              0.5,
              "rgb(255,255,191)"
             ],
             [
              0.6,
              "rgb(254,224,144)"
             ],
             [
              0.7,
              "rgb(253,174,97)"
             ],
             [
              0.8,
              "rgb(244,109,67)"
             ],
             [
              0.9,
              "rgb(215,48,39)"
             ],
             [
              1,
              "rgb(165,0,38)"
             ]
            ],
            "showscale": false,
            "size": 10,
            "symbol": "circle"
           },
           "mode": "markers",
           "type": "scatter",
           "x": [
            75.32,
            76.29,
            72.69,
            75.37,
            75.38,
            76.39,
            72.7,
            75.42,
            75.5,
            76.53,
            72.74,
            75.48,
            75.64,
            76.69,
            72.81,
            75.58,
            75.83,
            76.89,
            72.9,
            75.71
           ],
           "y": [
            28.68,
            21.36,
            25.11,
            25.6,
            28.69,
            21.37,
            25.09,
            25.59,
            28.71,
            21.36,
            25.08,
            25.59,
            28.75,
            21.34,
            25.08,
            25.59,
            28.8,
            21.33,
            25.09,
            25.59
           ]
          },
          {
           "legendgroup": "Blockers",
           "marker": {
            "color": "black",
            "size": 20,
            "symbol": "x"
           },
           "mode": "markers",
           "name": "Blockers",
           "type": "scatter",
           "x": [
            78.56,
            78.51,
            78.43,
            78.41,
            78.27
           ],
           "y": [
            22.95,
            29.34,
            25.25,
            28.14,
            26.46
           ]
          },
          {
           "legendgroup": "QB",
           "marker": {
            "color": "black",
            "size": 20,
            "symbol": "diamond"
           },
           "mode": "markers",
           "name": "QB",
           "type": "scatter",
           "x": [
            81.79
           ],
           "y": [
            26.48
           ]
          },
          {
           "mode": "text",
           "text": [
            "QB Distruption Probability: 0.28"
           ],
           "textfont": {
            "size": 12
           },
           "type": "scatter",
           "x": [
            72.69
           ],
           "y": [
            29.67
           ]
          }
         ]
        },
        {
         "data": [
          {
           "legendgroup": "Rushers",
           "marker": {
            "cmax": 0.3,
            "cmin": -0.3,
            "color": [
             0.02656617760658264,
             -0.0008338093757629395,
             0.002313852310180664,
             0.03257903456687927
            ],
            "colorscale": [
             [
              0,
              "rgb(49,54,149)"
             ],
             [
              0.1,
              "rgb(69,117,180)"
             ],
             [
              0.2,
              "rgb(116,173,209)"
             ],
             [
              0.3,
              "rgb(171,217,233)"
             ],
             [
              0.4,
              "rgb(224,243,248)"
             ],
             [
              0.5,
              "rgb(255,255,191)"
             ],
             [
              0.6,
              "rgb(254,224,144)"
             ],
             [
              0.7,
              "rgb(253,174,97)"
             ],
             [
              0.8,
              "rgb(244,109,67)"
             ],
             [
              0.9,
              "rgb(215,48,39)"
             ],
             [
              1,
              "rgb(165,0,38)"
             ]
            ],
            "showscale": false,
            "size": 20
           },
           "mode": "markers+text",
           "name": "Rushers",
           "text": [
            "Rusher Metric: 0.027",
            "Rusher Metric: -0.001",
            "Rusher Metric: 0.002",
            "Rusher Metric: 0.033"
           ],
           "textposition": "bottom center",
           "type": "scatter",
           "x": [
            76.35,
            77.36,
            73.2,
            76.1
           ],
           "y": [
            28.9,
            21.36,
            25.13,
            25.62
           ]
          },
          {
           "marker": {
            "cmax": 0.3,
            "cmin": -0.3,
            "color": [
             -0.0049426257610321045,
             -0.00005537271499633789,
             -0.0010282397270202637,
             -0.00816008448600769,
             0.0009160339832305908,
             -0.0032886266708374023,
             -0.0012939274311065674,
             0.0028631091117858887,
             0.002233445644378662,
             -0.0030546188354492188,
             0.0006447732448577881,
             0.0019451677799224854,
             0.00007233023643493652,
             -0.0034719109535217285,
             0.00038701295852661133,
             0.006372809410095215,
             0.0021477043628692627,
             -0.0026093125343322754,
             0.0003782510757446289,
             0.006890594959259033,
             0.015645384788513184,
             -0.0010910332202911377,
             0.0028673112392425537,
             0.01829087734222412
            ],
            "colorscale": [
             [
              0,
              "rgb(49,54,149)"
             ],
             [
              0.1,
              "rgb(69,117,180)"
             ],
             [
              0.2,
              "rgb(116,173,209)"
             ],
             [
              0.3,
              "rgb(171,217,233)"
             ],
             [
              0.4,
              "rgb(224,243,248)"
             ],
             [
              0.5,
              "rgb(255,255,191)"
             ],
             [
              0.6,
              "rgb(254,224,144)"
             ],
             [
              0.7,
              "rgb(253,174,97)"
             ],
             [
              0.8,
              "rgb(244,109,67)"
             ],
             [
              0.9,
              "rgb(215,48,39)"
             ],
             [
              1,
              "rgb(165,0,38)"
             ]
            ],
            "showscale": false,
            "size": 10,
            "symbol": "circle"
           },
           "mode": "markers",
           "type": "scatter",
           "x": [
            75.32,
            76.29,
            72.69,
            75.37,
            75.38,
            76.39,
            72.7,
            75.42,
            75.5,
            76.53,
            72.74,
            75.48,
            75.64,
            76.69,
            72.81,
            75.58,
            75.83,
            76.89,
            72.9,
            75.71,
            76.08,
            77.11,
            73.03,
            75.88
           ],
           "y": [
            28.68,
            21.36,
            25.11,
            25.6,
            28.69,
            21.37,
            25.09,
            25.59,
            28.71,
            21.36,
            25.08,
            25.59,
            28.75,
            21.34,
            25.08,
            25.59,
            28.8,
            21.33,
            25.09,
            25.59,
            28.85,
            21.33,
            25.11,
            25.61
           ]
          },
          {
           "legendgroup": "Blockers",
           "marker": {
            "color": "black",
            "size": 20,
            "symbol": "x"
           },
           "mode": "markers",
           "name": "Blockers",
           "type": "scatter",
           "x": [
            78.67,
            78.61,
            78.54,
            78.54,
            78.46
           ],
           "y": [
            22.87,
            29.39,
            25.31,
            28.2,
            26.53
           ]
          },
          {
           "legendgroup": "QB",
           "marker": {
            "color": "black",
            "size": 20,
            "symbol": "diamond"
           },
           "mode": "markers",
           "name": "QB",
           "type": "scatter",
           "x": [
            81.92
           ],
           "y": [
            26.49
           ]
          },
          {
           "mode": "text",
           "text": [
            "QB Distruption Probability: 0.291"
           ],
           "textfont": {
            "size": 12
           },
           "type": "scatter",
           "x": [
            72.69
           ],
           "y": [
            29.67
           ]
          }
         ]
        },
        {
         "data": [
          {
           "legendgroup": "Rushers",
           "marker": {
            "cmax": 0.3,
            "cmin": -0.3,
            "color": [
             0.04324796795845032,
             0.0009785294532775879,
             0.00393185019493103,
             0.05108579993247986
            ],
            "colorscale": [
             [
              0,
              "rgb(49,54,149)"
             ],
             [
              0.1,
              "rgb(69,117,180)"
             ],
             [
              0.2,
              "rgb(116,173,209)"
             ],
             [
              0.3,
              "rgb(171,217,233)"
             ],
             [
              0.4,
              "rgb(224,243,248)"
             ],
             [
              0.5,
              "rgb(255,255,191)"
             ],
             [
              0.6,
              "rgb(254,224,144)"
             ],
             [
              0.7,
              "rgb(253,174,97)"
             ],
             [
              0.8,
              "rgb(244,109,67)"
             ],
             [
              0.9,
              "rgb(215,48,39)"
             ],
             [
              1,
              "rgb(165,0,38)"
             ]
            ],
            "showscale": false,
            "size": 20
           },
           "mode": "markers+text",
           "name": "Rushers",
           "text": [
            "Rusher Metric: 0.043",
            "Rusher Metric: 0.001",
            "Rusher Metric: 0.004",
            "Rusher Metric: 0.051"
           ],
           "textposition": "bottom center",
           "type": "scatter",
           "x": [
            76.65,
            77.61,
            73.42,
            76.36
           ],
           "y": [
            28.96,
            21.43,
            25.18,
            25.64
           ]
          },
          {
           "marker": {
            "cmax": 0.3,
            "cmin": -0.3,
            "color": [
             -0.0049426257610321045,
             -0.00005537271499633789,
             -0.0010282397270202637,
             -0.00816008448600769,
             0.0009160339832305908,
             -0.0032886266708374023,
             -0.0012939274311065674,
             0.0028631091117858887,
             0.002233445644378662,
             -0.0030546188354492188,
             0.0006447732448577881,
             0.0019451677799224854,
             0.00007233023643493652,
             -0.0034719109535217285,
             0.00038701295852661133,
             0.006372809410095215,
             0.0021477043628692627,
             -0.0026093125343322754,
             0.0003782510757446289,
             0.006890594959259033,
             0.015645384788513184,
             -0.0010910332202911377,
             0.0028673112392425537,
             0.01829087734222412,
             0.02656617760658264,
             -0.0008338093757629395,
             0.002313852310180664,
             0.03257903456687927
            ],
            "colorscale": [
             [
              0,
              "rgb(49,54,149)"
             ],
             [
              0.1,
              "rgb(69,117,180)"
             ],
             [
              0.2,
              "rgb(116,173,209)"
             ],
             [
              0.3,
              "rgb(171,217,233)"
             ],
             [
              0.4,
              "rgb(224,243,248)"
             ],
             [
              0.5,
              "rgb(255,255,191)"
             ],
             [
              0.6,
              "rgb(254,224,144)"
             ],
             [
              0.7,
              "rgb(253,174,97)"
             ],
             [
              0.8,
              "rgb(244,109,67)"
             ],
             [
              0.9,
              "rgb(215,48,39)"
             ],
             [
              1,
              "rgb(165,0,38)"
             ]
            ],
            "showscale": false,
            "size": 10,
            "symbol": "circle"
           },
           "mode": "markers",
           "type": "scatter",
           "x": [
            75.32,
            76.29,
            72.69,
            75.37,
            75.38,
            76.39,
            72.7,
            75.42,
            75.5,
            76.53,
            72.74,
            75.48,
            75.64,
            76.69,
            72.81,
            75.58,
            75.83,
            76.89,
            72.9,
            75.71,
            76.08,
            77.11,
            73.03,
            75.88,
            76.35,
            77.36,
            73.2,
            76.1
           ],
           "y": [
            28.68,
            21.36,
            25.11,
            25.6,
            28.69,
            21.37,
            25.09,
            25.59,
            28.71,
            21.36,
            25.08,
            25.59,
            28.75,
            21.34,
            25.08,
            25.59,
            28.8,
            21.33,
            25.09,
            25.59,
            28.85,
            21.33,
            25.11,
            25.61,
            28.9,
            21.36,
            25.13,
            25.62
           ]
          },
          {
           "legendgroup": "Blockers",
           "marker": {
            "color": "black",
            "size": 20,
            "symbol": "x"
           },
           "mode": "markers",
           "name": "Blockers",
           "type": "scatter",
           "x": [
            78.8,
            78.73,
            78.66,
            78.7,
            78.66
           ],
           "y": [
            22.79,
            29.44,
            25.37,
            28.26,
            26.59
           ]
          },
          {
           "legendgroup": "QB",
           "marker": {
            "color": "black",
            "size": 20,
            "symbol": "diamond"
           },
           "mode": "markers",
           "name": "QB",
           "type": "scatter",
           "x": [
            82.05
           ],
           "y": [
            26.48
           ]
          },
          {
           "mode": "text",
           "text": [
            "QB Distruption Probability: 0.311"
           ],
           "textfont": {
            "size": 12
           },
           "type": "scatter",
           "x": [
            72.69
           ],
           "y": [
            29.67
           ]
          }
         ]
        },
        {
         "data": [
          {
           "legendgroup": "Rushers",
           "marker": {
            "cmax": 0.3,
            "cmin": -0.3,
            "color": [
             0.06482720375061035,
             -0.0013979971408843994,
             0.002562195062637329,
             0.07055127620697021
            ],
            "colorscale": [
             [
              0,
              "rgb(49,54,149)"
             ],
             [
              0.1,
              "rgb(69,117,180)"
             ],
             [
              0.2,
              "rgb(116,173,209)"
             ],
             [
              0.3,
              "rgb(171,217,233)"
             ],
             [
              0.4,
              "rgb(224,243,248)"
             ],
             [
              0.5,
              "rgb(255,255,191)"
             ],
             [
              0.6,
              "rgb(254,224,144)"
             ],
             [
              0.7,
              "rgb(253,174,97)"
             ],
             [
              0.8,
              "rgb(244,109,67)"
             ],
             [
              0.9,
              "rgb(215,48,39)"
             ],
             [
              1,
              "rgb(165,0,38)"
             ]
            ],
            "showscale": false,
            "size": 20
           },
           "mode": "markers+text",
           "name": "Rushers",
           "text": [
            "Rusher Metric: 0.065",
            "Rusher Metric: -0.001",
            "Rusher Metric: 0.003",
            "Rusher Metric: 0.071"
           ],
           "textposition": "bottom center",
           "type": "scatter",
           "x": [
            77,
            77.86,
            73.69,
            76.66
           ],
           "y": [
            29.03,
            21.51,
            25.23,
            25.68
           ]
          },
          {
           "marker": {
            "cmax": 0.3,
            "cmin": -0.3,
            "color": [
             -0.0049426257610321045,
             -0.00005537271499633789,
             -0.0010282397270202637,
             -0.00816008448600769,
             0.0009160339832305908,
             -0.0032886266708374023,
             -0.0012939274311065674,
             0.0028631091117858887,
             0.002233445644378662,
             -0.0030546188354492188,
             0.0006447732448577881,
             0.0019451677799224854,
             0.00007233023643493652,
             -0.0034719109535217285,
             0.00038701295852661133,
             0.006372809410095215,
             0.0021477043628692627,
             -0.0026093125343322754,
             0.0003782510757446289,
             0.006890594959259033,
             0.015645384788513184,
             -0.0010910332202911377,
             0.0028673112392425537,
             0.01829087734222412,
             0.02656617760658264,
             -0.0008338093757629395,
             0.002313852310180664,
             0.03257903456687927,
             0.04324796795845032,
             0.0009785294532775879,
             0.00393185019493103,
             0.05108579993247986
            ],
            "colorscale": [
             [
              0,
              "rgb(49,54,149)"
             ],
             [
              0.1,
              "rgb(69,117,180)"
             ],
             [
              0.2,
              "rgb(116,173,209)"
             ],
             [
              0.3,
              "rgb(171,217,233)"
             ],
             [
              0.4,
              "rgb(224,243,248)"
             ],
             [
              0.5,
              "rgb(255,255,191)"
             ],
             [
              0.6,
              "rgb(254,224,144)"
             ],
             [
              0.7,
              "rgb(253,174,97)"
             ],
             [
              0.8,
              "rgb(244,109,67)"
             ],
             [
              0.9,
              "rgb(215,48,39)"
             ],
             [
              1,
              "rgb(165,0,38)"
             ]
            ],
            "showscale": false,
            "size": 10,
            "symbol": "circle"
           },
           "mode": "markers",
           "type": "scatter",
           "x": [
            75.32,
            76.29,
            72.69,
            75.37,
            75.38,
            76.39,
            72.7,
            75.42,
            75.5,
            76.53,
            72.74,
            75.48,
            75.64,
            76.69,
            72.81,
            75.58,
            75.83,
            76.89,
            72.9,
            75.71,
            76.08,
            77.11,
            73.03,
            75.88,
            76.35,
            77.36,
            73.2,
            76.1,
            76.65,
            77.61,
            73.42,
            76.36
           ],
           "y": [
            28.68,
            21.36,
            25.11,
            25.6,
            28.69,
            21.37,
            25.09,
            25.59,
            28.71,
            21.36,
            25.08,
            25.59,
            28.75,
            21.34,
            25.08,
            25.59,
            28.8,
            21.33,
            25.09,
            25.59,
            28.85,
            21.33,
            25.11,
            25.61,
            28.9,
            21.36,
            25.13,
            25.62,
            28.96,
            21.43,
            25.18,
            25.64
           ]
          },
          {
           "legendgroup": "Blockers",
           "marker": {
            "color": "black",
            "size": 20,
            "symbol": "x"
           },
           "mode": "markers",
           "name": "Blockers",
           "type": "scatter",
           "x": [
            78.95,
            78.87,
            78.76,
            78.86,
            78.88
           ],
           "y": [
            22.72,
            29.51,
            25.44,
            28.33,
            26.67
           ]
          },
          {
           "legendgroup": "QB",
           "marker": {
            "color": "black",
            "size": 20,
            "symbol": "diamond"
           },
           "mode": "markers",
           "name": "QB",
           "type": "scatter",
           "x": [
            82.22
           ],
           "y": [
            26.48
           ]
          },
          {
           "mode": "text",
           "text": [
            "QB Distruption Probability: 0.325"
           ],
           "textfont": {
            "size": 12
           },
           "type": "scatter",
           "x": [
            72.69
           ],
           "y": [
            29.67
           ]
          }
         ]
        },
        {
         "data": [
          {
           "legendgroup": "Rushers",
           "marker": {
            "cmax": 0.3,
            "cmin": -0.3,
            "color": [
             0.08479040861129761,
             0.00006479024887084961,
             0.004756271839141846,
             0.09080451726913452
            ],
            "colorscale": [
             [
              0,
              "rgb(49,54,149)"
             ],
             [
              0.1,
              "rgb(69,117,180)"
             ],
             [
              0.2,
              "rgb(116,173,209)"
             ],
             [
              0.3,
              "rgb(171,217,233)"
             ],
             [
              0.4,
              "rgb(224,243,248)"
             ],
             [
              0.5,
              "rgb(255,255,191)"
             ],
             [
              0.6,
              "rgb(254,224,144)"
             ],
             [
              0.7,
              "rgb(253,174,97)"
             ],
             [
              0.8,
              "rgb(244,109,67)"
             ],
             [
              0.9,
              "rgb(215,48,39)"
             ],
             [
              1,
              "rgb(165,0,38)"
             ]
            ],
            "showscale": false,
            "size": 20
           },
           "mode": "markers+text",
           "name": "Rushers",
           "text": [
            "Rusher Metric: 0.085",
            "Rusher Metric: 0.0",
            "Rusher Metric: 0.005",
            "Rusher Metric: 0.091"
           ],
           "textposition": "bottom center",
           "type": "scatter",
           "x": [
            77.36,
            78.1,
            74.02,
            76.98
           ],
           "y": [
            29.09,
            21.64,
            25.3,
            25.72
           ]
          },
          {
           "marker": {
            "cmax": 0.3,
            "cmin": -0.3,
            "color": [
             -0.0049426257610321045,
             -0.00005537271499633789,
             -0.0010282397270202637,
             -0.00816008448600769,
             0.0009160339832305908,
             -0.0032886266708374023,
             -0.0012939274311065674,
             0.0028631091117858887,
             0.002233445644378662,
             -0.0030546188354492188,
             0.0006447732448577881,
             0.0019451677799224854,
             0.00007233023643493652,
             -0.0034719109535217285,
             0.00038701295852661133,
             0.006372809410095215,
             0.0021477043628692627,
             -0.0026093125343322754,
             0.0003782510757446289,
             0.006890594959259033,
             0.015645384788513184,
             -0.0010910332202911377,
             0.0028673112392425537,
             0.01829087734222412,
             0.02656617760658264,
             -0.0008338093757629395,
             0.002313852310180664,
             0.03257903456687927,
             0.04324796795845032,
             0.0009785294532775879,
             0.00393185019493103,
             0.05108579993247986,
             0.06482720375061035,
             -0.0013979971408843994,
             0.002562195062637329,
             0.07055127620697021
            ],
            "colorscale": [
             [
              0,
              "rgb(49,54,149)"
             ],
             [
              0.1,
              "rgb(69,117,180)"
             ],
             [
              0.2,
              "rgb(116,173,209)"
             ],
             [
              0.3,
              "rgb(171,217,233)"
             ],
             [
              0.4,
              "rgb(224,243,248)"
             ],
             [
              0.5,
              "rgb(255,255,191)"
             ],
             [
              0.6,
              "rgb(254,224,144)"
             ],
             [
              0.7,
              "rgb(253,174,97)"
             ],
             [
              0.8,
              "rgb(244,109,67)"
             ],
             [
              0.9,
              "rgb(215,48,39)"
             ],
             [
              1,
              "rgb(165,0,38)"
             ]
            ],
            "showscale": false,
            "size": 10,
            "symbol": "circle"
           },
           "mode": "markers",
           "type": "scatter",
           "x": [
            75.32,
            76.29,
            72.69,
            75.37,
            75.38,
            76.39,
            72.7,
            75.42,
            75.5,
            76.53,
            72.74,
            75.48,
            75.64,
            76.69,
            72.81,
            75.58,
            75.83,
            76.89,
            72.9,
            75.71,
            76.08,
            77.11,
            73.03,
            75.88,
            76.35,
            77.36,
            73.2,
            76.1,
            76.65,
            77.61,
            73.42,
            76.36,
            77,
            77.86,
            73.69,
            76.66
           ],
           "y": [
            28.68,
            21.36,
            25.11,
            25.6,
            28.69,
            21.37,
            25.09,
            25.59,
            28.71,
            21.36,
            25.08,
            25.59,
            28.75,
            21.34,
            25.08,
            25.59,
            28.8,
            21.33,
            25.09,
            25.59,
            28.85,
            21.33,
            25.11,
            25.61,
            28.9,
            21.36,
            25.13,
            25.62,
            28.96,
            21.43,
            25.18,
            25.64,
            29.03,
            21.51,
            25.23,
            25.68
           ]
          },
          {
           "legendgroup": "Blockers",
           "marker": {
            "color": "black",
            "size": 20,
            "symbol": "x"
           },
           "mode": "markers",
           "name": "Blockers",
           "type": "scatter",
           "x": [
            79.1,
            79.02,
            78.88,
            79.06,
            79.09
           ],
           "y": [
            22.67,
            29.57,
            25.52,
            28.43,
            26.76
           ]
          },
          {
           "legendgroup": "QB",
           "marker": {
            "color": "black",
            "size": 20,
            "symbol": "diamond"
           },
           "mode": "markers",
           "name": "QB",
           "type": "scatter",
           "x": [
            82.4
           ],
           "y": [
            26.48
           ]
          },
          {
           "mode": "text",
           "text": [
            "QB Distruption Probability: 0.345"
           ],
           "textfont": {
            "size": 12
           },
           "type": "scatter",
           "x": [
            72.69
           ],
           "y": [
            29.67
           ]
          }
         ]
        },
        {
         "data": [
          {
           "legendgroup": "Rushers",
           "marker": {
            "cmax": 0.3,
            "cmin": -0.3,
            "color": [
             0.08674991130828857,
             0.0009375512599945068,
             0.0060256123542785645,
             0.08956539630889893
            ],
            "colorscale": [
             [
              0,
              "rgb(49,54,149)"
             ],
             [
              0.1,
              "rgb(69,117,180)"
             ],
             [
              0.2,
              "rgb(116,173,209)"
             ],
             [
              0.3,
              "rgb(171,217,233)"
             ],
             [
              0.4,
              "rgb(224,243,248)"
             ],
             [
              0.5,
              "rgb(255,255,191)"
             ],
             [
              0.6,
              "rgb(254,224,144)"
             ],
             [
              0.7,
              "rgb(253,174,97)"
             ],
             [
              0.8,
              "rgb(244,109,67)"
             ],
             [
              0.9,
              "rgb(215,48,39)"
             ],
             [
              1,
              "rgb(165,0,38)"
             ]
            ],
            "showscale": false,
            "size": 20
           },
           "mode": "markers+text",
           "name": "Rushers",
           "text": [
            "Rusher Metric: 0.087",
            "Rusher Metric: 0.001",
            "Rusher Metric: 0.006",
            "Rusher Metric: 0.09"
           ],
           "textposition": "bottom center",
           "type": "scatter",
           "x": [
            77.73,
            78.32,
            74.39,
            77.3
           ],
           "y": [
            29.13,
            21.82,
            25.37,
            25.77
           ]
          },
          {
           "marker": {
            "cmax": 0.3,
            "cmin": -0.3,
            "color": [
             -0.0049426257610321045,
             -0.00005537271499633789,
             -0.0010282397270202637,
             -0.00816008448600769,
             0.0009160339832305908,
             -0.0032886266708374023,
             -0.0012939274311065674,
             0.0028631091117858887,
             0.002233445644378662,
             -0.0030546188354492188,
             0.0006447732448577881,
             0.0019451677799224854,
             0.00007233023643493652,
             -0.0034719109535217285,
             0.00038701295852661133,
             0.006372809410095215,
             0.0021477043628692627,
             -0.0026093125343322754,
             0.0003782510757446289,
             0.006890594959259033,
             0.015645384788513184,
             -0.0010910332202911377,
             0.0028673112392425537,
             0.01829087734222412,
             0.02656617760658264,
             -0.0008338093757629395,
             0.002313852310180664,
             0.03257903456687927,
             0.04324796795845032,
             0.0009785294532775879,
             0.00393185019493103,
             0.05108579993247986,
             0.06482720375061035,
             -0.0013979971408843994,
             0.002562195062637329,
             0.07055127620697021,
             0.08479040861129761,
             0.00006479024887084961,
             0.004756271839141846,
             0.09080451726913452
            ],
            "colorscale": [
             [
              0,
              "rgb(49,54,149)"
             ],
             [
              0.1,
              "rgb(69,117,180)"
             ],
             [
              0.2,
              "rgb(116,173,209)"
             ],
             [
              0.3,
              "rgb(171,217,233)"
             ],
             [
              0.4,
              "rgb(224,243,248)"
             ],
             [
              0.5,
              "rgb(255,255,191)"
             ],
             [
              0.6,
              "rgb(254,224,144)"
             ],
             [
              0.7,
              "rgb(253,174,97)"
             ],
             [
              0.8,
              "rgb(244,109,67)"
             ],
             [
              0.9,
              "rgb(215,48,39)"
             ],
             [
              1,
              "rgb(165,0,38)"
             ]
            ],
            "showscale": false,
            "size": 10,
            "symbol": "circle"
           },
           "mode": "markers",
           "type": "scatter",
           "x": [
            75.32,
            76.29,
            72.69,
            75.37,
            75.38,
            76.39,
            72.7,
            75.42,
            75.5,
            76.53,
            72.74,
            75.48,
            75.64,
            76.69,
            72.81,
            75.58,
            75.83,
            76.89,
            72.9,
            75.71,
            76.08,
            77.11,
            73.03,
            75.88,
            76.35,
            77.36,
            73.2,
            76.1,
            76.65,
            77.61,
            73.42,
            76.36,
            77,
            77.86,
            73.69,
            76.66,
            77.36,
            78.1,
            74.02,
            76.98
           ],
           "y": [
            28.68,
            21.36,
            25.11,
            25.6,
            28.69,
            21.37,
            25.09,
            25.59,
            28.71,
            21.36,
            25.08,
            25.59,
            28.75,
            21.34,
            25.08,
            25.59,
            28.8,
            21.33,
            25.09,
            25.59,
            28.85,
            21.33,
            25.11,
            25.61,
            28.9,
            21.36,
            25.13,
            25.62,
            28.96,
            21.43,
            25.18,
            25.64,
            29.03,
            21.51,
            25.23,
            25.68,
            29.09,
            21.64,
            25.3,
            25.72
           ]
          },
          {
           "legendgroup": "Blockers",
           "marker": {
            "color": "black",
            "size": 20,
            "symbol": "x"
           },
           "mode": "markers",
           "name": "Blockers",
           "type": "scatter",
           "x": [
            79.26,
            79.18,
            78.99,
            79.27,
            79.3
           ],
           "y": [
            22.63,
            29.61,
            25.59,
            28.5,
            26.83
           ]
          },
          {
           "legendgroup": "QB",
           "marker": {
            "color": "black",
            "size": 20,
            "symbol": "diamond"
           },
           "mode": "markers",
           "name": "QB",
           "type": "scatter",
           "x": [
            82.59
           ],
           "y": [
            26.48
           ]
          },
          {
           "mode": "text",
           "text": [
            "QB Distruption Probability: 0.353"
           ],
           "textfont": {
            "size": 12
           },
           "type": "scatter",
           "x": [
            72.69
           ],
           "y": [
            29.67
           ]
          }
         ]
        },
        {
         "data": [
          {
           "legendgroup": "Rushers",
           "marker": {
            "cmax": 0.3,
            "cmin": -0.3,
            "color": [
             0.08165603876113892,
             0.0015384852886199951,
             0.009653031826019287,
             0.08705738186836243
            ],
            "colorscale": [
             [
              0,
              "rgb(49,54,149)"
             ],
             [
              0.1,
              "rgb(69,117,180)"
             ],
             [
              0.2,
              "rgb(116,173,209)"
             ],
             [
              0.3,
              "rgb(171,217,233)"
             ],
             [
              0.4,
              "rgb(224,243,248)"
             ],
             [
              0.5,
              "rgb(255,255,191)"
             ],
             [
              0.6,
              "rgb(254,224,144)"
             ],
             [
              0.7,
              "rgb(253,174,97)"
             ],
             [
              0.8,
              "rgb(244,109,67)"
             ],
             [
              0.9,
              "rgb(215,48,39)"
             ],
             [
              1,
              "rgb(165,0,38)"
             ]
            ],
            "showscale": false,
            "size": 20
           },
           "mode": "markers+text",
           "name": "Rushers",
           "text": [
            "Rusher Metric: 0.082",
            "Rusher Metric: 0.002",
            "Rusher Metric: 0.01",
            "Rusher Metric: 0.087"
           ],
           "textposition": "bottom center",
           "type": "scatter",
           "x": [
            78.07,
            78.51,
            74.82,
            77.62
           ],
           "y": [
            29.15,
            22.06,
            25.45,
            25.84
           ]
          },
          {
           "marker": {
            "cmax": 0.3,
            "cmin": -0.3,
            "color": [
             -0.0049426257610321045,
             -0.00005537271499633789,
             -0.0010282397270202637,
             -0.00816008448600769,
             0.0009160339832305908,
             -0.0032886266708374023,
             -0.0012939274311065674,
             0.0028631091117858887,
             0.002233445644378662,
             -0.0030546188354492188,
             0.0006447732448577881,
             0.0019451677799224854,
             0.00007233023643493652,
             -0.0034719109535217285,
             0.00038701295852661133,
             0.006372809410095215,
             0.0021477043628692627,
             -0.0026093125343322754,
             0.0003782510757446289,
             0.006890594959259033,
             0.015645384788513184,
             -0.0010910332202911377,
             0.0028673112392425537,
             0.01829087734222412,
             0.02656617760658264,
             -0.0008338093757629395,
             0.002313852310180664,
             0.03257903456687927,
             0.04324796795845032,
             0.0009785294532775879,
             0.00393185019493103,
             0.05108579993247986,
             0.06482720375061035,
             -0.0013979971408843994,
             0.002562195062637329,
             0.07055127620697021,
             0.08479040861129761,
             0.00006479024887084961,
             0.004756271839141846,
             0.09080451726913452,
             0.08674991130828857,
             0.0009375512599945068,
             0.0060256123542785645,
             0.08956539630889893
            ],
            "colorscale": [
             [
              0,
              "rgb(49,54,149)"
             ],
             [
              0.1,
              "rgb(69,117,180)"
             ],
             [
              0.2,
              "rgb(116,173,209)"
             ],
             [
              0.3,
              "rgb(171,217,233)"
             ],
             [
              0.4,
              "rgb(224,243,248)"
             ],
             [
              0.5,
              "rgb(255,255,191)"
             ],
             [
              0.6,
              "rgb(254,224,144)"
             ],
             [
              0.7,
              "rgb(253,174,97)"
             ],
             [
              0.8,
              "rgb(244,109,67)"
             ],
             [
              0.9,
              "rgb(215,48,39)"
             ],
             [
              1,
              "rgb(165,0,38)"
             ]
            ],
            "showscale": false,
            "size": 10,
            "symbol": "circle"
           },
           "mode": "markers",
           "type": "scatter",
           "x": [
            75.32,
            76.29,
            72.69,
            75.37,
            75.38,
            76.39,
            72.7,
            75.42,
            75.5,
            76.53,
            72.74,
            75.48,
            75.64,
            76.69,
            72.81,
            75.58,
            75.83,
            76.89,
            72.9,
            75.71,
            76.08,
            77.11,
            73.03,
            75.88,
            76.35,
            77.36,
            73.2,
            76.1,
            76.65,
            77.61,
            73.42,
            76.36,
            77,
            77.86,
            73.69,
            76.66,
            77.36,
            78.1,
            74.02,
            76.98,
            77.73,
            78.32,
            74.39,
            77.3
           ],
           "y": [
            28.68,
            21.36,
            25.11,
            25.6,
            28.69,
            21.37,
            25.09,
            25.59,
            28.71,
            21.36,
            25.08,
            25.59,
            28.75,
            21.34,
            25.08,
            25.59,
            28.8,
            21.33,
            25.09,
            25.59,
            28.85,
            21.33,
            25.11,
            25.61,
            28.9,
            21.36,
            25.13,
            25.62,
            28.96,
            21.43,
            25.18,
            25.64,
            29.03,
            21.51,
            25.23,
            25.68,
            29.09,
            21.64,
            25.3,
            25.72,
            29.13,
            21.82,
            25.37,
            25.77
           ]
          },
          {
           "legendgroup": "Blockers",
           "marker": {
            "color": "black",
            "size": 20,
            "symbol": "x"
           },
           "mode": "markers",
           "name": "Blockers",
           "type": "scatter",
           "x": [
            79.41,
            79.33,
            79.11,
            79.47,
            79.52
           ],
           "y": [
            22.63,
            29.66,
            25.67,
            28.55,
            26.92
           ]
          },
          {
           "legendgroup": "QB",
           "marker": {
            "color": "black",
            "size": 20,
            "symbol": "diamond"
           },
           "mode": "markers",
           "name": "QB",
           "type": "scatter",
           "x": [
            82.79
           ],
           "y": [
            26.48
           ]
          },
          {
           "mode": "text",
           "text": [
            "QB Distruption Probability: 0.351"
           ],
           "textfont": {
            "size": 12
           },
           "type": "scatter",
           "x": [
            72.69
           ],
           "y": [
            29.67
           ]
          }
         ]
        },
        {
         "data": [
          {
           "legendgroup": "Rushers",
           "marker": {
            "cmax": 0.3,
            "cmin": -0.3,
            "color": [
             0.07058143615722656,
             -0.0002962350845336914,
             0.011854290962219238,
             0.06897848844528198
            ],
            "colorscale": [
             [
              0,
              "rgb(49,54,149)"
             ],
             [
              0.1,
              "rgb(69,117,180)"
             ],
             [
              0.2,
              "rgb(116,173,209)"
             ],
             [
              0.3,
              "rgb(171,217,233)"
             ],
             [
              0.4,
              "rgb(224,243,248)"
             ],
             [
              0.5,
              "rgb(255,255,191)"
             ],
             [
              0.6,
              "rgb(254,224,144)"
             ],
             [
              0.7,
              "rgb(253,174,97)"
             ],
             [
              0.8,
              "rgb(244,109,67)"
             ],
             [
              0.9,
              "rgb(215,48,39)"
             ],
             [
              1,
              "rgb(165,0,38)"
             ]
            ],
            "showscale": false,
            "size": 20
           },
           "mode": "markers+text",
           "name": "Rushers",
           "text": [
            "Rusher Metric: 0.071",
            "Rusher Metric: -0.0",
            "Rusher Metric: 0.012",
            "Rusher Metric: 0.069"
           ],
           "textposition": "bottom center",
           "type": "scatter",
           "x": [
            78.41,
            78.69,
            75.29,
            77.89
           ],
           "y": [
            29.17,
            22.29,
            25.51,
            25.89
           ]
          },
          {
           "marker": {
            "cmax": 0.3,
            "cmin": -0.3,
            "color": [
             -0.0049426257610321045,
             -0.00005537271499633789,
             -0.0010282397270202637,
             -0.00816008448600769,
             0.0009160339832305908,
             -0.0032886266708374023,
             -0.0012939274311065674,
             0.0028631091117858887,
             0.002233445644378662,
             -0.0030546188354492188,
             0.0006447732448577881,
             0.0019451677799224854,
             0.00007233023643493652,
             -0.0034719109535217285,
             0.00038701295852661133,
             0.006372809410095215,
             0.0021477043628692627,
             -0.0026093125343322754,
             0.0003782510757446289,
             0.006890594959259033,
             0.015645384788513184,
             -0.0010910332202911377,
             0.0028673112392425537,
             0.01829087734222412,
             0.02656617760658264,
             -0.0008338093757629395,
             0.002313852310180664,
             0.03257903456687927,
             0.04324796795845032,
             0.0009785294532775879,
             0.00393185019493103,
             0.05108579993247986,
             0.06482720375061035,
             -0.0013979971408843994,
             0.002562195062637329,
             0.07055127620697021,
             0.08479040861129761,
             0.00006479024887084961,
             0.004756271839141846,
             0.09080451726913452,
             0.08674991130828857,
             0.0009375512599945068,
             0.0060256123542785645,
             0.08956539630889893,
             0.08165603876113892,
             0.0015384852886199951,
             0.009653031826019287,
             0.08705738186836243
            ],
            "colorscale": [
             [
              0,
              "rgb(49,54,149)"
             ],
             [
              0.1,
              "rgb(69,117,180)"
             ],
             [
              0.2,
              "rgb(116,173,209)"
             ],
             [
              0.3,
              "rgb(171,217,233)"
             ],
             [
              0.4,
              "rgb(224,243,248)"
             ],
             [
              0.5,
              "rgb(255,255,191)"
             ],
             [
              0.6,
              "rgb(254,224,144)"
             ],
             [
              0.7,
              "rgb(253,174,97)"
             ],
             [
              0.8,
              "rgb(244,109,67)"
             ],
             [
              0.9,
              "rgb(215,48,39)"
             ],
             [
              1,
              "rgb(165,0,38)"
             ]
            ],
            "showscale": false,
            "size": 10,
            "symbol": "circle"
           },
           "mode": "markers",
           "type": "scatter",
           "x": [
            75.32,
            76.29,
            72.69,
            75.37,
            75.38,
            76.39,
            72.7,
            75.42,
            75.5,
            76.53,
            72.74,
            75.48,
            75.64,
            76.69,
            72.81,
            75.58,
            75.83,
            76.89,
            72.9,
            75.71,
            76.08,
            77.11,
            73.03,
            75.88,
            76.35,
            77.36,
            73.2,
            76.1,
            76.65,
            77.61,
            73.42,
            76.36,
            77,
            77.86,
            73.69,
            76.66,
            77.36,
            78.1,
            74.02,
            76.98,
            77.73,
            78.32,
            74.39,
            77.3,
            78.07,
            78.51,
            74.82,
            77.62
           ],
           "y": [
            28.68,
            21.36,
            25.11,
            25.6,
            28.69,
            21.37,
            25.09,
            25.59,
            28.71,
            21.36,
            25.08,
            25.59,
            28.75,
            21.34,
            25.08,
            25.59,
            28.8,
            21.33,
            25.09,
            25.59,
            28.85,
            21.33,
            25.11,
            25.61,
            28.9,
            21.36,
            25.13,
            25.62,
            28.96,
            21.43,
            25.18,
            25.64,
            29.03,
            21.51,
            25.23,
            25.68,
            29.09,
            21.64,
            25.3,
            25.72,
            29.13,
            21.82,
            25.37,
            25.77,
            29.15,
            22.06,
            25.45,
            25.84
           ]
          },
          {
           "legendgroup": "Blockers",
           "marker": {
            "color": "black",
            "size": 20,
            "symbol": "x"
           },
           "mode": "markers",
           "name": "Blockers",
           "type": "scatter",
           "x": [
            79.54,
            79.46,
            79.23,
            79.67,
            79.72
           ],
           "y": [
            22.66,
            29.66,
            25.74,
            28.61,
            27.01
           ]
          },
          {
           "legendgroup": "QB",
           "marker": {
            "color": "black",
            "size": 20,
            "symbol": "diamond"
           },
           "mode": "markers",
           "name": "QB",
           "type": "scatter",
           "x": [
            83
           ],
           "y": [
            26.48
           ]
          },
          {
           "mode": "text",
           "text": [
            "QB Distruption Probability: 0.337"
           ],
           "textfont": {
            "size": 12
           },
           "type": "scatter",
           "x": [
            72.69
           ],
           "y": [
            29.67
           ]
          }
         ]
        },
        {
         "data": [
          {
           "legendgroup": "Rushers",
           "marker": {
            "cmax": 0.3,
            "cmin": -0.3,
            "color": [
             0.06187787652015686,
             -0.00019249320030212402,
             0.011433511972427368,
             0.06701138615608215
            ],
            "colorscale": [
             [
              0,
              "rgb(49,54,149)"
             ],
             [
              0.1,
              "rgb(69,117,180)"
             ],
             [
              0.2,
              "rgb(116,173,209)"
             ],
             [
              0.3,
              "rgb(171,217,233)"
             ],
             [
              0.4,
              "rgb(224,243,248)"
             ],
             [
              0.5,
              "rgb(255,255,191)"
             ],
             [
              0.6,
              "rgb(254,224,144)"
             ],
             [
              0.7,
              "rgb(253,174,97)"
             ],
             [
              0.8,
              "rgb(244,109,67)"
             ],
             [
              0.9,
              "rgb(215,48,39)"
             ],
             [
              1,
              "rgb(165,0,38)"
             ]
            ],
            "showscale": false,
            "size": 20
           },
           "mode": "markers+text",
           "name": "Rushers",
           "text": [
            "Rusher Metric: 0.062",
            "Rusher Metric: -0.0",
            "Rusher Metric: 0.011",
            "Rusher Metric: 0.067"
           ],
           "textposition": "bottom center",
           "type": "scatter",
           "x": [
            78.7,
            78.84,
            75.78,
            78.16
           ],
           "y": [
            29.16,
            22.56,
            25.57,
            25.93
           ]
          },
          {
           "marker": {
            "cmax": 0.3,
            "cmin": -0.3,
            "color": [
             -0.0049426257610321045,
             -0.00005537271499633789,
             -0.0010282397270202637,
             -0.00816008448600769,
             0.0009160339832305908,
             -0.0032886266708374023,
             -0.0012939274311065674,
             0.0028631091117858887,
             0.002233445644378662,
             -0.0030546188354492188,
             0.0006447732448577881,
             0.0019451677799224854,
             0.00007233023643493652,
             -0.0034719109535217285,
             0.00038701295852661133,
             0.006372809410095215,
             0.0021477043628692627,
             -0.0026093125343322754,
             0.0003782510757446289,
             0.006890594959259033,
             0.015645384788513184,
             -0.0010910332202911377,
             0.0028673112392425537,
             0.01829087734222412,
             0.02656617760658264,
             -0.0008338093757629395,
             0.002313852310180664,
             0.03257903456687927,
             0.04324796795845032,
             0.0009785294532775879,
             0.00393185019493103,
             0.05108579993247986,
             0.06482720375061035,
             -0.0013979971408843994,
             0.002562195062637329,
             0.07055127620697021,
             0.08479040861129761,
             0.00006479024887084961,
             0.004756271839141846,
             0.09080451726913452,
             0.08674991130828857,
             0.0009375512599945068,
             0.0060256123542785645,
             0.08956539630889893,
             0.08165603876113892,
             0.0015384852886199951,
             0.009653031826019287,
             0.08705738186836243,
             0.07058143615722656,
             -0.0002962350845336914,
             0.011854290962219238,
             0.06897848844528198
            ],
            "colorscale": [
             [
              0,
              "rgb(49,54,149)"
             ],
             [
              0.1,
              "rgb(69,117,180)"
             ],
             [
              0.2,
              "rgb(116,173,209)"
             ],
             [
              0.3,
              "rgb(171,217,233)"
             ],
             [
              0.4,
              "rgb(224,243,248)"
             ],
             [
              0.5,
              "rgb(255,255,191)"
             ],
             [
              0.6,
              "rgb(254,224,144)"
             ],
             [
              0.7,
              "rgb(253,174,97)"
             ],
             [
              0.8,
              "rgb(244,109,67)"
             ],
             [
              0.9,
              "rgb(215,48,39)"
             ],
             [
              1,
              "rgb(165,0,38)"
             ]
            ],
            "showscale": false,
            "size": 10,
            "symbol": "circle"
           },
           "mode": "markers",
           "type": "scatter",
           "x": [
            75.32,
            76.29,
            72.69,
            75.37,
            75.38,
            76.39,
            72.7,
            75.42,
            75.5,
            76.53,
            72.74,
            75.48,
            75.64,
            76.69,
            72.81,
            75.58,
            75.83,
            76.89,
            72.9,
            75.71,
            76.08,
            77.11,
            73.03,
            75.88,
            76.35,
            77.36,
            73.2,
            76.1,
            76.65,
            77.61,
            73.42,
            76.36,
            77,
            77.86,
            73.69,
            76.66,
            77.36,
            78.1,
            74.02,
            76.98,
            77.73,
            78.32,
            74.39,
            77.3,
            78.07,
            78.51,
            74.82,
            77.62,
            78.41,
            78.69,
            75.29,
            77.89
           ],
           "y": [
            28.68,
            21.36,
            25.11,
            25.6,
            28.69,
            21.37,
            25.09,
            25.59,
            28.71,
            21.36,
            25.08,
            25.59,
            28.75,
            21.34,
            25.08,
            25.59,
            28.8,
            21.33,
            25.09,
            25.59,
            28.85,
            21.33,
            25.11,
            25.61,
            28.9,
            21.36,
            25.13,
            25.62,
            28.96,
            21.43,
            25.18,
            25.64,
            29.03,
            21.51,
            25.23,
            25.68,
            29.09,
            21.64,
            25.3,
            25.72,
            29.13,
            21.82,
            25.37,
            25.77,
            29.15,
            22.06,
            25.45,
            25.84,
            29.17,
            22.29,
            25.51,
            25.89
           ]
          },
          {
           "legendgroup": "Blockers",
           "marker": {
            "color": "black",
            "size": 20,
            "symbol": "x"
           },
           "mode": "markers",
           "name": "Blockers",
           "type": "scatter",
           "x": [
            79.67,
            79.6,
            79.36,
            79.86,
            79.92
           ],
           "y": [
            22.74,
            29.67,
            25.81,
            28.67,
            27.08
           ]
          },
          {
           "legendgroup": "QB",
           "marker": {
            "color": "black",
            "size": 20,
            "symbol": "diamond"
           },
           "mode": "markers",
           "name": "QB",
           "type": "scatter",
           "x": [
            83.22
           ],
           "y": [
            26.47
           ]
          },
          {
           "mode": "text",
           "text": [
            "QB Distruption Probability: 0.325"
           ],
           "textfont": {
            "size": 12
           },
           "type": "scatter",
           "x": [
            72.69
           ],
           "y": [
            29.67
           ]
          }
         ]
        },
        {
         "data": [
          {
           "legendgroup": "Rushers",
           "marker": {
            "cmax": 0.3,
            "cmin": -0.3,
            "color": [
             0.05037650465965271,
             0.0004955828189849854,
             0.014897584915161133,
             0.05420506000518799
            ],
            "colorscale": [
             [
              0,
              "rgb(49,54,149)"
             ],
             [
              0.1,
              "rgb(69,117,180)"
             ],
             [
              0.2,
              "rgb(116,173,209)"
             ],
             [
              0.3,
              "rgb(171,217,233)"
             ],
             [
              0.4,
              "rgb(224,243,248)"
             ],
             [
              0.5,
              "rgb(255,255,191)"
             ],
             [
              0.6,
              "rgb(254,224,144)"
             ],
             [
              0.7,
              "rgb(253,174,97)"
             ],
             [
              0.8,
              "rgb(244,109,67)"
             ],
             [
              0.9,
              "rgb(215,48,39)"
             ],
             [
              1,
              "rgb(165,0,38)"
             ]
            ],
            "showscale": false,
            "size": 20
           },
           "mode": "markers+text",
           "name": "Rushers",
           "text": [
            "Rusher Metric: 0.05",
            "Rusher Metric: 0.0",
            "Rusher Metric: 0.015",
            "Rusher Metric: 0.054"
           ],
           "textposition": "bottom center",
           "type": "scatter",
           "x": [
            78.94,
            78.98,
            76.3,
            78.39
           ],
           "y": [
            29.12,
            22.84,
            25.62,
            25.97
           ]
          },
          {
           "marker": {
            "cmax": 0.3,
            "cmin": -0.3,
            "color": [
             -0.0049426257610321045,
             -0.00005537271499633789,
             -0.0010282397270202637,
             -0.00816008448600769,
             0.0009160339832305908,
             -0.0032886266708374023,
             -0.0012939274311065674,
             0.0028631091117858887,
             0.002233445644378662,
             -0.0030546188354492188,
             0.0006447732448577881,
             0.0019451677799224854,
             0.00007233023643493652,
             -0.0034719109535217285,
             0.00038701295852661133,
             0.006372809410095215,
             0.0021477043628692627,
             -0.0026093125343322754,
             0.0003782510757446289,
             0.006890594959259033,
             0.015645384788513184,
             -0.0010910332202911377,
             0.0028673112392425537,
             0.01829087734222412,
             0.02656617760658264,
             -0.0008338093757629395,
             0.002313852310180664,
             0.03257903456687927,
             0.04324796795845032,
             0.0009785294532775879,
             0.00393185019493103,
             0.05108579993247986,
             0.06482720375061035,
             -0.0013979971408843994,
             0.002562195062637329,
             0.07055127620697021,
             0.08479040861129761,
             0.00006479024887084961,
             0.004756271839141846,
             0.09080451726913452,
             0.08674991130828857,
             0.0009375512599945068,
             0.0060256123542785645,
             0.08956539630889893,
             0.08165603876113892,
             0.0015384852886199951,
             0.009653031826019287,
             0.08705738186836243,
             0.07058143615722656,
             -0.0002962350845336914,
             0.011854290962219238,
             0.06897848844528198,
             0.06187787652015686,
             -0.00019249320030212402,
             0.011433511972427368,
             0.06701138615608215
            ],
            "colorscale": [
             [
              0,
              "rgb(49,54,149)"
             ],
             [
              0.1,
              "rgb(69,117,180)"
             ],
             [
              0.2,
              "rgb(116,173,209)"
             ],
             [
              0.3,
              "rgb(171,217,233)"
             ],
             [
              0.4,
              "rgb(224,243,248)"
             ],
             [
              0.5,
              "rgb(255,255,191)"
             ],
             [
              0.6,
              "rgb(254,224,144)"
             ],
             [
              0.7,
              "rgb(253,174,97)"
             ],
             [
              0.8,
              "rgb(244,109,67)"
             ],
             [
              0.9,
              "rgb(215,48,39)"
             ],
             [
              1,
              "rgb(165,0,38)"
             ]
            ],
            "showscale": false,
            "size": 10,
            "symbol": "circle"
           },
           "mode": "markers",
           "type": "scatter",
           "x": [
            75.32,
            76.29,
            72.69,
            75.37,
            75.38,
            76.39,
            72.7,
            75.42,
            75.5,
            76.53,
            72.74,
            75.48,
            75.64,
            76.69,
            72.81,
            75.58,
            75.83,
            76.89,
            72.9,
            75.71,
            76.08,
            77.11,
            73.03,
            75.88,
            76.35,
            77.36,
            73.2,
            76.1,
            76.65,
            77.61,
            73.42,
            76.36,
            77,
            77.86,
            73.69,
            76.66,
            77.36,
            78.1,
            74.02,
            76.98,
            77.73,
            78.32,
            74.39,
            77.3,
            78.07,
            78.51,
            74.82,
            77.62,
            78.41,
            78.69,
            75.29,
            77.89,
            78.7,
            78.84,
            75.78,
            78.16
           ],
           "y": [
            28.68,
            21.36,
            25.11,
            25.6,
            28.69,
            21.37,
            25.09,
            25.59,
            28.71,
            21.36,
            25.08,
            25.59,
            28.75,
            21.34,
            25.08,
            25.59,
            28.8,
            21.33,
            25.09,
            25.59,
            28.85,
            21.33,
            25.11,
            25.61,
            28.9,
            21.36,
            25.13,
            25.62,
            28.96,
            21.43,
            25.18,
            25.64,
            29.03,
            21.51,
            25.23,
            25.68,
            29.09,
            21.64,
            25.3,
            25.72,
            29.13,
            21.82,
            25.37,
            25.77,
            29.15,
            22.06,
            25.45,
            25.84,
            29.17,
            22.29,
            25.51,
            25.89,
            29.16,
            22.56,
            25.57,
            25.93
           ]
          },
          {
           "legendgroup": "Blockers",
           "marker": {
            "color": "black",
            "size": 20,
            "symbol": "x"
           },
           "mode": "markers",
           "name": "Blockers",
           "type": "scatter",
           "x": [
            79.79,
            79.71,
            79.5,
            80.02,
            80.11
           ],
           "y": [
            22.84,
            29.67,
            25.87,
            28.7,
            27.16
           ]
          },
          {
           "legendgroup": "QB",
           "marker": {
            "color": "black",
            "size": 20,
            "symbol": "diamond"
           },
           "mode": "markers",
           "name": "QB",
           "type": "scatter",
           "x": [
            83.42
           ],
           "y": [
            26.46
           ]
          },
          {
           "mode": "text",
           "text": [
            "QB Distruption Probability: 0.33"
           ],
           "textfont": {
            "size": 12
           },
           "type": "scatter",
           "x": [
            72.69
           ],
           "y": [
            29.67
           ]
          }
         ]
        },
        {
         "data": [
          {
           "legendgroup": "Rushers",
           "marker": {
            "cmax": 0.3,
            "cmin": -0.3,
            "color": [
             0.03141620755195618,
             0.00016239285469055176,
             0.01589024066925049,
             0.039762794971466064
            ],
            "colorscale": [
             [
              0,
              "rgb(49,54,149)"
             ],
             [
              0.1,
              "rgb(69,117,180)"
             ],
             [
              0.2,
              "rgb(116,173,209)"
             ],
             [
              0.3,
              "rgb(171,217,233)"
             ],
             [
              0.4,
              "rgb(224,243,248)"
             ],
             [
              0.5,
              "rgb(255,255,191)"
             ],
             [
              0.6,
              "rgb(254,224,144)"
             ],
             [
              0.7,
              "rgb(253,174,97)"
             ],
             [
              0.8,
              "rgb(244,109,67)"
             ],
             [
              0.9,
              "rgb(215,48,39)"
             ],
             [
              1,
              "rgb(165,0,38)"
             ]
            ],
            "showscale": false,
            "size": 20
           },
           "mode": "markers+text",
           "name": "Rushers",
           "text": [
            "Rusher Metric: 0.031",
            "Rusher Metric: 0.0",
            "Rusher Metric: 0.016",
            "Rusher Metric: 0.04"
           ],
           "textposition": "bottom center",
           "type": "scatter",
           "x": [
            79.1,
            79.1,
            76.83,
            78.6
           ],
           "y": [
            29.04,
            23.14,
            25.63,
            25.99
           ]
          },
          {
           "marker": {
            "cmax": 0.3,
            "cmin": -0.3,
            "color": [
             -0.0049426257610321045,
             -0.00005537271499633789,
             -0.0010282397270202637,
             -0.00816008448600769,
             0.0009160339832305908,
             -0.0032886266708374023,
             -0.0012939274311065674,
             0.0028631091117858887,
             0.002233445644378662,
             -0.0030546188354492188,
             0.0006447732448577881,
             0.0019451677799224854,
             0.00007233023643493652,
             -0.0034719109535217285,
             0.00038701295852661133,
             0.006372809410095215,
             0.0021477043628692627,
             -0.0026093125343322754,
             0.0003782510757446289,
             0.006890594959259033,
             0.015645384788513184,
             -0.0010910332202911377,
             0.0028673112392425537,
             0.01829087734222412,
             0.02656617760658264,
             -0.0008338093757629395,
             0.002313852310180664,
             0.03257903456687927,
             0.04324796795845032,
             0.0009785294532775879,
             0.00393185019493103,
             0.05108579993247986,
             0.06482720375061035,
             -0.0013979971408843994,
             0.002562195062637329,
             0.07055127620697021,
             0.08479040861129761,
             0.00006479024887084961,
             0.004756271839141846,
             0.09080451726913452,
             0.08674991130828857,
             0.0009375512599945068,
             0.0060256123542785645,
             0.08956539630889893,
             0.08165603876113892,
             0.0015384852886199951,
             0.009653031826019287,
             0.08705738186836243,
             0.07058143615722656,
             -0.0002962350845336914,
             0.011854290962219238,
             0.06897848844528198,
             0.06187787652015686,
             -0.00019249320030212402,
             0.011433511972427368,
             0.06701138615608215,
             0.05037650465965271,
             0.0004955828189849854,
             0.014897584915161133,
             0.05420506000518799
            ],
            "colorscale": [
             [
              0,
              "rgb(49,54,149)"
             ],
             [
              0.1,
              "rgb(69,117,180)"
             ],
             [
              0.2,
              "rgb(116,173,209)"
             ],
             [
              0.3,
              "rgb(171,217,233)"
             ],
             [
              0.4,
              "rgb(224,243,248)"
             ],
             [
              0.5,
              "rgb(255,255,191)"
             ],
             [
              0.6,
              "rgb(254,224,144)"
             ],
             [
              0.7,
              "rgb(253,174,97)"
             ],
             [
              0.8,
              "rgb(244,109,67)"
             ],
             [
              0.9,
              "rgb(215,48,39)"
             ],
             [
              1,
              "rgb(165,0,38)"
             ]
            ],
            "showscale": false,
            "size": 10,
            "symbol": "circle"
           },
           "mode": "markers",
           "type": "scatter",
           "x": [
            75.32,
            76.29,
            72.69,
            75.37,
            75.38,
            76.39,
            72.7,
            75.42,
            75.5,
            76.53,
            72.74,
            75.48,
            75.64,
            76.69,
            72.81,
            75.58,
            75.83,
            76.89,
            72.9,
            75.71,
            76.08,
            77.11,
            73.03,
            75.88,
            76.35,
            77.36,
            73.2,
            76.1,
            76.65,
            77.61,
            73.42,
            76.36,
            77,
            77.86,
            73.69,
            76.66,
            77.36,
            78.1,
            74.02,
            76.98,
            77.73,
            78.32,
            74.39,
            77.3,
            78.07,
            78.51,
            74.82,
            77.62,
            78.41,
            78.69,
            75.29,
            77.89,
            78.7,
            78.84,
            75.78,
            78.16,
            78.94,
            78.98,
            76.3,
            78.39
           ],
           "y": [
            28.68,
            21.36,
            25.11,
            25.6,
            28.69,
            21.37,
            25.09,
            25.59,
            28.71,
            21.36,
            25.08,
            25.59,
            28.75,
            21.34,
            25.08,
            25.59,
            28.8,
            21.33,
            25.09,
            25.59,
            28.85,
            21.33,
            25.11,
            25.61,
            28.9,
            21.36,
            25.13,
            25.62,
            28.96,
            21.43,
            25.18,
            25.64,
            29.03,
            21.51,
            25.23,
            25.68,
            29.09,
            21.64,
            25.3,
            25.72,
            29.13,
            21.82,
            25.37,
            25.77,
            29.15,
            22.06,
            25.45,
            25.84,
            29.17,
            22.29,
            25.51,
            25.89,
            29.16,
            22.56,
            25.57,
            25.93,
            29.12,
            22.84,
            25.62,
            25.97
           ]
          },
          {
           "legendgroup": "Blockers",
           "marker": {
            "color": "black",
            "size": 20,
            "symbol": "x"
           },
           "mode": "markers",
           "name": "Blockers",
           "type": "scatter",
           "x": [
            79.89,
            79.82,
            79.64,
            80.15,
            80.3
           ],
           "y": [
            22.97,
            29.64,
            25.92,
            28.68,
            27.23
           ]
          },
          {
           "legendgroup": "QB",
           "marker": {
            "color": "black",
            "size": 20,
            "symbol": "diamond"
           },
           "mode": "markers",
           "name": "QB",
           "type": "scatter",
           "x": [
            83.61
           ],
           "y": [
            26.45
           ]
          },
          {
           "mode": "text",
           "text": [
            "QB Distruption Probability: 0.333"
           ],
           "textfont": {
            "size": 12
           },
           "type": "scatter",
           "x": [
            72.69
           ],
           "y": [
            29.67
           ]
          }
         ]
        },
        {
         "data": [
          {
           "legendgroup": "Rushers",
           "marker": {
            "cmax": 0.3,
            "cmin": -0.3,
            "color": [
             0.006314188241958618,
             0.0015078485012054443,
             0.019707709550857544,
             0.014124870300292969
            ],
            "colorscale": [
             [
              0,
              "rgb(49,54,149)"
             ],
             [
              0.1,
              "rgb(69,117,180)"
             ],
             [
              0.2,
              "rgb(116,173,209)"
             ],
             [
              0.3,
              "rgb(171,217,233)"
             ],
             [
              0.4,
              "rgb(224,243,248)"
             ],
             [
              0.5,
              "rgb(255,255,191)"
             ],
             [
              0.6,
              "rgb(254,224,144)"
             ],
             [
              0.7,
              "rgb(253,174,97)"
             ],
             [
              0.8,
              "rgb(244,109,67)"
             ],
             [
              0.9,
              "rgb(215,48,39)"
             ],
             [
              1,
              "rgb(165,0,38)"
             ]
            ],
            "showscale": false,
            "size": 20
           },
           "mode": "markers+text",
           "name": "Rushers",
           "text": [
            "Rusher Metric: 0.006",
            "Rusher Metric: 0.002",
            "Rusher Metric: 0.02",
            "Rusher Metric: 0.014"
           ],
           "textposition": "bottom center",
           "type": "scatter",
           "x": [
            79.27,
            79.22,
            77.36,
            78.8
           ],
           "y": [
            28.97,
            23.44,
            25.61,
            26
           ]
          },
          {
           "marker": {
            "cmax": 0.3,
            "cmin": -0.3,
            "color": [
             -0.0049426257610321045,
             -0.00005537271499633789,
             -0.0010282397270202637,
             -0.00816008448600769,
             0.0009160339832305908,
             -0.0032886266708374023,
             -0.0012939274311065674,
             0.0028631091117858887,
             0.002233445644378662,
             -0.0030546188354492188,
             0.0006447732448577881,
             0.0019451677799224854,
             0.00007233023643493652,
             -0.0034719109535217285,
             0.00038701295852661133,
             0.006372809410095215,
             0.0021477043628692627,
             -0.0026093125343322754,
             0.0003782510757446289,
             0.006890594959259033,
             0.015645384788513184,
             -0.0010910332202911377,
             0.0028673112392425537,
             0.01829087734222412,
             0.02656617760658264,
             -0.0008338093757629395,
             0.002313852310180664,
             0.03257903456687927,
             0.04324796795845032,
             0.0009785294532775879,
             0.00393185019493103,
             0.05108579993247986,
             0.06482720375061035,
             -0.0013979971408843994,
             0.002562195062637329,
             0.07055127620697021,
             0.08479040861129761,
             0.00006479024887084961,
             0.004756271839141846,
             0.09080451726913452,
             0.08674991130828857,
             0.0009375512599945068,
             0.0060256123542785645,
             0.08956539630889893,
             0.08165603876113892,
             0.0015384852886199951,
             0.009653031826019287,
             0.08705738186836243,
             0.07058143615722656,
             -0.0002962350845336914,
             0.011854290962219238,
             0.06897848844528198,
             0.06187787652015686,
             -0.00019249320030212402,
             0.011433511972427368,
             0.06701138615608215,
             0.05037650465965271,
             0.0004955828189849854,
             0.014897584915161133,
             0.05420506000518799,
             0.03141620755195618,
             0.00016239285469055176,
             0.01589024066925049,
             0.039762794971466064
            ],
            "colorscale": [
             [
              0,
              "rgb(49,54,149)"
             ],
             [
              0.1,
              "rgb(69,117,180)"
             ],
             [
              0.2,
              "rgb(116,173,209)"
             ],
             [
              0.3,
              "rgb(171,217,233)"
             ],
             [
              0.4,
              "rgb(224,243,248)"
             ],
             [
              0.5,
              "rgb(255,255,191)"
             ],
             [
              0.6,
              "rgb(254,224,144)"
             ],
             [
              0.7,
              "rgb(253,174,97)"
             ],
             [
              0.8,
              "rgb(244,109,67)"
             ],
             [
              0.9,
              "rgb(215,48,39)"
             ],
             [
              1,
              "rgb(165,0,38)"
             ]
            ],
            "showscale": false,
            "size": 10,
            "symbol": "circle"
           },
           "mode": "markers",
           "type": "scatter",
           "x": [
            75.32,
            76.29,
            72.69,
            75.37,
            75.38,
            76.39,
            72.7,
            75.42,
            75.5,
            76.53,
            72.74,
            75.48,
            75.64,
            76.69,
            72.81,
            75.58,
            75.83,
            76.89,
            72.9,
            75.71,
            76.08,
            77.11,
            73.03,
            75.88,
            76.35,
            77.36,
            73.2,
            76.1,
            76.65,
            77.61,
            73.42,
            76.36,
            77,
            77.86,
            73.69,
            76.66,
            77.36,
            78.1,
            74.02,
            76.98,
            77.73,
            78.32,
            74.39,
            77.3,
            78.07,
            78.51,
            74.82,
            77.62,
            78.41,
            78.69,
            75.29,
            77.89,
            78.7,
            78.84,
            75.78,
            78.16,
            78.94,
            78.98,
            76.3,
            78.39,
            79.1,
            79.1,
            76.83,
            78.6
           ],
           "y": [
            28.68,
            21.36,
            25.11,
            25.6,
            28.69,
            21.37,
            25.09,
            25.59,
            28.71,
            21.36,
            25.08,
            25.59,
            28.75,
            21.34,
            25.08,
            25.59,
            28.8,
            21.33,
            25.09,
            25.59,
            28.85,
            21.33,
            25.11,
            25.61,
            28.9,
            21.36,
            25.13,
            25.62,
            28.96,
            21.43,
            25.18,
            25.64,
            29.03,
            21.51,
            25.23,
            25.68,
            29.09,
            21.64,
            25.3,
            25.72,
            29.13,
            21.82,
            25.37,
            25.77,
            29.15,
            22.06,
            25.45,
            25.84,
            29.17,
            22.29,
            25.51,
            25.89,
            29.16,
            22.56,
            25.57,
            25.93,
            29.12,
            22.84,
            25.62,
            25.97,
            29.04,
            23.14,
            25.63,
            25.99
           ]
          },
          {
           "legendgroup": "Blockers",
           "marker": {
            "color": "black",
            "size": 20,
            "symbol": "x"
           },
           "mode": "markers",
           "name": "Blockers",
           "type": "scatter",
           "x": [
            79.99,
            79.93,
            79.8,
            80.27,
            80.47
           ],
           "y": [
            23.12,
            29.62,
            25.95,
            28.65,
            27.3
           ]
          },
          {
           "legendgroup": "QB",
           "marker": {
            "color": "black",
            "size": 20,
            "symbol": "diamond"
           },
           "mode": "markers",
           "name": "QB",
           "type": "scatter",
           "x": [
            83.76
           ],
           "y": [
            26.44
           ]
          },
          {
           "mode": "text",
           "text": [
            "QB Distruption Probability: 0.351"
           ],
           "textfont": {
            "size": 12
           },
           "type": "scatter",
           "x": [
            72.69
           ],
           "y": [
            29.67
           ]
          }
         ]
        },
        {
         "data": [
          {
           "legendgroup": "Rushers",
           "marker": {
            "cmax": 0.3,
            "cmin": -0.3,
            "color": [
             0.003313779830932617,
             0.002749621868133545,
             0.02084413170814514,
             0.016386091709136963
            ],
            "colorscale": [
             [
              0,
              "rgb(49,54,149)"
             ],
             [
              0.1,
              "rgb(69,117,180)"
             ],
             [
              0.2,
              "rgb(116,173,209)"
             ],
             [
              0.3,
              "rgb(171,217,233)"
             ],
             [
              0.4,
              "rgb(224,243,248)"
             ],
             [
              0.5,
              "rgb(255,255,191)"
             ],
             [
              0.6,
              "rgb(254,224,144)"
             ],
             [
              0.7,
              "rgb(253,174,97)"
             ],
             [
              0.8,
              "rgb(244,109,67)"
             ],
             [
              0.9,
              "rgb(215,48,39)"
             ],
             [
              1,
              "rgb(165,0,38)"
             ]
            ],
            "showscale": false,
            "size": 20
           },
           "mode": "markers+text",
           "name": "Rushers",
           "text": [
            "Rusher Metric: 0.003",
            "Rusher Metric: 0.003",
            "Rusher Metric: 0.021",
            "Rusher Metric: 0.016"
           ],
           "textposition": "bottom center",
           "type": "scatter",
           "x": [
            79.37,
            79.33,
            77.86,
            78.97
           ],
           "y": [
            28.87,
            23.75,
            25.58,
            26.01
           ]
          },
          {
           "marker": {
            "cmax": 0.3,
            "cmin": -0.3,
            "color": [
             -0.0049426257610321045,
             -0.00005537271499633789,
             -0.0010282397270202637,
             -0.00816008448600769,
             0.0009160339832305908,
             -0.0032886266708374023,
             -0.0012939274311065674,
             0.0028631091117858887,
             0.002233445644378662,
             -0.0030546188354492188,
             0.0006447732448577881,
             0.0019451677799224854,
             0.00007233023643493652,
             -0.0034719109535217285,
             0.00038701295852661133,
             0.006372809410095215,
             0.0021477043628692627,
             -0.0026093125343322754,
             0.0003782510757446289,
             0.006890594959259033,
             0.015645384788513184,
             -0.0010910332202911377,
             0.0028673112392425537,
             0.01829087734222412,
             0.02656617760658264,
             -0.0008338093757629395,
             0.002313852310180664,
             0.03257903456687927,
             0.04324796795845032,
             0.0009785294532775879,
             0.00393185019493103,
             0.05108579993247986,
             0.06482720375061035,
             -0.0013979971408843994,
             0.002562195062637329,
             0.07055127620697021,
             0.08479040861129761,
             0.00006479024887084961,
             0.004756271839141846,
             0.09080451726913452,
             0.08674991130828857,
             0.0009375512599945068,
             0.0060256123542785645,
             0.08956539630889893,
             0.08165603876113892,
             0.0015384852886199951,
             0.009653031826019287,
             0.08705738186836243,
             0.07058143615722656,
             -0.0002962350845336914,
             0.011854290962219238,
             0.06897848844528198,
             0.06187787652015686,
             -0.00019249320030212402,
             0.011433511972427368,
             0.06701138615608215,
             0.05037650465965271,
             0.0004955828189849854,
             0.014897584915161133,
             0.05420506000518799,
             0.03141620755195618,
             0.00016239285469055176,
             0.01589024066925049,
             0.039762794971466064,
             0.006314188241958618,
             0.0015078485012054443,
             0.019707709550857544,
             0.014124870300292969
            ],
            "colorscale": [
             [
              0,
              "rgb(49,54,149)"
             ],
             [
              0.1,
              "rgb(69,117,180)"
             ],
             [
              0.2,
              "rgb(116,173,209)"
             ],
             [
              0.3,
              "rgb(171,217,233)"
             ],
             [
              0.4,
              "rgb(224,243,248)"
             ],
             [
              0.5,
              "rgb(255,255,191)"
             ],
             [
              0.6,
              "rgb(254,224,144)"
             ],
             [
              0.7,
              "rgb(253,174,97)"
             ],
             [
              0.8,
              "rgb(244,109,67)"
             ],
             [
              0.9,
              "rgb(215,48,39)"
             ],
             [
              1,
              "rgb(165,0,38)"
             ]
            ],
            "showscale": false,
            "size": 10,
            "symbol": "circle"
           },
           "mode": "markers",
           "type": "scatter",
           "x": [
            75.32,
            76.29,
            72.69,
            75.37,
            75.38,
            76.39,
            72.7,
            75.42,
            75.5,
            76.53,
            72.74,
            75.48,
            75.64,
            76.69,
            72.81,
            75.58,
            75.83,
            76.89,
            72.9,
            75.71,
            76.08,
            77.11,
            73.03,
            75.88,
            76.35,
            77.36,
            73.2,
            76.1,
            76.65,
            77.61,
            73.42,
            76.36,
            77,
            77.86,
            73.69,
            76.66,
            77.36,
            78.1,
            74.02,
            76.98,
            77.73,
            78.32,
            74.39,
            77.3,
            78.07,
            78.51,
            74.82,
            77.62,
            78.41,
            78.69,
            75.29,
            77.89,
            78.7,
            78.84,
            75.78,
            78.16,
            78.94,
            78.98,
            76.3,
            78.39,
            79.1,
            79.1,
            76.83,
            78.6,
            79.27,
            79.22,
            77.36,
            78.8
           ],
           "y": [
            28.68,
            21.36,
            25.11,
            25.6,
            28.69,
            21.37,
            25.09,
            25.59,
            28.71,
            21.36,
            25.08,
            25.59,
            28.75,
            21.34,
            25.08,
            25.59,
            28.8,
            21.33,
            25.09,
            25.59,
            28.85,
            21.33,
            25.11,
            25.61,
            28.9,
            21.36,
            25.13,
            25.62,
            28.96,
            21.43,
            25.18,
            25.64,
            29.03,
            21.51,
            25.23,
            25.68,
            29.09,
            21.64,
            25.3,
            25.72,
            29.13,
            21.82,
            25.37,
            25.77,
            29.15,
            22.06,
            25.45,
            25.84,
            29.17,
            22.29,
            25.51,
            25.89,
            29.16,
            22.56,
            25.57,
            25.93,
            29.12,
            22.84,
            25.62,
            25.97,
            29.04,
            23.14,
            25.63,
            25.99,
            28.97,
            23.44,
            25.61,
            26
           ]
          },
          {
           "legendgroup": "Blockers",
           "marker": {
            "color": "black",
            "size": 20,
            "symbol": "x"
           },
           "mode": "markers",
           "name": "Blockers",
           "type": "scatter",
           "x": [
            80.07,
            80.03,
            79.96,
            80.37,
            80.6
           ],
           "y": [
            23.3,
            29.59,
            25.96,
            28.59,
            27.35
           ]
          },
          {
           "legendgroup": "QB",
           "marker": {
            "color": "black",
            "size": 20,
            "symbol": "diamond"
           },
           "mode": "markers",
           "name": "QB",
           "type": "scatter",
           "x": [
            83.87
           ],
           "y": [
            26.42
           ]
          },
          {
           "mode": "text",
           "text": [
            "QB Distruption Probability: 0.347"
           ],
           "textfont": {
            "size": 12
           },
           "type": "scatter",
           "x": [
            72.69
           ],
           "y": [
            29.67
           ]
          }
         ]
        },
        {
         "data": [
          {
           "legendgroup": "Rushers",
           "marker": {
            "cmax": 0.3,
            "cmin": -0.3,
            "color": [
             0.01593118906021118,
             0.0019025802612304688,
             0.015715718269348145,
             0.025745302438735962
            ],
            "colorscale": [
             [
              0,
              "rgb(49,54,149)"
             ],
             [
              0.1,
              "rgb(69,117,180)"
             ],
             [
              0.2,
              "rgb(116,173,209)"
             ],
             [
              0.3,
              "rgb(171,217,233)"
             ],
             [
              0.4,
              "rgb(224,243,248)"
             ],
             [
              0.5,
              "rgb(255,255,191)"
             ],
             [
              0.6,
              "rgb(254,224,144)"
             ],
             [
              0.7,
              "rgb(253,174,97)"
             ],
             [
              0.8,
              "rgb(244,109,67)"
             ],
             [
              0.9,
              "rgb(215,48,39)"
             ],
             [
              1,
              "rgb(165,0,38)"
             ]
            ],
            "showscale": false,
            "size": 20
           },
           "mode": "markers+text",
           "name": "Rushers",
           "text": [
            "Rusher Metric: 0.016",
            "Rusher Metric: 0.002",
            "Rusher Metric: 0.016",
            "Rusher Metric: 0.026"
           ],
           "textposition": "bottom center",
           "type": "scatter",
           "x": [
            79.45,
            79.45,
            78.31,
            79.12
           ],
           "y": [
            28.76,
            24.04,
            25.55,
            26.01
           ]
          },
          {
           "marker": {
            "cmax": 0.3,
            "cmin": -0.3,
            "color": [
             -0.0049426257610321045,
             -0.00005537271499633789,
             -0.0010282397270202637,
             -0.00816008448600769,
             0.0009160339832305908,
             -0.0032886266708374023,
             -0.0012939274311065674,
             0.0028631091117858887,
             0.002233445644378662,
             -0.0030546188354492188,
             0.0006447732448577881,
             0.0019451677799224854,
             0.00007233023643493652,
             -0.0034719109535217285,
             0.00038701295852661133,
             0.006372809410095215,
             0.0021477043628692627,
             -0.0026093125343322754,
             0.0003782510757446289,
             0.006890594959259033,
             0.015645384788513184,
             -0.0010910332202911377,
             0.0028673112392425537,
             0.01829087734222412,
             0.02656617760658264,
             -0.0008338093757629395,
             0.002313852310180664,
             0.03257903456687927,
             0.04324796795845032,
             0.0009785294532775879,
             0.00393185019493103,
             0.05108579993247986,
             0.06482720375061035,
             -0.0013979971408843994,
             0.002562195062637329,
             0.07055127620697021,
             0.08479040861129761,
             0.00006479024887084961,
             0.004756271839141846,
             0.09080451726913452,
             0.08674991130828857,
             0.0009375512599945068,
             0.0060256123542785645,
             0.08956539630889893,
             0.08165603876113892,
             0.0015384852886199951,
             0.009653031826019287,
             0.08705738186836243,
             0.07058143615722656,
             -0.0002962350845336914,
             0.011854290962219238,
             0.06897848844528198,
             0.06187787652015686,
             -0.00019249320030212402,
             0.011433511972427368,
             0.06701138615608215,
             0.05037650465965271,
             0.0004955828189849854,
             0.014897584915161133,
             0.05420506000518799,
             0.03141620755195618,
             0.00016239285469055176,
             0.01589024066925049,
             0.039762794971466064,
             0.006314188241958618,
             0.0015078485012054443,
             0.019707709550857544,
             0.014124870300292969,
             0.003313779830932617,
             0.002749621868133545,
             0.02084413170814514,
             0.016386091709136963
            ],
            "colorscale": [
             [
              0,
              "rgb(49,54,149)"
             ],
             [
              0.1,
              "rgb(69,117,180)"
             ],
             [
              0.2,
              "rgb(116,173,209)"
             ],
             [
              0.3,
              "rgb(171,217,233)"
             ],
             [
              0.4,
              "rgb(224,243,248)"
             ],
             [
              0.5,
              "rgb(255,255,191)"
             ],
             [
              0.6,
              "rgb(254,224,144)"
             ],
             [
              0.7,
              "rgb(253,174,97)"
             ],
             [
              0.8,
              "rgb(244,109,67)"
             ],
             [
              0.9,
              "rgb(215,48,39)"
             ],
             [
              1,
              "rgb(165,0,38)"
             ]
            ],
            "showscale": false,
            "size": 10,
            "symbol": "circle"
           },
           "mode": "markers",
           "type": "scatter",
           "x": [
            75.32,
            76.29,
            72.69,
            75.37,
            75.38,
            76.39,
            72.7,
            75.42,
            75.5,
            76.53,
            72.74,
            75.48,
            75.64,
            76.69,
            72.81,
            75.58,
            75.83,
            76.89,
            72.9,
            75.71,
            76.08,
            77.11,
            73.03,
            75.88,
            76.35,
            77.36,
            73.2,
            76.1,
            76.65,
            77.61,
            73.42,
            76.36,
            77,
            77.86,
            73.69,
            76.66,
            77.36,
            78.1,
            74.02,
            76.98,
            77.73,
            78.32,
            74.39,
            77.3,
            78.07,
            78.51,
            74.82,
            77.62,
            78.41,
            78.69,
            75.29,
            77.89,
            78.7,
            78.84,
            75.78,
            78.16,
            78.94,
            78.98,
            76.3,
            78.39,
            79.1,
            79.1,
            76.83,
            78.6,
            79.27,
            79.22,
            77.36,
            78.8,
            79.37,
            79.33,
            77.86,
            78.97
           ],
           "y": [
            28.68,
            21.36,
            25.11,
            25.6,
            28.69,
            21.37,
            25.09,
            25.59,
            28.71,
            21.36,
            25.08,
            25.59,
            28.75,
            21.34,
            25.08,
            25.59,
            28.8,
            21.33,
            25.09,
            25.59,
            28.85,
            21.33,
            25.11,
            25.61,
            28.9,
            21.36,
            25.13,
            25.62,
            28.96,
            21.43,
            25.18,
            25.64,
            29.03,
            21.51,
            25.23,
            25.68,
            29.09,
            21.64,
            25.3,
            25.72,
            29.13,
            21.82,
            25.37,
            25.77,
            29.15,
            22.06,
            25.45,
            25.84,
            29.17,
            22.29,
            25.51,
            25.89,
            29.16,
            22.56,
            25.57,
            25.93,
            29.12,
            22.84,
            25.62,
            25.97,
            29.04,
            23.14,
            25.63,
            25.99,
            28.97,
            23.44,
            25.61,
            26,
            28.87,
            23.75,
            25.58,
            26.01
           ]
          },
          {
           "legendgroup": "Blockers",
           "marker": {
            "color": "black",
            "size": 20,
            "symbol": "x"
           },
           "mode": "markers",
           "name": "Blockers",
           "type": "scatter",
           "x": [
            80.15,
            80.13,
            80.12,
            80.44,
            80.73
           ],
           "y": [
            23.48,
            29.57,
            25.96,
            28.52,
            27.4
           ]
          },
          {
           "legendgroup": "QB",
           "marker": {
            "color": "black",
            "size": 20,
            "symbol": "diamond"
           },
           "mode": "markers",
           "name": "QB",
           "type": "scatter",
           "x": [
            83.96
           ],
           "y": [
            26.41
           ]
          },
          {
           "mode": "text",
           "text": [
            "QB Distruption Probability: 0.328"
           ],
           "textfont": {
            "size": 12
           },
           "type": "scatter",
           "x": [
            72.69
           ],
           "y": [
            29.67
           ]
          }
         ]
        },
        {
         "data": [
          {
           "legendgroup": "Rushers",
           "marker": {
            "cmax": 0.3,
            "cmin": -0.3,
            "color": [
             0.021451830863952637,
             0.0025443732738494873,
             0.014793306589126587,
             0.03739503026008606
            ],
            "colorscale": [
             [
              0,
              "rgb(49,54,149)"
             ],
             [
              0.1,
              "rgb(69,117,180)"
             ],
             [
              0.2,
              "rgb(116,173,209)"
             ],
             [
              0.3,
              "rgb(171,217,233)"
             ],
             [
              0.4,
              "rgb(224,243,248)"
             ],
             [
              0.5,
              "rgb(255,255,191)"
             ],
             [
              0.6,
              "rgb(254,224,144)"
             ],
             [
              0.7,
              "rgb(253,174,97)"
             ],
             [
              0.8,
              "rgb(244,109,67)"
             ],
             [
              0.9,
              "rgb(215,48,39)"
             ],
             [
              1,
              "rgb(165,0,38)"
             ]
            ],
            "showscale": false,
            "size": 20
           },
           "mode": "markers+text",
           "name": "Rushers",
           "text": [
            "Rusher Metric: 0.021",
            "Rusher Metric: 0.003",
            "Rusher Metric: 0.015",
            "Rusher Metric: 0.037"
           ],
           "textposition": "bottom center",
           "type": "scatter",
           "x": [
            79.48,
            79.57,
            78.73,
            79.29
           ],
           "y": [
            28.65,
            24.32,
            25.5,
            25.99
           ]
          },
          {
           "marker": {
            "cmax": 0.3,
            "cmin": -0.3,
            "color": [
             -0.0049426257610321045,
             -0.00005537271499633789,
             -0.0010282397270202637,
             -0.00816008448600769,
             0.0009160339832305908,
             -0.0032886266708374023,
             -0.0012939274311065674,
             0.0028631091117858887,
             0.002233445644378662,
             -0.0030546188354492188,
             0.0006447732448577881,
             0.0019451677799224854,
             0.00007233023643493652,
             -0.0034719109535217285,
             0.00038701295852661133,
             0.006372809410095215,
             0.0021477043628692627,
             -0.0026093125343322754,
             0.0003782510757446289,
             0.006890594959259033,
             0.015645384788513184,
             -0.0010910332202911377,
             0.0028673112392425537,
             0.01829087734222412,
             0.02656617760658264,
             -0.0008338093757629395,
             0.002313852310180664,
             0.03257903456687927,
             0.04324796795845032,
             0.0009785294532775879,
             0.00393185019493103,
             0.05108579993247986,
             0.06482720375061035,
             -0.0013979971408843994,
             0.002562195062637329,
             0.07055127620697021,
             0.08479040861129761,
             0.00006479024887084961,
             0.004756271839141846,
             0.09080451726913452,
             0.08674991130828857,
             0.0009375512599945068,
             0.0060256123542785645,
             0.08956539630889893,
             0.08165603876113892,
             0.0015384852886199951,
             0.009653031826019287,
             0.08705738186836243,
             0.07058143615722656,
             -0.0002962350845336914,
             0.011854290962219238,
             0.06897848844528198,
             0.06187787652015686,
             -0.00019249320030212402,
             0.011433511972427368,
             0.06701138615608215,
             0.05037650465965271,
             0.0004955828189849854,
             0.014897584915161133,
             0.05420506000518799,
             0.03141620755195618,
             0.00016239285469055176,
             0.01589024066925049,
             0.039762794971466064,
             0.006314188241958618,
             0.0015078485012054443,
             0.019707709550857544,
             0.014124870300292969,
             0.003313779830932617,
             0.002749621868133545,
             0.02084413170814514,
             0.016386091709136963,
             0.01593118906021118,
             0.0019025802612304688,
             0.015715718269348145,
             0.025745302438735962
            ],
            "colorscale": [
             [
              0,
              "rgb(49,54,149)"
             ],
             [
              0.1,
              "rgb(69,117,180)"
             ],
             [
              0.2,
              "rgb(116,173,209)"
             ],
             [
              0.3,
              "rgb(171,217,233)"
             ],
             [
              0.4,
              "rgb(224,243,248)"
             ],
             [
              0.5,
              "rgb(255,255,191)"
             ],
             [
              0.6,
              "rgb(254,224,144)"
             ],
             [
              0.7,
              "rgb(253,174,97)"
             ],
             [
              0.8,
              "rgb(244,109,67)"
             ],
             [
              0.9,
              "rgb(215,48,39)"
             ],
             [
              1,
              "rgb(165,0,38)"
             ]
            ],
            "showscale": false,
            "size": 10,
            "symbol": "circle"
           },
           "mode": "markers",
           "type": "scatter",
           "x": [
            75.32,
            76.29,
            72.69,
            75.37,
            75.38,
            76.39,
            72.7,
            75.42,
            75.5,
            76.53,
            72.74,
            75.48,
            75.64,
            76.69,
            72.81,
            75.58,
            75.83,
            76.89,
            72.9,
            75.71,
            76.08,
            77.11,
            73.03,
            75.88,
            76.35,
            77.36,
            73.2,
            76.1,
            76.65,
            77.61,
            73.42,
            76.36,
            77,
            77.86,
            73.69,
            76.66,
            77.36,
            78.1,
            74.02,
            76.98,
            77.73,
            78.32,
            74.39,
            77.3,
            78.07,
            78.51,
            74.82,
            77.62,
            78.41,
            78.69,
            75.29,
            77.89,
            78.7,
            78.84,
            75.78,
            78.16,
            78.94,
            78.98,
            76.3,
            78.39,
            79.1,
            79.1,
            76.83,
            78.6,
            79.27,
            79.22,
            77.36,
            78.8,
            79.37,
            79.33,
            77.86,
            78.97,
            79.45,
            79.45,
            78.31,
            79.12
           ],
           "y": [
            28.68,
            21.36,
            25.11,
            25.6,
            28.69,
            21.37,
            25.09,
            25.59,
            28.71,
            21.36,
            25.08,
            25.59,
            28.75,
            21.34,
            25.08,
            25.59,
            28.8,
            21.33,
            25.09,
            25.59,
            28.85,
            21.33,
            25.11,
            25.61,
            28.9,
            21.36,
            25.13,
            25.62,
            28.96,
            21.43,
            25.18,
            25.64,
            29.03,
            21.51,
            25.23,
            25.68,
            29.09,
            21.64,
            25.3,
            25.72,
            29.13,
            21.82,
            25.37,
            25.77,
            29.15,
            22.06,
            25.45,
            25.84,
            29.17,
            22.29,
            25.51,
            25.89,
            29.16,
            22.56,
            25.57,
            25.93,
            29.12,
            22.84,
            25.62,
            25.97,
            29.04,
            23.14,
            25.63,
            25.99,
            28.97,
            23.44,
            25.61,
            26,
            28.87,
            23.75,
            25.58,
            26.01,
            28.76,
            24.04,
            25.55,
            26.01
           ]
          },
          {
           "legendgroup": "Blockers",
           "marker": {
            "color": "black",
            "size": 20,
            "symbol": "x"
           },
           "mode": "markers",
           "name": "Blockers",
           "type": "scatter",
           "x": [
            80.24,
            80.24,
            80.29,
            80.5,
            80.83
           ],
           "y": [
            23.68,
            29.55,
            25.95,
            28.42,
            27.4
           ]
          },
          {
           "legendgroup": "QB",
           "marker": {
            "color": "black",
            "size": 20,
            "symbol": "diamond"
           },
           "mode": "markers",
           "name": "QB",
           "type": "scatter",
           "x": [
            84
           ],
           "y": [
            26.42
           ]
          },
          {
           "mode": "text",
           "text": [
            "QB Distruption Probability: 0.313"
           ],
           "textfont": {
            "size": 12
           },
           "type": "scatter",
           "x": [
            72.69
           ],
           "y": [
            29.67
           ]
          }
         ]
        },
        {
         "data": [
          {
           "legendgroup": "Rushers",
           "marker": {
            "cmax": 0.3,
            "cmin": -0.3,
            "color": [
             0.02619481086730957,
             0.0022538602352142334,
             0.008094459772109985,
             0.03868208825588226
            ],
            "colorscale": [
             [
              0,
              "rgb(49,54,149)"
             ],
             [
              0.1,
              "rgb(69,117,180)"
             ],
             [
              0.2,
              "rgb(116,173,209)"
             ],
             [
              0.3,
              "rgb(171,217,233)"
             ],
             [
              0.4,
              "rgb(224,243,248)"
             ],
             [
              0.5,
              "rgb(255,255,191)"
             ],
             [
              0.6,
              "rgb(254,224,144)"
             ],
             [
              0.7,
              "rgb(253,174,97)"
             ],
             [
              0.8,
              "rgb(244,109,67)"
             ],
             [
              0.9,
              "rgb(215,48,39)"
             ],
             [
              1,
              "rgb(165,0,38)"
             ]
            ],
            "showscale": false,
            "size": 20
           },
           "mode": "markers+text",
           "name": "Rushers",
           "text": [
            "Rusher Metric: 0.026",
            "Rusher Metric: 0.002",
            "Rusher Metric: 0.008",
            "Rusher Metric: 0.039"
           ],
           "textposition": "bottom center",
           "type": "scatter",
           "x": [
            79.48,
            79.71,
            79.08,
            79.44
           ],
           "y": [
            28.54,
            24.54,
            25.46,
            26.01
           ]
          },
          {
           "marker": {
            "cmax": 0.3,
            "cmin": -0.3,
            "color": [
             -0.0049426257610321045,
             -0.00005537271499633789,
             -0.0010282397270202637,
             -0.00816008448600769,
             0.0009160339832305908,
             -0.0032886266708374023,
             -0.0012939274311065674,
             0.0028631091117858887,
             0.002233445644378662,
             -0.0030546188354492188,
             0.0006447732448577881,
             0.0019451677799224854,
             0.00007233023643493652,
             -0.0034719109535217285,
             0.00038701295852661133,
             0.006372809410095215,
             0.0021477043628692627,
             -0.0026093125343322754,
             0.0003782510757446289,
             0.006890594959259033,
             0.015645384788513184,
             -0.0010910332202911377,
             0.0028673112392425537,
             0.01829087734222412,
             0.02656617760658264,
             -0.0008338093757629395,
             0.002313852310180664,
             0.03257903456687927,
             0.04324796795845032,
             0.0009785294532775879,
             0.00393185019493103,
             0.05108579993247986,
             0.06482720375061035,
             -0.0013979971408843994,
             0.002562195062637329,
             0.07055127620697021,
             0.08479040861129761,
             0.00006479024887084961,
             0.004756271839141846,
             0.09080451726913452,
             0.08674991130828857,
             0.0009375512599945068,
             0.0060256123542785645,
             0.08956539630889893,
             0.08165603876113892,
             0.0015384852886199951,
             0.009653031826019287,
             0.08705738186836243,
             0.07058143615722656,
             -0.0002962350845336914,
             0.011854290962219238,
             0.06897848844528198,
             0.06187787652015686,
             -0.00019249320030212402,
             0.011433511972427368,
             0.06701138615608215,
             0.05037650465965271,
             0.0004955828189849854,
             0.014897584915161133,
             0.05420506000518799,
             0.03141620755195618,
             0.00016239285469055176,
             0.01589024066925049,
             0.039762794971466064,
             0.006314188241958618,
             0.0015078485012054443,
             0.019707709550857544,
             0.014124870300292969,
             0.003313779830932617,
             0.002749621868133545,
             0.02084413170814514,
             0.016386091709136963,
             0.01593118906021118,
             0.0019025802612304688,
             0.015715718269348145,
             0.025745302438735962,
             0.021451830863952637,
             0.0025443732738494873,
             0.014793306589126587,
             0.03739503026008606
            ],
            "colorscale": [
             [
              0,
              "rgb(49,54,149)"
             ],
             [
              0.1,
              "rgb(69,117,180)"
             ],
             [
              0.2,
              "rgb(116,173,209)"
             ],
             [
              0.3,
              "rgb(171,217,233)"
             ],
             [
              0.4,
              "rgb(224,243,248)"
             ],
             [
              0.5,
              "rgb(255,255,191)"
             ],
             [
              0.6,
              "rgb(254,224,144)"
             ],
             [
              0.7,
              "rgb(253,174,97)"
             ],
             [
              0.8,
              "rgb(244,109,67)"
             ],
             [
              0.9,
              "rgb(215,48,39)"
             ],
             [
              1,
              "rgb(165,0,38)"
             ]
            ],
            "showscale": false,
            "size": 10,
            "symbol": "circle"
           },
           "mode": "markers",
           "type": "scatter",
           "x": [
            75.32,
            76.29,
            72.69,
            75.37,
            75.38,
            76.39,
            72.7,
            75.42,
            75.5,
            76.53,
            72.74,
            75.48,
            75.64,
            76.69,
            72.81,
            75.58,
            75.83,
            76.89,
            72.9,
            75.71,
            76.08,
            77.11,
            73.03,
            75.88,
            76.35,
            77.36,
            73.2,
            76.1,
            76.65,
            77.61,
            73.42,
            76.36,
            77,
            77.86,
            73.69,
            76.66,
            77.36,
            78.1,
            74.02,
            76.98,
            77.73,
            78.32,
            74.39,
            77.3,
            78.07,
            78.51,
            74.82,
            77.62,
            78.41,
            78.69,
            75.29,
            77.89,
            78.7,
            78.84,
            75.78,
            78.16,
            78.94,
            78.98,
            76.3,
            78.39,
            79.1,
            79.1,
            76.83,
            78.6,
            79.27,
            79.22,
            77.36,
            78.8,
            79.37,
            79.33,
            77.86,
            78.97,
            79.45,
            79.45,
            78.31,
            79.12,
            79.48,
            79.57,
            78.73,
            79.29
           ],
           "y": [
            28.68,
            21.36,
            25.11,
            25.6,
            28.69,
            21.37,
            25.09,
            25.59,
            28.71,
            21.36,
            25.08,
            25.59,
            28.75,
            21.34,
            25.08,
            25.59,
            28.8,
            21.33,
            25.09,
            25.59,
            28.85,
            21.33,
            25.11,
            25.61,
            28.9,
            21.36,
            25.13,
            25.62,
            28.96,
            21.43,
            25.18,
            25.64,
            29.03,
            21.51,
            25.23,
            25.68,
            29.09,
            21.64,
            25.3,
            25.72,
            29.13,
            21.82,
            25.37,
            25.77,
            29.15,
            22.06,
            25.45,
            25.84,
            29.17,
            22.29,
            25.51,
            25.89,
            29.16,
            22.56,
            25.57,
            25.93,
            29.12,
            22.84,
            25.62,
            25.97,
            29.04,
            23.14,
            25.63,
            25.99,
            28.97,
            23.44,
            25.61,
            26,
            28.87,
            23.75,
            25.58,
            26.01,
            28.76,
            24.04,
            25.55,
            26.01,
            28.65,
            24.32,
            25.5,
            25.99
           ]
          },
          {
           "legendgroup": "Blockers",
           "marker": {
            "color": "black",
            "size": 20,
            "symbol": "x"
           },
           "mode": "markers",
           "name": "Blockers",
           "type": "scatter",
           "x": [
            80.33,
            80.36,
            80.45,
            80.53,
            80.89
           ],
           "y": [
            23.87,
            29.54,
            25.91,
            28.33,
            27.41
           ]
          },
          {
           "legendgroup": "QB",
           "marker": {
            "color": "black",
            "size": 20,
            "symbol": "diamond"
           },
           "mode": "markers",
           "name": "QB",
           "type": "scatter",
           "x": [
            84.02
           ],
           "y": [
            26.42
           ]
          },
          {
           "mode": "text",
           "text": [
            "QB Distruption Probability: 0.277"
           ],
           "textfont": {
            "size": 12
           },
           "type": "scatter",
           "x": [
            72.69
           ],
           "y": [
            29.67
           ]
          }
         ]
        },
        {
         "data": [
          {
           "legendgroup": "Rushers",
           "marker": {
            "cmax": 0.3,
            "cmin": -0.3,
            "color": [
             0.019619256258010864,
             0.0011719167232513428,
             0.0038678795099258423,
             0.02672581374645233
            ],
            "colorscale": [
             [
              0,
              "rgb(49,54,149)"
             ],
             [
              0.1,
              "rgb(69,117,180)"
             ],
             [
              0.2,
              "rgb(116,173,209)"
             ],
             [
              0.3,
              "rgb(171,217,233)"
             ],
             [
              0.4,
              "rgb(224,243,248)"
             ],
             [
              0.5,
              "rgb(255,255,191)"
             ],
             [
              0.6,
              "rgb(254,224,144)"
             ],
             [
              0.7,
              "rgb(253,174,97)"
             ],
             [
              0.8,
              "rgb(244,109,67)"
             ],
             [
              0.9,
              "rgb(215,48,39)"
             ],
             [
              1,
              "rgb(165,0,38)"
             ]
            ],
            "showscale": false,
            "size": 20
           },
           "mode": "markers+text",
           "name": "Rushers",
           "text": [
            "Rusher Metric: 0.02",
            "Rusher Metric: 0.001",
            "Rusher Metric: 0.004",
            "Rusher Metric: 0.027"
           ],
           "textposition": "bottom center",
           "type": "scatter",
           "x": [
            79.44,
            79.83,
            79.38,
            79.56
           ],
           "y": [
            28.42,
            24.76,
            25.41,
            26.04
           ]
          },
          {
           "marker": {
            "cmax": 0.3,
            "cmin": -0.3,
            "color": [
             -0.0049426257610321045,
             -0.00005537271499633789,
             -0.0010282397270202637,
             -0.00816008448600769,
             0.0009160339832305908,
             -0.0032886266708374023,
             -0.0012939274311065674,
             0.0028631091117858887,
             0.002233445644378662,
             -0.0030546188354492188,
             0.0006447732448577881,
             0.0019451677799224854,
             0.00007233023643493652,
             -0.0034719109535217285,
             0.00038701295852661133,
             0.006372809410095215,
             0.0021477043628692627,
             -0.0026093125343322754,
             0.0003782510757446289,
             0.006890594959259033,
             0.015645384788513184,
             -0.0010910332202911377,
             0.0028673112392425537,
             0.01829087734222412,
             0.02656617760658264,
             -0.0008338093757629395,
             0.002313852310180664,
             0.03257903456687927,
             0.04324796795845032,
             0.0009785294532775879,
             0.00393185019493103,
             0.05108579993247986,
             0.06482720375061035,
             -0.0013979971408843994,
             0.002562195062637329,
             0.07055127620697021,
             0.08479040861129761,
             0.00006479024887084961,
             0.004756271839141846,
             0.09080451726913452,
             0.08674991130828857,
             0.0009375512599945068,
             0.0060256123542785645,
             0.08956539630889893,
             0.08165603876113892,
             0.0015384852886199951,
             0.009653031826019287,
             0.08705738186836243,
             0.07058143615722656,
             -0.0002962350845336914,
             0.011854290962219238,
             0.06897848844528198,
             0.06187787652015686,
             -0.00019249320030212402,
             0.011433511972427368,
             0.06701138615608215,
             0.05037650465965271,
             0.0004955828189849854,
             0.014897584915161133,
             0.05420506000518799,
             0.03141620755195618,
             0.00016239285469055176,
             0.01589024066925049,
             0.039762794971466064,
             0.006314188241958618,
             0.0015078485012054443,
             0.019707709550857544,
             0.014124870300292969,
             0.003313779830932617,
             0.002749621868133545,
             0.02084413170814514,
             0.016386091709136963,
             0.01593118906021118,
             0.0019025802612304688,
             0.015715718269348145,
             0.025745302438735962,
             0.021451830863952637,
             0.0025443732738494873,
             0.014793306589126587,
             0.03739503026008606,
             0.02619481086730957,
             0.0022538602352142334,
             0.008094459772109985,
             0.03868208825588226
            ],
            "colorscale": [
             [
              0,
              "rgb(49,54,149)"
             ],
             [
              0.1,
              "rgb(69,117,180)"
             ],
             [
              0.2,
              "rgb(116,173,209)"
             ],
             [
              0.3,
              "rgb(171,217,233)"
             ],
             [
              0.4,
              "rgb(224,243,248)"
             ],
             [
              0.5,
              "rgb(255,255,191)"
             ],
             [
              0.6,
              "rgb(254,224,144)"
             ],
             [
              0.7,
              "rgb(253,174,97)"
             ],
             [
              0.8,
              "rgb(244,109,67)"
             ],
             [
              0.9,
              "rgb(215,48,39)"
             ],
             [
              1,
              "rgb(165,0,38)"
             ]
            ],
            "showscale": false,
            "size": 10,
            "symbol": "circle"
           },
           "mode": "markers",
           "type": "scatter",
           "x": [
            75.32,
            76.29,
            72.69,
            75.37,
            75.38,
            76.39,
            72.7,
            75.42,
            75.5,
            76.53,
            72.74,
            75.48,
            75.64,
            76.69,
            72.81,
            75.58,
            75.83,
            76.89,
            72.9,
            75.71,
            76.08,
            77.11,
            73.03,
            75.88,
            76.35,
            77.36,
            73.2,
            76.1,
            76.65,
            77.61,
            73.42,
            76.36,
            77,
            77.86,
            73.69,
            76.66,
            77.36,
            78.1,
            74.02,
            76.98,
            77.73,
            78.32,
            74.39,
            77.3,
            78.07,
            78.51,
            74.82,
            77.62,
            78.41,
            78.69,
            75.29,
            77.89,
            78.7,
            78.84,
            75.78,
            78.16,
            78.94,
            78.98,
            76.3,
            78.39,
            79.1,
            79.1,
            76.83,
            78.6,
            79.27,
            79.22,
            77.36,
            78.8,
            79.37,
            79.33,
            77.86,
            78.97,
            79.45,
            79.45,
            78.31,
            79.12,
            79.48,
            79.57,
            78.73,
            79.29,
            79.48,
            79.71,
            79.08,
            79.44
           ],
           "y": [
            28.68,
            21.36,
            25.11,
            25.6,
            28.69,
            21.37,
            25.09,
            25.59,
            28.71,
            21.36,
            25.08,
            25.59,
            28.75,
            21.34,
            25.08,
            25.59,
            28.8,
            21.33,
            25.09,
            25.59,
            28.85,
            21.33,
            25.11,
            25.61,
            28.9,
            21.36,
            25.13,
            25.62,
            28.96,
            21.43,
            25.18,
            25.64,
            29.03,
            21.51,
            25.23,
            25.68,
            29.09,
            21.64,
            25.3,
            25.72,
            29.13,
            21.82,
            25.37,
            25.77,
            29.15,
            22.06,
            25.45,
            25.84,
            29.17,
            22.29,
            25.51,
            25.89,
            29.16,
            22.56,
            25.57,
            25.93,
            29.12,
            22.84,
            25.62,
            25.97,
            29.04,
            23.14,
            25.63,
            25.99,
            28.97,
            23.44,
            25.61,
            26,
            28.87,
            23.75,
            25.58,
            26.01,
            28.76,
            24.04,
            25.55,
            26.01,
            28.65,
            24.32,
            25.5,
            25.99,
            28.54,
            24.54,
            25.46,
            26.01
           ]
          },
          {
           "legendgroup": "Blockers",
           "marker": {
            "color": "black",
            "size": 20,
            "symbol": "x"
           },
           "mode": "markers",
           "name": "Blockers",
           "type": "scatter",
           "x": [
            80.43,
            80.49,
            80.59,
            80.55,
            80.96
           ],
           "y": [
            24.04,
            29.52,
            25.9,
            28.23,
            27.39
           ]
          },
          {
           "legendgroup": "QB",
           "marker": {
            "color": "black",
            "size": 20,
            "symbol": "diamond"
           },
           "mode": "markers",
           "name": "QB",
           "type": "scatter",
           "x": [
            84.02
           ],
           "y": [
            26.43
           ]
          },
          {
           "mode": "text",
           "text": [
            "QB Distruption Probability: 0.252"
           ],
           "textfont": {
            "size": 12
           },
           "type": "scatter",
           "x": [
            72.69
           ],
           "y": [
            29.67
           ]
          }
         ]
        },
        {
         "data": [
          {
           "legendgroup": "Rushers",
           "marker": {
            "cmax": 0.3,
            "cmin": -0.3,
            "color": [
             0.010335713624954224,
             0.0026513785123825073,
             0.001344829797744751,
             0.025429964065551758
            ],
            "colorscale": [
             [
              0,
              "rgb(49,54,149)"
             ],
             [
              0.1,
              "rgb(69,117,180)"
             ],
             [
              0.2,
              "rgb(116,173,209)"
             ],
             [
              0.3,
              "rgb(171,217,233)"
             ],
             [
              0.4,
              "rgb(224,243,248)"
             ],
             [
              0.5,
              "rgb(255,255,191)"
             ],
             [
              0.6,
              "rgb(254,224,144)"
             ],
             [
              0.7,
              "rgb(253,174,97)"
             ],
             [
              0.8,
              "rgb(244,109,67)"
             ],
             [
              0.9,
              "rgb(215,48,39)"
             ],
             [
              1,
              "rgb(165,0,38)"
             ]
            ],
            "showscale": false,
            "size": 20
           },
           "mode": "markers+text",
           "name": "Rushers",
           "text": [
            "Rusher Metric: 0.01",
            "Rusher Metric: 0.003",
            "Rusher Metric: 0.001",
            "Rusher Metric: 0.025"
           ],
           "textposition": "bottom center",
           "type": "scatter",
           "x": [
            79.35,
            79.98,
            79.62,
            79.7
           ],
           "y": [
            28.33,
            24.94,
            25.38,
            26.09
           ]
          },
          {
           "marker": {
            "cmax": 0.3,
            "cmin": -0.3,
            "color": [
             -0.0049426257610321045,
             -0.00005537271499633789,
             -0.0010282397270202637,
             -0.00816008448600769,
             0.0009160339832305908,
             -0.0032886266708374023,
             -0.0012939274311065674,
             0.0028631091117858887,
             0.002233445644378662,
             -0.0030546188354492188,
             0.0006447732448577881,
             0.0019451677799224854,
             0.00007233023643493652,
             -0.0034719109535217285,
             0.00038701295852661133,
             0.006372809410095215,
             0.0021477043628692627,
             -0.0026093125343322754,
             0.0003782510757446289,
             0.006890594959259033,
             0.015645384788513184,
             -0.0010910332202911377,
             0.0028673112392425537,
             0.01829087734222412,
             0.02656617760658264,
             -0.0008338093757629395,
             0.002313852310180664,
             0.03257903456687927,
             0.04324796795845032,
             0.0009785294532775879,
             0.00393185019493103,
             0.05108579993247986,
             0.06482720375061035,
             -0.0013979971408843994,
             0.002562195062637329,
             0.07055127620697021,
             0.08479040861129761,
             0.00006479024887084961,
             0.004756271839141846,
             0.09080451726913452,
             0.08674991130828857,
             0.0009375512599945068,
             0.0060256123542785645,
             0.08956539630889893,
             0.08165603876113892,
             0.0015384852886199951,
             0.009653031826019287,
             0.08705738186836243,
             0.07058143615722656,
             -0.0002962350845336914,
             0.011854290962219238,
             0.06897848844528198,
             0.06187787652015686,
             -0.00019249320030212402,
             0.011433511972427368,
             0.06701138615608215,
             0.05037650465965271,
             0.0004955828189849854,
             0.014897584915161133,
             0.05420506000518799,
             0.03141620755195618,
             0.00016239285469055176,
             0.01589024066925049,
             0.039762794971466064,
             0.006314188241958618,
             0.0015078485012054443,
             0.019707709550857544,
             0.014124870300292969,
             0.003313779830932617,
             0.002749621868133545,
             0.02084413170814514,
             0.016386091709136963,
             0.01593118906021118,
             0.0019025802612304688,
             0.015715718269348145,
             0.025745302438735962,
             0.021451830863952637,
             0.0025443732738494873,
             0.014793306589126587,
             0.03739503026008606,
             0.02619481086730957,
             0.0022538602352142334,
             0.008094459772109985,
             0.03868208825588226,
             0.019619256258010864,
             0.0011719167232513428,
             0.0038678795099258423,
             0.02672581374645233
            ],
            "colorscale": [
             [
              0,
              "rgb(49,54,149)"
             ],
             [
              0.1,
              "rgb(69,117,180)"
             ],
             [
              0.2,
              "rgb(116,173,209)"
             ],
             [
              0.3,
              "rgb(171,217,233)"
             ],
             [
              0.4,
              "rgb(224,243,248)"
             ],
             [
              0.5,
              "rgb(255,255,191)"
             ],
             [
              0.6,
              "rgb(254,224,144)"
             ],
             [
              0.7,
              "rgb(253,174,97)"
             ],
             [
              0.8,
              "rgb(244,109,67)"
             ],
             [
              0.9,
              "rgb(215,48,39)"
             ],
             [
              1,
              "rgb(165,0,38)"
             ]
            ],
            "showscale": false,
            "size": 10,
            "symbol": "circle"
           },
           "mode": "markers",
           "type": "scatter",
           "x": [
            75.32,
            76.29,
            72.69,
            75.37,
            75.38,
            76.39,
            72.7,
            75.42,
            75.5,
            76.53,
            72.74,
            75.48,
            75.64,
            76.69,
            72.81,
            75.58,
            75.83,
            76.89,
            72.9,
            75.71,
            76.08,
            77.11,
            73.03,
            75.88,
            76.35,
            77.36,
            73.2,
            76.1,
            76.65,
            77.61,
            73.42,
            76.36,
            77,
            77.86,
            73.69,
            76.66,
            77.36,
            78.1,
            74.02,
            76.98,
            77.73,
            78.32,
            74.39,
            77.3,
            78.07,
            78.51,
            74.82,
            77.62,
            78.41,
            78.69,
            75.29,
            77.89,
            78.7,
            78.84,
            75.78,
            78.16,
            78.94,
            78.98,
            76.3,
            78.39,
            79.1,
            79.1,
            76.83,
            78.6,
            79.27,
            79.22,
            77.36,
            78.8,
            79.37,
            79.33,
            77.86,
            78.97,
            79.45,
            79.45,
            78.31,
            79.12,
            79.48,
            79.57,
            78.73,
            79.29,
            79.48,
            79.71,
            79.08,
            79.44,
            79.44,
            79.83,
            79.38,
            79.56
           ],
           "y": [
            28.68,
            21.36,
            25.11,
            25.6,
            28.69,
            21.37,
            25.09,
            25.59,
            28.71,
            21.36,
            25.08,
            25.59,
            28.75,
            21.34,
            25.08,
            25.59,
            28.8,
            21.33,
            25.09,
            25.59,
            28.85,
            21.33,
            25.11,
            25.61,
            28.9,
            21.36,
            25.13,
            25.62,
            28.96,
            21.43,
            25.18,
            25.64,
            29.03,
            21.51,
            25.23,
            25.68,
            29.09,
            21.64,
            25.3,
            25.72,
            29.13,
            21.82,
            25.37,
            25.77,
            29.15,
            22.06,
            25.45,
            25.84,
            29.17,
            22.29,
            25.51,
            25.89,
            29.16,
            22.56,
            25.57,
            25.93,
            29.12,
            22.84,
            25.62,
            25.97,
            29.04,
            23.14,
            25.63,
            25.99,
            28.97,
            23.44,
            25.61,
            26,
            28.87,
            23.75,
            25.58,
            26.01,
            28.76,
            24.04,
            25.55,
            26.01,
            28.65,
            24.32,
            25.5,
            25.99,
            28.54,
            24.54,
            25.46,
            26.01,
            28.42,
            24.76,
            25.41,
            26.04
           ]
          },
          {
           "legendgroup": "Blockers",
           "marker": {
            "color": "black",
            "size": 20,
            "symbol": "x"
           },
           "mode": "markers",
           "name": "Blockers",
           "type": "scatter",
           "x": [
            80.55,
            80.61,
            80.72,
            80.55,
            80.99
           ],
           "y": [
            24.2,
            29.52,
            25.9,
            28.15,
            27.36
           ]
          },
          {
           "legendgroup": "QB",
           "marker": {
            "color": "black",
            "size": 20,
            "symbol": "diamond"
           },
           "mode": "markers",
           "name": "QB",
           "type": "scatter",
           "x": [
            84
           ],
           "y": [
            26.44
           ]
          },
          {
           "mode": "text",
           "text": [
            "QB Distruption Probability: 0.242"
           ],
           "textfont": {
            "size": 12
           },
           "type": "scatter",
           "x": [
            72.69
           ],
           "y": [
            29.67
           ]
          }
         ]
        },
        {
         "data": [
          {
           "legendgroup": "Rushers",
           "marker": {
            "cmax": 0.3,
            "cmin": -0.3,
            "color": [
             -0.0009552836418151855,
             0.0015902519226074219,
             -0.0013636201620101929,
             0.010441750288009644
            ],
            "colorscale": [
             [
              0,
              "rgb(49,54,149)"
             ],
             [
              0.1,
              "rgb(69,117,180)"
             ],
             [
              0.2,
              "rgb(116,173,209)"
             ],
             [
              0.3,
              "rgb(171,217,233)"
             ],
             [
              0.4,
              "rgb(224,243,248)"
             ],
             [
              0.5,
              "rgb(255,255,191)"
             ],
             [
              0.6,
              "rgb(254,224,144)"
             ],
             [
              0.7,
              "rgb(253,174,97)"
             ],
             [
              0.8,
              "rgb(244,109,67)"
             ],
             [
              0.9,
              "rgb(215,48,39)"
             ],
             [
              1,
              "rgb(165,0,38)"
             ]
            ],
            "showscale": false,
            "size": 20
           },
           "mode": "markers+text",
           "name": "Rushers",
           "text": [
            "Rusher Metric: -0.001",
            "Rusher Metric: 0.002",
            "Rusher Metric: -0.001",
            "Rusher Metric: 0.01"
           ],
           "textposition": "bottom center",
           "type": "scatter",
           "x": [
            79.25,
            80.13,
            79.81,
            79.84
           ],
           "y": [
            28.23,
            25.07,
            25.35,
            26.13
           ]
          },
          {
           "marker": {
            "cmax": 0.3,
            "cmin": -0.3,
            "color": [
             -0.0049426257610321045,
             -0.00005537271499633789,
             -0.0010282397270202637,
             -0.00816008448600769,
             0.0009160339832305908,
             -0.0032886266708374023,
             -0.0012939274311065674,
             0.0028631091117858887,
             0.002233445644378662,
             -0.0030546188354492188,
             0.0006447732448577881,
             0.0019451677799224854,
             0.00007233023643493652,
             -0.0034719109535217285,
             0.00038701295852661133,
             0.006372809410095215,
             0.0021477043628692627,
             -0.0026093125343322754,
             0.0003782510757446289,
             0.006890594959259033,
             0.015645384788513184,
             -0.0010910332202911377,
             0.0028673112392425537,
             0.01829087734222412,
             0.02656617760658264,
             -0.0008338093757629395,
             0.002313852310180664,
             0.03257903456687927,
             0.04324796795845032,
             0.0009785294532775879,
             0.00393185019493103,
             0.05108579993247986,
             0.06482720375061035,
             -0.0013979971408843994,
             0.002562195062637329,
             0.07055127620697021,
             0.08479040861129761,
             0.00006479024887084961,
             0.004756271839141846,
             0.09080451726913452,
             0.08674991130828857,
             0.0009375512599945068,
             0.0060256123542785645,
             0.08956539630889893,
             0.08165603876113892,
             0.0015384852886199951,
             0.009653031826019287,
             0.08705738186836243,
             0.07058143615722656,
             -0.0002962350845336914,
             0.011854290962219238,
             0.06897848844528198,
             0.06187787652015686,
             -0.00019249320030212402,
             0.011433511972427368,
             0.06701138615608215,
             0.05037650465965271,
             0.0004955828189849854,
             0.014897584915161133,
             0.05420506000518799,
             0.03141620755195618,
             0.00016239285469055176,
             0.01589024066925049,
             0.039762794971466064,
             0.006314188241958618,
             0.0015078485012054443,
             0.019707709550857544,
             0.014124870300292969,
             0.003313779830932617,
             0.002749621868133545,
             0.02084413170814514,
             0.016386091709136963,
             0.01593118906021118,
             0.0019025802612304688,
             0.015715718269348145,
             0.025745302438735962,
             0.021451830863952637,
             0.0025443732738494873,
             0.014793306589126587,
             0.03739503026008606,
             0.02619481086730957,
             0.0022538602352142334,
             0.008094459772109985,
             0.03868208825588226,
             0.019619256258010864,
             0.0011719167232513428,
             0.0038678795099258423,
             0.02672581374645233,
             0.010335713624954224,
             0.0026513785123825073,
             0.001344829797744751,
             0.025429964065551758
            ],
            "colorscale": [
             [
              0,
              "rgb(49,54,149)"
             ],
             [
              0.1,
              "rgb(69,117,180)"
             ],
             [
              0.2,
              "rgb(116,173,209)"
             ],
             [
              0.3,
              "rgb(171,217,233)"
             ],
             [
              0.4,
              "rgb(224,243,248)"
             ],
             [
              0.5,
              "rgb(255,255,191)"
             ],
             [
              0.6,
              "rgb(254,224,144)"
             ],
             [
              0.7,
              "rgb(253,174,97)"
             ],
             [
              0.8,
              "rgb(244,109,67)"
             ],
             [
              0.9,
              "rgb(215,48,39)"
             ],
             [
              1,
              "rgb(165,0,38)"
             ]
            ],
            "showscale": false,
            "size": 10,
            "symbol": "circle"
           },
           "mode": "markers",
           "type": "scatter",
           "x": [
            75.32,
            76.29,
            72.69,
            75.37,
            75.38,
            76.39,
            72.7,
            75.42,
            75.5,
            76.53,
            72.74,
            75.48,
            75.64,
            76.69,
            72.81,
            75.58,
            75.83,
            76.89,
            72.9,
            75.71,
            76.08,
            77.11,
            73.03,
            75.88,
            76.35,
            77.36,
            73.2,
            76.1,
            76.65,
            77.61,
            73.42,
            76.36,
            77,
            77.86,
            73.69,
            76.66,
            77.36,
            78.1,
            74.02,
            76.98,
            77.73,
            78.32,
            74.39,
            77.3,
            78.07,
            78.51,
            74.82,
            77.62,
            78.41,
            78.69,
            75.29,
            77.89,
            78.7,
            78.84,
            75.78,
            78.16,
            78.94,
            78.98,
            76.3,
            78.39,
            79.1,
            79.1,
            76.83,
            78.6,
            79.27,
            79.22,
            77.36,
            78.8,
            79.37,
            79.33,
            77.86,
            78.97,
            79.45,
            79.45,
            78.31,
            79.12,
            79.48,
            79.57,
            78.73,
            79.29,
            79.48,
            79.71,
            79.08,
            79.44,
            79.44,
            79.83,
            79.38,
            79.56,
            79.35,
            79.98,
            79.62,
            79.7
           ],
           "y": [
            28.68,
            21.36,
            25.11,
            25.6,
            28.69,
            21.37,
            25.09,
            25.59,
            28.71,
            21.36,
            25.08,
            25.59,
            28.75,
            21.34,
            25.08,
            25.59,
            28.8,
            21.33,
            25.09,
            25.59,
            28.85,
            21.33,
            25.11,
            25.61,
            28.9,
            21.36,
            25.13,
            25.62,
            28.96,
            21.43,
            25.18,
            25.64,
            29.03,
            21.51,
            25.23,
            25.68,
            29.09,
            21.64,
            25.3,
            25.72,
            29.13,
            21.82,
            25.37,
            25.77,
            29.15,
            22.06,
            25.45,
            25.84,
            29.17,
            22.29,
            25.51,
            25.89,
            29.16,
            22.56,
            25.57,
            25.93,
            29.12,
            22.84,
            25.62,
            25.97,
            29.04,
            23.14,
            25.63,
            25.99,
            28.97,
            23.44,
            25.61,
            26,
            28.87,
            23.75,
            25.58,
            26.01,
            28.76,
            24.04,
            25.55,
            26.01,
            28.65,
            24.32,
            25.5,
            25.99,
            28.54,
            24.54,
            25.46,
            26.01,
            28.42,
            24.76,
            25.41,
            26.04,
            28.33,
            24.94,
            25.38,
            26.09
           ]
          },
          {
           "legendgroup": "Blockers",
           "marker": {
            "color": "black",
            "size": 20,
            "symbol": "x"
           },
           "mode": "markers",
           "name": "Blockers",
           "type": "scatter",
           "x": [
            80.67,
            80.75,
            80.84,
            80.52,
            81.02
           ],
           "y": [
            24.35,
            29.55,
            25.91,
            28.07,
            27.33
           ]
          },
          {
           "legendgroup": "QB",
           "marker": {
            "color": "black",
            "size": 20,
            "symbol": "diamond"
           },
           "mode": "markers",
           "name": "QB",
           "type": "scatter",
           "x": [
            83.98
           ],
           "y": [
            26.45
           ]
          },
          {
           "mode": "text",
           "text": [
            "QB Distruption Probability: 0.226"
           ],
           "textfont": {
            "size": 12
           },
           "type": "scatter",
           "x": [
            72.69
           ],
           "y": [
            29.67
           ]
          }
         ]
        },
        {
         "data": [
          {
           "legendgroup": "Rushers",
           "marker": {
            "cmax": 0.3,
            "cmin": -0.3,
            "color": [
             -0.005305573344230652,
             -0.0019613802433013916,
             -0.0027632564306259155,
             0.001969754695892334
            ],
            "colorscale": [
             [
              0,
              "rgb(49,54,149)"
             ],
             [
              0.1,
              "rgb(69,117,180)"
             ],
             [
              0.2,
              "rgb(116,173,209)"
             ],
             [
              0.3,
              "rgb(171,217,233)"
             ],
             [
              0.4,
              "rgb(224,243,248)"
             ],
             [
              0.5,
              "rgb(255,255,191)"
             ],
             [
              0.6,
              "rgb(254,224,144)"
             ],
             [
              0.7,
              "rgb(253,174,97)"
             ],
             [
              0.8,
              "rgb(244,109,67)"
             ],
             [
              0.9,
              "rgb(215,48,39)"
             ],
             [
              1,
              "rgb(165,0,38)"
             ]
            ],
            "showscale": false,
            "size": 20
           },
           "mode": "markers+text",
           "name": "Rushers",
           "text": [
            "Rusher Metric: -0.005",
            "Rusher Metric: -0.002",
            "Rusher Metric: -0.003",
            "Rusher Metric: 0.002"
           ],
           "textposition": "bottom center",
           "type": "scatter",
           "x": [
            79.12,
            80.23,
            79.95,
            79.96
           ],
           "y": [
            28.14,
            25.12,
            25.33,
            26.19
           ]
          },
          {
           "marker": {
            "cmax": 0.3,
            "cmin": -0.3,
            "color": [
             -0.0049426257610321045,
             -0.00005537271499633789,
             -0.0010282397270202637,
             -0.00816008448600769,
             0.0009160339832305908,
             -0.0032886266708374023,
             -0.0012939274311065674,
             0.0028631091117858887,
             0.002233445644378662,
             -0.0030546188354492188,
             0.0006447732448577881,
             0.0019451677799224854,
             0.00007233023643493652,
             -0.0034719109535217285,
             0.00038701295852661133,
             0.006372809410095215,
             0.0021477043628692627,
             -0.0026093125343322754,
             0.0003782510757446289,
             0.006890594959259033,
             0.015645384788513184,
             -0.0010910332202911377,
             0.0028673112392425537,
             0.01829087734222412,
             0.02656617760658264,
             -0.0008338093757629395,
             0.002313852310180664,
             0.03257903456687927,
             0.04324796795845032,
             0.0009785294532775879,
             0.00393185019493103,
             0.05108579993247986,
             0.06482720375061035,
             -0.0013979971408843994,
             0.002562195062637329,
             0.07055127620697021,
             0.08479040861129761,
             0.00006479024887084961,
             0.004756271839141846,
             0.09080451726913452,
             0.08674991130828857,
             0.0009375512599945068,
             0.0060256123542785645,
             0.08956539630889893,
             0.08165603876113892,
             0.0015384852886199951,
             0.009653031826019287,
             0.08705738186836243,
             0.07058143615722656,
             -0.0002962350845336914,
             0.011854290962219238,
             0.06897848844528198,
             0.06187787652015686,
             -0.00019249320030212402,
             0.011433511972427368,
             0.06701138615608215,
             0.05037650465965271,
             0.0004955828189849854,
             0.014897584915161133,
             0.05420506000518799,
             0.03141620755195618,
             0.00016239285469055176,
             0.01589024066925049,
             0.039762794971466064,
             0.006314188241958618,
             0.0015078485012054443,
             0.019707709550857544,
             0.014124870300292969,
             0.003313779830932617,
             0.002749621868133545,
             0.02084413170814514,
             0.016386091709136963,
             0.01593118906021118,
             0.0019025802612304688,
             0.015715718269348145,
             0.025745302438735962,
             0.021451830863952637,
             0.0025443732738494873,
             0.014793306589126587,
             0.03739503026008606,
             0.02619481086730957,
             0.0022538602352142334,
             0.008094459772109985,
             0.03868208825588226,
             0.019619256258010864,
             0.0011719167232513428,
             0.0038678795099258423,
             0.02672581374645233,
             0.010335713624954224,
             0.0026513785123825073,
             0.001344829797744751,
             0.025429964065551758,
             -0.0009552836418151855,
             0.0015902519226074219,
             -0.0013636201620101929,
             0.010441750288009644
            ],
            "colorscale": [
             [
              0,
              "rgb(49,54,149)"
             ],
             [
              0.1,
              "rgb(69,117,180)"
             ],
             [
              0.2,
              "rgb(116,173,209)"
             ],
             [
              0.3,
              "rgb(171,217,233)"
             ],
             [
              0.4,
              "rgb(224,243,248)"
             ],
             [
              0.5,
              "rgb(255,255,191)"
             ],
             [
              0.6,
              "rgb(254,224,144)"
             ],
             [
              0.7,
              "rgb(253,174,97)"
             ],
             [
              0.8,
              "rgb(244,109,67)"
             ],
             [
              0.9,
              "rgb(215,48,39)"
             ],
             [
              1,
              "rgb(165,0,38)"
             ]
            ],
            "showscale": false,
            "size": 10,
            "symbol": "circle"
           },
           "mode": "markers",
           "type": "scatter",
           "x": [
            75.32,
            76.29,
            72.69,
            75.37,
            75.38,
            76.39,
            72.7,
            75.42,
            75.5,
            76.53,
            72.74,
            75.48,
            75.64,
            76.69,
            72.81,
            75.58,
            75.83,
            76.89,
            72.9,
            75.71,
            76.08,
            77.11,
            73.03,
            75.88,
            76.35,
            77.36,
            73.2,
            76.1,
            76.65,
            77.61,
            73.42,
            76.36,
            77,
            77.86,
            73.69,
            76.66,
            77.36,
            78.1,
            74.02,
            76.98,
            77.73,
            78.32,
            74.39,
            77.3,
            78.07,
            78.51,
            74.82,
            77.62,
            78.41,
            78.69,
            75.29,
            77.89,
            78.7,
            78.84,
            75.78,
            78.16,
            78.94,
            78.98,
            76.3,
            78.39,
            79.1,
            79.1,
            76.83,
            78.6,
            79.27,
            79.22,
            77.36,
            78.8,
            79.37,
            79.33,
            77.86,
            78.97,
            79.45,
            79.45,
            78.31,
            79.12,
            79.48,
            79.57,
            78.73,
            79.29,
            79.48,
            79.71,
            79.08,
            79.44,
            79.44,
            79.83,
            79.38,
            79.56,
            79.35,
            79.98,
            79.62,
            79.7,
            79.25,
            80.13,
            79.81,
            79.84
           ],
           "y": [
            28.68,
            21.36,
            25.11,
            25.6,
            28.69,
            21.37,
            25.09,
            25.59,
            28.71,
            21.36,
            25.08,
            25.59,
            28.75,
            21.34,
            25.08,
            25.59,
            28.8,
            21.33,
            25.09,
            25.59,
            28.85,
            21.33,
            25.11,
            25.61,
            28.9,
            21.36,
            25.13,
            25.62,
            28.96,
            21.43,
            25.18,
            25.64,
            29.03,
            21.51,
            25.23,
            25.68,
            29.09,
            21.64,
            25.3,
            25.72,
            29.13,
            21.82,
            25.37,
            25.77,
            29.15,
            22.06,
            25.45,
            25.84,
            29.17,
            22.29,
            25.51,
            25.89,
            29.16,
            22.56,
            25.57,
            25.93,
            29.12,
            22.84,
            25.62,
            25.97,
            29.04,
            23.14,
            25.63,
            25.99,
            28.97,
            23.44,
            25.61,
            26,
            28.87,
            23.75,
            25.58,
            26.01,
            28.76,
            24.04,
            25.55,
            26.01,
            28.65,
            24.32,
            25.5,
            25.99,
            28.54,
            24.54,
            25.46,
            26.01,
            28.42,
            24.76,
            25.41,
            26.04,
            28.33,
            24.94,
            25.38,
            26.09,
            28.23,
            25.07,
            25.35,
            26.13
           ]
          },
          {
           "legendgroup": "Blockers",
           "marker": {
            "color": "black",
            "size": 20,
            "symbol": "x"
           },
           "mode": "markers",
           "name": "Blockers",
           "type": "scatter",
           "x": [
            80.8,
            80.88,
            80.95,
            80.46,
            81.05
           ],
           "y": [
            24.51,
            29.6,
            25.92,
            28.01,
            27.29
           ]
          },
          {
           "legendgroup": "QB",
           "marker": {
            "color": "black",
            "size": 20,
            "symbol": "diamond"
           },
           "mode": "markers",
           "name": "QB",
           "type": "scatter",
           "x": [
            83.95
           ],
           "y": [
            26.48
           ]
          },
          {
           "mode": "text",
           "text": [
            "QB Distruption Probability: 0.207"
           ],
           "textfont": {
            "size": 12
           },
           "type": "scatter",
           "x": [
            72.69
           ],
           "y": [
            29.67
           ]
          }
         ]
        },
        {
         "data": [
          {
           "legendgroup": "Rushers",
           "marker": {
            "cmax": 0.3,
            "cmin": -0.3,
            "color": [
             -0.007876500487327576,
             -0.0012252181768417358,
             -0.0029757320880889893,
             0.00018258392810821533
            ],
            "colorscale": [
             [
              0,
              "rgb(49,54,149)"
             ],
             [
              0.1,
              "rgb(69,117,180)"
             ],
             [
              0.2,
              "rgb(116,173,209)"
             ],
             [
              0.3,
              "rgb(171,217,233)"
             ],
             [
              0.4,
              "rgb(224,243,248)"
             ],
             [
              0.5,
              "rgb(255,255,191)"
             ],
             [
              0.6,
              "rgb(254,224,144)"
             ],
             [
              0.7,
              "rgb(253,174,97)"
             ],
             [
              0.8,
              "rgb(244,109,67)"
             ],
             [
              0.9,
              "rgb(215,48,39)"
             ],
             [
              1,
              "rgb(165,0,38)"
             ]
            ],
            "showscale": false,
            "size": 20
           },
           "mode": "markers+text",
           "name": "Rushers",
           "text": [
            "Rusher Metric: -0.008",
            "Rusher Metric: -0.001",
            "Rusher Metric: -0.003",
            "Rusher Metric: 0.0"
           ],
           "textposition": "bottom center",
           "type": "scatter",
           "x": [
            78.98,
            80.34,
            80.05,
            80.1
           ],
           "y": [
            28.07,
            25.14,
            25.3,
            26.25
           ]
          },
          {
           "marker": {
            "cmax": 0.3,
            "cmin": -0.3,
            "color": [
             -0.0049426257610321045,
             -0.00005537271499633789,
             -0.0010282397270202637,
             -0.00816008448600769,
             0.0009160339832305908,
             -0.0032886266708374023,
             -0.0012939274311065674,
             0.0028631091117858887,
             0.002233445644378662,
             -0.0030546188354492188,
             0.0006447732448577881,
             0.0019451677799224854,
             0.00007233023643493652,
             -0.0034719109535217285,
             0.00038701295852661133,
             0.006372809410095215,
             0.0021477043628692627,
             -0.0026093125343322754,
             0.0003782510757446289,
             0.006890594959259033,
             0.015645384788513184,
             -0.0010910332202911377,
             0.0028673112392425537,
             0.01829087734222412,
             0.02656617760658264,
             -0.0008338093757629395,
             0.002313852310180664,
             0.03257903456687927,
             0.04324796795845032,
             0.0009785294532775879,
             0.00393185019493103,
             0.05108579993247986,
             0.06482720375061035,
             -0.0013979971408843994,
             0.002562195062637329,
             0.07055127620697021,
             0.08479040861129761,
             0.00006479024887084961,
             0.004756271839141846,
             0.09080451726913452,
             0.08674991130828857,
             0.0009375512599945068,
             0.0060256123542785645,
             0.08956539630889893,
             0.08165603876113892,
             0.0015384852886199951,
             0.009653031826019287,
             0.08705738186836243,
             0.07058143615722656,
             -0.0002962350845336914,
             0.011854290962219238,
             0.06897848844528198,
             0.06187787652015686,
             -0.00019249320030212402,
             0.011433511972427368,
             0.06701138615608215,
             0.05037650465965271,
             0.0004955828189849854,
             0.014897584915161133,
             0.05420506000518799,
             0.03141620755195618,
             0.00016239285469055176,
             0.01589024066925049,
             0.039762794971466064,
             0.006314188241958618,
             0.0015078485012054443,
             0.019707709550857544,
             0.014124870300292969,
             0.003313779830932617,
             0.002749621868133545,
             0.02084413170814514,
             0.016386091709136963,
             0.01593118906021118,
             0.0019025802612304688,
             0.015715718269348145,
             0.025745302438735962,
             0.021451830863952637,
             0.0025443732738494873,
             0.014793306589126587,
             0.03739503026008606,
             0.02619481086730957,
             0.0022538602352142334,
             0.008094459772109985,
             0.03868208825588226,
             0.019619256258010864,
             0.0011719167232513428,
             0.0038678795099258423,
             0.02672581374645233,
             0.010335713624954224,
             0.0026513785123825073,
             0.001344829797744751,
             0.025429964065551758,
             -0.0009552836418151855,
             0.0015902519226074219,
             -0.0013636201620101929,
             0.010441750288009644,
             -0.005305573344230652,
             -0.0019613802433013916,
             -0.0027632564306259155,
             0.001969754695892334
            ],
            "colorscale": [
             [
              0,
              "rgb(49,54,149)"
             ],
             [
              0.1,
              "rgb(69,117,180)"
             ],
             [
              0.2,
              "rgb(116,173,209)"
             ],
             [
              0.3,
              "rgb(171,217,233)"
             ],
             [
              0.4,
              "rgb(224,243,248)"
             ],
             [
              0.5,
              "rgb(255,255,191)"
             ],
             [
              0.6,
              "rgb(254,224,144)"
             ],
             [
              0.7,
              "rgb(253,174,97)"
             ],
             [
              0.8,
              "rgb(244,109,67)"
             ],
             [
              0.9,
              "rgb(215,48,39)"
             ],
             [
              1,
              "rgb(165,0,38)"
             ]
            ],
            "showscale": false,
            "size": 10,
            "symbol": "circle"
           },
           "mode": "markers",
           "type": "scatter",
           "x": [
            75.32,
            76.29,
            72.69,
            75.37,
            75.38,
            76.39,
            72.7,
            75.42,
            75.5,
            76.53,
            72.74,
            75.48,
            75.64,
            76.69,
            72.81,
            75.58,
            75.83,
            76.89,
            72.9,
            75.71,
            76.08,
            77.11,
            73.03,
            75.88,
            76.35,
            77.36,
            73.2,
            76.1,
            76.65,
            77.61,
            73.42,
            76.36,
            77,
            77.86,
            73.69,
            76.66,
            77.36,
            78.1,
            74.02,
            76.98,
            77.73,
            78.32,
            74.39,
            77.3,
            78.07,
            78.51,
            74.82,
            77.62,
            78.41,
            78.69,
            75.29,
            77.89,
            78.7,
            78.84,
            75.78,
            78.16,
            78.94,
            78.98,
            76.3,
            78.39,
            79.1,
            79.1,
            76.83,
            78.6,
            79.27,
            79.22,
            77.36,
            78.8,
            79.37,
            79.33,
            77.86,
            78.97,
            79.45,
            79.45,
            78.31,
            79.12,
            79.48,
            79.57,
            78.73,
            79.29,
            79.48,
            79.71,
            79.08,
            79.44,
            79.44,
            79.83,
            79.38,
            79.56,
            79.35,
            79.98,
            79.62,
            79.7,
            79.25,
            80.13,
            79.81,
            79.84,
            79.12,
            80.23,
            79.95,
            79.96
           ],
           "y": [
            28.68,
            21.36,
            25.11,
            25.6,
            28.69,
            21.37,
            25.09,
            25.59,
            28.71,
            21.36,
            25.08,
            25.59,
            28.75,
            21.34,
            25.08,
            25.59,
            28.8,
            21.33,
            25.09,
            25.59,
            28.85,
            21.33,
            25.11,
            25.61,
            28.9,
            21.36,
            25.13,
            25.62,
            28.96,
            21.43,
            25.18,
            25.64,
            29.03,
            21.51,
            25.23,
            25.68,
            29.09,
            21.64,
            25.3,
            25.72,
            29.13,
            21.82,
            25.37,
            25.77,
            29.15,
            22.06,
            25.45,
            25.84,
            29.17,
            22.29,
            25.51,
            25.89,
            29.16,
            22.56,
            25.57,
            25.93,
            29.12,
            22.84,
            25.62,
            25.97,
            29.04,
            23.14,
            25.63,
            25.99,
            28.97,
            23.44,
            25.61,
            26,
            28.87,
            23.75,
            25.58,
            26.01,
            28.76,
            24.04,
            25.55,
            26.01,
            28.65,
            24.32,
            25.5,
            25.99,
            28.54,
            24.54,
            25.46,
            26.01,
            28.42,
            24.76,
            25.41,
            26.04,
            28.33,
            24.94,
            25.38,
            26.09,
            28.23,
            25.07,
            25.35,
            26.13,
            28.14,
            25.12,
            25.33,
            26.19
           ]
          },
          {
           "legendgroup": "Blockers",
           "marker": {
            "color": "black",
            "size": 20,
            "symbol": "x"
           },
           "mode": "markers",
           "name": "Blockers",
           "type": "scatter",
           "x": [
            80.92,
            81.01,
            81.05,
            80.4,
            81.07
           ],
           "y": [
            24.63,
            29.66,
            25.94,
            27.97,
            27.26
           ]
          },
          {
           "legendgroup": "QB",
           "marker": {
            "color": "black",
            "size": 20,
            "symbol": "diamond"
           },
           "mode": "markers",
           "name": "QB",
           "type": "scatter",
           "x": [
            83.93
           ],
           "y": [
            26.51
           ]
          },
          {
           "mode": "text",
           "text": [
            "QB Distruption Probability: 0.198"
           ],
           "textfont": {
            "size": 12
           },
           "type": "scatter",
           "x": [
            72.69
           ],
           "y": [
            29.67
           ]
          }
         ]
        }
       ],
       "layout": {
        "autosize": false,
        "height": 600,
        "legend": {
         "orientation": "h"
        },
        "plot_bgcolor": "green",
        "template": {
         "data": {
          "bar": [
           {
            "error_x": {
             "color": "#2a3f5f"
            },
            "error_y": {
             "color": "#2a3f5f"
            },
            "marker": {
             "line": {
              "color": "#E5ECF6",
              "width": 0.5
             },
             "pattern": {
              "fillmode": "overlay",
              "size": 10,
              "solidity": 0.2
             }
            },
            "type": "bar"
           }
          ],
          "barpolar": [
           {
            "marker": {
             "line": {
              "color": "#E5ECF6",
              "width": 0.5
             },
             "pattern": {
              "fillmode": "overlay",
              "size": 10,
              "solidity": 0.2
             }
            },
            "type": "barpolar"
           }
          ],
          "carpet": [
           {
            "aaxis": {
             "endlinecolor": "#2a3f5f",
             "gridcolor": "white",
             "linecolor": "white",
             "minorgridcolor": "white",
             "startlinecolor": "#2a3f5f"
            },
            "baxis": {
             "endlinecolor": "#2a3f5f",
             "gridcolor": "white",
             "linecolor": "white",
             "minorgridcolor": "white",
             "startlinecolor": "#2a3f5f"
            },
            "type": "carpet"
           }
          ],
          "choropleth": [
           {
            "colorbar": {
             "outlinewidth": 0,
             "ticks": ""
            },
            "type": "choropleth"
           }
          ],
          "contour": [
           {
            "colorbar": {
             "outlinewidth": 0,
             "ticks": ""
            },
            "colorscale": [
             [
              0,
              "#0d0887"
             ],
             [
              0.1111111111111111,
              "#46039f"
             ],
             [
              0.2222222222222222,
              "#7201a8"
             ],
             [
              0.3333333333333333,
              "#9c179e"
             ],
             [
              0.4444444444444444,
              "#bd3786"
             ],
             [
              0.5555555555555556,
              "#d8576b"
             ],
             [
              0.6666666666666666,
              "#ed7953"
             ],
             [
              0.7777777777777778,
              "#fb9f3a"
             ],
             [
              0.8888888888888888,
              "#fdca26"
             ],
             [
              1,
              "#f0f921"
             ]
            ],
            "type": "contour"
           }
          ],
          "contourcarpet": [
           {
            "colorbar": {
             "outlinewidth": 0,
             "ticks": ""
            },
            "type": "contourcarpet"
           }
          ],
          "heatmap": [
           {
            "colorbar": {
             "outlinewidth": 0,
             "ticks": ""
            },
            "colorscale": [
             [
              0,
              "#0d0887"
             ],
             [
              0.1111111111111111,
              "#46039f"
             ],
             [
              0.2222222222222222,
              "#7201a8"
             ],
             [
              0.3333333333333333,
              "#9c179e"
             ],
             [
              0.4444444444444444,
              "#bd3786"
             ],
             [
              0.5555555555555556,
              "#d8576b"
             ],
             [
              0.6666666666666666,
              "#ed7953"
             ],
             [
              0.7777777777777778,
              "#fb9f3a"
             ],
             [
              0.8888888888888888,
              "#fdca26"
             ],
             [
              1,
              "#f0f921"
             ]
            ],
            "type": "heatmap"
           }
          ],
          "heatmapgl": [
           {
            "colorbar": {
             "outlinewidth": 0,
             "ticks": ""
            },
            "colorscale": [
             [
              0,
              "#0d0887"
             ],
             [
              0.1111111111111111,
              "#46039f"
             ],
             [
              0.2222222222222222,
              "#7201a8"
             ],
             [
              0.3333333333333333,
              "#9c179e"
             ],
             [
              0.4444444444444444,
              "#bd3786"
             ],
             [
              0.5555555555555556,
              "#d8576b"
             ],
             [
              0.6666666666666666,
              "#ed7953"
             ],
             [
              0.7777777777777778,
              "#fb9f3a"
             ],
             [
              0.8888888888888888,
              "#fdca26"
             ],
             [
              1,
              "#f0f921"
             ]
            ],
            "type": "heatmapgl"
           }
          ],
          "histogram": [
           {
            "marker": {
             "pattern": {
              "fillmode": "overlay",
              "size": 10,
              "solidity": 0.2
             }
            },
            "type": "histogram"
           }
          ],
          "histogram2d": [
           {
            "colorbar": {
             "outlinewidth": 0,
             "ticks": ""
            },
            "colorscale": [
             [
              0,
              "#0d0887"
             ],
             [
              0.1111111111111111,
              "#46039f"
             ],
             [
              0.2222222222222222,
              "#7201a8"
             ],
             [
              0.3333333333333333,
              "#9c179e"
             ],
             [
              0.4444444444444444,
              "#bd3786"
             ],
             [
              0.5555555555555556,
              "#d8576b"
             ],
             [
              0.6666666666666666,
              "#ed7953"
             ],
             [
              0.7777777777777778,
              "#fb9f3a"
             ],
             [
              0.8888888888888888,
              "#fdca26"
             ],
             [
              1,
              "#f0f921"
             ]
            ],
            "type": "histogram2d"
           }
          ],
          "histogram2dcontour": [
           {
            "colorbar": {
             "outlinewidth": 0,
             "ticks": ""
            },
            "colorscale": [
             [
              0,
              "#0d0887"
             ],
             [
              0.1111111111111111,
              "#46039f"
             ],
             [
              0.2222222222222222,
              "#7201a8"
             ],
             [
              0.3333333333333333,
              "#9c179e"
             ],
             [
              0.4444444444444444,
              "#bd3786"
             ],
             [
              0.5555555555555556,
              "#d8576b"
             ],
             [
              0.6666666666666666,
              "#ed7953"
             ],
             [
              0.7777777777777778,
              "#fb9f3a"
             ],
             [
              0.8888888888888888,
              "#fdca26"
             ],
             [
              1,
              "#f0f921"
             ]
            ],
            "type": "histogram2dcontour"
           }
          ],
          "mesh3d": [
           {
            "colorbar": {
             "outlinewidth": 0,
             "ticks": ""
            },
            "type": "mesh3d"
           }
          ],
          "parcoords": [
           {
            "line": {
             "colorbar": {
              "outlinewidth": 0,
              "ticks": ""
             }
            },
            "type": "parcoords"
           }
          ],
          "pie": [
           {
            "automargin": true,
            "type": "pie"
           }
          ],
          "scatter": [
           {
            "fillpattern": {
             "fillmode": "overlay",
             "size": 10,
             "solidity": 0.2
            },
            "type": "scatter"
           }
          ],
          "scatter3d": [
           {
            "line": {
             "colorbar": {
              "outlinewidth": 0,
              "ticks": ""
             }
            },
            "marker": {
             "colorbar": {
              "outlinewidth": 0,
              "ticks": ""
             }
            },
            "type": "scatter3d"
           }
          ],
          "scattercarpet": [
           {
            "marker": {
             "colorbar": {
              "outlinewidth": 0,
              "ticks": ""
             }
            },
            "type": "scattercarpet"
           }
          ],
          "scattergeo": [
           {
            "marker": {
             "colorbar": {
              "outlinewidth": 0,
              "ticks": ""
             }
            },
            "type": "scattergeo"
           }
          ],
          "scattergl": [
           {
            "marker": {
             "colorbar": {
              "outlinewidth": 0,
              "ticks": ""
             }
            },
            "type": "scattergl"
           }
          ],
          "scattermapbox": [
           {
            "marker": {
             "colorbar": {
              "outlinewidth": 0,
              "ticks": ""
             }
            },
            "type": "scattermapbox"
           }
          ],
          "scatterpolar": [
           {
            "marker": {
             "colorbar": {
              "outlinewidth": 0,
              "ticks": ""
             }
            },
            "type": "scatterpolar"
           }
          ],
          "scatterpolargl": [
           {
            "marker": {
             "colorbar": {
              "outlinewidth": 0,
              "ticks": ""
             }
            },
            "type": "scatterpolargl"
           }
          ],
          "scatterternary": [
           {
            "marker": {
             "colorbar": {
              "outlinewidth": 0,
              "ticks": ""
             }
            },
            "type": "scatterternary"
           }
          ],
          "surface": [
           {
            "colorbar": {
             "outlinewidth": 0,
             "ticks": ""
            },
            "colorscale": [
             [
              0,
              "#0d0887"
             ],
             [
              0.1111111111111111,
              "#46039f"
             ],
             [
              0.2222222222222222,
              "#7201a8"
             ],
             [
              0.3333333333333333,
              "#9c179e"
             ],
             [
              0.4444444444444444,
              "#bd3786"
             ],
             [
              0.5555555555555556,
              "#d8576b"
             ],
             [
              0.6666666666666666,
              "#ed7953"
             ],
             [
              0.7777777777777778,
              "#fb9f3a"
             ],
             [
              0.8888888888888888,
              "#fdca26"
             ],
             [
              1,
              "#f0f921"
             ]
            ],
            "type": "surface"
           }
          ],
          "table": [
           {
            "cells": {
             "fill": {
              "color": "#EBF0F8"
             },
             "line": {
              "color": "white"
             }
            },
            "header": {
             "fill": {
              "color": "#C8D4E3"
             },
             "line": {
              "color": "white"
             }
            },
            "type": "table"
           }
          ]
         },
         "layout": {
          "annotationdefaults": {
           "arrowcolor": "#2a3f5f",
           "arrowhead": 0,
           "arrowwidth": 1
          },
          "autotypenumbers": "strict",
          "coloraxis": {
           "colorbar": {
            "outlinewidth": 0,
            "ticks": ""
           }
          },
          "colorscale": {
           "diverging": [
            [
             0,
             "#8e0152"
            ],
            [
             0.1,
             "#c51b7d"
            ],
            [
             0.2,
             "#de77ae"
            ],
            [
             0.3,
             "#f1b6da"
            ],
            [
             0.4,
             "#fde0ef"
            ],
            [
             0.5,
             "#f7f7f7"
            ],
            [
             0.6,
             "#e6f5d0"
            ],
            [
             0.7,
             "#b8e186"
            ],
            [
             0.8,
             "#7fbc41"
            ],
            [
             0.9,
             "#4d9221"
            ],
            [
             1,
             "#276419"
            ]
           ],
           "sequential": [
            [
             0,
             "#0d0887"
            ],
            [
             0.1111111111111111,
             "#46039f"
            ],
            [
             0.2222222222222222,
             "#7201a8"
            ],
            [
             0.3333333333333333,
             "#9c179e"
            ],
            [
             0.4444444444444444,
             "#bd3786"
            ],
            [
             0.5555555555555556,
             "#d8576b"
            ],
            [
             0.6666666666666666,
             "#ed7953"
            ],
            [
             0.7777777777777778,
             "#fb9f3a"
            ],
            [
             0.8888888888888888,
             "#fdca26"
            ],
            [
             1,
             "#f0f921"
            ]
           ],
           "sequentialminus": [
            [
             0,
             "#0d0887"
            ],
            [
             0.1111111111111111,
             "#46039f"
            ],
            [
             0.2222222222222222,
             "#7201a8"
            ],
            [
             0.3333333333333333,
             "#9c179e"
            ],
            [
             0.4444444444444444,
             "#bd3786"
            ],
            [
             0.5555555555555556,
             "#d8576b"
            ],
            [
             0.6666666666666666,
             "#ed7953"
            ],
            [
             0.7777777777777778,
             "#fb9f3a"
            ],
            [
             0.8888888888888888,
             "#fdca26"
            ],
            [
             1,
             "#f0f921"
            ]
           ]
          },
          "colorway": [
           "#636efa",
           "#EF553B",
           "#00cc96",
           "#ab63fa",
           "#FFA15A",
           "#19d3f3",
           "#FF6692",
           "#B6E880",
           "#FF97FF",
           "#FECB52"
          ],
          "font": {
           "color": "#2a3f5f"
          },
          "geo": {
           "bgcolor": "white",
           "lakecolor": "white",
           "landcolor": "#E5ECF6",
           "showlakes": true,
           "showland": true,
           "subunitcolor": "white"
          },
          "hoverlabel": {
           "align": "left"
          },
          "hovermode": "closest",
          "mapbox": {
           "style": "light"
          },
          "paper_bgcolor": "white",
          "plot_bgcolor": "#E5ECF6",
          "polar": {
           "angularaxis": {
            "gridcolor": "white",
            "linecolor": "white",
            "ticks": ""
           },
           "bgcolor": "#E5ECF6",
           "radialaxis": {
            "gridcolor": "white",
            "linecolor": "white",
            "ticks": ""
           }
          },
          "scene": {
           "xaxis": {
            "backgroundcolor": "#E5ECF6",
            "gridcolor": "white",
            "gridwidth": 2,
            "linecolor": "white",
            "showbackground": true,
            "ticks": "",
            "zerolinecolor": "white"
           },
           "yaxis": {
            "backgroundcolor": "#E5ECF6",
            "gridcolor": "white",
            "gridwidth": 2,
            "linecolor": "white",
            "showbackground": true,
            "ticks": "",
            "zerolinecolor": "white"
           },
           "zaxis": {
            "backgroundcolor": "#E5ECF6",
            "gridcolor": "white",
            "gridwidth": 2,
            "linecolor": "white",
            "showbackground": true,
            "ticks": "",
            "zerolinecolor": "white"
           }
          },
          "shapedefaults": {
           "line": {
            "color": "#2a3f5f"
           }
          },
          "ternary": {
           "aaxis": {
            "gridcolor": "white",
            "linecolor": "white",
            "ticks": ""
           },
           "baxis": {
            "gridcolor": "white",
            "linecolor": "white",
            "ticks": ""
           },
           "bgcolor": "#E5ECF6",
           "caxis": {
            "gridcolor": "white",
            "linecolor": "white",
            "ticks": ""
           }
          },
          "title": {
           "x": 0.05
          },
          "xaxis": {
           "automargin": true,
           "gridcolor": "white",
           "linecolor": "white",
           "ticks": "",
           "title": {
            "standoff": 15
           },
           "zerolinecolor": "white",
           "zerolinewidth": 2
          },
          "yaxis": {
           "automargin": true,
           "gridcolor": "white",
           "linecolor": "white",
           "ticks": "",
           "title": {
            "standoff": 15
           },
           "zerolinecolor": "white",
           "zerolinewidth": 2
          }
         }
        },
        "title": {
         "text": "Play 2021090900187"
        },
        "updatemenus": [
         {
          "buttons": [
           {
            "args": [
             null,
             {
              "frame": {
               "duration": 200,
               "redraw": false
              },
              "fromcurrent": true,
              "transition": {
               "duration": 0
              }
             }
            ],
            "label": "Play",
            "method": "animate"
           }
          ],
          "type": "buttons"
         }
        ],
        "width": 800,
        "xaxis": {
         "autorange": false,
         "dtick": 5,
         "gridcolor": "black",
         "range": [
          70.69,
          86.02
         ],
         "tick0": 70,
         "tickmode": "linear",
         "title": {
          "text": "src freq"
         }
        },
        "yaxis": {
         "autorange": false,
         "dtick": 10,
         "gridcolor": "green",
         "range": [
          19.33,
          31.67
         ],
         "tick0": 70
        }
       }
      }
     },
     "metadata": {},
     "output_type": "display_data"
    }
   ],
   "source": [
    "from __future__ import annotations\n",
    "import plotly\n",
    "import plotly.graph_objects as go\n",
    "fig = go.Figure(\n",
    "    data= start_frame,\n",
    "    layout=layout_draw,\n",
    "    frames=all_frame\n",
    ")\n",
    "\n",
    "fig.update_layout(legend=dict(orientation = \"h\"))  \n",
    "fig.show()"
   ]
  },
  {
   "cell_type": "code",
   "execution_count": 81,
   "metadata": {},
   "outputs": [
    {
     "data": {
      "text/plain": [
       "28.85"
      ]
     },
     "execution_count": 81,
     "metadata": {},
     "output_type": "execute_result"
    }
   ],
   "source": [
    "# plot player metric over time\n",
    "\n",
    "start_frame = [go.Scatter(x=motion_rush[0,2,:], y = motion_rush[0,2,:], \n",
    "                            mode = \"markers+text\", \n",
    "                            text = ['Rusher Metric: ' + str(round(metric, 3)) for metric in motion_rush[0,2,:]],\n",
    "                            textposition=\"bottom center\",\n",
    "                            name = \"Rushers\",\n",
    "                            legendgroup = \"Rushers\",\n",
    "                            marker = dict(size=16,color=motion_rush[0,2,:],colorscale='Blues',showscale=True, cmin=color_min, cmax = color_max))]\n",
    "\n",
    "all_frame = [   go.Frame(data = [go.Scatter(x=vec[0][0], y = vec[0][1], \n",
    "                                            mode = \"markers+text\", \n",
    "                                            text = ['Rusher Metric: ' + str(round(metric, 3)) for metric in vec[0][2]],\n",
    "                                            textposition=\"bottom center\",\n",
    "                                            name = \"Rushers\",\n",
    "                                            legendgroup = \"Rushers\",\n",
    "                                            marker = dict(size=16,color=vec[0][2] ) )) \n",
    "            for vec in zip(motion_rush[1:,:,:], motion_block[1:,:,:], motion_qb[1:,:,:], play_prob[1:])  ]"
   ]
  },
  {
   "cell_type": "code",
   "execution_count": null,
   "metadata": {},
   "outputs": [],
   "source": []
  },
  {
   "cell_type": "code",
   "execution_count": null,
   "metadata": {},
   "outputs": [],
   "source": []
  },
  {
   "cell_type": "code",
   "execution_count": 427,
   "metadata": {},
   "outputs": [
    {
     "data": {
      "text/plain": [
       "30.0"
      ]
     },
     "execution_count": 427,
     "metadata": {},
     "output_type": "execute_result"
    }
   ],
   "source": [
    "\n"
   ]
  },
  {
   "cell_type": "code",
   "execution_count": null,
   "metadata": {},
   "outputs": [],
   "source": []
  },
  {
   "cell_type": "code",
   "execution_count": null,
   "metadata": {},
   "outputs": [],
   "source": []
  },
  {
   "cell_type": "code",
   "execution_count": null,
   "metadata": {},
   "outputs": [],
   "source": []
  },
  {
   "cell_type": "code",
   "execution_count": null,
   "metadata": {},
   "outputs": [],
   "source": [
    "  "
   ]
  },
  {
   "cell_type": "code",
   "execution_count": null,
   "metadata": {},
   "outputs": [],
   "source": []
  },
  {
   "cell_type": "code",
   "execution_count": null,
   "metadata": {},
   "outputs": [],
   "source": []
  },
  {
   "cell_type": "code",
   "execution_count": null,
   "metadata": {},
   "outputs": [],
   "source": []
  },
  {
   "cell_type": "code",
   "execution_count": 468,
   "metadata": {},
   "outputs": [
    {
     "name": "stdout",
     "output_type": "stream",
     "text": [
      "Percent of player play disruptions: 0.022958343514613237\n",
      "Percent of team play disruptions: 0.37583265163024426\n"
     ]
    }
   ],
   "source": [
    "play_dets = all_data.play_details_df\n",
    "play_dets['disrupt'] = play_dets.pff_hit + play_dets.pff_hurry + play_dets.pff_sack\n",
    "print( f'Percent of player play disruptions: {play_dets.disrupt.sum() / len(play_dets.disrupt)}')\n",
    "team_dets = play_dets.groupby('playId').agg({'disrupt' : [sum]})\n",
    "team_dets.columns = [\"_\".join(x) for x in np.array(team_dets.columns).ravel()]\n",
    "team_dets = team_dets.reset_index()\n",
    "print( f'Percent of team play disruptions: {len(team_dets.loc[team_dets.disrupt_sum > 0]) / len(team_dets)}')"
   ]
  },
  {
   "cell_type": "code",
   "execution_count": null,
   "metadata": {},
   "outputs": [],
   "source": []
  },
  {
   "cell_type": "code",
   "execution_count": null,
   "metadata": {},
   "outputs": [],
   "source": [
    "# sack / hurry / hit are dependent on both pass coverage and lineman and we only care about linemen. \n",
    "# Instead of using sack / hit /hurry, use P(Sack, Hurry, Hit @ time t) given conditions for team\n",
    "# to evaluate players, need some sort of metric for 'contribution to P(Sack, Hurry, Hit @ time t) on play'\n",
    "# to do so try to do  or sommin    [ P(Sack, Hurry, Hit @ time t replacing player with rusher average) / P(Sack, Hurry, Hit @ time t) ] - P(Sack, Hurry, Hit @ time t)\n",
    "\n",
    "\n",
    "\n",
    "\n",
    "# new idea: since there is no team level time of sack\n",
    "# find model that we can track each player prob of hit/hurry/sack \n",
    "# each player route will have a prob of sack at time t. \n",
    "# to compare use average route stats in similar situation: note may have to import more data (ie. play type etc)\n",
    "\n",
    "\n",
    "# also: need to create qb_metric for 'facing rusher' "
   ]
  },
  {
   "cell_type": "code",
   "execution_count": null,
   "metadata": {},
   "outputs": [],
   "source": [
    "\n",
    "\n"
   ]
  },
  {
   "cell_type": "code",
   "execution_count": null,
   "metadata": {},
   "outputs": [],
   "source": []
  },
  {
   "cell_type": "code",
   "execution_count": null,
   "metadata": {},
   "outputs": [],
   "source": [
    "\n"
   ]
  },
  {
   "cell_type": "code",
   "execution_count": null,
   "metadata": {},
   "outputs": [],
   "source": [
    "\n",
    "\n",
    "\n",
    "\n",
    "\n",
    "\n",
    "\n",
    "\n",
    "\n",
    "\n"
   ]
  },
  {
   "cell_type": "code",
   "execution_count": null,
   "metadata": {},
   "outputs": [],
   "source": []
  },
  {
   "cell_type": "code",
   "execution_count": null,
   "metadata": {},
   "outputs": [],
   "source": []
  },
  {
   "cell_type": "code",
   "execution_count": null,
   "metadata": {},
   "outputs": [],
   "source": []
  },
  {
   "cell_type": "code",
   "execution_count": null,
   "metadata": {},
   "outputs": [],
   "source": [
    "import matplotlib.pyplot as plt\n",
    "plot_overall_avgs = all_dist_dfs.query(\"time_after_snap > 0\").groupby(by = ['time_after_snap']).mean().reset_index()\n",
    "\n",
    "plt.title = \"Average Rusher Distance From QB by Seconds After Snap\"\n",
    "plt.xlabel = \"Seconds After Snap\"\n",
    "plt.plot('time_after_snap',  'rusher_distance_from_qb', data = plot_overall_avgs, linestyle='dashed')\n",
    "plt.ylabel = \"Rusher Distance From QB\"\n",
    "plt.show()"
   ]
  },
  {
   "cell_type": "code",
   "execution_count": null,
   "metadata": {},
   "outputs": [],
   "source": []
  },
  {
   "cell_type": "code",
   "execution_count": null,
   "metadata": {},
   "outputs": [],
   "source": []
  },
  {
   "cell_type": "code",
   "execution_count": null,
   "metadata": {},
   "outputs": [],
   "source": [
    "### want to get groups of players with similar starting positions: conlusion: just use number of blockers on play for now, maybe add in weigt of blocker later\n",
    "\n",
    "# this_week_starting_pos = all_data.training_data_individual.get('1')\n",
    "# this_week_starting_pos = this_week_training_individual.loc[this_week_training_individual.time_after_snap == 0, ['playId', 'nflId', 'rusher_distance_from_qb', 'y']]\n",
    "\n",
    "\n",
    "\n",
    "# gmm_train = this_week_starting_pos.drop(['playId', 'nflId'], axis = 1)\n",
    "# gmm = mixture.GaussianMixture(n_components=2).fit(gmm_train)\n",
    "# gmm_labels = gmm.predict(gmm_train).astype(str)\n",
    "\n",
    "# this_week_starting_pos['starting_pos_class'] = gmm_labels\n",
    "# this_week_starting_pos.groupby('starting_pos_class').groups.items()\n",
    "# plot_df = this_week_starting_pos.drop(['playId', 'nflId'], axis = 1).reset_index(drop = 1)\n",
    "# plot_df.starting_pos_class.unique()\n",
    "# plot_df\n",
    "\n",
    "# groups = plot_df.groupby('starting_pos_class')\n",
    "# # Plot\n",
    "# fig, ax = plt.subplots()\n",
    "# ax.margins(0.05) # Optional, just adds 5% padding to the autoscaling\n",
    "# for name, group in groups:\n",
    "#     ax.plot(group.rusher_distance_from_qb, group.y, marker='o', linestyle='', ms=12, label=name)\n",
    "# ax.legend()\n",
    "\n",
    "# plt.show()\n",
    "\n",
    "# ret_df = this_week_starting_pos.loc[:, ['playId', 'nflId', 'starting_pos_class']]\n",
    "# ret_df"
   ]
  },
  {
   "cell_type": "code",
   "execution_count": null,
   "metadata": {},
   "outputs": [],
   "source": []
  }
 ],
 "metadata": {
  "kernelspec": {
   "display_name": "Python 3.9.12",
   "language": "python",
   "name": "python3"
  },
  "language_info": {
   "codemirror_mode": {
    "name": "ipython",
    "version": 3
   },
   "file_extension": ".py",
   "mimetype": "text/x-python",
   "name": "python",
   "nbconvert_exporter": "python",
   "pygments_lexer": "ipython3",
   "version": "3.10.6"
  },
  "orig_nbformat": 4,
  "vscode": {
   "interpreter": {
    "hash": "8b5140b98f9aa636ad904647e184ddf94a8c49b25e448223e4f659e3845abf7f"
   }
  }
 },
 "nbformat": 4,
 "nbformat_minor": 2
}
