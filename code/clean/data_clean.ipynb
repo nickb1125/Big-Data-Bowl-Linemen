{
 "cells": [
  {
   "cell_type": "code",
   "execution_count": 792,
   "metadata": {},
   "outputs": [],
   "source": [
    "import os\n",
    "\n",
    "proj_dir = '/Users/nickbachelder/Desktop/Kaggle/Linemen'\n",
    "os.chdir( os.path.join(proj_dir, 'code/objects') )\n",
    "\n",
    "%run load_modules.ipynb\n",
    "%run tracking_objects.ipynb"
   ]
  },
  {
   "cell_type": "code",
   "execution_count": 793,
   "metadata": {},
   "outputs": [
    {
     "name": "stdout",
     "output_type": "stream",
     "text": [
      "Warning: Your Kaggle API key is readable by other users on this system! To fix this, you can run 'chmod 600 /Users/nickbachelder/.kaggle/kaggle.json'\n",
      "Downloading nfl-big-data-bowl-2023.zip to /Users/nickbachelder/Desktop/Kaggle/Linemen/data\n"
     ]
    },
    {
     "name": "stderr",
     "output_type": "stream",
     "text": [
      "100%|██████████| 172M/172M [00:13<00:00, 13.3MB/s] \n"
     ]
    },
    {
     "name": "stdout",
     "output_type": "stream",
     "text": [
      "\n",
      "Archive:  /Users/nickbachelder/Desktop/Kaggle/Linemen/data/nfl-big-data-bowl-2023.zip\n",
      "  inflating: games.csv               \n",
      "  inflating: pffScoutingData.csv     \n",
      "  inflating: players.csv             \n",
      "  inflating: plays.csv               \n",
      "  inflating: week1.csv               \n",
      "  inflating: week2.csv               \n",
      "  inflating: week3.csv               \n",
      "  inflating: week4.csv               \n",
      "  inflating: week5.csv               \n",
      "  inflating: week6.csv               \n",
      "  inflating: week7.csv               \n",
      "  inflating: week8.csv               \n"
     ]
    }
   ],
   "source": [
    "data_dir = os.path.join(proj_dir, 'data' )\n",
    "os.chdir( proj_dir )\n",
    "os.system(\"rm -rf {}\".format( data_dir ))\n",
    "os.system('mkdir data')\n",
    "os.chdir( data_dir )\n",
    "os.system(\"kaggle competitions download -c nfl-big-data-bowl-2023\")\n",
    "os.system( 'unzip {}.zip'.format( os.path.join(data_dir, 'nfl-big-data-bowl-2023')) )\n",
    "\n",
    "curr_cd = os.getcwd()\n",
    "files = [x for x in os.listdir(curr_cd) if os.path.isfile(os.path.join(curr_cd, x))]\n",
    "\n",
    "player_files = [os.path.join(curr_cd, x) for x in files if x.endswith('players.csv')]\n",
    "player_tracking_files = [os.path.join(curr_cd, x) for x in files if x.startswith('week')]\n",
    "play_details_files = [os.path.join(curr_cd, x) for x in files if x.endswith('ScoutingData.csv')]\n",
    "play_info_files = [os.path.join(curr_cd, x) for x in files if x.endswith('plays.csv')]\n"
   ]
  },
  {
   "cell_type": "code",
   "execution_count": 794,
   "metadata": {},
   "outputs": [],
   "source": [
    "all_data = master_track(track_paths = player_tracking_files, \n",
    "                            play_info_path = play_info_files[0],\n",
    "                            play_details_path = play_details_files[0],\n",
    "                            players_path = player_files[0])"
   ]
  },
  {
   "cell_type": "code",
   "execution_count": 795,
   "metadata": {},
   "outputs": [
    {
     "name": "stdout",
     "output_type": "stream",
     "text": [
      "Getting week 1 training data\n"
     ]
    },
    {
     "name": "stderr",
     "output_type": "stream",
     "text": [
      "100%|██████████| 1170/1170 [05:50<00:00,  3.34it/s]\n"
     ]
    },
    {
     "name": "stdout",
     "output_type": "stream",
     "text": [
      "Getting week 2 training data\n"
     ]
    },
    {
     "name": "stderr",
     "output_type": "stream",
     "text": [
      "100%|██████████| 1062/1062 [05:29<00:00,  3.22it/s]\n"
     ]
    },
    {
     "name": "stdout",
     "output_type": "stream",
     "text": [
      "Done\n"
     ]
    }
   ],
   "source": [
    "all_data.load_training_data(week = 3)"
   ]
  },
  {
   "cell_type": "code",
   "execution_count": 796,
   "metadata": {},
   "outputs": [
    {
     "name": "stdout",
     "output_type": "stream",
     "text": [
      "Getting week 1 average metrics by position and blocker number\n",
      "Getting week 2 average metrics by position and blocker number\n",
      "Done\n"
     ]
    }
   ],
   "source": [
    "all_data.get_averages_up_to_week(week = 3)"
   ]
  },
  {
   "cell_type": "code",
   "execution_count": 797,
   "metadata": {},
   "outputs": [
    {
     "name": "stdout",
     "output_type": "stream",
     "text": [
      "Length train : 936\n",
      "Length test : 234\n"
     ]
    }
   ],
   "source": [
    "# figure out where these issues are coming from later and fix\n",
    "\n",
    "all_dat_labels = all_data.get_rush_sequences_labels(week = 2, normalize = True)\n",
    "\n",
    "training_dat, test_dat = train_test_split(all_dat_labels, test_size = 0.2)\n",
    "\n",
    "print(f'Length train : {len(training_dat)}')\n",
    "print(f'Length test : {len(test_dat)}')"
   ]
  },
  {
   "cell_type": "code",
   "execution_count": 798,
   "metadata": {},
   "outputs": [
    {
     "name": "stdout",
     "output_type": "stream",
     "text": [
      "Epoch 0\n",
      "---------\n",
      "Overall Train loss: 0.6627775932613172 , Overall Train AUC: 0.5252436439234791\n",
      "Train loss for period 1: 0.6648907881034049 , Train AUC for period 1: 0.5136135756148998\n",
      "Train loss for period 2: 0.6641355251011095 , Train AUC for period 2: 0.5214295593320091\n",
      "Train loss for period 3: 0.663748468223371 , Train AUC for period 3: 0.5233756590401923\n",
      "Train loss for period 4: 0.6626910724137959 , Train AUC for period 4: 0.5270977709114986\n",
      "Train loss for period 5: 0.6609214701150593 , Train AUC for period 5: 0.5341555212241594\n",
      "Train loss for period 6: 0.6602782011032104 , Train AUC for period 6: 0.5379433531964981\n",
      "Overall test loss: 0.6817781090736389 , Overall test AUC: 0.6025396766014051\n",
      "Test loss for period 1: 0.6829615592956543 , Test AUC for period 1: 0.5303434343434343\n",
      "Test loss for period 2: 0.6825774908065796 , Test AUC for period 2: 0.5658062102506547\n",
      "Test loss for period 3: 0.6824111580848694 , Test AUC for period 3: 0.5851672278338945\n",
      "Test loss for period 4: 0.6817907452583313 , Test AUC for period 4: 0.6197934904601571\n",
      "Test loss for period 5: 0.6808742046356201 , Test AUC for period 5: 0.6639850355405911\n",
      "Test loss for period 6: 0.6800536274909973 , Test AUC for period 6: 0.7104377104377104\n",
      "\n",
      "Epoch 1\n",
      "---------\n",
      "Overall Train loss: 0.6592538513635334 , Overall Train AUC: 0.5085015081291842\n",
      "Train loss for period 1: 0.6614000514933938 , Train AUC for period 1: 0.4897598273621227\n",
      "Train loss for period 2: 0.660769986478906 , Train AUC for period 2: 0.49273174918462936\n",
      "Train loss for period 3: 0.6603509124956632 , Train AUC for period 3: 0.4968926162976042\n",
      "Train loss for period 4: 0.6594928283440439 , Train AUC for period 4: 0.5054119031854631\n",
      "Train loss for period 5: 0.6574687487200687 , Train AUC for period 5: 0.5298161308516638\n",
      "Train loss for period 6: 0.6560405900603846 , Train AUC for period 6: 0.5466863826969763\n",
      "Overall test loss: 0.6838985562324524 , Overall test AUC: 0.6225975807457289\n",
      "Test loss for period 1: 0.6860377430915833 , Test AUC for period 1: 0.5441316872427984\n",
      "Test loss for period 2: 0.6874720692634583 , Test AUC for period 2: 0.5717919940142162\n",
      "Test loss for period 3: 0.6860312581062317 , Test AUC for period 3: 0.5991889263000374\n",
      "Test loss for period 4: 0.6837417483329773 , Test AUC for period 4: 0.6418106995884774\n",
      "Test loss for period 5: 0.681189215183258 , Test AUC for period 5: 0.7043262252151141\n",
      "Test loss for period 6: 0.6789194107055664 , Test AUC for period 6: 0.7667923681257014\n",
      "\n",
      "Epoch 2\n",
      "---------\n",
      "Overall Train loss: 0.6547031998634338 , Overall Train AUC: 0.5588342937950089\n",
      "Train loss for period 1: 0.6583826322304575 , Train AUC for period 1: 0.5031702592020403\n",
      "Train loss for period 2: 0.6575534877024198 , Train AUC for period 2: 0.5138526202211923\n",
      "Train loss for period 3: 0.6566928938815468 , Train AUC for period 3: 0.5272418646852546\n",
      "Train loss for period 4: 0.655117298427381 , Train AUC for period 4: 0.5586957993084676\n",
      "Train loss for period 5: 0.6516351511603907 , Train AUC for period 5: 0.6223328674072439\n",
      "Train loss for period 6: 0.6488377044075414 , Train AUC for period 6: 0.676187743691606\n",
      "Overall test loss: 0.6724749445915222 , Overall test AUC: 0.6308527247786507\n",
      "Test loss for period 1: 0.6795605182647705 , Test AUC for period 1: 0.5512308267863824\n",
      "Test loss for period 2: 0.6780396461486816 , Test AUC for period 2: 0.5784197530864198\n",
      "Test loss for period 3: 0.6755683422088623 , Test AUC for period 3: 0.6115286195286196\n",
      "Test loss for period 4: 0.6715895652770996 , Test AUC for period 4: 0.6583913206135429\n",
      "Test loss for period 5: 0.6669847130775451 , Test AUC for period 5: 0.7144481855592968\n",
      "Test loss for period 6: 0.6631067752838135 , Test AUC for period 6: 0.7783299663299663\n",
      "\n",
      "Epoch 3\n",
      "---------\n",
      "Overall Train loss: 0.6527348411710638 , Overall Train AUC: 0.5740623251074218\n",
      "Train loss for period 1: 0.6653489282256678 , Train AUC for period 1: 0.5092286716201967\n",
      "Train loss for period 2: 0.6631242632865906 , Train AUC for period 2: 0.5217889600039236\n",
      "Train loss for period 3: 0.6581448755766216 , Train AUC for period 3: 0.5408785894700703\n",
      "Train loss for period 4: 0.6525656047620272 , Train AUC for period 4: 0.5742316388337134\n",
      "Train loss for period 5: 0.64266164051859 , Train AUC for period 5: 0.6462839206454302\n",
      "Train loss for period 6: 0.6345637660277518 , Train AUC for period 6: 0.7127031069913436\n",
      "Overall test loss: 0.6673076033592225 , Overall test AUC: 0.6333670033670034\n",
      "Test loss for period 1: 0.6821085453033447 , Test AUC for period 1: 0.5703374485596708\n",
      "Test loss for period 2: 0.6753769874572754 , Test AUC for period 2: 0.5816954732510289\n",
      "Test loss for period 3: 0.6707128643989563 , Test AUC for period 3: 0.6190946502057613\n",
      "Test loss for period 4: 0.6648393988609314 , Test AUC for period 4: 0.6697852600074823\n",
      "Test loss for period 5: 0.6583439230918884 , Test AUC for period 5: 0.7155824915824915\n",
      "Test loss for period 6: 0.6524640560150147 , Test AUC for period 6: 0.7711425364758698\n",
      "\n",
      "Epoch 4\n",
      "---------\n",
      "Overall Train loss: 0.6542709658020421 , Overall Train AUC: 0.5590413148379749\n",
      "Train loss for period 1: 0.6615005543357447 , Train AUC for period 1: 0.507445302729346\n",
      "Train loss for period 2: 0.6611289036901373 , Train AUC for period 2: 0.5169588268471517\n",
      "Train loss for period 3: 0.6593432959757353 , Train AUC for period 3: 0.5305420927438143\n",
      "Train loss for period 4: 0.6559485761742843 , Train AUC for period 4: 0.5568154197013169\n",
      "Train loss for period 5: 0.6475803161922254 , Train AUC for period 5: 0.6102471370067928\n",
      "Train loss for period 6: 0.6401242456938091 , Train AUC for period 6: 0.6579453149905589\n",
      "Overall test loss: 0.6732208490371704 , Overall test AUC: 0.6403221931246623\n",
      "Test loss for period 1: 0.6897401332855224 , Test AUC for period 1: 0.5596797605686494\n",
      "Test loss for period 2: 0.6843096733093261 , Test AUC for period 2: 0.5835600448933782\n",
      "Test loss for period 3: 0.6784338355064392 , Test AUC for period 3: 0.62356303778526\n",
      "Test loss for period 4: 0.6709990262985229 , Test AUC for period 4: 0.6645222596333707\n",
      "Test loss for period 5: 0.6620880365371704 , Test AUC for period 5: 0.7170071081182192\n",
      "Test loss for period 6: 0.6537543058395385 , Test AUC for period 6: 0.7820576131687242\n",
      "\n",
      "Epoch 5\n",
      "---------\n",
      "Overall Train loss: 0.6467532923347071 , Overall Train AUC: 0.5870272743868712\n",
      "Train loss for period 1: 0.660169149699964 , Train AUC for period 1: 0.5155638931803135\n",
      "Train loss for period 2: 0.6577899957958021 , Train AUC for period 2: 0.5334844895657078\n",
      "Train loss for period 3: 0.653572534259997 , Train AUC for period 3: 0.56002069692734\n",
      "Train loss for period 4: 0.6480009869525307 , Train AUC for period 4: 0.5911103263934868\n",
      "Train loss for period 5: 0.6359723147593046 , Train AUC for period 5: 0.663339562029476\n",
      "Train loss for period 6: 0.6250147850889909 , Train AUC for period 6: 0.7276294171019397\n",
      "Overall test loss: 0.662589943408966 , Overall test AUC: 0.6417242798353909\n",
      "Test loss for period 1: 0.6944864392280579 , Test AUC for period 1: 0.566853722409278\n",
      "Test loss for period 2: 0.679932689666748 , Test AUC for period 2: 0.5855503179947625\n",
      "Test loss for period 3: 0.6689247012138366 , Test AUC for period 3: 0.6272562663673775\n",
      "Test loss for period 4: 0.6583849668502808 , Test AUC for period 4: 0.6670946502057613\n",
      "Test loss for period 5: 0.6446982383728027 , Test AUC for period 5: 0.7164878413767304\n",
      "Test loss for period 6: 0.6291127800941467 , Test AUC for period 6: 0.7830003741114853\n",
      "\n",
      "Epoch 6\n",
      "---------\n",
      "Overall Train loss: 0.6444786787033081 , Overall Train AUC: 0.5857169539877551\n",
      "Train loss for period 1: 0.6641493094594855 , Train AUC for period 1: 0.5111954682557199\n",
      "Train loss for period 2: 0.661256332146494 , Train AUC for period 2: 0.5197089678510998\n",
      "Train loss for period 3: 0.6549468354174965 , Train AUC for period 3: 0.5414634002795556\n",
      "Train loss for period 4: 0.6469633955704538 , Train AUC for period 4: 0.5829117928345472\n",
      "Train loss for period 5: 0.6287169142773277 , Train AUC for period 5: 0.6586452831114054\n",
      "Train loss for period 6: 0.6108393229936299 , Train AUC for period 6: 0.727057946492067\n",
      "Overall test loss: 0.6558497786521912 , Overall test AUC: 0.64394022529825\n",
      "Test loss for period 1: 0.6963947772979736 , Test AUC for period 1: 0.5547115600448934\n",
      "Test loss for period 2: 0.6817488431930542 , Test AUC for period 2: 0.5855712682379349\n",
      "Test loss for period 3: 0.6664499759674072 , Test AUC for period 3: 0.6308267863823419\n",
      "Test loss for period 4: 0.6522486329078674 , Test AUC for period 4: 0.6673879536101759\n",
      "Test loss for period 5: 0.6322224020957947 , Test AUC for period 5: 0.7143374485596707\n",
      "Test loss for period 6: 0.6060341358184814 , Test AUC for period 6: 0.7851402918069585\n",
      "\n",
      "Epoch 7\n",
      "---------\n",
      "Overall Train loss: 0.6478413249316969 , Overall Train AUC: 0.5918602194484633\n",
      "Train loss for period 1: 0.6677877997097216 , Train AUC for period 1: 0.5150015449128228\n",
      "Train loss for period 2: 0.6654817587450931 , Train AUC for period 2: 0.5267630888447485\n",
      "Train loss for period 3: 0.6602325596307453 , Train AUC for period 3: 0.5490508349885972\n",
      "Train loss for period 4: 0.6515862439808092 , Train AUC for period 4: 0.5861014737977881\n",
      "Train loss for period 5: 0.631638090861471 , Train AUC for period 5: 0.6564039333970917\n",
      "Train loss for period 6: 0.6103214119610033 , Train AUC for period 6: 0.7199044606292455\n",
      "Overall test loss: 0.6687724113464355 , Overall test AUC: 0.6540982666167852\n",
      "Test loss for period 1: 0.6847954273223877 , Test AUC for period 1: 0.558320987654321\n",
      "Test loss for period 2: 0.6791771054267883 , Test AUC for period 2: 0.5916199027310138\n",
      "Test loss for period 3: 0.6745798468589783 , Test AUC for period 3: 0.6290909090909091\n",
      "Test loss for period 4: 0.6686447024345398 , Test AUC for period 4: 0.6603037785260008\n",
      "Test loss for period 5: 0.658534836769104 , Test AUC for period 5: 0.7146666666666666\n",
      "Test loss for period 6: 0.646902573108673 , Test AUC for period 6: 0.7765746352413019\n",
      "\n",
      "Epoch 8\n",
      "---------\n",
      "Overall Train loss: 0.6415712300099825 , Overall Train AUC: 0.6161214105299296\n",
      "Train loss for period 1: 0.6536597107586107 , Train AUC for period 1: 0.5402300203536134\n",
      "Train loss for period 2: 0.6530194658982126 , Train AUC for period 2: 0.547451188111528\n",
      "Train loss for period 3: 0.6499200902487102 , Train AUC for period 3: 0.5675208318006817\n",
      "Train loss for period 4: 0.6442493263043856 , Train AUC for period 4: 0.6071570170921307\n",
      "Train loss for period 5: 0.6304280569678858 , Train AUC for period 5: 0.6860501728831017\n",
      "Train loss for period 6: 0.6181506545920121 , Train AUC for period 6: 0.745185708330268\n",
      "Overall test loss: 0.6804985642433167 , Overall test AUC: 0.6540504219146194\n",
      "Test loss for period 1: 0.7220726013183594 , Test AUC for period 1: 0.5595630377852601\n",
      "Test loss for period 2: 0.7082056522369384 , Test AUC for period 2: 0.5929457538346428\n",
      "Test loss for period 3: 0.6949980020523071 , Test AUC for period 3: 0.6282020202020202\n",
      "Test loss for period 4: 0.6784576058387757 , Test AUC for period 4: 0.6577717919940141\n",
      "Test loss for period 5: 0.6535587787628174 , Test AUC for period 5: 0.7094859708193042\n",
      "Test loss for period 6: 0.6256991744041442 , Test AUC for period 6: 0.7753265993265993\n",
      "\n",
      "Epoch 9\n",
      "---------\n",
      "Overall Train loss: 0.6416911953373959 , Overall Train AUC: 0.6005374116852084\n",
      "Train loss for period 1: 0.6692544786553634 , Train AUC for period 1: 0.5157051423526815\n",
      "Train loss for period 2: 0.6657214196104753 , Train AUC for period 2: 0.5219852374996935\n",
      "Train loss for period 3: 0.6577262878417969 , Train AUC for period 3: 0.5443517496750778\n",
      "Train loss for period 4: 0.6455639443899456 , Train AUC for period 4: 0.5867394492263175\n",
      "Train loss for period 5: 0.61858899656095 , Train AUC for period 5: 0.6769605924618063\n",
      "Train loss for period 6: 0.5932920826108832 , Train AUC for period 6: 0.7536702714632532\n",
      "Overall test loss: 0.649205231666565 , Overall test AUC: 0.6511861828158124\n",
      "Test loss for period 1: 0.689877188205719 , Test AUC for period 1: 0.5629779274223718\n",
      "Test loss for period 2: 0.672600519657135 , Test AUC for period 2: 0.590608305274972\n",
      "Test loss for period 3: 0.65971440076828 , Test AUC for period 3: 0.6323292181069958\n",
      "Test loss for period 4: 0.6466829061508179 , Test AUC for period 4: 0.6641197156752712\n",
      "Test loss for period 5: 0.6264280915260315 , Test AUC for period 5: 0.7128799102132435\n",
      "Test loss for period 6: 0.5999282956123352 , Test AUC for period 6: 0.7813812196034419\n",
      "\n",
      "Epoch 10\n",
      "---------\n",
      "Overall Train loss: 0.639915196519149 , Overall Train AUC: 0.6070116481522352\n",
      "Train loss for period 1: 0.6630245666754874 , Train AUC for period 1: 0.5234147968317027\n",
      "Train loss for period 2: 0.6621016765895643 , Train AUC for period 2: 0.5337714019470806\n",
      "Train loss for period 3: 0.6562970155163815 , Train AUC for period 3: 0.5590512763922608\n",
      "Train loss for period 4: 0.646408664552789 , Train AUC for period 4: 0.5921135878761127\n",
      "Train loss for period 5: 0.6196567886754086 , Train AUC for period 5: 0.6726526888839844\n",
      "Train loss for period 6: 0.5920024357343975 , Train AUC for period 6: 0.7435020966674024\n",
      "Overall test loss: 0.6503621816635132 , Overall test AUC: 0.6557895830735336\n",
      "Test loss for period 1: 0.6901796340942383 , Test AUC for period 1: 0.544858959970071\n",
      "Test loss for period 2: 0.6728237748146058 , Test AUC for period 2: 0.5878309016086793\n",
      "Test loss for period 3: 0.6621182322502136 , Test AUC for period 3: 0.6375802469135803\n",
      "Test loss for period 4: 0.6497779130935669 , Test AUC for period 4: 0.6679536101758323\n",
      "Test loss for period 5: 0.6288151383399964 , Test AUC for period 5: 0.7172854470632248\n",
      "Test loss for period 6: 0.5984583139419556 , Test AUC for period 6: 0.7916827534605313\n",
      "\n",
      "Epoch 11\n",
      "---------\n",
      "Overall Train loss: 0.6325637980511314 , Overall Train AUC: 0.6243112522512949\n",
      "Train loss for period 1: 0.6592598557472229 , Train AUC for period 1: 0.5288352338213296\n",
      "Train loss for period 2: 0.6589420845634059 , Train AUC for period 2: 0.5440054930233699\n",
      "Train loss for period 3: 0.6528540441864416 , Train AUC for period 3: 0.5711484832879669\n",
      "Train loss for period 4: 0.6409472729030409 , Train AUC for period 4: 0.6075900831310234\n",
      "Train loss for period 5: 0.6089403158739993 , Train AUC for period 5: 0.6911145442507174\n",
      "Train loss for period 6: 0.5744392511091734 , Train AUC for period 6: 0.7648852595698765\n",
      "Overall test loss: 0.6633669257164001 , Overall test AUC: 0.6581611589142453\n",
      "Test loss for period 1: 0.7238911390304565 , Test AUC for period 1: 0.505598204264871\n",
      "Test loss for period 2: 0.6998000025749207 , Test AUC for period 2: 0.571576505798728\n",
      "Test loss for period 3: 0.6798420429229737 , Test AUC for period 3: 0.6280882903105125\n",
      "Test loss for period 4: 0.6618639826774597 , Test AUC for period 4: 0.6619289188178077\n",
      "Test loss for period 5: 0.6308812737464905 , Test AUC for period 5: 0.7136520763187431\n",
      "Test loss for period 6: 0.5839229226112366 , Test AUC for period 6: 0.7928260381593716\n",
      "\n",
      "Epoch 12\n",
      "---------\n",
      "Overall Train loss: 0.6325029824909411 , Overall Train AUC: 0.6262044053175517\n",
      "Train loss for period 1: 0.6640248486870214 , Train AUC for period 1: 0.524272787464136\n",
      "Train loss for period 2: 0.6620383419488606 , Train AUC for period 2: 0.5394993501557174\n",
      "Train loss for period 3: 0.6545442436870775 , Train AUC for period 3: 0.5721076044042277\n",
      "Train loss for period 4: 0.6405595101808247 , Train AUC for period 4: 0.6131689349910494\n",
      "Train loss for period 5: 0.6058861519161024 , Train AUC for period 5: 0.6897534515314254\n",
      "Train loss for period 6: 0.5679646385343451 , Train AUC for period 6: 0.7580074057725792\n",
      "Overall test loss: 0.6599480628967285 , Overall test AUC: 0.6606564409527373\n",
      "Test loss for period 1: 0.7201045870780944 , Test AUC for period 1: 0.5007048260381594\n",
      "Test loss for period 2: 0.6969710707664489 , Test AUC for period 2: 0.5767871305649084\n",
      "Test loss for period 3: 0.6794263601303101 , Test AUC for period 3: 0.631221848110737\n",
      "Test loss for period 4: 0.6605898857116699 , Test AUC for period 4: 0.6647033295922186\n",
      "Test loss for period 5: 0.6268364548683166 , Test AUC for period 5: 0.7172615039281706\n",
      "Test loss for period 6: 0.5757599949836731 , Test AUC for period 6: 0.800383090160868\n",
      "\n",
      "Epoch 13\n",
      "---------\n",
      "Overall Train loss: 0.6255877833617361 , Overall Train AUC: 0.6368581132445621\n",
      "Train loss for period 1: 0.6637961676246241 , Train AUC for period 1: 0.513256038647343\n",
      "Train loss for period 2: 0.6588044856723986 , Train AUC for period 2: 0.5415391255302975\n",
      "Train loss for period 3: 0.6487125126939071 , Train AUC for period 3: 0.580293680570882\n",
      "Train loss for period 4: 0.6333456353137368 , Train AUC for period 4: 0.6226223301208955\n",
      "Train loss for period 5: 0.5958623635141473 , Train AUC for period 5: 0.702931999313372\n",
      "Train loss for period 6: 0.5530055510370355 , Train AUC for period 6: 0.7802502268324383\n",
      "Overall test loss: 0.6454042434692383 , Overall test AUC: 0.6507894168017625\n",
      "Test loss for period 1: 0.7052050828933716 , Test AUC for period 1: 0.5150662177328844\n",
      "Test loss for period 2: 0.6800427675247193 , Test AUC for period 2: 0.5756977179199401\n",
      "Test loss for period 3: 0.6583974957466125 , Test AUC for period 3: 0.6335652824541713\n",
      "Test loss for period 4: 0.6414386034011841 , Test AUC for period 4: 0.6680763187429855\n",
      "Test loss for period 5: 0.6164244890213013 , Test AUC for period 5: 0.7143224841002619\n",
      "Test loss for period 6: 0.5709171056747436 , Test AUC for period 6: 0.7927422371866817\n",
      "\n",
      "Epoch 14\n",
      "---------\n",
      "Overall Train loss: 0.6259248413537678 , Overall Train AUC: 0.6339191931576982\n",
      "Train loss for period 1: 0.6616044358203286 , Train AUC for period 1: 0.5292953726182594\n",
      "Train loss for period 2: 0.6598538724999679 , Train AUC for period 2: 0.5444735770862454\n",
      "Train loss for period 3: 0.6514943775377775 , Train AUC for period 3: 0.5751358297162755\n",
      "Train loss for period 4: 0.6362561238439459 , Train AUC for period 4: 0.6130985065842713\n",
      "Train loss for period 5: 0.5959507666136089 , Train AUC for period 5: 0.6997172073861547\n",
      "Train loss for period 6: 0.5503894467102853 , Train AUC for period 6: 0.773373353932171\n",
      "Overall test loss: 0.647845196723938 , Overall test AUC: 0.6529824167601945\n",
      "Test loss for period 1: 0.6840158820152282 , Test AUC for period 1: 0.5123591470258138\n",
      "Test loss for period 2: 0.6749863982200622 , Test AUC for period 2: 0.574964459408904\n",
      "Test loss for period 3: 0.6642861366271973 , Test AUC for period 3: 0.6366868686868687\n",
      "Test loss for period 4: 0.6518030762672424 , Test AUC for period 4: 0.6723441825664048\n",
      "Test loss for period 5: 0.6266187191009521 , Test AUC for period 5: 0.7245342312008978\n",
      "Test loss for period 6: 0.5853610396385193 , Test AUC for period 6: 0.8032921810699588\n",
      "\n",
      "Epoch 15\n",
      "---------\n",
      "Overall Train loss: 0.6275941447207802 , Overall Train AUC: 0.6330416554272216\n",
      "Train loss for period 1: 0.6590733371282879 , Train AUC for period 1: 0.5225214939061772\n",
      "Train loss for period 2: 0.6588932150288632 , Train AUC for period 2: 0.5361693028274357\n",
      "Train loss for period 3: 0.6516599561038771 , Train AUC for period 3: 0.5704324284558229\n",
      "Train loss for period 4: 0.6365347975178769 , Train AUC for period 4: 0.6148021285465558\n",
      "Train loss for period 5: 0.5989009424259788 , Train AUC for period 5: 0.7022702861767087\n",
      "Train loss for period 6: 0.5605025699264125 , Train AUC for period 6: 0.7767238039186837\n",
      "Overall test loss: 0.6381448984146119 , Overall test AUC: 0.6621266990896622\n",
      "Test loss for period 1: 0.710282051563263 , Test AUC for period 1: 0.4994298540965208\n",
      "Test loss for period 2: 0.6825384497642517 , Test AUC for period 2: 0.5725252525252525\n",
      "Test loss for period 3: 0.6601222515106201 , Test AUC for period 3: 0.6316139169472503\n",
      "Test loss for period 4: 0.6385538816452027 , Test AUC for period 4: 0.667863823419379\n",
      "Test loss for period 5: 0.6000677108764648 , Test AUC for period 5: 0.7233670033670033\n",
      "Test loss for period 6: 0.5373050808906555 , Test AUC for period 6: 0.8075869809203142\n",
      "\n",
      "Epoch 16\n",
      "---------\n",
      "Overall Train loss: 0.6193821398835433 , Overall Train AUC: 0.6498828781698641\n",
      "Train loss for period 1: 0.6625825292185733 , Train AUC for period 1: 0.5446469996812084\n",
      "Train loss for period 2: 0.6609667288629633 , Train AUC for period 2: 0.5593345594546213\n",
      "Train loss for period 3: 0.6493524375714754 , Train AUC for period 3: 0.5959320238357979\n",
      "Train loss for period 4: 0.6306268541436446 , Train AUC for period 4: 0.6327248829054171\n",
      "Train loss for period 5: 0.5820404306838387 , Train AUC for period 5: 0.7186368473969444\n",
      "Train loss for period 6: 0.5307238462724184 , Train AUC for period 6: 0.7867288555383898\n",
      "Overall test loss: 0.6519028544425964 , Overall test AUC: 0.6513130481772457\n",
      "Test loss for period 1: 0.7111170291900635 , Test AUC for period 1: 0.45971717171717175\n",
      "Test loss for period 2: 0.6897602677345276 , Test AUC for period 2: 0.5394448185559296\n",
      "Test loss for period 3: 0.6729890823364257 , Test AUC for period 3: 0.6169307893752338\n",
      "Test loss for period 4: 0.6553666830062866 , Test AUC for period 4: 0.6597949869060981\n",
      "Test loss for period 5: 0.6204083859920502 , Test AUC for period 5: 0.7231185933408155\n",
      "Test loss for period 6: 0.5617758154869079 , Test AUC for period 6: 0.8092869435091657\n",
      "\n",
      "Epoch 17\n",
      "---------\n",
      "Overall Train loss: 0.6140616096948323 , Overall Train AUC: 0.6547739059592219\n",
      "Train loss for period 1: 0.6610584384516666 , Train AUC for period 1: 0.5329047794207803\n",
      "Train loss for period 2: 0.6568122506141663 , Train AUC for period 2: 0.5550552980700851\n",
      "Train loss for period 3: 0.6459461983881498 , Train AUC for period 3: 0.596639839132887\n",
      "Train loss for period 4: 0.6253482385685569 , Train AUC for period 4: 0.6393227886902573\n",
      "Train loss for period 5: 0.5759023945582541 , Train AUC for period 5: 0.7220673385811324\n",
      "Train loss for period 6: 0.5193021752332386 , Train AUC for period 6: 0.7977013658991148\n",
      "Overall test loss: 0.6293461680412292 , Overall test AUC: 0.6607801471505175\n",
      "Test loss for period 1: 0.6969769716262817 , Test AUC for period 1: 0.4866681631126075\n",
      "Test loss for period 2: 0.6743178009986878 , Test AUC for period 2: 0.5642618780396558\n",
      "Test loss for period 3: 0.6549243927001953 , Test AUC for period 3: 0.6298780396558175\n",
      "Test loss for period 4: 0.6304535150527955 , Test AUC for period 4: 0.6682918069584736\n",
      "Test loss for period 5: 0.5914470672607421 , Test AUC for period 5: 0.7261922933034044\n",
      "Test loss for period 6: 0.5279574275016785 , Test AUC for period 6: 0.8091283202394313\n",
      "\n",
      "Epoch 18\n",
      "---------\n",
      "Overall Train loss: 0.6170280763977453 , Overall Train AUC: 0.6586928838645163\n",
      "Train loss for period 1: 0.6567770211320174 , Train AUC for period 1: 0.5299998528654455\n",
      "Train loss for period 2: 0.6559687413667378 , Train AUC for period 2: 0.5587876112705069\n",
      "Train loss for period 3: 0.6491512342503196 , Train AUC for period 3: 0.6017605139900439\n",
      "Train loss for period 4: 0.6304435196675753 , Train AUC for period 4: 0.6530145417984747\n",
      "Train loss for period 5: 0.5806609941156287 , Train AUC for period 5: 0.7336328011966943\n",
      "Train loss for period 6: 0.52916703255553 , Train AUC for period 6: 0.8012400500257486\n",
      "Overall test loss: 0.6438578844070435 , Overall test AUC: 0.6562163195743442\n",
      "Test loss for period 1: 0.7262556910514831 , Test AUC for period 1: 0.47701608679386454\n",
      "Test loss for period 2: 0.6885033488273621 , Test AUC for period 2: 0.5498600823045268\n",
      "Test loss for period 3: 0.662278699874878 , Test AUC for period 3: 0.6213123830901608\n",
      "Test loss for period 4: 0.6389854073524475 , Test AUC for period 4: 0.6671844369622147\n",
      "Test loss for period 5: 0.6065115571022034 , Test AUC for period 5: 0.7218825289936402\n",
      "Test loss for period 6: 0.5406124413013458 , Test AUC for period 6: 0.8016161616161617\n",
      "\n",
      "Epoch 19\n",
      "---------\n",
      "Overall Train loss: 0.6087873546700728 , Overall Train AUC: 0.6705017778758675\n",
      "Train loss for period 1: 0.6607577487042076 , Train AUC for period 1: 0.5435230878638515\n",
      "Train loss for period 2: 0.6541234725400021 , Train AUC for period 2: 0.5722741607199784\n",
      "Train loss for period 3: 0.6409308126098231 , Train AUC for period 3: 0.6159125039848943\n",
      "Train loss for period 4: 0.6179305440501163 , Train AUC for period 4: 0.6623891708967851\n",
      "Train loss for period 5: 0.5689560896471927 , Train AUC for period 5: 0.7355584001569435\n",
      "Train loss for period 6: 0.5100254949770475 , Train AUC for period 6: 0.8086079599794012\n",
      "Overall test loss: 0.6366581797599793 , Overall test AUC: 0.6574514694267781\n",
      "Test loss for period 1: 0.6944161057472229 , Test AUC for period 1: 0.48731762065095396\n",
      "Test loss for period 2: 0.6792794227600097 , Test AUC for period 2: 0.5626157875046764\n",
      "Test loss for period 3: 0.665524172782898 , Test AUC for period 3: 0.6309973812196034\n",
      "Test loss for period 4: 0.6408218502998352 , Test AUC for period 4: 0.6718952487841376\n",
      "Test loss for period 5: 0.6017750859260559 , Test AUC for period 5: 0.7299633370744482\n",
      "Test loss for period 6: 0.5381325602531433 , Test AUC for period 6: 0.8080089786756455\n",
      "\n"
     ]
    }
   ],
   "source": [
    "# model building\n",
    "\n",
    "model = SequenceModel(n_features = training_dat[0][0].shape[1], n_classes = 2, n_hidden = 15, n_layers = 1)\n",
    "loss_function = torch.nn.CrossEntropyLoss()\n",
    "optimizer = torch.optim.Adam(model.parameters(), lr= 0.01)\n",
    "train_dataset = RushDataset(sequences = training_dat, sequence_length=30)\n",
    "train_loader = DataLoader(train_dataset, batch_size = 50, shuffle = True)\n",
    "test_dataset = RushDataset(sequences = test_dat, sequence_length=30)\n",
    "test_loader = DataLoader(test_dataset, batch_size = 50, shuffle = True)\n",
    "\n",
    "lstm_model = train_rush_lstm(train_loader, test_loader, model, loss_function, optimizer, num_epochs = 20)"
   ]
  },
  {
   "cell_type": "code",
   "execution_count": null,
   "metadata": {},
   "outputs": [],
   "source": []
  },
  {
   "cell_type": "code",
   "execution_count": null,
   "metadata": {},
   "outputs": [],
   "source": []
  },
  {
   "cell_type": "code",
   "execution_count": null,
   "metadata": {},
   "outputs": [],
   "source": []
  },
  {
   "cell_type": "code",
   "execution_count": 803,
   "metadata": {},
   "outputs": [],
   "source": [
    "### plotting all below\n",
    "\n",
    "play_id = 2021091209198\n",
    "\n",
    "play_prob = predict_play(master_track = all_data, play_id = play_id, model = lstm_model, normalize = True)\n",
    "player_metrics = get_all_player_metrics_on_play(master_track = all_data, play_id = play_id, model = lstm_model)\n",
    "\n",
    "\n",
    "rusher_play_info = all_data.get_play(play_id).reset_index(drop = 1)\n",
    "rusher_play_info.time_after_snap = round(rusher_play_info.time_after_snap, 1)\n",
    "\n",
    "this = get_all_player_metrics_on_play(master_track = all_data, play_id = play_id, model = lstm_model)\n",
    "player_metrics = []\n",
    "for player_id in this.keys():\n",
    "    metrics = this.get(player_id)\n",
    "    metrics_df = pd.DataFrame({'nflId': float(player_id), 'rusher_metric' : metrics, 'time_after_snap' : np.array(range(0, len(metrics))) / 10})\n",
    "    player_metrics.append(metrics_df)\n",
    "player_metrics_df = pd.concat(player_metrics)\n",
    "\n",
    "rusher_play_info =  rusher_play_info.merge(player_metrics_df, on = ['nflId', 'time_after_snap'], how = 'left')\n",
    "\n",
    "\n",
    "\n",
    "def_match = all_data.play_details_df.loc[(all_data.play_details_df.playId == play_id) & (all_data.play_details_df.pff_nflIdBlockedPlayer.notna()), ['playId', 'nflId', 'pff_nflIdBlockedPlayer']]\n",
    "defender_track = []\n",
    "for defender in def_match.nflId:\n",
    "    this_def = all_data.search_track_weeks(variables = [\"playId\", \"nflId\"], variable_values = [play_id, defender])\n",
    "    defender_track.append(this_def)\n",
    "defender_track = pd.concat(defender_track).merge(def_match, on = ['playId', 'nflId'], how = 'left').loc[:,['nflId', 'playId', 'time_after_snap', 'pff_nflIdBlockedPlayer', 'x', 'y']].rename(columns = {'pff_nflIdBlockedPlayer' : 'nflId', 'nflId' : 'blockerId', 'x' : 'x_block', 'y' : 'y_block'})\n",
    "\n",
    "# get qb track\n",
    "qb_track = all_data.get_qb_track_on_play(play_id).loc[:, ['playId', 'time_after_snap', 'x', 'y', 's', 'a']].rename(columns = {'x' : 'x_qb', 'y' : 'y_qb', 's' : 's_qb', 'a' : 'a_qb'})\n",
    "defender_qb_track = defender_track.merge(qb_track, on = ['playId', 'time_after_snap'], how = 'left')\n",
    "defender_qb_track.time_after_snap = round(defender_qb_track.time_after_snap, 1)\n",
    "\n",
    "block_df = defender_qb_track.loc[(defender_qb_track.time_after_snap >= 0) & (defender_qb_track.time_after_snap < len(play_prob) / 10), ['blockerId', 'time_after_snap', 'x_block', 'y_block']].rename(columns = {'blockerId' : 'nflId', 'x_block' : 'x', 'y_block' : 'y'}).drop_duplicates()\n",
    "rush_df = rusher_play_info.loc[(rusher_play_info.time_after_snap >= 0) & (rusher_play_info.time_after_snap < len(play_prob) / 10), ['nflId', 'time_after_snap', 'rusher_metric', 'x', 'y']].drop_duplicates()\n",
    "qb_df = defender_qb_track.loc[(defender_qb_track.time_after_snap >= 0) & (defender_qb_track.time_after_snap < len(play_prob) / 10), ['time_after_snap', 'x_qb', 'y_qb']].rename(columns = {'x_qb' : 'x', 'y_qb' : 'y'}).drop_duplicates()\n",
    "qb_df['nflId'] = 1\n",
    "\n",
    "\n",
    "unique_time_after_snap = rush_df.time_after_snap.unique()\n",
    "n_player_rush = len(rush_df.nflId.unique())\n",
    "n_player_block = len(block_df.nflId.unique())\n",
    "\n",
    "n_frame = len(unique_time_after_snap)\n",
    "motion_rush = np.empty(shape = (n_frame,3,n_player_rush))\n",
    "motion_block = np.empty(shape = (n_frame,3,n_player_block))\n",
    "motion_qb = np.empty(shape = (n_frame,3, 1))\n",
    "frame = 0\n",
    "for time_after in unique_time_after_snap:\n",
    "    this_frame_rush = rush_df.loc[rush_df.time_after_snap == time_after].copy()\n",
    "    x_this_frame_rush, y_this_frame_rush, color_this_frame_rush = this_frame_rush.x.values.tolist(), this_frame_rush.y.values.tolist(), this_frame_rush.rusher_metric.values.tolist()\n",
    "    motion_rush[frame, :, :] = [x_this_frame_rush, y_this_frame_rush, color_this_frame_rush]\n",
    "    \n",
    "    this_frame_block = block_df.loc[block_df.time_after_snap == time_after].copy()\n",
    "    x_this_frame_block, y_this_frame_block, color_this_frame_block = this_frame_block.x.values.tolist(), this_frame_block.y.values.tolist(), this_frame_block.x.values.tolist()\n",
    "    motion_block[frame, :, :] = [x_this_frame_block, y_this_frame_block, color_this_frame_block]\n",
    "\n",
    "    this_frame_qb = qb_df.loc[block_df.time_after_snap == time_after].copy()\n",
    "    x_this_frame_qb, y_this_frame_qb, color_this_frame_qb = this_frame_qb.x.values.tolist(), this_frame_qb.y.values.tolist(), this_frame_qb.x.values.tolist()\n",
    "    motion_qb[frame, :, :] = [x_this_frame_qb, y_this_frame_qb, color_this_frame_qb]\n",
    "    frame += 1"
   ]
  },
  {
   "cell_type": "code",
   "execution_count": 804,
   "metadata": {},
   "outputs": [],
   "source": [
    "range_x = [min(np.append(np.append(motion_block[:,0,:], motion_rush[:,0,:]),motion_qb[:,0,:]) ) - 2, max(np.append(np.append(motion_block[:,0,:], motion_rush[:,0,:]),motion_qb[:,0,:])) + 2]\n",
    "range_y = [min(np.append(np.append(motion_block[0,1,:], motion_rush[:,1,:]),motion_qb[:,1,:]) ) - 2, max(np.append(np.append(motion_block[:,1,:], motion_rush[:,1,:]),motion_qb[:,1,:])) + 2]\n",
    "color_min, color_max = -0.3, 0.3\n",
    "vec_mobile = list(zip(motion_rush[:,:,:], motion_block[:,:,:], motion_qb[:,:,:], play_prob[:])) # index is (frame), (rusher or blocker or qb or prob_disrupt), (x or y or metric)\n",
    "start_frame = [go.Scatter(x=motion_rush[0,0,:], y = motion_rush[0,1,:], \n",
    "                            mode = \"markers+text\", \n",
    "                            text = ['Rusher Metric: ' + str(round(metric, 3)) for metric in motion_rush[0,2,:]],\n",
    "                            textposition=\"bottom center\",\n",
    "                            name = \"Rushers\",\n",
    "                            legendgroup = \"Rushers\",\n",
    "                            marker = dict(size=20,color=motion_rush[0,2,:], colorbar=dict(title='Metric'), colorscale='rdylbu_r',showscale=True, cmin=color_min, cmax = color_max)),\n",
    "               go.Scatter(x=motion_block[0,0,:], y = motion_block[0,1,:], \n",
    "                            mode = \"markers\", \n",
    "                            name = \"Blockers\",\n",
    "                            legendgroup = \"Blockers\",\n",
    "                            marker = dict(size=20, color = 'black'),\n",
    "                            marker_symbol = \"x\"  ),\n",
    "                go.Scatter(x=motion_qb[0,0,:], y = motion_qb[0,1,:], \n",
    "                            mode = \"markers\", \n",
    "                            name = \"QB\",\n",
    "                            legendgroup = \"QB\",\n",
    "                            marker = dict(size=16, color = 'black'),\n",
    "                            marker_symbol = \"diamond\"  ),\n",
    "                go.Scatter(x= np.array(range_x[0] + 4), y = np.array(range_y[1] - 1), \n",
    "                            mode = \"text\",\n",
    "                            text = ['QB Distruption Probability: ' + str(round(play_prob[0], 3))],\n",
    "                            textfont = dict(size=17, color = 'black') ) ]\n",
    "\n",
    "all_frame = [   go.Frame(data = [go.Scatter(x=vec_mobile[i][0][0], y = vec_mobile[i][0][1], \n",
    "                                            mode = \"markers+text\", \n",
    "                                            text = ['Rusher Metric: ' + str(round(metric, 3)) for metric in vec_mobile[i][0][2]],\n",
    "                                            textposition=\"bottom center\",\n",
    "                                            name = \"Rushers\",\n",
    "                                            legendgroup = \"Rushers\",\n",
    "                                            marker = dict(size=20, color=vec_mobile[i][0][2],showscale=False, colorscale='rdylbu_r', cmin=color_min, cmax = color_max) ),\n",
    "                                go.Scatter(x= np.ndarray.flatten(np.array([list(x) for x in np.array(vec_mobile[0:i], dtype = object)[:, 0]])[:, 0]), \n",
    "                                            y = np.ndarray.flatten(np.array([list(x) for x in np.array(vec_mobile[0:i], dtype = object)[:, 0]])[:, 1]), \n",
    "                                            mode = \"markers\", \n",
    "                                            marker = dict(size=10, color= np.ndarray.flatten(np.array([list(x) for x in np.array(vec_mobile[0:i], dtype = object)[:, 0]])[:, 2] ), \n",
    "                                                                colorscale='rdylbu_r',showscale=False, cmin=color_min, cmax = color_max),\n",
    "                                            marker_symbol = \"circle\" ),\n",
    "                                 go.Scatter(x=vec_mobile[i][1][0], y = vec_mobile[i][1][1], \n",
    "                                            mode = \"markers\", \n",
    "                                            name = \"Blockers\",\n",
    "                                            legendgroup = \"Blockers\",\n",
    "                                            marker = dict(size=20, color = 'black'),\n",
    "                                            marker_symbol = \"x\" ),\n",
    "                                go.Scatter(x=vec_mobile[i][2][0], y = vec_mobile[i][2][1], \n",
    "                                            mode = \"markers\", \n",
    "                                            name = \"QB\",\n",
    "                                            legendgroup = \"QB\",\n",
    "                                            marker = dict(size=20, color = 'black'),\n",
    "                                            marker_symbol = \"diamond\" ),\n",
    "                                go.Scatter(x= np.array(range_x[0] + 4), y = np.array(range_y[1] - 1), \n",
    "                                                mode = \"text\",\n",
    "                                                text = ['QB Distruption Probability: ' + str(round(vec_mobile[i][3], 3))],\n",
    "                                                textfont = dict(size=17, color = 'black') ) \n",
    "                                                ]) \n",
    "            for i in range(len(vec_mobile))[1:]]\n",
    "layout_draw = go.Layout(\n",
    "        autosize=False,\n",
    "        width=800,\n",
    "        height=600,\n",
    "        plot_bgcolor='green',\n",
    "        xaxis=dict(title='src freq', range=range_x, autorange=False, tickmode = 'linear', tick0 = round(range_x[0],-1), dtick = 5, gridcolor = 'black'),\n",
    "        yaxis=dict(range=range_y, autorange=False, gridcolor = 'green', tick0 = round(range_x[0],-1), dtick = 10),\n",
    "        title= f'Play {play_id}',\n",
    "        updatemenus=[dict(type=\"buttons\",\n",
    "                        buttons=[dict(label=\"Play\",\n",
    "                                    method=\"animate\",\n",
    "                                    args=[None, {\"frame\": {\"duration\": 200, \"redraw\": False}, \"fromcurrent\": True, \"transition\": {\"duration\": 0}}])])]\n",
    "    )\n"
   ]
  },
  {
   "cell_type": "code",
   "execution_count": 805,
   "metadata": {},
   "outputs": [
    {
     "data": {
      "application/vnd.plotly.v1+json": {
       "config": {
        "plotlyServerURL": "https://plot.ly"
       },
       "data": [
        {
         "legendgroup": "Rushers",
         "marker": {
          "cmax": 0.3,
          "cmin": -0.3,
          "color": [
           -0.0064088404178619385,
           -0.02574777603149414,
           -0.0029237866401672363,
           -0.0008718371391296387,
           -0.0017946958541870117,
           -0.0012657642364501953
          ],
          "colorbar": {
           "title": {
            "text": "Metric"
           }
          },
          "colorscale": [
           [
            0,
            "rgb(49,54,149)"
           ],
           [
            0.1,
            "rgb(69,117,180)"
           ],
           [
            0.2,
            "rgb(116,173,209)"
           ],
           [
            0.3,
            "rgb(171,217,233)"
           ],
           [
            0.4,
            "rgb(224,243,248)"
           ],
           [
            0.5,
            "rgb(255,255,191)"
           ],
           [
            0.6,
            "rgb(254,224,144)"
           ],
           [
            0.7,
            "rgb(253,174,97)"
           ],
           [
            0.8,
            "rgb(244,109,67)"
           ],
           [
            0.9,
            "rgb(215,48,39)"
           ],
           [
            1,
            "rgb(165,0,38)"
           ]
          ],
          "showscale": true,
          "size": 20
         },
         "mode": "markers+text",
         "name": "Rushers",
         "text": [
          "Rusher Metric: -0.006",
          "Rusher Metric: -0.026",
          "Rusher Metric: -0.003",
          "Rusher Metric: -0.001",
          "Rusher Metric: -0.002",
          "Rusher Metric: -0.001"
         ],
         "textposition": "bottom center",
         "type": "scatter",
         "x": [
          72.56,
          72.58,
          74.93,
          73.01,
          72.81,
          73.13
         ],
         "y": [
          26.46,
          23.97,
          19.41,
          18.25,
          21.22,
          29.1
         ]
        },
        {
         "legendgroup": "Blockers",
         "marker": {
          "color": "black",
          "size": 20,
          "symbol": "x"
         },
         "mode": "markers",
         "name": "Blockers",
         "type": "scatter",
         "x": [
          71.79,
          70.9,
          70.55,
          69.98,
          70.7,
          70.72
         ],
         "y": [
          24.11,
          25.61,
          20.62,
          19.54,
          22.3,
          27.33
         ]
        },
        {
         "legendgroup": "QB",
         "marker": {
          "color": "black",
          "size": 16,
          "symbol": "diamond"
         },
         "mode": "markers",
         "name": "QB",
         "type": "scatter",
         "x": [
          66.81
         ],
         "y": [
          23.93
         ]
        },
        {
         "mode": "text",
         "text": [
          "QB Distruption Probability: 0.419"
         ],
         "textfont": {
          "color": "black",
          "size": 17
         },
         "type": "scatter",
         "x": [
          65.13
         ],
         "y": [
          35.53
         ]
        }
       ],
       "frames": [
        {
         "data": [
          {
           "legendgroup": "Rushers",
           "marker": {
            "cmax": 0.3,
            "cmin": -0.3,
            "color": [
             -0.007595926523208618,
             -0.029318660497665405,
             0.0005917251110076904,
             -0.00516432523727417,
             -0.0022415518760681152,
             0.0004450678825378418
            ],
            "colorscale": [
             [
              0,
              "rgb(49,54,149)"
             ],
             [
              0.1,
              "rgb(69,117,180)"
             ],
             [
              0.2,
              "rgb(116,173,209)"
             ],
             [
              0.3,
              "rgb(171,217,233)"
             ],
             [
              0.4,
              "rgb(224,243,248)"
             ],
             [
              0.5,
              "rgb(255,255,191)"
             ],
             [
              0.6,
              "rgb(254,224,144)"
             ],
             [
              0.7,
              "rgb(253,174,97)"
             ],
             [
              0.8,
              "rgb(244,109,67)"
             ],
             [
              0.9,
              "rgb(215,48,39)"
             ],
             [
              1,
              "rgb(165,0,38)"
             ]
            ],
            "showscale": false,
            "size": 20
           },
           "mode": "markers+text",
           "name": "Rushers",
           "text": [
            "Rusher Metric: -0.008",
            "Rusher Metric: -0.029",
            "Rusher Metric: 0.001",
            "Rusher Metric: -0.005",
            "Rusher Metric: -0.002",
            "Rusher Metric: 0.0"
           ],
           "textposition": "bottom center",
           "type": "scatter",
           "x": [
            72.52,
            72.58,
            74.92,
            73.01,
            72.8,
            73.09
           ],
           "y": [
            26.46,
            23.98,
            19.43,
            18.25,
            21.22,
            29.08
           ]
          },
          {
           "marker": {
            "cmax": 0.3,
            "cmin": -0.3,
            "color": [
             -0.0064088404178619385,
             -0.02574777603149414,
             -0.0029237866401672363,
             -0.0008718371391296387,
             -0.0017946958541870117,
             -0.0012657642364501953
            ],
            "colorscale": [
             [
              0,
              "rgb(49,54,149)"
             ],
             [
              0.1,
              "rgb(69,117,180)"
             ],
             [
              0.2,
              "rgb(116,173,209)"
             ],
             [
              0.3,
              "rgb(171,217,233)"
             ],
             [
              0.4,
              "rgb(224,243,248)"
             ],
             [
              0.5,
              "rgb(255,255,191)"
             ],
             [
              0.6,
              "rgb(254,224,144)"
             ],
             [
              0.7,
              "rgb(253,174,97)"
             ],
             [
              0.8,
              "rgb(244,109,67)"
             ],
             [
              0.9,
              "rgb(215,48,39)"
             ],
             [
              1,
              "rgb(165,0,38)"
             ]
            ],
            "showscale": false,
            "size": 10,
            "symbol": "circle"
           },
           "mode": "markers",
           "type": "scatter",
           "x": [
            72.56,
            72.58,
            74.93,
            73.01,
            72.81,
            73.13
           ],
           "y": [
            26.46,
            23.97,
            19.41,
            18.25,
            21.22,
            29.1
           ]
          },
          {
           "legendgroup": "Blockers",
           "marker": {
            "color": "black",
            "size": 20,
            "symbol": "x"
           },
           "mode": "markers",
           "name": "Blockers",
           "type": "scatter",
           "x": [
            71.75,
            70.89,
            70.55,
            69.98,
            70.7,
            70.72
           ],
           "y": [
            24.14,
            25.62,
            20.63,
            19.54,
            22.31,
            27.33
           ]
          },
          {
           "legendgroup": "QB",
           "marker": {
            "color": "black",
            "size": 20,
            "symbol": "diamond"
           },
           "mode": "markers",
           "name": "QB",
           "type": "scatter",
           "x": [
            66.81
           ],
           "y": [
            23.95
           ]
          },
          {
           "mode": "text",
           "text": [
            "QB Distruption Probability: 0.372"
           ],
           "textfont": {
            "color": "black",
            "size": 17
           },
           "type": "scatter",
           "x": [
            65.13
           ],
           "y": [
            35.53
           ]
          }
         ]
        },
        {
         "data": [
          {
           "legendgroup": "Rushers",
           "marker": {
            "cmax": 0.3,
            "cmin": -0.3,
            "color": [
             -0.006824404001235962,
             -0.03137955069541931,
             0.00007781386375427246,
             -0.007384747266769409,
             -0.004745900630950928,
             -0.00821387767791748
            ],
            "colorscale": [
             [
              0,
              "rgb(49,54,149)"
             ],
             [
              0.1,
              "rgb(69,117,180)"
             ],
             [
              0.2,
              "rgb(116,173,209)"
             ],
             [
              0.3,
              "rgb(171,217,233)"
             ],
             [
              0.4,
              "rgb(224,243,248)"
             ],
             [
              0.5,
              "rgb(255,255,191)"
             ],
             [
              0.6,
              "rgb(254,224,144)"
             ],
             [
              0.7,
              "rgb(253,174,97)"
             ],
             [
              0.8,
              "rgb(244,109,67)"
             ],
             [
              0.9,
              "rgb(215,48,39)"
             ],
             [
              1,
              "rgb(165,0,38)"
             ]
            ],
            "showscale": false,
            "size": 20
           },
           "mode": "markers+text",
           "name": "Rushers",
           "text": [
            "Rusher Metric: -0.007",
            "Rusher Metric: -0.031",
            "Rusher Metric: 0.0",
            "Rusher Metric: -0.007",
            "Rusher Metric: -0.005",
            "Rusher Metric: -0.008"
           ],
           "textposition": "bottom center",
           "type": "scatter",
           "x": [
            72.45,
            72.56,
            74.91,
            72.99,
            72.79,
            73.05
           ],
           "y": [
            26.47,
            24.01,
            19.44,
            18.26,
            21.21,
            29.07
           ]
          },
          {
           "marker": {
            "cmax": 0.3,
            "cmin": -0.3,
            "color": [
             -0.0064088404178619385,
             -0.02574777603149414,
             -0.0029237866401672363,
             -0.0008718371391296387,
             -0.0017946958541870117,
             -0.0012657642364501953,
             -0.007595926523208618,
             -0.029318660497665405,
             0.0005917251110076904,
             -0.00516432523727417,
             -0.0022415518760681152,
             0.0004450678825378418
            ],
            "colorscale": [
             [
              0,
              "rgb(49,54,149)"
             ],
             [
              0.1,
              "rgb(69,117,180)"
             ],
             [
              0.2,
              "rgb(116,173,209)"
             ],
             [
              0.3,
              "rgb(171,217,233)"
             ],
             [
              0.4,
              "rgb(224,243,248)"
             ],
             [
              0.5,
              "rgb(255,255,191)"
             ],
             [
              0.6,
              "rgb(254,224,144)"
             ],
             [
              0.7,
              "rgb(253,174,97)"
             ],
             [
              0.8,
              "rgb(244,109,67)"
             ],
             [
              0.9,
              "rgb(215,48,39)"
             ],
             [
              1,
              "rgb(165,0,38)"
             ]
            ],
            "showscale": false,
            "size": 10,
            "symbol": "circle"
           },
           "mode": "markers",
           "type": "scatter",
           "x": [
            72.56,
            72.58,
            74.93,
            73.01,
            72.81,
            73.13,
            72.52,
            72.58,
            74.92,
            73.01,
            72.8,
            73.09
           ],
           "y": [
            26.46,
            23.97,
            19.41,
            18.25,
            21.22,
            29.1,
            26.46,
            23.98,
            19.43,
            18.25,
            21.22,
            29.08
           ]
          },
          {
           "legendgroup": "Blockers",
           "marker": {
            "color": "black",
            "size": 20,
            "symbol": "x"
           },
           "mode": "markers",
           "name": "Blockers",
           "type": "scatter",
           "x": [
            71.7,
            70.87,
            70.55,
            69.98,
            70.69,
            70.71
           ],
           "y": [
            24.18,
            25.65,
            20.66,
            19.55,
            22.34,
            27.34
           ]
          },
          {
           "legendgroup": "QB",
           "marker": {
            "color": "black",
            "size": 20,
            "symbol": "diamond"
           },
           "mode": "markers",
           "name": "QB",
           "type": "scatter",
           "x": [
            66.8
           ],
           "y": [
            23.97
           ]
          },
          {
           "mode": "text",
           "text": [
            "QB Distruption Probability: 0.339"
           ],
           "textfont": {
            "color": "black",
            "size": 17
           },
           "type": "scatter",
           "x": [
            65.13
           ],
           "y": [
            35.53
           ]
          }
         ]
        },
        {
         "data": [
          {
           "legendgroup": "Rushers",
           "marker": {
            "cmax": 0.3,
            "cmin": -0.3,
            "color": [
             -0.007963716983795166,
             -0.029874056577682495,
             0.00019726157188415527,
             -0.010763883590698242,
             -0.004018336534500122,
             -0.011817753314971924
            ],
            "colorscale": [
             [
              0,
              "rgb(49,54,149)"
             ],
             [
              0.1,
              "rgb(69,117,180)"
             ],
             [
              0.2,
              "rgb(116,173,209)"
             ],
             [
              0.3,
              "rgb(171,217,233)"
             ],
             [
              0.4,
              "rgb(224,243,248)"
             ],
             [
              0.5,
              "rgb(255,255,191)"
             ],
             [
              0.6,
              "rgb(254,224,144)"
             ],
             [
              0.7,
              "rgb(253,174,97)"
             ],
             [
              0.8,
              "rgb(244,109,67)"
             ],
             [
              0.9,
              "rgb(215,48,39)"
             ],
             [
              1,
              "rgb(165,0,38)"
             ]
            ],
            "showscale": false,
            "size": 20
           },
           "mode": "markers+text",
           "name": "Rushers",
           "text": [
            "Rusher Metric: -0.008",
            "Rusher Metric: -0.03",
            "Rusher Metric: 0.0",
            "Rusher Metric: -0.011",
            "Rusher Metric: -0.004",
            "Rusher Metric: -0.012"
           ],
           "textposition": "bottom center",
           "type": "scatter",
           "x": [
            72.35,
            72.53,
            74.9,
            72.96,
            72.75,
            72.98
           ],
           "y": [
            26.47,
            24.05,
            19.46,
            18.26,
            21.21,
            29.05
           ]
          },
          {
           "marker": {
            "cmax": 0.3,
            "cmin": -0.3,
            "color": [
             -0.0064088404178619385,
             -0.02574777603149414,
             -0.0029237866401672363,
             -0.0008718371391296387,
             -0.0017946958541870117,
             -0.0012657642364501953,
             -0.007595926523208618,
             -0.029318660497665405,
             0.0005917251110076904,
             -0.00516432523727417,
             -0.0022415518760681152,
             0.0004450678825378418,
             -0.006824404001235962,
             -0.03137955069541931,
             0.00007781386375427246,
             -0.007384747266769409,
             -0.004745900630950928,
             -0.00821387767791748
            ],
            "colorscale": [
             [
              0,
              "rgb(49,54,149)"
             ],
             [
              0.1,
              "rgb(69,117,180)"
             ],
             [
              0.2,
              "rgb(116,173,209)"
             ],
             [
              0.3,
              "rgb(171,217,233)"
             ],
             [
              0.4,
              "rgb(224,243,248)"
             ],
             [
              0.5,
              "rgb(255,255,191)"
             ],
             [
              0.6,
              "rgb(254,224,144)"
             ],
             [
              0.7,
              "rgb(253,174,97)"
             ],
             [
              0.8,
              "rgb(244,109,67)"
             ],
             [
              0.9,
              "rgb(215,48,39)"
             ],
             [
              1,
              "rgb(165,0,38)"
             ]
            ],
            "showscale": false,
            "size": 10,
            "symbol": "circle"
           },
           "mode": "markers",
           "type": "scatter",
           "x": [
            72.56,
            72.58,
            74.93,
            73.01,
            72.81,
            73.13,
            72.52,
            72.58,
            74.92,
            73.01,
            72.8,
            73.09,
            72.45,
            72.56,
            74.91,
            72.99,
            72.79,
            73.05
           ],
           "y": [
            26.46,
            23.97,
            19.41,
            18.25,
            21.22,
            29.1,
            26.46,
            23.98,
            19.43,
            18.25,
            21.22,
            29.08,
            26.47,
            24.01,
            19.44,
            18.26,
            21.21,
            29.07
           ]
          },
          {
           "legendgroup": "Blockers",
           "marker": {
            "color": "black",
            "size": 20,
            "symbol": "x"
           },
           "mode": "markers",
           "name": "Blockers",
           "type": "scatter",
           "x": [
            71.63,
            70.84,
            70.56,
            69.98,
            70.68,
            70.71
           ],
           "y": [
            24.25,
            25.69,
            20.72,
            19.55,
            22.4,
            27.36
           ]
          },
          {
           "legendgroup": "QB",
           "marker": {
            "color": "black",
            "size": 20,
            "symbol": "diamond"
           },
           "mode": "markers",
           "name": "QB",
           "type": "scatter",
           "x": [
            66.77
           ],
           "y": [
            23.97
           ]
          },
          {
           "mode": "text",
           "text": [
            "QB Distruption Probability: 0.325"
           ],
           "textfont": {
            "color": "black",
            "size": 17
           },
           "type": "scatter",
           "x": [
            65.13
           ],
           "y": [
            35.53
           ]
          }
         ]
        },
        {
         "data": [
          {
           "legendgroup": "Rushers",
           "marker": {
            "cmax": 0.3,
            "cmin": -0.3,
            "color": [
             -0.0017058253288269043,
             -0.011593848466873169,
             0.000057131052017211914,
             -0.009065210819244385,
             -0.0047495365142822266,
             -0.011062651872634888
            ],
            "colorscale": [
             [
              0,
              "rgb(49,54,149)"
             ],
             [
              0.1,
              "rgb(69,117,180)"
             ],
             [
              0.2,
              "rgb(116,173,209)"
             ],
             [
              0.3,
              "rgb(171,217,233)"
             ],
             [
              0.4,
              "rgb(224,243,248)"
             ],
             [
              0.5,
              "rgb(255,255,191)"
             ],
             [
              0.6,
              "rgb(254,224,144)"
             ],
             [
              0.7,
              "rgb(253,174,97)"
             ],
             [
              0.8,
              "rgb(244,109,67)"
             ],
             [
              0.9,
              "rgb(215,48,39)"
             ],
             [
              1,
              "rgb(165,0,38)"
             ]
            ],
            "showscale": false,
            "size": 20
           },
           "mode": "markers+text",
           "name": "Rushers",
           "text": [
            "Rusher Metric: -0.002",
            "Rusher Metric: -0.012",
            "Rusher Metric: 0.0",
            "Rusher Metric: -0.009",
            "Rusher Metric: -0.005",
            "Rusher Metric: -0.011"
           ],
           "textposition": "bottom center",
           "type": "scatter",
           "x": [
            72.21,
            72.49,
            74.88,
            72.89,
            72.71,
            72.9
           ],
           "y": [
            26.47,
            24.1,
            19.48,
            18.27,
            21.23,
            29.05
           ]
          },
          {
           "marker": {
            "cmax": 0.3,
            "cmin": -0.3,
            "color": [
             -0.0064088404178619385,
             -0.02574777603149414,
             -0.0029237866401672363,
             -0.0008718371391296387,
             -0.0017946958541870117,
             -0.0012657642364501953,
             -0.007595926523208618,
             -0.029318660497665405,
             0.0005917251110076904,
             -0.00516432523727417,
             -0.0022415518760681152,
             0.0004450678825378418,
             -0.006824404001235962,
             -0.03137955069541931,
             0.00007781386375427246,
             -0.007384747266769409,
             -0.004745900630950928,
             -0.00821387767791748,
             -0.007963716983795166,
             -0.029874056577682495,
             0.00019726157188415527,
             -0.010763883590698242,
             -0.004018336534500122,
             -0.011817753314971924
            ],
            "colorscale": [
             [
              0,
              "rgb(49,54,149)"
             ],
             [
              0.1,
              "rgb(69,117,180)"
             ],
             [
              0.2,
              "rgb(116,173,209)"
             ],
             [
              0.3,
              "rgb(171,217,233)"
             ],
             [
              0.4,
              "rgb(224,243,248)"
             ],
             [
              0.5,
              "rgb(255,255,191)"
             ],
             [
              0.6,
              "rgb(254,224,144)"
             ],
             [
              0.7,
              "rgb(253,174,97)"
             ],
             [
              0.8,
              "rgb(244,109,67)"
             ],
             [
              0.9,
              "rgb(215,48,39)"
             ],
             [
              1,
              "rgb(165,0,38)"
             ]
            ],
            "showscale": false,
            "size": 10,
            "symbol": "circle"
           },
           "mode": "markers",
           "type": "scatter",
           "x": [
            72.56,
            72.58,
            74.93,
            73.01,
            72.81,
            73.13,
            72.52,
            72.58,
            74.92,
            73.01,
            72.8,
            73.09,
            72.45,
            72.56,
            74.91,
            72.99,
            72.79,
            73.05,
            72.35,
            72.53,
            74.9,
            72.96,
            72.75,
            72.98
           ],
           "y": [
            26.46,
            23.97,
            19.41,
            18.25,
            21.22,
            29.1,
            26.46,
            23.98,
            19.43,
            18.25,
            21.22,
            29.08,
            26.47,
            24.01,
            19.44,
            18.26,
            21.21,
            29.07,
            26.47,
            24.05,
            19.46,
            18.26,
            21.21,
            29.05
           ]
          },
          {
           "legendgroup": "Blockers",
           "marker": {
            "color": "black",
            "size": 20,
            "symbol": "x"
           },
           "mode": "markers",
           "name": "Blockers",
           "type": "scatter",
           "x": [
            71.55,
            70.79,
            70.57,
            69.98,
            70.67,
            70.7
           ],
           "y": [
            24.35,
            25.76,
            20.81,
            19.56,
            22.49,
            27.37
           ]
          },
          {
           "legendgroup": "QB",
           "marker": {
            "color": "black",
            "size": 20,
            "symbol": "diamond"
           },
           "mode": "markers",
           "name": "QB",
           "type": "scatter",
           "x": [
            66.73
           ],
           "y": [
            23.99
           ]
          },
          {
           "mode": "text",
           "text": [
            "QB Distruption Probability: 0.334"
           ],
           "textfont": {
            "color": "black",
            "size": 17
           },
           "type": "scatter",
           "x": [
            65.13
           ],
           "y": [
            35.53
           ]
          }
         ]
        },
        {
         "data": [
          {
           "legendgroup": "Rushers",
           "marker": {
            "cmax": 0.3,
            "cmin": -0.3,
            "color": [
             -0.007946580648422241,
             0.021355479955673218,
             -0.005540281534194946,
             -0.01551547646522522,
             -0.009910672903060913,
             -0.01639220118522644
            ],
            "colorscale": [
             [
              0,
              "rgb(49,54,149)"
             ],
             [
              0.1,
              "rgb(69,117,180)"
             ],
             [
              0.2,
              "rgb(116,173,209)"
             ],
             [
              0.3,
              "rgb(171,217,233)"
             ],
             [
              0.4,
              "rgb(224,243,248)"
             ],
             [
              0.5,
              "rgb(255,255,191)"
             ],
             [
              0.6,
              "rgb(254,224,144)"
             ],
             [
              0.7,
              "rgb(253,174,97)"
             ],
             [
              0.8,
              "rgb(244,109,67)"
             ],
             [
              0.9,
              "rgb(215,48,39)"
             ],
             [
              1,
              "rgb(165,0,38)"
             ]
            ],
            "showscale": false,
            "size": 20
           },
           "mode": "markers+text",
           "name": "Rushers",
           "text": [
            "Rusher Metric: -0.008",
            "Rusher Metric: 0.021",
            "Rusher Metric: -0.006",
            "Rusher Metric: -0.016",
            "Rusher Metric: -0.01",
            "Rusher Metric: -0.016"
           ],
           "textposition": "bottom center",
           "type": "scatter",
           "x": [
            72.04,
            72.42,
            74.86,
            72.8,
            72.63,
            72.79
           ],
           "y": [
            26.5,
            24.18,
            19.51,
            18.29,
            21.26,
            29.05
           ]
          },
          {
           "marker": {
            "cmax": 0.3,
            "cmin": -0.3,
            "color": [
             -0.0064088404178619385,
             -0.02574777603149414,
             -0.0029237866401672363,
             -0.0008718371391296387,
             -0.0017946958541870117,
             -0.0012657642364501953,
             -0.007595926523208618,
             -0.029318660497665405,
             0.0005917251110076904,
             -0.00516432523727417,
             -0.0022415518760681152,
             0.0004450678825378418,
             -0.006824404001235962,
             -0.03137955069541931,
             0.00007781386375427246,
             -0.007384747266769409,
             -0.004745900630950928,
             -0.00821387767791748,
             -0.007963716983795166,
             -0.029874056577682495,
             0.00019726157188415527,
             -0.010763883590698242,
             -0.004018336534500122,
             -0.011817753314971924,
             -0.0017058253288269043,
             -0.011593848466873169,
             0.000057131052017211914,
             -0.009065210819244385,
             -0.0047495365142822266,
             -0.011062651872634888
            ],
            "colorscale": [
             [
              0,
              "rgb(49,54,149)"
             ],
             [
              0.1,
              "rgb(69,117,180)"
             ],
             [
              0.2,
              "rgb(116,173,209)"
             ],
             [
              0.3,
              "rgb(171,217,233)"
             ],
             [
              0.4,
              "rgb(224,243,248)"
             ],
             [
              0.5,
              "rgb(255,255,191)"
             ],
             [
              0.6,
              "rgb(254,224,144)"
             ],
             [
              0.7,
              "rgb(253,174,97)"
             ],
             [
              0.8,
              "rgb(244,109,67)"
             ],
             [
              0.9,
              "rgb(215,48,39)"
             ],
             [
              1,
              "rgb(165,0,38)"
             ]
            ],
            "showscale": false,
            "size": 10,
            "symbol": "circle"
           },
           "mode": "markers",
           "type": "scatter",
           "x": [
            72.56,
            72.58,
            74.93,
            73.01,
            72.81,
            73.13,
            72.52,
            72.58,
            74.92,
            73.01,
            72.8,
            73.09,
            72.45,
            72.56,
            74.91,
            72.99,
            72.79,
            73.05,
            72.35,
            72.53,
            74.9,
            72.96,
            72.75,
            72.98,
            72.21,
            72.49,
            74.88,
            72.89,
            72.71,
            72.9
           ],
           "y": [
            26.46,
            23.97,
            19.41,
            18.25,
            21.22,
            29.1,
            26.46,
            23.98,
            19.43,
            18.25,
            21.22,
            29.08,
            26.47,
            24.01,
            19.44,
            18.26,
            21.21,
            29.07,
            26.47,
            24.05,
            19.46,
            18.26,
            21.21,
            29.05,
            26.47,
            24.1,
            19.48,
            18.27,
            21.23,
            29.05
           ]
          },
          {
           "legendgroup": "Blockers",
           "marker": {
            "color": "black",
            "size": 20,
            "symbol": "x"
           },
           "mode": "markers",
           "name": "Blockers",
           "type": "scatter",
           "x": [
            71.46,
            70.72,
            70.6,
            69.97,
            70.65,
            70.68
           ],
           "y": [
            24.49,
            25.86,
            20.96,
            19.59,
            22.66,
            27.44
           ]
          },
          {
           "legendgroup": "QB",
           "marker": {
            "color": "black",
            "size": 20,
            "symbol": "diamond"
           },
           "mode": "markers",
           "name": "QB",
           "type": "scatter",
           "x": [
            66.65
           ],
           "y": [
            24.02
           ]
          },
          {
           "mode": "text",
           "text": [
            "QB Distruption Probability: 0.34"
           ],
           "textfont": {
            "color": "black",
            "size": 17
           },
           "type": "scatter",
           "x": [
            65.13
           ],
           "y": [
            35.53
           ]
          }
         ]
        },
        {
         "data": [
          {
           "legendgroup": "Rushers",
           "marker": {
            "cmax": 0.3,
            "cmin": -0.3,
            "color": [
             -0.011359959840774536,
             0.04952174425125122,
             -0.006082445383071899,
             -0.011501550674438477,
             -0.010208964347839355,
             -0.014724671840667725
            ],
            "colorscale": [
             [
              0,
              "rgb(49,54,149)"
             ],
             [
              0.1,
              "rgb(69,117,180)"
             ],
             [
              0.2,
              "rgb(116,173,209)"
             ],
             [
              0.3,
              "rgb(171,217,233)"
             ],
             [
              0.4,
              "rgb(224,243,248)"
             ],
             [
              0.5,
              "rgb(255,255,191)"
             ],
             [
              0.6,
              "rgb(254,224,144)"
             ],
             [
              0.7,
              "rgb(253,174,97)"
             ],
             [
              0.8,
              "rgb(244,109,67)"
             ],
             [
              0.9,
              "rgb(215,48,39)"
             ],
             [
              1,
              "rgb(165,0,38)"
             ]
            ],
            "showscale": false,
            "size": 20
           },
           "mode": "markers+text",
           "name": "Rushers",
           "text": [
            "Rusher Metric: -0.011",
            "Rusher Metric: 0.05",
            "Rusher Metric: -0.006",
            "Rusher Metric: -0.012",
            "Rusher Metric: -0.01",
            "Rusher Metric: -0.015"
           ],
           "textposition": "bottom center",
           "type": "scatter",
           "x": [
            71.86,
            72.34,
            74.84,
            72.66,
            72.55,
            72.64
           ],
           "y": [
            26.54,
            24.28,
            19.55,
            18.33,
            21.32,
            29.06
           ]
          },
          {
           "marker": {
            "cmax": 0.3,
            "cmin": -0.3,
            "color": [
             -0.0064088404178619385,
             -0.02574777603149414,
             -0.0029237866401672363,
             -0.0008718371391296387,
             -0.0017946958541870117,
             -0.0012657642364501953,
             -0.007595926523208618,
             -0.029318660497665405,
             0.0005917251110076904,
             -0.00516432523727417,
             -0.0022415518760681152,
             0.0004450678825378418,
             -0.006824404001235962,
             -0.03137955069541931,
             0.00007781386375427246,
             -0.007384747266769409,
             -0.004745900630950928,
             -0.00821387767791748,
             -0.007963716983795166,
             -0.029874056577682495,
             0.00019726157188415527,
             -0.010763883590698242,
             -0.004018336534500122,
             -0.011817753314971924,
             -0.0017058253288269043,
             -0.011593848466873169,
             0.000057131052017211914,
             -0.009065210819244385,
             -0.0047495365142822266,
             -0.011062651872634888,
             -0.007946580648422241,
             0.021355479955673218,
             -0.005540281534194946,
             -0.01551547646522522,
             -0.009910672903060913,
             -0.01639220118522644
            ],
            "colorscale": [
             [
              0,
              "rgb(49,54,149)"
             ],
             [
              0.1,
              "rgb(69,117,180)"
             ],
             [
              0.2,
              "rgb(116,173,209)"
             ],
             [
              0.3,
              "rgb(171,217,233)"
             ],
             [
              0.4,
              "rgb(224,243,248)"
             ],
             [
              0.5,
              "rgb(255,255,191)"
             ],
             [
              0.6,
              "rgb(254,224,144)"
             ],
             [
              0.7,
              "rgb(253,174,97)"
             ],
             [
              0.8,
              "rgb(244,109,67)"
             ],
             [
              0.9,
              "rgb(215,48,39)"
             ],
             [
              1,
              "rgb(165,0,38)"
             ]
            ],
            "showscale": false,
            "size": 10,
            "symbol": "circle"
           },
           "mode": "markers",
           "type": "scatter",
           "x": [
            72.56,
            72.58,
            74.93,
            73.01,
            72.81,
            73.13,
            72.52,
            72.58,
            74.92,
            73.01,
            72.8,
            73.09,
            72.45,
            72.56,
            74.91,
            72.99,
            72.79,
            73.05,
            72.35,
            72.53,
            74.9,
            72.96,
            72.75,
            72.98,
            72.21,
            72.49,
            74.88,
            72.89,
            72.71,
            72.9,
            72.04,
            72.42,
            74.86,
            72.8,
            72.63,
            72.79
           ],
           "y": [
            26.46,
            23.97,
            19.41,
            18.25,
            21.22,
            29.1,
            26.46,
            23.98,
            19.43,
            18.25,
            21.22,
            29.08,
            26.47,
            24.01,
            19.44,
            18.26,
            21.21,
            29.07,
            26.47,
            24.05,
            19.46,
            18.26,
            21.21,
            29.05,
            26.47,
            24.1,
            19.48,
            18.27,
            21.23,
            29.05,
            26.5,
            24.18,
            19.51,
            18.29,
            21.26,
            29.05
           ]
          },
          {
           "legendgroup": "Blockers",
           "marker": {
            "color": "black",
            "size": 20,
            "symbol": "x"
           },
           "mode": "markers",
           "name": "Blockers",
           "type": "scatter",
           "x": [
            71.35,
            70.63,
            70.61,
            69.95,
            70.63,
            70.64
           ],
           "y": [
            24.65,
            25.96,
            21.12,
            19.66,
            22.88,
            27.55
           ]
          },
          {
           "legendgroup": "QB",
           "marker": {
            "color": "black",
            "size": 20,
            "symbol": "diamond"
           },
           "mode": "markers",
           "name": "QB",
           "type": "scatter",
           "x": [
            66.56
           ],
           "y": [
            24.06
           ]
          },
          {
           "mode": "text",
           "text": [
            "QB Distruption Probability: 0.372"
           ],
           "textfont": {
            "color": "black",
            "size": 17
           },
           "type": "scatter",
           "x": [
            65.13
           ],
           "y": [
            35.53
           ]
          }
         ]
        },
        {
         "data": [
          {
           "legendgroup": "Rushers",
           "marker": {
            "cmax": 0.3,
            "cmin": -0.3,
            "color": [
             -0.011500775814056396,
             0.08198955655097961,
             -0.009909063577651978,
             -0.015194594860076904,
             -0.008880585432052612,
             -0.015957027673721313
            ],
            "colorscale": [
             [
              0,
              "rgb(49,54,149)"
             ],
             [
              0.1,
              "rgb(69,117,180)"
             ],
             [
              0.2,
              "rgb(116,173,209)"
             ],
             [
              0.3,
              "rgb(171,217,233)"
             ],
             [
              0.4,
              "rgb(224,243,248)"
             ],
             [
              0.5,
              "rgb(255,255,191)"
             ],
             [
              0.6,
              "rgb(254,224,144)"
             ],
             [
              0.7,
              "rgb(253,174,97)"
             ],
             [
              0.8,
              "rgb(244,109,67)"
             ],
             [
              0.9,
              "rgb(215,48,39)"
             ],
             [
              1,
              "rgb(165,0,38)"
             ]
            ],
            "showscale": false,
            "size": 20
           },
           "mode": "markers+text",
           "name": "Rushers",
           "text": [
            "Rusher Metric: -0.012",
            "Rusher Metric: 0.082",
            "Rusher Metric: -0.01",
            "Rusher Metric: -0.015",
            "Rusher Metric: -0.009",
            "Rusher Metric: -0.016"
           ],
           "textposition": "bottom center",
           "type": "scatter",
           "x": [
            71.64,
            72.25,
            74.82,
            72.51,
            72.43,
            72.46
           ],
           "y": [
            26.6,
            24.4,
            19.6,
            18.38,
            21.4,
            29.09
           ]
          },
          {
           "marker": {
            "cmax": 0.3,
            "cmin": -0.3,
            "color": [
             -0.0064088404178619385,
             -0.02574777603149414,
             -0.0029237866401672363,
             -0.0008718371391296387,
             -0.0017946958541870117,
             -0.0012657642364501953,
             -0.007595926523208618,
             -0.029318660497665405,
             0.0005917251110076904,
             -0.00516432523727417,
             -0.0022415518760681152,
             0.0004450678825378418,
             -0.006824404001235962,
             -0.03137955069541931,
             0.00007781386375427246,
             -0.007384747266769409,
             -0.004745900630950928,
             -0.00821387767791748,
             -0.007963716983795166,
             -0.029874056577682495,
             0.00019726157188415527,
             -0.010763883590698242,
             -0.004018336534500122,
             -0.011817753314971924,
             -0.0017058253288269043,
             -0.011593848466873169,
             0.000057131052017211914,
             -0.009065210819244385,
             -0.0047495365142822266,
             -0.011062651872634888,
             -0.007946580648422241,
             0.021355479955673218,
             -0.005540281534194946,
             -0.01551547646522522,
             -0.009910672903060913,
             -0.01639220118522644,
             -0.011359959840774536,
             0.04952174425125122,
             -0.006082445383071899,
             -0.011501550674438477,
             -0.010208964347839355,
             -0.014724671840667725
            ],
            "colorscale": [
             [
              0,
              "rgb(49,54,149)"
             ],
             [
              0.1,
              "rgb(69,117,180)"
             ],
             [
              0.2,
              "rgb(116,173,209)"
             ],
             [
              0.3,
              "rgb(171,217,233)"
             ],
             [
              0.4,
              "rgb(224,243,248)"
             ],
             [
              0.5,
              "rgb(255,255,191)"
             ],
             [
              0.6,
              "rgb(254,224,144)"
             ],
             [
              0.7,
              "rgb(253,174,97)"
             ],
             [
              0.8,
              "rgb(244,109,67)"
             ],
             [
              0.9,
              "rgb(215,48,39)"
             ],
             [
              1,
              "rgb(165,0,38)"
             ]
            ],
            "showscale": false,
            "size": 10,
            "symbol": "circle"
           },
           "mode": "markers",
           "type": "scatter",
           "x": [
            72.56,
            72.58,
            74.93,
            73.01,
            72.81,
            73.13,
            72.52,
            72.58,
            74.92,
            73.01,
            72.8,
            73.09,
            72.45,
            72.56,
            74.91,
            72.99,
            72.79,
            73.05,
            72.35,
            72.53,
            74.9,
            72.96,
            72.75,
            72.98,
            72.21,
            72.49,
            74.88,
            72.89,
            72.71,
            72.9,
            72.04,
            72.42,
            74.86,
            72.8,
            72.63,
            72.79,
            71.86,
            72.34,
            74.84,
            72.66,
            72.55,
            72.64
           ],
           "y": [
            26.46,
            23.97,
            19.41,
            18.25,
            21.22,
            29.1,
            26.46,
            23.98,
            19.43,
            18.25,
            21.22,
            29.08,
            26.47,
            24.01,
            19.44,
            18.26,
            21.21,
            29.07,
            26.47,
            24.05,
            19.46,
            18.26,
            21.21,
            29.05,
            26.47,
            24.1,
            19.48,
            18.27,
            21.23,
            29.05,
            26.5,
            24.18,
            19.51,
            18.29,
            21.26,
            29.05,
            26.54,
            24.28,
            19.55,
            18.33,
            21.32,
            29.06
           ]
          },
          {
           "legendgroup": "Blockers",
           "marker": {
            "color": "black",
            "size": 20,
            "symbol": "x"
           },
           "mode": "markers",
           "name": "Blockers",
           "type": "scatter",
           "x": [
            71.23,
            70.54,
            70.62,
            69.92,
            70.6,
            70.58
           ],
           "y": [
            24.84,
            26.08,
            21.29,
            19.75,
            23.1,
            27.7
           ]
          },
          {
           "legendgroup": "QB",
           "marker": {
            "color": "black",
            "size": 20,
            "symbol": "diamond"
           },
           "mode": "markers",
           "name": "QB",
           "type": "scatter",
           "x": [
            66.44
           ],
           "y": [
            24.11
           ]
          },
          {
           "mode": "text",
           "text": [
            "QB Distruption Probability: 0.391"
           ],
           "textfont": {
            "color": "black",
            "size": 17
           },
           "type": "scatter",
           "x": [
            65.13
           ],
           "y": [
            35.53
           ]
          }
         ]
        },
        {
         "data": [
          {
           "legendgroup": "Rushers",
           "marker": {
            "cmax": 0.3,
            "cmin": -0.3,
            "color": [
             -0.015709787607192993,
             0.08812889456748962,
             -0.01654374599456787,
             -0.012733310461044312,
             -0.012576043605804443,
             -0.019140541553497314
            ],
            "colorscale": [
             [
              0,
              "rgb(49,54,149)"
             ],
             [
              0.1,
              "rgb(69,117,180)"
             ],
             [
              0.2,
              "rgb(116,173,209)"
             ],
             [
              0.3,
              "rgb(171,217,233)"
             ],
             [
              0.4,
              "rgb(224,243,248)"
             ],
             [
              0.5,
              "rgb(255,255,191)"
             ],
             [
              0.6,
              "rgb(254,224,144)"
             ],
             [
              0.7,
              "rgb(253,174,97)"
             ],
             [
              0.8,
              "rgb(244,109,67)"
             ],
             [
              0.9,
              "rgb(215,48,39)"
             ],
             [
              1,
              "rgb(165,0,38)"
             ]
            ],
            "showscale": false,
            "size": 20
           },
           "mode": "markers+text",
           "name": "Rushers",
           "text": [
            "Rusher Metric: -0.016",
            "Rusher Metric: 0.088",
            "Rusher Metric: -0.017",
            "Rusher Metric: -0.013",
            "Rusher Metric: -0.013",
            "Rusher Metric: -0.019"
           ],
           "textposition": "bottom center",
           "type": "scatter",
           "x": [
            71.43,
            72.12,
            74.79,
            72.31,
            72.3,
            72.24
           ],
           "y": [
            26.68,
            24.55,
            19.66,
            18.48,
            21.51,
            29.14
           ]
          },
          {
           "marker": {
            "cmax": 0.3,
            "cmin": -0.3,
            "color": [
             -0.0064088404178619385,
             -0.02574777603149414,
             -0.0029237866401672363,
             -0.0008718371391296387,
             -0.0017946958541870117,
             -0.0012657642364501953,
             -0.007595926523208618,
             -0.029318660497665405,
             0.0005917251110076904,
             -0.00516432523727417,
             -0.0022415518760681152,
             0.0004450678825378418,
             -0.006824404001235962,
             -0.03137955069541931,
             0.00007781386375427246,
             -0.007384747266769409,
             -0.004745900630950928,
             -0.00821387767791748,
             -0.007963716983795166,
             -0.029874056577682495,
             0.00019726157188415527,
             -0.010763883590698242,
             -0.004018336534500122,
             -0.011817753314971924,
             -0.0017058253288269043,
             -0.011593848466873169,
             0.000057131052017211914,
             -0.009065210819244385,
             -0.0047495365142822266,
             -0.011062651872634888,
             -0.007946580648422241,
             0.021355479955673218,
             -0.005540281534194946,
             -0.01551547646522522,
             -0.009910672903060913,
             -0.01639220118522644,
             -0.011359959840774536,
             0.04952174425125122,
             -0.006082445383071899,
             -0.011501550674438477,
             -0.010208964347839355,
             -0.014724671840667725,
             -0.011500775814056396,
             0.08198955655097961,
             -0.009909063577651978,
             -0.015194594860076904,
             -0.008880585432052612,
             -0.015957027673721313
            ],
            "colorscale": [
             [
              0,
              "rgb(49,54,149)"
             ],
             [
              0.1,
              "rgb(69,117,180)"
             ],
             [
              0.2,
              "rgb(116,173,209)"
             ],
             [
              0.3,
              "rgb(171,217,233)"
             ],
             [
              0.4,
              "rgb(224,243,248)"
             ],
             [
              0.5,
              "rgb(255,255,191)"
             ],
             [
              0.6,
              "rgb(254,224,144)"
             ],
             [
              0.7,
              "rgb(253,174,97)"
             ],
             [
              0.8,
              "rgb(244,109,67)"
             ],
             [
              0.9,
              "rgb(215,48,39)"
             ],
             [
              1,
              "rgb(165,0,38)"
             ]
            ],
            "showscale": false,
            "size": 10,
            "symbol": "circle"
           },
           "mode": "markers",
           "type": "scatter",
           "x": [
            72.56,
            72.58,
            74.93,
            73.01,
            72.81,
            73.13,
            72.52,
            72.58,
            74.92,
            73.01,
            72.8,
            73.09,
            72.45,
            72.56,
            74.91,
            72.99,
            72.79,
            73.05,
            72.35,
            72.53,
            74.9,
            72.96,
            72.75,
            72.98,
            72.21,
            72.49,
            74.88,
            72.89,
            72.71,
            72.9,
            72.04,
            72.42,
            74.86,
            72.8,
            72.63,
            72.79,
            71.86,
            72.34,
            74.84,
            72.66,
            72.55,
            72.64,
            71.64,
            72.25,
            74.82,
            72.51,
            72.43,
            72.46
           ],
           "y": [
            26.46,
            23.97,
            19.41,
            18.25,
            21.22,
            29.1,
            26.46,
            23.98,
            19.43,
            18.25,
            21.22,
            29.08,
            26.47,
            24.01,
            19.44,
            18.26,
            21.21,
            29.07,
            26.47,
            24.05,
            19.46,
            18.26,
            21.21,
            29.05,
            26.47,
            24.1,
            19.48,
            18.27,
            21.23,
            29.05,
            26.5,
            24.18,
            19.51,
            18.29,
            21.26,
            29.05,
            26.54,
            24.28,
            19.55,
            18.33,
            21.32,
            29.06,
            26.6,
            24.4,
            19.6,
            18.38,
            21.4,
            29.09
           ]
          },
          {
           "legendgroup": "Blockers",
           "marker": {
            "color": "black",
            "size": 20,
            "symbol": "x"
           },
           "mode": "markers",
           "name": "Blockers",
           "type": "scatter",
           "x": [
            71.09,
            70.43,
            70.64,
            69.88,
            70.56,
            70.5
           ],
           "y": [
            25.06,
            26.21,
            21.49,
            19.86,
            23.37,
            27.9
           ]
          },
          {
           "legendgroup": "QB",
           "marker": {
            "color": "black",
            "size": 20,
            "symbol": "diamond"
           },
           "mode": "markers",
           "name": "QB",
           "type": "scatter",
           "x": [
            66.3
           ],
           "y": [
            24.17
           ]
          },
          {
           "mode": "text",
           "text": [
            "QB Distruption Probability: 0.41"
           ],
           "textfont": {
            "color": "black",
            "size": 17
           },
           "type": "scatter",
           "x": [
            65.13
           ],
           "y": [
            35.53
           ]
          }
         ]
        },
        {
         "data": [
          {
           "legendgroup": "Rushers",
           "marker": {
            "cmax": 0.3,
            "cmin": -0.3,
            "color": [
             -0.015674471855163574,
             0.11937025189399719,
             -0.02548927068710327,
             -0.022544294595718384,
             -0.01457071304321289,
             -0.022990167140960693
            ],
            "colorscale": [
             [
              0,
              "rgb(49,54,149)"
             ],
             [
              0.1,
              "rgb(69,117,180)"
             ],
             [
              0.2,
              "rgb(116,173,209)"
             ],
             [
              0.3,
              "rgb(171,217,233)"
             ],
             [
              0.4,
              "rgb(224,243,248)"
             ],
             [
              0.5,
              "rgb(255,255,191)"
             ],
             [
              0.6,
              "rgb(254,224,144)"
             ],
             [
              0.7,
              "rgb(253,174,97)"
             ],
             [
              0.8,
              "rgb(244,109,67)"
             ],
             [
              0.9,
              "rgb(215,48,39)"
             ],
             [
              1,
              "rgb(165,0,38)"
             ]
            ],
            "showscale": false,
            "size": 20
           },
           "mode": "markers+text",
           "name": "Rushers",
           "text": [
            "Rusher Metric: -0.016",
            "Rusher Metric: 0.119",
            "Rusher Metric: -0.025",
            "Rusher Metric: -0.023",
            "Rusher Metric: -0.015",
            "Rusher Metric: -0.023"
           ],
           "textposition": "bottom center",
           "type": "scatter",
           "x": [
            71.2,
            71.96,
            74.76,
            72.09,
            72.16,
            72
           ],
           "y": [
            26.77,
            24.75,
            19.73,
            18.57,
            21.68,
            29.22
           ]
          },
          {
           "marker": {
            "cmax": 0.3,
            "cmin": -0.3,
            "color": [
             -0.0064088404178619385,
             -0.02574777603149414,
             -0.0029237866401672363,
             -0.0008718371391296387,
             -0.0017946958541870117,
             -0.0012657642364501953,
             -0.007595926523208618,
             -0.029318660497665405,
             0.0005917251110076904,
             -0.00516432523727417,
             -0.0022415518760681152,
             0.0004450678825378418,
             -0.006824404001235962,
             -0.03137955069541931,
             0.00007781386375427246,
             -0.007384747266769409,
             -0.004745900630950928,
             -0.00821387767791748,
             -0.007963716983795166,
             -0.029874056577682495,
             0.00019726157188415527,
             -0.010763883590698242,
             -0.004018336534500122,
             -0.011817753314971924,
             -0.0017058253288269043,
             -0.011593848466873169,
             0.000057131052017211914,
             -0.009065210819244385,
             -0.0047495365142822266,
             -0.011062651872634888,
             -0.007946580648422241,
             0.021355479955673218,
             -0.005540281534194946,
             -0.01551547646522522,
             -0.009910672903060913,
             -0.01639220118522644,
             -0.011359959840774536,
             0.04952174425125122,
             -0.006082445383071899,
             -0.011501550674438477,
             -0.010208964347839355,
             -0.014724671840667725,
             -0.011500775814056396,
             0.08198955655097961,
             -0.009909063577651978,
             -0.015194594860076904,
             -0.008880585432052612,
             -0.015957027673721313,
             -0.015709787607192993,
             0.08812889456748962,
             -0.01654374599456787,
             -0.012733310461044312,
             -0.012576043605804443,
             -0.019140541553497314
            ],
            "colorscale": [
             [
              0,
              "rgb(49,54,149)"
             ],
             [
              0.1,
              "rgb(69,117,180)"
             ],
             [
              0.2,
              "rgb(116,173,209)"
             ],
             [
              0.3,
              "rgb(171,217,233)"
             ],
             [
              0.4,
              "rgb(224,243,248)"
             ],
             [
              0.5,
              "rgb(255,255,191)"
             ],
             [
              0.6,
              "rgb(254,224,144)"
             ],
             [
              0.7,
              "rgb(253,174,97)"
             ],
             [
              0.8,
              "rgb(244,109,67)"
             ],
             [
              0.9,
              "rgb(215,48,39)"
             ],
             [
              1,
              "rgb(165,0,38)"
             ]
            ],
            "showscale": false,
            "size": 10,
            "symbol": "circle"
           },
           "mode": "markers",
           "type": "scatter",
           "x": [
            72.56,
            72.58,
            74.93,
            73.01,
            72.81,
            73.13,
            72.52,
            72.58,
            74.92,
            73.01,
            72.8,
            73.09,
            72.45,
            72.56,
            74.91,
            72.99,
            72.79,
            73.05,
            72.35,
            72.53,
            74.9,
            72.96,
            72.75,
            72.98,
            72.21,
            72.49,
            74.88,
            72.89,
            72.71,
            72.9,
            72.04,
            72.42,
            74.86,
            72.8,
            72.63,
            72.79,
            71.86,
            72.34,
            74.84,
            72.66,
            72.55,
            72.64,
            71.64,
            72.25,
            74.82,
            72.51,
            72.43,
            72.46,
            71.43,
            72.12,
            74.79,
            72.31,
            72.3,
            72.24
           ],
           "y": [
            26.46,
            23.97,
            19.41,
            18.25,
            21.22,
            29.1,
            26.46,
            23.98,
            19.43,
            18.25,
            21.22,
            29.08,
            26.47,
            24.01,
            19.44,
            18.26,
            21.21,
            29.07,
            26.47,
            24.05,
            19.46,
            18.26,
            21.21,
            29.05,
            26.47,
            24.1,
            19.48,
            18.27,
            21.23,
            29.05,
            26.5,
            24.18,
            19.51,
            18.29,
            21.26,
            29.05,
            26.54,
            24.28,
            19.55,
            18.33,
            21.32,
            29.06,
            26.6,
            24.4,
            19.6,
            18.38,
            21.4,
            29.09,
            26.68,
            24.55,
            19.66,
            18.48,
            21.51,
            29.14
           ]
          },
          {
           "legendgroup": "Blockers",
           "marker": {
            "color": "black",
            "size": 20,
            "symbol": "x"
           },
           "mode": "markers",
           "name": "Blockers",
           "type": "scatter",
           "x": [
            70.96,
            70.3,
            70.63,
            69.82,
            70.51,
            70.38
           ],
           "y": [
            25.31,
            26.36,
            21.72,
            20.01,
            23.67,
            28.16
           ]
          },
          {
           "legendgroup": "QB",
           "marker": {
            "color": "black",
            "size": 20,
            "symbol": "diamond"
           },
           "mode": "markers",
           "name": "QB",
           "type": "scatter",
           "x": [
            66.14
           ],
           "y": [
            24.26
           ]
          },
          {
           "mode": "text",
           "text": [
            "QB Distruption Probability: 0.43"
           ],
           "textfont": {
            "color": "black",
            "size": 17
           },
           "type": "scatter",
           "x": [
            65.13
           ],
           "y": [
            35.53
           ]
          }
         ]
        },
        {
         "data": [
          {
           "legendgroup": "Rushers",
           "marker": {
            "cmax": 0.3,
            "cmin": -0.3,
            "color": [
             -0.01613551378250122,
             0.12305134534835815,
             -0.0406566858291626,
             -0.03410723805427551,
             -0.020864278078079224,
             -0.032570213079452515
            ],
            "colorscale": [
             [
              0,
              "rgb(49,54,149)"
             ],
             [
              0.1,
              "rgb(69,117,180)"
             ],
             [
              0.2,
              "rgb(116,173,209)"
             ],
             [
              0.3,
              "rgb(171,217,233)"
             ],
             [
              0.4,
              "rgb(224,243,248)"
             ],
             [
              0.5,
              "rgb(255,255,191)"
             ],
             [
              0.6,
              "rgb(254,224,144)"
             ],
             [
              0.7,
              "rgb(253,174,97)"
             ],
             [
              0.8,
              "rgb(244,109,67)"
             ],
             [
              0.9,
              "rgb(215,48,39)"
             ],
             [
              1,
              "rgb(165,0,38)"
             ]
            ],
            "showscale": false,
            "size": 20
           },
           "mode": "markers+text",
           "name": "Rushers",
           "text": [
            "Rusher Metric: -0.016",
            "Rusher Metric: 0.123",
            "Rusher Metric: -0.041",
            "Rusher Metric: -0.034",
            "Rusher Metric: -0.021",
            "Rusher Metric: -0.033"
           ],
           "textposition": "bottom center",
           "type": "scatter",
           "x": [
            70.97,
            71.8,
            74.72,
            71.87,
            72.03,
            71.75
           ],
           "y": [
            26.9,
            24.97,
            19.81,
            18.69,
            21.87,
            29.35
           ]
          },
          {
           "marker": {
            "cmax": 0.3,
            "cmin": -0.3,
            "color": [
             -0.0064088404178619385,
             -0.02574777603149414,
             -0.0029237866401672363,
             -0.0008718371391296387,
             -0.0017946958541870117,
             -0.0012657642364501953,
             -0.007595926523208618,
             -0.029318660497665405,
             0.0005917251110076904,
             -0.00516432523727417,
             -0.0022415518760681152,
             0.0004450678825378418,
             -0.006824404001235962,
             -0.03137955069541931,
             0.00007781386375427246,
             -0.007384747266769409,
             -0.004745900630950928,
             -0.00821387767791748,
             -0.007963716983795166,
             -0.029874056577682495,
             0.00019726157188415527,
             -0.010763883590698242,
             -0.004018336534500122,
             -0.011817753314971924,
             -0.0017058253288269043,
             -0.011593848466873169,
             0.000057131052017211914,
             -0.009065210819244385,
             -0.0047495365142822266,
             -0.011062651872634888,
             -0.007946580648422241,
             0.021355479955673218,
             -0.005540281534194946,
             -0.01551547646522522,
             -0.009910672903060913,
             -0.01639220118522644,
             -0.011359959840774536,
             0.04952174425125122,
             -0.006082445383071899,
             -0.011501550674438477,
             -0.010208964347839355,
             -0.014724671840667725,
             -0.011500775814056396,
             0.08198955655097961,
             -0.009909063577651978,
             -0.015194594860076904,
             -0.008880585432052612,
             -0.015957027673721313,
             -0.015709787607192993,
             0.08812889456748962,
             -0.01654374599456787,
             -0.012733310461044312,
             -0.012576043605804443,
             -0.019140541553497314,
             -0.015674471855163574,
             0.11937025189399719,
             -0.02548927068710327,
             -0.022544294595718384,
             -0.01457071304321289,
             -0.022990167140960693
            ],
            "colorscale": [
             [
              0,
              "rgb(49,54,149)"
             ],
             [
              0.1,
              "rgb(69,117,180)"
             ],
             [
              0.2,
              "rgb(116,173,209)"
             ],
             [
              0.3,
              "rgb(171,217,233)"
             ],
             [
              0.4,
              "rgb(224,243,248)"
             ],
             [
              0.5,
              "rgb(255,255,191)"
             ],
             [
              0.6,
              "rgb(254,224,144)"
             ],
             [
              0.7,
              "rgb(253,174,97)"
             ],
             [
              0.8,
              "rgb(244,109,67)"
             ],
             [
              0.9,
              "rgb(215,48,39)"
             ],
             [
              1,
              "rgb(165,0,38)"
             ]
            ],
            "showscale": false,
            "size": 10,
            "symbol": "circle"
           },
           "mode": "markers",
           "type": "scatter",
           "x": [
            72.56,
            72.58,
            74.93,
            73.01,
            72.81,
            73.13,
            72.52,
            72.58,
            74.92,
            73.01,
            72.8,
            73.09,
            72.45,
            72.56,
            74.91,
            72.99,
            72.79,
            73.05,
            72.35,
            72.53,
            74.9,
            72.96,
            72.75,
            72.98,
            72.21,
            72.49,
            74.88,
            72.89,
            72.71,
            72.9,
            72.04,
            72.42,
            74.86,
            72.8,
            72.63,
            72.79,
            71.86,
            72.34,
            74.84,
            72.66,
            72.55,
            72.64,
            71.64,
            72.25,
            74.82,
            72.51,
            72.43,
            72.46,
            71.43,
            72.12,
            74.79,
            72.31,
            72.3,
            72.24,
            71.2,
            71.96,
            74.76,
            72.09,
            72.16,
            72
           ],
           "y": [
            26.46,
            23.97,
            19.41,
            18.25,
            21.22,
            29.1,
            26.46,
            23.98,
            19.43,
            18.25,
            21.22,
            29.08,
            26.47,
            24.01,
            19.44,
            18.26,
            21.21,
            29.07,
            26.47,
            24.05,
            19.46,
            18.26,
            21.21,
            29.05,
            26.47,
            24.1,
            19.48,
            18.27,
            21.23,
            29.05,
            26.5,
            24.18,
            19.51,
            18.29,
            21.26,
            29.05,
            26.54,
            24.28,
            19.55,
            18.33,
            21.32,
            29.06,
            26.6,
            24.4,
            19.6,
            18.38,
            21.4,
            29.09,
            26.68,
            24.55,
            19.66,
            18.48,
            21.51,
            29.14,
            26.77,
            24.75,
            19.73,
            18.57,
            21.68,
            29.22
           ]
          },
          {
           "legendgroup": "Blockers",
           "marker": {
            "color": "black",
            "size": 20,
            "symbol": "x"
           },
           "mode": "markers",
           "name": "Blockers",
           "type": "scatter",
           "x": [
            70.8,
            70.17,
            70.63,
            69.76,
            70.46,
            70.27
           ],
           "y": [
            25.58,
            26.52,
            21.94,
            20.17,
            23.98,
            28.41
           ]
          },
          {
           "legendgroup": "QB",
           "marker": {
            "color": "black",
            "size": 20,
            "symbol": "diamond"
           },
           "mode": "markers",
           "name": "QB",
           "type": "scatter",
           "x": [
            65.96
           ],
           "y": [
            24.38
           ]
          },
          {
           "mode": "text",
           "text": [
            "QB Distruption Probability: 0.441"
           ],
           "textfont": {
            "color": "black",
            "size": 17
           },
           "type": "scatter",
           "x": [
            65.13
           ],
           "y": [
            35.53
           ]
          }
         ]
        },
        {
         "data": [
          {
           "legendgroup": "Rushers",
           "marker": {
            "cmax": 0.3,
            "cmin": -0.3,
            "color": [
             -0.016895383596420288,
             0.14136657118797302,
             -0.05078613758087158,
             -0.03787901997566223,
             -0.022208303213119507,
             -0.03222337365150452
            ],
            "colorscale": [
             [
              0,
              "rgb(49,54,149)"
             ],
             [
              0.1,
              "rgb(69,117,180)"
             ],
             [
              0.2,
              "rgb(116,173,209)"
             ],
             [
              0.3,
              "rgb(171,217,233)"
             ],
             [
              0.4,
              "rgb(224,243,248)"
             ],
             [
              0.5,
              "rgb(255,255,191)"
             ],
             [
              0.6,
              "rgb(254,224,144)"
             ],
             [
              0.7,
              "rgb(253,174,97)"
             ],
             [
              0.8,
              "rgb(244,109,67)"
             ],
             [
              0.9,
              "rgb(215,48,39)"
             ],
             [
              1,
              "rgb(165,0,38)"
             ]
            ],
            "showscale": false,
            "size": 20
           },
           "mode": "markers+text",
           "name": "Rushers",
           "text": [
            "Rusher Metric: -0.017",
            "Rusher Metric: 0.141",
            "Rusher Metric: -0.051",
            "Rusher Metric: -0.038",
            "Rusher Metric: -0.022",
            "Rusher Metric: -0.032"
           ],
           "textposition": "bottom center",
           "type": "scatter",
           "x": [
            70.77,
            71.62,
            74.68,
            71.62,
            71.9,
            71.49
           ],
           "y": [
            27.05,
            25.22,
            19.89,
            18.84,
            22.08,
            29.5
           ]
          },
          {
           "marker": {
            "cmax": 0.3,
            "cmin": -0.3,
            "color": [
             -0.0064088404178619385,
             -0.02574777603149414,
             -0.0029237866401672363,
             -0.0008718371391296387,
             -0.0017946958541870117,
             -0.0012657642364501953,
             -0.007595926523208618,
             -0.029318660497665405,
             0.0005917251110076904,
             -0.00516432523727417,
             -0.0022415518760681152,
             0.0004450678825378418,
             -0.006824404001235962,
             -0.03137955069541931,
             0.00007781386375427246,
             -0.007384747266769409,
             -0.004745900630950928,
             -0.00821387767791748,
             -0.007963716983795166,
             -0.029874056577682495,
             0.00019726157188415527,
             -0.010763883590698242,
             -0.004018336534500122,
             -0.011817753314971924,
             -0.0017058253288269043,
             -0.011593848466873169,
             0.000057131052017211914,
             -0.009065210819244385,
             -0.0047495365142822266,
             -0.011062651872634888,
             -0.007946580648422241,
             0.021355479955673218,
             -0.005540281534194946,
             -0.01551547646522522,
             -0.009910672903060913,
             -0.01639220118522644,
             -0.011359959840774536,
             0.04952174425125122,
             -0.006082445383071899,
             -0.011501550674438477,
             -0.010208964347839355,
             -0.014724671840667725,
             -0.011500775814056396,
             0.08198955655097961,
             -0.009909063577651978,
             -0.015194594860076904,
             -0.008880585432052612,
             -0.015957027673721313,
             -0.015709787607192993,
             0.08812889456748962,
             -0.01654374599456787,
             -0.012733310461044312,
             -0.012576043605804443,
             -0.019140541553497314,
             -0.015674471855163574,
             0.11937025189399719,
             -0.02548927068710327,
             -0.022544294595718384,
             -0.01457071304321289,
             -0.022990167140960693,
             -0.01613551378250122,
             0.12305134534835815,
             -0.0406566858291626,
             -0.03410723805427551,
             -0.020864278078079224,
             -0.032570213079452515
            ],
            "colorscale": [
             [
              0,
              "rgb(49,54,149)"
             ],
             [
              0.1,
              "rgb(69,117,180)"
             ],
             [
              0.2,
              "rgb(116,173,209)"
             ],
             [
              0.3,
              "rgb(171,217,233)"
             ],
             [
              0.4,
              "rgb(224,243,248)"
             ],
             [
              0.5,
              "rgb(255,255,191)"
             ],
             [
              0.6,
              "rgb(254,224,144)"
             ],
             [
              0.7,
              "rgb(253,174,97)"
             ],
             [
              0.8,
              "rgb(244,109,67)"
             ],
             [
              0.9,
              "rgb(215,48,39)"
             ],
             [
              1,
              "rgb(165,0,38)"
             ]
            ],
            "showscale": false,
            "size": 10,
            "symbol": "circle"
           },
           "mode": "markers",
           "type": "scatter",
           "x": [
            72.56,
            72.58,
            74.93,
            73.01,
            72.81,
            73.13,
            72.52,
            72.58,
            74.92,
            73.01,
            72.8,
            73.09,
            72.45,
            72.56,
            74.91,
            72.99,
            72.79,
            73.05,
            72.35,
            72.53,
            74.9,
            72.96,
            72.75,
            72.98,
            72.21,
            72.49,
            74.88,
            72.89,
            72.71,
            72.9,
            72.04,
            72.42,
            74.86,
            72.8,
            72.63,
            72.79,
            71.86,
            72.34,
            74.84,
            72.66,
            72.55,
            72.64,
            71.64,
            72.25,
            74.82,
            72.51,
            72.43,
            72.46,
            71.43,
            72.12,
            74.79,
            72.31,
            72.3,
            72.24,
            71.2,
            71.96,
            74.76,
            72.09,
            72.16,
            72,
            70.97,
            71.8,
            74.72,
            71.87,
            72.03,
            71.75
           ],
           "y": [
            26.46,
            23.97,
            19.41,
            18.25,
            21.22,
            29.1,
            26.46,
            23.98,
            19.43,
            18.25,
            21.22,
            29.08,
            26.47,
            24.01,
            19.44,
            18.26,
            21.21,
            29.07,
            26.47,
            24.05,
            19.46,
            18.26,
            21.21,
            29.05,
            26.47,
            24.1,
            19.48,
            18.27,
            21.23,
            29.05,
            26.5,
            24.18,
            19.51,
            18.29,
            21.26,
            29.05,
            26.54,
            24.28,
            19.55,
            18.33,
            21.32,
            29.06,
            26.6,
            24.4,
            19.6,
            18.38,
            21.4,
            29.09,
            26.68,
            24.55,
            19.66,
            18.48,
            21.51,
            29.14,
            26.77,
            24.75,
            19.73,
            18.57,
            21.68,
            29.22,
            26.9,
            24.97,
            19.81,
            18.69,
            21.87,
            29.35
           ]
          },
          {
           "legendgroup": "Blockers",
           "marker": {
            "color": "black",
            "size": 20,
            "symbol": "x"
           },
           "mode": "markers",
           "name": "Blockers",
           "type": "scatter",
           "x": [
            70.63,
            70.04,
            70.62,
            69.68,
            70.39,
            70.14
           ],
           "y": [
            25.86,
            26.69,
            22.18,
            20.35,
            24.3,
            28.69
           ]
          },
          {
           "legendgroup": "QB",
           "marker": {
            "color": "black",
            "size": 20,
            "symbol": "diamond"
           },
           "mode": "markers",
           "name": "QB",
           "type": "scatter",
           "x": [
            65.75
           ],
           "y": [
            24.55
           ]
          },
          {
           "mode": "text",
           "text": [
            "QB Distruption Probability: 0.459"
           ],
           "textfont": {
            "color": "black",
            "size": 17
           },
           "type": "scatter",
           "x": [
            65.13
           ],
           "y": [
            35.53
           ]
          }
         ]
        },
        {
         "data": [
          {
           "legendgroup": "Rushers",
           "marker": {
            "cmax": 0.3,
            "cmin": -0.3,
            "color": [
             -0.015348345041275024,
             0.12428015470504761,
             -0.06019362807273865,
             -0.04119196534156799,
             -0.024028509855270386,
             -0.035362690687179565
            ],
            "colorscale": [
             [
              0,
              "rgb(49,54,149)"
             ],
             [
              0.1,
              "rgb(69,117,180)"
             ],
             [
              0.2,
              "rgb(116,173,209)"
             ],
             [
              0.3,
              "rgb(171,217,233)"
             ],
             [
              0.4,
              "rgb(224,243,248)"
             ],
             [
              0.5,
              "rgb(255,255,191)"
             ],
             [
              0.6,
              "rgb(254,224,144)"
             ],
             [
              0.7,
              "rgb(253,174,97)"
             ],
             [
              0.8,
              "rgb(244,109,67)"
             ],
             [
              0.9,
              "rgb(215,48,39)"
             ],
             [
              1,
              "rgb(165,0,38)"
             ]
            ],
            "showscale": false,
            "size": 20
           },
           "mode": "markers+text",
           "name": "Rushers",
           "text": [
            "Rusher Metric: -0.015",
            "Rusher Metric: 0.124",
            "Rusher Metric: -0.06",
            "Rusher Metric: -0.041",
            "Rusher Metric: -0.024",
            "Rusher Metric: -0.035"
           ],
           "textposition": "bottom center",
           "type": "scatter",
           "x": [
            70.56,
            71.44,
            74.63,
            71.34,
            71.78,
            71.23
           ],
           "y": [
            27.22,
            25.51,
            19.99,
            19.01,
            22.34,
            29.7
           ]
          },
          {
           "marker": {
            "cmax": 0.3,
            "cmin": -0.3,
            "color": [
             -0.0064088404178619385,
             -0.02574777603149414,
             -0.0029237866401672363,
             -0.0008718371391296387,
             -0.0017946958541870117,
             -0.0012657642364501953,
             -0.007595926523208618,
             -0.029318660497665405,
             0.0005917251110076904,
             -0.00516432523727417,
             -0.0022415518760681152,
             0.0004450678825378418,
             -0.006824404001235962,
             -0.03137955069541931,
             0.00007781386375427246,
             -0.007384747266769409,
             -0.004745900630950928,
             -0.00821387767791748,
             -0.007963716983795166,
             -0.029874056577682495,
             0.00019726157188415527,
             -0.010763883590698242,
             -0.004018336534500122,
             -0.011817753314971924,
             -0.0017058253288269043,
             -0.011593848466873169,
             0.000057131052017211914,
             -0.009065210819244385,
             -0.0047495365142822266,
             -0.011062651872634888,
             -0.007946580648422241,
             0.021355479955673218,
             -0.005540281534194946,
             -0.01551547646522522,
             -0.009910672903060913,
             -0.01639220118522644,
             -0.011359959840774536,
             0.04952174425125122,
             -0.006082445383071899,
             -0.011501550674438477,
             -0.010208964347839355,
             -0.014724671840667725,
             -0.011500775814056396,
             0.08198955655097961,
             -0.009909063577651978,
             -0.015194594860076904,
             -0.008880585432052612,
             -0.015957027673721313,
             -0.015709787607192993,
             0.08812889456748962,
             -0.01654374599456787,
             -0.012733310461044312,
             -0.012576043605804443,
             -0.019140541553497314,
             -0.015674471855163574,
             0.11937025189399719,
             -0.02548927068710327,
             -0.022544294595718384,
             -0.01457071304321289,
             -0.022990167140960693,
             -0.01613551378250122,
             0.12305134534835815,
             -0.0406566858291626,
             -0.03410723805427551,
             -0.020864278078079224,
             -0.032570213079452515,
             -0.016895383596420288,
             0.14136657118797302,
             -0.05078613758087158,
             -0.03787901997566223,
             -0.022208303213119507,
             -0.03222337365150452
            ],
            "colorscale": [
             [
              0,
              "rgb(49,54,149)"
             ],
             [
              0.1,
              "rgb(69,117,180)"
             ],
             [
              0.2,
              "rgb(116,173,209)"
             ],
             [
              0.3,
              "rgb(171,217,233)"
             ],
             [
              0.4,
              "rgb(224,243,248)"
             ],
             [
              0.5,
              "rgb(255,255,191)"
             ],
             [
              0.6,
              "rgb(254,224,144)"
             ],
             [
              0.7,
              "rgb(253,174,97)"
             ],
             [
              0.8,
              "rgb(244,109,67)"
             ],
             [
              0.9,
              "rgb(215,48,39)"
             ],
             [
              1,
              "rgb(165,0,38)"
             ]
            ],
            "showscale": false,
            "size": 10,
            "symbol": "circle"
           },
           "mode": "markers",
           "type": "scatter",
           "x": [
            72.56,
            72.58,
            74.93,
            73.01,
            72.81,
            73.13,
            72.52,
            72.58,
            74.92,
            73.01,
            72.8,
            73.09,
            72.45,
            72.56,
            74.91,
            72.99,
            72.79,
            73.05,
            72.35,
            72.53,
            74.9,
            72.96,
            72.75,
            72.98,
            72.21,
            72.49,
            74.88,
            72.89,
            72.71,
            72.9,
            72.04,
            72.42,
            74.86,
            72.8,
            72.63,
            72.79,
            71.86,
            72.34,
            74.84,
            72.66,
            72.55,
            72.64,
            71.64,
            72.25,
            74.82,
            72.51,
            72.43,
            72.46,
            71.43,
            72.12,
            74.79,
            72.31,
            72.3,
            72.24,
            71.2,
            71.96,
            74.76,
            72.09,
            72.16,
            72,
            70.97,
            71.8,
            74.72,
            71.87,
            72.03,
            71.75,
            70.77,
            71.62,
            74.68,
            71.62,
            71.9,
            71.49
           ],
           "y": [
            26.46,
            23.97,
            19.41,
            18.25,
            21.22,
            29.1,
            26.46,
            23.98,
            19.43,
            18.25,
            21.22,
            29.08,
            26.47,
            24.01,
            19.44,
            18.26,
            21.21,
            29.07,
            26.47,
            24.05,
            19.46,
            18.26,
            21.21,
            29.05,
            26.47,
            24.1,
            19.48,
            18.27,
            21.23,
            29.05,
            26.5,
            24.18,
            19.51,
            18.29,
            21.26,
            29.05,
            26.54,
            24.28,
            19.55,
            18.33,
            21.32,
            29.06,
            26.6,
            24.4,
            19.6,
            18.38,
            21.4,
            29.09,
            26.68,
            24.55,
            19.66,
            18.48,
            21.51,
            29.14,
            26.77,
            24.75,
            19.73,
            18.57,
            21.68,
            29.22,
            26.9,
            24.97,
            19.81,
            18.69,
            21.87,
            29.35,
            27.05,
            25.22,
            19.89,
            18.84,
            22.08,
            29.5
           ]
          },
          {
           "legendgroup": "Blockers",
           "marker": {
            "color": "black",
            "size": 20,
            "symbol": "x"
           },
           "mode": "markers",
           "name": "Blockers",
           "type": "scatter",
           "x": [
            70.47,
            69.9,
            70.61,
            69.59,
            70.29,
            70.01
           ],
           "y": [
            26.15,
            26.85,
            22.43,
            20.52,
            24.63,
            28.98
           ]
          },
          {
           "legendgroup": "QB",
           "marker": {
            "color": "black",
            "size": 20,
            "symbol": "diamond"
           },
           "mode": "markers",
           "name": "QB",
           "type": "scatter",
           "x": [
            65.54
           ],
           "y": [
            24.74
           ]
          },
          {
           "mode": "text",
           "text": [
            "QB Distruption Probability: 0.473"
           ],
           "textfont": {
            "color": "black",
            "size": 17
           },
           "type": "scatter",
           "x": [
            65.13
           ],
           "y": [
            35.53
           ]
          }
         ]
        },
        {
         "data": [
          {
           "legendgroup": "Rushers",
           "marker": {
            "cmax": 0.3,
            "cmin": -0.3,
            "color": [
             -0.014958977699279785,
             0.136225163936615,
             -0.07039898633956909,
             -0.04699438810348511,
             -0.025719046592712402,
             -0.03628295660018921
            ],
            "colorscale": [
             [
              0,
              "rgb(49,54,149)"
             ],
             [
              0.1,
              "rgb(69,117,180)"
             ],
             [
              0.2,
              "rgb(116,173,209)"
             ],
             [
              0.3,
              "rgb(171,217,233)"
             ],
             [
              0.4,
              "rgb(224,243,248)"
             ],
             [
              0.5,
              "rgb(255,255,191)"
             ],
             [
              0.6,
              "rgb(254,224,144)"
             ],
             [
              0.7,
              "rgb(253,174,97)"
             ],
             [
              0.8,
              "rgb(244,109,67)"
             ],
             [
              0.9,
              "rgb(215,48,39)"
             ],
             [
              1,
              "rgb(165,0,38)"
             ]
            ],
            "showscale": false,
            "size": 20
           },
           "mode": "markers+text",
           "name": "Rushers",
           "text": [
            "Rusher Metric: -0.015",
            "Rusher Metric: 0.136",
            "Rusher Metric: -0.07",
            "Rusher Metric: -0.047",
            "Rusher Metric: -0.026",
            "Rusher Metric: -0.036"
           ],
           "textposition": "bottom center",
           "type": "scatter",
           "x": [
            70.36,
            71.26,
            74.57,
            71.02,
            71.66,
            70.97
           ],
           "y": [
            27.42,
            25.81,
            20.08,
            19.19,
            22.6,
            29.93
           ]
          },
          {
           "marker": {
            "cmax": 0.3,
            "cmin": -0.3,
            "color": [
             -0.0064088404178619385,
             -0.02574777603149414,
             -0.0029237866401672363,
             -0.0008718371391296387,
             -0.0017946958541870117,
             -0.0012657642364501953,
             -0.007595926523208618,
             -0.029318660497665405,
             0.0005917251110076904,
             -0.00516432523727417,
             -0.0022415518760681152,
             0.0004450678825378418,
             -0.006824404001235962,
             -0.03137955069541931,
             0.00007781386375427246,
             -0.007384747266769409,
             -0.004745900630950928,
             -0.00821387767791748,
             -0.007963716983795166,
             -0.029874056577682495,
             0.00019726157188415527,
             -0.010763883590698242,
             -0.004018336534500122,
             -0.011817753314971924,
             -0.0017058253288269043,
             -0.011593848466873169,
             0.000057131052017211914,
             -0.009065210819244385,
             -0.0047495365142822266,
             -0.011062651872634888,
             -0.007946580648422241,
             0.021355479955673218,
             -0.005540281534194946,
             -0.01551547646522522,
             -0.009910672903060913,
             -0.01639220118522644,
             -0.011359959840774536,
             0.04952174425125122,
             -0.006082445383071899,
             -0.011501550674438477,
             -0.010208964347839355,
             -0.014724671840667725,
             -0.011500775814056396,
             0.08198955655097961,
             -0.009909063577651978,
             -0.015194594860076904,
             -0.008880585432052612,
             -0.015957027673721313,
             -0.015709787607192993,
             0.08812889456748962,
             -0.01654374599456787,
             -0.012733310461044312,
             -0.012576043605804443,
             -0.019140541553497314,
             -0.015674471855163574,
             0.11937025189399719,
             -0.02548927068710327,
             -0.022544294595718384,
             -0.01457071304321289,
             -0.022990167140960693,
             -0.01613551378250122,
             0.12305134534835815,
             -0.0406566858291626,
             -0.03410723805427551,
             -0.020864278078079224,
             -0.032570213079452515,
             -0.016895383596420288,
             0.14136657118797302,
             -0.05078613758087158,
             -0.03787901997566223,
             -0.022208303213119507,
             -0.03222337365150452,
             -0.015348345041275024,
             0.12428015470504761,
             -0.06019362807273865,
             -0.04119196534156799,
             -0.024028509855270386,
             -0.035362690687179565
            ],
            "colorscale": [
             [
              0,
              "rgb(49,54,149)"
             ],
             [
              0.1,
              "rgb(69,117,180)"
             ],
             [
              0.2,
              "rgb(116,173,209)"
             ],
             [
              0.3,
              "rgb(171,217,233)"
             ],
             [
              0.4,
              "rgb(224,243,248)"
             ],
             [
              0.5,
              "rgb(255,255,191)"
             ],
             [
              0.6,
              "rgb(254,224,144)"
             ],
             [
              0.7,
              "rgb(253,174,97)"
             ],
             [
              0.8,
              "rgb(244,109,67)"
             ],
             [
              0.9,
              "rgb(215,48,39)"
             ],
             [
              1,
              "rgb(165,0,38)"
             ]
            ],
            "showscale": false,
            "size": 10,
            "symbol": "circle"
           },
           "mode": "markers",
           "type": "scatter",
           "x": [
            72.56,
            72.58,
            74.93,
            73.01,
            72.81,
            73.13,
            72.52,
            72.58,
            74.92,
            73.01,
            72.8,
            73.09,
            72.45,
            72.56,
            74.91,
            72.99,
            72.79,
            73.05,
            72.35,
            72.53,
            74.9,
            72.96,
            72.75,
            72.98,
            72.21,
            72.49,
            74.88,
            72.89,
            72.71,
            72.9,
            72.04,
            72.42,
            74.86,
            72.8,
            72.63,
            72.79,
            71.86,
            72.34,
            74.84,
            72.66,
            72.55,
            72.64,
            71.64,
            72.25,
            74.82,
            72.51,
            72.43,
            72.46,
            71.43,
            72.12,
            74.79,
            72.31,
            72.3,
            72.24,
            71.2,
            71.96,
            74.76,
            72.09,
            72.16,
            72,
            70.97,
            71.8,
            74.72,
            71.87,
            72.03,
            71.75,
            70.77,
            71.62,
            74.68,
            71.62,
            71.9,
            71.49,
            70.56,
            71.44,
            74.63,
            71.34,
            71.78,
            71.23
           ],
           "y": [
            26.46,
            23.97,
            19.41,
            18.25,
            21.22,
            29.1,
            26.46,
            23.98,
            19.43,
            18.25,
            21.22,
            29.08,
            26.47,
            24.01,
            19.44,
            18.26,
            21.21,
            29.07,
            26.47,
            24.05,
            19.46,
            18.26,
            21.21,
            29.05,
            26.47,
            24.1,
            19.48,
            18.27,
            21.23,
            29.05,
            26.5,
            24.18,
            19.51,
            18.29,
            21.26,
            29.05,
            26.54,
            24.28,
            19.55,
            18.33,
            21.32,
            29.06,
            26.6,
            24.4,
            19.6,
            18.38,
            21.4,
            29.09,
            26.68,
            24.55,
            19.66,
            18.48,
            21.51,
            29.14,
            26.77,
            24.75,
            19.73,
            18.57,
            21.68,
            29.22,
            26.9,
            24.97,
            19.81,
            18.69,
            21.87,
            29.35,
            27.05,
            25.22,
            19.89,
            18.84,
            22.08,
            29.5,
            27.22,
            25.51,
            19.99,
            19.01,
            22.34,
            29.7
           ]
          },
          {
           "legendgroup": "Blockers",
           "marker": {
            "color": "black",
            "size": 20,
            "symbol": "x"
           },
           "mode": "markers",
           "name": "Blockers",
           "type": "scatter",
           "x": [
            70.29,
            69.75,
            70.57,
            69.48,
            70.18,
            69.87
           ],
           "y": [
            26.43,
            27.05,
            22.68,
            20.7,
            24.95,
            29.29
           ]
          },
          {
           "legendgroup": "QB",
           "marker": {
            "color": "black",
            "size": 20,
            "symbol": "diamond"
           },
           "mode": "markers",
           "name": "QB",
           "type": "scatter",
           "x": [
            65.32
           ],
           "y": [
            24.99
           ]
          },
          {
           "mode": "text",
           "text": [
            "QB Distruption Probability: 0.487"
           ],
           "textfont": {
            "color": "black",
            "size": 17
           },
           "type": "scatter",
           "x": [
            65.13
           ],
           "y": [
            35.53
           ]
          }
         ]
        },
        {
         "data": [
          {
           "legendgroup": "Rushers",
           "marker": {
            "cmax": 0.3,
            "cmin": -0.3,
            "color": [
             -0.013534873723983765,
             0.1272079050540924,
             -0.0852215588092804,
             -0.05436775088310242,
             -0.030734330415725708,
             -0.04216274619102478
            ],
            "colorscale": [
             [
              0,
              "rgb(49,54,149)"
             ],
             [
              0.1,
              "rgb(69,117,180)"
             ],
             [
              0.2,
              "rgb(116,173,209)"
             ],
             [
              0.3,
              "rgb(171,217,233)"
             ],
             [
              0.4,
              "rgb(224,243,248)"
             ],
             [
              0.5,
              "rgb(255,255,191)"
             ],
             [
              0.6,
              "rgb(254,224,144)"
             ],
             [
              0.7,
              "rgb(253,174,97)"
             ],
             [
              0.8,
              "rgb(244,109,67)"
             ],
             [
              0.9,
              "rgb(215,48,39)"
             ],
             [
              1,
              "rgb(165,0,38)"
             ]
            ],
            "showscale": false,
            "size": 20
           },
           "mode": "markers+text",
           "name": "Rushers",
           "text": [
            "Rusher Metric: -0.014",
            "Rusher Metric: 0.127",
            "Rusher Metric: -0.085",
            "Rusher Metric: -0.054",
            "Rusher Metric: -0.031",
            "Rusher Metric: -0.042"
           ],
           "textposition": "bottom center",
           "type": "scatter",
           "x": [
            70.16,
            71.08,
            74.51,
            70.68,
            71.55,
            70.73
           ],
           "y": [
            27.63,
            26.13,
            20.18,
            19.36,
            22.89,
            30.19
           ]
          },
          {
           "marker": {
            "cmax": 0.3,
            "cmin": -0.3,
            "color": [
             -0.0064088404178619385,
             -0.02574777603149414,
             -0.0029237866401672363,
             -0.0008718371391296387,
             -0.0017946958541870117,
             -0.0012657642364501953,
             -0.007595926523208618,
             -0.029318660497665405,
             0.0005917251110076904,
             -0.00516432523727417,
             -0.0022415518760681152,
             0.0004450678825378418,
             -0.006824404001235962,
             -0.03137955069541931,
             0.00007781386375427246,
             -0.007384747266769409,
             -0.004745900630950928,
             -0.00821387767791748,
             -0.007963716983795166,
             -0.029874056577682495,
             0.00019726157188415527,
             -0.010763883590698242,
             -0.004018336534500122,
             -0.011817753314971924,
             -0.0017058253288269043,
             -0.011593848466873169,
             0.000057131052017211914,
             -0.009065210819244385,
             -0.0047495365142822266,
             -0.011062651872634888,
             -0.007946580648422241,
             0.021355479955673218,
             -0.005540281534194946,
             -0.01551547646522522,
             -0.009910672903060913,
             -0.01639220118522644,
             -0.011359959840774536,
             0.04952174425125122,
             -0.006082445383071899,
             -0.011501550674438477,
             -0.010208964347839355,
             -0.014724671840667725,
             -0.011500775814056396,
             0.08198955655097961,
             -0.009909063577651978,
             -0.015194594860076904,
             -0.008880585432052612,
             -0.015957027673721313,
             -0.015709787607192993,
             0.08812889456748962,
             -0.01654374599456787,
             -0.012733310461044312,
             -0.012576043605804443,
             -0.019140541553497314,
             -0.015674471855163574,
             0.11937025189399719,
             -0.02548927068710327,
             -0.022544294595718384,
             -0.01457071304321289,
             -0.022990167140960693,
             -0.01613551378250122,
             0.12305134534835815,
             -0.0406566858291626,
             -0.03410723805427551,
             -0.020864278078079224,
             -0.032570213079452515,
             -0.016895383596420288,
             0.14136657118797302,
             -0.05078613758087158,
             -0.03787901997566223,
             -0.022208303213119507,
             -0.03222337365150452,
             -0.015348345041275024,
             0.12428015470504761,
             -0.06019362807273865,
             -0.04119196534156799,
             -0.024028509855270386,
             -0.035362690687179565,
             -0.014958977699279785,
             0.136225163936615,
             -0.07039898633956909,
             -0.04699438810348511,
             -0.025719046592712402,
             -0.03628295660018921
            ],
            "colorscale": [
             [
              0,
              "rgb(49,54,149)"
             ],
             [
              0.1,
              "rgb(69,117,180)"
             ],
             [
              0.2,
              "rgb(116,173,209)"
             ],
             [
              0.3,
              "rgb(171,217,233)"
             ],
             [
              0.4,
              "rgb(224,243,248)"
             ],
             [
              0.5,
              "rgb(255,255,191)"
             ],
             [
              0.6,
              "rgb(254,224,144)"
             ],
             [
              0.7,
              "rgb(253,174,97)"
             ],
             [
              0.8,
              "rgb(244,109,67)"
             ],
             [
              0.9,
              "rgb(215,48,39)"
             ],
             [
              1,
              "rgb(165,0,38)"
             ]
            ],
            "showscale": false,
            "size": 10,
            "symbol": "circle"
           },
           "mode": "markers",
           "type": "scatter",
           "x": [
            72.56,
            72.58,
            74.93,
            73.01,
            72.81,
            73.13,
            72.52,
            72.58,
            74.92,
            73.01,
            72.8,
            73.09,
            72.45,
            72.56,
            74.91,
            72.99,
            72.79,
            73.05,
            72.35,
            72.53,
            74.9,
            72.96,
            72.75,
            72.98,
            72.21,
            72.49,
            74.88,
            72.89,
            72.71,
            72.9,
            72.04,
            72.42,
            74.86,
            72.8,
            72.63,
            72.79,
            71.86,
            72.34,
            74.84,
            72.66,
            72.55,
            72.64,
            71.64,
            72.25,
            74.82,
            72.51,
            72.43,
            72.46,
            71.43,
            72.12,
            74.79,
            72.31,
            72.3,
            72.24,
            71.2,
            71.96,
            74.76,
            72.09,
            72.16,
            72,
            70.97,
            71.8,
            74.72,
            71.87,
            72.03,
            71.75,
            70.77,
            71.62,
            74.68,
            71.62,
            71.9,
            71.49,
            70.56,
            71.44,
            74.63,
            71.34,
            71.78,
            71.23,
            70.36,
            71.26,
            74.57,
            71.02,
            71.66,
            70.97
           ],
           "y": [
            26.46,
            23.97,
            19.41,
            18.25,
            21.22,
            29.1,
            26.46,
            23.98,
            19.43,
            18.25,
            21.22,
            29.08,
            26.47,
            24.01,
            19.44,
            18.26,
            21.21,
            29.07,
            26.47,
            24.05,
            19.46,
            18.26,
            21.21,
            29.05,
            26.47,
            24.1,
            19.48,
            18.27,
            21.23,
            29.05,
            26.5,
            24.18,
            19.51,
            18.29,
            21.26,
            29.05,
            26.54,
            24.28,
            19.55,
            18.33,
            21.32,
            29.06,
            26.6,
            24.4,
            19.6,
            18.38,
            21.4,
            29.09,
            26.68,
            24.55,
            19.66,
            18.48,
            21.51,
            29.14,
            26.77,
            24.75,
            19.73,
            18.57,
            21.68,
            29.22,
            26.9,
            24.97,
            19.81,
            18.69,
            21.87,
            29.35,
            27.05,
            25.22,
            19.89,
            18.84,
            22.08,
            29.5,
            27.22,
            25.51,
            19.99,
            19.01,
            22.34,
            29.7,
            27.42,
            25.81,
            20.08,
            19.19,
            22.6,
            29.93
           ]
          },
          {
           "legendgroup": "Blockers",
           "marker": {
            "color": "black",
            "size": 20,
            "symbol": "x"
           },
           "mode": "markers",
           "name": "Blockers",
           "type": "scatter",
           "x": [
            70.1,
            69.6,
            70.53,
            69.35,
            70.06,
            69.72
           ],
           "y": [
            26.71,
            27.26,
            22.93,
            20.85,
            25.26,
            29.59
           ]
          },
          {
           "legendgroup": "QB",
           "marker": {
            "color": "black",
            "size": 20,
            "symbol": "diamond"
           },
           "mode": "markers",
           "name": "QB",
           "type": "scatter",
           "x": [
            65.1
           ],
           "y": [
            25.26
           ]
          },
          {
           "mode": "text",
           "text": [
            "QB Distruption Probability: 0.494"
           ],
           "textfont": {
            "color": "black",
            "size": 17
           },
           "type": "scatter",
           "x": [
            65.13
           ],
           "y": [
            35.53
           ]
          }
         ]
        },
        {
         "data": [
          {
           "legendgroup": "Rushers",
           "marker": {
            "cmax": 0.3,
            "cmin": -0.3,
            "color": [
             -0.014957129955291748,
             0.13361775875091553,
             -0.09939533472061157,
             -0.062023818492889404,
             -0.039072394371032715,
             -0.049574077129364014
            ],
            "colorscale": [
             [
              0,
              "rgb(49,54,149)"
             ],
             [
              0.1,
              "rgb(69,117,180)"
             ],
             [
              0.2,
              "rgb(116,173,209)"
             ],
             [
              0.3,
              "rgb(171,217,233)"
             ],
             [
              0.4,
              "rgb(224,243,248)"
             ],
             [
              0.5,
              "rgb(255,255,191)"
             ],
             [
              0.6,
              "rgb(254,224,144)"
             ],
             [
              0.7,
              "rgb(253,174,97)"
             ],
             [
              0.8,
              "rgb(244,109,67)"
             ],
             [
              0.9,
              "rgb(215,48,39)"
             ],
             [
              1,
              "rgb(165,0,38)"
             ]
            ],
            "showscale": false,
            "size": 20
           },
           "mode": "markers+text",
           "name": "Rushers",
           "text": [
            "Rusher Metric: -0.015",
            "Rusher Metric: 0.134",
            "Rusher Metric: -0.099",
            "Rusher Metric: -0.062",
            "Rusher Metric: -0.039",
            "Rusher Metric: -0.05"
           ],
           "textposition": "bottom center",
           "type": "scatter",
           "x": [
            69.96,
            70.91,
            74.44,
            70.34,
            71.46,
            70.5
           ],
           "y": [
            27.87,
            26.48,
            20.29,
            19.55,
            23.19,
            30.48
           ]
          },
          {
           "marker": {
            "cmax": 0.3,
            "cmin": -0.3,
            "color": [
             -0.0064088404178619385,
             -0.02574777603149414,
             -0.0029237866401672363,
             -0.0008718371391296387,
             -0.0017946958541870117,
             -0.0012657642364501953,
             -0.007595926523208618,
             -0.029318660497665405,
             0.0005917251110076904,
             -0.00516432523727417,
             -0.0022415518760681152,
             0.0004450678825378418,
             -0.006824404001235962,
             -0.03137955069541931,
             0.00007781386375427246,
             -0.007384747266769409,
             -0.004745900630950928,
             -0.00821387767791748,
             -0.007963716983795166,
             -0.029874056577682495,
             0.00019726157188415527,
             -0.010763883590698242,
             -0.004018336534500122,
             -0.011817753314971924,
             -0.0017058253288269043,
             -0.011593848466873169,
             0.000057131052017211914,
             -0.009065210819244385,
             -0.0047495365142822266,
             -0.011062651872634888,
             -0.007946580648422241,
             0.021355479955673218,
             -0.005540281534194946,
             -0.01551547646522522,
             -0.009910672903060913,
             -0.01639220118522644,
             -0.011359959840774536,
             0.04952174425125122,
             -0.006082445383071899,
             -0.011501550674438477,
             -0.010208964347839355,
             -0.014724671840667725,
             -0.011500775814056396,
             0.08198955655097961,
             -0.009909063577651978,
             -0.015194594860076904,
             -0.008880585432052612,
             -0.015957027673721313,
             -0.015709787607192993,
             0.08812889456748962,
             -0.01654374599456787,
             -0.012733310461044312,
             -0.012576043605804443,
             -0.019140541553497314,
             -0.015674471855163574,
             0.11937025189399719,
             -0.02548927068710327,
             -0.022544294595718384,
             -0.01457071304321289,
             -0.022990167140960693,
             -0.01613551378250122,
             0.12305134534835815,
             -0.0406566858291626,
             -0.03410723805427551,
             -0.020864278078079224,
             -0.032570213079452515,
             -0.016895383596420288,
             0.14136657118797302,
             -0.05078613758087158,
             -0.03787901997566223,
             -0.022208303213119507,
             -0.03222337365150452,
             -0.015348345041275024,
             0.12428015470504761,
             -0.06019362807273865,
             -0.04119196534156799,
             -0.024028509855270386,
             -0.035362690687179565,
             -0.014958977699279785,
             0.136225163936615,
             -0.07039898633956909,
             -0.04699438810348511,
             -0.025719046592712402,
             -0.03628295660018921,
             -0.013534873723983765,
             0.1272079050540924,
             -0.0852215588092804,
             -0.05436775088310242,
             -0.030734330415725708,
             -0.04216274619102478
            ],
            "colorscale": [
             [
              0,
              "rgb(49,54,149)"
             ],
             [
              0.1,
              "rgb(69,117,180)"
             ],
             [
              0.2,
              "rgb(116,173,209)"
             ],
             [
              0.3,
              "rgb(171,217,233)"
             ],
             [
              0.4,
              "rgb(224,243,248)"
             ],
             [
              0.5,
              "rgb(255,255,191)"
             ],
             [
              0.6,
              "rgb(254,224,144)"
             ],
             [
              0.7,
              "rgb(253,174,97)"
             ],
             [
              0.8,
              "rgb(244,109,67)"
             ],
             [
              0.9,
              "rgb(215,48,39)"
             ],
             [
              1,
              "rgb(165,0,38)"
             ]
            ],
            "showscale": false,
            "size": 10,
            "symbol": "circle"
           },
           "mode": "markers",
           "type": "scatter",
           "x": [
            72.56,
            72.58,
            74.93,
            73.01,
            72.81,
            73.13,
            72.52,
            72.58,
            74.92,
            73.01,
            72.8,
            73.09,
            72.45,
            72.56,
            74.91,
            72.99,
            72.79,
            73.05,
            72.35,
            72.53,
            74.9,
            72.96,
            72.75,
            72.98,
            72.21,
            72.49,
            74.88,
            72.89,
            72.71,
            72.9,
            72.04,
            72.42,
            74.86,
            72.8,
            72.63,
            72.79,
            71.86,
            72.34,
            74.84,
            72.66,
            72.55,
            72.64,
            71.64,
            72.25,
            74.82,
            72.51,
            72.43,
            72.46,
            71.43,
            72.12,
            74.79,
            72.31,
            72.3,
            72.24,
            71.2,
            71.96,
            74.76,
            72.09,
            72.16,
            72,
            70.97,
            71.8,
            74.72,
            71.87,
            72.03,
            71.75,
            70.77,
            71.62,
            74.68,
            71.62,
            71.9,
            71.49,
            70.56,
            71.44,
            74.63,
            71.34,
            71.78,
            71.23,
            70.36,
            71.26,
            74.57,
            71.02,
            71.66,
            70.97,
            70.16,
            71.08,
            74.51,
            70.68,
            71.55,
            70.73
           ],
           "y": [
            26.46,
            23.97,
            19.41,
            18.25,
            21.22,
            29.1,
            26.46,
            23.98,
            19.43,
            18.25,
            21.22,
            29.08,
            26.47,
            24.01,
            19.44,
            18.26,
            21.21,
            29.07,
            26.47,
            24.05,
            19.46,
            18.26,
            21.21,
            29.05,
            26.47,
            24.1,
            19.48,
            18.27,
            21.23,
            29.05,
            26.5,
            24.18,
            19.51,
            18.29,
            21.26,
            29.05,
            26.54,
            24.28,
            19.55,
            18.33,
            21.32,
            29.06,
            26.6,
            24.4,
            19.6,
            18.38,
            21.4,
            29.09,
            26.68,
            24.55,
            19.66,
            18.48,
            21.51,
            29.14,
            26.77,
            24.75,
            19.73,
            18.57,
            21.68,
            29.22,
            26.9,
            24.97,
            19.81,
            18.69,
            21.87,
            29.35,
            27.05,
            25.22,
            19.89,
            18.84,
            22.08,
            29.5,
            27.22,
            25.51,
            19.99,
            19.01,
            22.34,
            29.7,
            27.42,
            25.81,
            20.08,
            19.19,
            22.6,
            29.93,
            27.63,
            26.13,
            20.18,
            19.36,
            22.89,
            30.19
           ]
          },
          {
           "legendgroup": "Blockers",
           "marker": {
            "color": "black",
            "size": 20,
            "symbol": "x"
           },
           "mode": "markers",
           "name": "Blockers",
           "type": "scatter",
           "x": [
            69.91,
            69.43,
            70.48,
            69.2,
            69.92,
            69.58
           ],
           "y": [
            26.98,
            27.47,
            23.18,
            20.99,
            25.55,
            29.9
           ]
          },
          {
           "legendgroup": "QB",
           "marker": {
            "color": "black",
            "size": 20,
            "symbol": "diamond"
           },
           "mode": "markers",
           "name": "QB",
           "type": "scatter",
           "x": [
            64.87
           ],
           "y": [
            25.57
           ]
          },
          {
           "mode": "text",
           "text": [
            "QB Distruption Probability: 0.498"
           ],
           "textfont": {
            "color": "black",
            "size": 17
           },
           "type": "scatter",
           "x": [
            65.13
           ],
           "y": [
            35.53
           ]
          }
         ]
        },
        {
         "data": [
          {
           "legendgroup": "Rushers",
           "marker": {
            "cmax": 0.3,
            "cmin": -0.3,
            "color": [
             -0.011961519718170166,
             0.13328975439071655,
             -0.10074824094772339,
             -0.05721938610076904,
             -0.03759711980819702,
             -0.04334676265716553
            ],
            "colorscale": [
             [
              0,
              "rgb(49,54,149)"
             ],
             [
              0.1,
              "rgb(69,117,180)"
             ],
             [
              0.2,
              "rgb(116,173,209)"
             ],
             [
              0.3,
              "rgb(171,217,233)"
             ],
             [
              0.4,
              "rgb(224,243,248)"
             ],
             [
              0.5,
              "rgb(255,255,191)"
             ],
             [
              0.6,
              "rgb(254,224,144)"
             ],
             [
              0.7,
              "rgb(253,174,97)"
             ],
             [
              0.8,
              "rgb(244,109,67)"
             ],
             [
              0.9,
              "rgb(215,48,39)"
             ],
             [
              1,
              "rgb(165,0,38)"
             ]
            ],
            "showscale": false,
            "size": 20
           },
           "mode": "markers+text",
           "name": "Rushers",
           "text": [
            "Rusher Metric: -0.012",
            "Rusher Metric: 0.133",
            "Rusher Metric: -0.101",
            "Rusher Metric: -0.057",
            "Rusher Metric: -0.038",
            "Rusher Metric: -0.043"
           ],
           "textposition": "bottom center",
           "type": "scatter",
           "x": [
            69.75,
            70.74,
            74.37,
            69.98,
            71.37,
            70.28
           ],
           "y": [
            28.14,
            26.85,
            20.4,
            19.75,
            23.52,
            30.77
           ]
          },
          {
           "marker": {
            "cmax": 0.3,
            "cmin": -0.3,
            "color": [
             -0.0064088404178619385,
             -0.02574777603149414,
             -0.0029237866401672363,
             -0.0008718371391296387,
             -0.0017946958541870117,
             -0.0012657642364501953,
             -0.007595926523208618,
             -0.029318660497665405,
             0.0005917251110076904,
             -0.00516432523727417,
             -0.0022415518760681152,
             0.0004450678825378418,
             -0.006824404001235962,
             -0.03137955069541931,
             0.00007781386375427246,
             -0.007384747266769409,
             -0.004745900630950928,
             -0.00821387767791748,
             -0.007963716983795166,
             -0.029874056577682495,
             0.00019726157188415527,
             -0.010763883590698242,
             -0.004018336534500122,
             -0.011817753314971924,
             -0.0017058253288269043,
             -0.011593848466873169,
             0.000057131052017211914,
             -0.009065210819244385,
             -0.0047495365142822266,
             -0.011062651872634888,
             -0.007946580648422241,
             0.021355479955673218,
             -0.005540281534194946,
             -0.01551547646522522,
             -0.009910672903060913,
             -0.01639220118522644,
             -0.011359959840774536,
             0.04952174425125122,
             -0.006082445383071899,
             -0.011501550674438477,
             -0.010208964347839355,
             -0.014724671840667725,
             -0.011500775814056396,
             0.08198955655097961,
             -0.009909063577651978,
             -0.015194594860076904,
             -0.008880585432052612,
             -0.015957027673721313,
             -0.015709787607192993,
             0.08812889456748962,
             -0.01654374599456787,
             -0.012733310461044312,
             -0.012576043605804443,
             -0.019140541553497314,
             -0.015674471855163574,
             0.11937025189399719,
             -0.02548927068710327,
             -0.022544294595718384,
             -0.01457071304321289,
             -0.022990167140960693,
             -0.01613551378250122,
             0.12305134534835815,
             -0.0406566858291626,
             -0.03410723805427551,
             -0.020864278078079224,
             -0.032570213079452515,
             -0.016895383596420288,
             0.14136657118797302,
             -0.05078613758087158,
             -0.03787901997566223,
             -0.022208303213119507,
             -0.03222337365150452,
             -0.015348345041275024,
             0.12428015470504761,
             -0.06019362807273865,
             -0.04119196534156799,
             -0.024028509855270386,
             -0.035362690687179565,
             -0.014958977699279785,
             0.136225163936615,
             -0.07039898633956909,
             -0.04699438810348511,
             -0.025719046592712402,
             -0.03628295660018921,
             -0.013534873723983765,
             0.1272079050540924,
             -0.0852215588092804,
             -0.05436775088310242,
             -0.030734330415725708,
             -0.04216274619102478,
             -0.014957129955291748,
             0.13361775875091553,
             -0.09939533472061157,
             -0.062023818492889404,
             -0.039072394371032715,
             -0.049574077129364014
            ],
            "colorscale": [
             [
              0,
              "rgb(49,54,149)"
             ],
             [
              0.1,
              "rgb(69,117,180)"
             ],
             [
              0.2,
              "rgb(116,173,209)"
             ],
             [
              0.3,
              "rgb(171,217,233)"
             ],
             [
              0.4,
              "rgb(224,243,248)"
             ],
             [
              0.5,
              "rgb(255,255,191)"
             ],
             [
              0.6,
              "rgb(254,224,144)"
             ],
             [
              0.7,
              "rgb(253,174,97)"
             ],
             [
              0.8,
              "rgb(244,109,67)"
             ],
             [
              0.9,
              "rgb(215,48,39)"
             ],
             [
              1,
              "rgb(165,0,38)"
             ]
            ],
            "showscale": false,
            "size": 10,
            "symbol": "circle"
           },
           "mode": "markers",
           "type": "scatter",
           "x": [
            72.56,
            72.58,
            74.93,
            73.01,
            72.81,
            73.13,
            72.52,
            72.58,
            74.92,
            73.01,
            72.8,
            73.09,
            72.45,
            72.56,
            74.91,
            72.99,
            72.79,
            73.05,
            72.35,
            72.53,
            74.9,
            72.96,
            72.75,
            72.98,
            72.21,
            72.49,
            74.88,
            72.89,
            72.71,
            72.9,
            72.04,
            72.42,
            74.86,
            72.8,
            72.63,
            72.79,
            71.86,
            72.34,
            74.84,
            72.66,
            72.55,
            72.64,
            71.64,
            72.25,
            74.82,
            72.51,
            72.43,
            72.46,
            71.43,
            72.12,
            74.79,
            72.31,
            72.3,
            72.24,
            71.2,
            71.96,
            74.76,
            72.09,
            72.16,
            72,
            70.97,
            71.8,
            74.72,
            71.87,
            72.03,
            71.75,
            70.77,
            71.62,
            74.68,
            71.62,
            71.9,
            71.49,
            70.56,
            71.44,
            74.63,
            71.34,
            71.78,
            71.23,
            70.36,
            71.26,
            74.57,
            71.02,
            71.66,
            70.97,
            70.16,
            71.08,
            74.51,
            70.68,
            71.55,
            70.73,
            69.96,
            70.91,
            74.44,
            70.34,
            71.46,
            70.5
           ],
           "y": [
            26.46,
            23.97,
            19.41,
            18.25,
            21.22,
            29.1,
            26.46,
            23.98,
            19.43,
            18.25,
            21.22,
            29.08,
            26.47,
            24.01,
            19.44,
            18.26,
            21.21,
            29.07,
            26.47,
            24.05,
            19.46,
            18.26,
            21.21,
            29.05,
            26.47,
            24.1,
            19.48,
            18.27,
            21.23,
            29.05,
            26.5,
            24.18,
            19.51,
            18.29,
            21.26,
            29.05,
            26.54,
            24.28,
            19.55,
            18.33,
            21.32,
            29.06,
            26.6,
            24.4,
            19.6,
            18.38,
            21.4,
            29.09,
            26.68,
            24.55,
            19.66,
            18.48,
            21.51,
            29.14,
            26.77,
            24.75,
            19.73,
            18.57,
            21.68,
            29.22,
            26.9,
            24.97,
            19.81,
            18.69,
            21.87,
            29.35,
            27.05,
            25.22,
            19.89,
            18.84,
            22.08,
            29.5,
            27.22,
            25.51,
            19.99,
            19.01,
            22.34,
            29.7,
            27.42,
            25.81,
            20.08,
            19.19,
            22.6,
            29.93,
            27.63,
            26.13,
            20.18,
            19.36,
            22.89,
            30.19,
            27.87,
            26.48,
            20.29,
            19.55,
            23.19,
            30.48
           ]
          },
          {
           "legendgroup": "Blockers",
           "marker": {
            "color": "black",
            "size": 20,
            "symbol": "x"
           },
           "mode": "markers",
           "name": "Blockers",
           "type": "scatter",
           "x": [
            69.72,
            69.25,
            70.42,
            69.04,
            69.76,
            69.43
           ],
           "y": [
            27.24,
            27.71,
            23.45,
            21.12,
            25.83,
            30.21
           ]
          },
          {
           "legendgroup": "QB",
           "marker": {
            "color": "black",
            "size": 20,
            "symbol": "diamond"
           },
           "mode": "markers",
           "name": "QB",
           "type": "scatter",
           "x": [
            64.66
           ],
           "y": [
            25.93
           ]
          },
          {
           "mode": "text",
           "text": [
            "QB Distruption Probability: 0.524"
           ],
           "textfont": {
            "color": "black",
            "size": 17
           },
           "type": "scatter",
           "x": [
            65.13
           ],
           "y": [
            35.53
           ]
          }
         ]
        },
        {
         "data": [
          {
           "legendgroup": "Rushers",
           "marker": {
            "cmax": 0.3,
            "cmin": -0.3,
            "color": [
             -0.011796951293945312,
             0.15241193771362305,
             -0.11013394594192505,
             -0.06187397241592407,
             -0.044842302799224854,
             -0.04810220003128052
            ],
            "colorscale": [
             [
              0,
              "rgb(49,54,149)"
             ],
             [
              0.1,
              "rgb(69,117,180)"
             ],
             [
              0.2,
              "rgb(116,173,209)"
             ],
             [
              0.3,
              "rgb(171,217,233)"
             ],
             [
              0.4,
              "rgb(224,243,248)"
             ],
             [
              0.5,
              "rgb(255,255,191)"
             ],
             [
              0.6,
              "rgb(254,224,144)"
             ],
             [
              0.7,
              "rgb(253,174,97)"
             ],
             [
              0.8,
              "rgb(244,109,67)"
             ],
             [
              0.9,
              "rgb(215,48,39)"
             ],
             [
              1,
              "rgb(165,0,38)"
             ]
            ],
            "showscale": false,
            "size": 20
           },
           "mode": "markers+text",
           "name": "Rushers",
           "text": [
            "Rusher Metric: -0.012",
            "Rusher Metric: 0.152",
            "Rusher Metric: -0.11",
            "Rusher Metric: -0.062",
            "Rusher Metric: -0.045",
            "Rusher Metric: -0.048"
           ],
           "textposition": "bottom center",
           "type": "scatter",
           "x": [
            69.58,
            70.58,
            74.28,
            69.61,
            71.28,
            70.07
           ],
           "y": [
            28.45,
            27.22,
            20.54,
            19.94,
            23.86,
            31.1
           ]
          },
          {
           "marker": {
            "cmax": 0.3,
            "cmin": -0.3,
            "color": [
             -0.0064088404178619385,
             -0.02574777603149414,
             -0.0029237866401672363,
             -0.0008718371391296387,
             -0.0017946958541870117,
             -0.0012657642364501953,
             -0.007595926523208618,
             -0.029318660497665405,
             0.0005917251110076904,
             -0.00516432523727417,
             -0.0022415518760681152,
             0.0004450678825378418,
             -0.006824404001235962,
             -0.03137955069541931,
             0.00007781386375427246,
             -0.007384747266769409,
             -0.004745900630950928,
             -0.00821387767791748,
             -0.007963716983795166,
             -0.029874056577682495,
             0.00019726157188415527,
             -0.010763883590698242,
             -0.004018336534500122,
             -0.011817753314971924,
             -0.0017058253288269043,
             -0.011593848466873169,
             0.000057131052017211914,
             -0.009065210819244385,
             -0.0047495365142822266,
             -0.011062651872634888,
             -0.007946580648422241,
             0.021355479955673218,
             -0.005540281534194946,
             -0.01551547646522522,
             -0.009910672903060913,
             -0.01639220118522644,
             -0.011359959840774536,
             0.04952174425125122,
             -0.006082445383071899,
             -0.011501550674438477,
             -0.010208964347839355,
             -0.014724671840667725,
             -0.011500775814056396,
             0.08198955655097961,
             -0.009909063577651978,
             -0.015194594860076904,
             -0.008880585432052612,
             -0.015957027673721313,
             -0.015709787607192993,
             0.08812889456748962,
             -0.01654374599456787,
             -0.012733310461044312,
             -0.012576043605804443,
             -0.019140541553497314,
             -0.015674471855163574,
             0.11937025189399719,
             -0.02548927068710327,
             -0.022544294595718384,
             -0.01457071304321289,
             -0.022990167140960693,
             -0.01613551378250122,
             0.12305134534835815,
             -0.0406566858291626,
             -0.03410723805427551,
             -0.020864278078079224,
             -0.032570213079452515,
             -0.016895383596420288,
             0.14136657118797302,
             -0.05078613758087158,
             -0.03787901997566223,
             -0.022208303213119507,
             -0.03222337365150452,
             -0.015348345041275024,
             0.12428015470504761,
             -0.06019362807273865,
             -0.04119196534156799,
             -0.024028509855270386,
             -0.035362690687179565,
             -0.014958977699279785,
             0.136225163936615,
             -0.07039898633956909,
             -0.04699438810348511,
             -0.025719046592712402,
             -0.03628295660018921,
             -0.013534873723983765,
             0.1272079050540924,
             -0.0852215588092804,
             -0.05436775088310242,
             -0.030734330415725708,
             -0.04216274619102478,
             -0.014957129955291748,
             0.13361775875091553,
             -0.09939533472061157,
             -0.062023818492889404,
             -0.039072394371032715,
             -0.049574077129364014,
             -0.011961519718170166,
             0.13328975439071655,
             -0.10074824094772339,
             -0.05721938610076904,
             -0.03759711980819702,
             -0.04334676265716553
            ],
            "colorscale": [
             [
              0,
              "rgb(49,54,149)"
             ],
             [
              0.1,
              "rgb(69,117,180)"
             ],
             [
              0.2,
              "rgb(116,173,209)"
             ],
             [
              0.3,
              "rgb(171,217,233)"
             ],
             [
              0.4,
              "rgb(224,243,248)"
             ],
             [
              0.5,
              "rgb(255,255,191)"
             ],
             [
              0.6,
              "rgb(254,224,144)"
             ],
             [
              0.7,
              "rgb(253,174,97)"
             ],
             [
              0.8,
              "rgb(244,109,67)"
             ],
             [
              0.9,
              "rgb(215,48,39)"
             ],
             [
              1,
              "rgb(165,0,38)"
             ]
            ],
            "showscale": false,
            "size": 10,
            "symbol": "circle"
           },
           "mode": "markers",
           "type": "scatter",
           "x": [
            72.56,
            72.58,
            74.93,
            73.01,
            72.81,
            73.13,
            72.52,
            72.58,
            74.92,
            73.01,
            72.8,
            73.09,
            72.45,
            72.56,
            74.91,
            72.99,
            72.79,
            73.05,
            72.35,
            72.53,
            74.9,
            72.96,
            72.75,
            72.98,
            72.21,
            72.49,
            74.88,
            72.89,
            72.71,
            72.9,
            72.04,
            72.42,
            74.86,
            72.8,
            72.63,
            72.79,
            71.86,
            72.34,
            74.84,
            72.66,
            72.55,
            72.64,
            71.64,
            72.25,
            74.82,
            72.51,
            72.43,
            72.46,
            71.43,
            72.12,
            74.79,
            72.31,
            72.3,
            72.24,
            71.2,
            71.96,
            74.76,
            72.09,
            72.16,
            72,
            70.97,
            71.8,
            74.72,
            71.87,
            72.03,
            71.75,
            70.77,
            71.62,
            74.68,
            71.62,
            71.9,
            71.49,
            70.56,
            71.44,
            74.63,
            71.34,
            71.78,
            71.23,
            70.36,
            71.26,
            74.57,
            71.02,
            71.66,
            70.97,
            70.16,
            71.08,
            74.51,
            70.68,
            71.55,
            70.73,
            69.96,
            70.91,
            74.44,
            70.34,
            71.46,
            70.5,
            69.75,
            70.74,
            74.37,
            69.98,
            71.37,
            70.28
           ],
           "y": [
            26.46,
            23.97,
            19.41,
            18.25,
            21.22,
            29.1,
            26.46,
            23.98,
            19.43,
            18.25,
            21.22,
            29.08,
            26.47,
            24.01,
            19.44,
            18.26,
            21.21,
            29.07,
            26.47,
            24.05,
            19.46,
            18.26,
            21.21,
            29.05,
            26.47,
            24.1,
            19.48,
            18.27,
            21.23,
            29.05,
            26.5,
            24.18,
            19.51,
            18.29,
            21.26,
            29.05,
            26.54,
            24.28,
            19.55,
            18.33,
            21.32,
            29.06,
            26.6,
            24.4,
            19.6,
            18.38,
            21.4,
            29.09,
            26.68,
            24.55,
            19.66,
            18.48,
            21.51,
            29.14,
            26.77,
            24.75,
            19.73,
            18.57,
            21.68,
            29.22,
            26.9,
            24.97,
            19.81,
            18.69,
            21.87,
            29.35,
            27.05,
            25.22,
            19.89,
            18.84,
            22.08,
            29.5,
            27.22,
            25.51,
            19.99,
            19.01,
            22.34,
            29.7,
            27.42,
            25.81,
            20.08,
            19.19,
            22.6,
            29.93,
            27.63,
            26.13,
            20.18,
            19.36,
            22.89,
            30.19,
            27.87,
            26.48,
            20.29,
            19.55,
            23.19,
            30.48,
            28.14,
            26.85,
            20.4,
            19.75,
            23.52,
            30.77
           ]
          },
          {
           "legendgroup": "Blockers",
           "marker": {
            "color": "black",
            "size": 20,
            "symbol": "x"
           },
           "mode": "markers",
           "name": "Blockers",
           "type": "scatter",
           "x": [
            69.54,
            69.09,
            70.36,
            68.85,
            69.58,
            69.27
           ],
           "y": [
            27.5,
            27.93,
            23.72,
            21.23,
            26.09,
            30.53
           ]
          },
          {
           "legendgroup": "QB",
           "marker": {
            "color": "black",
            "size": 20,
            "symbol": "diamond"
           },
           "mode": "markers",
           "name": "QB",
           "type": "scatter",
           "x": [
            64.45
           ],
           "y": [
            26.32
           ]
          },
          {
           "mode": "text",
           "text": [
            "QB Distruption Probability: 0.538"
           ],
           "textfont": {
            "color": "black",
            "size": 17
           },
           "type": "scatter",
           "x": [
            65.13
           ],
           "y": [
            35.53
           ]
          }
         ]
        },
        {
         "data": [
          {
           "legendgroup": "Rushers",
           "marker": {
            "cmax": 0.3,
            "cmin": -0.3,
            "color": [
             -0.01200789213180542,
             0.13277557492256165,
             -0.1191030740737915,
             -0.06512171030044556,
             -0.05008208751678467,
             -0.053096890449523926
            ],
            "colorscale": [
             [
              0,
              "rgb(49,54,149)"
             ],
             [
              0.1,
              "rgb(69,117,180)"
             ],
             [
              0.2,
              "rgb(116,173,209)"
             ],
             [
              0.3,
              "rgb(171,217,233)"
             ],
             [
              0.4,
              "rgb(224,243,248)"
             ],
             [
              0.5,
              "rgb(255,255,191)"
             ],
             [
              0.6,
              "rgb(254,224,144)"
             ],
             [
              0.7,
              "rgb(253,174,97)"
             ],
             [
              0.8,
              "rgb(244,109,67)"
             ],
             [
              0.9,
              "rgb(215,48,39)"
             ],
             [
              1,
              "rgb(165,0,38)"
             ]
            ],
            "showscale": false,
            "size": 20
           },
           "mode": "markers+text",
           "name": "Rushers",
           "text": [
            "Rusher Metric: -0.012",
            "Rusher Metric: 0.133",
            "Rusher Metric: -0.119",
            "Rusher Metric: -0.065",
            "Rusher Metric: -0.05",
            "Rusher Metric: -0.053"
           ],
           "textposition": "bottom center",
           "type": "scatter",
           "x": [
            69.39,
            70.42,
            74.19,
            69.24,
            71.17,
            69.89
           ],
           "y": [
            28.78,
            27.6,
            20.69,
            20.13,
            24.22,
            31.43
           ]
          },
          {
           "marker": {
            "cmax": 0.3,
            "cmin": -0.3,
            "color": [
             -0.0064088404178619385,
             -0.02574777603149414,
             -0.0029237866401672363,
             -0.0008718371391296387,
             -0.0017946958541870117,
             -0.0012657642364501953,
             -0.007595926523208618,
             -0.029318660497665405,
             0.0005917251110076904,
             -0.00516432523727417,
             -0.0022415518760681152,
             0.0004450678825378418,
             -0.006824404001235962,
             -0.03137955069541931,
             0.00007781386375427246,
             -0.007384747266769409,
             -0.004745900630950928,
             -0.00821387767791748,
             -0.007963716983795166,
             -0.029874056577682495,
             0.00019726157188415527,
             -0.010763883590698242,
             -0.004018336534500122,
             -0.011817753314971924,
             -0.0017058253288269043,
             -0.011593848466873169,
             0.000057131052017211914,
             -0.009065210819244385,
             -0.0047495365142822266,
             -0.011062651872634888,
             -0.007946580648422241,
             0.021355479955673218,
             -0.005540281534194946,
             -0.01551547646522522,
             -0.009910672903060913,
             -0.01639220118522644,
             -0.011359959840774536,
             0.04952174425125122,
             -0.006082445383071899,
             -0.011501550674438477,
             -0.010208964347839355,
             -0.014724671840667725,
             -0.011500775814056396,
             0.08198955655097961,
             -0.009909063577651978,
             -0.015194594860076904,
             -0.008880585432052612,
             -0.015957027673721313,
             -0.015709787607192993,
             0.08812889456748962,
             -0.01654374599456787,
             -0.012733310461044312,
             -0.012576043605804443,
             -0.019140541553497314,
             -0.015674471855163574,
             0.11937025189399719,
             -0.02548927068710327,
             -0.022544294595718384,
             -0.01457071304321289,
             -0.022990167140960693,
             -0.01613551378250122,
             0.12305134534835815,
             -0.0406566858291626,
             -0.03410723805427551,
             -0.020864278078079224,
             -0.032570213079452515,
             -0.016895383596420288,
             0.14136657118797302,
             -0.05078613758087158,
             -0.03787901997566223,
             -0.022208303213119507,
             -0.03222337365150452,
             -0.015348345041275024,
             0.12428015470504761,
             -0.06019362807273865,
             -0.04119196534156799,
             -0.024028509855270386,
             -0.035362690687179565,
             -0.014958977699279785,
             0.136225163936615,
             -0.07039898633956909,
             -0.04699438810348511,
             -0.025719046592712402,
             -0.03628295660018921,
             -0.013534873723983765,
             0.1272079050540924,
             -0.0852215588092804,
             -0.05436775088310242,
             -0.030734330415725708,
             -0.04216274619102478,
             -0.014957129955291748,
             0.13361775875091553,
             -0.09939533472061157,
             -0.062023818492889404,
             -0.039072394371032715,
             -0.049574077129364014,
             -0.011961519718170166,
             0.13328975439071655,
             -0.10074824094772339,
             -0.05721938610076904,
             -0.03759711980819702,
             -0.04334676265716553,
             -0.011796951293945312,
             0.15241193771362305,
             -0.11013394594192505,
             -0.06187397241592407,
             -0.044842302799224854,
             -0.04810220003128052
            ],
            "colorscale": [
             [
              0,
              "rgb(49,54,149)"
             ],
             [
              0.1,
              "rgb(69,117,180)"
             ],
             [
              0.2,
              "rgb(116,173,209)"
             ],
             [
              0.3,
              "rgb(171,217,233)"
             ],
             [
              0.4,
              "rgb(224,243,248)"
             ],
             [
              0.5,
              "rgb(255,255,191)"
             ],
             [
              0.6,
              "rgb(254,224,144)"
             ],
             [
              0.7,
              "rgb(253,174,97)"
             ],
             [
              0.8,
              "rgb(244,109,67)"
             ],
             [
              0.9,
              "rgb(215,48,39)"
             ],
             [
              1,
              "rgb(165,0,38)"
             ]
            ],
            "showscale": false,
            "size": 10,
            "symbol": "circle"
           },
           "mode": "markers",
           "type": "scatter",
           "x": [
            72.56,
            72.58,
            74.93,
            73.01,
            72.81,
            73.13,
            72.52,
            72.58,
            74.92,
            73.01,
            72.8,
            73.09,
            72.45,
            72.56,
            74.91,
            72.99,
            72.79,
            73.05,
            72.35,
            72.53,
            74.9,
            72.96,
            72.75,
            72.98,
            72.21,
            72.49,
            74.88,
            72.89,
            72.71,
            72.9,
            72.04,
            72.42,
            74.86,
            72.8,
            72.63,
            72.79,
            71.86,
            72.34,
            74.84,
            72.66,
            72.55,
            72.64,
            71.64,
            72.25,
            74.82,
            72.51,
            72.43,
            72.46,
            71.43,
            72.12,
            74.79,
            72.31,
            72.3,
            72.24,
            71.2,
            71.96,
            74.76,
            72.09,
            72.16,
            72,
            70.97,
            71.8,
            74.72,
            71.87,
            72.03,
            71.75,
            70.77,
            71.62,
            74.68,
            71.62,
            71.9,
            71.49,
            70.56,
            71.44,
            74.63,
            71.34,
            71.78,
            71.23,
            70.36,
            71.26,
            74.57,
            71.02,
            71.66,
            70.97,
            70.16,
            71.08,
            74.51,
            70.68,
            71.55,
            70.73,
            69.96,
            70.91,
            74.44,
            70.34,
            71.46,
            70.5,
            69.75,
            70.74,
            74.37,
            69.98,
            71.37,
            70.28,
            69.58,
            70.58,
            74.28,
            69.61,
            71.28,
            70.07
           ],
           "y": [
            26.46,
            23.97,
            19.41,
            18.25,
            21.22,
            29.1,
            26.46,
            23.98,
            19.43,
            18.25,
            21.22,
            29.08,
            26.47,
            24.01,
            19.44,
            18.26,
            21.21,
            29.07,
            26.47,
            24.05,
            19.46,
            18.26,
            21.21,
            29.05,
            26.47,
            24.1,
            19.48,
            18.27,
            21.23,
            29.05,
            26.5,
            24.18,
            19.51,
            18.29,
            21.26,
            29.05,
            26.54,
            24.28,
            19.55,
            18.33,
            21.32,
            29.06,
            26.6,
            24.4,
            19.6,
            18.38,
            21.4,
            29.09,
            26.68,
            24.55,
            19.66,
            18.48,
            21.51,
            29.14,
            26.77,
            24.75,
            19.73,
            18.57,
            21.68,
            29.22,
            26.9,
            24.97,
            19.81,
            18.69,
            21.87,
            29.35,
            27.05,
            25.22,
            19.89,
            18.84,
            22.08,
            29.5,
            27.22,
            25.51,
            19.99,
            19.01,
            22.34,
            29.7,
            27.42,
            25.81,
            20.08,
            19.19,
            22.6,
            29.93,
            27.63,
            26.13,
            20.18,
            19.36,
            22.89,
            30.19,
            27.87,
            26.48,
            20.29,
            19.55,
            23.19,
            30.48,
            28.14,
            26.85,
            20.4,
            19.75,
            23.52,
            30.77,
            28.45,
            27.22,
            20.54,
            19.94,
            23.86,
            31.1
           ]
          },
          {
           "legendgroup": "Blockers",
           "marker": {
            "color": "black",
            "size": 20,
            "symbol": "x"
           },
           "mode": "markers",
           "name": "Blockers",
           "type": "scatter",
           "x": [
            69.36,
            68.94,
            70.29,
            68.64,
            69.38,
            69.12
           ],
           "y": [
            27.74,
            28.2,
            24,
            21.33,
            26.34,
            30.85
           ]
          },
          {
           "legendgroup": "QB",
           "marker": {
            "color": "black",
            "size": 20,
            "symbol": "diamond"
           },
           "mode": "markers",
           "name": "QB",
           "type": "scatter",
           "x": [
            64.26
           ],
           "y": [
            26.73
           ]
          },
          {
           "mode": "text",
           "text": [
            "QB Distruption Probability: 0.547"
           ],
           "textfont": {
            "color": "black",
            "size": 17
           },
           "type": "scatter",
           "x": [
            65.13
           ],
           "y": [
            35.53
           ]
          }
         ]
        },
        {
         "data": [
          {
           "legendgroup": "Rushers",
           "marker": {
            "cmax": 0.3,
            "cmin": -0.3,
            "color": [
             -0.011697053909301758,
             0.1422446370124817,
             -0.11941242218017578,
             -0.06872880458831787,
             -0.05536186695098877,
             -0.057926833629608154
            ],
            "colorscale": [
             [
              0,
              "rgb(49,54,149)"
             ],
             [
              0.1,
              "rgb(69,117,180)"
             ],
             [
              0.2,
              "rgb(116,173,209)"
             ],
             [
              0.3,
              "rgb(171,217,233)"
             ],
             [
              0.4,
              "rgb(224,243,248)"
             ],
             [
              0.5,
              "rgb(255,255,191)"
             ],
             [
              0.6,
              "rgb(254,224,144)"
             ],
             [
              0.7,
              "rgb(253,174,97)"
             ],
             [
              0.8,
              "rgb(244,109,67)"
             ],
             [
              0.9,
              "rgb(215,48,39)"
             ],
             [
              1,
              "rgb(165,0,38)"
             ]
            ],
            "showscale": false,
            "size": 20
           },
           "mode": "markers+text",
           "name": "Rushers",
           "text": [
            "Rusher Metric: -0.012",
            "Rusher Metric: 0.142",
            "Rusher Metric: -0.119",
            "Rusher Metric: -0.069",
            "Rusher Metric: -0.055",
            "Rusher Metric: -0.058"
           ],
           "textposition": "bottom center",
           "type": "scatter",
           "x": [
            69.21,
            70.26,
            74.07,
            68.87,
            71.09,
            69.72
           ],
           "y": [
            29.09,
            28,
            20.88,
            20.32,
            24.58,
            31.77
           ]
          },
          {
           "marker": {
            "cmax": 0.3,
            "cmin": -0.3,
            "color": [
             -0.0064088404178619385,
             -0.02574777603149414,
             -0.0029237866401672363,
             -0.0008718371391296387,
             -0.0017946958541870117,
             -0.0012657642364501953,
             -0.007595926523208618,
             -0.029318660497665405,
             0.0005917251110076904,
             -0.00516432523727417,
             -0.0022415518760681152,
             0.0004450678825378418,
             -0.006824404001235962,
             -0.03137955069541931,
             0.00007781386375427246,
             -0.007384747266769409,
             -0.004745900630950928,
             -0.00821387767791748,
             -0.007963716983795166,
             -0.029874056577682495,
             0.00019726157188415527,
             -0.010763883590698242,
             -0.004018336534500122,
             -0.011817753314971924,
             -0.0017058253288269043,
             -0.011593848466873169,
             0.000057131052017211914,
             -0.009065210819244385,
             -0.0047495365142822266,
             -0.011062651872634888,
             -0.007946580648422241,
             0.021355479955673218,
             -0.005540281534194946,
             -0.01551547646522522,
             -0.009910672903060913,
             -0.01639220118522644,
             -0.011359959840774536,
             0.04952174425125122,
             -0.006082445383071899,
             -0.011501550674438477,
             -0.010208964347839355,
             -0.014724671840667725,
             -0.011500775814056396,
             0.08198955655097961,
             -0.009909063577651978,
             -0.015194594860076904,
             -0.008880585432052612,
             -0.015957027673721313,
             -0.015709787607192993,
             0.08812889456748962,
             -0.01654374599456787,
             -0.012733310461044312,
             -0.012576043605804443,
             -0.019140541553497314,
             -0.015674471855163574,
             0.11937025189399719,
             -0.02548927068710327,
             -0.022544294595718384,
             -0.01457071304321289,
             -0.022990167140960693,
             -0.01613551378250122,
             0.12305134534835815,
             -0.0406566858291626,
             -0.03410723805427551,
             -0.020864278078079224,
             -0.032570213079452515,
             -0.016895383596420288,
             0.14136657118797302,
             -0.05078613758087158,
             -0.03787901997566223,
             -0.022208303213119507,
             -0.03222337365150452,
             -0.015348345041275024,
             0.12428015470504761,
             -0.06019362807273865,
             -0.04119196534156799,
             -0.024028509855270386,
             -0.035362690687179565,
             -0.014958977699279785,
             0.136225163936615,
             -0.07039898633956909,
             -0.04699438810348511,
             -0.025719046592712402,
             -0.03628295660018921,
             -0.013534873723983765,
             0.1272079050540924,
             -0.0852215588092804,
             -0.05436775088310242,
             -0.030734330415725708,
             -0.04216274619102478,
             -0.014957129955291748,
             0.13361775875091553,
             -0.09939533472061157,
             -0.062023818492889404,
             -0.039072394371032715,
             -0.049574077129364014,
             -0.011961519718170166,
             0.13328975439071655,
             -0.10074824094772339,
             -0.05721938610076904,
             -0.03759711980819702,
             -0.04334676265716553,
             -0.011796951293945312,
             0.15241193771362305,
             -0.11013394594192505,
             -0.06187397241592407,
             -0.044842302799224854,
             -0.04810220003128052,
             -0.01200789213180542,
             0.13277557492256165,
             -0.1191030740737915,
             -0.06512171030044556,
             -0.05008208751678467,
             -0.053096890449523926
            ],
            "colorscale": [
             [
              0,
              "rgb(49,54,149)"
             ],
             [
              0.1,
              "rgb(69,117,180)"
             ],
             [
              0.2,
              "rgb(116,173,209)"
             ],
             [
              0.3,
              "rgb(171,217,233)"
             ],
             [
              0.4,
              "rgb(224,243,248)"
             ],
             [
              0.5,
              "rgb(255,255,191)"
             ],
             [
              0.6,
              "rgb(254,224,144)"
             ],
             [
              0.7,
              "rgb(253,174,97)"
             ],
             [
              0.8,
              "rgb(244,109,67)"
             ],
             [
              0.9,
              "rgb(215,48,39)"
             ],
             [
              1,
              "rgb(165,0,38)"
             ]
            ],
            "showscale": false,
            "size": 10,
            "symbol": "circle"
           },
           "mode": "markers",
           "type": "scatter",
           "x": [
            72.56,
            72.58,
            74.93,
            73.01,
            72.81,
            73.13,
            72.52,
            72.58,
            74.92,
            73.01,
            72.8,
            73.09,
            72.45,
            72.56,
            74.91,
            72.99,
            72.79,
            73.05,
            72.35,
            72.53,
            74.9,
            72.96,
            72.75,
            72.98,
            72.21,
            72.49,
            74.88,
            72.89,
            72.71,
            72.9,
            72.04,
            72.42,
            74.86,
            72.8,
            72.63,
            72.79,
            71.86,
            72.34,
            74.84,
            72.66,
            72.55,
            72.64,
            71.64,
            72.25,
            74.82,
            72.51,
            72.43,
            72.46,
            71.43,
            72.12,
            74.79,
            72.31,
            72.3,
            72.24,
            71.2,
            71.96,
            74.76,
            72.09,
            72.16,
            72,
            70.97,
            71.8,
            74.72,
            71.87,
            72.03,
            71.75,
            70.77,
            71.62,
            74.68,
            71.62,
            71.9,
            71.49,
            70.56,
            71.44,
            74.63,
            71.34,
            71.78,
            71.23,
            70.36,
            71.26,
            74.57,
            71.02,
            71.66,
            70.97,
            70.16,
            71.08,
            74.51,
            70.68,
            71.55,
            70.73,
            69.96,
            70.91,
            74.44,
            70.34,
            71.46,
            70.5,
            69.75,
            70.74,
            74.37,
            69.98,
            71.37,
            70.28,
            69.58,
            70.58,
            74.28,
            69.61,
            71.28,
            70.07,
            69.39,
            70.42,
            74.19,
            69.24,
            71.17,
            69.89
           ],
           "y": [
            26.46,
            23.97,
            19.41,
            18.25,
            21.22,
            29.1,
            26.46,
            23.98,
            19.43,
            18.25,
            21.22,
            29.08,
            26.47,
            24.01,
            19.44,
            18.26,
            21.21,
            29.07,
            26.47,
            24.05,
            19.46,
            18.26,
            21.21,
            29.05,
            26.47,
            24.1,
            19.48,
            18.27,
            21.23,
            29.05,
            26.5,
            24.18,
            19.51,
            18.29,
            21.26,
            29.05,
            26.54,
            24.28,
            19.55,
            18.33,
            21.32,
            29.06,
            26.6,
            24.4,
            19.6,
            18.38,
            21.4,
            29.09,
            26.68,
            24.55,
            19.66,
            18.48,
            21.51,
            29.14,
            26.77,
            24.75,
            19.73,
            18.57,
            21.68,
            29.22,
            26.9,
            24.97,
            19.81,
            18.69,
            21.87,
            29.35,
            27.05,
            25.22,
            19.89,
            18.84,
            22.08,
            29.5,
            27.22,
            25.51,
            19.99,
            19.01,
            22.34,
            29.7,
            27.42,
            25.81,
            20.08,
            19.19,
            22.6,
            29.93,
            27.63,
            26.13,
            20.18,
            19.36,
            22.89,
            30.19,
            27.87,
            26.48,
            20.29,
            19.55,
            23.19,
            30.48,
            28.14,
            26.85,
            20.4,
            19.75,
            23.52,
            30.77,
            28.45,
            27.22,
            20.54,
            19.94,
            23.86,
            31.1,
            28.78,
            27.6,
            20.69,
            20.13,
            24.22,
            31.43
           ]
          },
          {
           "legendgroup": "Blockers",
           "marker": {
            "color": "black",
            "size": 20,
            "symbol": "x"
           },
           "mode": "markers",
           "name": "Blockers",
           "type": "scatter",
           "x": [
            69.19,
            68.8,
            70.2,
            68.41,
            69.18,
            68.98
           ],
           "y": [
            27.97,
            28.46,
            24.31,
            21.44,
            26.57,
            31.16
           ]
          },
          {
           "legendgroup": "QB",
           "marker": {
            "color": "black",
            "size": 20,
            "symbol": "diamond"
           },
           "mode": "markers",
           "name": "QB",
           "type": "scatter",
           "x": [
            64.08
           ],
           "y": [
            27.16
           ]
          },
          {
           "mode": "text",
           "text": [
            "QB Distruption Probability: 0.562"
           ],
           "textfont": {
            "color": "black",
            "size": 17
           },
           "type": "scatter",
           "x": [
            65.13
           ],
           "y": [
            35.53
           ]
          }
         ]
        },
        {
         "data": [
          {
           "legendgroup": "Rushers",
           "marker": {
            "cmax": 0.3,
            "cmin": -0.3,
            "color": [
             -0.009768962860107422,
             0.13835197687149048,
             -0.12084561586380005,
             -0.06634849309921265,
             -0.05914849042892456,
             -0.060640811920166016
            ],
            "colorscale": [
             [
              0,
              "rgb(49,54,149)"
             ],
             [
              0.1,
              "rgb(69,117,180)"
             ],
             [
              0.2,
              "rgb(116,173,209)"
             ],
             [
              0.3,
              "rgb(171,217,233)"
             ],
             [
              0.4,
              "rgb(224,243,248)"
             ],
             [
              0.5,
              "rgb(255,255,191)"
             ],
             [
              0.6,
              "rgb(254,224,144)"
             ],
             [
              0.7,
              "rgb(253,174,97)"
             ],
             [
              0.8,
              "rgb(244,109,67)"
             ],
             [
              0.9,
              "rgb(215,48,39)"
             ],
             [
              1,
              "rgb(165,0,38)"
             ]
            ],
            "showscale": false,
            "size": 20
           },
           "mode": "markers+text",
           "name": "Rushers",
           "text": [
            "Rusher Metric: -0.01",
            "Rusher Metric: 0.138",
            "Rusher Metric: -0.121",
            "Rusher Metric: -0.066",
            "Rusher Metric: -0.059",
            "Rusher Metric: -0.061"
           ],
           "textposition": "bottom center",
           "type": "scatter",
           "x": [
            69.03,
            70.11,
            73.94,
            68.51,
            71.01,
            69.57
           ],
           "y": [
            29.41,
            28.39,
            21.08,
            20.49,
            24.97,
            32.12
           ]
          },
          {
           "marker": {
            "cmax": 0.3,
            "cmin": -0.3,
            "color": [
             -0.0064088404178619385,
             -0.02574777603149414,
             -0.0029237866401672363,
             -0.0008718371391296387,
             -0.0017946958541870117,
             -0.0012657642364501953,
             -0.007595926523208618,
             -0.029318660497665405,
             0.0005917251110076904,
             -0.00516432523727417,
             -0.0022415518760681152,
             0.0004450678825378418,
             -0.006824404001235962,
             -0.03137955069541931,
             0.00007781386375427246,
             -0.007384747266769409,
             -0.004745900630950928,
             -0.00821387767791748,
             -0.007963716983795166,
             -0.029874056577682495,
             0.00019726157188415527,
             -0.010763883590698242,
             -0.004018336534500122,
             -0.011817753314971924,
             -0.0017058253288269043,
             -0.011593848466873169,
             0.000057131052017211914,
             -0.009065210819244385,
             -0.0047495365142822266,
             -0.011062651872634888,
             -0.007946580648422241,
             0.021355479955673218,
             -0.005540281534194946,
             -0.01551547646522522,
             -0.009910672903060913,
             -0.01639220118522644,
             -0.011359959840774536,
             0.04952174425125122,
             -0.006082445383071899,
             -0.011501550674438477,
             -0.010208964347839355,
             -0.014724671840667725,
             -0.011500775814056396,
             0.08198955655097961,
             -0.009909063577651978,
             -0.015194594860076904,
             -0.008880585432052612,
             -0.015957027673721313,
             -0.015709787607192993,
             0.08812889456748962,
             -0.01654374599456787,
             -0.012733310461044312,
             -0.012576043605804443,
             -0.019140541553497314,
             -0.015674471855163574,
             0.11937025189399719,
             -0.02548927068710327,
             -0.022544294595718384,
             -0.01457071304321289,
             -0.022990167140960693,
             -0.01613551378250122,
             0.12305134534835815,
             -0.0406566858291626,
             -0.03410723805427551,
             -0.020864278078079224,
             -0.032570213079452515,
             -0.016895383596420288,
             0.14136657118797302,
             -0.05078613758087158,
             -0.03787901997566223,
             -0.022208303213119507,
             -0.03222337365150452,
             -0.015348345041275024,
             0.12428015470504761,
             -0.06019362807273865,
             -0.04119196534156799,
             -0.024028509855270386,
             -0.035362690687179565,
             -0.014958977699279785,
             0.136225163936615,
             -0.07039898633956909,
             -0.04699438810348511,
             -0.025719046592712402,
             -0.03628295660018921,
             -0.013534873723983765,
             0.1272079050540924,
             -0.0852215588092804,
             -0.05436775088310242,
             -0.030734330415725708,
             -0.04216274619102478,
             -0.014957129955291748,
             0.13361775875091553,
             -0.09939533472061157,
             -0.062023818492889404,
             -0.039072394371032715,
             -0.049574077129364014,
             -0.011961519718170166,
             0.13328975439071655,
             -0.10074824094772339,
             -0.05721938610076904,
             -0.03759711980819702,
             -0.04334676265716553,
             -0.011796951293945312,
             0.15241193771362305,
             -0.11013394594192505,
             -0.06187397241592407,
             -0.044842302799224854,
             -0.04810220003128052,
             -0.01200789213180542,
             0.13277557492256165,
             -0.1191030740737915,
             -0.06512171030044556,
             -0.05008208751678467,
             -0.053096890449523926,
             -0.011697053909301758,
             0.1422446370124817,
             -0.11941242218017578,
             -0.06872880458831787,
             -0.05536186695098877,
             -0.057926833629608154
            ],
            "colorscale": [
             [
              0,
              "rgb(49,54,149)"
             ],
             [
              0.1,
              "rgb(69,117,180)"
             ],
             [
              0.2,
              "rgb(116,173,209)"
             ],
             [
              0.3,
              "rgb(171,217,233)"
             ],
             [
              0.4,
              "rgb(224,243,248)"
             ],
             [
              0.5,
              "rgb(255,255,191)"
             ],
             [
              0.6,
              "rgb(254,224,144)"
             ],
             [
              0.7,
              "rgb(253,174,97)"
             ],
             [
              0.8,
              "rgb(244,109,67)"
             ],
             [
              0.9,
              "rgb(215,48,39)"
             ],
             [
              1,
              "rgb(165,0,38)"
             ]
            ],
            "showscale": false,
            "size": 10,
            "symbol": "circle"
           },
           "mode": "markers",
           "type": "scatter",
           "x": [
            72.56,
            72.58,
            74.93,
            73.01,
            72.81,
            73.13,
            72.52,
            72.58,
            74.92,
            73.01,
            72.8,
            73.09,
            72.45,
            72.56,
            74.91,
            72.99,
            72.79,
            73.05,
            72.35,
            72.53,
            74.9,
            72.96,
            72.75,
            72.98,
            72.21,
            72.49,
            74.88,
            72.89,
            72.71,
            72.9,
            72.04,
            72.42,
            74.86,
            72.8,
            72.63,
            72.79,
            71.86,
            72.34,
            74.84,
            72.66,
            72.55,
            72.64,
            71.64,
            72.25,
            74.82,
            72.51,
            72.43,
            72.46,
            71.43,
            72.12,
            74.79,
            72.31,
            72.3,
            72.24,
            71.2,
            71.96,
            74.76,
            72.09,
            72.16,
            72,
            70.97,
            71.8,
            74.72,
            71.87,
            72.03,
            71.75,
            70.77,
            71.62,
            74.68,
            71.62,
            71.9,
            71.49,
            70.56,
            71.44,
            74.63,
            71.34,
            71.78,
            71.23,
            70.36,
            71.26,
            74.57,
            71.02,
            71.66,
            70.97,
            70.16,
            71.08,
            74.51,
            70.68,
            71.55,
            70.73,
            69.96,
            70.91,
            74.44,
            70.34,
            71.46,
            70.5,
            69.75,
            70.74,
            74.37,
            69.98,
            71.37,
            70.28,
            69.58,
            70.58,
            74.28,
            69.61,
            71.28,
            70.07,
            69.39,
            70.42,
            74.19,
            69.24,
            71.17,
            69.89,
            69.21,
            70.26,
            74.07,
            68.87,
            71.09,
            69.72
           ],
           "y": [
            26.46,
            23.97,
            19.41,
            18.25,
            21.22,
            29.1,
            26.46,
            23.98,
            19.43,
            18.25,
            21.22,
            29.08,
            26.47,
            24.01,
            19.44,
            18.26,
            21.21,
            29.07,
            26.47,
            24.05,
            19.46,
            18.26,
            21.21,
            29.05,
            26.47,
            24.1,
            19.48,
            18.27,
            21.23,
            29.05,
            26.5,
            24.18,
            19.51,
            18.29,
            21.26,
            29.05,
            26.54,
            24.28,
            19.55,
            18.33,
            21.32,
            29.06,
            26.6,
            24.4,
            19.6,
            18.38,
            21.4,
            29.09,
            26.68,
            24.55,
            19.66,
            18.48,
            21.51,
            29.14,
            26.77,
            24.75,
            19.73,
            18.57,
            21.68,
            29.22,
            26.9,
            24.97,
            19.81,
            18.69,
            21.87,
            29.35,
            27.05,
            25.22,
            19.89,
            18.84,
            22.08,
            29.5,
            27.22,
            25.51,
            19.99,
            19.01,
            22.34,
            29.7,
            27.42,
            25.81,
            20.08,
            19.19,
            22.6,
            29.93,
            27.63,
            26.13,
            20.18,
            19.36,
            22.89,
            30.19,
            27.87,
            26.48,
            20.29,
            19.55,
            23.19,
            30.48,
            28.14,
            26.85,
            20.4,
            19.75,
            23.52,
            30.77,
            28.45,
            27.22,
            20.54,
            19.94,
            23.86,
            31.1,
            28.78,
            27.6,
            20.69,
            20.13,
            24.22,
            31.43,
            29.09,
            28,
            20.88,
            20.32,
            24.58,
            31.77
           ]
          },
          {
           "legendgroup": "Blockers",
           "marker": {
            "color": "black",
            "size": 20,
            "symbol": "x"
           },
           "mode": "markers",
           "name": "Blockers",
           "type": "scatter",
           "x": [
            69.03,
            68.68,
            70.11,
            68.16,
            68.98,
            68.84
           ],
           "y": [
            28.2,
            28.76,
            24.62,
            21.54,
            26.8,
            31.48
           ]
          },
          {
           "legendgroup": "QB",
           "marker": {
            "color": "black",
            "size": 20,
            "symbol": "diamond"
           },
           "mode": "markers",
           "name": "QB",
           "type": "scatter",
           "x": [
            63.92
           ],
           "y": [
            27.61
           ]
          },
          {
           "mode": "text",
           "text": [
            "QB Distruption Probability: 0.573"
           ],
           "textfont": {
            "color": "black",
            "size": 17
           },
           "type": "scatter",
           "x": [
            65.13
           ],
           "y": [
            35.53
           ]
          }
         ]
        },
        {
         "data": [
          {
           "legendgroup": "Rushers",
           "marker": {
            "cmax": 0.3,
            "cmin": -0.3,
            "color": [
             -0.007727146148681641,
             0.14238253235816956,
             -0.12104672193527222,
             -0.07226693630218506,
             -0.06394332647323608,
             -0.06409776210784912
            ],
            "colorscale": [
             [
              0,
              "rgb(49,54,149)"
             ],
             [
              0.1,
              "rgb(69,117,180)"
             ],
             [
              0.2,
              "rgb(116,173,209)"
             ],
             [
              0.3,
              "rgb(171,217,233)"
             ],
             [
              0.4,
              "rgb(224,243,248)"
             ],
             [
              0.5,
              "rgb(255,255,191)"
             ],
             [
              0.6,
              "rgb(254,224,144)"
             ],
             [
              0.7,
              "rgb(253,174,97)"
             ],
             [
              0.8,
              "rgb(244,109,67)"
             ],
             [
              0.9,
              "rgb(215,48,39)"
             ],
             [
              1,
              "rgb(165,0,38)"
             ]
            ],
            "showscale": false,
            "size": 20
           },
           "mode": "markers+text",
           "name": "Rushers",
           "text": [
            "Rusher Metric: -0.008",
            "Rusher Metric: 0.142",
            "Rusher Metric: -0.121",
            "Rusher Metric: -0.072",
            "Rusher Metric: -0.064",
            "Rusher Metric: -0.064"
           ],
           "textposition": "bottom center",
           "type": "scatter",
           "x": [
            68.84,
            69.95,
            73.79,
            68.15,
            70.95,
            69.44
           ],
           "y": [
            29.76,
            28.77,
            21.32,
            20.65,
            25.36,
            32.47
           ]
          },
          {
           "marker": {
            "cmax": 0.3,
            "cmin": -0.3,
            "color": [
             -0.0064088404178619385,
             -0.02574777603149414,
             -0.0029237866401672363,
             -0.0008718371391296387,
             -0.0017946958541870117,
             -0.0012657642364501953,
             -0.007595926523208618,
             -0.029318660497665405,
             0.0005917251110076904,
             -0.00516432523727417,
             -0.0022415518760681152,
             0.0004450678825378418,
             -0.006824404001235962,
             -0.03137955069541931,
             0.00007781386375427246,
             -0.007384747266769409,
             -0.004745900630950928,
             -0.00821387767791748,
             -0.007963716983795166,
             -0.029874056577682495,
             0.00019726157188415527,
             -0.010763883590698242,
             -0.004018336534500122,
             -0.011817753314971924,
             -0.0017058253288269043,
             -0.011593848466873169,
             0.000057131052017211914,
             -0.009065210819244385,
             -0.0047495365142822266,
             -0.011062651872634888,
             -0.007946580648422241,
             0.021355479955673218,
             -0.005540281534194946,
             -0.01551547646522522,
             -0.009910672903060913,
             -0.01639220118522644,
             -0.011359959840774536,
             0.04952174425125122,
             -0.006082445383071899,
             -0.011501550674438477,
             -0.010208964347839355,
             -0.014724671840667725,
             -0.011500775814056396,
             0.08198955655097961,
             -0.009909063577651978,
             -0.015194594860076904,
             -0.008880585432052612,
             -0.015957027673721313,
             -0.015709787607192993,
             0.08812889456748962,
             -0.01654374599456787,
             -0.012733310461044312,
             -0.012576043605804443,
             -0.019140541553497314,
             -0.015674471855163574,
             0.11937025189399719,
             -0.02548927068710327,
             -0.022544294595718384,
             -0.01457071304321289,
             -0.022990167140960693,
             -0.01613551378250122,
             0.12305134534835815,
             -0.0406566858291626,
             -0.03410723805427551,
             -0.020864278078079224,
             -0.032570213079452515,
             -0.016895383596420288,
             0.14136657118797302,
             -0.05078613758087158,
             -0.03787901997566223,
             -0.022208303213119507,
             -0.03222337365150452,
             -0.015348345041275024,
             0.12428015470504761,
             -0.06019362807273865,
             -0.04119196534156799,
             -0.024028509855270386,
             -0.035362690687179565,
             -0.014958977699279785,
             0.136225163936615,
             -0.07039898633956909,
             -0.04699438810348511,
             -0.025719046592712402,
             -0.03628295660018921,
             -0.013534873723983765,
             0.1272079050540924,
             -0.0852215588092804,
             -0.05436775088310242,
             -0.030734330415725708,
             -0.04216274619102478,
             -0.014957129955291748,
             0.13361775875091553,
             -0.09939533472061157,
             -0.062023818492889404,
             -0.039072394371032715,
             -0.049574077129364014,
             -0.011961519718170166,
             0.13328975439071655,
             -0.10074824094772339,
             -0.05721938610076904,
             -0.03759711980819702,
             -0.04334676265716553,
             -0.011796951293945312,
             0.15241193771362305,
             -0.11013394594192505,
             -0.06187397241592407,
             -0.044842302799224854,
             -0.04810220003128052,
             -0.01200789213180542,
             0.13277557492256165,
             -0.1191030740737915,
             -0.06512171030044556,
             -0.05008208751678467,
             -0.053096890449523926,
             -0.011697053909301758,
             0.1422446370124817,
             -0.11941242218017578,
             -0.06872880458831787,
             -0.05536186695098877,
             -0.057926833629608154,
             -0.009768962860107422,
             0.13835197687149048,
             -0.12084561586380005,
             -0.06634849309921265,
             -0.05914849042892456,
             -0.060640811920166016
            ],
            "colorscale": [
             [
              0,
              "rgb(49,54,149)"
             ],
             [
              0.1,
              "rgb(69,117,180)"
             ],
             [
              0.2,
              "rgb(116,173,209)"
             ],
             [
              0.3,
              "rgb(171,217,233)"
             ],
             [
              0.4,
              "rgb(224,243,248)"
             ],
             [
              0.5,
              "rgb(255,255,191)"
             ],
             [
              0.6,
              "rgb(254,224,144)"
             ],
             [
              0.7,
              "rgb(253,174,97)"
             ],
             [
              0.8,
              "rgb(244,109,67)"
             ],
             [
              0.9,
              "rgb(215,48,39)"
             ],
             [
              1,
              "rgb(165,0,38)"
             ]
            ],
            "showscale": false,
            "size": 10,
            "symbol": "circle"
           },
           "mode": "markers",
           "type": "scatter",
           "x": [
            72.56,
            72.58,
            74.93,
            73.01,
            72.81,
            73.13,
            72.52,
            72.58,
            74.92,
            73.01,
            72.8,
            73.09,
            72.45,
            72.56,
            74.91,
            72.99,
            72.79,
            73.05,
            72.35,
            72.53,
            74.9,
            72.96,
            72.75,
            72.98,
            72.21,
            72.49,
            74.88,
            72.89,
            72.71,
            72.9,
            72.04,
            72.42,
            74.86,
            72.8,
            72.63,
            72.79,
            71.86,
            72.34,
            74.84,
            72.66,
            72.55,
            72.64,
            71.64,
            72.25,
            74.82,
            72.51,
            72.43,
            72.46,
            71.43,
            72.12,
            74.79,
            72.31,
            72.3,
            72.24,
            71.2,
            71.96,
            74.76,
            72.09,
            72.16,
            72,
            70.97,
            71.8,
            74.72,
            71.87,
            72.03,
            71.75,
            70.77,
            71.62,
            74.68,
            71.62,
            71.9,
            71.49,
            70.56,
            71.44,
            74.63,
            71.34,
            71.78,
            71.23,
            70.36,
            71.26,
            74.57,
            71.02,
            71.66,
            70.97,
            70.16,
            71.08,
            74.51,
            70.68,
            71.55,
            70.73,
            69.96,
            70.91,
            74.44,
            70.34,
            71.46,
            70.5,
            69.75,
            70.74,
            74.37,
            69.98,
            71.37,
            70.28,
            69.58,
            70.58,
            74.28,
            69.61,
            71.28,
            70.07,
            69.39,
            70.42,
            74.19,
            69.24,
            71.17,
            69.89,
            69.21,
            70.26,
            74.07,
            68.87,
            71.09,
            69.72,
            69.03,
            70.11,
            73.94,
            68.51,
            71.01,
            69.57
           ],
           "y": [
            26.46,
            23.97,
            19.41,
            18.25,
            21.22,
            29.1,
            26.46,
            23.98,
            19.43,
            18.25,
            21.22,
            29.08,
            26.47,
            24.01,
            19.44,
            18.26,
            21.21,
            29.07,
            26.47,
            24.05,
            19.46,
            18.26,
            21.21,
            29.05,
            26.47,
            24.1,
            19.48,
            18.27,
            21.23,
            29.05,
            26.5,
            24.18,
            19.51,
            18.29,
            21.26,
            29.05,
            26.54,
            24.28,
            19.55,
            18.33,
            21.32,
            29.06,
            26.6,
            24.4,
            19.6,
            18.38,
            21.4,
            29.09,
            26.68,
            24.55,
            19.66,
            18.48,
            21.51,
            29.14,
            26.77,
            24.75,
            19.73,
            18.57,
            21.68,
            29.22,
            26.9,
            24.97,
            19.81,
            18.69,
            21.87,
            29.35,
            27.05,
            25.22,
            19.89,
            18.84,
            22.08,
            29.5,
            27.22,
            25.51,
            19.99,
            19.01,
            22.34,
            29.7,
            27.42,
            25.81,
            20.08,
            19.19,
            22.6,
            29.93,
            27.63,
            26.13,
            20.18,
            19.36,
            22.89,
            30.19,
            27.87,
            26.48,
            20.29,
            19.55,
            23.19,
            30.48,
            28.14,
            26.85,
            20.4,
            19.75,
            23.52,
            30.77,
            28.45,
            27.22,
            20.54,
            19.94,
            23.86,
            31.1,
            28.78,
            27.6,
            20.69,
            20.13,
            24.22,
            31.43,
            29.09,
            28,
            20.88,
            20.32,
            24.58,
            31.77,
            29.41,
            28.39,
            21.08,
            20.49,
            24.97,
            32.12
           ]
          },
          {
           "legendgroup": "Blockers",
           "marker": {
            "color": "black",
            "size": 20,
            "symbol": "x"
           },
           "mode": "markers",
           "name": "Blockers",
           "type": "scatter",
           "x": [
            68.88,
            68.56,
            70,
            67.91,
            68.77,
            68.7
           ],
           "y": [
            28.42,
            29.07,
            24.93,
            21.64,
            27.03,
            31.8
           ]
          },
          {
           "legendgroup": "QB",
           "marker": {
            "color": "black",
            "size": 20,
            "symbol": "diamond"
           },
           "mode": "markers",
           "name": "QB",
           "type": "scatter",
           "x": [
            63.76
           ],
           "y": [
            28.07
           ]
          },
          {
           "mode": "text",
           "text": [
            "QB Distruption Probability: 0.577"
           ],
           "textfont": {
            "color": "black",
            "size": 17
           },
           "type": "scatter",
           "x": [
            65.13
           ],
           "y": [
            35.53
           ]
          }
         ]
        },
        {
         "data": [
          {
           "legendgroup": "Rushers",
           "marker": {
            "cmax": 0.3,
            "cmin": -0.3,
            "color": [
             -0.000928342342376709,
             0.11138799786567688,
             -0.11399435997009277,
             -0.07171213626861572,
             -0.0601499080657959,
             -0.059009432792663574
            ],
            "colorscale": [
             [
              0,
              "rgb(49,54,149)"
             ],
             [
              0.1,
              "rgb(69,117,180)"
             ],
             [
              0.2,
              "rgb(116,173,209)"
             ],
             [
              0.3,
              "rgb(171,217,233)"
             ],
             [
              0.4,
              "rgb(224,243,248)"
             ],
             [
              0.5,
              "rgb(255,255,191)"
             ],
             [
              0.6,
              "rgb(254,224,144)"
             ],
             [
              0.7,
              "rgb(253,174,97)"
             ],
             [
              0.8,
              "rgb(244,109,67)"
             ],
             [
              0.9,
              "rgb(215,48,39)"
             ],
             [
              1,
              "rgb(165,0,38)"
             ]
            ],
            "showscale": false,
            "size": 20
           },
           "mode": "markers+text",
           "name": "Rushers",
           "text": [
            "Rusher Metric: -0.001",
            "Rusher Metric: 0.111",
            "Rusher Metric: -0.114",
            "Rusher Metric: -0.072",
            "Rusher Metric: -0.06",
            "Rusher Metric: -0.059"
           ],
           "textposition": "bottom center",
           "type": "scatter",
           "x": [
            68.63,
            69.8,
            73.62,
            67.81,
            70.89,
            69.32
           ],
           "y": [
            30.12,
            29.15,
            21.6,
            20.79,
            25.75,
            32.82
           ]
          },
          {
           "marker": {
            "cmax": 0.3,
            "cmin": -0.3,
            "color": [
             -0.0064088404178619385,
             -0.02574777603149414,
             -0.0029237866401672363,
             -0.0008718371391296387,
             -0.0017946958541870117,
             -0.0012657642364501953,
             -0.007595926523208618,
             -0.029318660497665405,
             0.0005917251110076904,
             -0.00516432523727417,
             -0.0022415518760681152,
             0.0004450678825378418,
             -0.006824404001235962,
             -0.03137955069541931,
             0.00007781386375427246,
             -0.007384747266769409,
             -0.004745900630950928,
             -0.00821387767791748,
             -0.007963716983795166,
             -0.029874056577682495,
             0.00019726157188415527,
             -0.010763883590698242,
             -0.004018336534500122,
             -0.011817753314971924,
             -0.0017058253288269043,
             -0.011593848466873169,
             0.000057131052017211914,
             -0.009065210819244385,
             -0.0047495365142822266,
             -0.011062651872634888,
             -0.007946580648422241,
             0.021355479955673218,
             -0.005540281534194946,
             -0.01551547646522522,
             -0.009910672903060913,
             -0.01639220118522644,
             -0.011359959840774536,
             0.04952174425125122,
             -0.006082445383071899,
             -0.011501550674438477,
             -0.010208964347839355,
             -0.014724671840667725,
             -0.011500775814056396,
             0.08198955655097961,
             -0.009909063577651978,
             -0.015194594860076904,
             -0.008880585432052612,
             -0.015957027673721313,
             -0.015709787607192993,
             0.08812889456748962,
             -0.01654374599456787,
             -0.012733310461044312,
             -0.012576043605804443,
             -0.019140541553497314,
             -0.015674471855163574,
             0.11937025189399719,
             -0.02548927068710327,
             -0.022544294595718384,
             -0.01457071304321289,
             -0.022990167140960693,
             -0.01613551378250122,
             0.12305134534835815,
             -0.0406566858291626,
             -0.03410723805427551,
             -0.020864278078079224,
             -0.032570213079452515,
             -0.016895383596420288,
             0.14136657118797302,
             -0.05078613758087158,
             -0.03787901997566223,
             -0.022208303213119507,
             -0.03222337365150452,
             -0.015348345041275024,
             0.12428015470504761,
             -0.06019362807273865,
             -0.04119196534156799,
             -0.024028509855270386,
             -0.035362690687179565,
             -0.014958977699279785,
             0.136225163936615,
             -0.07039898633956909,
             -0.04699438810348511,
             -0.025719046592712402,
             -0.03628295660018921,
             -0.013534873723983765,
             0.1272079050540924,
             -0.0852215588092804,
             -0.05436775088310242,
             -0.030734330415725708,
             -0.04216274619102478,
             -0.014957129955291748,
             0.13361775875091553,
             -0.09939533472061157,
             -0.062023818492889404,
             -0.039072394371032715,
             -0.049574077129364014,
             -0.011961519718170166,
             0.13328975439071655,
             -0.10074824094772339,
             -0.05721938610076904,
             -0.03759711980819702,
             -0.04334676265716553,
             -0.011796951293945312,
             0.15241193771362305,
             -0.11013394594192505,
             -0.06187397241592407,
             -0.044842302799224854,
             -0.04810220003128052,
             -0.01200789213180542,
             0.13277557492256165,
             -0.1191030740737915,
             -0.06512171030044556,
             -0.05008208751678467,
             -0.053096890449523926,
             -0.011697053909301758,
             0.1422446370124817,
             -0.11941242218017578,
             -0.06872880458831787,
             -0.05536186695098877,
             -0.057926833629608154,
             -0.009768962860107422,
             0.13835197687149048,
             -0.12084561586380005,
             -0.06634849309921265,
             -0.05914849042892456,
             -0.060640811920166016,
             -0.007727146148681641,
             0.14238253235816956,
             -0.12104672193527222,
             -0.07226693630218506,
             -0.06394332647323608,
             -0.06409776210784912
            ],
            "colorscale": [
             [
              0,
              "rgb(49,54,149)"
             ],
             [
              0.1,
              "rgb(69,117,180)"
             ],
             [
              0.2,
              "rgb(116,173,209)"
             ],
             [
              0.3,
              "rgb(171,217,233)"
             ],
             [
              0.4,
              "rgb(224,243,248)"
             ],
             [
              0.5,
              "rgb(255,255,191)"
             ],
             [
              0.6,
              "rgb(254,224,144)"
             ],
             [
              0.7,
              "rgb(253,174,97)"
             ],
             [
              0.8,
              "rgb(244,109,67)"
             ],
             [
              0.9,
              "rgb(215,48,39)"
             ],
             [
              1,
              "rgb(165,0,38)"
             ]
            ],
            "showscale": false,
            "size": 10,
            "symbol": "circle"
           },
           "mode": "markers",
           "type": "scatter",
           "x": [
            72.56,
            72.58,
            74.93,
            73.01,
            72.81,
            73.13,
            72.52,
            72.58,
            74.92,
            73.01,
            72.8,
            73.09,
            72.45,
            72.56,
            74.91,
            72.99,
            72.79,
            73.05,
            72.35,
            72.53,
            74.9,
            72.96,
            72.75,
            72.98,
            72.21,
            72.49,
            74.88,
            72.89,
            72.71,
            72.9,
            72.04,
            72.42,
            74.86,
            72.8,
            72.63,
            72.79,
            71.86,
            72.34,
            74.84,
            72.66,
            72.55,
            72.64,
            71.64,
            72.25,
            74.82,
            72.51,
            72.43,
            72.46,
            71.43,
            72.12,
            74.79,
            72.31,
            72.3,
            72.24,
            71.2,
            71.96,
            74.76,
            72.09,
            72.16,
            72,
            70.97,
            71.8,
            74.72,
            71.87,
            72.03,
            71.75,
            70.77,
            71.62,
            74.68,
            71.62,
            71.9,
            71.49,
            70.56,
            71.44,
            74.63,
            71.34,
            71.78,
            71.23,
            70.36,
            71.26,
            74.57,
            71.02,
            71.66,
            70.97,
            70.16,
            71.08,
            74.51,
            70.68,
            71.55,
            70.73,
            69.96,
            70.91,
            74.44,
            70.34,
            71.46,
            70.5,
            69.75,
            70.74,
            74.37,
            69.98,
            71.37,
            70.28,
            69.58,
            70.58,
            74.28,
            69.61,
            71.28,
            70.07,
            69.39,
            70.42,
            74.19,
            69.24,
            71.17,
            69.89,
            69.21,
            70.26,
            74.07,
            68.87,
            71.09,
            69.72,
            69.03,
            70.11,
            73.94,
            68.51,
            71.01,
            69.57,
            68.84,
            69.95,
            73.79,
            68.15,
            70.95,
            69.44
           ],
           "y": [
            26.46,
            23.97,
            19.41,
            18.25,
            21.22,
            29.1,
            26.46,
            23.98,
            19.43,
            18.25,
            21.22,
            29.08,
            26.47,
            24.01,
            19.44,
            18.26,
            21.21,
            29.07,
            26.47,
            24.05,
            19.46,
            18.26,
            21.21,
            29.05,
            26.47,
            24.1,
            19.48,
            18.27,
            21.23,
            29.05,
            26.5,
            24.18,
            19.51,
            18.29,
            21.26,
            29.05,
            26.54,
            24.28,
            19.55,
            18.33,
            21.32,
            29.06,
            26.6,
            24.4,
            19.6,
            18.38,
            21.4,
            29.09,
            26.68,
            24.55,
            19.66,
            18.48,
            21.51,
            29.14,
            26.77,
            24.75,
            19.73,
            18.57,
            21.68,
            29.22,
            26.9,
            24.97,
            19.81,
            18.69,
            21.87,
            29.35,
            27.05,
            25.22,
            19.89,
            18.84,
            22.08,
            29.5,
            27.22,
            25.51,
            19.99,
            19.01,
            22.34,
            29.7,
            27.42,
            25.81,
            20.08,
            19.19,
            22.6,
            29.93,
            27.63,
            26.13,
            20.18,
            19.36,
            22.89,
            30.19,
            27.87,
            26.48,
            20.29,
            19.55,
            23.19,
            30.48,
            28.14,
            26.85,
            20.4,
            19.75,
            23.52,
            30.77,
            28.45,
            27.22,
            20.54,
            19.94,
            23.86,
            31.1,
            28.78,
            27.6,
            20.69,
            20.13,
            24.22,
            31.43,
            29.09,
            28,
            20.88,
            20.32,
            24.58,
            31.77,
            29.41,
            28.39,
            21.08,
            20.49,
            24.97,
            32.12,
            29.76,
            28.77,
            21.32,
            20.65,
            25.36,
            32.47
           ]
          },
          {
           "legendgroup": "Blockers",
           "marker": {
            "color": "black",
            "size": 20,
            "symbol": "x"
           },
           "mode": "markers",
           "name": "Blockers",
           "type": "scatter",
           "x": [
            68.74,
            68.44,
            69.9,
            67.66,
            68.56,
            68.57
           ],
           "y": [
            28.62,
            29.39,
            25.25,
            21.74,
            27.25,
            32.13
           ]
          },
          {
           "legendgroup": "QB",
           "marker": {
            "color": "black",
            "size": 20,
            "symbol": "diamond"
           },
           "mode": "markers",
           "name": "QB",
           "type": "scatter",
           "x": [
            63.63
           ],
           "y": [
            28.52
           ]
          },
          {
           "mode": "text",
           "text": [
            "QB Distruption Probability: 0.586"
           ],
           "textfont": {
            "color": "black",
            "size": 17
           },
           "type": "scatter",
           "x": [
            65.13
           ],
           "y": [
            35.53
           ]
          }
         ]
        },
        {
         "data": [
          {
           "legendgroup": "Rushers",
           "marker": {
            "cmax": 0.3,
            "cmin": -0.3,
            "color": [
             0.0016421079635620117,
             0.09335750341415405,
             -0.11200511455535889,
             -0.07469278573989868,
             -0.06075692176818848,
             -0.057098388671875
            ],
            "colorscale": [
             [
              0,
              "rgb(49,54,149)"
             ],
             [
              0.1,
              "rgb(69,117,180)"
             ],
             [
              0.2,
              "rgb(116,173,209)"
             ],
             [
              0.3,
              "rgb(171,217,233)"
             ],
             [
              0.4,
              "rgb(224,243,248)"
             ],
             [
              0.5,
              "rgb(255,255,191)"
             ],
             [
              0.6,
              "rgb(254,224,144)"
             ],
             [
              0.7,
              "rgb(253,174,97)"
             ],
             [
              0.8,
              "rgb(244,109,67)"
             ],
             [
              0.9,
              "rgb(215,48,39)"
             ],
             [
              1,
              "rgb(165,0,38)"
             ]
            ],
            "showscale": false,
            "size": 20
           },
           "mode": "markers+text",
           "name": "Rushers",
           "text": [
            "Rusher Metric: 0.002",
            "Rusher Metric: 0.093",
            "Rusher Metric: -0.112",
            "Rusher Metric: -0.075",
            "Rusher Metric: -0.061",
            "Rusher Metric: -0.057"
           ],
           "textposition": "bottom center",
           "type": "scatter",
           "x": [
            68.42,
            69.64,
            73.42,
            67.45,
            70.84,
            69.23
           ],
           "y": [
            30.48,
            29.51,
            21.91,
            20.91,
            26.14,
            33.15
           ]
          },
          {
           "marker": {
            "cmax": 0.3,
            "cmin": -0.3,
            "color": [
             -0.0064088404178619385,
             -0.02574777603149414,
             -0.0029237866401672363,
             -0.0008718371391296387,
             -0.0017946958541870117,
             -0.0012657642364501953,
             -0.007595926523208618,
             -0.029318660497665405,
             0.0005917251110076904,
             -0.00516432523727417,
             -0.0022415518760681152,
             0.0004450678825378418,
             -0.006824404001235962,
             -0.03137955069541931,
             0.00007781386375427246,
             -0.007384747266769409,
             -0.004745900630950928,
             -0.00821387767791748,
             -0.007963716983795166,
             -0.029874056577682495,
             0.00019726157188415527,
             -0.010763883590698242,
             -0.004018336534500122,
             -0.011817753314971924,
             -0.0017058253288269043,
             -0.011593848466873169,
             0.000057131052017211914,
             -0.009065210819244385,
             -0.0047495365142822266,
             -0.011062651872634888,
             -0.007946580648422241,
             0.021355479955673218,
             -0.005540281534194946,
             -0.01551547646522522,
             -0.009910672903060913,
             -0.01639220118522644,
             -0.011359959840774536,
             0.04952174425125122,
             -0.006082445383071899,
             -0.011501550674438477,
             -0.010208964347839355,
             -0.014724671840667725,
             -0.011500775814056396,
             0.08198955655097961,
             -0.009909063577651978,
             -0.015194594860076904,
             -0.008880585432052612,
             -0.015957027673721313,
             -0.015709787607192993,
             0.08812889456748962,
             -0.01654374599456787,
             -0.012733310461044312,
             -0.012576043605804443,
             -0.019140541553497314,
             -0.015674471855163574,
             0.11937025189399719,
             -0.02548927068710327,
             -0.022544294595718384,
             -0.01457071304321289,
             -0.022990167140960693,
             -0.01613551378250122,
             0.12305134534835815,
             -0.0406566858291626,
             -0.03410723805427551,
             -0.020864278078079224,
             -0.032570213079452515,
             -0.016895383596420288,
             0.14136657118797302,
             -0.05078613758087158,
             -0.03787901997566223,
             -0.022208303213119507,
             -0.03222337365150452,
             -0.015348345041275024,
             0.12428015470504761,
             -0.06019362807273865,
             -0.04119196534156799,
             -0.024028509855270386,
             -0.035362690687179565,
             -0.014958977699279785,
             0.136225163936615,
             -0.07039898633956909,
             -0.04699438810348511,
             -0.025719046592712402,
             -0.03628295660018921,
             -0.013534873723983765,
             0.1272079050540924,
             -0.0852215588092804,
             -0.05436775088310242,
             -0.030734330415725708,
             -0.04216274619102478,
             -0.014957129955291748,
             0.13361775875091553,
             -0.09939533472061157,
             -0.062023818492889404,
             -0.039072394371032715,
             -0.049574077129364014,
             -0.011961519718170166,
             0.13328975439071655,
             -0.10074824094772339,
             -0.05721938610076904,
             -0.03759711980819702,
             -0.04334676265716553,
             -0.011796951293945312,
             0.15241193771362305,
             -0.11013394594192505,
             -0.06187397241592407,
             -0.044842302799224854,
             -0.04810220003128052,
             -0.01200789213180542,
             0.13277557492256165,
             -0.1191030740737915,
             -0.06512171030044556,
             -0.05008208751678467,
             -0.053096890449523926,
             -0.011697053909301758,
             0.1422446370124817,
             -0.11941242218017578,
             -0.06872880458831787,
             -0.05536186695098877,
             -0.057926833629608154,
             -0.009768962860107422,
             0.13835197687149048,
             -0.12084561586380005,
             -0.06634849309921265,
             -0.05914849042892456,
             -0.060640811920166016,
             -0.007727146148681641,
             0.14238253235816956,
             -0.12104672193527222,
             -0.07226693630218506,
             -0.06394332647323608,
             -0.06409776210784912,
             -0.000928342342376709,
             0.11138799786567688,
             -0.11399435997009277,
             -0.07171213626861572,
             -0.0601499080657959,
             -0.059009432792663574
            ],
            "colorscale": [
             [
              0,
              "rgb(49,54,149)"
             ],
             [
              0.1,
              "rgb(69,117,180)"
             ],
             [
              0.2,
              "rgb(116,173,209)"
             ],
             [
              0.3,
              "rgb(171,217,233)"
             ],
             [
              0.4,
              "rgb(224,243,248)"
             ],
             [
              0.5,
              "rgb(255,255,191)"
             ],
             [
              0.6,
              "rgb(254,224,144)"
             ],
             [
              0.7,
              "rgb(253,174,97)"
             ],
             [
              0.8,
              "rgb(244,109,67)"
             ],
             [
              0.9,
              "rgb(215,48,39)"
             ],
             [
              1,
              "rgb(165,0,38)"
             ]
            ],
            "showscale": false,
            "size": 10,
            "symbol": "circle"
           },
           "mode": "markers",
           "type": "scatter",
           "x": [
            72.56,
            72.58,
            74.93,
            73.01,
            72.81,
            73.13,
            72.52,
            72.58,
            74.92,
            73.01,
            72.8,
            73.09,
            72.45,
            72.56,
            74.91,
            72.99,
            72.79,
            73.05,
            72.35,
            72.53,
            74.9,
            72.96,
            72.75,
            72.98,
            72.21,
            72.49,
            74.88,
            72.89,
            72.71,
            72.9,
            72.04,
            72.42,
            74.86,
            72.8,
            72.63,
            72.79,
            71.86,
            72.34,
            74.84,
            72.66,
            72.55,
            72.64,
            71.64,
            72.25,
            74.82,
            72.51,
            72.43,
            72.46,
            71.43,
            72.12,
            74.79,
            72.31,
            72.3,
            72.24,
            71.2,
            71.96,
            74.76,
            72.09,
            72.16,
            72,
            70.97,
            71.8,
            74.72,
            71.87,
            72.03,
            71.75,
            70.77,
            71.62,
            74.68,
            71.62,
            71.9,
            71.49,
            70.56,
            71.44,
            74.63,
            71.34,
            71.78,
            71.23,
            70.36,
            71.26,
            74.57,
            71.02,
            71.66,
            70.97,
            70.16,
            71.08,
            74.51,
            70.68,
            71.55,
            70.73,
            69.96,
            70.91,
            74.44,
            70.34,
            71.46,
            70.5,
            69.75,
            70.74,
            74.37,
            69.98,
            71.37,
            70.28,
            69.58,
            70.58,
            74.28,
            69.61,
            71.28,
            70.07,
            69.39,
            70.42,
            74.19,
            69.24,
            71.17,
            69.89,
            69.21,
            70.26,
            74.07,
            68.87,
            71.09,
            69.72,
            69.03,
            70.11,
            73.94,
            68.51,
            71.01,
            69.57,
            68.84,
            69.95,
            73.79,
            68.15,
            70.95,
            69.44,
            68.63,
            69.8,
            73.62,
            67.81,
            70.89,
            69.32
           ],
           "y": [
            26.46,
            23.97,
            19.41,
            18.25,
            21.22,
            29.1,
            26.46,
            23.98,
            19.43,
            18.25,
            21.22,
            29.08,
            26.47,
            24.01,
            19.44,
            18.26,
            21.21,
            29.07,
            26.47,
            24.05,
            19.46,
            18.26,
            21.21,
            29.05,
            26.47,
            24.1,
            19.48,
            18.27,
            21.23,
            29.05,
            26.5,
            24.18,
            19.51,
            18.29,
            21.26,
            29.05,
            26.54,
            24.28,
            19.55,
            18.33,
            21.32,
            29.06,
            26.6,
            24.4,
            19.6,
            18.38,
            21.4,
            29.09,
            26.68,
            24.55,
            19.66,
            18.48,
            21.51,
            29.14,
            26.77,
            24.75,
            19.73,
            18.57,
            21.68,
            29.22,
            26.9,
            24.97,
            19.81,
            18.69,
            21.87,
            29.35,
            27.05,
            25.22,
            19.89,
            18.84,
            22.08,
            29.5,
            27.22,
            25.51,
            19.99,
            19.01,
            22.34,
            29.7,
            27.42,
            25.81,
            20.08,
            19.19,
            22.6,
            29.93,
            27.63,
            26.13,
            20.18,
            19.36,
            22.89,
            30.19,
            27.87,
            26.48,
            20.29,
            19.55,
            23.19,
            30.48,
            28.14,
            26.85,
            20.4,
            19.75,
            23.52,
            30.77,
            28.45,
            27.22,
            20.54,
            19.94,
            23.86,
            31.1,
            28.78,
            27.6,
            20.69,
            20.13,
            24.22,
            31.43,
            29.09,
            28,
            20.88,
            20.32,
            24.58,
            31.77,
            29.41,
            28.39,
            21.08,
            20.49,
            24.97,
            32.12,
            29.76,
            28.77,
            21.32,
            20.65,
            25.36,
            32.47,
            30.12,
            29.15,
            21.6,
            20.79,
            25.75,
            32.82
           ]
          },
          {
           "legendgroup": "Blockers",
           "marker": {
            "color": "black",
            "size": 20,
            "symbol": "x"
           },
           "mode": "markers",
           "name": "Blockers",
           "type": "scatter",
           "x": [
            68.6,
            68.32,
            69.78,
            67.41,
            68.37,
            68.46
           ],
           "y": [
            28.81,
            29.74,
            25.58,
            21.83,
            27.46,
            32.44
           ]
          },
          {
           "legendgroup": "QB",
           "marker": {
            "color": "black",
            "size": 20,
            "symbol": "diamond"
           },
           "mode": "markers",
           "name": "QB",
           "type": "scatter",
           "x": [
            63.5
           ],
           "y": [
            28.96
           ]
          },
          {
           "mode": "text",
           "text": [
            "QB Distruption Probability: 0.582"
           ],
           "textfont": {
            "color": "black",
            "size": 17
           },
           "type": "scatter",
           "x": [
            65.13
           ],
           "y": [
            35.53
           ]
          }
         ]
        },
        {
         "data": [
          {
           "legendgroup": "Rushers",
           "marker": {
            "cmax": 0.3,
            "cmin": -0.3,
            "color": [
             0.004307150840759277,
             0.05018770694732666,
             -0.1025657057762146,
             -0.0700346827507019,
             -0.05756807327270508,
             -0.05282390117645264
            ],
            "colorscale": [
             [
              0,
              "rgb(49,54,149)"
             ],
             [
              0.1,
              "rgb(69,117,180)"
             ],
             [
              0.2,
              "rgb(116,173,209)"
             ],
             [
              0.3,
              "rgb(171,217,233)"
             ],
             [
              0.4,
              "rgb(224,243,248)"
             ],
             [
              0.5,
              "rgb(255,255,191)"
             ],
             [
              0.6,
              "rgb(254,224,144)"
             ],
             [
              0.7,
              "rgb(253,174,97)"
             ],
             [
              0.8,
              "rgb(244,109,67)"
             ],
             [
              0.9,
              "rgb(215,48,39)"
             ],
             [
              1,
              "rgb(165,0,38)"
             ]
            ],
            "showscale": false,
            "size": 20
           },
           "mode": "markers+text",
           "name": "Rushers",
           "text": [
            "Rusher Metric: 0.004",
            "Rusher Metric: 0.05",
            "Rusher Metric: -0.103",
            "Rusher Metric: -0.07",
            "Rusher Metric: -0.058",
            "Rusher Metric: -0.053"
           ],
           "textposition": "bottom center",
           "type": "scatter",
           "x": [
            68.21,
            69.48,
            73.18,
            67.09,
            70.8,
            69.16
           ],
           "y": [
            30.83,
            29.84,
            22.26,
            21.04,
            26.52,
            33.46
           ]
          },
          {
           "marker": {
            "cmax": 0.3,
            "cmin": -0.3,
            "color": [
             -0.0064088404178619385,
             -0.02574777603149414,
             -0.0029237866401672363,
             -0.0008718371391296387,
             -0.0017946958541870117,
             -0.0012657642364501953,
             -0.007595926523208618,
             -0.029318660497665405,
             0.0005917251110076904,
             -0.00516432523727417,
             -0.0022415518760681152,
             0.0004450678825378418,
             -0.006824404001235962,
             -0.03137955069541931,
             0.00007781386375427246,
             -0.007384747266769409,
             -0.004745900630950928,
             -0.00821387767791748,
             -0.007963716983795166,
             -0.029874056577682495,
             0.00019726157188415527,
             -0.010763883590698242,
             -0.004018336534500122,
             -0.011817753314971924,
             -0.0017058253288269043,
             -0.011593848466873169,
             0.000057131052017211914,
             -0.009065210819244385,
             -0.0047495365142822266,
             -0.011062651872634888,
             -0.007946580648422241,
             0.021355479955673218,
             -0.005540281534194946,
             -0.01551547646522522,
             -0.009910672903060913,
             -0.01639220118522644,
             -0.011359959840774536,
             0.04952174425125122,
             -0.006082445383071899,
             -0.011501550674438477,
             -0.010208964347839355,
             -0.014724671840667725,
             -0.011500775814056396,
             0.08198955655097961,
             -0.009909063577651978,
             -0.015194594860076904,
             -0.008880585432052612,
             -0.015957027673721313,
             -0.015709787607192993,
             0.08812889456748962,
             -0.01654374599456787,
             -0.012733310461044312,
             -0.012576043605804443,
             -0.019140541553497314,
             -0.015674471855163574,
             0.11937025189399719,
             -0.02548927068710327,
             -0.022544294595718384,
             -0.01457071304321289,
             -0.022990167140960693,
             -0.01613551378250122,
             0.12305134534835815,
             -0.0406566858291626,
             -0.03410723805427551,
             -0.020864278078079224,
             -0.032570213079452515,
             -0.016895383596420288,
             0.14136657118797302,
             -0.05078613758087158,
             -0.03787901997566223,
             -0.022208303213119507,
             -0.03222337365150452,
             -0.015348345041275024,
             0.12428015470504761,
             -0.06019362807273865,
             -0.04119196534156799,
             -0.024028509855270386,
             -0.035362690687179565,
             -0.014958977699279785,
             0.136225163936615,
             -0.07039898633956909,
             -0.04699438810348511,
             -0.025719046592712402,
             -0.03628295660018921,
             -0.013534873723983765,
             0.1272079050540924,
             -0.0852215588092804,
             -0.05436775088310242,
             -0.030734330415725708,
             -0.04216274619102478,
             -0.014957129955291748,
             0.13361775875091553,
             -0.09939533472061157,
             -0.062023818492889404,
             -0.039072394371032715,
             -0.049574077129364014,
             -0.011961519718170166,
             0.13328975439071655,
             -0.10074824094772339,
             -0.05721938610076904,
             -0.03759711980819702,
             -0.04334676265716553,
             -0.011796951293945312,
             0.15241193771362305,
             -0.11013394594192505,
             -0.06187397241592407,
             -0.044842302799224854,
             -0.04810220003128052,
             -0.01200789213180542,
             0.13277557492256165,
             -0.1191030740737915,
             -0.06512171030044556,
             -0.05008208751678467,
             -0.053096890449523926,
             -0.011697053909301758,
             0.1422446370124817,
             -0.11941242218017578,
             -0.06872880458831787,
             -0.05536186695098877,
             -0.057926833629608154,
             -0.009768962860107422,
             0.13835197687149048,
             -0.12084561586380005,
             -0.06634849309921265,
             -0.05914849042892456,
             -0.060640811920166016,
             -0.007727146148681641,
             0.14238253235816956,
             -0.12104672193527222,
             -0.07226693630218506,
             -0.06394332647323608,
             -0.06409776210784912,
             -0.000928342342376709,
             0.11138799786567688,
             -0.11399435997009277,
             -0.07171213626861572,
             -0.0601499080657959,
             -0.059009432792663574,
             0.0016421079635620117,
             0.09335750341415405,
             -0.11200511455535889,
             -0.07469278573989868,
             -0.06075692176818848,
             -0.057098388671875
            ],
            "colorscale": [
             [
              0,
              "rgb(49,54,149)"
             ],
             [
              0.1,
              "rgb(69,117,180)"
             ],
             [
              0.2,
              "rgb(116,173,209)"
             ],
             [
              0.3,
              "rgb(171,217,233)"
             ],
             [
              0.4,
              "rgb(224,243,248)"
             ],
             [
              0.5,
              "rgb(255,255,191)"
             ],
             [
              0.6,
              "rgb(254,224,144)"
             ],
             [
              0.7,
              "rgb(253,174,97)"
             ],
             [
              0.8,
              "rgb(244,109,67)"
             ],
             [
              0.9,
              "rgb(215,48,39)"
             ],
             [
              1,
              "rgb(165,0,38)"
             ]
            ],
            "showscale": false,
            "size": 10,
            "symbol": "circle"
           },
           "mode": "markers",
           "type": "scatter",
           "x": [
            72.56,
            72.58,
            74.93,
            73.01,
            72.81,
            73.13,
            72.52,
            72.58,
            74.92,
            73.01,
            72.8,
            73.09,
            72.45,
            72.56,
            74.91,
            72.99,
            72.79,
            73.05,
            72.35,
            72.53,
            74.9,
            72.96,
            72.75,
            72.98,
            72.21,
            72.49,
            74.88,
            72.89,
            72.71,
            72.9,
            72.04,
            72.42,
            74.86,
            72.8,
            72.63,
            72.79,
            71.86,
            72.34,
            74.84,
            72.66,
            72.55,
            72.64,
            71.64,
            72.25,
            74.82,
            72.51,
            72.43,
            72.46,
            71.43,
            72.12,
            74.79,
            72.31,
            72.3,
            72.24,
            71.2,
            71.96,
            74.76,
            72.09,
            72.16,
            72,
            70.97,
            71.8,
            74.72,
            71.87,
            72.03,
            71.75,
            70.77,
            71.62,
            74.68,
            71.62,
            71.9,
            71.49,
            70.56,
            71.44,
            74.63,
            71.34,
            71.78,
            71.23,
            70.36,
            71.26,
            74.57,
            71.02,
            71.66,
            70.97,
            70.16,
            71.08,
            74.51,
            70.68,
            71.55,
            70.73,
            69.96,
            70.91,
            74.44,
            70.34,
            71.46,
            70.5,
            69.75,
            70.74,
            74.37,
            69.98,
            71.37,
            70.28,
            69.58,
            70.58,
            74.28,
            69.61,
            71.28,
            70.07,
            69.39,
            70.42,
            74.19,
            69.24,
            71.17,
            69.89,
            69.21,
            70.26,
            74.07,
            68.87,
            71.09,
            69.72,
            69.03,
            70.11,
            73.94,
            68.51,
            71.01,
            69.57,
            68.84,
            69.95,
            73.79,
            68.15,
            70.95,
            69.44,
            68.63,
            69.8,
            73.62,
            67.81,
            70.89,
            69.32,
            68.42,
            69.64,
            73.42,
            67.45,
            70.84,
            69.23
           ],
           "y": [
            26.46,
            23.97,
            19.41,
            18.25,
            21.22,
            29.1,
            26.46,
            23.98,
            19.43,
            18.25,
            21.22,
            29.08,
            26.47,
            24.01,
            19.44,
            18.26,
            21.21,
            29.07,
            26.47,
            24.05,
            19.46,
            18.26,
            21.21,
            29.05,
            26.47,
            24.1,
            19.48,
            18.27,
            21.23,
            29.05,
            26.5,
            24.18,
            19.51,
            18.29,
            21.26,
            29.05,
            26.54,
            24.28,
            19.55,
            18.33,
            21.32,
            29.06,
            26.6,
            24.4,
            19.6,
            18.38,
            21.4,
            29.09,
            26.68,
            24.55,
            19.66,
            18.48,
            21.51,
            29.14,
            26.77,
            24.75,
            19.73,
            18.57,
            21.68,
            29.22,
            26.9,
            24.97,
            19.81,
            18.69,
            21.87,
            29.35,
            27.05,
            25.22,
            19.89,
            18.84,
            22.08,
            29.5,
            27.22,
            25.51,
            19.99,
            19.01,
            22.34,
            29.7,
            27.42,
            25.81,
            20.08,
            19.19,
            22.6,
            29.93,
            27.63,
            26.13,
            20.18,
            19.36,
            22.89,
            30.19,
            27.87,
            26.48,
            20.29,
            19.55,
            23.19,
            30.48,
            28.14,
            26.85,
            20.4,
            19.75,
            23.52,
            30.77,
            28.45,
            27.22,
            20.54,
            19.94,
            23.86,
            31.1,
            28.78,
            27.6,
            20.69,
            20.13,
            24.22,
            31.43,
            29.09,
            28,
            20.88,
            20.32,
            24.58,
            31.77,
            29.41,
            28.39,
            21.08,
            20.49,
            24.97,
            32.12,
            29.76,
            28.77,
            21.32,
            20.65,
            25.36,
            32.47,
            30.12,
            29.15,
            21.6,
            20.79,
            25.75,
            32.82,
            30.48,
            29.51,
            21.91,
            20.91,
            26.14,
            33.15
           ]
          },
          {
           "legendgroup": "Blockers",
           "marker": {
            "color": "black",
            "size": 20,
            "symbol": "x"
           },
           "mode": "markers",
           "name": "Blockers",
           "type": "scatter",
           "x": [
            68.46,
            68.19,
            69.67,
            67.14,
            68.19,
            68.35
           ],
           "y": [
            29.01,
            30.08,
            25.9,
            21.91,
            27.66,
            32.75
           ]
          },
          {
           "legendgroup": "QB",
           "marker": {
            "color": "black",
            "size": 20,
            "symbol": "diamond"
           },
           "mode": "markers",
           "name": "QB",
           "type": "scatter",
           "x": [
            63.39
           ],
           "y": [
            29.36
           ]
          },
          {
           "mode": "text",
           "text": [
            "QB Distruption Probability: 0.583"
           ],
           "textfont": {
            "color": "black",
            "size": 17
           },
           "type": "scatter",
           "x": [
            65.13
           ],
           "y": [
            35.53
           ]
          }
         ]
        },
        {
         "data": [
          {
           "legendgroup": "Rushers",
           "marker": {
            "cmax": 0.3,
            "cmin": -0.3,
            "color": [
             0.008377432823181152,
             0.03029686212539673,
             -0.0884750485420227,
             -0.0654863715171814,
             -0.052137792110443115,
             -0.04737687110900879
            ],
            "colorscale": [
             [
              0,
              "rgb(49,54,149)"
             ],
             [
              0.1,
              "rgb(69,117,180)"
             ],
             [
              0.2,
              "rgb(116,173,209)"
             ],
             [
              0.3,
              "rgb(171,217,233)"
             ],
             [
              0.4,
              "rgb(224,243,248)"
             ],
             [
              0.5,
              "rgb(255,255,191)"
             ],
             [
              0.6,
              "rgb(254,224,144)"
             ],
             [
              0.7,
              "rgb(253,174,97)"
             ],
             [
              0.8,
              "rgb(244,109,67)"
             ],
             [
              0.9,
              "rgb(215,48,39)"
             ],
             [
              1,
              "rgb(165,0,38)"
             ]
            ],
            "showscale": false,
            "size": 20
           },
           "mode": "markers+text",
           "name": "Rushers",
           "text": [
            "Rusher Metric: 0.008",
            "Rusher Metric: 0.03",
            "Rusher Metric: -0.088",
            "Rusher Metric: -0.065",
            "Rusher Metric: -0.052",
            "Rusher Metric: -0.047"
           ],
           "textposition": "bottom center",
           "type": "scatter",
           "x": [
            67.96,
            69.32,
            72.91,
            66.75,
            70.75,
            69.13
           ],
           "y": [
            31.19,
            30.15,
            22.62,
            21.16,
            26.88,
            33.74
           ]
          },
          {
           "marker": {
            "cmax": 0.3,
            "cmin": -0.3,
            "color": [
             -0.0064088404178619385,
             -0.02574777603149414,
             -0.0029237866401672363,
             -0.0008718371391296387,
             -0.0017946958541870117,
             -0.0012657642364501953,
             -0.007595926523208618,
             -0.029318660497665405,
             0.0005917251110076904,
             -0.00516432523727417,
             -0.0022415518760681152,
             0.0004450678825378418,
             -0.006824404001235962,
             -0.03137955069541931,
             0.00007781386375427246,
             -0.007384747266769409,
             -0.004745900630950928,
             -0.00821387767791748,
             -0.007963716983795166,
             -0.029874056577682495,
             0.00019726157188415527,
             -0.010763883590698242,
             -0.004018336534500122,
             -0.011817753314971924,
             -0.0017058253288269043,
             -0.011593848466873169,
             0.000057131052017211914,
             -0.009065210819244385,
             -0.0047495365142822266,
             -0.011062651872634888,
             -0.007946580648422241,
             0.021355479955673218,
             -0.005540281534194946,
             -0.01551547646522522,
             -0.009910672903060913,
             -0.01639220118522644,
             -0.011359959840774536,
             0.04952174425125122,
             -0.006082445383071899,
             -0.011501550674438477,
             -0.010208964347839355,
             -0.014724671840667725,
             -0.011500775814056396,
             0.08198955655097961,
             -0.009909063577651978,
             -0.015194594860076904,
             -0.008880585432052612,
             -0.015957027673721313,
             -0.015709787607192993,
             0.08812889456748962,
             -0.01654374599456787,
             -0.012733310461044312,
             -0.012576043605804443,
             -0.019140541553497314,
             -0.015674471855163574,
             0.11937025189399719,
             -0.02548927068710327,
             -0.022544294595718384,
             -0.01457071304321289,
             -0.022990167140960693,
             -0.01613551378250122,
             0.12305134534835815,
             -0.0406566858291626,
             -0.03410723805427551,
             -0.020864278078079224,
             -0.032570213079452515,
             -0.016895383596420288,
             0.14136657118797302,
             -0.05078613758087158,
             -0.03787901997566223,
             -0.022208303213119507,
             -0.03222337365150452,
             -0.015348345041275024,
             0.12428015470504761,
             -0.06019362807273865,
             -0.04119196534156799,
             -0.024028509855270386,
             -0.035362690687179565,
             -0.014958977699279785,
             0.136225163936615,
             -0.07039898633956909,
             -0.04699438810348511,
             -0.025719046592712402,
             -0.03628295660018921,
             -0.013534873723983765,
             0.1272079050540924,
             -0.0852215588092804,
             -0.05436775088310242,
             -0.030734330415725708,
             -0.04216274619102478,
             -0.014957129955291748,
             0.13361775875091553,
             -0.09939533472061157,
             -0.062023818492889404,
             -0.039072394371032715,
             -0.049574077129364014,
             -0.011961519718170166,
             0.13328975439071655,
             -0.10074824094772339,
             -0.05721938610076904,
             -0.03759711980819702,
             -0.04334676265716553,
             -0.011796951293945312,
             0.15241193771362305,
             -0.11013394594192505,
             -0.06187397241592407,
             -0.044842302799224854,
             -0.04810220003128052,
             -0.01200789213180542,
             0.13277557492256165,
             -0.1191030740737915,
             -0.06512171030044556,
             -0.05008208751678467,
             -0.053096890449523926,
             -0.011697053909301758,
             0.1422446370124817,
             -0.11941242218017578,
             -0.06872880458831787,
             -0.05536186695098877,
             -0.057926833629608154,
             -0.009768962860107422,
             0.13835197687149048,
             -0.12084561586380005,
             -0.06634849309921265,
             -0.05914849042892456,
             -0.060640811920166016,
             -0.007727146148681641,
             0.14238253235816956,
             -0.12104672193527222,
             -0.07226693630218506,
             -0.06394332647323608,
             -0.06409776210784912,
             -0.000928342342376709,
             0.11138799786567688,
             -0.11399435997009277,
             -0.07171213626861572,
             -0.0601499080657959,
             -0.059009432792663574,
             0.0016421079635620117,
             0.09335750341415405,
             -0.11200511455535889,
             -0.07469278573989868,
             -0.06075692176818848,
             -0.057098388671875,
             0.004307150840759277,
             0.05018770694732666,
             -0.1025657057762146,
             -0.0700346827507019,
             -0.05756807327270508,
             -0.05282390117645264
            ],
            "colorscale": [
             [
              0,
              "rgb(49,54,149)"
             ],
             [
              0.1,
              "rgb(69,117,180)"
             ],
             [
              0.2,
              "rgb(116,173,209)"
             ],
             [
              0.3,
              "rgb(171,217,233)"
             ],
             [
              0.4,
              "rgb(224,243,248)"
             ],
             [
              0.5,
              "rgb(255,255,191)"
             ],
             [
              0.6,
              "rgb(254,224,144)"
             ],
             [
              0.7,
              "rgb(253,174,97)"
             ],
             [
              0.8,
              "rgb(244,109,67)"
             ],
             [
              0.9,
              "rgb(215,48,39)"
             ],
             [
              1,
              "rgb(165,0,38)"
             ]
            ],
            "showscale": false,
            "size": 10,
            "symbol": "circle"
           },
           "mode": "markers",
           "type": "scatter",
           "x": [
            72.56,
            72.58,
            74.93,
            73.01,
            72.81,
            73.13,
            72.52,
            72.58,
            74.92,
            73.01,
            72.8,
            73.09,
            72.45,
            72.56,
            74.91,
            72.99,
            72.79,
            73.05,
            72.35,
            72.53,
            74.9,
            72.96,
            72.75,
            72.98,
            72.21,
            72.49,
            74.88,
            72.89,
            72.71,
            72.9,
            72.04,
            72.42,
            74.86,
            72.8,
            72.63,
            72.79,
            71.86,
            72.34,
            74.84,
            72.66,
            72.55,
            72.64,
            71.64,
            72.25,
            74.82,
            72.51,
            72.43,
            72.46,
            71.43,
            72.12,
            74.79,
            72.31,
            72.3,
            72.24,
            71.2,
            71.96,
            74.76,
            72.09,
            72.16,
            72,
            70.97,
            71.8,
            74.72,
            71.87,
            72.03,
            71.75,
            70.77,
            71.62,
            74.68,
            71.62,
            71.9,
            71.49,
            70.56,
            71.44,
            74.63,
            71.34,
            71.78,
            71.23,
            70.36,
            71.26,
            74.57,
            71.02,
            71.66,
            70.97,
            70.16,
            71.08,
            74.51,
            70.68,
            71.55,
            70.73,
            69.96,
            70.91,
            74.44,
            70.34,
            71.46,
            70.5,
            69.75,
            70.74,
            74.37,
            69.98,
            71.37,
            70.28,
            69.58,
            70.58,
            74.28,
            69.61,
            71.28,
            70.07,
            69.39,
            70.42,
            74.19,
            69.24,
            71.17,
            69.89,
            69.21,
            70.26,
            74.07,
            68.87,
            71.09,
            69.72,
            69.03,
            70.11,
            73.94,
            68.51,
            71.01,
            69.57,
            68.84,
            69.95,
            73.79,
            68.15,
            70.95,
            69.44,
            68.63,
            69.8,
            73.62,
            67.81,
            70.89,
            69.32,
            68.42,
            69.64,
            73.42,
            67.45,
            70.84,
            69.23,
            68.21,
            69.48,
            73.18,
            67.09,
            70.8,
            69.16
           ],
           "y": [
            26.46,
            23.97,
            19.41,
            18.25,
            21.22,
            29.1,
            26.46,
            23.98,
            19.43,
            18.25,
            21.22,
            29.08,
            26.47,
            24.01,
            19.44,
            18.26,
            21.21,
            29.07,
            26.47,
            24.05,
            19.46,
            18.26,
            21.21,
            29.05,
            26.47,
            24.1,
            19.48,
            18.27,
            21.23,
            29.05,
            26.5,
            24.18,
            19.51,
            18.29,
            21.26,
            29.05,
            26.54,
            24.28,
            19.55,
            18.33,
            21.32,
            29.06,
            26.6,
            24.4,
            19.6,
            18.38,
            21.4,
            29.09,
            26.68,
            24.55,
            19.66,
            18.48,
            21.51,
            29.14,
            26.77,
            24.75,
            19.73,
            18.57,
            21.68,
            29.22,
            26.9,
            24.97,
            19.81,
            18.69,
            21.87,
            29.35,
            27.05,
            25.22,
            19.89,
            18.84,
            22.08,
            29.5,
            27.22,
            25.51,
            19.99,
            19.01,
            22.34,
            29.7,
            27.42,
            25.81,
            20.08,
            19.19,
            22.6,
            29.93,
            27.63,
            26.13,
            20.18,
            19.36,
            22.89,
            30.19,
            27.87,
            26.48,
            20.29,
            19.55,
            23.19,
            30.48,
            28.14,
            26.85,
            20.4,
            19.75,
            23.52,
            30.77,
            28.45,
            27.22,
            20.54,
            19.94,
            23.86,
            31.1,
            28.78,
            27.6,
            20.69,
            20.13,
            24.22,
            31.43,
            29.09,
            28,
            20.88,
            20.32,
            24.58,
            31.77,
            29.41,
            28.39,
            21.08,
            20.49,
            24.97,
            32.12,
            29.76,
            28.77,
            21.32,
            20.65,
            25.36,
            32.47,
            30.12,
            29.15,
            21.6,
            20.79,
            25.75,
            32.82,
            30.48,
            29.51,
            21.91,
            20.91,
            26.14,
            33.15,
            30.83,
            29.84,
            22.26,
            21.04,
            26.52,
            33.46
           ]
          },
          {
           "legendgroup": "Blockers",
           "marker": {
            "color": "black",
            "size": 20,
            "symbol": "x"
           },
           "mode": "markers",
           "name": "Blockers",
           "type": "scatter",
           "x": [
            68.33,
            68.06,
            69.55,
            66.88,
            68.02,
            68.26
           ],
           "y": [
            29.2,
            30.44,
            26.23,
            21.99,
            27.87,
            33.03
           ]
          },
          {
           "legendgroup": "QB",
           "marker": {
            "color": "black",
            "size": 20,
            "symbol": "diamond"
           },
           "mode": "markers",
           "name": "QB",
           "type": "scatter",
           "x": [
            63.3
           ],
           "y": [
            29.74
           ]
          },
          {
           "mode": "text",
           "text": [
            "QB Distruption Probability: 0.583"
           ],
           "textfont": {
            "color": "black",
            "size": 17
           },
           "type": "scatter",
           "x": [
            65.13
           ],
           "y": [
            35.53
           ]
          }
         ]
        },
        {
         "data": [
          {
           "legendgroup": "Rushers",
           "marker": {
            "cmax": 0.3,
            "cmin": -0.3,
            "color": [
             0.016039133071899414,
             0.0033921003341674805,
             -0.06489336490631104,
             -0.060552775859832764,
             -0.048808515071868896,
             -0.042836666107177734
            ],
            "colorscale": [
             [
              0,
              "rgb(49,54,149)"
             ],
             [
              0.1,
              "rgb(69,117,180)"
             ],
             [
              0.2,
              "rgb(116,173,209)"
             ],
             [
              0.3,
              "rgb(171,217,233)"
             ],
             [
              0.4,
              "rgb(224,243,248)"
             ],
             [
              0.5,
              "rgb(255,255,191)"
             ],
             [
              0.6,
              "rgb(254,224,144)"
             ],
             [
              0.7,
              "rgb(253,174,97)"
             ],
             [
              0.8,
              "rgb(244,109,67)"
             ],
             [
              0.9,
              "rgb(215,48,39)"
             ],
             [
              1,
              "rgb(165,0,38)"
             ]
            ],
            "showscale": false,
            "size": 20
           },
           "mode": "markers+text",
           "name": "Rushers",
           "text": [
            "Rusher Metric: 0.016",
            "Rusher Metric: 0.003",
            "Rusher Metric: -0.065",
            "Rusher Metric: -0.061",
            "Rusher Metric: -0.049",
            "Rusher Metric: -0.043"
           ],
           "textposition": "bottom center",
           "type": "scatter",
           "x": [
            67.69,
            69.14,
            72.61,
            66.41,
            70.71,
            69.11
           ],
           "y": [
            31.54,
            30.42,
            23,
            21.27,
            27.21,
            33.99
           ]
          },
          {
           "marker": {
            "cmax": 0.3,
            "cmin": -0.3,
            "color": [
             -0.0064088404178619385,
             -0.02574777603149414,
             -0.0029237866401672363,
             -0.0008718371391296387,
             -0.0017946958541870117,
             -0.0012657642364501953,
             -0.007595926523208618,
             -0.029318660497665405,
             0.0005917251110076904,
             -0.00516432523727417,
             -0.0022415518760681152,
             0.0004450678825378418,
             -0.006824404001235962,
             -0.03137955069541931,
             0.00007781386375427246,
             -0.007384747266769409,
             -0.004745900630950928,
             -0.00821387767791748,
             -0.007963716983795166,
             -0.029874056577682495,
             0.00019726157188415527,
             -0.010763883590698242,
             -0.004018336534500122,
             -0.011817753314971924,
             -0.0017058253288269043,
             -0.011593848466873169,
             0.000057131052017211914,
             -0.009065210819244385,
             -0.0047495365142822266,
             -0.011062651872634888,
             -0.007946580648422241,
             0.021355479955673218,
             -0.005540281534194946,
             -0.01551547646522522,
             -0.009910672903060913,
             -0.01639220118522644,
             -0.011359959840774536,
             0.04952174425125122,
             -0.006082445383071899,
             -0.011501550674438477,
             -0.010208964347839355,
             -0.014724671840667725,
             -0.011500775814056396,
             0.08198955655097961,
             -0.009909063577651978,
             -0.015194594860076904,
             -0.008880585432052612,
             -0.015957027673721313,
             -0.015709787607192993,
             0.08812889456748962,
             -0.01654374599456787,
             -0.012733310461044312,
             -0.012576043605804443,
             -0.019140541553497314,
             -0.015674471855163574,
             0.11937025189399719,
             -0.02548927068710327,
             -0.022544294595718384,
             -0.01457071304321289,
             -0.022990167140960693,
             -0.01613551378250122,
             0.12305134534835815,
             -0.0406566858291626,
             -0.03410723805427551,
             -0.020864278078079224,
             -0.032570213079452515,
             -0.016895383596420288,
             0.14136657118797302,
             -0.05078613758087158,
             -0.03787901997566223,
             -0.022208303213119507,
             -0.03222337365150452,
             -0.015348345041275024,
             0.12428015470504761,
             -0.06019362807273865,
             -0.04119196534156799,
             -0.024028509855270386,
             -0.035362690687179565,
             -0.014958977699279785,
             0.136225163936615,
             -0.07039898633956909,
             -0.04699438810348511,
             -0.025719046592712402,
             -0.03628295660018921,
             -0.013534873723983765,
             0.1272079050540924,
             -0.0852215588092804,
             -0.05436775088310242,
             -0.030734330415725708,
             -0.04216274619102478,
             -0.014957129955291748,
             0.13361775875091553,
             -0.09939533472061157,
             -0.062023818492889404,
             -0.039072394371032715,
             -0.049574077129364014,
             -0.011961519718170166,
             0.13328975439071655,
             -0.10074824094772339,
             -0.05721938610076904,
             -0.03759711980819702,
             -0.04334676265716553,
             -0.011796951293945312,
             0.15241193771362305,
             -0.11013394594192505,
             -0.06187397241592407,
             -0.044842302799224854,
             -0.04810220003128052,
             -0.01200789213180542,
             0.13277557492256165,
             -0.1191030740737915,
             -0.06512171030044556,
             -0.05008208751678467,
             -0.053096890449523926,
             -0.011697053909301758,
             0.1422446370124817,
             -0.11941242218017578,
             -0.06872880458831787,
             -0.05536186695098877,
             -0.057926833629608154,
             -0.009768962860107422,
             0.13835197687149048,
             -0.12084561586380005,
             -0.06634849309921265,
             -0.05914849042892456,
             -0.060640811920166016,
             -0.007727146148681641,
             0.14238253235816956,
             -0.12104672193527222,
             -0.07226693630218506,
             -0.06394332647323608,
             -0.06409776210784912,
             -0.000928342342376709,
             0.11138799786567688,
             -0.11399435997009277,
             -0.07171213626861572,
             -0.0601499080657959,
             -0.059009432792663574,
             0.0016421079635620117,
             0.09335750341415405,
             -0.11200511455535889,
             -0.07469278573989868,
             -0.06075692176818848,
             -0.057098388671875,
             0.004307150840759277,
             0.05018770694732666,
             -0.1025657057762146,
             -0.0700346827507019,
             -0.05756807327270508,
             -0.05282390117645264,
             0.008377432823181152,
             0.03029686212539673,
             -0.0884750485420227,
             -0.0654863715171814,
             -0.052137792110443115,
             -0.04737687110900879
            ],
            "colorscale": [
             [
              0,
              "rgb(49,54,149)"
             ],
             [
              0.1,
              "rgb(69,117,180)"
             ],
             [
              0.2,
              "rgb(116,173,209)"
             ],
             [
              0.3,
              "rgb(171,217,233)"
             ],
             [
              0.4,
              "rgb(224,243,248)"
             ],
             [
              0.5,
              "rgb(255,255,191)"
             ],
             [
              0.6,
              "rgb(254,224,144)"
             ],
             [
              0.7,
              "rgb(253,174,97)"
             ],
             [
              0.8,
              "rgb(244,109,67)"
             ],
             [
              0.9,
              "rgb(215,48,39)"
             ],
             [
              1,
              "rgb(165,0,38)"
             ]
            ],
            "showscale": false,
            "size": 10,
            "symbol": "circle"
           },
           "mode": "markers",
           "type": "scatter",
           "x": [
            72.56,
            72.58,
            74.93,
            73.01,
            72.81,
            73.13,
            72.52,
            72.58,
            74.92,
            73.01,
            72.8,
            73.09,
            72.45,
            72.56,
            74.91,
            72.99,
            72.79,
            73.05,
            72.35,
            72.53,
            74.9,
            72.96,
            72.75,
            72.98,
            72.21,
            72.49,
            74.88,
            72.89,
            72.71,
            72.9,
            72.04,
            72.42,
            74.86,
            72.8,
            72.63,
            72.79,
            71.86,
            72.34,
            74.84,
            72.66,
            72.55,
            72.64,
            71.64,
            72.25,
            74.82,
            72.51,
            72.43,
            72.46,
            71.43,
            72.12,
            74.79,
            72.31,
            72.3,
            72.24,
            71.2,
            71.96,
            74.76,
            72.09,
            72.16,
            72,
            70.97,
            71.8,
            74.72,
            71.87,
            72.03,
            71.75,
            70.77,
            71.62,
            74.68,
            71.62,
            71.9,
            71.49,
            70.56,
            71.44,
            74.63,
            71.34,
            71.78,
            71.23,
            70.36,
            71.26,
            74.57,
            71.02,
            71.66,
            70.97,
            70.16,
            71.08,
            74.51,
            70.68,
            71.55,
            70.73,
            69.96,
            70.91,
            74.44,
            70.34,
            71.46,
            70.5,
            69.75,
            70.74,
            74.37,
            69.98,
            71.37,
            70.28,
            69.58,
            70.58,
            74.28,
            69.61,
            71.28,
            70.07,
            69.39,
            70.42,
            74.19,
            69.24,
            71.17,
            69.89,
            69.21,
            70.26,
            74.07,
            68.87,
            71.09,
            69.72,
            69.03,
            70.11,
            73.94,
            68.51,
            71.01,
            69.57,
            68.84,
            69.95,
            73.79,
            68.15,
            70.95,
            69.44,
            68.63,
            69.8,
            73.62,
            67.81,
            70.89,
            69.32,
            68.42,
            69.64,
            73.42,
            67.45,
            70.84,
            69.23,
            68.21,
            69.48,
            73.18,
            67.09,
            70.8,
            69.16,
            67.96,
            69.32,
            72.91,
            66.75,
            70.75,
            69.13
           ],
           "y": [
            26.46,
            23.97,
            19.41,
            18.25,
            21.22,
            29.1,
            26.46,
            23.98,
            19.43,
            18.25,
            21.22,
            29.08,
            26.47,
            24.01,
            19.44,
            18.26,
            21.21,
            29.07,
            26.47,
            24.05,
            19.46,
            18.26,
            21.21,
            29.05,
            26.47,
            24.1,
            19.48,
            18.27,
            21.23,
            29.05,
            26.5,
            24.18,
            19.51,
            18.29,
            21.26,
            29.05,
            26.54,
            24.28,
            19.55,
            18.33,
            21.32,
            29.06,
            26.6,
            24.4,
            19.6,
            18.38,
            21.4,
            29.09,
            26.68,
            24.55,
            19.66,
            18.48,
            21.51,
            29.14,
            26.77,
            24.75,
            19.73,
            18.57,
            21.68,
            29.22,
            26.9,
            24.97,
            19.81,
            18.69,
            21.87,
            29.35,
            27.05,
            25.22,
            19.89,
            18.84,
            22.08,
            29.5,
            27.22,
            25.51,
            19.99,
            19.01,
            22.34,
            29.7,
            27.42,
            25.81,
            20.08,
            19.19,
            22.6,
            29.93,
            27.63,
            26.13,
            20.18,
            19.36,
            22.89,
            30.19,
            27.87,
            26.48,
            20.29,
            19.55,
            23.19,
            30.48,
            28.14,
            26.85,
            20.4,
            19.75,
            23.52,
            30.77,
            28.45,
            27.22,
            20.54,
            19.94,
            23.86,
            31.1,
            28.78,
            27.6,
            20.69,
            20.13,
            24.22,
            31.43,
            29.09,
            28,
            20.88,
            20.32,
            24.58,
            31.77,
            29.41,
            28.39,
            21.08,
            20.49,
            24.97,
            32.12,
            29.76,
            28.77,
            21.32,
            20.65,
            25.36,
            32.47,
            30.12,
            29.15,
            21.6,
            20.79,
            25.75,
            32.82,
            30.48,
            29.51,
            21.91,
            20.91,
            26.14,
            33.15,
            30.83,
            29.84,
            22.26,
            21.04,
            26.52,
            33.46,
            31.19,
            30.15,
            22.62,
            21.16,
            26.88,
            33.74
           ]
          },
          {
           "legendgroup": "Blockers",
           "marker": {
            "color": "black",
            "size": 20,
            "symbol": "x"
           },
           "mode": "markers",
           "name": "Blockers",
           "type": "scatter",
           "x": [
            68.18,
            67.92,
            69.42,
            66.62,
            67.88,
            68.19
           ],
           "y": [
            29.39,
            30.79,
            26.56,
            22.07,
            28.06,
            33.3
           ]
          },
          {
           "legendgroup": "QB",
           "marker": {
            "color": "black",
            "size": 20,
            "symbol": "diamond"
           },
           "mode": "markers",
           "name": "QB",
           "type": "scatter",
           "x": [
            63.23
           ],
           "y": [
            30.07
           ]
          },
          {
           "mode": "text",
           "text": [
            "QB Distruption Probability: 0.596"
           ],
           "textfont": {
            "color": "black",
            "size": 17
           },
           "type": "scatter",
           "x": [
            65.13
           ],
           "y": [
            35.53
           ]
          }
         ]
        },
        {
         "data": [
          {
           "legendgroup": "Rushers",
           "marker": {
            "cmax": 0.3,
            "cmin": -0.3,
            "color": [
             0.0244596004486084,
             -0.002818882465362549,
             -0.03391164541244507,
             -0.05186355113983154,
             -0.04498666524887085,
             -0.036239564418792725
            ],
            "colorscale": [
             [
              0,
              "rgb(49,54,149)"
             ],
             [
              0.1,
              "rgb(69,117,180)"
             ],
             [
              0.2,
              "rgb(116,173,209)"
             ],
             [
              0.3,
              "rgb(171,217,233)"
             ],
             [
              0.4,
              "rgb(224,243,248)"
             ],
             [
              0.5,
              "rgb(255,255,191)"
             ],
             [
              0.6,
              "rgb(254,224,144)"
             ],
             [
              0.7,
              "rgb(253,174,97)"
             ],
             [
              0.8,
              "rgb(244,109,67)"
             ],
             [
              0.9,
              "rgb(215,48,39)"
             ],
             [
              1,
              "rgb(165,0,38)"
             ]
            ],
            "showscale": false,
            "size": 20
           },
           "mode": "markers+text",
           "name": "Rushers",
           "text": [
            "Rusher Metric: 0.024",
            "Rusher Metric: -0.003",
            "Rusher Metric: -0.034",
            "Rusher Metric: -0.052",
            "Rusher Metric: -0.045",
            "Rusher Metric: -0.036"
           ],
           "textposition": "bottom center",
           "type": "scatter",
           "x": [
            67.4,
            68.96,
            72.26,
            66.07,
            70.69,
            69.12
           ],
           "y": [
            31.88,
            30.66,
            23.4,
            21.37,
            27.51,
            34.21
           ]
          },
          {
           "marker": {
            "cmax": 0.3,
            "cmin": -0.3,
            "color": [
             -0.0064088404178619385,
             -0.02574777603149414,
             -0.0029237866401672363,
             -0.0008718371391296387,
             -0.0017946958541870117,
             -0.0012657642364501953,
             -0.007595926523208618,
             -0.029318660497665405,
             0.0005917251110076904,
             -0.00516432523727417,
             -0.0022415518760681152,
             0.0004450678825378418,
             -0.006824404001235962,
             -0.03137955069541931,
             0.00007781386375427246,
             -0.007384747266769409,
             -0.004745900630950928,
             -0.00821387767791748,
             -0.007963716983795166,
             -0.029874056577682495,
             0.00019726157188415527,
             -0.010763883590698242,
             -0.004018336534500122,
             -0.011817753314971924,
             -0.0017058253288269043,
             -0.011593848466873169,
             0.000057131052017211914,
             -0.009065210819244385,
             -0.0047495365142822266,
             -0.011062651872634888,
             -0.007946580648422241,
             0.021355479955673218,
             -0.005540281534194946,
             -0.01551547646522522,
             -0.009910672903060913,
             -0.01639220118522644,
             -0.011359959840774536,
             0.04952174425125122,
             -0.006082445383071899,
             -0.011501550674438477,
             -0.010208964347839355,
             -0.014724671840667725,
             -0.011500775814056396,
             0.08198955655097961,
             -0.009909063577651978,
             -0.015194594860076904,
             -0.008880585432052612,
             -0.015957027673721313,
             -0.015709787607192993,
             0.08812889456748962,
             -0.01654374599456787,
             -0.012733310461044312,
             -0.012576043605804443,
             -0.019140541553497314,
             -0.015674471855163574,
             0.11937025189399719,
             -0.02548927068710327,
             -0.022544294595718384,
             -0.01457071304321289,
             -0.022990167140960693,
             -0.01613551378250122,
             0.12305134534835815,
             -0.0406566858291626,
             -0.03410723805427551,
             -0.020864278078079224,
             -0.032570213079452515,
             -0.016895383596420288,
             0.14136657118797302,
             -0.05078613758087158,
             -0.03787901997566223,
             -0.022208303213119507,
             -0.03222337365150452,
             -0.015348345041275024,
             0.12428015470504761,
             -0.06019362807273865,
             -0.04119196534156799,
             -0.024028509855270386,
             -0.035362690687179565,
             -0.014958977699279785,
             0.136225163936615,
             -0.07039898633956909,
             -0.04699438810348511,
             -0.025719046592712402,
             -0.03628295660018921,
             -0.013534873723983765,
             0.1272079050540924,
             -0.0852215588092804,
             -0.05436775088310242,
             -0.030734330415725708,
             -0.04216274619102478,
             -0.014957129955291748,
             0.13361775875091553,
             -0.09939533472061157,
             -0.062023818492889404,
             -0.039072394371032715,
             -0.049574077129364014,
             -0.011961519718170166,
             0.13328975439071655,
             -0.10074824094772339,
             -0.05721938610076904,
             -0.03759711980819702,
             -0.04334676265716553,
             -0.011796951293945312,
             0.15241193771362305,
             -0.11013394594192505,
             -0.06187397241592407,
             -0.044842302799224854,
             -0.04810220003128052,
             -0.01200789213180542,
             0.13277557492256165,
             -0.1191030740737915,
             -0.06512171030044556,
             -0.05008208751678467,
             -0.053096890449523926,
             -0.011697053909301758,
             0.1422446370124817,
             -0.11941242218017578,
             -0.06872880458831787,
             -0.05536186695098877,
             -0.057926833629608154,
             -0.009768962860107422,
             0.13835197687149048,
             -0.12084561586380005,
             -0.06634849309921265,
             -0.05914849042892456,
             -0.060640811920166016,
             -0.007727146148681641,
             0.14238253235816956,
             -0.12104672193527222,
             -0.07226693630218506,
             -0.06394332647323608,
             -0.06409776210784912,
             -0.000928342342376709,
             0.11138799786567688,
             -0.11399435997009277,
             -0.07171213626861572,
             -0.0601499080657959,
             -0.059009432792663574,
             0.0016421079635620117,
             0.09335750341415405,
             -0.11200511455535889,
             -0.07469278573989868,
             -0.06075692176818848,
             -0.057098388671875,
             0.004307150840759277,
             0.05018770694732666,
             -0.1025657057762146,
             -0.0700346827507019,
             -0.05756807327270508,
             -0.05282390117645264,
             0.008377432823181152,
             0.03029686212539673,
             -0.0884750485420227,
             -0.0654863715171814,
             -0.052137792110443115,
             -0.04737687110900879,
             0.016039133071899414,
             0.0033921003341674805,
             -0.06489336490631104,
             -0.060552775859832764,
             -0.048808515071868896,
             -0.042836666107177734
            ],
            "colorscale": [
             [
              0,
              "rgb(49,54,149)"
             ],
             [
              0.1,
              "rgb(69,117,180)"
             ],
             [
              0.2,
              "rgb(116,173,209)"
             ],
             [
              0.3,
              "rgb(171,217,233)"
             ],
             [
              0.4,
              "rgb(224,243,248)"
             ],
             [
              0.5,
              "rgb(255,255,191)"
             ],
             [
              0.6,
              "rgb(254,224,144)"
             ],
             [
              0.7,
              "rgb(253,174,97)"
             ],
             [
              0.8,
              "rgb(244,109,67)"
             ],
             [
              0.9,
              "rgb(215,48,39)"
             ],
             [
              1,
              "rgb(165,0,38)"
             ]
            ],
            "showscale": false,
            "size": 10,
            "symbol": "circle"
           },
           "mode": "markers",
           "type": "scatter",
           "x": [
            72.56,
            72.58,
            74.93,
            73.01,
            72.81,
            73.13,
            72.52,
            72.58,
            74.92,
            73.01,
            72.8,
            73.09,
            72.45,
            72.56,
            74.91,
            72.99,
            72.79,
            73.05,
            72.35,
            72.53,
            74.9,
            72.96,
            72.75,
            72.98,
            72.21,
            72.49,
            74.88,
            72.89,
            72.71,
            72.9,
            72.04,
            72.42,
            74.86,
            72.8,
            72.63,
            72.79,
            71.86,
            72.34,
            74.84,
            72.66,
            72.55,
            72.64,
            71.64,
            72.25,
            74.82,
            72.51,
            72.43,
            72.46,
            71.43,
            72.12,
            74.79,
            72.31,
            72.3,
            72.24,
            71.2,
            71.96,
            74.76,
            72.09,
            72.16,
            72,
            70.97,
            71.8,
            74.72,
            71.87,
            72.03,
            71.75,
            70.77,
            71.62,
            74.68,
            71.62,
            71.9,
            71.49,
            70.56,
            71.44,
            74.63,
            71.34,
            71.78,
            71.23,
            70.36,
            71.26,
            74.57,
            71.02,
            71.66,
            70.97,
            70.16,
            71.08,
            74.51,
            70.68,
            71.55,
            70.73,
            69.96,
            70.91,
            74.44,
            70.34,
            71.46,
            70.5,
            69.75,
            70.74,
            74.37,
            69.98,
            71.37,
            70.28,
            69.58,
            70.58,
            74.28,
            69.61,
            71.28,
            70.07,
            69.39,
            70.42,
            74.19,
            69.24,
            71.17,
            69.89,
            69.21,
            70.26,
            74.07,
            68.87,
            71.09,
            69.72,
            69.03,
            70.11,
            73.94,
            68.51,
            71.01,
            69.57,
            68.84,
            69.95,
            73.79,
            68.15,
            70.95,
            69.44,
            68.63,
            69.8,
            73.62,
            67.81,
            70.89,
            69.32,
            68.42,
            69.64,
            73.42,
            67.45,
            70.84,
            69.23,
            68.21,
            69.48,
            73.18,
            67.09,
            70.8,
            69.16,
            67.96,
            69.32,
            72.91,
            66.75,
            70.75,
            69.13,
            67.69,
            69.14,
            72.61,
            66.41,
            70.71,
            69.11
           ],
           "y": [
            26.46,
            23.97,
            19.41,
            18.25,
            21.22,
            29.1,
            26.46,
            23.98,
            19.43,
            18.25,
            21.22,
            29.08,
            26.47,
            24.01,
            19.44,
            18.26,
            21.21,
            29.07,
            26.47,
            24.05,
            19.46,
            18.26,
            21.21,
            29.05,
            26.47,
            24.1,
            19.48,
            18.27,
            21.23,
            29.05,
            26.5,
            24.18,
            19.51,
            18.29,
            21.26,
            29.05,
            26.54,
            24.28,
            19.55,
            18.33,
            21.32,
            29.06,
            26.6,
            24.4,
            19.6,
            18.38,
            21.4,
            29.09,
            26.68,
            24.55,
            19.66,
            18.48,
            21.51,
            29.14,
            26.77,
            24.75,
            19.73,
            18.57,
            21.68,
            29.22,
            26.9,
            24.97,
            19.81,
            18.69,
            21.87,
            29.35,
            27.05,
            25.22,
            19.89,
            18.84,
            22.08,
            29.5,
            27.22,
            25.51,
            19.99,
            19.01,
            22.34,
            29.7,
            27.42,
            25.81,
            20.08,
            19.19,
            22.6,
            29.93,
            27.63,
            26.13,
            20.18,
            19.36,
            22.89,
            30.19,
            27.87,
            26.48,
            20.29,
            19.55,
            23.19,
            30.48,
            28.14,
            26.85,
            20.4,
            19.75,
            23.52,
            30.77,
            28.45,
            27.22,
            20.54,
            19.94,
            23.86,
            31.1,
            28.78,
            27.6,
            20.69,
            20.13,
            24.22,
            31.43,
            29.09,
            28,
            20.88,
            20.32,
            24.58,
            31.77,
            29.41,
            28.39,
            21.08,
            20.49,
            24.97,
            32.12,
            29.76,
            28.77,
            21.32,
            20.65,
            25.36,
            32.47,
            30.12,
            29.15,
            21.6,
            20.79,
            25.75,
            32.82,
            30.48,
            29.51,
            21.91,
            20.91,
            26.14,
            33.15,
            30.83,
            29.84,
            22.26,
            21.04,
            26.52,
            33.46,
            31.19,
            30.15,
            22.62,
            21.16,
            26.88,
            33.74,
            31.54,
            30.42,
            23,
            21.27,
            27.21,
            33.99
           ]
          },
          {
           "legendgroup": "Blockers",
           "marker": {
            "color": "black",
            "size": 20,
            "symbol": "x"
           },
           "mode": "markers",
           "name": "Blockers",
           "type": "scatter",
           "x": [
            68.04,
            67.76,
            69.29,
            66.36,
            67.74,
            68.13
           ],
           "y": [
            29.57,
            31.15,
            26.87,
            22.14,
            28.25,
            33.55
           ]
          },
          {
           "legendgroup": "QB",
           "marker": {
            "color": "black",
            "size": 20,
            "symbol": "diamond"
           },
           "mode": "markers",
           "name": "QB",
           "type": "scatter",
           "x": [
            63.17
           ],
           "y": [
            30.36
           ]
          },
          {
           "mode": "text",
           "text": [
            "QB Distruption Probability: 0.611"
           ],
           "textfont": {
            "color": "black",
            "size": 17
           },
           "type": "scatter",
           "x": [
            65.13
           ],
           "y": [
            35.53
           ]
          }
         ]
        },
        {
         "data": [
          {
           "legendgroup": "Rushers",
           "marker": {
            "cmax": 0.3,
            "cmin": -0.3,
            "color": [
             0.03265118598937988,
             0.0032956600189208984,
             -0.0075397491455078125,
             -0.04162031412124634,
             -0.04009944200515747,
             -0.03197073936462402
            ],
            "colorscale": [
             [
              0,
              "rgb(49,54,149)"
             ],
             [
              0.1,
              "rgb(69,117,180)"
             ],
             [
              0.2,
              "rgb(116,173,209)"
             ],
             [
              0.3,
              "rgb(171,217,233)"
             ],
             [
              0.4,
              "rgb(224,243,248)"
             ],
             [
              0.5,
              "rgb(255,255,191)"
             ],
             [
              0.6,
              "rgb(254,224,144)"
             ],
             [
              0.7,
              "rgb(253,174,97)"
             ],
             [
              0.8,
              "rgb(244,109,67)"
             ],
             [
              0.9,
              "rgb(215,48,39)"
             ],
             [
              1,
              "rgb(165,0,38)"
             ]
            ],
            "showscale": false,
            "size": 20
           },
           "mode": "markers+text",
           "name": "Rushers",
           "text": [
            "Rusher Metric: 0.033",
            "Rusher Metric: 0.003",
            "Rusher Metric: -0.008",
            "Rusher Metric: -0.042",
            "Rusher Metric: -0.04",
            "Rusher Metric: -0.032"
           ],
           "textposition": "bottom center",
           "type": "scatter",
           "x": [
            67.09,
            68.76,
            71.87,
            65.73,
            70.66,
            69.15
           ],
           "y": [
            32.22,
            30.87,
            23.8,
            21.48,
            27.78,
            34.39
           ]
          },
          {
           "marker": {
            "cmax": 0.3,
            "cmin": -0.3,
            "color": [
             -0.0064088404178619385,
             -0.02574777603149414,
             -0.0029237866401672363,
             -0.0008718371391296387,
             -0.0017946958541870117,
             -0.0012657642364501953,
             -0.007595926523208618,
             -0.029318660497665405,
             0.0005917251110076904,
             -0.00516432523727417,
             -0.0022415518760681152,
             0.0004450678825378418,
             -0.006824404001235962,
             -0.03137955069541931,
             0.00007781386375427246,
             -0.007384747266769409,
             -0.004745900630950928,
             -0.00821387767791748,
             -0.007963716983795166,
             -0.029874056577682495,
             0.00019726157188415527,
             -0.010763883590698242,
             -0.004018336534500122,
             -0.011817753314971924,
             -0.0017058253288269043,
             -0.011593848466873169,
             0.000057131052017211914,
             -0.009065210819244385,
             -0.0047495365142822266,
             -0.011062651872634888,
             -0.007946580648422241,
             0.021355479955673218,
             -0.005540281534194946,
             -0.01551547646522522,
             -0.009910672903060913,
             -0.01639220118522644,
             -0.011359959840774536,
             0.04952174425125122,
             -0.006082445383071899,
             -0.011501550674438477,
             -0.010208964347839355,
             -0.014724671840667725,
             -0.011500775814056396,
             0.08198955655097961,
             -0.009909063577651978,
             -0.015194594860076904,
             -0.008880585432052612,
             -0.015957027673721313,
             -0.015709787607192993,
             0.08812889456748962,
             -0.01654374599456787,
             -0.012733310461044312,
             -0.012576043605804443,
             -0.019140541553497314,
             -0.015674471855163574,
             0.11937025189399719,
             -0.02548927068710327,
             -0.022544294595718384,
             -0.01457071304321289,
             -0.022990167140960693,
             -0.01613551378250122,
             0.12305134534835815,
             -0.0406566858291626,
             -0.03410723805427551,
             -0.020864278078079224,
             -0.032570213079452515,
             -0.016895383596420288,
             0.14136657118797302,
             -0.05078613758087158,
             -0.03787901997566223,
             -0.022208303213119507,
             -0.03222337365150452,
             -0.015348345041275024,
             0.12428015470504761,
             -0.06019362807273865,
             -0.04119196534156799,
             -0.024028509855270386,
             -0.035362690687179565,
             -0.014958977699279785,
             0.136225163936615,
             -0.07039898633956909,
             -0.04699438810348511,
             -0.025719046592712402,
             -0.03628295660018921,
             -0.013534873723983765,
             0.1272079050540924,
             -0.0852215588092804,
             -0.05436775088310242,
             -0.030734330415725708,
             -0.04216274619102478,
             -0.014957129955291748,
             0.13361775875091553,
             -0.09939533472061157,
             -0.062023818492889404,
             -0.039072394371032715,
             -0.049574077129364014,
             -0.011961519718170166,
             0.13328975439071655,
             -0.10074824094772339,
             -0.05721938610076904,
             -0.03759711980819702,
             -0.04334676265716553,
             -0.011796951293945312,
             0.15241193771362305,
             -0.11013394594192505,
             -0.06187397241592407,
             -0.044842302799224854,
             -0.04810220003128052,
             -0.01200789213180542,
             0.13277557492256165,
             -0.1191030740737915,
             -0.06512171030044556,
             -0.05008208751678467,
             -0.053096890449523926,
             -0.011697053909301758,
             0.1422446370124817,
             -0.11941242218017578,
             -0.06872880458831787,
             -0.05536186695098877,
             -0.057926833629608154,
             -0.009768962860107422,
             0.13835197687149048,
             -0.12084561586380005,
             -0.06634849309921265,
             -0.05914849042892456,
             -0.060640811920166016,
             -0.007727146148681641,
             0.14238253235816956,
             -0.12104672193527222,
             -0.07226693630218506,
             -0.06394332647323608,
             -0.06409776210784912,
             -0.000928342342376709,
             0.11138799786567688,
             -0.11399435997009277,
             -0.07171213626861572,
             -0.0601499080657959,
             -0.059009432792663574,
             0.0016421079635620117,
             0.09335750341415405,
             -0.11200511455535889,
             -0.07469278573989868,
             -0.06075692176818848,
             -0.057098388671875,
             0.004307150840759277,
             0.05018770694732666,
             -0.1025657057762146,
             -0.0700346827507019,
             -0.05756807327270508,
             -0.05282390117645264,
             0.008377432823181152,
             0.03029686212539673,
             -0.0884750485420227,
             -0.0654863715171814,
             -0.052137792110443115,
             -0.04737687110900879,
             0.016039133071899414,
             0.0033921003341674805,
             -0.06489336490631104,
             -0.060552775859832764,
             -0.048808515071868896,
             -0.042836666107177734,
             0.0244596004486084,
             -0.002818882465362549,
             -0.03391164541244507,
             -0.05186355113983154,
             -0.04498666524887085,
             -0.036239564418792725
            ],
            "colorscale": [
             [
              0,
              "rgb(49,54,149)"
             ],
             [
              0.1,
              "rgb(69,117,180)"
             ],
             [
              0.2,
              "rgb(116,173,209)"
             ],
             [
              0.3,
              "rgb(171,217,233)"
             ],
             [
              0.4,
              "rgb(224,243,248)"
             ],
             [
              0.5,
              "rgb(255,255,191)"
             ],
             [
              0.6,
              "rgb(254,224,144)"
             ],
             [
              0.7,
              "rgb(253,174,97)"
             ],
             [
              0.8,
              "rgb(244,109,67)"
             ],
             [
              0.9,
              "rgb(215,48,39)"
             ],
             [
              1,
              "rgb(165,0,38)"
             ]
            ],
            "showscale": false,
            "size": 10,
            "symbol": "circle"
           },
           "mode": "markers",
           "type": "scatter",
           "x": [
            72.56,
            72.58,
            74.93,
            73.01,
            72.81,
            73.13,
            72.52,
            72.58,
            74.92,
            73.01,
            72.8,
            73.09,
            72.45,
            72.56,
            74.91,
            72.99,
            72.79,
            73.05,
            72.35,
            72.53,
            74.9,
            72.96,
            72.75,
            72.98,
            72.21,
            72.49,
            74.88,
            72.89,
            72.71,
            72.9,
            72.04,
            72.42,
            74.86,
            72.8,
            72.63,
            72.79,
            71.86,
            72.34,
            74.84,
            72.66,
            72.55,
            72.64,
            71.64,
            72.25,
            74.82,
            72.51,
            72.43,
            72.46,
            71.43,
            72.12,
            74.79,
            72.31,
            72.3,
            72.24,
            71.2,
            71.96,
            74.76,
            72.09,
            72.16,
            72,
            70.97,
            71.8,
            74.72,
            71.87,
            72.03,
            71.75,
            70.77,
            71.62,
            74.68,
            71.62,
            71.9,
            71.49,
            70.56,
            71.44,
            74.63,
            71.34,
            71.78,
            71.23,
            70.36,
            71.26,
            74.57,
            71.02,
            71.66,
            70.97,
            70.16,
            71.08,
            74.51,
            70.68,
            71.55,
            70.73,
            69.96,
            70.91,
            74.44,
            70.34,
            71.46,
            70.5,
            69.75,
            70.74,
            74.37,
            69.98,
            71.37,
            70.28,
            69.58,
            70.58,
            74.28,
            69.61,
            71.28,
            70.07,
            69.39,
            70.42,
            74.19,
            69.24,
            71.17,
            69.89,
            69.21,
            70.26,
            74.07,
            68.87,
            71.09,
            69.72,
            69.03,
            70.11,
            73.94,
            68.51,
            71.01,
            69.57,
            68.84,
            69.95,
            73.79,
            68.15,
            70.95,
            69.44,
            68.63,
            69.8,
            73.62,
            67.81,
            70.89,
            69.32,
            68.42,
            69.64,
            73.42,
            67.45,
            70.84,
            69.23,
            68.21,
            69.48,
            73.18,
            67.09,
            70.8,
            69.16,
            67.96,
            69.32,
            72.91,
            66.75,
            70.75,
            69.13,
            67.69,
            69.14,
            72.61,
            66.41,
            70.71,
            69.11,
            67.4,
            68.96,
            72.26,
            66.07,
            70.69,
            69.12
           ],
           "y": [
            26.46,
            23.97,
            19.41,
            18.25,
            21.22,
            29.1,
            26.46,
            23.98,
            19.43,
            18.25,
            21.22,
            29.08,
            26.47,
            24.01,
            19.44,
            18.26,
            21.21,
            29.07,
            26.47,
            24.05,
            19.46,
            18.26,
            21.21,
            29.05,
            26.47,
            24.1,
            19.48,
            18.27,
            21.23,
            29.05,
            26.5,
            24.18,
            19.51,
            18.29,
            21.26,
            29.05,
            26.54,
            24.28,
            19.55,
            18.33,
            21.32,
            29.06,
            26.6,
            24.4,
            19.6,
            18.38,
            21.4,
            29.09,
            26.68,
            24.55,
            19.66,
            18.48,
            21.51,
            29.14,
            26.77,
            24.75,
            19.73,
            18.57,
            21.68,
            29.22,
            26.9,
            24.97,
            19.81,
            18.69,
            21.87,
            29.35,
            27.05,
            25.22,
            19.89,
            18.84,
            22.08,
            29.5,
            27.22,
            25.51,
            19.99,
            19.01,
            22.34,
            29.7,
            27.42,
            25.81,
            20.08,
            19.19,
            22.6,
            29.93,
            27.63,
            26.13,
            20.18,
            19.36,
            22.89,
            30.19,
            27.87,
            26.48,
            20.29,
            19.55,
            23.19,
            30.48,
            28.14,
            26.85,
            20.4,
            19.75,
            23.52,
            30.77,
            28.45,
            27.22,
            20.54,
            19.94,
            23.86,
            31.1,
            28.78,
            27.6,
            20.69,
            20.13,
            24.22,
            31.43,
            29.09,
            28,
            20.88,
            20.32,
            24.58,
            31.77,
            29.41,
            28.39,
            21.08,
            20.49,
            24.97,
            32.12,
            29.76,
            28.77,
            21.32,
            20.65,
            25.36,
            32.47,
            30.12,
            29.15,
            21.6,
            20.79,
            25.75,
            32.82,
            30.48,
            29.51,
            21.91,
            20.91,
            26.14,
            33.15,
            30.83,
            29.84,
            22.26,
            21.04,
            26.52,
            33.46,
            31.19,
            30.15,
            22.62,
            21.16,
            26.88,
            33.74,
            31.54,
            30.42,
            23,
            21.27,
            27.21,
            33.99,
            31.88,
            30.66,
            23.4,
            21.37,
            27.51,
            34.21
           ]
          },
          {
           "legendgroup": "Blockers",
           "marker": {
            "color": "black",
            "size": 20,
            "symbol": "x"
           },
           "mode": "markers",
           "name": "Blockers",
           "type": "scatter",
           "x": [
            67.89,
            67.59,
            69.17,
            66.1,
            67.62,
            68.09
           ],
           "y": [
            29.75,
            31.51,
            27.16,
            22.21,
            28.42,
            33.77
           ]
          },
          {
           "legendgroup": "QB",
           "marker": {
            "color": "black",
            "size": 20,
            "symbol": "diamond"
           },
           "mode": "markers",
           "name": "QB",
           "type": "scatter",
           "x": [
            63.14
           ],
           "y": [
            30.59
           ]
          },
          {
           "mode": "text",
           "text": [
            "QB Distruption Probability: 0.627"
           ],
           "textfont": {
            "color": "black",
            "size": 17
           },
           "type": "scatter",
           "x": [
            65.13
           ],
           "y": [
            35.53
           ]
          }
         ]
        },
        {
         "data": [
          {
           "legendgroup": "Rushers",
           "marker": {
            "cmax": 0.3,
            "cmin": -0.3,
            "color": [
             0.043491244316101074,
             0.01069718599319458,
             0.015751779079437256,
             -0.03543645143508911,
             -0.036480486392974854,
             -0.03243863582611084
            ],
            "colorscale": [
             [
              0,
              "rgb(49,54,149)"
             ],
             [
              0.1,
              "rgb(69,117,180)"
             ],
             [
              0.2,
              "rgb(116,173,209)"
             ],
             [
              0.3,
              "rgb(171,217,233)"
             ],
             [
              0.4,
              "rgb(224,243,248)"
             ],
             [
              0.5,
              "rgb(255,255,191)"
             ],
             [
              0.6,
              "rgb(254,224,144)"
             ],
             [
              0.7,
              "rgb(253,174,97)"
             ],
             [
              0.8,
              "rgb(244,109,67)"
             ],
             [
              0.9,
              "rgb(215,48,39)"
             ],
             [
              1,
              "rgb(165,0,38)"
             ]
            ],
            "showscale": false,
            "size": 20
           },
           "mode": "markers+text",
           "name": "Rushers",
           "text": [
            "Rusher Metric: 0.043",
            "Rusher Metric: 0.011",
            "Rusher Metric: 0.016",
            "Rusher Metric: -0.035",
            "Rusher Metric: -0.036",
            "Rusher Metric: -0.032"
           ],
           "textposition": "bottom center",
           "type": "scatter",
           "x": [
            66.76,
            68.54,
            71.44,
            65.37,
            70.63,
            69.18
           ],
           "y": [
            32.52,
            31.05,
            24.21,
            21.62,
            28.01,
            34.53
           ]
          },
          {
           "marker": {
            "cmax": 0.3,
            "cmin": -0.3,
            "color": [
             -0.0064088404178619385,
             -0.02574777603149414,
             -0.0029237866401672363,
             -0.0008718371391296387,
             -0.0017946958541870117,
             -0.0012657642364501953,
             -0.007595926523208618,
             -0.029318660497665405,
             0.0005917251110076904,
             -0.00516432523727417,
             -0.0022415518760681152,
             0.0004450678825378418,
             -0.006824404001235962,
             -0.03137955069541931,
             0.00007781386375427246,
             -0.007384747266769409,
             -0.004745900630950928,
             -0.00821387767791748,
             -0.007963716983795166,
             -0.029874056577682495,
             0.00019726157188415527,
             -0.010763883590698242,
             -0.004018336534500122,
             -0.011817753314971924,
             -0.0017058253288269043,
             -0.011593848466873169,
             0.000057131052017211914,
             -0.009065210819244385,
             -0.0047495365142822266,
             -0.011062651872634888,
             -0.007946580648422241,
             0.021355479955673218,
             -0.005540281534194946,
             -0.01551547646522522,
             -0.009910672903060913,
             -0.01639220118522644,
             -0.011359959840774536,
             0.04952174425125122,
             -0.006082445383071899,
             -0.011501550674438477,
             -0.010208964347839355,
             -0.014724671840667725,
             -0.011500775814056396,
             0.08198955655097961,
             -0.009909063577651978,
             -0.015194594860076904,
             -0.008880585432052612,
             -0.015957027673721313,
             -0.015709787607192993,
             0.08812889456748962,
             -0.01654374599456787,
             -0.012733310461044312,
             -0.012576043605804443,
             -0.019140541553497314,
             -0.015674471855163574,
             0.11937025189399719,
             -0.02548927068710327,
             -0.022544294595718384,
             -0.01457071304321289,
             -0.022990167140960693,
             -0.01613551378250122,
             0.12305134534835815,
             -0.0406566858291626,
             -0.03410723805427551,
             -0.020864278078079224,
             -0.032570213079452515,
             -0.016895383596420288,
             0.14136657118797302,
             -0.05078613758087158,
             -0.03787901997566223,
             -0.022208303213119507,
             -0.03222337365150452,
             -0.015348345041275024,
             0.12428015470504761,
             -0.06019362807273865,
             -0.04119196534156799,
             -0.024028509855270386,
             -0.035362690687179565,
             -0.014958977699279785,
             0.136225163936615,
             -0.07039898633956909,
             -0.04699438810348511,
             -0.025719046592712402,
             -0.03628295660018921,
             -0.013534873723983765,
             0.1272079050540924,
             -0.0852215588092804,
             -0.05436775088310242,
             -0.030734330415725708,
             -0.04216274619102478,
             -0.014957129955291748,
             0.13361775875091553,
             -0.09939533472061157,
             -0.062023818492889404,
             -0.039072394371032715,
             -0.049574077129364014,
             -0.011961519718170166,
             0.13328975439071655,
             -0.10074824094772339,
             -0.05721938610076904,
             -0.03759711980819702,
             -0.04334676265716553,
             -0.011796951293945312,
             0.15241193771362305,
             -0.11013394594192505,
             -0.06187397241592407,
             -0.044842302799224854,
             -0.04810220003128052,
             -0.01200789213180542,
             0.13277557492256165,
             -0.1191030740737915,
             -0.06512171030044556,
             -0.05008208751678467,
             -0.053096890449523926,
             -0.011697053909301758,
             0.1422446370124817,
             -0.11941242218017578,
             -0.06872880458831787,
             -0.05536186695098877,
             -0.057926833629608154,
             -0.009768962860107422,
             0.13835197687149048,
             -0.12084561586380005,
             -0.06634849309921265,
             -0.05914849042892456,
             -0.060640811920166016,
             -0.007727146148681641,
             0.14238253235816956,
             -0.12104672193527222,
             -0.07226693630218506,
             -0.06394332647323608,
             -0.06409776210784912,
             -0.000928342342376709,
             0.11138799786567688,
             -0.11399435997009277,
             -0.07171213626861572,
             -0.0601499080657959,
             -0.059009432792663574,
             0.0016421079635620117,
             0.09335750341415405,
             -0.11200511455535889,
             -0.07469278573989868,
             -0.06075692176818848,
             -0.057098388671875,
             0.004307150840759277,
             0.05018770694732666,
             -0.1025657057762146,
             -0.0700346827507019,
             -0.05756807327270508,
             -0.05282390117645264,
             0.008377432823181152,
             0.03029686212539673,
             -0.0884750485420227,
             -0.0654863715171814,
             -0.052137792110443115,
             -0.04737687110900879,
             0.016039133071899414,
             0.0033921003341674805,
             -0.06489336490631104,
             -0.060552775859832764,
             -0.048808515071868896,
             -0.042836666107177734,
             0.0244596004486084,
             -0.002818882465362549,
             -0.03391164541244507,
             -0.05186355113983154,
             -0.04498666524887085,
             -0.036239564418792725,
             0.03265118598937988,
             0.0032956600189208984,
             -0.0075397491455078125,
             -0.04162031412124634,
             -0.04009944200515747,
             -0.03197073936462402
            ],
            "colorscale": [
             [
              0,
              "rgb(49,54,149)"
             ],
             [
              0.1,
              "rgb(69,117,180)"
             ],
             [
              0.2,
              "rgb(116,173,209)"
             ],
             [
              0.3,
              "rgb(171,217,233)"
             ],
             [
              0.4,
              "rgb(224,243,248)"
             ],
             [
              0.5,
              "rgb(255,255,191)"
             ],
             [
              0.6,
              "rgb(254,224,144)"
             ],
             [
              0.7,
              "rgb(253,174,97)"
             ],
             [
              0.8,
              "rgb(244,109,67)"
             ],
             [
              0.9,
              "rgb(215,48,39)"
             ],
             [
              1,
              "rgb(165,0,38)"
             ]
            ],
            "showscale": false,
            "size": 10,
            "symbol": "circle"
           },
           "mode": "markers",
           "type": "scatter",
           "x": [
            72.56,
            72.58,
            74.93,
            73.01,
            72.81,
            73.13,
            72.52,
            72.58,
            74.92,
            73.01,
            72.8,
            73.09,
            72.45,
            72.56,
            74.91,
            72.99,
            72.79,
            73.05,
            72.35,
            72.53,
            74.9,
            72.96,
            72.75,
            72.98,
            72.21,
            72.49,
            74.88,
            72.89,
            72.71,
            72.9,
            72.04,
            72.42,
            74.86,
            72.8,
            72.63,
            72.79,
            71.86,
            72.34,
            74.84,
            72.66,
            72.55,
            72.64,
            71.64,
            72.25,
            74.82,
            72.51,
            72.43,
            72.46,
            71.43,
            72.12,
            74.79,
            72.31,
            72.3,
            72.24,
            71.2,
            71.96,
            74.76,
            72.09,
            72.16,
            72,
            70.97,
            71.8,
            74.72,
            71.87,
            72.03,
            71.75,
            70.77,
            71.62,
            74.68,
            71.62,
            71.9,
            71.49,
            70.56,
            71.44,
            74.63,
            71.34,
            71.78,
            71.23,
            70.36,
            71.26,
            74.57,
            71.02,
            71.66,
            70.97,
            70.16,
            71.08,
            74.51,
            70.68,
            71.55,
            70.73,
            69.96,
            70.91,
            74.44,
            70.34,
            71.46,
            70.5,
            69.75,
            70.74,
            74.37,
            69.98,
            71.37,
            70.28,
            69.58,
            70.58,
            74.28,
            69.61,
            71.28,
            70.07,
            69.39,
            70.42,
            74.19,
            69.24,
            71.17,
            69.89,
            69.21,
            70.26,
            74.07,
            68.87,
            71.09,
            69.72,
            69.03,
            70.11,
            73.94,
            68.51,
            71.01,
            69.57,
            68.84,
            69.95,
            73.79,
            68.15,
            70.95,
            69.44,
            68.63,
            69.8,
            73.62,
            67.81,
            70.89,
            69.32,
            68.42,
            69.64,
            73.42,
            67.45,
            70.84,
            69.23,
            68.21,
            69.48,
            73.18,
            67.09,
            70.8,
            69.16,
            67.96,
            69.32,
            72.91,
            66.75,
            70.75,
            69.13,
            67.69,
            69.14,
            72.61,
            66.41,
            70.71,
            69.11,
            67.4,
            68.96,
            72.26,
            66.07,
            70.69,
            69.12,
            67.09,
            68.76,
            71.87,
            65.73,
            70.66,
            69.15
           ],
           "y": [
            26.46,
            23.97,
            19.41,
            18.25,
            21.22,
            29.1,
            26.46,
            23.98,
            19.43,
            18.25,
            21.22,
            29.08,
            26.47,
            24.01,
            19.44,
            18.26,
            21.21,
            29.07,
            26.47,
            24.05,
            19.46,
            18.26,
            21.21,
            29.05,
            26.47,
            24.1,
            19.48,
            18.27,
            21.23,
            29.05,
            26.5,
            24.18,
            19.51,
            18.29,
            21.26,
            29.05,
            26.54,
            24.28,
            19.55,
            18.33,
            21.32,
            29.06,
            26.6,
            24.4,
            19.6,
            18.38,
            21.4,
            29.09,
            26.68,
            24.55,
            19.66,
            18.48,
            21.51,
            29.14,
            26.77,
            24.75,
            19.73,
            18.57,
            21.68,
            29.22,
            26.9,
            24.97,
            19.81,
            18.69,
            21.87,
            29.35,
            27.05,
            25.22,
            19.89,
            18.84,
            22.08,
            29.5,
            27.22,
            25.51,
            19.99,
            19.01,
            22.34,
            29.7,
            27.42,
            25.81,
            20.08,
            19.19,
            22.6,
            29.93,
            27.63,
            26.13,
            20.18,
            19.36,
            22.89,
            30.19,
            27.87,
            26.48,
            20.29,
            19.55,
            23.19,
            30.48,
            28.14,
            26.85,
            20.4,
            19.75,
            23.52,
            30.77,
            28.45,
            27.22,
            20.54,
            19.94,
            23.86,
            31.1,
            28.78,
            27.6,
            20.69,
            20.13,
            24.22,
            31.43,
            29.09,
            28,
            20.88,
            20.32,
            24.58,
            31.77,
            29.41,
            28.39,
            21.08,
            20.49,
            24.97,
            32.12,
            29.76,
            28.77,
            21.32,
            20.65,
            25.36,
            32.47,
            30.12,
            29.15,
            21.6,
            20.79,
            25.75,
            32.82,
            30.48,
            29.51,
            21.91,
            20.91,
            26.14,
            33.15,
            30.83,
            29.84,
            22.26,
            21.04,
            26.52,
            33.46,
            31.19,
            30.15,
            22.62,
            21.16,
            26.88,
            33.74,
            31.54,
            30.42,
            23,
            21.27,
            27.21,
            33.99,
            31.88,
            30.66,
            23.4,
            21.37,
            27.51,
            34.21,
            32.22,
            30.87,
            23.8,
            21.48,
            27.78,
            34.39
           ]
          },
          {
           "legendgroup": "Blockers",
           "marker": {
            "color": "black",
            "size": 20,
            "symbol": "x"
           },
           "mode": "markers",
           "name": "Blockers",
           "type": "scatter",
           "x": [
            67.73,
            67.41,
            69.05,
            65.84,
            67.51,
            68.07
           ],
           "y": [
            29.92,
            31.86,
            27.42,
            22.26,
            28.58,
            33.95
           ]
          },
          {
           "legendgroup": "QB",
           "marker": {
            "color": "black",
            "size": 20,
            "symbol": "diamond"
           },
           "mode": "markers",
           "name": "QB",
           "type": "scatter",
           "x": [
            63.13
           ],
           "y": [
            30.78
           ]
          },
          {
           "mode": "text",
           "text": [
            "QB Distruption Probability: 0.643"
           ],
           "textfont": {
            "color": "black",
            "size": 17
           },
           "type": "scatter",
           "x": [
            65.13
           ],
           "y": [
            35.53
           ]
          }
         ]
        }
       ],
       "layout": {
        "autosize": false,
        "height": 600,
        "legend": {
         "orientation": "h"
        },
        "plot_bgcolor": "green",
        "template": {
         "data": {
          "bar": [
           {
            "error_x": {
             "color": "#2a3f5f"
            },
            "error_y": {
             "color": "#2a3f5f"
            },
            "marker": {
             "line": {
              "color": "#E5ECF6",
              "width": 0.5
             },
             "pattern": {
              "fillmode": "overlay",
              "size": 10,
              "solidity": 0.2
             }
            },
            "type": "bar"
           }
          ],
          "barpolar": [
           {
            "marker": {
             "line": {
              "color": "#E5ECF6",
              "width": 0.5
             },
             "pattern": {
              "fillmode": "overlay",
              "size": 10,
              "solidity": 0.2
             }
            },
            "type": "barpolar"
           }
          ],
          "carpet": [
           {
            "aaxis": {
             "endlinecolor": "#2a3f5f",
             "gridcolor": "white",
             "linecolor": "white",
             "minorgridcolor": "white",
             "startlinecolor": "#2a3f5f"
            },
            "baxis": {
             "endlinecolor": "#2a3f5f",
             "gridcolor": "white",
             "linecolor": "white",
             "minorgridcolor": "white",
             "startlinecolor": "#2a3f5f"
            },
            "type": "carpet"
           }
          ],
          "choropleth": [
           {
            "colorbar": {
             "outlinewidth": 0,
             "ticks": ""
            },
            "type": "choropleth"
           }
          ],
          "contour": [
           {
            "colorbar": {
             "outlinewidth": 0,
             "ticks": ""
            },
            "colorscale": [
             [
              0,
              "#0d0887"
             ],
             [
              0.1111111111111111,
              "#46039f"
             ],
             [
              0.2222222222222222,
              "#7201a8"
             ],
             [
              0.3333333333333333,
              "#9c179e"
             ],
             [
              0.4444444444444444,
              "#bd3786"
             ],
             [
              0.5555555555555556,
              "#d8576b"
             ],
             [
              0.6666666666666666,
              "#ed7953"
             ],
             [
              0.7777777777777778,
              "#fb9f3a"
             ],
             [
              0.8888888888888888,
              "#fdca26"
             ],
             [
              1,
              "#f0f921"
             ]
            ],
            "type": "contour"
           }
          ],
          "contourcarpet": [
           {
            "colorbar": {
             "outlinewidth": 0,
             "ticks": ""
            },
            "type": "contourcarpet"
           }
          ],
          "heatmap": [
           {
            "colorbar": {
             "outlinewidth": 0,
             "ticks": ""
            },
            "colorscale": [
             [
              0,
              "#0d0887"
             ],
             [
              0.1111111111111111,
              "#46039f"
             ],
             [
              0.2222222222222222,
              "#7201a8"
             ],
             [
              0.3333333333333333,
              "#9c179e"
             ],
             [
              0.4444444444444444,
              "#bd3786"
             ],
             [
              0.5555555555555556,
              "#d8576b"
             ],
             [
              0.6666666666666666,
              "#ed7953"
             ],
             [
              0.7777777777777778,
              "#fb9f3a"
             ],
             [
              0.8888888888888888,
              "#fdca26"
             ],
             [
              1,
              "#f0f921"
             ]
            ],
            "type": "heatmap"
           }
          ],
          "heatmapgl": [
           {
            "colorbar": {
             "outlinewidth": 0,
             "ticks": ""
            },
            "colorscale": [
             [
              0,
              "#0d0887"
             ],
             [
              0.1111111111111111,
              "#46039f"
             ],
             [
              0.2222222222222222,
              "#7201a8"
             ],
             [
              0.3333333333333333,
              "#9c179e"
             ],
             [
              0.4444444444444444,
              "#bd3786"
             ],
             [
              0.5555555555555556,
              "#d8576b"
             ],
             [
              0.6666666666666666,
              "#ed7953"
             ],
             [
              0.7777777777777778,
              "#fb9f3a"
             ],
             [
              0.8888888888888888,
              "#fdca26"
             ],
             [
              1,
              "#f0f921"
             ]
            ],
            "type": "heatmapgl"
           }
          ],
          "histogram": [
           {
            "marker": {
             "pattern": {
              "fillmode": "overlay",
              "size": 10,
              "solidity": 0.2
             }
            },
            "type": "histogram"
           }
          ],
          "histogram2d": [
           {
            "colorbar": {
             "outlinewidth": 0,
             "ticks": ""
            },
            "colorscale": [
             [
              0,
              "#0d0887"
             ],
             [
              0.1111111111111111,
              "#46039f"
             ],
             [
              0.2222222222222222,
              "#7201a8"
             ],
             [
              0.3333333333333333,
              "#9c179e"
             ],
             [
              0.4444444444444444,
              "#bd3786"
             ],
             [
              0.5555555555555556,
              "#d8576b"
             ],
             [
              0.6666666666666666,
              "#ed7953"
             ],
             [
              0.7777777777777778,
              "#fb9f3a"
             ],
             [
              0.8888888888888888,
              "#fdca26"
             ],
             [
              1,
              "#f0f921"
             ]
            ],
            "type": "histogram2d"
           }
          ],
          "histogram2dcontour": [
           {
            "colorbar": {
             "outlinewidth": 0,
             "ticks": ""
            },
            "colorscale": [
             [
              0,
              "#0d0887"
             ],
             [
              0.1111111111111111,
              "#46039f"
             ],
             [
              0.2222222222222222,
              "#7201a8"
             ],
             [
              0.3333333333333333,
              "#9c179e"
             ],
             [
              0.4444444444444444,
              "#bd3786"
             ],
             [
              0.5555555555555556,
              "#d8576b"
             ],
             [
              0.6666666666666666,
              "#ed7953"
             ],
             [
              0.7777777777777778,
              "#fb9f3a"
             ],
             [
              0.8888888888888888,
              "#fdca26"
             ],
             [
              1,
              "#f0f921"
             ]
            ],
            "type": "histogram2dcontour"
           }
          ],
          "mesh3d": [
           {
            "colorbar": {
             "outlinewidth": 0,
             "ticks": ""
            },
            "type": "mesh3d"
           }
          ],
          "parcoords": [
           {
            "line": {
             "colorbar": {
              "outlinewidth": 0,
              "ticks": ""
             }
            },
            "type": "parcoords"
           }
          ],
          "pie": [
           {
            "automargin": true,
            "type": "pie"
           }
          ],
          "scatter": [
           {
            "fillpattern": {
             "fillmode": "overlay",
             "size": 10,
             "solidity": 0.2
            },
            "type": "scatter"
           }
          ],
          "scatter3d": [
           {
            "line": {
             "colorbar": {
              "outlinewidth": 0,
              "ticks": ""
             }
            },
            "marker": {
             "colorbar": {
              "outlinewidth": 0,
              "ticks": ""
             }
            },
            "type": "scatter3d"
           }
          ],
          "scattercarpet": [
           {
            "marker": {
             "colorbar": {
              "outlinewidth": 0,
              "ticks": ""
             }
            },
            "type": "scattercarpet"
           }
          ],
          "scattergeo": [
           {
            "marker": {
             "colorbar": {
              "outlinewidth": 0,
              "ticks": ""
             }
            },
            "type": "scattergeo"
           }
          ],
          "scattergl": [
           {
            "marker": {
             "colorbar": {
              "outlinewidth": 0,
              "ticks": ""
             }
            },
            "type": "scattergl"
           }
          ],
          "scattermapbox": [
           {
            "marker": {
             "colorbar": {
              "outlinewidth": 0,
              "ticks": ""
             }
            },
            "type": "scattermapbox"
           }
          ],
          "scatterpolar": [
           {
            "marker": {
             "colorbar": {
              "outlinewidth": 0,
              "ticks": ""
             }
            },
            "type": "scatterpolar"
           }
          ],
          "scatterpolargl": [
           {
            "marker": {
             "colorbar": {
              "outlinewidth": 0,
              "ticks": ""
             }
            },
            "type": "scatterpolargl"
           }
          ],
          "scatterternary": [
           {
            "marker": {
             "colorbar": {
              "outlinewidth": 0,
              "ticks": ""
             }
            },
            "type": "scatterternary"
           }
          ],
          "surface": [
           {
            "colorbar": {
             "outlinewidth": 0,
             "ticks": ""
            },
            "colorscale": [
             [
              0,
              "#0d0887"
             ],
             [
              0.1111111111111111,
              "#46039f"
             ],
             [
              0.2222222222222222,
              "#7201a8"
             ],
             [
              0.3333333333333333,
              "#9c179e"
             ],
             [
              0.4444444444444444,
              "#bd3786"
             ],
             [
              0.5555555555555556,
              "#d8576b"
             ],
             [
              0.6666666666666666,
              "#ed7953"
             ],
             [
              0.7777777777777778,
              "#fb9f3a"
             ],
             [
              0.8888888888888888,
              "#fdca26"
             ],
             [
              1,
              "#f0f921"
             ]
            ],
            "type": "surface"
           }
          ],
          "table": [
           {
            "cells": {
             "fill": {
              "color": "#EBF0F8"
             },
             "line": {
              "color": "white"
             }
            },
            "header": {
             "fill": {
              "color": "#C8D4E3"
             },
             "line": {
              "color": "white"
             }
            },
            "type": "table"
           }
          ]
         },
         "layout": {
          "annotationdefaults": {
           "arrowcolor": "#2a3f5f",
           "arrowhead": 0,
           "arrowwidth": 1
          },
          "autotypenumbers": "strict",
          "coloraxis": {
           "colorbar": {
            "outlinewidth": 0,
            "ticks": ""
           }
          },
          "colorscale": {
           "diverging": [
            [
             0,
             "#8e0152"
            ],
            [
             0.1,
             "#c51b7d"
            ],
            [
             0.2,
             "#de77ae"
            ],
            [
             0.3,
             "#f1b6da"
            ],
            [
             0.4,
             "#fde0ef"
            ],
            [
             0.5,
             "#f7f7f7"
            ],
            [
             0.6,
             "#e6f5d0"
            ],
            [
             0.7,
             "#b8e186"
            ],
            [
             0.8,
             "#7fbc41"
            ],
            [
             0.9,
             "#4d9221"
            ],
            [
             1,
             "#276419"
            ]
           ],
           "sequential": [
            [
             0,
             "#0d0887"
            ],
            [
             0.1111111111111111,
             "#46039f"
            ],
            [
             0.2222222222222222,
             "#7201a8"
            ],
            [
             0.3333333333333333,
             "#9c179e"
            ],
            [
             0.4444444444444444,
             "#bd3786"
            ],
            [
             0.5555555555555556,
             "#d8576b"
            ],
            [
             0.6666666666666666,
             "#ed7953"
            ],
            [
             0.7777777777777778,
             "#fb9f3a"
            ],
            [
             0.8888888888888888,
             "#fdca26"
            ],
            [
             1,
             "#f0f921"
            ]
           ],
           "sequentialminus": [
            [
             0,
             "#0d0887"
            ],
            [
             0.1111111111111111,
             "#46039f"
            ],
            [
             0.2222222222222222,
             "#7201a8"
            ],
            [
             0.3333333333333333,
             "#9c179e"
            ],
            [
             0.4444444444444444,
             "#bd3786"
            ],
            [
             0.5555555555555556,
             "#d8576b"
            ],
            [
             0.6666666666666666,
             "#ed7953"
            ],
            [
             0.7777777777777778,
             "#fb9f3a"
            ],
            [
             0.8888888888888888,
             "#fdca26"
            ],
            [
             1,
             "#f0f921"
            ]
           ]
          },
          "colorway": [
           "#636efa",
           "#EF553B",
           "#00cc96",
           "#ab63fa",
           "#FFA15A",
           "#19d3f3",
           "#FF6692",
           "#B6E880",
           "#FF97FF",
           "#FECB52"
          ],
          "font": {
           "color": "#2a3f5f"
          },
          "geo": {
           "bgcolor": "white",
           "lakecolor": "white",
           "landcolor": "#E5ECF6",
           "showlakes": true,
           "showland": true,
           "subunitcolor": "white"
          },
          "hoverlabel": {
           "align": "left"
          },
          "hovermode": "closest",
          "mapbox": {
           "style": "light"
          },
          "paper_bgcolor": "white",
          "plot_bgcolor": "#E5ECF6",
          "polar": {
           "angularaxis": {
            "gridcolor": "white",
            "linecolor": "white",
            "ticks": ""
           },
           "bgcolor": "#E5ECF6",
           "radialaxis": {
            "gridcolor": "white",
            "linecolor": "white",
            "ticks": ""
           }
          },
          "scene": {
           "xaxis": {
            "backgroundcolor": "#E5ECF6",
            "gridcolor": "white",
            "gridwidth": 2,
            "linecolor": "white",
            "showbackground": true,
            "ticks": "",
            "zerolinecolor": "white"
           },
           "yaxis": {
            "backgroundcolor": "#E5ECF6",
            "gridcolor": "white",
            "gridwidth": 2,
            "linecolor": "white",
            "showbackground": true,
            "ticks": "",
            "zerolinecolor": "white"
           },
           "zaxis": {
            "backgroundcolor": "#E5ECF6",
            "gridcolor": "white",
            "gridwidth": 2,
            "linecolor": "white",
            "showbackground": true,
            "ticks": "",
            "zerolinecolor": "white"
           }
          },
          "shapedefaults": {
           "line": {
            "color": "#2a3f5f"
           }
          },
          "ternary": {
           "aaxis": {
            "gridcolor": "white",
            "linecolor": "white",
            "ticks": ""
           },
           "baxis": {
            "gridcolor": "white",
            "linecolor": "white",
            "ticks": ""
           },
           "bgcolor": "#E5ECF6",
           "caxis": {
            "gridcolor": "white",
            "linecolor": "white",
            "ticks": ""
           }
          },
          "title": {
           "x": 0.05
          },
          "xaxis": {
           "automargin": true,
           "gridcolor": "white",
           "linecolor": "white",
           "ticks": "",
           "title": {
            "standoff": 15
           },
           "zerolinecolor": "white",
           "zerolinewidth": 2
          },
          "yaxis": {
           "automargin": true,
           "gridcolor": "white",
           "linecolor": "white",
           "ticks": "",
           "title": {
            "standoff": 15
           },
           "zerolinecolor": "white",
           "zerolinewidth": 2
          }
         }
        },
        "title": {
         "text": "Play 2021091209198"
        },
        "updatemenus": [
         {
          "buttons": [
           {
            "args": [
             null,
             {
              "frame": {
               "duration": 200,
               "redraw": false
              },
              "fromcurrent": true,
              "transition": {
               "duration": 0
              }
             }
            ],
            "label": "Play",
            "method": "animate"
           }
          ],
          "type": "buttons"
         }
        ],
        "width": 800,
        "xaxis": {
         "autorange": false,
         "dtick": 5,
         "gridcolor": "black",
         "range": [
          61.13,
          76.93
         ],
         "tick0": 60,
         "tickmode": "linear",
         "title": {
          "text": "src freq"
         }
        },
        "yaxis": {
         "autorange": false,
         "dtick": 10,
         "gridcolor": "green",
         "range": [
          16.25,
          36.53
         ],
         "tick0": 60
        }
       }
      }
     },
     "metadata": {},
     "output_type": "display_data"
    }
   ],
   "source": [
    "from __future__ import annotations\n",
    "import plotly\n",
    "import plotly.graph_objects as go\n",
    "fig = go.Figure(\n",
    "    data= start_frame,\n",
    "    layout=layout_draw,\n",
    "    frames=all_frame\n",
    ")\n",
    "\n",
    "fig.update_layout(legend=dict(orientation = \"h\"))  \n",
    "fig.show()"
   ]
  },
  {
   "cell_type": "code",
   "execution_count": 802,
   "metadata": {},
   "outputs": [],
   "source": [
    "# plot player metric over time\n"
   ]
  },
  {
   "cell_type": "code",
   "execution_count": 789,
   "metadata": {},
   "outputs": [
    {
     "ename": "AttributeError",
     "evalue": "'dict' object has no attribute 'iteritems'",
     "output_type": "error",
     "traceback": [
      "\u001b[0;31m---------------------------------------------------------------------------\u001b[0m",
      "\u001b[0;31mAttributeError\u001b[0m                            Traceback (most recent call last)",
      "\u001b[1;32m/Users/nickbachelder/Desktop/Kaggle/Linemen/code/clean/data_clean.ipynb Cell 15\u001b[0m in \u001b[0;36m<cell line: 1>\u001b[0;34m()\u001b[0m\n\u001b[0;32m----> <a href='vscode-notebook-cell:/Users/nickbachelder/Desktop/Kaggle/Linemen/code/clean/data_clean.ipynb#X20sZmlsZQ%3D%3D?line=0'>1</a>\u001b[0m this\u001b[39m.\u001b[39;49miteritems()\n",
      "\u001b[0;31mAttributeError\u001b[0m: 'dict' object has no attribute 'iteritems'"
     ]
    }
   ],
   "source": []
  },
  {
   "cell_type": "code",
   "execution_count": null,
   "metadata": {},
   "outputs": [],
   "source": []
  },
  {
   "cell_type": "code",
   "execution_count": 962,
   "metadata": {},
   "outputs": [],
   "source": [
    "\n",
    "\n",
    "\n",
    "\n",
    "\n",
    "# write function to calculate all player metrics\n",
    "\n",
    "# load_all_player_metrics_by_play(week)\n",
    "\n",
    "week = 2\n",
    "\n",
    "\n",
    "def get_player_metrics(week):\n",
    "    player_metrics_each_play = {}\n",
    "    for this_week in range(week):\n",
    "        all_plays = all_data.search_track_weeks(variables = ['week'], variable_values = [this_week]).playId.unique()\n",
    "        for play in tqdm.tqdm(all_plays):\n",
    "            this_play_dat = get_all_player_metrics_on_play(all_data, play_id = play, model = lstm_model) \n",
    "            this_play_dat_avgs = {key : sum(this_play_dat.get(key)) / len(this_play_dat.get(key)) for key in this_play_dat.keys()}\n",
    "            for key in this_play_dat_avgs.keys():\n",
    "                if (key in player_metrics_each_play.keys()):\n",
    "                    player_metrics_each_play[key].append(this_play_dat_avgs[key])\n",
    "                else:\n",
    "                    player_metrics_each_play.update({key : [ this_play_dat_avgs[key] ]})\n",
    "    avg_metric_to_this_point = {key : [sum(player_metrics_each_play.get(key)) / len(player_metrics_each_play.get(key)), len(player_metrics_each_play.get(key))] for key in player_metrics_each_play.keys()}\n",
    "    avg_metric_to_this_point = dict(sorted(avg_metric_to_this_point.items(), reverse = True, key=lambda item: item[1]))\n",
    "\n",
    "    return(avg_metric_to_this_point)\n",
    "\n",
    "def get_top_player_metrics(master_track, metric_dict, min_play_n):\n",
    "    top_n = pd.DataFrame({'nflId' : list(metric_dict.keys()), 'metric' : [item[0] for item in metric_dict.values()], 'n_play' : [item[1] for item in metric_dict.values()]}).astype({'nflId': 'int32'})\n",
    "    player_df = master_track.player_df.astype({'nflId': 'int32'})\n",
    "    top_n = top_n.merge(player_df, on = 'nflId', how = 'left')\n",
    "    top_n = top_n.loc[top_n.n_play >= min_play_n].reset_index(drop = 1)\n",
    "    top_n['rank'] = top_n.index + 1\n",
    "    return(top_n)\n",
    "\n"
   ]
  },
  {
   "cell_type": "code",
   "execution_count": 964,
   "metadata": {},
   "outputs": [
    {
     "data": {
      "text/html": [
       "<div>\n",
       "<style scoped>\n",
       "    .dataframe tbody tr th:only-of-type {\n",
       "        vertical-align: middle;\n",
       "    }\n",
       "\n",
       "    .dataframe tbody tr th {\n",
       "        vertical-align: top;\n",
       "    }\n",
       "\n",
       "    .dataframe thead th {\n",
       "        text-align: right;\n",
       "    }\n",
       "</style>\n",
       "<table border=\"1\" class=\"dataframe\">\n",
       "  <thead>\n",
       "    <tr style=\"text-align: right;\">\n",
       "      <th></th>\n",
       "      <th>nflId</th>\n",
       "      <th>metric</th>\n",
       "      <th>n_play</th>\n",
       "      <th>height</th>\n",
       "      <th>weight</th>\n",
       "      <th>birthDate</th>\n",
       "      <th>collegeName</th>\n",
       "      <th>officialPosition</th>\n",
       "      <th>displayName</th>\n",
       "      <th>rank</th>\n",
       "    </tr>\n",
       "  </thead>\n",
       "  <tbody>\n",
       "    <tr>\n",
       "      <th>0</th>\n",
       "      <td>43378</td>\n",
       "      <td>0.058777</td>\n",
       "      <td>25</td>\n",
       "      <td>6-2</td>\n",
       "      <td>305</td>\n",
       "      <td>1993-02-07</td>\n",
       "      <td>South Carolina State</td>\n",
       "      <td>DT</td>\n",
       "      <td>Javon Hargrave</td>\n",
       "      <td>1</td>\n",
       "    </tr>\n",
       "    <tr>\n",
       "      <th>1</th>\n",
       "      <td>47800</td>\n",
       "      <td>0.055464</td>\n",
       "      <td>20</td>\n",
       "      <td>6-4</td>\n",
       "      <td>342</td>\n",
       "      <td>1997-11-12</td>\n",
       "      <td>Clemson</td>\n",
       "      <td>DE</td>\n",
       "      <td>Dexter Lawrence</td>\n",
       "      <td>2</td>\n",
       "    </tr>\n",
       "    <tr>\n",
       "      <th>2</th>\n",
       "      <td>43356</td>\n",
       "      <td>0.053288</td>\n",
       "      <td>29</td>\n",
       "      <td>6-2</td>\n",
       "      <td>308</td>\n",
       "      <td>1995-04-08</td>\n",
       "      <td>Nebraska</td>\n",
       "      <td>DT</td>\n",
       "      <td>Maliek Collins</td>\n",
       "      <td>3</td>\n",
       "    </tr>\n",
       "    <tr>\n",
       "      <th>3</th>\n",
       "      <td>43694</td>\n",
       "      <td>0.052493</td>\n",
       "      <td>11</td>\n",
       "      <td>6-0</td>\n",
       "      <td>340</td>\n",
       "      <td>1992-11-06</td>\n",
       "      <td>Samford</td>\n",
       "      <td>NT</td>\n",
       "      <td>Michael Pierce</td>\n",
       "      <td>4</td>\n",
       "    </tr>\n",
       "    <tr>\n",
       "      <th>4</th>\n",
       "      <td>52456</td>\n",
       "      <td>0.052384</td>\n",
       "      <td>12</td>\n",
       "      <td>6-3</td>\n",
       "      <td>253</td>\n",
       "      <td>1997-03-24</td>\n",
       "      <td>Tennessee</td>\n",
       "      <td>DE</td>\n",
       "      <td>Darrell Taylor</td>\n",
       "      <td>5</td>\n",
       "    </tr>\n",
       "    <tr>\n",
       "      <th>5</th>\n",
       "      <td>41249</td>\n",
       "      <td>0.052070</td>\n",
       "      <td>29</td>\n",
       "      <td>6-2</td>\n",
       "      <td>252</td>\n",
       "      <td>1991-03-19</td>\n",
       "      <td>Auburn</td>\n",
       "      <td>DE</td>\n",
       "      <td>Dee Ford</td>\n",
       "      <td>6</td>\n",
       "    </tr>\n",
       "    <tr>\n",
       "      <th>6</th>\n",
       "      <td>35539</td>\n",
       "      <td>0.050824</td>\n",
       "      <td>17</td>\n",
       "      <td>6-3</td>\n",
       "      <td>273</td>\n",
       "      <td>1987-12-22</td>\n",
       "      <td>Southern California</td>\n",
       "      <td>DE</td>\n",
       "      <td>Everson Griffen</td>\n",
       "      <td>7</td>\n",
       "    </tr>\n",
       "    <tr>\n",
       "      <th>7</th>\n",
       "      <td>42497</td>\n",
       "      <td>0.050166</td>\n",
       "      <td>11</td>\n",
       "      <td>6-2</td>\n",
       "      <td>309</td>\n",
       "      <td>1992-09-03</td>\n",
       "      <td>Fresno State</td>\n",
       "      <td>DT</td>\n",
       "      <td>Tyeler Davison</td>\n",
       "      <td>8</td>\n",
       "    </tr>\n",
       "    <tr>\n",
       "      <th>8</th>\n",
       "      <td>52582</td>\n",
       "      <td>0.047859</td>\n",
       "      <td>10</td>\n",
       "      <td>6-3</td>\n",
       "      <td>291</td>\n",
       "      <td>1997-04-24</td>\n",
       "      <td>North Carolina State</td>\n",
       "      <td>DT</td>\n",
       "      <td>Larrell Murchison</td>\n",
       "      <td>9</td>\n",
       "    </tr>\n",
       "    <tr>\n",
       "      <th>9</th>\n",
       "      <td>52481</td>\n",
       "      <td>0.047156</td>\n",
       "      <td>12</td>\n",
       "      <td>6-4</td>\n",
       "      <td>310</td>\n",
       "      <td>1997-02-01</td>\n",
       "      <td>Ohio State</td>\n",
       "      <td>DT</td>\n",
       "      <td>Davon Hamilton</td>\n",
       "      <td>10</td>\n",
       "    </tr>\n",
       "    <tr>\n",
       "      <th>10</th>\n",
       "      <td>41239</td>\n",
       "      <td>0.045600</td>\n",
       "      <td>38</td>\n",
       "      <td>6-1</td>\n",
       "      <td>280</td>\n",
       "      <td>1991-05-23</td>\n",
       "      <td>Pittsburgh</td>\n",
       "      <td>DT</td>\n",
       "      <td>Aaron Donald</td>\n",
       "      <td>11</td>\n",
       "    </tr>\n",
       "    <tr>\n",
       "      <th>11</th>\n",
       "      <td>43292</td>\n",
       "      <td>0.045402</td>\n",
       "      <td>21</td>\n",
       "      <td>6-5</td>\n",
       "      <td>280</td>\n",
       "      <td>1995-07-11</td>\n",
       "      <td>Ohio State</td>\n",
       "      <td>OLB</td>\n",
       "      <td>Joey Bosa</td>\n",
       "      <td>12</td>\n",
       "    </tr>\n",
       "    <tr>\n",
       "      <th>12</th>\n",
       "      <td>44863</td>\n",
       "      <td>0.044736</td>\n",
       "      <td>17</td>\n",
       "      <td>6-4</td>\n",
       "      <td>280</td>\n",
       "      <td>1994-09-30</td>\n",
       "      <td>Florida State</td>\n",
       "      <td>DE</td>\n",
       "      <td>DeMarcus Walker</td>\n",
       "      <td>13</td>\n",
       "    </tr>\n",
       "    <tr>\n",
       "      <th>13</th>\n",
       "      <td>44877</td>\n",
       "      <td>0.044657</td>\n",
       "      <td>35</td>\n",
       "      <td>6-3</td>\n",
       "      <td>305</td>\n",
       "      <td>1994-06-03</td>\n",
       "      <td>North Carolina-Charlotte</td>\n",
       "      <td>DT</td>\n",
       "      <td>Larry Ogunjobi</td>\n",
       "      <td>14</td>\n",
       "    </tr>\n",
       "    <tr>\n",
       "      <th>14</th>\n",
       "      <td>43791</td>\n",
       "      <td>0.044465</td>\n",
       "      <td>19</td>\n",
       "      <td>6-3</td>\n",
       "      <td>275</td>\n",
       "      <td>1994-09-12</td>\n",
       "      <td>Colorado State-Pueblo</td>\n",
       "      <td>DE</td>\n",
       "      <td>Morgan Fox</td>\n",
       "      <td>15</td>\n",
       "    </tr>\n",
       "    <tr>\n",
       "      <th>15</th>\n",
       "      <td>46141</td>\n",
       "      <td>0.043547</td>\n",
       "      <td>10</td>\n",
       "      <td>6-4</td>\n",
       "      <td>315</td>\n",
       "      <td>1993-10-09</td>\n",
       "      <td>Fort Hays State</td>\n",
       "      <td>DT</td>\n",
       "      <td>Nathan Shepherd</td>\n",
       "      <td>16</td>\n",
       "    </tr>\n",
       "    <tr>\n",
       "      <th>16</th>\n",
       "      <td>43332</td>\n",
       "      <td>0.042751</td>\n",
       "      <td>15</td>\n",
       "      <td>6-4</td>\n",
       "      <td>314</td>\n",
       "      <td>1994-05-08</td>\n",
       "      <td>Penn State</td>\n",
       "      <td>NT</td>\n",
       "      <td>Austin Johnson</td>\n",
       "      <td>17</td>\n",
       "    </tr>\n",
       "    <tr>\n",
       "      <th>17</th>\n",
       "      <td>47799</td>\n",
       "      <td>0.041637</td>\n",
       "      <td>25</td>\n",
       "      <td>6-5</td>\n",
       "      <td>250</td>\n",
       "      <td>1998-04-23</td>\n",
       "      <td>Florida State</td>\n",
       "      <td>DE</td>\n",
       "      <td>Brian Burns</td>\n",
       "      <td>18</td>\n",
       "    </tr>\n",
       "    <tr>\n",
       "      <th>18</th>\n",
       "      <td>37075</td>\n",
       "      <td>0.041349</td>\n",
       "      <td>25</td>\n",
       "      <td>6-3</td>\n",
       "      <td>250</td>\n",
       "      <td>1989-03-26</td>\n",
       "      <td>Texas A&amp;amp;M</td>\n",
       "      <td>OLB</td>\n",
       "      <td>Von Miller</td>\n",
       "      <td>19</td>\n",
       "    </tr>\n",
       "    <tr>\n",
       "      <th>19</th>\n",
       "      <td>37145</td>\n",
       "      <td>0.040601</td>\n",
       "      <td>35</td>\n",
       "      <td>6-3</td>\n",
       "      <td>270</td>\n",
       "      <td>1989-01-21</td>\n",
       "      <td>Georgia</td>\n",
       "      <td>OLB</td>\n",
       "      <td>Justin Houston</td>\n",
       "      <td>20</td>\n",
       "    </tr>\n",
       "    <tr>\n",
       "      <th>20</th>\n",
       "      <td>41341</td>\n",
       "      <td>0.039297</td>\n",
       "      <td>25</td>\n",
       "      <td>6-4</td>\n",
       "      <td>322</td>\n",
       "      <td>1991-12-27</td>\n",
       "      <td>Penn State</td>\n",
       "      <td>DT</td>\n",
       "      <td>DaQuan Jones</td>\n",
       "      <td>21</td>\n",
       "    </tr>\n",
       "    <tr>\n",
       "      <th>21</th>\n",
       "      <td>41786</td>\n",
       "      <td>0.039250</td>\n",
       "      <td>23</td>\n",
       "      <td>6-2</td>\n",
       "      <td>270</td>\n",
       "      <td>1991-05-02</td>\n",
       "      <td>Texas Tech</td>\n",
       "      <td>DE</td>\n",
       "      <td>Kerry Hyder</td>\n",
       "      <td>22</td>\n",
       "    </tr>\n",
       "    <tr>\n",
       "      <th>22</th>\n",
       "      <td>47944</td>\n",
       "      <td>0.039066</td>\n",
       "      <td>30</td>\n",
       "      <td>6-5</td>\n",
       "      <td>280</td>\n",
       "      <td>1997-08-20</td>\n",
       "      <td>Texas</td>\n",
       "      <td>DE</td>\n",
       "      <td>Charles Omenihu</td>\n",
       "      <td>23</td>\n",
       "    </tr>\n",
       "    <tr>\n",
       "      <th>23</th>\n",
       "      <td>43358</td>\n",
       "      <td>0.038627</td>\n",
       "      <td>18</td>\n",
       "      <td>6-2</td>\n",
       "      <td>246</td>\n",
       "      <td>1995-03-31</td>\n",
       "      <td>Maryland</td>\n",
       "      <td>DE</td>\n",
       "      <td>Yannick Ngakoue</td>\n",
       "      <td>24</td>\n",
       "    </tr>\n",
       "    <tr>\n",
       "      <th>24</th>\n",
       "      <td>52510</td>\n",
       "      <td>0.038553</td>\n",
       "      <td>26</td>\n",
       "      <td>6-4</td>\n",
       "      <td>242</td>\n",
       "      <td>1997-08-07</td>\n",
       "      <td>North Carolina-Charlotte</td>\n",
       "      <td>OLB</td>\n",
       "      <td>Alex Highsmith</td>\n",
       "      <td>25</td>\n",
       "    </tr>\n",
       "    <tr>\n",
       "      <th>25</th>\n",
       "      <td>42355</td>\n",
       "      <td>0.038076</td>\n",
       "      <td>10</td>\n",
       "      <td>6-2</td>\n",
       "      <td>345</td>\n",
       "      <td>1993-08-20</td>\n",
       "      <td>Washington</td>\n",
       "      <td>NT</td>\n",
       "      <td>Danny Shelton</td>\n",
       "      <td>26</td>\n",
       "    </tr>\n",
       "    <tr>\n",
       "      <th>26</th>\n",
       "      <td>44871</td>\n",
       "      <td>0.037954</td>\n",
       "      <td>13</td>\n",
       "      <td>6-7</td>\n",
       "      <td>289</td>\n",
       "      <td>1994-06-14</td>\n",
       "      <td>Villanova</td>\n",
       "      <td>DE</td>\n",
       "      <td>Tanoh Kpassagnon</td>\n",
       "      <td>27</td>\n",
       "    </tr>\n",
       "    <tr>\n",
       "      <th>27</th>\n",
       "      <td>43455</td>\n",
       "      <td>0.037729</td>\n",
       "      <td>20</td>\n",
       "      <td>6-3</td>\n",
       "      <td>347</td>\n",
       "      <td>1994-07-01</td>\n",
       "      <td>Clemson</td>\n",
       "      <td>NT</td>\n",
       "      <td>D.J. Reader</td>\n",
       "      <td>28</td>\n",
       "    </tr>\n",
       "    <tr>\n",
       "      <th>28</th>\n",
       "      <td>47796</td>\n",
       "      <td>0.037256</td>\n",
       "      <td>21</td>\n",
       "      <td>6-4</td>\n",
       "      <td>315</td>\n",
       "      <td>1995-12-20</td>\n",
       "      <td>Clemson</td>\n",
       "      <td>DT</td>\n",
       "      <td>Christian Wilkins</td>\n",
       "      <td>29</td>\n",
       "    </tr>\n",
       "    <tr>\n",
       "      <th>29</th>\n",
       "      <td>46249</td>\n",
       "      <td>0.037131</td>\n",
       "      <td>11</td>\n",
       "      <td>6-4</td>\n",
       "      <td>318</td>\n",
       "      <td>1995-03-04</td>\n",
       "      <td>Connecticut</td>\n",
       "      <td>DT</td>\n",
       "      <td>Folorunso Fatukasi</td>\n",
       "      <td>30</td>\n",
       "    </tr>\n",
       "    <tr>\n",
       "      <th>30</th>\n",
       "      <td>46081</td>\n",
       "      <td>0.036736</td>\n",
       "      <td>36</td>\n",
       "      <td>6-4</td>\n",
       "      <td>347</td>\n",
       "      <td>1995-02-05</td>\n",
       "      <td>Washington</td>\n",
       "      <td>NT</td>\n",
       "      <td>Vita Vea</td>\n",
       "      <td>31</td>\n",
       "    </tr>\n",
       "    <tr>\n",
       "      <th>31</th>\n",
       "      <td>44842</td>\n",
       "      <td>0.036602</td>\n",
       "      <td>44</td>\n",
       "      <td>6-4</td>\n",
       "      <td>252</td>\n",
       "      <td>1994-10-11</td>\n",
       "      <td>Wisconsin</td>\n",
       "      <td>OLB</td>\n",
       "      <td>T.J. Watt</td>\n",
       "      <td>32</td>\n",
       "    </tr>\n",
       "    <tr>\n",
       "      <th>32</th>\n",
       "      <td>44838</td>\n",
       "      <td>0.036382</td>\n",
       "      <td>15</td>\n",
       "      <td>6-2</td>\n",
       "      <td>265</td>\n",
       "      <td>1995-11-02</td>\n",
       "      <td>UCLA</td>\n",
       "      <td>DE</td>\n",
       "      <td>Takkarist McKinley</td>\n",
       "      <td>33</td>\n",
       "    </tr>\n",
       "    <tr>\n",
       "      <th>33</th>\n",
       "      <td>53467</td>\n",
       "      <td>0.036193</td>\n",
       "      <td>15</td>\n",
       "      <td>6-5</td>\n",
       "      <td>310</td>\n",
       "      <td>NaN</td>\n",
       "      <td>NaN</td>\n",
       "      <td>DT</td>\n",
       "      <td>Christian Barmore</td>\n",
       "      <td>34</td>\n",
       "    </tr>\n",
       "    <tr>\n",
       "      <th>34</th>\n",
       "      <td>48462</td>\n",
       "      <td>0.035648</td>\n",
       "      <td>14</td>\n",
       "      <td>6-4</td>\n",
       "      <td>285</td>\n",
       "      <td>1996-08-05</td>\n",
       "      <td>Texas-San Antonio</td>\n",
       "      <td>DE</td>\n",
       "      <td>Kevin Strong</td>\n",
       "      <td>35</td>\n",
       "    </tr>\n",
       "    <tr>\n",
       "      <th>35</th>\n",
       "      <td>53668</td>\n",
       "      <td>0.035629</td>\n",
       "      <td>11</td>\n",
       "      <td>6-4</td>\n",
       "      <td>257</td>\n",
       "      <td>NaN</td>\n",
       "      <td>NaN</td>\n",
       "      <td>OLB</td>\n",
       "      <td>Jonathon Cooper</td>\n",
       "      <td>36</td>\n",
       "    </tr>\n",
       "    <tr>\n",
       "      <th>36</th>\n",
       "      <td>43296</td>\n",
       "      <td>0.035522</td>\n",
       "      <td>20</td>\n",
       "      <td>6-7</td>\n",
       "      <td>300</td>\n",
       "      <td>1994-03-17</td>\n",
       "      <td>Oregon</td>\n",
       "      <td>DT</td>\n",
       "      <td>DeForest Buckner</td>\n",
       "      <td>37</td>\n",
       "    </tr>\n",
       "    <tr>\n",
       "      <th>37</th>\n",
       "      <td>41336</td>\n",
       "      <td>0.035517</td>\n",
       "      <td>11</td>\n",
       "      <td>6-2</td>\n",
       "      <td>350</td>\n",
       "      <td>1990-12-27</td>\n",
       "      <td>Louisiana Tech</td>\n",
       "      <td>DT</td>\n",
       "      <td>Justin Ellis</td>\n",
       "      <td>38</td>\n",
       "    </tr>\n",
       "    <tr>\n",
       "      <th>38</th>\n",
       "      <td>43319</td>\n",
       "      <td>0.035104</td>\n",
       "      <td>13</td>\n",
       "      <td>6-4</td>\n",
       "      <td>330</td>\n",
       "      <td>1994-06-14</td>\n",
       "      <td>Louisiana Tech</td>\n",
       "      <td>DT</td>\n",
       "      <td>Vernon Butler</td>\n",
       "      <td>39</td>\n",
       "    </tr>\n",
       "    <tr>\n",
       "      <th>39</th>\n",
       "      <td>48123</td>\n",
       "      <td>0.035103</td>\n",
       "      <td>29</td>\n",
       "      <td>6-1</td>\n",
       "      <td>285</td>\n",
       "      <td>1997-03-01</td>\n",
       "      <td>Penn State</td>\n",
       "      <td>DT</td>\n",
       "      <td>Kevin Givens</td>\n",
       "      <td>40</td>\n",
       "    </tr>\n",
       "    <tr>\n",
       "      <th>40</th>\n",
       "      <td>35562</td>\n",
       "      <td>0.034990</td>\n",
       "      <td>14</td>\n",
       "      <td>6-4</td>\n",
       "      <td>330</td>\n",
       "      <td>1987-03-25</td>\n",
       "      <td>Louisiana State</td>\n",
       "      <td>DT</td>\n",
       "      <td>Al Woods</td>\n",
       "      <td>41</td>\n",
       "    </tr>\n",
       "    <tr>\n",
       "      <th>41</th>\n",
       "      <td>44813</td>\n",
       "      <td>0.034925</td>\n",
       "      <td>29</td>\n",
       "      <td>6-4</td>\n",
       "      <td>272</td>\n",
       "      <td>1995-12-29</td>\n",
       "      <td>Texas A&amp;amp;M</td>\n",
       "      <td>DE</td>\n",
       "      <td>Myles Garrett</td>\n",
       "      <td>42</td>\n",
       "    </tr>\n",
       "    <tr>\n",
       "      <th>42</th>\n",
       "      <td>44880</td>\n",
       "      <td>0.034826</td>\n",
       "      <td>20</td>\n",
       "      <td>6-3</td>\n",
       "      <td>264</td>\n",
       "      <td>1995-03-02</td>\n",
       "      <td>Illinois</td>\n",
       "      <td>DE</td>\n",
       "      <td>Dawuane Smoot</td>\n",
       "      <td>43</td>\n",
       "    </tr>\n",
       "    <tr>\n",
       "      <th>43</th>\n",
       "      <td>53624</td>\n",
       "      <td>0.034613</td>\n",
       "      <td>12</td>\n",
       "      <td>6-2</td>\n",
       "      <td>318</td>\n",
       "      <td>NaN</td>\n",
       "      <td>NaN</td>\n",
       "      <td>DT</td>\n",
       "      <td>Roy Lopez</td>\n",
       "      <td>44</td>\n",
       "    </tr>\n",
       "    <tr>\n",
       "      <th>44</th>\n",
       "      <td>35470</td>\n",
       "      <td>0.034482</td>\n",
       "      <td>14</td>\n",
       "      <td>6-2</td>\n",
       "      <td>254</td>\n",
       "      <td>1988-08-13</td>\n",
       "      <td>Texas Christian</td>\n",
       "      <td>DE</td>\n",
       "      <td>Jerry Hughes</td>\n",
       "      <td>45</td>\n",
       "    </tr>\n",
       "    <tr>\n",
       "      <th>45</th>\n",
       "      <td>42480</td>\n",
       "      <td>0.034009</td>\n",
       "      <td>24</td>\n",
       "      <td>6-0</td>\n",
       "      <td>305</td>\n",
       "      <td>1993-04-28</td>\n",
       "      <td>Clemson</td>\n",
       "      <td>DT</td>\n",
       "      <td>Grady Jarrett</td>\n",
       "      <td>46</td>\n",
       "    </tr>\n",
       "    <tr>\n",
       "      <th>46</th>\n",
       "      <td>41464</td>\n",
       "      <td>0.033761</td>\n",
       "      <td>22</td>\n",
       "      <td>6-2</td>\n",
       "      <td>290</td>\n",
       "      <td>1991-08-11</td>\n",
       "      <td>Illinois State</td>\n",
       "      <td>DE</td>\n",
       "      <td>Shelby Harris</td>\n",
       "      <td>47</td>\n",
       "    </tr>\n",
       "    <tr>\n",
       "      <th>47</th>\n",
       "      <td>46082</td>\n",
       "      <td>0.033628</td>\n",
       "      <td>36</td>\n",
       "      <td>6-3</td>\n",
       "      <td>320</td>\n",
       "      <td>1997-05-27</td>\n",
       "      <td>Alabama</td>\n",
       "      <td>DT</td>\n",
       "      <td>Daron Payne</td>\n",
       "      <td>48</td>\n",
       "    </tr>\n",
       "    <tr>\n",
       "      <th>48</th>\n",
       "      <td>37841</td>\n",
       "      <td>0.033607</td>\n",
       "      <td>12</td>\n",
       "      <td>6-3</td>\n",
       "      <td>260</td>\n",
       "      <td>1987-09-06</td>\n",
       "      <td>Troy</td>\n",
       "      <td>DE</td>\n",
       "      <td>Mario Addison</td>\n",
       "      <td>49</td>\n",
       "    </tr>\n",
       "    <tr>\n",
       "      <th>49</th>\n",
       "      <td>43436</td>\n",
       "      <td>0.033577</td>\n",
       "      <td>24</td>\n",
       "      <td>6-4</td>\n",
       "      <td>291</td>\n",
       "      <td>1993-03-31</td>\n",
       "      <td>Maryland</td>\n",
       "      <td>DT</td>\n",
       "      <td>Quinton Jefferson</td>\n",
       "      <td>50</td>\n",
       "    </tr>\n",
       "  </tbody>\n",
       "</table>\n",
       "</div>"
      ],
      "text/plain": [
       "    nflId    metric  n_play height  weight   birthDate  \\\n",
       "0   43378  0.058777      25    6-2     305  1993-02-07   \n",
       "1   47800  0.055464      20    6-4     342  1997-11-12   \n",
       "2   43356  0.053288      29    6-2     308  1995-04-08   \n",
       "3   43694  0.052493      11    6-0     340  1992-11-06   \n",
       "4   52456  0.052384      12    6-3     253  1997-03-24   \n",
       "5   41249  0.052070      29    6-2     252  1991-03-19   \n",
       "6   35539  0.050824      17    6-3     273  1987-12-22   \n",
       "7   42497  0.050166      11    6-2     309  1992-09-03   \n",
       "8   52582  0.047859      10    6-3     291  1997-04-24   \n",
       "9   52481  0.047156      12    6-4     310  1997-02-01   \n",
       "10  41239  0.045600      38    6-1     280  1991-05-23   \n",
       "11  43292  0.045402      21    6-5     280  1995-07-11   \n",
       "12  44863  0.044736      17    6-4     280  1994-09-30   \n",
       "13  44877  0.044657      35    6-3     305  1994-06-03   \n",
       "14  43791  0.044465      19    6-3     275  1994-09-12   \n",
       "15  46141  0.043547      10    6-4     315  1993-10-09   \n",
       "16  43332  0.042751      15    6-4     314  1994-05-08   \n",
       "17  47799  0.041637      25    6-5     250  1998-04-23   \n",
       "18  37075  0.041349      25    6-3     250  1989-03-26   \n",
       "19  37145  0.040601      35    6-3     270  1989-01-21   \n",
       "20  41341  0.039297      25    6-4     322  1991-12-27   \n",
       "21  41786  0.039250      23    6-2     270  1991-05-02   \n",
       "22  47944  0.039066      30    6-5     280  1997-08-20   \n",
       "23  43358  0.038627      18    6-2     246  1995-03-31   \n",
       "24  52510  0.038553      26    6-4     242  1997-08-07   \n",
       "25  42355  0.038076      10    6-2     345  1993-08-20   \n",
       "26  44871  0.037954      13    6-7     289  1994-06-14   \n",
       "27  43455  0.037729      20    6-3     347  1994-07-01   \n",
       "28  47796  0.037256      21    6-4     315  1995-12-20   \n",
       "29  46249  0.037131      11    6-4     318  1995-03-04   \n",
       "30  46081  0.036736      36    6-4     347  1995-02-05   \n",
       "31  44842  0.036602      44    6-4     252  1994-10-11   \n",
       "32  44838  0.036382      15    6-2     265  1995-11-02   \n",
       "33  53467  0.036193      15    6-5     310         NaN   \n",
       "34  48462  0.035648      14    6-4     285  1996-08-05   \n",
       "35  53668  0.035629      11    6-4     257         NaN   \n",
       "36  43296  0.035522      20    6-7     300  1994-03-17   \n",
       "37  41336  0.035517      11    6-2     350  1990-12-27   \n",
       "38  43319  0.035104      13    6-4     330  1994-06-14   \n",
       "39  48123  0.035103      29    6-1     285  1997-03-01   \n",
       "40  35562  0.034990      14    6-4     330  1987-03-25   \n",
       "41  44813  0.034925      29    6-4     272  1995-12-29   \n",
       "42  44880  0.034826      20    6-3     264  1995-03-02   \n",
       "43  53624  0.034613      12    6-2     318         NaN   \n",
       "44  35470  0.034482      14    6-2     254  1988-08-13   \n",
       "45  42480  0.034009      24    6-0     305  1993-04-28   \n",
       "46  41464  0.033761      22    6-2     290  1991-08-11   \n",
       "47  46082  0.033628      36    6-3     320  1997-05-27   \n",
       "48  37841  0.033607      12    6-3     260  1987-09-06   \n",
       "49  43436  0.033577      24    6-4     291  1993-03-31   \n",
       "\n",
       "                 collegeName officialPosition         displayName  rank  \n",
       "0       South Carolina State               DT      Javon Hargrave     1  \n",
       "1                    Clemson               DE     Dexter Lawrence     2  \n",
       "2                   Nebraska               DT      Maliek Collins     3  \n",
       "3                    Samford               NT      Michael Pierce     4  \n",
       "4                  Tennessee               DE      Darrell Taylor     5  \n",
       "5                     Auburn               DE            Dee Ford     6  \n",
       "6        Southern California               DE     Everson Griffen     7  \n",
       "7               Fresno State               DT      Tyeler Davison     8  \n",
       "8       North Carolina State               DT   Larrell Murchison     9  \n",
       "9                 Ohio State               DT      Davon Hamilton    10  \n",
       "10                Pittsburgh               DT        Aaron Donald    11  \n",
       "11                Ohio State              OLB           Joey Bosa    12  \n",
       "12             Florida State               DE     DeMarcus Walker    13  \n",
       "13  North Carolina-Charlotte               DT      Larry Ogunjobi    14  \n",
       "14     Colorado State-Pueblo               DE          Morgan Fox    15  \n",
       "15           Fort Hays State               DT     Nathan Shepherd    16  \n",
       "16                Penn State               NT      Austin Johnson    17  \n",
       "17             Florida State               DE         Brian Burns    18  \n",
       "18             Texas A&amp;M              OLB          Von Miller    19  \n",
       "19                   Georgia              OLB      Justin Houston    20  \n",
       "20                Penn State               DT        DaQuan Jones    21  \n",
       "21                Texas Tech               DE         Kerry Hyder    22  \n",
       "22                     Texas               DE     Charles Omenihu    23  \n",
       "23                  Maryland               DE     Yannick Ngakoue    24  \n",
       "24  North Carolina-Charlotte              OLB      Alex Highsmith    25  \n",
       "25                Washington               NT       Danny Shelton    26  \n",
       "26                 Villanova               DE    Tanoh Kpassagnon    27  \n",
       "27                   Clemson               NT         D.J. Reader    28  \n",
       "28                   Clemson               DT   Christian Wilkins    29  \n",
       "29               Connecticut               DT  Folorunso Fatukasi    30  \n",
       "30                Washington               NT            Vita Vea    31  \n",
       "31                 Wisconsin              OLB           T.J. Watt    32  \n",
       "32                      UCLA               DE  Takkarist McKinley    33  \n",
       "33                       NaN               DT   Christian Barmore    34  \n",
       "34         Texas-San Antonio               DE        Kevin Strong    35  \n",
       "35                       NaN              OLB     Jonathon Cooper    36  \n",
       "36                    Oregon               DT    DeForest Buckner    37  \n",
       "37            Louisiana Tech               DT        Justin Ellis    38  \n",
       "38            Louisiana Tech               DT       Vernon Butler    39  \n",
       "39                Penn State               DT        Kevin Givens    40  \n",
       "40           Louisiana State               DT            Al Woods    41  \n",
       "41             Texas A&amp;M               DE       Myles Garrett    42  \n",
       "42                  Illinois               DE       Dawuane Smoot    43  \n",
       "43                       NaN               DT           Roy Lopez    44  \n",
       "44           Texas Christian               DE        Jerry Hughes    45  \n",
       "45                   Clemson               DT       Grady Jarrett    46  \n",
       "46            Illinois State               DE       Shelby Harris    47  \n",
       "47                   Alabama               DT         Daron Payne    48  \n",
       "48                      Troy               DE       Mario Addison    49  \n",
       "49                  Maryland               DT   Quinton Jefferson    50  "
      ]
     },
     "execution_count": 964,
     "metadata": {},
     "output_type": "execute_result"
    }
   ],
   "source": [
    "ranking_df = get_top_player_metrics(master_track = all_data, metric_dict = this, min_play_n = 10)\n",
    "ranking_df[0:50]"
   ]
  },
  {
   "cell_type": "code",
   "execution_count": null,
   "metadata": {},
   "outputs": [],
   "source": []
  },
  {
   "cell_type": "code",
   "execution_count": 954,
   "metadata": {},
   "outputs": [
    {
     "data": {
      "text/html": [
       "<div>\n",
       "<style scoped>\n",
       "    .dataframe tbody tr th:only-of-type {\n",
       "        vertical-align: middle;\n",
       "    }\n",
       "\n",
       "    .dataframe tbody tr th {\n",
       "        vertical-align: top;\n",
       "    }\n",
       "\n",
       "    .dataframe thead th {\n",
       "        text-align: right;\n",
       "    }\n",
       "</style>\n",
       "<table border=\"1\" class=\"dataframe\">\n",
       "  <thead>\n",
       "    <tr style=\"text-align: right;\">\n",
       "      <th></th>\n",
       "      <th>nflId</th>\n",
       "      <th>metric</th>\n",
       "      <th>n_play</th>\n",
       "      <th>height</th>\n",
       "      <th>weight</th>\n",
       "      <th>birthDate</th>\n",
       "      <th>collegeName</th>\n",
       "      <th>officialPosition</th>\n",
       "      <th>displayName</th>\n",
       "      <th>rank</th>\n",
       "    </tr>\n",
       "  </thead>\n",
       "  <tbody>\n",
       "    <tr>\n",
       "      <th>11</th>\n",
       "      <td>52455</td>\n",
       "      <td>0.071654</td>\n",
       "      <td>7</td>\n",
       "      <td>6-3</td>\n",
       "      <td>279</td>\n",
       "      <td>1998-05-11</td>\n",
       "      <td>Auburn</td>\n",
       "      <td>DT</td>\n",
       "      <td>Marlon Davidson</td>\n",
       "      <td>12</td>\n",
       "    </tr>\n",
       "    <tr>\n",
       "      <th>15</th>\n",
       "      <td>48032</td>\n",
       "      <td>0.066217</td>\n",
       "      <td>6</td>\n",
       "      <td>6-3</td>\n",
       "      <td>284</td>\n",
       "      <td>1996-05-05</td>\n",
       "      <td>Temple</td>\n",
       "      <td>DE</td>\n",
       "      <td>Michael Dogbe</td>\n",
       "      <td>16</td>\n",
       "    </tr>\n",
       "    <tr>\n",
       "      <th>20</th>\n",
       "      <td>53587</td>\n",
       "      <td>0.063581</td>\n",
       "      <td>7</td>\n",
       "      <td>6-3</td>\n",
       "      <td>305</td>\n",
       "      <td>NaN</td>\n",
       "      <td>NaN</td>\n",
       "      <td>DT</td>\n",
       "      <td>Daviyon Nixon</td>\n",
       "      <td>21</td>\n",
       "    </tr>\n",
       "    <tr>\n",
       "      <th>26</th>\n",
       "      <td>43378</td>\n",
       "      <td>0.058777</td>\n",
       "      <td>25</td>\n",
       "      <td>6-2</td>\n",
       "      <td>305</td>\n",
       "      <td>1993-02-07</td>\n",
       "      <td>South Carolina State</td>\n",
       "      <td>DT</td>\n",
       "      <td>Javon Hargrave</td>\n",
       "      <td>27</td>\n",
       "    </tr>\n",
       "    <tr>\n",
       "      <th>29</th>\n",
       "      <td>41269</td>\n",
       "      <td>0.057523</td>\n",
       "      <td>6</td>\n",
       "      <td>6-3</td>\n",
       "      <td>250</td>\n",
       "      <td>1991-03-26</td>\n",
       "      <td>Brigham Young</td>\n",
       "      <td>OLB</td>\n",
       "      <td>Kyle Van Noy</td>\n",
       "      <td>30</td>\n",
       "    </tr>\n",
       "    <tr>\n",
       "      <th>...</th>\n",
       "      <td>...</td>\n",
       "      <td>...</td>\n",
       "      <td>...</td>\n",
       "      <td>...</td>\n",
       "      <td>...</td>\n",
       "      <td>...</td>\n",
       "      <td>...</td>\n",
       "      <td>...</td>\n",
       "      <td>...</td>\n",
       "      <td>...</td>\n",
       "    </tr>\n",
       "    <tr>\n",
       "      <th>402</th>\n",
       "      <td>47933</td>\n",
       "      <td>-0.005200</td>\n",
       "      <td>10</td>\n",
       "      <td>6-3</td>\n",
       "      <td>288</td>\n",
       "      <td>1996-09-26</td>\n",
       "      <td>Texas A&amp;amp;M</td>\n",
       "      <td>DE</td>\n",
       "      <td>Kingsley Keke</td>\n",
       "      <td>403</td>\n",
       "    </tr>\n",
       "    <tr>\n",
       "      <th>405</th>\n",
       "      <td>46098</td>\n",
       "      <td>-0.005938</td>\n",
       "      <td>10</td>\n",
       "      <td>6-4</td>\n",
       "      <td>291</td>\n",
       "      <td>1996-03-11</td>\n",
       "      <td>Florida</td>\n",
       "      <td>DT</td>\n",
       "      <td>Taven Bryan</td>\n",
       "      <td>406</td>\n",
       "    </tr>\n",
       "    <tr>\n",
       "      <th>412</th>\n",
       "      <td>42444</td>\n",
       "      <td>-0.008620</td>\n",
       "      <td>15</td>\n",
       "      <td>6-2</td>\n",
       "      <td>265</td>\n",
       "      <td>1993-08-16</td>\n",
       "      <td>Arkansas</td>\n",
       "      <td>OLB</td>\n",
       "      <td>Trey Flowers</td>\n",
       "      <td>413</td>\n",
       "    </tr>\n",
       "    <tr>\n",
       "      <th>414</th>\n",
       "      <td>40171</td>\n",
       "      <td>-0.009713</td>\n",
       "      <td>12</td>\n",
       "      <td>6-4</td>\n",
       "      <td>309</td>\n",
       "      <td>1990-02-21</td>\n",
       "      <td>Samford</td>\n",
       "      <td>DE</td>\n",
       "      <td>Nicholas Williams</td>\n",
       "      <td>415</td>\n",
       "    </tr>\n",
       "    <tr>\n",
       "      <th>417</th>\n",
       "      <td>47956</td>\n",
       "      <td>-0.014343</td>\n",
       "      <td>6</td>\n",
       "      <td>6-1</td>\n",
       "      <td>240</td>\n",
       "      <td>1996-07-30</td>\n",
       "      <td>North Carolina</td>\n",
       "      <td>OLB</td>\n",
       "      <td>Cole Holcomb</td>\n",
       "      <td>418</td>\n",
       "    </tr>\n",
       "  </tbody>\n",
       "</table>\n",
       "<p>262 rows × 10 columns</p>\n",
       "</div>"
      ],
      "text/plain": [
       "     nflId    metric  n_play height  weight   birthDate           collegeName  \\\n",
       "11   52455  0.071654       7    6-3     279  1998-05-11                Auburn   \n",
       "15   48032  0.066217       6    6-3     284  1996-05-05                Temple   \n",
       "20   53587  0.063581       7    6-3     305         NaN                   NaN   \n",
       "26   43378  0.058777      25    6-2     305  1993-02-07  South Carolina State   \n",
       "29   41269  0.057523       6    6-3     250  1991-03-26         Brigham Young   \n",
       "..     ...       ...     ...    ...     ...         ...                   ...   \n",
       "402  47933 -0.005200      10    6-3     288  1996-09-26         Texas A&amp;M   \n",
       "405  46098 -0.005938      10    6-4     291  1996-03-11               Florida   \n",
       "412  42444 -0.008620      15    6-2     265  1993-08-16              Arkansas   \n",
       "414  40171 -0.009713      12    6-4     309  1990-02-21               Samford   \n",
       "417  47956 -0.014343       6    6-1     240  1996-07-30        North Carolina   \n",
       "\n",
       "    officialPosition        displayName  rank  \n",
       "11                DT    Marlon Davidson    12  \n",
       "15                DE      Michael Dogbe    16  \n",
       "20                DT      Daviyon Nixon    21  \n",
       "26                DT     Javon Hargrave    27  \n",
       "29               OLB       Kyle Van Noy    30  \n",
       "..               ...                ...   ...  \n",
       "402               DE      Kingsley Keke   403  \n",
       "405               DT        Taven Bryan   406  \n",
       "412              OLB       Trey Flowers   413  \n",
       "414               DE  Nicholas Williams   415  \n",
       "417              OLB       Cole Holcomb   418  \n",
       "\n",
       "[262 rows x 10 columns]"
      ]
     },
     "execution_count": 954,
     "metadata": {},
     "output_type": "execute_result"
    }
   ],
   "source": [
    "top = get_top_player_metrics(master_track = all_data, metric_dict = this)\n",
    "top.loc[top.n_play > 5]"
   ]
  },
  {
   "cell_type": "code",
   "execution_count": 942,
   "metadata": {},
   "outputs": [
    {
     "name": "stderr",
     "output_type": "stream",
     "text": [
      "0it [00:00, ?it/s]\n",
      "100%|██████████| 1170/1170 [05:53<00:00,  3.31it/s]\n"
     ]
    }
   ],
   "source": [
    "this = get_player_metrics(2)"
   ]
  },
  {
   "cell_type": "code",
   "execution_count": 943,
   "metadata": {},
   "outputs": [
    {
     "data": {
      "text/plain": [
       "{'53547': [0.09664173026879629, 1],\n",
       " '52852': [0.09654228885968526, 1],\n",
       " '47900': [0.09402313282092413, 1],\n",
       " '53957': [0.0926373465494676, 1],\n",
       " '45302': [0.08885651024488303, 1],\n",
       " '46151': [0.08448825829558902, 3],\n",
       " '44926': [0.08384762693532932, 4],\n",
       " '43343': [0.07912326597649118, 3],\n",
       " '47996': [0.07814658261262454, 1],\n",
       " '53529': [0.07568753709395727, 1],\n",
       " '44818': [0.07547964172230827, 3],\n",
       " '52455': [0.07165372741251232, 7],\n",
       " '52607': [0.0697330060104529, 1],\n",
       " '43516': [0.06885486543178558, 1],\n",
       " '52556': [0.06699898670117062, 5],\n",
       " '48032': [0.06621698477528977, 6],\n",
       " '43407': [0.0660495372536855, 2],\n",
       " '47975': [0.06504235883553823, 5],\n",
       " '44893': [0.06428416470686595, 1],\n",
       " '42376': [0.06401200691858927, 1],\n",
       " '53587': [0.06358078845909663, 7],\n",
       " '42116': [0.06326669355233511, 1],\n",
       " '46618': [0.062082337020408544, 4],\n",
       " '53639': [0.06134926974773407, 1],\n",
       " '38559': [0.060805956025918324, 2],\n",
       " '42370': [0.060768148608365956, 3],\n",
       " '43378': [0.05877747886504414, 25],\n",
       " '47846': [0.05802492797374725, 1],\n",
       " '47892': [0.057814595041175684, 2],\n",
       " '41269': [0.05752273442016709, 6],\n",
       " '52468': [0.05665493639806907, 5],\n",
       " '47800': [0.05546435505218461, 20],\n",
       " '43638': [0.05504421643400318, 9],\n",
       " '42030': [0.054808846435376576, 2],\n",
       " '43356': [0.053288149522047856, 29],\n",
       " '43694': [0.052492915483606344, 11],\n",
       " '52456': [0.05238415601026764, 12],\n",
       " '41249': [0.0520703328638769, 29],\n",
       " '46132': [0.05205277711128562, 3],\n",
       " '53596': [0.05184178501367569, 2],\n",
       " '48476': [0.051074775556723274, 3],\n",
       " '35539': [0.05082357335698816, 17],\n",
       " '53618': [0.050353044437037565, 3],\n",
       " '42497': [0.05016619345949187, 11],\n",
       " '47915': [0.04961223502953847, 1],\n",
       " '52472': [0.049261590507295394, 3],\n",
       " '46191': [0.048766893614114105, 6],\n",
       " '42433': [0.04865661286208802, 3],\n",
       " '40031': [0.04857298155625661, 5],\n",
       " '47804': [0.04790565669536591, 1],\n",
       " '52582': [0.047859165728360284, 10],\n",
       " '43325': [0.047360744794317775, 4],\n",
       " '52481': [0.047156387132116985, 12],\n",
       " '46188': [0.04604973077774048, 1],\n",
       " '53565': [0.04599060837564797, 1],\n",
       " '41239': [0.04559980196926644, 38],\n",
       " '43292': [0.04540207721247487, 21],\n",
       " '47844': [0.04489634398903165, 1],\n",
       " '44863': [0.044735538330968216, 17],\n",
       " '44877': [0.04465738838298291, 35],\n",
       " '46232': [0.044498395669324446, 5],\n",
       " '43791': [0.044464891895317944, 19],\n",
       " '53583': [0.04378547326783941, 3],\n",
       " '46141': [0.04354653760329692, 10],\n",
       " '43332': [0.042751015906172675, 15],\n",
       " '46127': [0.042320260157187775, 4],\n",
       " '43641': [0.04218013808111052, 7],\n",
       " '53530': [0.04183321495850881, 2],\n",
       " '47799': [0.041637461107557935, 25],\n",
       " '37075': [0.041348692797770065, 25],\n",
       " '52542': [0.04126424094041189, 1],\n",
       " '37145': [0.04060130660226178, 35],\n",
       " '45021': [0.04015148238341014, 5],\n",
       " '53601': [0.039789342880249025, 1],\n",
       " '45226': [0.039627490413750834, 8],\n",
       " '41341': [0.03929650334776971, 25],\n",
       " '41786': [0.03924974077046906, 23],\n",
       " '43376': [0.03919824134053546, 4],\n",
       " '35442': [0.03911950823333528, 5],\n",
       " '46521': [0.03906808743874232, 2],\n",
       " '47944': [0.039066482035663784, 30],\n",
       " '46219': [0.03874867335691407, 3],\n",
       " '44976': [0.03873423223221113, 6],\n",
       " '43358': [0.03862728190351032, 18],\n",
       " '52510': [0.03855285527272801, 26],\n",
       " '52539': [0.03854315411863775, 9],\n",
       " '42355': [0.038076000687403556, 10],\n",
       " '44871': [0.03795356314672735, 13],\n",
       " '43455': [0.03772925181789645, 20],\n",
       " '46230': [0.03762804546083014, 4],\n",
       " '41403': [0.0374984457905041, 7],\n",
       " '47796': [0.037256178897166134, 21],\n",
       " '46249': [0.037131251816603476, 11],\n",
       " '44968': [0.036894083319351685, 3],\n",
       " '46081': [0.03673577447758111, 36],\n",
       " '43757': [0.03669270625513079, 3],\n",
       " '44842': [0.03660229908090817, 44],\n",
       " '44838': [0.03638198495095159, 15],\n",
       " '53467': [0.03619342704745406, 15],\n",
       " '46313': [0.03613032379912006, 3],\n",
       " '44837': [0.03593906608838884, 3],\n",
       " '42816': [0.035890670404547735, 3],\n",
       " '42559': [0.0357719455493821, 9],\n",
       " '48462': [0.035647604806580566, 14],\n",
       " '53668': [0.035628706182816106, 11],\n",
       " '43296': [0.03552183338994243, 20],\n",
       " '41336': [0.03551712976142823, 11],\n",
       " '52759': [0.035304021218727374, 2],\n",
       " '46269': [0.03511693607720118, 6],\n",
       " '43319': [0.0351037767620802, 13],\n",
       " '48123': [0.03510344263272292, 29],\n",
       " '35562': [0.03499027843684083, 14],\n",
       " '44813': [0.034924837899894486, 29],\n",
       " '43373': [0.03488185338735264, 2],\n",
       " '44880': [0.03482555339767874, 20],\n",
       " '53624': [0.03461286258043031, 12],\n",
       " '35470': [0.034482258195881126, 14],\n",
       " '37308': [0.03426935862602193, 5],\n",
       " '42480': [0.03400908995733593, 24],\n",
       " '41464': [0.03376122427962242, 22],\n",
       " '46082': [0.03362823265904815, 36],\n",
       " '37841': [0.033607082104072844, 12],\n",
       " '43436': [0.03357737315470988, 24],\n",
       " '42553': [0.03325363129322582, 8],\n",
       " '43405': [0.033015137142947806, 15],\n",
       " '40039': [0.03299676689836714, 3],\n",
       " '35441': [0.03293639057566897, 36],\n",
       " '46123': [0.032929685115814206, 1],\n",
       " '44915': [0.03264107207131305, 39],\n",
       " '52448': [0.03243152563640323, 18],\n",
       " '46086': [0.03233639895915985, 1],\n",
       " '46148': [0.03218300242051553, 31],\n",
       " '52792': [0.03208301057962739, 16],\n",
       " '34465': [0.031952588260173796, 2],\n",
       " '46153': [0.03194893105213459, 10],\n",
       " '44957': [0.031912036121119945, 15],\n",
       " '47917': [0.03167782329005287, 17],\n",
       " '33131': [0.03153879271673369, 42],\n",
       " '47889': [0.03152985530710922, 34],\n",
       " '46185': [0.031141973364751892, 21],\n",
       " '46135': [0.03100056156749989, 20],\n",
       " '47795': [0.03077528207075028, 12],\n",
       " '43333': [0.03064603467880588, 20],\n",
       " '46085': [0.03059951141476631, 4],\n",
       " '53540': [0.03038720423654606, 19],\n",
       " '53930': [0.03017440103648288, 10],\n",
       " '37104': [0.030091142970341392, 36],\n",
       " '47785': [0.03000994525125279, 39],\n",
       " '45011': [0.029988435852859763, 26],\n",
       " '42401': [0.02997491628673649, 28],\n",
       " '38607': [0.029940518221737423, 6],\n",
       " '43301': [0.029913912255140916, 19],\n",
       " '37089': [0.029851628989804514, 21],\n",
       " '40030': [0.029598221363867146, 17],\n",
       " '42826': [0.02946364920098632, 11],\n",
       " '43361': [0.029350925000496717, 11],\n",
       " '45287': [0.02933368037144343, 2],\n",
       " '52665': [0.029307045115235065, 15],\n",
       " '48247': [0.02927932316079515, 7],\n",
       " '44826': [0.02922594918861711, 18],\n",
       " '43321': [0.029190967259933916, 27],\n",
       " '42403': [0.028854841966344816, 23],\n",
       " '48780': [0.028661991909637557, 2],\n",
       " '47973': [0.028526442093508585, 5],\n",
       " '43441': [0.028515260321678906, 26],\n",
       " '47816': [0.02845285644165027, 4],\n",
       " '43503': [0.028352041464965727, 5],\n",
       " '52473': [0.028349673700256227, 4],\n",
       " '53459': [0.028349054576197373, 13],\n",
       " '52436': [0.02817603276680896, 4],\n",
       " '53674': [0.028156379043546495, 3],\n",
       " '42360': [0.028103278527977574, 45],\n",
       " '47788': [0.027989818245085358, 8],\n",
       " '53460': [0.02795436567538705, 29],\n",
       " '39997': [0.02793260164981768, 22],\n",
       " '47792': [0.027821464280021337, 16],\n",
       " '45007': [0.027774939274826608, 11],\n",
       " '43341': [0.02773822375706264, 5],\n",
       " '40042': [0.027625461870515507, 27],\n",
       " '52464': [0.027525615692138673, 1],\n",
       " '40347': [0.02748307686389545, 13],\n",
       " '47854': [0.027098837474879334, 28],\n",
       " '52492': [0.026842590280881744, 9],\n",
       " '46250': [0.02653226277780259, 6],\n",
       " '46307': [0.026441316651287437, 12],\n",
       " '44886': [0.026262738719438464, 25],\n",
       " '38619': [0.026224701392064054, 22],\n",
       " '52592': [0.02616718998789108, 6],\n",
       " '46133': [0.026125196303273073, 16],\n",
       " '47802': [0.026076417892919226, 24],\n",
       " '44974': [0.02606966539701342, 4],\n",
       " '52431': [0.025873624587997846, 4],\n",
       " '38548': [0.02585209747320075, 31],\n",
       " '34654': [0.025651821714860423, 3],\n",
       " '46165': [0.025561697052584754, 9],\n",
       " '42388': [0.025538258946367673, 4],\n",
       " '43372': [0.025504803071310957, 13],\n",
       " '45274': [0.02549201764074232, 29],\n",
       " '37087': [0.025474882899051806, 12],\n",
       " '47878': [0.025426791396066333, 9],\n",
       " '46527': [0.02520804010105856, 11],\n",
       " '46105': [0.025076085991329617, 3],\n",
       " '42349': [0.024991787622338654, 29],\n",
       " '47848': [0.02485624552208495, 22],\n",
       " '46110': [0.024771486790725224, 18],\n",
       " '47790': [0.024657039831322253, 23],\n",
       " '45042': [0.024579569697380066, 1],\n",
       " '43700': [0.02456688756744067, 1],\n",
       " '38551': [0.024520214447864144, 31],\n",
       " '43435': [0.02449739762259797, 8],\n",
       " '44829': [0.024484673707479702, 27],\n",
       " '43787': [0.024355521259497585, 14],\n",
       " '44815': [0.024330003133841926, 9],\n",
       " '37084': [0.02428354257000197, 30],\n",
       " '41449': [0.024042102029296453, 11],\n",
       " '35452': [0.024013075824674542, 22],\n",
       " '43338': [0.02400311602565805, 17],\n",
       " '48599': [0.023956332158249286, 9],\n",
       " '52835': [0.023658908444212017, 6],\n",
       " '52428': [0.023627492308100576, 11],\n",
       " '46457': [0.02353058656056722, 3],\n",
       " '44825': [0.023497451003372413, 21],\n",
       " '46156': [0.02315271302713319, 26],\n",
       " '52587': [0.023075771744523677, 7],\n",
       " '40051': [0.022928208149609646, 12],\n",
       " '44848': [0.022715431862864, 1],\n",
       " '44944': [0.02258717953174451, 9],\n",
       " '46138': [0.022507088132586277, 15],\n",
       " '52546': [0.022437928617000582, 2],\n",
       " '53502': [0.022394270098195432, 18],\n",
       " '52415': [0.022241963472030776, 25],\n",
       " '43316': [0.022202884222220894, 15],\n",
       " '42560': [0.022085081862726785, 14],\n",
       " '45006': [0.021940694053967796, 3],\n",
       " '40000': [0.02193575402100881, 1],\n",
       " '46487': [0.021860849456330867, 22],\n",
       " '41919': [0.02184759375950812, 10],\n",
       " '42535': [0.021819469971134958, 18],\n",
       " '46255': [0.021639702619718464, 27],\n",
       " '43326': [0.021581851099775427, 23],\n",
       " '38588': [0.021387450404157585, 9],\n",
       " '35485': [0.02134065854673584, 8],\n",
       " '40074': [0.021293556230740255, 16],\n",
       " '46214': [0.021215209353585663, 15],\n",
       " '48364': [0.021137404377971375, 2],\n",
       " '46199': [0.02104403065616908, 22],\n",
       " '52640': [0.02103873880611743, 9],\n",
       " '52846': [0.02097642630338669, 5],\n",
       " '35522': [0.02092816960243952, 5],\n",
       " '42365': [0.02073120784015064, 22],\n",
       " '52479': [0.020210931847232834, 23],\n",
       " '43354': [0.020207921218947572, 14],\n",
       " '53053': [0.02003321900968945, 18],\n",
       " '52522': [0.020001580136675984, 6],\n",
       " '42443': [0.019976307494221773, 7],\n",
       " '48544': [0.019915012432406978, 9],\n",
       " '41231': [0.019846962451991416, 19],\n",
       " '46142': [0.01969006861188749, 10],\n",
       " '43775': [0.01948597989590438, 15],\n",
       " '53447': [0.01946855754871736, 19],\n",
       " '38542': [0.01936373950034481, 25],\n",
       " '40825': [0.019296180740996257, 17],\n",
       " '37240': [0.01926635747959782, 23],\n",
       " '41263': [0.019240200997858673, 25],\n",
       " '46416': [0.01911916088647943, 9],\n",
       " '42031': [0.01877357922390931, 16],\n",
       " '44999': [0.018708208933043383, 9],\n",
       " '39959': [0.018703213473951964, 13],\n",
       " '46205': [0.018660041950112394, 10],\n",
       " '44859': [0.018555695880098307, 16],\n",
       " '47786': [0.018435949934767437, 18],\n",
       " '41338': [0.01838354500276702, 2],\n",
       " '46259': [0.018367237100998562, 8],\n",
       " '53461': [0.01835795689627852, 12],\n",
       " '44938': [0.01829986991308019, 31],\n",
       " '42331': [0.018205510220378324, 7],\n",
       " '43411': [0.017815822296672397, 5],\n",
       " '44851': [0.017806679022217557, 3],\n",
       " '52605': [0.017700474398149237, 7],\n",
       " '41363': [0.0175439292449841, 18],\n",
       " '53611': [0.01741946702993615, 5],\n",
       " '43298': [0.01736830417253048, 22],\n",
       " '37317': [0.017219556544138037, 2],\n",
       " '41227': [0.017217093680208722, 26],\n",
       " '38556': [0.017006853631064207, 30],\n",
       " '53876': [0.016925769585829517, 3],\n",
       " '46264': [0.016676368985478956, 27],\n",
       " '52446': [0.01667186113292655, 12],\n",
       " '46197': [0.01664646869402989, 32],\n",
       " '53441': [0.01661419870371343, 13],\n",
       " '48145': [0.016392571182518915, 7],\n",
       " '47890': [0.016201888814016626, 4],\n",
       " '44892': [0.016138536281662143, 14],\n",
       " '44834': [0.01602973256872975, 7],\n",
       " '42465': [0.01600084413780647, 7],\n",
       " '35493': [0.015979755898777627, 19],\n",
       " '53935': [0.01570091744263967, 1],\n",
       " '53450': [0.015639868321174828, 17],\n",
       " '52410': [0.015117233460443837, 38],\n",
       " '43388': [0.014969986577828725, 2],\n",
       " '42431': [0.01495783021847693, 24],\n",
       " '41915': [0.014902805402048172, 37],\n",
       " '46204': [0.014891154946065912, 22],\n",
       " '45395': [0.01476213936176565, 2],\n",
       " '47867': [0.014563841025034588, 5],\n",
       " '42346': [0.014487713666230867, 21],\n",
       " '47809': [0.014250249256535999, 33],\n",
       " '53073': [0.014214570287272509, 11],\n",
       " '37097': [0.01414190183974196, 20],\n",
       " '34777': [0.014110417231036294, 13],\n",
       " '41243': [0.014071938403778605, 6],\n",
       " '38667': [0.013917008052262007, 28],\n",
       " '52578': [0.013774418513938114, 15],\n",
       " '40166': [0.013739512032932706, 3],\n",
       " '53621': [0.013534357510934169, 12],\n",
       " '38555': [0.013436655604686494, 6],\n",
       " '42375': [0.01342157718263167, 17],\n",
       " '46144': [0.01315998329713847, 8],\n",
       " '35449': [0.013122726631348378, 33],\n",
       " '52416': [0.013008322876582382, 7],\n",
       " '42389': [0.012958896847871633, 1],\n",
       " '52462': [0.012921746714456832, 8],\n",
       " '44828': [0.012714704995354015, 2],\n",
       " '47934': [0.012393331205977213, 14],\n",
       " '43377': [0.012254226094200498, 10],\n",
       " '46117': [0.012234489077176804, 9],\n",
       " '52506': [0.012094171357363476, 9],\n",
       " '47016': [0.011977123413924817, 4],\n",
       " '47811': [0.0119045366007429, 22],\n",
       " '52626': [0.011101029074489807, 4],\n",
       " '42427': [0.010923323097456248, 7],\n",
       " '44955': [0.01088517944281607, 20],\n",
       " '46083': [0.010779391780127713, 15],\n",
       " '41502': [0.010755801863140528, 3],\n",
       " '46438': [0.01040663288699256, 6],\n",
       " '39976': [0.010374604558003419, 4],\n",
       " '42467': [0.010308699094586904, 6],\n",
       " '43350': [0.010158220063085142, 1],\n",
       " '52563': [0.010118345801646892, 1],\n",
       " '43854': [0.010082613655825294, 5],\n",
       " '44867': [0.010029100147410635, 14],\n",
       " '46146': [0.010004145038856122, 40],\n",
       " '47939': [0.00956238801090863, 24],\n",
       " '53479': [0.009526741442522302, 18],\n",
       " '53504': [0.009513520898596719, 23],\n",
       " '47832': [0.009392719275649936, 5],\n",
       " '48198': [0.009231229706742299, 10],\n",
       " '43426': [0.008960646847840854, 12],\n",
       " '35454': [0.008723727002087902, 43],\n",
       " '47948': [0.008704221447308858, 5],\n",
       " '52830': [0.008687154111408052, 4],\n",
       " '44888': [0.008453872005144756, 2],\n",
       " '52971': [0.007908106843630473, 1],\n",
       " '42381': [0.007863420248031616, 9],\n",
       " '46212': [0.007830965555744406, 3],\n",
       " '46958': [0.007335686832120568, 5],\n",
       " '44174': [0.007224242547234634, 13],\n",
       " '52496': [0.006897792144991511, 13],\n",
       " '47872': [0.006373641888300577, 1],\n",
       " '43335': [0.006106936130236246, 7],\n",
       " '40095': [0.005691758900381769, 14],\n",
       " '44991': [0.005630847017569314, 7],\n",
       " '52435': [0.0052679725700900655, 4],\n",
       " '43308': [0.004841538798551005, 14],\n",
       " '52650': [0.004791420167056685, 6],\n",
       " '48089': [0.0047713824651527586, 28],\n",
       " '52585': [0.004384633731447763, 25],\n",
       " '46175': [0.0033803365851714936, 4],\n",
       " '48027': [0.002798958935520866, 2],\n",
       " '46077': [0.0027857891550763137, 6],\n",
       " '42543': [0.0024927188952763874, 1],\n",
       " '52482': [0.0023963061246004974, 2],\n",
       " '41348': [0.0023589799801508587, 1],\n",
       " '53438': [0.0019459962844848634, 1],\n",
       " '39998': [0.0016908834653872034, 4],\n",
       " '43420': [0.001629228898188875, 3],\n",
       " '46091': [0.0014895436010862653, 1],\n",
       " '52637': [0.0008932940319156884, 15],\n",
       " '41376': [0.0008547921975453694, 1],\n",
       " '53501': [0.0006670793746611326, 9],\n",
       " '53445': [0.0005143831883157986, 3],\n",
       " '52641': [0.000284882805965565, 5],\n",
       " '53481': [0.0002652634822186968, 4],\n",
       " '48537': [-0.00010175581667241393, 10],\n",
       " '52453': [-0.0002759188413619995, 1],\n",
       " '48520': [-0.0007740888330671526, 3],\n",
       " '40253': [-0.0010524802172950365, 3],\n",
       " '44847': [-0.001247450135986212, 24],\n",
       " '48268': [-0.0022649296869834256, 2],\n",
       " '42436': [-0.0022991901406875024, 1],\n",
       " '47882': [-0.0025644786419376495, 3],\n",
       " '38577': [-0.0027048741446601024, 3],\n",
       " '38544': [-0.0031264481941858926, 10],\n",
       " '47868': [-0.0033572727891346033, 6],\n",
       " '43306': [-0.0038230719092564704, 2],\n",
       " '45009': [-0.0038300127307455104, 14],\n",
       " '52624': [-0.004060766100883484, 1],\n",
       " '41300': [-0.004314511517683664, 2],\n",
       " '42470': [-0.004586787273486455, 1],\n",
       " '42368': [-0.004874425347034749, 8],\n",
       " '52525': [-0.004932677004699069, 20],\n",
       " '47899': [-0.005132673978805542, 1],\n",
       " '47933': [-0.005200308263301848, 10],\n",
       " '47860': [-0.0052819935604929945, 2],\n",
       " '53448': [-0.005811078548431395, 5],\n",
       " '46098': [-0.005937730192505712, 10],\n",
       " '52979': [-0.006333900852636857, 4],\n",
       " '42390': [-0.007415268908847462, 1],\n",
       " '53602': [-0.00784862885872523, 3],\n",
       " '43456': [-0.0080340971549352, 1],\n",
       " '44869': [-0.00816565752029419, 4],\n",
       " '44872': [-0.008268700947179719, 2],\n",
       " '42444': [-0.008619691147669225, 15],\n",
       " '46139': [-0.008753613624079474, 2],\n",
       " '40171': [-0.009713467330386423, 12],\n",
       " '48671': [-0.010755100349585215, 2],\n",
       " '43404': [-0.014255443215370178, 1],\n",
       " '47956': [-0.01434286695538145, 6],\n",
       " '53679': [-0.014599723910164631, 3],\n",
       " '47855': [-0.014700199166933695, 1],\n",
       " '42935': [-0.01707128882408142, 1],\n",
       " '53487': [-0.017723084489504496, 2],\n",
       " '43323': [-0.02092805937642143, 2],\n",
       " '48565': [-0.02097271680831909, 1],\n",
       " '52518': [-0.02252719501654307, 2],\n",
       " '41279': [-0.023364219042871677, 4],\n",
       " '43062': [-0.027022342880566916, 1],\n",
       " '46122': [-0.027451554934183758, 1],\n",
       " '52663': [-0.040292807420094806, 1],\n",
       " '53573': [-0.04240315986005054, 4],\n",
       " '47871': [-0.042560803890228274, 1],\n",
       " '46088': [-0.08108637630939483, 1],\n",
       " '43330': [-0.09215152661005656, 1],\n",
       " '53663': [-0.10857203304767608, 1]}"
      ]
     },
     "execution_count": 943,
     "metadata": {},
     "output_type": "execute_result"
    }
   ],
   "source": [
    "this"
   ]
  },
  {
   "cell_type": "code",
   "execution_count": null,
   "metadata": {},
   "outputs": [],
   "source": []
  },
  {
   "cell_type": "code",
   "execution_count": null,
   "metadata": {},
   "outputs": [],
   "source": [
    "\n"
   ]
  },
  {
   "cell_type": "code",
   "execution_count": null,
   "metadata": {},
   "outputs": [],
   "source": []
  },
  {
   "cell_type": "code",
   "execution_count": 468,
   "metadata": {},
   "outputs": [
    {
     "name": "stdout",
     "output_type": "stream",
     "text": [
      "Percent of player play disruptions: 0.022958343514613237\n",
      "Percent of team play disruptions: 0.37583265163024426\n"
     ]
    }
   ],
   "source": [
    "play_dets = all_data.play_details_df\n",
    "play_dets['disrupt'] = play_dets.pff_hit + play_dets.pff_hurry + play_dets.pff_sack\n",
    "print( f'Percent of player play disruptions: {play_dets.disrupt.sum() / len(play_dets.disrupt)}')\n",
    "team_dets = play_dets.groupby('playId').agg({'disrupt' : [sum]})\n",
    "team_dets.columns = [\"_\".join(x) for x in np.array(team_dets.columns).ravel()]\n",
    "team_dets = team_dets.reset_index()\n",
    "print( f'Percent of team play disruptions: {len(team_dets.loc[team_dets.disrupt_sum > 0]) / len(team_dets)}')"
   ]
  },
  {
   "cell_type": "code",
   "execution_count": null,
   "metadata": {},
   "outputs": [],
   "source": []
  },
  {
   "cell_type": "code",
   "execution_count": null,
   "metadata": {},
   "outputs": [],
   "source": [
    "# sack / hurry / hit are dependent on both pass coverage and lineman and we only care about linemen. \n",
    "# Instead of using sack / hit /hurry, use P(Sack, Hurry, Hit @ time t) given conditions for team\n",
    "# to evaluate players, need some sort of metric for 'contribution to P(Sack, Hurry, Hit @ time t) on play'\n",
    "# to do so try to do  or sommin    [ P(Sack, Hurry, Hit @ time t replacing player with rusher average) / P(Sack, Hurry, Hit @ time t) ] - P(Sack, Hurry, Hit @ time t)\n",
    "\n",
    "\n",
    "\n",
    "\n",
    "# new idea: since there is no team level time of sack\n",
    "# find model that we can track each player prob of hit/hurry/sack \n",
    "# each player route will have a prob of sack at time t. \n",
    "# to compare use average route stats in similar situation: note may have to import more data (ie. play type etc)\n",
    "\n",
    "\n",
    "# also: need to create qb_metric for 'facing rusher' "
   ]
  },
  {
   "cell_type": "code",
   "execution_count": null,
   "metadata": {},
   "outputs": [],
   "source": [
    "\n",
    "\n"
   ]
  },
  {
   "cell_type": "code",
   "execution_count": null,
   "metadata": {},
   "outputs": [],
   "source": []
  },
  {
   "cell_type": "code",
   "execution_count": null,
   "metadata": {},
   "outputs": [],
   "source": [
    "\n"
   ]
  },
  {
   "cell_type": "code",
   "execution_count": null,
   "metadata": {},
   "outputs": [],
   "source": [
    "\n",
    "\n",
    "\n",
    "\n",
    "\n",
    "\n",
    "\n",
    "\n",
    "\n",
    "\n"
   ]
  },
  {
   "cell_type": "code",
   "execution_count": null,
   "metadata": {},
   "outputs": [],
   "source": []
  },
  {
   "cell_type": "code",
   "execution_count": null,
   "metadata": {},
   "outputs": [],
   "source": []
  },
  {
   "cell_type": "code",
   "execution_count": null,
   "metadata": {},
   "outputs": [],
   "source": []
  },
  {
   "cell_type": "code",
   "execution_count": null,
   "metadata": {},
   "outputs": [],
   "source": [
    "import matplotlib.pyplot as plt\n",
    "plot_overall_avgs = all_dist_dfs.query(\"time_after_snap > 0\").groupby(by = ['time_after_snap']).mean().reset_index()\n",
    "\n",
    "plt.title = \"Average Rusher Distance From QB by Seconds After Snap\"\n",
    "plt.xlabel = \"Seconds After Snap\"\n",
    "plt.plot('time_after_snap',  'rusher_distance_from_qb', data = plot_overall_avgs, linestyle='dashed')\n",
    "plt.ylabel = \"Rusher Distance From QB\"\n",
    "plt.show()"
   ]
  },
  {
   "cell_type": "code",
   "execution_count": null,
   "metadata": {},
   "outputs": [],
   "source": []
  },
  {
   "cell_type": "code",
   "execution_count": null,
   "metadata": {},
   "outputs": [],
   "source": []
  },
  {
   "cell_type": "code",
   "execution_count": null,
   "metadata": {},
   "outputs": [],
   "source": [
    "### want to get groups of players with similar starting positions: conlusion: just use number of blockers on play for now, maybe add in weigt of blocker later\n",
    "\n",
    "# this_week_starting_pos = all_data.training_data_individual.get('1')\n",
    "# this_week_starting_pos = this_week_training_individual.loc[this_week_training_individual.time_after_snap == 0, ['playId', 'nflId', 'rusher_distance_from_qb', 'y']]\n",
    "\n",
    "\n",
    "\n",
    "# gmm_train = this_week_starting_pos.drop(['playId', 'nflId'], axis = 1)\n",
    "# gmm = mixture.GaussianMixture(n_components=2).fit(gmm_train)\n",
    "# gmm_labels = gmm.predict(gmm_train).astype(str)\n",
    "\n",
    "# this_week_starting_pos['starting_pos_class'] = gmm_labels\n",
    "# this_week_starting_pos.groupby('starting_pos_class').groups.items()\n",
    "# plot_df = this_week_starting_pos.drop(['playId', 'nflId'], axis = 1).reset_index(drop = 1)\n",
    "# plot_df.starting_pos_class.unique()\n",
    "# plot_df\n",
    "\n",
    "# groups = plot_df.groupby('starting_pos_class')\n",
    "# # Plot\n",
    "# fig, ax = plt.subplots()\n",
    "# ax.margins(0.05) # Optional, just adds 5% padding to the autoscaling\n",
    "# for name, group in groups:\n",
    "#     ax.plot(group.rusher_distance_from_qb, group.y, marker='o', linestyle='', ms=12, label=name)\n",
    "# ax.legend()\n",
    "\n",
    "# plt.show()\n",
    "\n",
    "# ret_df = this_week_starting_pos.loc[:, ['playId', 'nflId', 'starting_pos_class']]\n",
    "# ret_df"
   ]
  },
  {
   "cell_type": "code",
   "execution_count": null,
   "metadata": {},
   "outputs": [],
   "source": []
  }
 ],
 "metadata": {
  "kernelspec": {
   "display_name": "Python 3.9.12",
   "language": "python",
   "name": "python3"
  },
  "language_info": {
   "codemirror_mode": {
    "name": "ipython",
    "version": 3
   },
   "file_extension": ".py",
   "mimetype": "text/x-python",
   "name": "python",
   "nbconvert_exporter": "python",
   "pygments_lexer": "ipython3",
   "version": "3.10.6"
  },
  "orig_nbformat": 4,
  "vscode": {
   "interpreter": {
    "hash": "8b5140b98f9aa636ad904647e184ddf94a8c49b25e448223e4f659e3845abf7f"
   }
  }
 },
 "nbformat": 4,
 "nbformat_minor": 2
}
