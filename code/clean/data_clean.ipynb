{
 "cells": [
  {
   "cell_type": "code",
   "execution_count": 718,
   "metadata": {},
   "outputs": [],
   "source": [
    "import os\n",
    "\n",
    "proj_dir = '/Users/nickbachelder/Desktop/Kaggle/Linemen'\n",
    "os.chdir( os.path.join(proj_dir, 'code/objects') )\n",
    "\n",
    "%run load_modules.ipynb\n",
    "%run tracking_objects.ipynb"
   ]
  },
  {
   "cell_type": "code",
   "execution_count": 719,
   "metadata": {},
   "outputs": [
    {
     "name": "stdout",
     "output_type": "stream",
     "text": [
      "Warning: Your Kaggle API key is readable by other users on this system! To fix this, you can run 'chmod 600 /Users/nickbachelder/.kaggle/kaggle.json'\n",
      "Downloading nfl-big-data-bowl-2023.zip to /Users/nickbachelder/Desktop/Kaggle/Linemen/data\n"
     ]
    },
    {
     "name": "stderr",
     "output_type": "stream",
     "text": [
      " 99%|█████████▉| 171M/172M [00:13<00:00, 14.0MB/s] "
     ]
    },
    {
     "name": "stdout",
     "output_type": "stream",
     "text": [
      "\n",
      "Archive:  /Users/nickbachelder/Desktop/Kaggle/Linemen/data/nfl-big-data-bowl-2023.zip\n",
      "  inflating: games.csv               \n",
      "  inflating: pffScoutingData.csv     \n",
      "  inflating: players.csv             \n",
      "  inflating: plays.csv               \n",
      "  inflating: week1.csv               "
     ]
    },
    {
     "name": "stderr",
     "output_type": "stream",
     "text": [
      "100%|██████████| 172M/172M [00:13<00:00, 13.2MB/s]\n"
     ]
    },
    {
     "name": "stdout",
     "output_type": "stream",
     "text": [
      "\n",
      "  inflating: week2.csv               \n",
      "  inflating: week3.csv               \n",
      "  inflating: week4.csv               \n",
      "  inflating: week5.csv               \n",
      "  inflating: week6.csv               \n",
      "  inflating: week7.csv               \n",
      "  inflating: week8.csv               \n"
     ]
    }
   ],
   "source": [
    "data_dir = os.path.join(proj_dir, 'data' )\n",
    "os.chdir( proj_dir )\n",
    "os.system(\"rm -rf {}\".format( data_dir ))\n",
    "os.system('mkdir data')\n",
    "os.chdir( data_dir )\n",
    "os.system(\"kaggle competitions download -c nfl-big-data-bowl-2023\")\n",
    "os.system( 'unzip {}.zip'.format( os.path.join(data_dir, 'nfl-big-data-bowl-2023')) )\n",
    "\n",
    "curr_cd = os.getcwd()\n",
    "files = [x for x in os.listdir(curr_cd) if os.path.isfile(os.path.join(curr_cd, x))]\n",
    "\n",
    "player_files = [os.path.join(curr_cd, x) for x in files if x.endswith('players.csv')]\n",
    "player_tracking_files = [os.path.join(curr_cd, x) for x in files if x.startswith('week')]\n",
    "play_details_files = [os.path.join(curr_cd, x) for x in files if x.endswith('ScoutingData.csv')]\n",
    "play_info_files = [os.path.join(curr_cd, x) for x in files if x.endswith('plays.csv')]\n"
   ]
  },
  {
   "cell_type": "code",
   "execution_count": 730,
   "metadata": {},
   "outputs": [],
   "source": [
    "all_data = master_track(track_paths = player_tracking_files, \n",
    "                            play_info_path = play_info_files[0],\n",
    "                            play_details_path = play_details_files[0],\n",
    "                            players_path = player_files[0])"
   ]
  },
  {
   "cell_type": "code",
   "execution_count": 731,
   "metadata": {},
   "outputs": [
    {
     "name": "stdout",
     "output_type": "stream",
     "text": [
      "Getting week 1 training data\n"
     ]
    },
    {
     "name": "stderr",
     "output_type": "stream",
     "text": [
      "100%|██████████| 1170/1170 [05:41<00:00,  3.43it/s]\n"
     ]
    },
    {
     "name": "stdout",
     "output_type": "stream",
     "text": [
      "Getting week 2 training data\n"
     ]
    },
    {
     "name": "stderr",
     "output_type": "stream",
     "text": [
      "100%|██████████| 1062/1062 [05:22<00:00,  3.30it/s]\n"
     ]
    },
    {
     "name": "stdout",
     "output_type": "stream",
     "text": [
      "Done\n"
     ]
    }
   ],
   "source": [
    "all_data.load_training_data(week = 3)"
   ]
  },
  {
   "cell_type": "code",
   "execution_count": 740,
   "metadata": {},
   "outputs": [
    {
     "name": "stdout",
     "output_type": "stream",
     "text": [
      "Getting week 1 average metrics by position and blocker number\n",
      "Getting week 2 average metrics by position and blocker number\n",
      "Done\n"
     ]
    }
   ],
   "source": [
    "all_data.get_averages_up_to_week(week = 3)"
   ]
  },
  {
   "cell_type": "code",
   "execution_count": 741,
   "metadata": {},
   "outputs": [
    {
     "name": "stdout",
     "output_type": "stream",
     "text": [
      "Getting week 1 normalized training data\n"
     ]
    },
    {
     "name": "stderr",
     "output_type": "stream",
     "text": [
      "100%|██████████| 1170/1170 [00:00<00:00, 4180.06it/s]"
     ]
    },
    {
     "name": "stdout",
     "output_type": "stream",
     "text": [
      "Length train : 936\n",
      "Length test : 234\n"
     ]
    },
    {
     "name": "stderr",
     "output_type": "stream",
     "text": [
      "\n"
     ]
    }
   ],
   "source": [
    "# figure out where these issues are coming from later and fix\n",
    "\n",
    "all_dat_labels = all_data.get_rush_sequences_labels(week = 2, normalize = True)\n",
    "\n",
    "training_dat, test_dat = train_test_split(all_dat_labels, test_size = 0.2)\n",
    "\n",
    "print(f'Length train : {len(training_dat)}')\n",
    "print(f'Length test : {len(test_dat)}')"
   ]
  },
  {
   "cell_type": "code",
   "execution_count": 743,
   "metadata": {},
   "outputs": [
    {
     "name": "stdout",
     "output_type": "stream",
     "text": [
      "Epoch 0\n",
      "---------\n",
      "Overall Train loss: 0.6686985743673224 , Overall Train AUC: 0.5001083554557818\n",
      "Train loss for period 1: 0.6711436478715194 , Train AUC for period 1: 0.4926470974105802\n",
      "Train loss for period 2: 0.6711002682384691 , Train AUC for period 2: 0.48462198552957003\n",
      "Train loss for period 3: 0.6708800416243704 , Train AUC for period 3: 0.485457460920607\n",
      "Train loss for period 4: 0.6690922034414191 , Train AUC for period 4: 0.4933330093926598\n",
      "Train loss for period 5: 0.6660240512145194 , Train AUC for period 5: 0.5151317547704314\n",
      "Train loss for period 6: 0.6639512212652909 , Train AUC for period 6: 0.5316737204748322\n",
      "Overall test loss: 0.669670021533966 , Overall test AUC: 0.5547057643211489\n",
      "Test loss for period 1: 0.6708268642425537 , Test AUC for period 1: 0.5158964112810266\n",
      "Test loss for period 2: 0.6742486357688904 , Test AUC for period 2: 0.5463951433182203\n",
      "Test loss for period 3: 0.6741091012954712 , Test AUC for period 3: 0.528314762160916\n",
      "Test loss for period 4: 0.6731336832046508 , Test AUC for period 4: 0.5014616153077691\n",
      "Test loss for period 5: 0.6660027027130127 , Test AUC for period 5: 0.6071682163989855\n",
      "Test loss for period 6: 0.6596994519233703 , Test AUC for period 6: 0.7214447091370169\n",
      "\n",
      "Epoch 1\n",
      "---------\n",
      "Overall Train loss: 0.6570333242416382 , Overall Train AUC: 0.5664608509597553\n",
      "Train loss for period 1: 0.662764991584577 , Train AUC for period 1: 0.5215335351483729\n",
      "Train loss for period 2: 0.6624526350121749 , Train AUC for period 2: 0.5301005349880223\n",
      "Train loss for period 3: 0.6608241325930545 , Train AUC for period 3: 0.5418019523904392\n",
      "Train loss for period 4: 0.6570942401885986 , Train AUC for period 4: 0.5663343359297178\n",
      "Train loss for period 5: 0.6517871900608665 , Train AUC for period 5: 0.6119479686490217\n",
      "Train loss for period 6: 0.6472768438489813 , Train AUC for period 6: 0.6473169451746608\n",
      "Overall test loss: 0.6630668044090271 , Overall test AUC: 0.576185011569627\n",
      "Test loss for period 1: 0.6676990628242493 , Test AUC for period 1: 0.5285545224006762\n",
      "Test loss for period 2: 0.6671156167984009 , Test AUC for period 2: 0.5601967263505725\n",
      "Test loss for period 3: 0.6671659588813782 , Test AUC for period 3: 0.5709767155921002\n",
      "Test loss for period 4: 0.6678999781608581 , Test AUC for period 4: 0.536700222854069\n",
      "Test loss for period 5: 0.6590267896652222 , Test AUC for period 5: 0.6195773457311919\n",
      "Test loss for period 6: 0.6494932293891906 , Test AUC for period 6: 0.7455652040267424\n",
      "\n",
      "Epoch 2\n",
      "---------\n",
      "Overall Train loss: 0.6552118815873799 , Overall Train AUC: 0.5749152139277213\n",
      "Train loss for period 1: 0.6658006341833818 , Train AUC for period 1: 0.5221970952239807\n",
      "Train loss for period 2: 0.6668887232479296 , Train AUC for period 2: 0.5283162697583564\n",
      "Train loss for period 3: 0.6631060932811937 , Train AUC for period 3: 0.5431656130496261\n",
      "Train loss for period 4: 0.6557990563543219 , Train AUC for period 4: 0.5708128805290599\n",
      "Train loss for period 5: 0.6447078303286904 , Train AUC for period 5: 0.6232016676465872\n",
      "Train loss for period 6: 0.6349689678141945 , Train AUC for period 6: 0.6758872492091799\n",
      "Overall test loss: 0.664208197593689 , Overall test AUC: 0.5826605018912712\n",
      "Test loss for period 1: 0.665408480167389 , Test AUC for period 1: 0.5341274110504879\n",
      "Test loss for period 2: 0.6658435702323914 , Test AUC for period 2: 0.5632244678398525\n",
      "Test loss for period 3: 0.6680175065994263 , Test AUC for period 3: 0.5874863597940521\n",
      "Test loss for period 4: 0.6719406843185425 , Test AUC for period 4: 0.5610328133405056\n",
      "Test loss for period 5: 0.6630499362945557 , Test AUC for period 5: 0.624268039652655\n",
      "Test loss for period 6: 0.6509889125823974 , Test AUC for period 6: 0.7429339890878353\n",
      "\n",
      "Epoch 3\n",
      "---------\n",
      "Overall Train loss: 0.6510904682310004 , Overall Train AUC: 0.5891422536876596\n",
      "Train loss for period 1: 0.663572116902 , Train AUC for period 1: 0.5209617150715018\n",
      "Train loss for period 2: 0.6633038332587794 , Train AUC for period 2: 0.5273518335851972\n",
      "Train loss for period 3: 0.6595628387049625 , Train AUC for period 3: 0.5487480502820714\n",
      "Train loss for period 4: 0.6516836379703722 , Train AUC for period 4: 0.5901672019786297\n",
      "Train loss for period 5: 0.6395353329809088 , Train AUC for period 5: 0.6561709240569682\n",
      "Train loss for period 6: 0.6288851123107108 , Train AUC for period 6: 0.7163041608559809\n",
      "Overall test loss: 0.6599512696266174 , Overall test AUC: 0.5945086110470725\n",
      "Test loss for period 1: 0.6701701760292054 , Test AUC for period 1: 0.5357872896334435\n",
      "Test loss for period 2: 0.6693321228027344 , Test AUC for period 2: 0.5681610696995313\n",
      "Test loss for period 3: 0.6680105805397034 , Test AUC for period 3: 0.5871912702681933\n",
      "Test loss for period 4: 0.6661223649978638 , Test AUC for period 4: 0.5694920464151234\n",
      "Test loss for period 5: 0.6504346489906311 , Test AUC for period 5: 0.6394712979328363\n",
      "Test loss for period 6: 0.6356377720832824 , Test AUC for period 6: 0.7397187427956659\n",
      "\n",
      "Epoch 4\n",
      "---------\n",
      "Overall Train loss: 0.6486791717378717 , Overall Train AUC: 0.5991399105167879\n",
      "Train loss for period 1: 0.6655850630057486 , Train AUC for period 1: 0.5269730173616004\n",
      "Train loss for period 2: 0.6657070203831321 , Train AUC for period 2: 0.5376579089305584\n",
      "Train loss for period 3: 0.6597697923057958 , Train AUC for period 3: 0.5651581397382883\n",
      "Train loss for period 4: 0.6491208358814842 , Train AUC for period 4: 0.6038715445653283\n",
      "Train loss for period 5: 0.6333597678887216 , Train AUC for period 5: 0.6643272319107478\n",
      "Train loss for period 6: 0.6185325258656552 , Train AUC for period 6: 0.7222923337819912\n",
      "Overall test loss: 0.6600712180137634 , Overall test AUC: 0.5956509729586652\n",
      "Test loss for period 1: 0.6668752312660218 , Test AUC for period 1: 0.5391654499346807\n",
      "Test loss for period 2: 0.6666080951690674 , Test AUC for period 2: 0.5666979174671483\n",
      "Test loss for period 3: 0.6665579557418824 , Test AUC for period 3: 0.5927180511795896\n",
      "Test loss for period 4: 0.669589638710022 , Test AUC for period 4: 0.580594789825559\n",
      "Test loss for period 5: 0.6545210361480713 , Test AUC for period 5: 0.6510013063859217\n",
      "Test loss for period 6: 0.6362752914428711 , Test AUC for period 6: 0.7457711519249981\n",
      "\n",
      "Epoch 5\n",
      "---------\n",
      "Overall Train loss: 0.6479133869472303 , Overall Train AUC: 0.6075321281660477\n",
      "Train loss for period 1: 0.6664209114877802 , Train AUC for period 1: 0.5334364112556427\n",
      "Train loss for period 2: 0.6651616629801298 , Train AUC for period 2: 0.5451979844411294\n",
      "Train loss for period 3: 0.6591353510555468 , Train AUC for period 3: 0.5685817715343612\n",
      "Train loss for period 4: 0.6489198584305612 , Train AUC for period 4: 0.6064528982162207\n",
      "Train loss for period 5: 0.6319237476901004 , Train AUC for period 5: 0.6696430983629658\n",
      "Train loss for period 6: 0.6159186645558006 , Train AUC for period 6: 0.7272925524419458\n",
      "Overall test loss: 0.6590018510818482 , Overall test AUC: 0.6001677382446613\n",
      "Test loss for period 1: 0.6656715273857117 , Test AUC for period 1: 0.5427249673403519\n",
      "Test loss for period 2: 0.6649764895439148 , Test AUC for period 2: 0.5699254591562284\n",
      "Test loss for period 3: 0.6649128675460816 , Test AUC for period 3: 0.5929424421732115\n",
      "Test loss for period 4: 0.6679054021835327 , Test AUC for period 4: 0.5770475678167986\n",
      "Test loss for period 5: 0.6536705732345581 , Test AUC for period 5: 0.6544931991085836\n",
      "Test loss for period 6: 0.6368741273880005 , Test AUC for period 6: 0.751190348113425\n",
      "\n",
      "Epoch 6\n",
      "---------\n",
      "Overall Train loss: 0.6487746834754944 , Overall Train AUC: 0.5954492112314551\n",
      "Train loss for period 1: 0.667458082500257 , Train AUC for period 1: 0.5207116652656233\n",
      "Train loss for period 2: 0.6673168696855244 , Train AUC for period 2: 0.5318138572101906\n",
      "Train loss for period 3: 0.6610462445961801 , Train AUC for period 3: 0.5525450560984262\n",
      "Train loss for period 4: 0.6507830588441146 , Train AUC for period 4: 0.589749124145404\n",
      "Train loss for period 5: 0.632182306364963 , Train AUC for period 5: 0.6569650970121332\n",
      "Train loss for period 6: 0.6138614510235033 , Train AUC for period 6: 0.720318757622729\n",
      "Overall test loss: 0.6574095249176025 , Overall test AUC: 0.6027823458592689\n",
      "Test loss for period 1: 0.6644624471664429 , Test AUC for period 1: 0.5451440866825482\n",
      "Test loss for period 2: 0.6643400430679322 , Test AUC for period 2: 0.5707246599554292\n",
      "Test loss for period 3: 0.665078854560852 , Test AUC for period 3: 0.593369707215861\n",
      "Test loss for period 4: 0.6672921299934387 , Test AUC for period 4: 0.5808929532006455\n",
      "Test loss for period 5: 0.6515309810638428 , Test AUC for period 5: 0.6578990240528703\n",
      "Test loss for period 6: 0.6317528247833252 , Test AUC for period 6: 0.7572120187504804\n",
      "\n",
      "Epoch 7\n",
      "---------\n",
      "Overall Train loss: 0.6440243062220121 , Overall Train AUC: 0.6112384953819557\n",
      "Train loss for period 1: 0.6686707076273466 , Train AUC for period 1: 0.5324057940028863\n",
      "Train loss for period 2: 0.6665261513308475 , Train AUC for period 2: 0.5391824061341406\n",
      "Train loss for period 3: 0.6598198978524459 , Train AUC for period 3: 0.5626705669123757\n",
      "Train loss for period 4: 0.6468140357419064 , Train AUC for period 4: 0.6063510512684707\n",
      "Train loss for period 5: 0.6236143551374737 , Train AUC for period 5: 0.681031686256979\n",
      "Train loss for period 6: 0.5987007806175634 , Train AUC for period 6: 0.7521896607855237\n",
      "Overall test loss: 0.6510804057121277 , Overall test AUC: 0.6073406081098389\n",
      "Test loss for period 1: 0.6713644146919251 , Test AUC for period 1: 0.5475416890801507\n",
      "Test loss for period 2: 0.6664590477943421 , Test AUC for period 2: 0.5735771920387305\n",
      "Test loss for period 3: 0.6630903124809265 , Test AUC for period 3: 0.5928471528471528\n",
      "Test loss for period 4: 0.661492133140564 , Test AUC for period 4: 0.5858941058941058\n",
      "Test loss for period 5: 0.6365186929702759 , Test AUC for period 5: 0.6607699992315378\n",
      "Test loss for period 6: 0.6075578689575195 , Test AUC for period 6: 0.752653500345808\n",
      "\n",
      "Epoch 8\n",
      "---------\n",
      "Overall Train loss: 0.6412069107356825 , Overall Train AUC: 0.6151110981534842\n",
      "Train loss for period 1: 0.6667172375478243 , Train AUC for period 1: 0.5263667947852031\n",
      "Train loss for period 2: 0.6633789131515905 , Train AUC for period 2: 0.5431009868852619\n",
      "Train loss for period 3: 0.6577557325363159 , Train AUC for period 3: 0.5665110131730474\n",
      "Train loss for period 4: 0.6449993974284122 , Train AUC for period 4: 0.6094888702083101\n",
      "Train loss for period 5: 0.6201754620200709 , Train AUC for period 5: 0.6811088489254078\n",
      "Train loss for period 6: 0.594214822116651 , Train AUC for period 6: 0.7419338286386231\n",
      "Overall test loss: 0.6539882063865662 , Overall test AUC: 0.6287418564341641\n",
      "Test loss for period 1: 0.6872466444969177 , Test AUC for period 1: 0.5497026050872205\n",
      "Test loss for period 2: 0.6778895139694214 , Test AUC for period 2: 0.5872127872127872\n",
      "Test loss for period 3: 0.6700584888458252 , Test AUC for period 3: 0.5976669484361792\n",
      "Test loss for period 4: 0.6679678916931152 , Test AUC for period 4: 0.5957796050103742\n",
      "Test loss for period 5: 0.6329780459403992 , Test AUC for period 5: 0.669908552985476\n",
      "Test loss for period 6: 0.5877886950969696 , Test AUC for period 6: 0.7523906862368401\n",
      "\n",
      "Epoch 9\n",
      "---------\n",
      "Overall Train loss: 0.6331162013505635 , Overall Train AUC: 0.632110643556739\n",
      "Train loss for period 1: 0.6690754513991507 , Train AUC for period 1: 0.5366389535420484\n",
      "Train loss for period 2: 0.6629710668011716 , Train AUC for period 2: 0.5568036773745256\n",
      "Train loss for period 3: 0.6551918261929562 , Train AUC for period 3: 0.5844655221842672\n",
      "Train loss for period 4: 0.6396656632423401 , Train AUC for period 4: 0.6233723195933897\n",
      "Train loss for period 5: 0.6064859126743517 , Train AUC for period 5: 0.6950087221026342\n",
      "Train loss for period 6: 0.5653073583778582 , Train AUC for period 6: 0.7642565804498564\n",
      "Overall test loss: 0.6422643303871155 , Overall test AUC: 0.6225613702536779\n",
      "Test loss for period 1: 0.670493733882904 , Test AUC for period 1: 0.5573626373626374\n",
      "Test loss for period 2: 0.6620594501495362 , Test AUC for period 2: 0.5771582263889956\n",
      "Test loss for period 3: 0.6584283590316773 , Test AUC for period 3: 0.5908706677937448\n",
      "Test loss for period 4: 0.6558972954750061 , Test AUC for period 4: 0.5895796511181126\n",
      "Test loss for period 5: 0.6254253506660461 , Test AUC for period 5: 0.681383232152463\n",
      "Test loss for period 6: 0.581281864643097 , Test AUC for period 6: 0.7827710750787672\n",
      "\n",
      "Epoch 10\n",
      "---------\n",
      "Overall Train loss: 0.6292287424991005 , Overall Train AUC: 0.6392176427809011\n",
      "Train loss for period 1: 0.6692307340471368 , Train AUC for period 1: 0.53703079218072\n",
      "Train loss for period 2: 0.6618385158087078 , Train AUC for period 2: 0.5551176633511339\n",
      "Train loss for period 3: 0.6550321673092089 , Train AUC for period 3: 0.5879218072002294\n",
      "Train loss for period 4: 0.6375321777243363 , Train AUC for period 4: 0.6313698317290172\n",
      "Train loss for period 5: 0.5990451386100367 , Train AUC for period 5: 0.7050903065612563\n",
      "Train loss for period 6: 0.5526937858054513 , Train AUC for period 6: 0.7735431173134952\n",
      "Overall test loss: 0.6389496803283692 , Overall test AUC: 0.6446028330643716\n",
      "Test loss for period 1: 0.6749525666236877 , Test AUC for period 1: 0.5591762084069777\n",
      "Test loss for period 2: 0.6649053692817688 , Test AUC for period 2: 0.5941320218243296\n",
      "Test loss for period 3: 0.6605772972106934 , Test AUC for period 3: 0.6003104587719972\n",
      "Test loss for period 4: 0.6530768632888794 , Test AUC for period 4: 0.604278798124952\n",
      "Test loss for period 5: 0.6162871360778809 , Test AUC for period 5: 0.7015046491969569\n",
      "Test loss for period 6: 0.5638988852500916 , Test AUC for period 6: 0.788586797817567\n",
      "\n",
      "Epoch 11\n",
      "---------\n",
      "Overall Train loss: 0.6275402558477301 , Overall Train AUC: 0.640054365343531\n",
      "Train loss for period 1: 0.6679531367201554 , Train AUC for period 1: 0.5205918396104937\n",
      "Train loss for period 2: 0.6621627493908531 , Train AUC for period 2: 0.5475717569084397\n",
      "Train loss for period 3: 0.6552967303677609 , Train AUC for period 3: 0.5827680406610334\n",
      "Train loss for period 4: 0.6361938244418094 , Train AUC for period 4: 0.6304555415721165\n",
      "Train loss for period 5: 0.5950577510030646 , Train AUC for period 5: 0.7135896675882779\n",
      "Train loss for period 6: 0.5485773698279732 , Train AUC for period 6: 0.7863977959076573\n",
      "Overall test loss: 0.6306885004043579 , Overall test AUC: 0.6440824133131825\n",
      "Test loss for period 1: 0.669210422039032 , Test AUC for period 1: 0.5597049104741413\n",
      "Test loss for period 2: 0.6609544515609741 , Test AUC for period 2: 0.5904403289018674\n",
      "Test loss for period 3: 0.6546800136566162 , Test AUC for period 3: 0.6010020748482287\n",
      "Test loss for period 4: 0.6477775335311889 , Test AUC for period 4: 0.6070360408821946\n",
      "Test loss for period 5: 0.6053802967071533 , Test AUC for period 5: 0.703441174210405\n",
      "Test loss for period 6: 0.546128249168396 , Test AUC for period 6: 0.7938922615845693\n",
      "\n",
      "Epoch 12\n",
      "---------\n",
      "Overall Train loss: 0.6277076727465579 , Overall Train AUC: 0.6412086658449371\n",
      "Train loss for period 1: 0.6747968510577553 , Train AUC for period 1: 0.5331835431659047\n",
      "Train loss for period 2: 0.6631921498399032 , Train AUC for period 2: 0.5531760601363467\n",
      "Train loss for period 3: 0.655217641278317 , Train AUC for period 3: 0.584887778852181\n",
      "Train loss for period 4: 0.6342786079958865 , Train AUC for period 4: 0.6369560590673424\n",
      "Train loss for period 5: 0.5920024514198303 , Train AUC for period 5: 0.7124506921802342\n",
      "Train loss for period 6: 0.546758339593285 , Train AUC for period 6: 0.7786144733453515\n",
      "Overall test loss: 0.633199155330658 , Overall test AUC: 0.6432806509729587\n",
      "Test loss for period 1: 0.6637776136398316 , Test AUC for period 1: 0.5555951740567125\n",
      "Test loss for period 2: 0.6610514760017395 , Test AUC for period 2: 0.5913286713286713\n",
      "Test loss for period 3: 0.6561369180679322 , Test AUC for period 3: 0.5998463075386152\n",
      "Test loss for period 4: 0.6493800044059753 , Test AUC for period 4: 0.6053484976561899\n",
      "Test loss for period 5: 0.6110122561454773 , Test AUC for period 5: 0.7046645662030278\n",
      "Test loss for period 6: 0.5578366279602051 , Test AUC for period 6: 0.7978944132790288\n",
      "\n",
      "Epoch 13\n",
      "---------\n",
      "Overall Train loss: 0.6267933155360975 , Overall Train AUC: 0.6413456360602119\n",
      "Train loss for period 1: 0.6707750558853149 , Train AUC for period 1: 0.5260445386032002\n",
      "Train loss for period 2: 0.6637732731668573 , Train AUC for period 2: 0.5509972351663517\n",
      "Train loss for period 3: 0.6561855548306516 , Train AUC for period 3: 0.5869416275103378\n",
      "Train loss for period 4: 0.6358952208569175 , Train AUC for period 4: 0.6325196915436907\n",
      "Train loss for period 5: 0.5922998252667879 , Train AUC for period 5: 0.7115261978921181\n",
      "Train loss for period 6: 0.5418308973312378 , Train AUC for period 6: 0.7856485211298403\n",
      "Overall test loss: 0.6379443168640136 , Overall test AUC: 0.6315008068854222\n",
      "Test loss for period 1: 0.6704401016235352 , Test AUC for period 1: 0.5550449550449551\n",
      "Test loss for period 2: 0.6645039319992065 , Test AUC for period 2: 0.5850119111657572\n",
      "Test loss for period 3: 0.6590159773826599 , Test AUC for period 3: 0.5940674709905479\n",
      "Test loss for period 4: 0.6527813315391541 , Test AUC for period 4: 0.5976423576423577\n",
      "Test loss for period 5: 0.617129921913147 , Test AUC for period 5: 0.6964235764235764\n",
      "Test loss for period 6: 0.5637946724891663 , Test AUC for period 6: 0.7987212787212787\n",
      "\n",
      "Epoch 14\n",
      "---------\n",
      "Overall Train loss: 0.6257862574175784 , Overall Train AUC: 0.6491057185786995\n",
      "Train loss for period 1: 0.6682382602440683 , Train AUC for period 1: 0.5296496095705032\n",
      "Train loss for period 2: 0.6584625306882357 , Train AUC for period 2: 0.5584153470133479\n",
      "Train loss for period 3: 0.6517642328613683 , Train AUC for period 3: 0.5927101686597117\n",
      "Train loss for period 4: 0.6312606773878399 , Train AUC for period 4: 0.645551824838799\n",
      "Train loss for period 5: 0.5930902487353275 , Train AUC for period 5: 0.7290913950019193\n",
      "Train loss for period 6: 0.5519015867459146 , Train AUC for period 6: 0.8028060389020354\n",
      "Overall test loss: 0.6347732901573181 , Overall test AUC: 0.6273199450122526\n",
      "Test loss for period 1: 0.6759874701499939 , Test AUC for period 1: 0.5549435180204411\n",
      "Test loss for period 2: 0.6647260665893555 , Test AUC for period 2: 0.5844524706063168\n",
      "Test loss for period 3: 0.6577114939689637 , Test AUC for period 3: 0.598284792130946\n",
      "Test loss for period 4: 0.6547558784484864 , Test AUC for period 4: 0.5984938138784293\n",
      "Test loss for period 5: 0.6128989815711975 , Test AUC for period 5: 0.689252286175363\n",
      "Test loss for period 6: 0.5425597548484802 , Test AUC for period 6: 0.7936801659878583\n",
      "\n",
      "Epoch 15\n",
      "---------\n",
      "Overall Train loss: 0.6196393684337014 , Overall Train AUC: 0.6536458982901872\n",
      "Train loss for period 1: 0.6720581744846544 , Train AUC for period 1: 0.5249014815426702\n",
      "Train loss for period 2: 0.6586087910752547 , Train AUC for period 2: 0.5592270127648823\n",
      "Train loss for period 3: 0.6518411667723405 , Train AUC for period 3: 0.5962256376367232\n",
      "Train loss for period 4: 0.6296306032883493 , Train AUC for period 4: 0.6471877900281342\n",
      "Train loss for period 5: 0.5794240863699662 , Train AUC for period 5: 0.7321287275448374\n",
      "Train loss for period 6: 0.5262733917487296 , Train AUC for period 6: 0.8037430696942162\n",
      "Overall test loss: 0.6281281113624573 , Overall test AUC: 0.648770033385418\n",
      "Test loss for period 1: 0.6627568244934082 , Test AUC for period 1: 0.5530069930069931\n",
      "Test loss for period 2: 0.6588240027427673 , Test AUC for period 2: 0.592542841773611\n",
      "Test loss for period 3: 0.6519494533538819 , Test AUC for period 3: 0.6028709751786675\n",
      "Test loss for period 4: 0.6415623545646667 , Test AUC for period 4: 0.6122031814339506\n",
      "Test loss for period 5: 0.604028582572937 , Test AUC for period 5: 0.7147006839314531\n",
      "Test loss for period 6: 0.5496476113796234 , Test AUC for period 6: 0.8071282563590256\n",
      "\n",
      "Epoch 16\n",
      "---------\n",
      "Overall Train loss: 0.6171909947144357 , Overall Train AUC: 0.6556494308632317\n",
      "Train loss for period 1: 0.6701531849409404 , Train AUC for period 1: 0.5254744678059661\n",
      "Train loss for period 2: 0.6578662332735563 , Train AUC for period 2: 0.5631253796179768\n",
      "Train loss for period 3: 0.6487862405024076 , Train AUC for period 3: 0.6020437417091433\n",
      "Train loss for period 4: 0.6227993243619016 , Train AUC for period 4: 0.6533044378252567\n",
      "Train loss for period 5: 0.5761754999035283 , Train AUC for period 5: 0.7328688671956617\n",
      "Train loss for period 6: 0.5273655731427042 , Train AUC for period 6: 0.7984340059961419\n",
      "Overall test loss: 0.6213561415672302 , Overall test AUC: 0.6594487990641837\n",
      "Test loss for period 1: 0.6748549818992615 , Test AUC for period 1: 0.5503573349727197\n",
      "Test loss for period 2: 0.6615283012390136 , Test AUC for period 2: 0.6016291400906785\n",
      "Test loss for period 3: 0.6463171243667603 , Test AUC for period 3: 0.6196234534696072\n",
      "Test loss for period 4: 0.6321539521217346 , Test AUC for period 4: 0.6298655190962883\n",
      "Test loss for period 5: 0.5883358836174011 , Test AUC for period 5: 0.7177714593099209\n",
      "Test loss for period 6: 0.5249465227127075 , Test AUC for period 6: 0.802188580650119\n",
      "\n",
      "Epoch 17\n",
      "---------\n",
      "Overall Train loss: 0.6146721337970934 , Overall Train AUC: 0.6568862822462694\n",
      "Train loss for period 1: 0.6722139088731063 , Train AUC for period 1: 0.5236581324496231\n",
      "Train loss for period 2: 0.6581112334602758 , Train AUC for period 2: 0.5617133222221682\n",
      "Train loss for period 3: 0.6468077960767245 , Train AUC for period 3: 0.60351255351095\n",
      "Train loss for period 4: 0.6197387952553598 , Train AUC for period 4: 0.6558319525362125\n",
      "Train loss for period 5: 0.5714729898854306 , Train AUC for period 5: 0.7354614939819921\n",
      "Train loss for period 6: 0.5196881576588279 , Train AUC for period 6: 0.7997226419953449\n",
      "Overall test loss: 0.6278313517570495 , Overall test AUC: 0.6664506433737203\n",
      "Test loss for period 1: 0.665537667274475 , Test AUC for period 1: 0.550514101283332\n",
      "Test loss for period 2: 0.664417278766632 , Test AUC for period 2: 0.6047952047952048\n",
      "Test loss for period 3: 0.6552272200584411 , Test AUC for period 3: 0.6289218473833857\n",
      "Test loss for period 4: 0.6365532398223877 , Test AUC for period 4: 0.6492615077230461\n",
      "Test loss for period 5: 0.5973571062088012 , Test AUC for period 5: 0.730746176900023\n",
      "Test loss for period 6: 0.5478957176208497 , Test AUC for period 6: 0.8044816721739798\n",
      "\n",
      "Epoch 18\n",
      "---------\n",
      "Overall Train loss: 0.6198820754101402 , Overall Train AUC: 0.6551210269351271\n",
      "Train loss for period 1: 0.6757073057325262 , Train AUC for period 1: 0.5046918595328451\n",
      "Train loss for period 2: 0.665556694331922 , Train AUC for period 2: 0.5377857035262561\n",
      "Train loss for period 3: 0.6559643368971976 , Train AUC for period 3: 0.5977994062167454\n",
      "Train loss for period 4: 0.6286575104060926 , Train AUC for period 4: 0.6613425721213417\n",
      "Train loss for period 5: 0.5773262036474127 , Train AUC for period 5: 0.740558311750786\n",
      "Train loss for period 6: 0.5160802979218332 , Train AUC for period 6: 0.8147891875081996\n",
      "Overall test loss: 0.6185479283332824 , Overall test AUC: 0.6669114646037723\n",
      "Test loss for period 1: 0.6700867533683776 , Test AUC for period 1: 0.5538061938061938\n",
      "Test loss for period 2: 0.6599130153656005 , Test AUC for period 2: 0.601463152232383\n",
      "Test loss for period 3: 0.6437425255775452 , Test AUC for period 3: 0.6257096749404442\n",
      "Test loss for period 4: 0.6260439157485962 , Test AUC for period 4: 0.644026742488281\n",
      "Test loss for period 5: 0.586633425951004 , Test AUC for period 5: 0.7255759624990393\n",
      "Test loss for period 6: 0.524867832660675 , Test AUC for period 6: 0.8071958810420348\n",
      "\n",
      "Epoch 19\n",
      "---------\n",
      "Overall Train loss: 0.6091398157571492 , Overall Train AUC: 0.6682112346944781\n",
      "Train loss for period 1: 0.6651940251651564 , Train AUC for period 1: 0.5287574769556704\n",
      "Train loss for period 2: 0.6570996610741866 , Train AUC for period 2: 0.5666149981292425\n",
      "Train loss for period 3: 0.6454965189883584 , Train AUC for period 3: 0.6099361027021512\n",
      "Train loss for period 4: 0.6156557453306097 , Train AUC for period 4: 0.6667091676830306\n",
      "Train loss for period 5: 0.5638505565492731 , Train AUC for period 5: 0.7473435730980227\n",
      "Train loss for period 6: 0.507542443902869 , Train AUC for period 6: 0.8157439054611537\n",
      "Overall test loss: 0.6238008141517639 , Overall test AUC: 0.6660739260739261\n",
      "Test loss for period 1: 0.6751638174057006 , Test AUC for period 1: 0.5523860754629986\n",
      "Test loss for period 2: 0.6671589136123657 , Test AUC for period 2: 0.5992284638438483\n",
      "Test loss for period 3: 0.6457641363143921 , Test AUC for period 3: 0.6290171367094444\n",
      "Test loss for period 4: 0.6337788343429566 , Test AUC for period 4: 0.6449120110658573\n",
      "Test loss for period 5: 0.5958177447319031 , Test AUC for period 5: 0.7214139706447399\n",
      "Test loss for period 6: 0.5251214504241943 , Test AUC for period 6: 0.8055698148005841\n",
      "\n"
     ]
    }
   ],
   "source": [
    "# model building\n",
    "\n",
    "model = SequenceModel(n_features = training_dat[0][0].shape[1], n_classes = 2, n_hidden = 15, n_layers = 1)\n",
    "loss_function = torch.nn.CrossEntropyLoss()\n",
    "optimizer = torch.optim.Adam(model.parameters(), lr= 0.01)\n",
    "train_dataset = RushDataset(sequences = training_dat, sequence_length=30)\n",
    "train_loader = DataLoader(train_dataset, batch_size = 50, shuffle = True)\n",
    "test_dataset = RushDataset(sequences = test_dat, sequence_length=30)\n",
    "test_loader = DataLoader(test_dataset, batch_size = 50, shuffle = True)\n",
    "\n",
    "lstm_model = train_rush_lstm(train_loader, test_loader, model, loss_function, optimizer, num_epochs = 20)"
   ]
  },
  {
   "cell_type": "code",
   "execution_count": null,
   "metadata": {},
   "outputs": [],
   "source": []
  },
  {
   "cell_type": "code",
   "execution_count": null,
   "metadata": {},
   "outputs": [],
   "source": []
  },
  {
   "cell_type": "code",
   "execution_count": null,
   "metadata": {},
   "outputs": [],
   "source": []
  },
  {
   "cell_type": "code",
   "execution_count": 744,
   "metadata": {},
   "outputs": [
    {
     "name": "stdout",
     "output_type": "stream",
     "text": [
      "Getting week 1 normalized training data\n"
     ]
    },
    {
     "name": "stderr",
     "output_type": "stream",
     "text": [
      "100%|██████████| 1/1 [00:00<00:00, 1146.61it/s]\n"
     ]
    },
    {
     "name": "stdout",
     "output_type": "stream",
     "text": [
      "Getting week 1 normalized training data\n"
     ]
    },
    {
     "name": "stderr",
     "output_type": "stream",
     "text": [
      "100%|██████████| 1/1 [00:00<00:00, 1114.91it/s]\n"
     ]
    },
    {
     "name": "stdout",
     "output_type": "stream",
     "text": [
      "Getting week 1 normalized training data\n"
     ]
    },
    {
     "name": "stderr",
     "output_type": "stream",
     "text": [
      "100%|██████████| 1/1 [00:00<00:00, 1106.97it/s]\n"
     ]
    },
    {
     "name": "stdout",
     "output_type": "stream",
     "text": [
      "Getting week 1 normalized training data\n"
     ]
    },
    {
     "name": "stderr",
     "output_type": "stream",
     "text": [
      "100%|██████████| 1/1 [00:00<00:00, 1776.49it/s]\n"
     ]
    },
    {
     "name": "stdout",
     "output_type": "stream",
     "text": [
      "Getting week 1 normalized training data\n"
     ]
    },
    {
     "name": "stderr",
     "output_type": "stream",
     "text": [
      "100%|██████████| 1/1 [00:00<00:00, 1791.67it/s]\n"
     ]
    },
    {
     "name": "stdout",
     "output_type": "stream",
     "text": [
      "Getting week 1 normalized training data\n"
     ]
    },
    {
     "name": "stderr",
     "output_type": "stream",
     "text": [
      "100%|██████████| 1/1 [00:00<00:00, 1067.25it/s]\n"
     ]
    },
    {
     "name": "stdout",
     "output_type": "stream",
     "text": [
      "Getting week 1 normalized training data\n"
     ]
    },
    {
     "name": "stderr",
     "output_type": "stream",
     "text": [
      "100%|██████████| 1/1 [00:00<00:00, 1519.68it/s]\n"
     ]
    },
    {
     "name": "stdout",
     "output_type": "stream",
     "text": [
      "Getting week 1 normalized training data\n"
     ]
    },
    {
     "name": "stderr",
     "output_type": "stream",
     "text": [
      "100%|██████████| 1/1 [00:00<00:00, 1628.22it/s]\n"
     ]
    },
    {
     "name": "stdout",
     "output_type": "stream",
     "text": [
      "Getting week 1 normalized training data\n"
     ]
    },
    {
     "name": "stderr",
     "output_type": "stream",
     "text": [
      "100%|██████████| 1/1 [00:00<00:00, 1057.30it/s]"
     ]
    },
    {
     "name": "stdout",
     "output_type": "stream",
     "text": [
      "Getting week 1 normalized training data"
     ]
    },
    {
     "name": "stderr",
     "output_type": "stream",
     "text": [
      "\n"
     ]
    },
    {
     "name": "stdout",
     "output_type": "stream",
     "text": [
      "\n"
     ]
    },
    {
     "name": "stderr",
     "output_type": "stream",
     "text": [
      "100%|██████████| 1/1 [00:00<00:00, 1136.36it/s]\n"
     ]
    },
    {
     "name": "stdout",
     "output_type": "stream",
     "text": [
      "Getting week 1 normalized training data\n"
     ]
    },
    {
     "name": "stderr",
     "output_type": "stream",
     "text": [
      "100%|██████████| 1/1 [00:00<00:00, 1394.85it/s]\n"
     ]
    }
   ],
   "source": [
    "### plotting all below\n",
    "\n",
    "play_id = 2021090900187\n",
    "\n",
    "play_prob = predict_play(master_track = all_data, play_id = play_id, model = lstm_model, normalize = True)\n",
    "player_metrics = get_all_player_metrics_on_play(master_track = all_data, play_id = play_id, model = lstm_model)\n",
    "\n",
    "\n",
    "rusher_play_info = all_data.get_play(play_id).reset_index(drop = 1)\n",
    "rusher_play_info.time_after_snap = round(rusher_play_info.time_after_snap, 1)\n",
    "\n",
    "this = get_all_player_metrics_on_play(master_track = all_data, play_id = play_id, model = lstm_model)\n",
    "player_metrics = []\n",
    "for player_id in this.keys():\n",
    "    metrics = this.get(player_id)\n",
    "    metrics_df = pd.DataFrame({'nflId': float(player_id), 'rusher_metric' : metrics, 'time_after_snap' : np.array(range(0, len(metrics))) / 10})\n",
    "    player_metrics.append(metrics_df)\n",
    "player_metrics_df = pd.concat(player_metrics)\n",
    "\n",
    "rusher_play_info =  rusher_play_info.merge(player_metrics_df, on = ['nflId', 'time_after_snap'], how = 'left')\n",
    "\n",
    "\n",
    "\n",
    "def_match = all_data.play_details_df.loc[(all_data.play_details_df.playId == play_id) & (all_data.play_details_df.pff_nflIdBlockedPlayer.notna()), ['playId', 'nflId', 'pff_nflIdBlockedPlayer']]\n",
    "defender_track = []\n",
    "for defender in def_match.nflId:\n",
    "    this_def = all_data.search_track_weeks(variables = [\"playId\", \"nflId\"], variable_values = [play_id, defender])\n",
    "    defender_track.append(this_def)\n",
    "defender_track = pd.concat(defender_track).merge(def_match, on = ['playId', 'nflId'], how = 'left').loc[:,['nflId', 'playId', 'time_after_snap', 'pff_nflIdBlockedPlayer', 'x', 'y']].rename(columns = {'pff_nflIdBlockedPlayer' : 'nflId', 'nflId' : 'blockerId', 'x' : 'x_block', 'y' : 'y_block'})\n",
    "\n",
    "# get qb track\n",
    "qb_track = all_data.get_qb_track_on_play(play_id).loc[:, ['playId', 'time_after_snap', 'x', 'y', 's', 'a']].rename(columns = {'x' : 'x_qb', 'y' : 'y_qb', 's' : 's_qb', 'a' : 'a_qb'})\n",
    "defender_qb_track = defender_track.merge(qb_track, on = ['playId', 'time_after_snap'], how = 'left')\n",
    "defender_qb_track.time_after_snap = round(defender_qb_track.time_after_snap, 1)\n",
    "\n",
    "block_df = defender_qb_track.loc[(defender_qb_track.time_after_snap >= 0) & (defender_qb_track.time_after_snap < len(play_prob) / 10), ['blockerId', 'time_after_snap', 'x_block', 'y_block']].rename(columns = {'blockerId' : 'nflId', 'x_block' : 'x', 'y_block' : 'y'}).drop_duplicates()\n",
    "rush_df = rusher_play_info.loc[(rusher_play_info.time_after_snap >= 0) & (rusher_play_info.time_after_snap < len(play_prob) / 10), ['nflId', 'time_after_snap', 'rusher_metric', 'x', 'y']].drop_duplicates()\n",
    "qb_df = defender_qb_track.loc[(defender_qb_track.time_after_snap >= 0) & (defender_qb_track.time_after_snap < len(play_prob) / 10), ['time_after_snap', 'x_qb', 'y_qb']].rename(columns = {'x_qb' : 'x', 'y_qb' : 'y'}).drop_duplicates()\n",
    "qb_df['nflId'] = 1\n",
    "\n",
    "\n",
    "unique_time_after_snap = rush_df.time_after_snap.unique()\n",
    "n_player_rush = len(rush_df.nflId.unique())\n",
    "n_player_block = len(block_df.nflId.unique())\n",
    "\n",
    "n_frame = len(unique_time_after_snap)\n",
    "motion_rush = np.empty(shape = (n_frame,3,n_player_rush))\n",
    "motion_block = np.empty(shape = (n_frame,3,n_player_block))\n",
    "motion_qb = np.empty(shape = (n_frame,3, 1))\n",
    "frame = 0\n",
    "for time_after in unique_time_after_snap:\n",
    "    this_frame_rush = rush_df.loc[rush_df.time_after_snap == time_after].copy()\n",
    "    x_this_frame_rush, y_this_frame_rush, color_this_frame_rush = this_frame_rush.x.values.tolist(), this_frame_rush.y.values.tolist(), this_frame_rush.rusher_metric.values.tolist()\n",
    "    motion_rush[frame, :, :] = [x_this_frame_rush, y_this_frame_rush, color_this_frame_rush]\n",
    "    \n",
    "    this_frame_block = block_df.loc[block_df.time_after_snap == time_after].copy()\n",
    "    x_this_frame_block, y_this_frame_block, color_this_frame_block = this_frame_block.x.values.tolist(), this_frame_block.y.values.tolist(), this_frame_block.x.values.tolist()\n",
    "    motion_block[frame, :, :] = [x_this_frame_block, y_this_frame_block, color_this_frame_block]\n",
    "\n",
    "    this_frame_qb = qb_df.loc[block_df.time_after_snap == time_after].copy()\n",
    "    x_this_frame_qb, y_this_frame_qb, color_this_frame_qb = this_frame_qb.x.values.tolist(), this_frame_qb.y.values.tolist(), this_frame_qb.x.values.tolist()\n",
    "    motion_qb[frame, :, :] = [x_this_frame_qb, y_this_frame_qb, color_this_frame_qb]\n",
    "    frame += 1"
   ]
  },
  {
   "cell_type": "code",
   "execution_count": 745,
   "metadata": {},
   "outputs": [],
   "source": [
    "range_x = [min(np.append(np.append(motion_block[:,0,:], motion_rush[:,0,:]),motion_qb[:,0,:]) ) - 2, max(np.append(np.append(motion_block[:,0,:], motion_rush[:,0,:]),motion_qb[:,0,:])) + 2]\n",
    "range_y = [min(np.append(np.append(motion_block[0,1,:], motion_rush[:,1,:]),motion_qb[:,1,:]) ) - 2, max(np.append(np.append(motion_block[:,1,:], motion_rush[:,1,:]),motion_qb[:,1,:])) + 2]\n",
    "color_min, color_max = -0.3, 0.3\n",
    "vec_mobile = list(zip(motion_rush[:,:,:], motion_block[:,:,:], motion_qb[:,:,:], play_prob[:])) # index is (frame), (rusher or blocker or qb or prob_disrupt), (x or y or metric)\n",
    "start_frame = [go.Scatter(x=motion_rush[0,0,:], y = motion_rush[0,1,:], \n",
    "                            mode = \"markers+text\", \n",
    "                            text = ['Rusher Metric: ' + str(round(metric, 3)) for metric in motion_rush[0,2,:]],\n",
    "                            textposition=\"bottom center\",\n",
    "                            name = \"Rushers\",\n",
    "                            legendgroup = \"Rushers\",\n",
    "                            marker = dict(size=20,color=motion_rush[0,2,:], colorbar=dict(title='Metric'), colorscale='rdylbu_r',showscale=True, cmin=color_min, cmax = color_max)),\n",
    "               go.Scatter(x=motion_block[0,0,:], y = motion_block[0,1,:], \n",
    "                            mode = \"markers\", \n",
    "                            name = \"Blockers\",\n",
    "                            legendgroup = \"Blockers\",\n",
    "                            marker = dict(size=20, color = 'black'),\n",
    "                            marker_symbol = \"x\"  ),\n",
    "                go.Scatter(x=motion_qb[0,0,:], y = motion_qb[0,1,:], \n",
    "                            mode = \"markers\", \n",
    "                            name = \"QB\",\n",
    "                            legendgroup = \"QB\",\n",
    "                            marker = dict(size=16, color = 'black'),\n",
    "                            marker_symbol = \"diamond\"  ),\n",
    "                go.Scatter(x= np.array(range_x[0] + 4), y = np.array(range_y[1] - 1), \n",
    "                            mode = \"text\",\n",
    "                            text = ['QB Distruption Probability: ' + str(round(play_prob[0], 3))],\n",
    "                            textfont = dict(size=17, color = 'black') ) ]\n",
    "\n",
    "all_frame = [   go.Frame(data = [go.Scatter(x=vec_mobile[i][0][0], y = vec_mobile[i][0][1], \n",
    "                                            mode = \"markers+text\", \n",
    "                                            text = ['Rusher Metric: ' + str(round(metric, 3)) for metric in vec_mobile[i][0][2]],\n",
    "                                            textposition=\"bottom center\",\n",
    "                                            name = \"Rushers\",\n",
    "                                            legendgroup = \"Rushers\",\n",
    "                                            marker = dict(size=20, color=vec_mobile[i][0][2],showscale=False, colorscale='rdylbu_r', cmin=color_min, cmax = color_max) ),\n",
    "                                go.Scatter(x= np.ndarray.flatten(np.array([list(x) for x in np.array(vec_mobile[0:i], dtype = object)[:, 0]])[:, 0]), \n",
    "                                            y = np.ndarray.flatten(np.array([list(x) for x in np.array(vec_mobile[0:i], dtype = object)[:, 0]])[:, 1]), \n",
    "                                            mode = \"markers\", \n",
    "                                            marker = dict(size=10, color= np.ndarray.flatten(np.array([list(x) for x in np.array(vec_mobile[0:i], dtype = object)[:, 0]])[:, 2] ), \n",
    "                                                                colorscale='rdylbu_r',showscale=False, cmin=color_min, cmax = color_max),\n",
    "                                            marker_symbol = \"circle\" ),\n",
    "                                 go.Scatter(x=vec_mobile[i][1][0], y = vec_mobile[i][1][1], \n",
    "                                            mode = \"markers\", \n",
    "                                            name = \"Blockers\",\n",
    "                                            legendgroup = \"Blockers\",\n",
    "                                            marker = dict(size=20, color = 'black'),\n",
    "                                            marker_symbol = \"x\" ),\n",
    "                                go.Scatter(x=vec_mobile[i][2][0], y = vec_mobile[i][2][1], \n",
    "                                            mode = \"markers\", \n",
    "                                            name = \"QB\",\n",
    "                                            legendgroup = \"QB\",\n",
    "                                            marker = dict(size=20, color = 'black'),\n",
    "                                            marker_symbol = \"diamond\" ),\n",
    "                                go.Scatter(x= np.array(range_x[0] + 4), y = np.array(range_y[1] - 1), \n",
    "                                                mode = \"text\",\n",
    "                                                text = ['QB Distruption Probability: ' + str(round(vec_mobile[i][3], 3))],\n",
    "                                                textfont = dict(size=17, color = 'black') ) \n",
    "                                                ]) \n",
    "            for i in range(len(vec_mobile))[1:]]\n",
    "layout_draw = go.Layout(\n",
    "        autosize=False,\n",
    "        width=800,\n",
    "        height=600,\n",
    "        plot_bgcolor='green',\n",
    "        xaxis=dict(title='src freq', range=range_x, autorange=False, tickmode = 'linear', tick0 = round(range_x[0],-1), dtick = 5, gridcolor = 'black'),\n",
    "        yaxis=dict(range=range_y, autorange=False, gridcolor = 'green', tick0 = round(range_x[0],-1), dtick = 10),\n",
    "        title= f'Play {play_id}',\n",
    "        updatemenus=[dict(type=\"buttons\",\n",
    "                        buttons=[dict(label=\"Play\",\n",
    "                                    method=\"animate\",\n",
    "                                    args=[None, {\"frame\": {\"duration\": 200, \"redraw\": False}, \"fromcurrent\": True, \"transition\": {\"duration\": 0}}])])]\n",
    "    )\n"
   ]
  },
  {
   "cell_type": "code",
   "execution_count": 746,
   "metadata": {},
   "outputs": [
    {
     "data": {
      "application/vnd.plotly.v1+json": {
       "config": {
        "plotlyServerURL": "https://plot.ly"
       },
       "data": [
        {
         "legendgroup": "Rushers",
         "marker": {
          "cmax": 0.3,
          "cmin": -0.3,
          "color": [
           -0.0035824179649353027,
           0.0009929835796356201,
           -0.0011959969997406006,
           -0.015029162168502808
          ],
          "colorbar": {
           "title": {
            "text": "Metric"
           }
          },
          "colorscale": [
           [
            0,
            "rgb(49,54,149)"
           ],
           [
            0.1,
            "rgb(69,117,180)"
           ],
           [
            0.2,
            "rgb(116,173,209)"
           ],
           [
            0.3,
            "rgb(171,217,233)"
           ],
           [
            0.4,
            "rgb(224,243,248)"
           ],
           [
            0.5,
            "rgb(255,255,191)"
           ],
           [
            0.6,
            "rgb(254,224,144)"
           ],
           [
            0.7,
            "rgb(253,174,97)"
           ],
           [
            0.8,
            "rgb(244,109,67)"
           ],
           [
            0.9,
            "rgb(215,48,39)"
           ],
           [
            1,
            "rgb(165,0,38)"
           ]
          ],
          "showscale": true,
          "size": 20
         },
         "mode": "markers+text",
         "name": "Rushers",
         "text": [
          "Rusher Metric: -0.004",
          "Rusher Metric: 0.001",
          "Rusher Metric: -0.001",
          "Rusher Metric: -0.015"
         ],
         "textposition": "bottom center",
         "type": "scatter",
         "x": [
          75.32,
          76.29,
          72.69,
          75.37
         ],
         "y": [
          28.68,
          21.36,
          25.11,
          25.6
         ]
        },
        {
         "legendgroup": "Blockers",
         "marker": {
          "color": "black",
          "size": 20,
          "symbol": "x"
         },
         "mode": "markers",
         "name": "Blockers",
         "type": "scatter",
         "x": [
          78.27,
          78.27,
          78.04,
          77.89,
          77.67
         ],
         "y": [
          23.17,
          29.21,
          24.93,
          27.93,
          26.46
         ]
        },
        {
         "legendgroup": "QB",
         "marker": {
          "color": "black",
          "size": 16,
          "symbol": "diamond"
         },
         "mode": "markers",
         "name": "QB",
         "type": "scatter",
         "x": [
          81.26
         ],
         "y": [
          26.46
         ]
        },
        {
         "mode": "text",
         "text": [
          "QB Distruption Probability: 0.336"
         ],
         "textfont": {
          "color": "black",
          "size": 17
         },
         "type": "scatter",
         "x": [
          74.69
         ],
         "y": [
          30.67
         ]
        }
       ],
       "frames": [
        {
         "data": [
          {
           "legendgroup": "Rushers",
           "marker": {
            "cmax": 0.3,
            "cmin": -0.3,
            "color": [
             -0.0008094310760498047,
             -0.009118258953094482,
             -0.0035460293292999268,
             -0.0005391538143157959
            ],
            "colorscale": [
             [
              0,
              "rgb(49,54,149)"
             ],
             [
              0.1,
              "rgb(69,117,180)"
             ],
             [
              0.2,
              "rgb(116,173,209)"
             ],
             [
              0.3,
              "rgb(171,217,233)"
             ],
             [
              0.4,
              "rgb(224,243,248)"
             ],
             [
              0.5,
              "rgb(255,255,191)"
             ],
             [
              0.6,
              "rgb(254,224,144)"
             ],
             [
              0.7,
              "rgb(253,174,97)"
             ],
             [
              0.8,
              "rgb(244,109,67)"
             ],
             [
              0.9,
              "rgb(215,48,39)"
             ],
             [
              1,
              "rgb(165,0,38)"
             ]
            ],
            "showscale": false,
            "size": 20
           },
           "mode": "markers+text",
           "name": "Rushers",
           "text": [
            "Rusher Metric: -0.001",
            "Rusher Metric: -0.009",
            "Rusher Metric: -0.004",
            "Rusher Metric: -0.001"
           ],
           "textposition": "bottom center",
           "type": "scatter",
           "x": [
            75.38,
            76.39,
            72.7,
            75.42
           ],
           "y": [
            28.69,
            21.37,
            25.09,
            25.59
           ]
          },
          {
           "marker": {
            "cmax": 0.3,
            "cmin": -0.3,
            "color": [
             -0.0035824179649353027,
             0.0009929835796356201,
             -0.0011959969997406006,
             -0.015029162168502808
            ],
            "colorscale": [
             [
              0,
              "rgb(49,54,149)"
             ],
             [
              0.1,
              "rgb(69,117,180)"
             ],
             [
              0.2,
              "rgb(116,173,209)"
             ],
             [
              0.3,
              "rgb(171,217,233)"
             ],
             [
              0.4,
              "rgb(224,243,248)"
             ],
             [
              0.5,
              "rgb(255,255,191)"
             ],
             [
              0.6,
              "rgb(254,224,144)"
             ],
             [
              0.7,
              "rgb(253,174,97)"
             ],
             [
              0.8,
              "rgb(244,109,67)"
             ],
             [
              0.9,
              "rgb(215,48,39)"
             ],
             [
              1,
              "rgb(165,0,38)"
             ]
            ],
            "showscale": false,
            "size": 10,
            "symbol": "circle"
           },
           "mode": "markers",
           "type": "scatter",
           "x": [
            75.32,
            76.29,
            72.69,
            75.37
           ],
           "y": [
            28.68,
            21.36,
            25.11,
            25.6
           ]
          },
          {
           "legendgroup": "Blockers",
           "marker": {
            "color": "black",
            "size": 20,
            "symbol": "x"
           },
           "mode": "markers",
           "name": "Blockers",
           "type": "scatter",
           "x": [
            78.3,
            78.32,
            78.1,
            77.96,
            77.74
           ],
           "y": [
            23.15,
            29.25,
            24.98,
            27.96,
            26.44
           ]
          },
          {
           "legendgroup": "QB",
           "marker": {
            "color": "black",
            "size": 20,
            "symbol": "diamond"
           },
           "mode": "markers",
           "name": "QB",
           "type": "scatter",
           "x": [
            81.35
           ],
           "y": [
            26.47
           ]
          },
          {
           "mode": "text",
           "text": [
            "QB Distruption Probability: 0.288"
           ],
           "textfont": {
            "color": "black",
            "size": 17
           },
           "type": "scatter",
           "x": [
            74.69
           ],
           "y": [
            30.67
           ]
          }
         ]
        },
        {
         "data": [
          {
           "legendgroup": "Rushers",
           "marker": {
            "cmax": 0.3,
            "cmin": -0.3,
            "color": [
             0.005627363920211792,
             -0.011396944522857666,
             0.0020392239093780518,
             0.008966147899627686
            ],
            "colorscale": [
             [
              0,
              "rgb(49,54,149)"
             ],
             [
              0.1,
              "rgb(69,117,180)"
             ],
             [
              0.2,
              "rgb(116,173,209)"
             ],
             [
              0.3,
              "rgb(171,217,233)"
             ],
             [
              0.4,
              "rgb(224,243,248)"
             ],
             [
              0.5,
              "rgb(255,255,191)"
             ],
             [
              0.6,
              "rgb(254,224,144)"
             ],
             [
              0.7,
              "rgb(253,174,97)"
             ],
             [
              0.8,
              "rgb(244,109,67)"
             ],
             [
              0.9,
              "rgb(215,48,39)"
             ],
             [
              1,
              "rgb(165,0,38)"
             ]
            ],
            "showscale": false,
            "size": 20
           },
           "mode": "markers+text",
           "name": "Rushers",
           "text": [
            "Rusher Metric: 0.006",
            "Rusher Metric: -0.011",
            "Rusher Metric: 0.002",
            "Rusher Metric: 0.009"
           ],
           "textposition": "bottom center",
           "type": "scatter",
           "x": [
            75.5,
            76.53,
            72.74,
            75.48
           ],
           "y": [
            28.71,
            21.36,
            25.08,
            25.59
           ]
          },
          {
           "marker": {
            "cmax": 0.3,
            "cmin": -0.3,
            "color": [
             -0.0035824179649353027,
             0.0009929835796356201,
             -0.0011959969997406006,
             -0.015029162168502808,
             -0.0008094310760498047,
             -0.009118258953094482,
             -0.0035460293292999268,
             -0.0005391538143157959
            ],
            "colorscale": [
             [
              0,
              "rgb(49,54,149)"
             ],
             [
              0.1,
              "rgb(69,117,180)"
             ],
             [
              0.2,
              "rgb(116,173,209)"
             ],
             [
              0.3,
              "rgb(171,217,233)"
             ],
             [
              0.4,
              "rgb(224,243,248)"
             ],
             [
              0.5,
              "rgb(255,255,191)"
             ],
             [
              0.6,
              "rgb(254,224,144)"
             ],
             [
              0.7,
              "rgb(253,174,97)"
             ],
             [
              0.8,
              "rgb(244,109,67)"
             ],
             [
              0.9,
              "rgb(215,48,39)"
             ],
             [
              1,
              "rgb(165,0,38)"
             ]
            ],
            "showscale": false,
            "size": 10,
            "symbol": "circle"
           },
           "mode": "markers",
           "type": "scatter",
           "x": [
            75.32,
            76.29,
            72.69,
            75.37,
            75.38,
            76.39,
            72.7,
            75.42
           ],
           "y": [
            28.68,
            21.36,
            25.11,
            25.6,
            28.69,
            21.37,
            25.09,
            25.59
           ]
          },
          {
           "legendgroup": "Blockers",
           "marker": {
            "color": "black",
            "size": 20,
            "symbol": "x"
           },
           "mode": "markers",
           "name": "Blockers",
           "type": "scatter",
           "x": [
            78.33,
            78.35,
            78.17,
            78.05,
            77.82
           ],
           "y": [
            23.12,
            29.27,
            25.04,
            27.98,
            26.42
           ]
          },
          {
           "legendgroup": "QB",
           "marker": {
            "color": "black",
            "size": 20,
            "symbol": "diamond"
           },
           "mode": "markers",
           "name": "QB",
           "type": "scatter",
           "x": [
            81.44
           ],
           "y": [
            26.49
           ]
          },
          {
           "mode": "text",
           "text": [
            "QB Distruption Probability: 0.279"
           ],
           "textfont": {
            "color": "black",
            "size": 17
           },
           "type": "scatter",
           "x": [
            74.69
           ],
           "y": [
            30.67
           ]
          }
         ]
        },
        {
         "data": [
          {
           "legendgroup": "Rushers",
           "marker": {
            "cmax": 0.3,
            "cmin": -0.3,
            "color": [
             -0.00023916363716125488,
             -0.014789104461669922,
             0.0016776323318481445,
             0.019344568252563477
            ],
            "colorscale": [
             [
              0,
              "rgb(49,54,149)"
             ],
             [
              0.1,
              "rgb(69,117,180)"
             ],
             [
              0.2,
              "rgb(116,173,209)"
             ],
             [
              0.3,
              "rgb(171,217,233)"
             ],
             [
              0.4,
              "rgb(224,243,248)"
             ],
             [
              0.5,
              "rgb(255,255,191)"
             ],
             [
              0.6,
              "rgb(254,224,144)"
             ],
             [
              0.7,
              "rgb(253,174,97)"
             ],
             [
              0.8,
              "rgb(244,109,67)"
             ],
             [
              0.9,
              "rgb(215,48,39)"
             ],
             [
              1,
              "rgb(165,0,38)"
             ]
            ],
            "showscale": false,
            "size": 20
           },
           "mode": "markers+text",
           "name": "Rushers",
           "text": [
            "Rusher Metric: -0.0",
            "Rusher Metric: -0.015",
            "Rusher Metric: 0.002",
            "Rusher Metric: 0.019"
           ],
           "textposition": "bottom center",
           "type": "scatter",
           "x": [
            75.64,
            76.69,
            72.81,
            75.58
           ],
           "y": [
            28.75,
            21.34,
            25.08,
            25.59
           ]
          },
          {
           "marker": {
            "cmax": 0.3,
            "cmin": -0.3,
            "color": [
             -0.0035824179649353027,
             0.0009929835796356201,
             -0.0011959969997406006,
             -0.015029162168502808,
             -0.0008094310760498047,
             -0.009118258953094482,
             -0.0035460293292999268,
             -0.0005391538143157959,
             0.005627363920211792,
             -0.011396944522857666,
             0.0020392239093780518,
             0.008966147899627686
            ],
            "colorscale": [
             [
              0,
              "rgb(49,54,149)"
             ],
             [
              0.1,
              "rgb(69,117,180)"
             ],
             [
              0.2,
              "rgb(116,173,209)"
             ],
             [
              0.3,
              "rgb(171,217,233)"
             ],
             [
              0.4,
              "rgb(224,243,248)"
             ],
             [
              0.5,
              "rgb(255,255,191)"
             ],
             [
              0.6,
              "rgb(254,224,144)"
             ],
             [
              0.7,
              "rgb(253,174,97)"
             ],
             [
              0.8,
              "rgb(244,109,67)"
             ],
             [
              0.9,
              "rgb(215,48,39)"
             ],
             [
              1,
              "rgb(165,0,38)"
             ]
            ],
            "showscale": false,
            "size": 10,
            "symbol": "circle"
           },
           "mode": "markers",
           "type": "scatter",
           "x": [
            75.32,
            76.29,
            72.69,
            75.37,
            75.38,
            76.39,
            72.7,
            75.42,
            75.5,
            76.53,
            72.74,
            75.48
           ],
           "y": [
            28.68,
            21.36,
            25.11,
            25.6,
            28.69,
            21.37,
            25.09,
            25.59,
            28.71,
            21.36,
            25.08,
            25.59
           ]
          },
          {
           "legendgroup": "Blockers",
           "marker": {
            "color": "black",
            "size": 20,
            "symbol": "x"
           },
           "mode": "markers",
           "name": "Blockers",
           "type": "scatter",
           "x": [
            78.4,
            78.39,
            78.25,
            78.16,
            77.95
           ],
           "y": [
            23.07,
            29.29,
            25.11,
            28.03,
            26.43
           ]
          },
          {
           "legendgroup": "QB",
           "marker": {
            "color": "black",
            "size": 20,
            "symbol": "diamond"
           },
           "mode": "markers",
           "name": "QB",
           "type": "scatter",
           "x": [
            81.55
           ],
           "y": [
            26.49
           ]
          },
          {
           "mode": "text",
           "text": [
            "QB Distruption Probability: 0.259"
           ],
           "textfont": {
            "color": "black",
            "size": 17
           },
           "type": "scatter",
           "x": [
            74.69
           ],
           "y": [
            30.67
           ]
          }
         ]
        },
        {
         "data": [
          {
           "legendgroup": "Rushers",
           "marker": {
            "cmax": 0.3,
            "cmin": -0.3,
            "color": [
             0.002268075942993164,
             -0.011516287922859192,
             0.0034280866384506226,
             0.02354523539543152
            ],
            "colorscale": [
             [
              0,
              "rgb(49,54,149)"
             ],
             [
              0.1,
              "rgb(69,117,180)"
             ],
             [
              0.2,
              "rgb(116,173,209)"
             ],
             [
              0.3,
              "rgb(171,217,233)"
             ],
             [
              0.4,
              "rgb(224,243,248)"
             ],
             [
              0.5,
              "rgb(255,255,191)"
             ],
             [
              0.6,
              "rgb(254,224,144)"
             ],
             [
              0.7,
              "rgb(253,174,97)"
             ],
             [
              0.8,
              "rgb(244,109,67)"
             ],
             [
              0.9,
              "rgb(215,48,39)"
             ],
             [
              1,
              "rgb(165,0,38)"
             ]
            ],
            "showscale": false,
            "size": 20
           },
           "mode": "markers+text",
           "name": "Rushers",
           "text": [
            "Rusher Metric: 0.002",
            "Rusher Metric: -0.012",
            "Rusher Metric: 0.003",
            "Rusher Metric: 0.024"
           ],
           "textposition": "bottom center",
           "type": "scatter",
           "x": [
            75.83,
            76.89,
            72.9,
            75.71
           ],
           "y": [
            28.8,
            21.33,
            25.09,
            25.59
           ]
          },
          {
           "marker": {
            "cmax": 0.3,
            "cmin": -0.3,
            "color": [
             -0.0035824179649353027,
             0.0009929835796356201,
             -0.0011959969997406006,
             -0.015029162168502808,
             -0.0008094310760498047,
             -0.009118258953094482,
             -0.0035460293292999268,
             -0.0005391538143157959,
             0.005627363920211792,
             -0.011396944522857666,
             0.0020392239093780518,
             0.008966147899627686,
             -0.00023916363716125488,
             -0.014789104461669922,
             0.0016776323318481445,
             0.019344568252563477
            ],
            "colorscale": [
             [
              0,
              "rgb(49,54,149)"
             ],
             [
              0.1,
              "rgb(69,117,180)"
             ],
             [
              0.2,
              "rgb(116,173,209)"
             ],
             [
              0.3,
              "rgb(171,217,233)"
             ],
             [
              0.4,
              "rgb(224,243,248)"
             ],
             [
              0.5,
              "rgb(255,255,191)"
             ],
             [
              0.6,
              "rgb(254,224,144)"
             ],
             [
              0.7,
              "rgb(253,174,97)"
             ],
             [
              0.8,
              "rgb(244,109,67)"
             ],
             [
              0.9,
              "rgb(215,48,39)"
             ],
             [
              1,
              "rgb(165,0,38)"
             ]
            ],
            "showscale": false,
            "size": 10,
            "symbol": "circle"
           },
           "mode": "markers",
           "type": "scatter",
           "x": [
            75.32,
            76.29,
            72.69,
            75.37,
            75.38,
            76.39,
            72.7,
            75.42,
            75.5,
            76.53,
            72.74,
            75.48,
            75.64,
            76.69,
            72.81,
            75.58
           ],
           "y": [
            28.68,
            21.36,
            25.11,
            25.6,
            28.69,
            21.37,
            25.09,
            25.59,
            28.71,
            21.36,
            25.08,
            25.59,
            28.75,
            21.34,
            25.08,
            25.59
           ]
          },
          {
           "legendgroup": "Blockers",
           "marker": {
            "color": "black",
            "size": 20,
            "symbol": "x"
           },
           "mode": "markers",
           "name": "Blockers",
           "type": "scatter",
           "x": [
            78.48,
            78.45,
            78.34,
            78.28,
            78.1
           ],
           "y": [
            23.01,
            29.32,
            25.18,
            28.08,
            26.44
           ]
          },
          {
           "legendgroup": "QB",
           "marker": {
            "color": "black",
            "size": 20,
            "symbol": "diamond"
           },
           "mode": "markers",
           "name": "QB",
           "type": "scatter",
           "x": [
            81.68
           ],
           "y": [
            26.48
           ]
          },
          {
           "mode": "text",
           "text": [
            "QB Distruption Probability: 0.247"
           ],
           "textfont": {
            "color": "black",
            "size": 17
           },
           "type": "scatter",
           "x": [
            74.69
           ],
           "y": [
            30.67
           ]
          }
         ]
        },
        {
         "data": [
          {
           "legendgroup": "Rushers",
           "marker": {
            "cmax": 0.3,
            "cmin": -0.3,
            "color": [
             0.032263949513435364,
             -0.0057565271854400635,
             0.009186327457427979,
             0.04480317234992981
            ],
            "colorscale": [
             [
              0,
              "rgb(49,54,149)"
             ],
             [
              0.1,
              "rgb(69,117,180)"
             ],
             [
              0.2,
              "rgb(116,173,209)"
             ],
             [
              0.3,
              "rgb(171,217,233)"
             ],
             [
              0.4,
              "rgb(224,243,248)"
             ],
             [
              0.5,
              "rgb(255,255,191)"
             ],
             [
              0.6,
              "rgb(254,224,144)"
             ],
             [
              0.7,
              "rgb(253,174,97)"
             ],
             [
              0.8,
              "rgb(244,109,67)"
             ],
             [
              0.9,
              "rgb(215,48,39)"
             ],
             [
              1,
              "rgb(165,0,38)"
             ]
            ],
            "showscale": false,
            "size": 20
           },
           "mode": "markers+text",
           "name": "Rushers",
           "text": [
            "Rusher Metric: 0.032",
            "Rusher Metric: -0.006",
            "Rusher Metric: 0.009",
            "Rusher Metric: 0.045"
           ],
           "textposition": "bottom center",
           "type": "scatter",
           "x": [
            76.08,
            77.11,
            73.03,
            75.88
           ],
           "y": [
            28.85,
            21.33,
            25.11,
            25.61
           ]
          },
          {
           "marker": {
            "cmax": 0.3,
            "cmin": -0.3,
            "color": [
             -0.0035824179649353027,
             0.0009929835796356201,
             -0.0011959969997406006,
             -0.015029162168502808,
             -0.0008094310760498047,
             -0.009118258953094482,
             -0.0035460293292999268,
             -0.0005391538143157959,
             0.005627363920211792,
             -0.011396944522857666,
             0.0020392239093780518,
             0.008966147899627686,
             -0.00023916363716125488,
             -0.014789104461669922,
             0.0016776323318481445,
             0.019344568252563477,
             0.002268075942993164,
             -0.011516287922859192,
             0.0034280866384506226,
             0.02354523539543152
            ],
            "colorscale": [
             [
              0,
              "rgb(49,54,149)"
             ],
             [
              0.1,
              "rgb(69,117,180)"
             ],
             [
              0.2,
              "rgb(116,173,209)"
             ],
             [
              0.3,
              "rgb(171,217,233)"
             ],
             [
              0.4,
              "rgb(224,243,248)"
             ],
             [
              0.5,
              "rgb(255,255,191)"
             ],
             [
              0.6,
              "rgb(254,224,144)"
             ],
             [
              0.7,
              "rgb(253,174,97)"
             ],
             [
              0.8,
              "rgb(244,109,67)"
             ],
             [
              0.9,
              "rgb(215,48,39)"
             ],
             [
              1,
              "rgb(165,0,38)"
             ]
            ],
            "showscale": false,
            "size": 10,
            "symbol": "circle"
           },
           "mode": "markers",
           "type": "scatter",
           "x": [
            75.32,
            76.29,
            72.69,
            75.37,
            75.38,
            76.39,
            72.7,
            75.42,
            75.5,
            76.53,
            72.74,
            75.48,
            75.64,
            76.69,
            72.81,
            75.58,
            75.83,
            76.89,
            72.9,
            75.71
           ],
           "y": [
            28.68,
            21.36,
            25.11,
            25.6,
            28.69,
            21.37,
            25.09,
            25.59,
            28.71,
            21.36,
            25.08,
            25.59,
            28.75,
            21.34,
            25.08,
            25.59,
            28.8,
            21.33,
            25.09,
            25.59
           ]
          },
          {
           "legendgroup": "Blockers",
           "marker": {
            "color": "black",
            "size": 20,
            "symbol": "x"
           },
           "mode": "markers",
           "name": "Blockers",
           "type": "scatter",
           "x": [
            78.56,
            78.51,
            78.43,
            78.41,
            78.27
           ],
           "y": [
            22.95,
            29.34,
            25.25,
            28.14,
            26.46
           ]
          },
          {
           "legendgroup": "QB",
           "marker": {
            "color": "black",
            "size": 20,
            "symbol": "diamond"
           },
           "mode": "markers",
           "name": "QB",
           "type": "scatter",
           "x": [
            81.79
           ],
           "y": [
            26.48
           ]
          },
          {
           "mode": "text",
           "text": [
            "QB Distruption Probability: 0.276"
           ],
           "textfont": {
            "color": "black",
            "size": 17
           },
           "type": "scatter",
           "x": [
            74.69
           ],
           "y": [
            30.67
           ]
          }
         ]
        },
        {
         "data": [
          {
           "legendgroup": "Rushers",
           "marker": {
            "cmax": 0.3,
            "cmin": -0.3,
            "color": [
             0.05849538743495941,
             -0.002558887004852295,
             0.0105876624584198,
             0.07764099538326263
            ],
            "colorscale": [
             [
              0,
              "rgb(49,54,149)"
             ],
             [
              0.1,
              "rgb(69,117,180)"
             ],
             [
              0.2,
              "rgb(116,173,209)"
             ],
             [
              0.3,
              "rgb(171,217,233)"
             ],
             [
              0.4,
              "rgb(224,243,248)"
             ],
             [
              0.5,
              "rgb(255,255,191)"
             ],
             [
              0.6,
              "rgb(254,224,144)"
             ],
             [
              0.7,
              "rgb(253,174,97)"
             ],
             [
              0.8,
              "rgb(244,109,67)"
             ],
             [
              0.9,
              "rgb(215,48,39)"
             ],
             [
              1,
              "rgb(165,0,38)"
             ]
            ],
            "showscale": false,
            "size": 20
           },
           "mode": "markers+text",
           "name": "Rushers",
           "text": [
            "Rusher Metric: 0.058",
            "Rusher Metric: -0.003",
            "Rusher Metric: 0.011",
            "Rusher Metric: 0.078"
           ],
           "textposition": "bottom center",
           "type": "scatter",
           "x": [
            76.35,
            77.36,
            73.2,
            76.1
           ],
           "y": [
            28.9,
            21.36,
            25.13,
            25.62
           ]
          },
          {
           "marker": {
            "cmax": 0.3,
            "cmin": -0.3,
            "color": [
             -0.0035824179649353027,
             0.0009929835796356201,
             -0.0011959969997406006,
             -0.015029162168502808,
             -0.0008094310760498047,
             -0.009118258953094482,
             -0.0035460293292999268,
             -0.0005391538143157959,
             0.005627363920211792,
             -0.011396944522857666,
             0.0020392239093780518,
             0.008966147899627686,
             -0.00023916363716125488,
             -0.014789104461669922,
             0.0016776323318481445,
             0.019344568252563477,
             0.002268075942993164,
             -0.011516287922859192,
             0.0034280866384506226,
             0.02354523539543152,
             0.032263949513435364,
             -0.0057565271854400635,
             0.009186327457427979,
             0.04480317234992981
            ],
            "colorscale": [
             [
              0,
              "rgb(49,54,149)"
             ],
             [
              0.1,
              "rgb(69,117,180)"
             ],
             [
              0.2,
              "rgb(116,173,209)"
             ],
             [
              0.3,
              "rgb(171,217,233)"
             ],
             [
              0.4,
              "rgb(224,243,248)"
             ],
             [
              0.5,
              "rgb(255,255,191)"
             ],
             [
              0.6,
              "rgb(254,224,144)"
             ],
             [
              0.7,
              "rgb(253,174,97)"
             ],
             [
              0.8,
              "rgb(244,109,67)"
             ],
             [
              0.9,
              "rgb(215,48,39)"
             ],
             [
              1,
              "rgb(165,0,38)"
             ]
            ],
            "showscale": false,
            "size": 10,
            "symbol": "circle"
           },
           "mode": "markers",
           "type": "scatter",
           "x": [
            75.32,
            76.29,
            72.69,
            75.37,
            75.38,
            76.39,
            72.7,
            75.42,
            75.5,
            76.53,
            72.74,
            75.48,
            75.64,
            76.69,
            72.81,
            75.58,
            75.83,
            76.89,
            72.9,
            75.71,
            76.08,
            77.11,
            73.03,
            75.88
           ],
           "y": [
            28.68,
            21.36,
            25.11,
            25.6,
            28.69,
            21.37,
            25.09,
            25.59,
            28.71,
            21.36,
            25.08,
            25.59,
            28.75,
            21.34,
            25.08,
            25.59,
            28.8,
            21.33,
            25.09,
            25.59,
            28.85,
            21.33,
            25.11,
            25.61
           ]
          },
          {
           "legendgroup": "Blockers",
           "marker": {
            "color": "black",
            "size": 20,
            "symbol": "x"
           },
           "mode": "markers",
           "name": "Blockers",
           "type": "scatter",
           "x": [
            78.67,
            78.61,
            78.54,
            78.54,
            78.46
           ],
           "y": [
            22.87,
            29.39,
            25.31,
            28.2,
            26.53
           ]
          },
          {
           "legendgroup": "QB",
           "marker": {
            "color": "black",
            "size": 20,
            "symbol": "diamond"
           },
           "mode": "markers",
           "name": "QB",
           "type": "scatter",
           "x": [
            81.92
           ],
           "y": [
            26.49
           ]
          },
          {
           "mode": "text",
           "text": [
            "QB Distruption Probability: 0.289"
           ],
           "textfont": {
            "color": "black",
            "size": 17
           },
           "type": "scatter",
           "x": [
            74.69
           ],
           "y": [
            30.67
           ]
          }
         ]
        },
        {
         "data": [
          {
           "legendgroup": "Rushers",
           "marker": {
            "cmax": 0.3,
            "cmin": -0.3,
            "color": [
             0.09481798112392426,
             0.0012027323246002197,
             0.013115674257278442,
             0.11470003426074982
            ],
            "colorscale": [
             [
              0,
              "rgb(49,54,149)"
             ],
             [
              0.1,
              "rgb(69,117,180)"
             ],
             [
              0.2,
              "rgb(116,173,209)"
             ],
             [
              0.3,
              "rgb(171,217,233)"
             ],
             [
              0.4,
              "rgb(224,243,248)"
             ],
             [
              0.5,
              "rgb(255,255,191)"
             ],
             [
              0.6,
              "rgb(254,224,144)"
             ],
             [
              0.7,
              "rgb(253,174,97)"
             ],
             [
              0.8,
              "rgb(244,109,67)"
             ],
             [
              0.9,
              "rgb(215,48,39)"
             ],
             [
              1,
              "rgb(165,0,38)"
             ]
            ],
            "showscale": false,
            "size": 20
           },
           "mode": "markers+text",
           "name": "Rushers",
           "text": [
            "Rusher Metric: 0.095",
            "Rusher Metric: 0.001",
            "Rusher Metric: 0.013",
            "Rusher Metric: 0.115"
           ],
           "textposition": "bottom center",
           "type": "scatter",
           "x": [
            76.65,
            77.61,
            73.42,
            76.36
           ],
           "y": [
            28.96,
            21.43,
            25.18,
            25.64
           ]
          },
          {
           "marker": {
            "cmax": 0.3,
            "cmin": -0.3,
            "color": [
             -0.0035824179649353027,
             0.0009929835796356201,
             -0.0011959969997406006,
             -0.015029162168502808,
             -0.0008094310760498047,
             -0.009118258953094482,
             -0.0035460293292999268,
             -0.0005391538143157959,
             0.005627363920211792,
             -0.011396944522857666,
             0.0020392239093780518,
             0.008966147899627686,
             -0.00023916363716125488,
             -0.014789104461669922,
             0.0016776323318481445,
             0.019344568252563477,
             0.002268075942993164,
             -0.011516287922859192,
             0.0034280866384506226,
             0.02354523539543152,
             0.032263949513435364,
             -0.0057565271854400635,
             0.009186327457427979,
             0.04480317234992981,
             0.05849538743495941,
             -0.002558887004852295,
             0.0105876624584198,
             0.07764099538326263
            ],
            "colorscale": [
             [
              0,
              "rgb(49,54,149)"
             ],
             [
              0.1,
              "rgb(69,117,180)"
             ],
             [
              0.2,
              "rgb(116,173,209)"
             ],
             [
              0.3,
              "rgb(171,217,233)"
             ],
             [
              0.4,
              "rgb(224,243,248)"
             ],
             [
              0.5,
              "rgb(255,255,191)"
             ],
             [
              0.6,
              "rgb(254,224,144)"
             ],
             [
              0.7,
              "rgb(253,174,97)"
             ],
             [
              0.8,
              "rgb(244,109,67)"
             ],
             [
              0.9,
              "rgb(215,48,39)"
             ],
             [
              1,
              "rgb(165,0,38)"
             ]
            ],
            "showscale": false,
            "size": 10,
            "symbol": "circle"
           },
           "mode": "markers",
           "type": "scatter",
           "x": [
            75.32,
            76.29,
            72.69,
            75.37,
            75.38,
            76.39,
            72.7,
            75.42,
            75.5,
            76.53,
            72.74,
            75.48,
            75.64,
            76.69,
            72.81,
            75.58,
            75.83,
            76.89,
            72.9,
            75.71,
            76.08,
            77.11,
            73.03,
            75.88,
            76.35,
            77.36,
            73.2,
            76.1
           ],
           "y": [
            28.68,
            21.36,
            25.11,
            25.6,
            28.69,
            21.37,
            25.09,
            25.59,
            28.71,
            21.36,
            25.08,
            25.59,
            28.75,
            21.34,
            25.08,
            25.59,
            28.8,
            21.33,
            25.09,
            25.59,
            28.85,
            21.33,
            25.11,
            25.61,
            28.9,
            21.36,
            25.13,
            25.62
           ]
          },
          {
           "legendgroup": "Blockers",
           "marker": {
            "color": "black",
            "size": 20,
            "symbol": "x"
           },
           "mode": "markers",
           "name": "Blockers",
           "type": "scatter",
           "x": [
            78.8,
            78.73,
            78.66,
            78.7,
            78.66
           ],
           "y": [
            22.79,
            29.44,
            25.37,
            28.26,
            26.59
           ]
          },
          {
           "legendgroup": "QB",
           "marker": {
            "color": "black",
            "size": 20,
            "symbol": "diamond"
           },
           "mode": "markers",
           "name": "QB",
           "type": "scatter",
           "x": [
            82.05
           ],
           "y": [
            26.48
           ]
          },
          {
           "mode": "text",
           "text": [
            "QB Distruption Probability: 0.322"
           ],
           "textfont": {
            "color": "black",
            "size": 17
           },
           "type": "scatter",
           "x": [
            74.69
           ],
           "y": [
            30.67
           ]
          }
         ]
        },
        {
         "data": [
          {
           "legendgroup": "Rushers",
           "marker": {
            "cmax": 0.3,
            "cmin": -0.3,
            "color": [
             0.14204815030097961,
             0.0004703998565673828,
             0.008370190858840942,
             0.15681840479373932
            ],
            "colorscale": [
             [
              0,
              "rgb(49,54,149)"
             ],
             [
              0.1,
              "rgb(69,117,180)"
             ],
             [
              0.2,
              "rgb(116,173,209)"
             ],
             [
              0.3,
              "rgb(171,217,233)"
             ],
             [
              0.4,
              "rgb(224,243,248)"
             ],
             [
              0.5,
              "rgb(255,255,191)"
             ],
             [
              0.6,
              "rgb(254,224,144)"
             ],
             [
              0.7,
              "rgb(253,174,97)"
             ],
             [
              0.8,
              "rgb(244,109,67)"
             ],
             [
              0.9,
              "rgb(215,48,39)"
             ],
             [
              1,
              "rgb(165,0,38)"
             ]
            ],
            "showscale": false,
            "size": 20
           },
           "mode": "markers+text",
           "name": "Rushers",
           "text": [
            "Rusher Metric: 0.142",
            "Rusher Metric: 0.0",
            "Rusher Metric: 0.008",
            "Rusher Metric: 0.157"
           ],
           "textposition": "bottom center",
           "type": "scatter",
           "x": [
            77,
            77.86,
            73.69,
            76.66
           ],
           "y": [
            29.03,
            21.51,
            25.23,
            25.68
           ]
          },
          {
           "marker": {
            "cmax": 0.3,
            "cmin": -0.3,
            "color": [
             -0.0035824179649353027,
             0.0009929835796356201,
             -0.0011959969997406006,
             -0.015029162168502808,
             -0.0008094310760498047,
             -0.009118258953094482,
             -0.0035460293292999268,
             -0.0005391538143157959,
             0.005627363920211792,
             -0.011396944522857666,
             0.0020392239093780518,
             0.008966147899627686,
             -0.00023916363716125488,
             -0.014789104461669922,
             0.0016776323318481445,
             0.019344568252563477,
             0.002268075942993164,
             -0.011516287922859192,
             0.0034280866384506226,
             0.02354523539543152,
             0.032263949513435364,
             -0.0057565271854400635,
             0.009186327457427979,
             0.04480317234992981,
             0.05849538743495941,
             -0.002558887004852295,
             0.0105876624584198,
             0.07764099538326263,
             0.09481798112392426,
             0.0012027323246002197,
             0.013115674257278442,
             0.11470003426074982
            ],
            "colorscale": [
             [
              0,
              "rgb(49,54,149)"
             ],
             [
              0.1,
              "rgb(69,117,180)"
             ],
             [
              0.2,
              "rgb(116,173,209)"
             ],
             [
              0.3,
              "rgb(171,217,233)"
             ],
             [
              0.4,
              "rgb(224,243,248)"
             ],
             [
              0.5,
              "rgb(255,255,191)"
             ],
             [
              0.6,
              "rgb(254,224,144)"
             ],
             [
              0.7,
              "rgb(253,174,97)"
             ],
             [
              0.8,
              "rgb(244,109,67)"
             ],
             [
              0.9,
              "rgb(215,48,39)"
             ],
             [
              1,
              "rgb(165,0,38)"
             ]
            ],
            "showscale": false,
            "size": 10,
            "symbol": "circle"
           },
           "mode": "markers",
           "type": "scatter",
           "x": [
            75.32,
            76.29,
            72.69,
            75.37,
            75.38,
            76.39,
            72.7,
            75.42,
            75.5,
            76.53,
            72.74,
            75.48,
            75.64,
            76.69,
            72.81,
            75.58,
            75.83,
            76.89,
            72.9,
            75.71,
            76.08,
            77.11,
            73.03,
            75.88,
            76.35,
            77.36,
            73.2,
            76.1,
            76.65,
            77.61,
            73.42,
            76.36
           ],
           "y": [
            28.68,
            21.36,
            25.11,
            25.6,
            28.69,
            21.37,
            25.09,
            25.59,
            28.71,
            21.36,
            25.08,
            25.59,
            28.75,
            21.34,
            25.08,
            25.59,
            28.8,
            21.33,
            25.09,
            25.59,
            28.85,
            21.33,
            25.11,
            25.61,
            28.9,
            21.36,
            25.13,
            25.62,
            28.96,
            21.43,
            25.18,
            25.64
           ]
          },
          {
           "legendgroup": "Blockers",
           "marker": {
            "color": "black",
            "size": 20,
            "symbol": "x"
           },
           "mode": "markers",
           "name": "Blockers",
           "type": "scatter",
           "x": [
            78.95,
            78.87,
            78.76,
            78.86,
            78.88
           ],
           "y": [
            22.72,
            29.51,
            25.44,
            28.33,
            26.67
           ]
          },
          {
           "legendgroup": "QB",
           "marker": {
            "color": "black",
            "size": 20,
            "symbol": "diamond"
           },
           "mode": "markers",
           "name": "QB",
           "type": "scatter",
           "x": [
            82.22
           ],
           "y": [
            26.48
           ]
          },
          {
           "mode": "text",
           "text": [
            "QB Distruption Probability: 0.343"
           ],
           "textfont": {
            "color": "black",
            "size": 17
           },
           "type": "scatter",
           "x": [
            74.69
           ],
           "y": [
            30.67
           ]
          }
         ]
        },
        {
         "data": [
          {
           "legendgroup": "Rushers",
           "marker": {
            "cmax": 0.3,
            "cmin": -0.3,
            "color": [
             0.18598075211048126,
             -0.0011706650257110596,
             0.015088319778442383,
             0.19568094611167908
            ],
            "colorscale": [
             [
              0,
              "rgb(49,54,149)"
             ],
             [
              0.1,
              "rgb(69,117,180)"
             ],
             [
              0.2,
              "rgb(116,173,209)"
             ],
             [
              0.3,
              "rgb(171,217,233)"
             ],
             [
              0.4,
              "rgb(224,243,248)"
             ],
             [
              0.5,
              "rgb(255,255,191)"
             ],
             [
              0.6,
              "rgb(254,224,144)"
             ],
             [
              0.7,
              "rgb(253,174,97)"
             ],
             [
              0.8,
              "rgb(244,109,67)"
             ],
             [
              0.9,
              "rgb(215,48,39)"
             ],
             [
              1,
              "rgb(165,0,38)"
             ]
            ],
            "showscale": false,
            "size": 20
           },
           "mode": "markers+text",
           "name": "Rushers",
           "text": [
            "Rusher Metric: 0.186",
            "Rusher Metric: -0.001",
            "Rusher Metric: 0.015",
            "Rusher Metric: 0.196"
           ],
           "textposition": "bottom center",
           "type": "scatter",
           "x": [
            77.36,
            78.1,
            74.02,
            76.98
           ],
           "y": [
            29.09,
            21.64,
            25.3,
            25.72
           ]
          },
          {
           "marker": {
            "cmax": 0.3,
            "cmin": -0.3,
            "color": [
             -0.0035824179649353027,
             0.0009929835796356201,
             -0.0011959969997406006,
             -0.015029162168502808,
             -0.0008094310760498047,
             -0.009118258953094482,
             -0.0035460293292999268,
             -0.0005391538143157959,
             0.005627363920211792,
             -0.011396944522857666,
             0.0020392239093780518,
             0.008966147899627686,
             -0.00023916363716125488,
             -0.014789104461669922,
             0.0016776323318481445,
             0.019344568252563477,
             0.002268075942993164,
             -0.011516287922859192,
             0.0034280866384506226,
             0.02354523539543152,
             0.032263949513435364,
             -0.0057565271854400635,
             0.009186327457427979,
             0.04480317234992981,
             0.05849538743495941,
             -0.002558887004852295,
             0.0105876624584198,
             0.07764099538326263,
             0.09481798112392426,
             0.0012027323246002197,
             0.013115674257278442,
             0.11470003426074982,
             0.14204815030097961,
             0.0004703998565673828,
             0.008370190858840942,
             0.15681840479373932
            ],
            "colorscale": [
             [
              0,
              "rgb(49,54,149)"
             ],
             [
              0.1,
              "rgb(69,117,180)"
             ],
             [
              0.2,
              "rgb(116,173,209)"
             ],
             [
              0.3,
              "rgb(171,217,233)"
             ],
             [
              0.4,
              "rgb(224,243,248)"
             ],
             [
              0.5,
              "rgb(255,255,191)"
             ],
             [
              0.6,
              "rgb(254,224,144)"
             ],
             [
              0.7,
              "rgb(253,174,97)"
             ],
             [
              0.8,
              "rgb(244,109,67)"
             ],
             [
              0.9,
              "rgb(215,48,39)"
             ],
             [
              1,
              "rgb(165,0,38)"
             ]
            ],
            "showscale": false,
            "size": 10,
            "symbol": "circle"
           },
           "mode": "markers",
           "type": "scatter",
           "x": [
            75.32,
            76.29,
            72.69,
            75.37,
            75.38,
            76.39,
            72.7,
            75.42,
            75.5,
            76.53,
            72.74,
            75.48,
            75.64,
            76.69,
            72.81,
            75.58,
            75.83,
            76.89,
            72.9,
            75.71,
            76.08,
            77.11,
            73.03,
            75.88,
            76.35,
            77.36,
            73.2,
            76.1,
            76.65,
            77.61,
            73.42,
            76.36,
            77,
            77.86,
            73.69,
            76.66
           ],
           "y": [
            28.68,
            21.36,
            25.11,
            25.6,
            28.69,
            21.37,
            25.09,
            25.59,
            28.71,
            21.36,
            25.08,
            25.59,
            28.75,
            21.34,
            25.08,
            25.59,
            28.8,
            21.33,
            25.09,
            25.59,
            28.85,
            21.33,
            25.11,
            25.61,
            28.9,
            21.36,
            25.13,
            25.62,
            28.96,
            21.43,
            25.18,
            25.64,
            29.03,
            21.51,
            25.23,
            25.68
           ]
          },
          {
           "legendgroup": "Blockers",
           "marker": {
            "color": "black",
            "size": 20,
            "symbol": "x"
           },
           "mode": "markers",
           "name": "Blockers",
           "type": "scatter",
           "x": [
            79.1,
            79.02,
            78.88,
            79.06,
            79.09
           ],
           "y": [
            22.67,
            29.57,
            25.52,
            28.43,
            26.76
           ]
          },
          {
           "legendgroup": "QB",
           "marker": {
            "color": "black",
            "size": 20,
            "symbol": "diamond"
           },
           "mode": "markers",
           "name": "QB",
           "type": "scatter",
           "x": [
            82.4
           ],
           "y": [
            26.48
           ]
          },
          {
           "mode": "text",
           "text": [
            "QB Distruption Probability: 0.378"
           ],
           "textfont": {
            "color": "black",
            "size": 17
           },
           "type": "scatter",
           "x": [
            74.69
           ],
           "y": [
            30.67
           ]
          }
         ]
        },
        {
         "data": [
          {
           "legendgroup": "Rushers",
           "marker": {
            "cmax": 0.3,
            "cmin": -0.3,
            "color": [
             0.19447414577007294,
             -0.0008240342140197754,
             0.018021583557128906,
             0.19768553972244263
            ],
            "colorscale": [
             [
              0,
              "rgb(49,54,149)"
             ],
             [
              0.1,
              "rgb(69,117,180)"
             ],
             [
              0.2,
              "rgb(116,173,209)"
             ],
             [
              0.3,
              "rgb(171,217,233)"
             ],
             [
              0.4,
              "rgb(224,243,248)"
             ],
             [
              0.5,
              "rgb(255,255,191)"
             ],
             [
              0.6,
              "rgb(254,224,144)"
             ],
             [
              0.7,
              "rgb(253,174,97)"
             ],
             [
              0.8,
              "rgb(244,109,67)"
             ],
             [
              0.9,
              "rgb(215,48,39)"
             ],
             [
              1,
              "rgb(165,0,38)"
             ]
            ],
            "showscale": false,
            "size": 20
           },
           "mode": "markers+text",
           "name": "Rushers",
           "text": [
            "Rusher Metric: 0.194",
            "Rusher Metric: -0.001",
            "Rusher Metric: 0.018",
            "Rusher Metric: 0.198"
           ],
           "textposition": "bottom center",
           "type": "scatter",
           "x": [
            77.73,
            78.32,
            74.39,
            77.3
           ],
           "y": [
            29.13,
            21.82,
            25.37,
            25.77
           ]
          },
          {
           "marker": {
            "cmax": 0.3,
            "cmin": -0.3,
            "color": [
             -0.0035824179649353027,
             0.0009929835796356201,
             -0.0011959969997406006,
             -0.015029162168502808,
             -0.0008094310760498047,
             -0.009118258953094482,
             -0.0035460293292999268,
             -0.0005391538143157959,
             0.005627363920211792,
             -0.011396944522857666,
             0.0020392239093780518,
             0.008966147899627686,
             -0.00023916363716125488,
             -0.014789104461669922,
             0.0016776323318481445,
             0.019344568252563477,
             0.002268075942993164,
             -0.011516287922859192,
             0.0034280866384506226,
             0.02354523539543152,
             0.032263949513435364,
             -0.0057565271854400635,
             0.009186327457427979,
             0.04480317234992981,
             0.05849538743495941,
             -0.002558887004852295,
             0.0105876624584198,
             0.07764099538326263,
             0.09481798112392426,
             0.0012027323246002197,
             0.013115674257278442,
             0.11470003426074982,
             0.14204815030097961,
             0.0004703998565673828,
             0.008370190858840942,
             0.15681840479373932,
             0.18598075211048126,
             -0.0011706650257110596,
             0.015088319778442383,
             0.19568094611167908
            ],
            "colorscale": [
             [
              0,
              "rgb(49,54,149)"
             ],
             [
              0.1,
              "rgb(69,117,180)"
             ],
             [
              0.2,
              "rgb(116,173,209)"
             ],
             [
              0.3,
              "rgb(171,217,233)"
             ],
             [
              0.4,
              "rgb(224,243,248)"
             ],
             [
              0.5,
              "rgb(255,255,191)"
             ],
             [
              0.6,
              "rgb(254,224,144)"
             ],
             [
              0.7,
              "rgb(253,174,97)"
             ],
             [
              0.8,
              "rgb(244,109,67)"
             ],
             [
              0.9,
              "rgb(215,48,39)"
             ],
             [
              1,
              "rgb(165,0,38)"
             ]
            ],
            "showscale": false,
            "size": 10,
            "symbol": "circle"
           },
           "mode": "markers",
           "type": "scatter",
           "x": [
            75.32,
            76.29,
            72.69,
            75.37,
            75.38,
            76.39,
            72.7,
            75.42,
            75.5,
            76.53,
            72.74,
            75.48,
            75.64,
            76.69,
            72.81,
            75.58,
            75.83,
            76.89,
            72.9,
            75.71,
            76.08,
            77.11,
            73.03,
            75.88,
            76.35,
            77.36,
            73.2,
            76.1,
            76.65,
            77.61,
            73.42,
            76.36,
            77,
            77.86,
            73.69,
            76.66,
            77.36,
            78.1,
            74.02,
            76.98
           ],
           "y": [
            28.68,
            21.36,
            25.11,
            25.6,
            28.69,
            21.37,
            25.09,
            25.59,
            28.71,
            21.36,
            25.08,
            25.59,
            28.75,
            21.34,
            25.08,
            25.59,
            28.8,
            21.33,
            25.09,
            25.59,
            28.85,
            21.33,
            25.11,
            25.61,
            28.9,
            21.36,
            25.13,
            25.62,
            28.96,
            21.43,
            25.18,
            25.64,
            29.03,
            21.51,
            25.23,
            25.68,
            29.09,
            21.64,
            25.3,
            25.72
           ]
          },
          {
           "legendgroup": "Blockers",
           "marker": {
            "color": "black",
            "size": 20,
            "symbol": "x"
           },
           "mode": "markers",
           "name": "Blockers",
           "type": "scatter",
           "x": [
            79.26,
            79.18,
            78.99,
            79.27,
            79.3
           ],
           "y": [
            22.63,
            29.61,
            25.59,
            28.5,
            26.83
           ]
          },
          {
           "legendgroup": "QB",
           "marker": {
            "color": "black",
            "size": 20,
            "symbol": "diamond"
           },
           "mode": "markers",
           "name": "QB",
           "type": "scatter",
           "x": [
            82.59
           ],
           "y": [
            26.48
           ]
          },
          {
           "mode": "text",
           "text": [
            "QB Distruption Probability: 0.389"
           ],
           "textfont": {
            "color": "black",
            "size": 17
           },
           "type": "scatter",
           "x": [
            74.69
           ],
           "y": [
            30.67
           ]
          }
         ]
        },
        {
         "data": [
          {
           "legendgroup": "Rushers",
           "marker": {
            "cmax": 0.3,
            "cmin": -0.3,
            "color": [
             0.19466069340705872,
             0.0005885958671569824,
             0.03291240334510803,
             0.19924943149089813
            ],
            "colorscale": [
             [
              0,
              "rgb(49,54,149)"
             ],
             [
              0.1,
              "rgb(69,117,180)"
             ],
             [
              0.2,
              "rgb(116,173,209)"
             ],
             [
              0.3,
              "rgb(171,217,233)"
             ],
             [
              0.4,
              "rgb(224,243,248)"
             ],
             [
              0.5,
              "rgb(255,255,191)"
             ],
             [
              0.6,
              "rgb(254,224,144)"
             ],
             [
              0.7,
              "rgb(253,174,97)"
             ],
             [
              0.8,
              "rgb(244,109,67)"
             ],
             [
              0.9,
              "rgb(215,48,39)"
             ],
             [
              1,
              "rgb(165,0,38)"
             ]
            ],
            "showscale": false,
            "size": 20
           },
           "mode": "markers+text",
           "name": "Rushers",
           "text": [
            "Rusher Metric: 0.195",
            "Rusher Metric: 0.001",
            "Rusher Metric: 0.033",
            "Rusher Metric: 0.199"
           ],
           "textposition": "bottom center",
           "type": "scatter",
           "x": [
            78.07,
            78.51,
            74.82,
            77.62
           ],
           "y": [
            29.15,
            22.06,
            25.45,
            25.84
           ]
          },
          {
           "marker": {
            "cmax": 0.3,
            "cmin": -0.3,
            "color": [
             -0.0035824179649353027,
             0.0009929835796356201,
             -0.0011959969997406006,
             -0.015029162168502808,
             -0.0008094310760498047,
             -0.009118258953094482,
             -0.0035460293292999268,
             -0.0005391538143157959,
             0.005627363920211792,
             -0.011396944522857666,
             0.0020392239093780518,
             0.008966147899627686,
             -0.00023916363716125488,
             -0.014789104461669922,
             0.0016776323318481445,
             0.019344568252563477,
             0.002268075942993164,
             -0.011516287922859192,
             0.0034280866384506226,
             0.02354523539543152,
             0.032263949513435364,
             -0.0057565271854400635,
             0.009186327457427979,
             0.04480317234992981,
             0.05849538743495941,
             -0.002558887004852295,
             0.0105876624584198,
             0.07764099538326263,
             0.09481798112392426,
             0.0012027323246002197,
             0.013115674257278442,
             0.11470003426074982,
             0.14204815030097961,
             0.0004703998565673828,
             0.008370190858840942,
             0.15681840479373932,
             0.18598075211048126,
             -0.0011706650257110596,
             0.015088319778442383,
             0.19568094611167908,
             0.19447414577007294,
             -0.0008240342140197754,
             0.018021583557128906,
             0.19768553972244263
            ],
            "colorscale": [
             [
              0,
              "rgb(49,54,149)"
             ],
             [
              0.1,
              "rgb(69,117,180)"
             ],
             [
              0.2,
              "rgb(116,173,209)"
             ],
             [
              0.3,
              "rgb(171,217,233)"
             ],
             [
              0.4,
              "rgb(224,243,248)"
             ],
             [
              0.5,
              "rgb(255,255,191)"
             ],
             [
              0.6,
              "rgb(254,224,144)"
             ],
             [
              0.7,
              "rgb(253,174,97)"
             ],
             [
              0.8,
              "rgb(244,109,67)"
             ],
             [
              0.9,
              "rgb(215,48,39)"
             ],
             [
              1,
              "rgb(165,0,38)"
             ]
            ],
            "showscale": false,
            "size": 10,
            "symbol": "circle"
           },
           "mode": "markers",
           "type": "scatter",
           "x": [
            75.32,
            76.29,
            72.69,
            75.37,
            75.38,
            76.39,
            72.7,
            75.42,
            75.5,
            76.53,
            72.74,
            75.48,
            75.64,
            76.69,
            72.81,
            75.58,
            75.83,
            76.89,
            72.9,
            75.71,
            76.08,
            77.11,
            73.03,
            75.88,
            76.35,
            77.36,
            73.2,
            76.1,
            76.65,
            77.61,
            73.42,
            76.36,
            77,
            77.86,
            73.69,
            76.66,
            77.36,
            78.1,
            74.02,
            76.98,
            77.73,
            78.32,
            74.39,
            77.3
           ],
           "y": [
            28.68,
            21.36,
            25.11,
            25.6,
            28.69,
            21.37,
            25.09,
            25.59,
            28.71,
            21.36,
            25.08,
            25.59,
            28.75,
            21.34,
            25.08,
            25.59,
            28.8,
            21.33,
            25.09,
            25.59,
            28.85,
            21.33,
            25.11,
            25.61,
            28.9,
            21.36,
            25.13,
            25.62,
            28.96,
            21.43,
            25.18,
            25.64,
            29.03,
            21.51,
            25.23,
            25.68,
            29.09,
            21.64,
            25.3,
            25.72,
            29.13,
            21.82,
            25.37,
            25.77
           ]
          },
          {
           "legendgroup": "Blockers",
           "marker": {
            "color": "black",
            "size": 20,
            "symbol": "x"
           },
           "mode": "markers",
           "name": "Blockers",
           "type": "scatter",
           "x": [
            79.41,
            79.33,
            79.11,
            79.47,
            79.52
           ],
           "y": [
            22.63,
            29.66,
            25.67,
            28.55,
            26.92
           ]
          },
          {
           "legendgroup": "QB",
           "marker": {
            "color": "black",
            "size": 20,
            "symbol": "diamond"
           },
           "mode": "markers",
           "name": "QB",
           "type": "scatter",
           "x": [
            82.79
           ],
           "y": [
            26.48
           ]
          },
          {
           "mode": "text",
           "text": [
            "QB Distruption Probability: 0.394"
           ],
           "textfont": {
            "color": "black",
            "size": 17
           },
           "type": "scatter",
           "x": [
            74.69
           ],
           "y": [
            30.67
           ]
          }
         ]
        },
        {
         "data": [
          {
           "legendgroup": "Rushers",
           "marker": {
            "cmax": 0.3,
            "cmin": -0.3,
            "color": [
             0.17696863412857056,
             -0.0017899274826049805,
             0.042174845933914185,
             0.1770760416984558
            ],
            "colorscale": [
             [
              0,
              "rgb(49,54,149)"
             ],
             [
              0.1,
              "rgb(69,117,180)"
             ],
             [
              0.2,
              "rgb(116,173,209)"
             ],
             [
              0.3,
              "rgb(171,217,233)"
             ],
             [
              0.4,
              "rgb(224,243,248)"
             ],
             [
              0.5,
              "rgb(255,255,191)"
             ],
             [
              0.6,
              "rgb(254,224,144)"
             ],
             [
              0.7,
              "rgb(253,174,97)"
             ],
             [
              0.8,
              "rgb(244,109,67)"
             ],
             [
              0.9,
              "rgb(215,48,39)"
             ],
             [
              1,
              "rgb(165,0,38)"
             ]
            ],
            "showscale": false,
            "size": 20
           },
           "mode": "markers+text",
           "name": "Rushers",
           "text": [
            "Rusher Metric: 0.177",
            "Rusher Metric: -0.002",
            "Rusher Metric: 0.042",
            "Rusher Metric: 0.177"
           ],
           "textposition": "bottom center",
           "type": "scatter",
           "x": [
            78.41,
            78.69,
            75.29,
            77.89
           ],
           "y": [
            29.17,
            22.29,
            25.51,
            25.89
           ]
          },
          {
           "marker": {
            "cmax": 0.3,
            "cmin": -0.3,
            "color": [
             -0.0035824179649353027,
             0.0009929835796356201,
             -0.0011959969997406006,
             -0.015029162168502808,
             -0.0008094310760498047,
             -0.009118258953094482,
             -0.0035460293292999268,
             -0.0005391538143157959,
             0.005627363920211792,
             -0.011396944522857666,
             0.0020392239093780518,
             0.008966147899627686,
             -0.00023916363716125488,
             -0.014789104461669922,
             0.0016776323318481445,
             0.019344568252563477,
             0.002268075942993164,
             -0.011516287922859192,
             0.0034280866384506226,
             0.02354523539543152,
             0.032263949513435364,
             -0.0057565271854400635,
             0.009186327457427979,
             0.04480317234992981,
             0.05849538743495941,
             -0.002558887004852295,
             0.0105876624584198,
             0.07764099538326263,
             0.09481798112392426,
             0.0012027323246002197,
             0.013115674257278442,
             0.11470003426074982,
             0.14204815030097961,
             0.0004703998565673828,
             0.008370190858840942,
             0.15681840479373932,
             0.18598075211048126,
             -0.0011706650257110596,
             0.015088319778442383,
             0.19568094611167908,
             0.19447414577007294,
             -0.0008240342140197754,
             0.018021583557128906,
             0.19768553972244263,
             0.19466069340705872,
             0.0005885958671569824,
             0.03291240334510803,
             0.19924943149089813
            ],
            "colorscale": [
             [
              0,
              "rgb(49,54,149)"
             ],
             [
              0.1,
              "rgb(69,117,180)"
             ],
             [
              0.2,
              "rgb(116,173,209)"
             ],
             [
              0.3,
              "rgb(171,217,233)"
             ],
             [
              0.4,
              "rgb(224,243,248)"
             ],
             [
              0.5,
              "rgb(255,255,191)"
             ],
             [
              0.6,
              "rgb(254,224,144)"
             ],
             [
              0.7,
              "rgb(253,174,97)"
             ],
             [
              0.8,
              "rgb(244,109,67)"
             ],
             [
              0.9,
              "rgb(215,48,39)"
             ],
             [
              1,
              "rgb(165,0,38)"
             ]
            ],
            "showscale": false,
            "size": 10,
            "symbol": "circle"
           },
           "mode": "markers",
           "type": "scatter",
           "x": [
            75.32,
            76.29,
            72.69,
            75.37,
            75.38,
            76.39,
            72.7,
            75.42,
            75.5,
            76.53,
            72.74,
            75.48,
            75.64,
            76.69,
            72.81,
            75.58,
            75.83,
            76.89,
            72.9,
            75.71,
            76.08,
            77.11,
            73.03,
            75.88,
            76.35,
            77.36,
            73.2,
            76.1,
            76.65,
            77.61,
            73.42,
            76.36,
            77,
            77.86,
            73.69,
            76.66,
            77.36,
            78.1,
            74.02,
            76.98,
            77.73,
            78.32,
            74.39,
            77.3,
            78.07,
            78.51,
            74.82,
            77.62
           ],
           "y": [
            28.68,
            21.36,
            25.11,
            25.6,
            28.69,
            21.37,
            25.09,
            25.59,
            28.71,
            21.36,
            25.08,
            25.59,
            28.75,
            21.34,
            25.08,
            25.59,
            28.8,
            21.33,
            25.09,
            25.59,
            28.85,
            21.33,
            25.11,
            25.61,
            28.9,
            21.36,
            25.13,
            25.62,
            28.96,
            21.43,
            25.18,
            25.64,
            29.03,
            21.51,
            25.23,
            25.68,
            29.09,
            21.64,
            25.3,
            25.72,
            29.13,
            21.82,
            25.37,
            25.77,
            29.15,
            22.06,
            25.45,
            25.84
           ]
          },
          {
           "legendgroup": "Blockers",
           "marker": {
            "color": "black",
            "size": 20,
            "symbol": "x"
           },
           "mode": "markers",
           "name": "Blockers",
           "type": "scatter",
           "x": [
            79.54,
            79.46,
            79.23,
            79.67,
            79.72
           ],
           "y": [
            22.66,
            29.66,
            25.74,
            28.61,
            27.01
           ]
          },
          {
           "legendgroup": "QB",
           "marker": {
            "color": "black",
            "size": 20,
            "symbol": "diamond"
           },
           "mode": "markers",
           "name": "QB",
           "type": "scatter",
           "x": [
            83
           ],
           "y": [
            26.48
           ]
          },
          {
           "mode": "text",
           "text": [
            "QB Distruption Probability: 0.373"
           ],
           "textfont": {
            "color": "black",
            "size": 17
           },
           "type": "scatter",
           "x": [
            74.69
           ],
           "y": [
            30.67
           ]
          }
         ]
        },
        {
         "data": [
          {
           "legendgroup": "Rushers",
           "marker": {
            "cmax": 0.3,
            "cmin": -0.3,
            "color": [
             0.16251394152641296,
             -0.0012878179550170898,
             0.04020005464553833,
             0.16443310678005219
            ],
            "colorscale": [
             [
              0,
              "rgb(49,54,149)"
             ],
             [
              0.1,
              "rgb(69,117,180)"
             ],
             [
              0.2,
              "rgb(116,173,209)"
             ],
             [
              0.3,
              "rgb(171,217,233)"
             ],
             [
              0.4,
              "rgb(224,243,248)"
             ],
             [
              0.5,
              "rgb(255,255,191)"
             ],
             [
              0.6,
              "rgb(254,224,144)"
             ],
             [
              0.7,
              "rgb(253,174,97)"
             ],
             [
              0.8,
              "rgb(244,109,67)"
             ],
             [
              0.9,
              "rgb(215,48,39)"
             ],
             [
              1,
              "rgb(165,0,38)"
             ]
            ],
            "showscale": false,
            "size": 20
           },
           "mode": "markers+text",
           "name": "Rushers",
           "text": [
            "Rusher Metric: 0.163",
            "Rusher Metric: -0.001",
            "Rusher Metric: 0.04",
            "Rusher Metric: 0.164"
           ],
           "textposition": "bottom center",
           "type": "scatter",
           "x": [
            78.7,
            78.84,
            75.78,
            78.16
           ],
           "y": [
            29.16,
            22.56,
            25.57,
            25.93
           ]
          },
          {
           "marker": {
            "cmax": 0.3,
            "cmin": -0.3,
            "color": [
             -0.0035824179649353027,
             0.0009929835796356201,
             -0.0011959969997406006,
             -0.015029162168502808,
             -0.0008094310760498047,
             -0.009118258953094482,
             -0.0035460293292999268,
             -0.0005391538143157959,
             0.005627363920211792,
             -0.011396944522857666,
             0.0020392239093780518,
             0.008966147899627686,
             -0.00023916363716125488,
             -0.014789104461669922,
             0.0016776323318481445,
             0.019344568252563477,
             0.002268075942993164,
             -0.011516287922859192,
             0.0034280866384506226,
             0.02354523539543152,
             0.032263949513435364,
             -0.0057565271854400635,
             0.009186327457427979,
             0.04480317234992981,
             0.05849538743495941,
             -0.002558887004852295,
             0.0105876624584198,
             0.07764099538326263,
             0.09481798112392426,
             0.0012027323246002197,
             0.013115674257278442,
             0.11470003426074982,
             0.14204815030097961,
             0.0004703998565673828,
             0.008370190858840942,
             0.15681840479373932,
             0.18598075211048126,
             -0.0011706650257110596,
             0.015088319778442383,
             0.19568094611167908,
             0.19447414577007294,
             -0.0008240342140197754,
             0.018021583557128906,
             0.19768553972244263,
             0.19466069340705872,
             0.0005885958671569824,
             0.03291240334510803,
             0.19924943149089813,
             0.17696863412857056,
             -0.0017899274826049805,
             0.042174845933914185,
             0.1770760416984558
            ],
            "colorscale": [
             [
              0,
              "rgb(49,54,149)"
             ],
             [
              0.1,
              "rgb(69,117,180)"
             ],
             [
              0.2,
              "rgb(116,173,209)"
             ],
             [
              0.3,
              "rgb(171,217,233)"
             ],
             [
              0.4,
              "rgb(224,243,248)"
             ],
             [
              0.5,
              "rgb(255,255,191)"
             ],
             [
              0.6,
              "rgb(254,224,144)"
             ],
             [
              0.7,
              "rgb(253,174,97)"
             ],
             [
              0.8,
              "rgb(244,109,67)"
             ],
             [
              0.9,
              "rgb(215,48,39)"
             ],
             [
              1,
              "rgb(165,0,38)"
             ]
            ],
            "showscale": false,
            "size": 10,
            "symbol": "circle"
           },
           "mode": "markers",
           "type": "scatter",
           "x": [
            75.32,
            76.29,
            72.69,
            75.37,
            75.38,
            76.39,
            72.7,
            75.42,
            75.5,
            76.53,
            72.74,
            75.48,
            75.64,
            76.69,
            72.81,
            75.58,
            75.83,
            76.89,
            72.9,
            75.71,
            76.08,
            77.11,
            73.03,
            75.88,
            76.35,
            77.36,
            73.2,
            76.1,
            76.65,
            77.61,
            73.42,
            76.36,
            77,
            77.86,
            73.69,
            76.66,
            77.36,
            78.1,
            74.02,
            76.98,
            77.73,
            78.32,
            74.39,
            77.3,
            78.07,
            78.51,
            74.82,
            77.62,
            78.41,
            78.69,
            75.29,
            77.89
           ],
           "y": [
            28.68,
            21.36,
            25.11,
            25.6,
            28.69,
            21.37,
            25.09,
            25.59,
            28.71,
            21.36,
            25.08,
            25.59,
            28.75,
            21.34,
            25.08,
            25.59,
            28.8,
            21.33,
            25.09,
            25.59,
            28.85,
            21.33,
            25.11,
            25.61,
            28.9,
            21.36,
            25.13,
            25.62,
            28.96,
            21.43,
            25.18,
            25.64,
            29.03,
            21.51,
            25.23,
            25.68,
            29.09,
            21.64,
            25.3,
            25.72,
            29.13,
            21.82,
            25.37,
            25.77,
            29.15,
            22.06,
            25.45,
            25.84,
            29.17,
            22.29,
            25.51,
            25.89
           ]
          },
          {
           "legendgroup": "Blockers",
           "marker": {
            "color": "black",
            "size": 20,
            "symbol": "x"
           },
           "mode": "markers",
           "name": "Blockers",
           "type": "scatter",
           "x": [
            79.67,
            79.6,
            79.36,
            79.86,
            79.92
           ],
           "y": [
            22.74,
            29.67,
            25.81,
            28.67,
            27.08
           ]
          },
          {
           "legendgroup": "QB",
           "marker": {
            "color": "black",
            "size": 20,
            "symbol": "diamond"
           },
           "mode": "markers",
           "name": "QB",
           "type": "scatter",
           "x": [
            83.22
           ],
           "y": [
            26.47
           ]
          },
          {
           "mode": "text",
           "text": [
            "QB Distruption Probability: 0.338"
           ],
           "textfont": {
            "color": "black",
            "size": 17
           },
           "type": "scatter",
           "x": [
            74.69
           ],
           "y": [
            30.67
           ]
          }
         ]
        },
        {
         "data": [
          {
           "legendgroup": "Rushers",
           "marker": {
            "cmax": 0.3,
            "cmin": -0.3,
            "color": [
             0.14441584050655365,
             -0.0003349483013153076,
             0.05718839168548584,
             0.14943650364875793
            ],
            "colorscale": [
             [
              0,
              "rgb(49,54,149)"
             ],
             [
              0.1,
              "rgb(69,117,180)"
             ],
             [
              0.2,
              "rgb(116,173,209)"
             ],
             [
              0.3,
              "rgb(171,217,233)"
             ],
             [
              0.4,
              "rgb(224,243,248)"
             ],
             [
              0.5,
              "rgb(255,255,191)"
             ],
             [
              0.6,
              "rgb(254,224,144)"
             ],
             [
              0.7,
              "rgb(253,174,97)"
             ],
             [
              0.8,
              "rgb(244,109,67)"
             ],
             [
              0.9,
              "rgb(215,48,39)"
             ],
             [
              1,
              "rgb(165,0,38)"
             ]
            ],
            "showscale": false,
            "size": 20
           },
           "mode": "markers+text",
           "name": "Rushers",
           "text": [
            "Rusher Metric: 0.144",
            "Rusher Metric: -0.0",
            "Rusher Metric: 0.057",
            "Rusher Metric: 0.149"
           ],
           "textposition": "bottom center",
           "type": "scatter",
           "x": [
            78.94,
            78.98,
            76.3,
            78.39
           ],
           "y": [
            29.12,
            22.84,
            25.62,
            25.97
           ]
          },
          {
           "marker": {
            "cmax": 0.3,
            "cmin": -0.3,
            "color": [
             -0.0035824179649353027,
             0.0009929835796356201,
             -0.0011959969997406006,
             -0.015029162168502808,
             -0.0008094310760498047,
             -0.009118258953094482,
             -0.0035460293292999268,
             -0.0005391538143157959,
             0.005627363920211792,
             -0.011396944522857666,
             0.0020392239093780518,
             0.008966147899627686,
             -0.00023916363716125488,
             -0.014789104461669922,
             0.0016776323318481445,
             0.019344568252563477,
             0.002268075942993164,
             -0.011516287922859192,
             0.0034280866384506226,
             0.02354523539543152,
             0.032263949513435364,
             -0.0057565271854400635,
             0.009186327457427979,
             0.04480317234992981,
             0.05849538743495941,
             -0.002558887004852295,
             0.0105876624584198,
             0.07764099538326263,
             0.09481798112392426,
             0.0012027323246002197,
             0.013115674257278442,
             0.11470003426074982,
             0.14204815030097961,
             0.0004703998565673828,
             0.008370190858840942,
             0.15681840479373932,
             0.18598075211048126,
             -0.0011706650257110596,
             0.015088319778442383,
             0.19568094611167908,
             0.19447414577007294,
             -0.0008240342140197754,
             0.018021583557128906,
             0.19768553972244263,
             0.19466069340705872,
             0.0005885958671569824,
             0.03291240334510803,
             0.19924943149089813,
             0.17696863412857056,
             -0.0017899274826049805,
             0.042174845933914185,
             0.1770760416984558,
             0.16251394152641296,
             -0.0012878179550170898,
             0.04020005464553833,
             0.16443310678005219
            ],
            "colorscale": [
             [
              0,
              "rgb(49,54,149)"
             ],
             [
              0.1,
              "rgb(69,117,180)"
             ],
             [
              0.2,
              "rgb(116,173,209)"
             ],
             [
              0.3,
              "rgb(171,217,233)"
             ],
             [
              0.4,
              "rgb(224,243,248)"
             ],
             [
              0.5,
              "rgb(255,255,191)"
             ],
             [
              0.6,
              "rgb(254,224,144)"
             ],
             [
              0.7,
              "rgb(253,174,97)"
             ],
             [
              0.8,
              "rgb(244,109,67)"
             ],
             [
              0.9,
              "rgb(215,48,39)"
             ],
             [
              1,
              "rgb(165,0,38)"
             ]
            ],
            "showscale": false,
            "size": 10,
            "symbol": "circle"
           },
           "mode": "markers",
           "type": "scatter",
           "x": [
            75.32,
            76.29,
            72.69,
            75.37,
            75.38,
            76.39,
            72.7,
            75.42,
            75.5,
            76.53,
            72.74,
            75.48,
            75.64,
            76.69,
            72.81,
            75.58,
            75.83,
            76.89,
            72.9,
            75.71,
            76.08,
            77.11,
            73.03,
            75.88,
            76.35,
            77.36,
            73.2,
            76.1,
            76.65,
            77.61,
            73.42,
            76.36,
            77,
            77.86,
            73.69,
            76.66,
            77.36,
            78.1,
            74.02,
            76.98,
            77.73,
            78.32,
            74.39,
            77.3,
            78.07,
            78.51,
            74.82,
            77.62,
            78.41,
            78.69,
            75.29,
            77.89,
            78.7,
            78.84,
            75.78,
            78.16
           ],
           "y": [
            28.68,
            21.36,
            25.11,
            25.6,
            28.69,
            21.37,
            25.09,
            25.59,
            28.71,
            21.36,
            25.08,
            25.59,
            28.75,
            21.34,
            25.08,
            25.59,
            28.8,
            21.33,
            25.09,
            25.59,
            28.85,
            21.33,
            25.11,
            25.61,
            28.9,
            21.36,
            25.13,
            25.62,
            28.96,
            21.43,
            25.18,
            25.64,
            29.03,
            21.51,
            25.23,
            25.68,
            29.09,
            21.64,
            25.3,
            25.72,
            29.13,
            21.82,
            25.37,
            25.77,
            29.15,
            22.06,
            25.45,
            25.84,
            29.17,
            22.29,
            25.51,
            25.89,
            29.16,
            22.56,
            25.57,
            25.93
           ]
          },
          {
           "legendgroup": "Blockers",
           "marker": {
            "color": "black",
            "size": 20,
            "symbol": "x"
           },
           "mode": "markers",
           "name": "Blockers",
           "type": "scatter",
           "x": [
            79.79,
            79.71,
            79.5,
            80.02,
            80.11
           ],
           "y": [
            22.84,
            29.67,
            25.87,
            28.7,
            27.16
           ]
          },
          {
           "legendgroup": "QB",
           "marker": {
            "color": "black",
            "size": 20,
            "symbol": "diamond"
           },
           "mode": "markers",
           "name": "QB",
           "type": "scatter",
           "x": [
            83.42
           ],
           "y": [
            26.46
           ]
          },
          {
           "mode": "text",
           "text": [
            "QB Distruption Probability: 0.35"
           ],
           "textfont": {
            "color": "black",
            "size": 17
           },
           "type": "scatter",
           "x": [
            74.69
           ],
           "y": [
            30.67
           ]
          }
         ]
        },
        {
         "data": [
          {
           "legendgroup": "Rushers",
           "marker": {
            "cmax": 0.3,
            "cmin": -0.3,
            "color": [
             0.11513617634773254,
             -0.0009247660636901855,
             0.05940866470336914,
             0.12522275745868683
            ],
            "colorscale": [
             [
              0,
              "rgb(49,54,149)"
             ],
             [
              0.1,
              "rgb(69,117,180)"
             ],
             [
              0.2,
              "rgb(116,173,209)"
             ],
             [
              0.3,
              "rgb(171,217,233)"
             ],
             [
              0.4,
              "rgb(224,243,248)"
             ],
             [
              0.5,
              "rgb(255,255,191)"
             ],
             [
              0.6,
              "rgb(254,224,144)"
             ],
             [
              0.7,
              "rgb(253,174,97)"
             ],
             [
              0.8,
              "rgb(244,109,67)"
             ],
             [
              0.9,
              "rgb(215,48,39)"
             ],
             [
              1,
              "rgb(165,0,38)"
             ]
            ],
            "showscale": false,
            "size": 20
           },
           "mode": "markers+text",
           "name": "Rushers",
           "text": [
            "Rusher Metric: 0.115",
            "Rusher Metric: -0.001",
            "Rusher Metric: 0.059",
            "Rusher Metric: 0.125"
           ],
           "textposition": "bottom center",
           "type": "scatter",
           "x": [
            79.1,
            79.1,
            76.83,
            78.6
           ],
           "y": [
            29.04,
            23.14,
            25.63,
            25.99
           ]
          },
          {
           "marker": {
            "cmax": 0.3,
            "cmin": -0.3,
            "color": [
             -0.0035824179649353027,
             0.0009929835796356201,
             -0.0011959969997406006,
             -0.015029162168502808,
             -0.0008094310760498047,
             -0.009118258953094482,
             -0.0035460293292999268,
             -0.0005391538143157959,
             0.005627363920211792,
             -0.011396944522857666,
             0.0020392239093780518,
             0.008966147899627686,
             -0.00023916363716125488,
             -0.014789104461669922,
             0.0016776323318481445,
             0.019344568252563477,
             0.002268075942993164,
             -0.011516287922859192,
             0.0034280866384506226,
             0.02354523539543152,
             0.032263949513435364,
             -0.0057565271854400635,
             0.009186327457427979,
             0.04480317234992981,
             0.05849538743495941,
             -0.002558887004852295,
             0.0105876624584198,
             0.07764099538326263,
             0.09481798112392426,
             0.0012027323246002197,
             0.013115674257278442,
             0.11470003426074982,
             0.14204815030097961,
             0.0004703998565673828,
             0.008370190858840942,
             0.15681840479373932,
             0.18598075211048126,
             -0.0011706650257110596,
             0.015088319778442383,
             0.19568094611167908,
             0.19447414577007294,
             -0.0008240342140197754,
             0.018021583557128906,
             0.19768553972244263,
             0.19466069340705872,
             0.0005885958671569824,
             0.03291240334510803,
             0.19924943149089813,
             0.17696863412857056,
             -0.0017899274826049805,
             0.042174845933914185,
             0.1770760416984558,
             0.16251394152641296,
             -0.0012878179550170898,
             0.04020005464553833,
             0.16443310678005219,
             0.14441584050655365,
             -0.0003349483013153076,
             0.05718839168548584,
             0.14943650364875793
            ],
            "colorscale": [
             [
              0,
              "rgb(49,54,149)"
             ],
             [
              0.1,
              "rgb(69,117,180)"
             ],
             [
              0.2,
              "rgb(116,173,209)"
             ],
             [
              0.3,
              "rgb(171,217,233)"
             ],
             [
              0.4,
              "rgb(224,243,248)"
             ],
             [
              0.5,
              "rgb(255,255,191)"
             ],
             [
              0.6,
              "rgb(254,224,144)"
             ],
             [
              0.7,
              "rgb(253,174,97)"
             ],
             [
              0.8,
              "rgb(244,109,67)"
             ],
             [
              0.9,
              "rgb(215,48,39)"
             ],
             [
              1,
              "rgb(165,0,38)"
             ]
            ],
            "showscale": false,
            "size": 10,
            "symbol": "circle"
           },
           "mode": "markers",
           "type": "scatter",
           "x": [
            75.32,
            76.29,
            72.69,
            75.37,
            75.38,
            76.39,
            72.7,
            75.42,
            75.5,
            76.53,
            72.74,
            75.48,
            75.64,
            76.69,
            72.81,
            75.58,
            75.83,
            76.89,
            72.9,
            75.71,
            76.08,
            77.11,
            73.03,
            75.88,
            76.35,
            77.36,
            73.2,
            76.1,
            76.65,
            77.61,
            73.42,
            76.36,
            77,
            77.86,
            73.69,
            76.66,
            77.36,
            78.1,
            74.02,
            76.98,
            77.73,
            78.32,
            74.39,
            77.3,
            78.07,
            78.51,
            74.82,
            77.62,
            78.41,
            78.69,
            75.29,
            77.89,
            78.7,
            78.84,
            75.78,
            78.16,
            78.94,
            78.98,
            76.3,
            78.39
           ],
           "y": [
            28.68,
            21.36,
            25.11,
            25.6,
            28.69,
            21.37,
            25.09,
            25.59,
            28.71,
            21.36,
            25.08,
            25.59,
            28.75,
            21.34,
            25.08,
            25.59,
            28.8,
            21.33,
            25.09,
            25.59,
            28.85,
            21.33,
            25.11,
            25.61,
            28.9,
            21.36,
            25.13,
            25.62,
            28.96,
            21.43,
            25.18,
            25.64,
            29.03,
            21.51,
            25.23,
            25.68,
            29.09,
            21.64,
            25.3,
            25.72,
            29.13,
            21.82,
            25.37,
            25.77,
            29.15,
            22.06,
            25.45,
            25.84,
            29.17,
            22.29,
            25.51,
            25.89,
            29.16,
            22.56,
            25.57,
            25.93,
            29.12,
            22.84,
            25.62,
            25.97
           ]
          },
          {
           "legendgroup": "Blockers",
           "marker": {
            "color": "black",
            "size": 20,
            "symbol": "x"
           },
           "mode": "markers",
           "name": "Blockers",
           "type": "scatter",
           "x": [
            79.89,
            79.82,
            79.64,
            80.15,
            80.3
           ],
           "y": [
            22.97,
            29.64,
            25.92,
            28.68,
            27.23
           ]
          },
          {
           "legendgroup": "QB",
           "marker": {
            "color": "black",
            "size": 20,
            "symbol": "diamond"
           },
           "mode": "markers",
           "name": "QB",
           "type": "scatter",
           "x": [
            83.61
           ],
           "y": [
            26.45
           ]
          },
          {
           "mode": "text",
           "text": [
            "QB Distruption Probability: 0.356"
           ],
           "textfont": {
            "color": "black",
            "size": 17
           },
           "type": "scatter",
           "x": [
            74.69
           ],
           "y": [
            30.67
           ]
          }
         ]
        },
        {
         "data": [
          {
           "legendgroup": "Rushers",
           "marker": {
            "cmax": 0.3,
            "cmin": -0.3,
            "color": [
             0.059859007596969604,
             -0.0010495483875274658,
             0.06605890393257141,
             0.07387930154800415
            ],
            "colorscale": [
             [
              0,
              "rgb(49,54,149)"
             ],
             [
              0.1,
              "rgb(69,117,180)"
             ],
             [
              0.2,
              "rgb(116,173,209)"
             ],
             [
              0.3,
              "rgb(171,217,233)"
             ],
             [
              0.4,
              "rgb(224,243,248)"
             ],
             [
              0.5,
              "rgb(255,255,191)"
             ],
             [
              0.6,
              "rgb(254,224,144)"
             ],
             [
              0.7,
              "rgb(253,174,97)"
             ],
             [
              0.8,
              "rgb(244,109,67)"
             ],
             [
              0.9,
              "rgb(215,48,39)"
             ],
             [
              1,
              "rgb(165,0,38)"
             ]
            ],
            "showscale": false,
            "size": 20
           },
           "mode": "markers+text",
           "name": "Rushers",
           "text": [
            "Rusher Metric: 0.06",
            "Rusher Metric: -0.001",
            "Rusher Metric: 0.066",
            "Rusher Metric: 0.074"
           ],
           "textposition": "bottom center",
           "type": "scatter",
           "x": [
            79.27,
            79.22,
            77.36,
            78.8
           ],
           "y": [
            28.97,
            23.44,
            25.61,
            26
           ]
          },
          {
           "marker": {
            "cmax": 0.3,
            "cmin": -0.3,
            "color": [
             -0.0035824179649353027,
             0.0009929835796356201,
             -0.0011959969997406006,
             -0.015029162168502808,
             -0.0008094310760498047,
             -0.009118258953094482,
             -0.0035460293292999268,
             -0.0005391538143157959,
             0.005627363920211792,
             -0.011396944522857666,
             0.0020392239093780518,
             0.008966147899627686,
             -0.00023916363716125488,
             -0.014789104461669922,
             0.0016776323318481445,
             0.019344568252563477,
             0.002268075942993164,
             -0.011516287922859192,
             0.0034280866384506226,
             0.02354523539543152,
             0.032263949513435364,
             -0.0057565271854400635,
             0.009186327457427979,
             0.04480317234992981,
             0.05849538743495941,
             -0.002558887004852295,
             0.0105876624584198,
             0.07764099538326263,
             0.09481798112392426,
             0.0012027323246002197,
             0.013115674257278442,
             0.11470003426074982,
             0.14204815030097961,
             0.0004703998565673828,
             0.008370190858840942,
             0.15681840479373932,
             0.18598075211048126,
             -0.0011706650257110596,
             0.015088319778442383,
             0.19568094611167908,
             0.19447414577007294,
             -0.0008240342140197754,
             0.018021583557128906,
             0.19768553972244263,
             0.19466069340705872,
             0.0005885958671569824,
             0.03291240334510803,
             0.19924943149089813,
             0.17696863412857056,
             -0.0017899274826049805,
             0.042174845933914185,
             0.1770760416984558,
             0.16251394152641296,
             -0.0012878179550170898,
             0.04020005464553833,
             0.16443310678005219,
             0.14441584050655365,
             -0.0003349483013153076,
             0.05718839168548584,
             0.14943650364875793,
             0.11513617634773254,
             -0.0009247660636901855,
             0.05940866470336914,
             0.12522275745868683
            ],
            "colorscale": [
             [
              0,
              "rgb(49,54,149)"
             ],
             [
              0.1,
              "rgb(69,117,180)"
             ],
             [
              0.2,
              "rgb(116,173,209)"
             ],
             [
              0.3,
              "rgb(171,217,233)"
             ],
             [
              0.4,
              "rgb(224,243,248)"
             ],
             [
              0.5,
              "rgb(255,255,191)"
             ],
             [
              0.6,
              "rgb(254,224,144)"
             ],
             [
              0.7,
              "rgb(253,174,97)"
             ],
             [
              0.8,
              "rgb(244,109,67)"
             ],
             [
              0.9,
              "rgb(215,48,39)"
             ],
             [
              1,
              "rgb(165,0,38)"
             ]
            ],
            "showscale": false,
            "size": 10,
            "symbol": "circle"
           },
           "mode": "markers",
           "type": "scatter",
           "x": [
            75.32,
            76.29,
            72.69,
            75.37,
            75.38,
            76.39,
            72.7,
            75.42,
            75.5,
            76.53,
            72.74,
            75.48,
            75.64,
            76.69,
            72.81,
            75.58,
            75.83,
            76.89,
            72.9,
            75.71,
            76.08,
            77.11,
            73.03,
            75.88,
            76.35,
            77.36,
            73.2,
            76.1,
            76.65,
            77.61,
            73.42,
            76.36,
            77,
            77.86,
            73.69,
            76.66,
            77.36,
            78.1,
            74.02,
            76.98,
            77.73,
            78.32,
            74.39,
            77.3,
            78.07,
            78.51,
            74.82,
            77.62,
            78.41,
            78.69,
            75.29,
            77.89,
            78.7,
            78.84,
            75.78,
            78.16,
            78.94,
            78.98,
            76.3,
            78.39,
            79.1,
            79.1,
            76.83,
            78.6
           ],
           "y": [
            28.68,
            21.36,
            25.11,
            25.6,
            28.69,
            21.37,
            25.09,
            25.59,
            28.71,
            21.36,
            25.08,
            25.59,
            28.75,
            21.34,
            25.08,
            25.59,
            28.8,
            21.33,
            25.09,
            25.59,
            28.85,
            21.33,
            25.11,
            25.61,
            28.9,
            21.36,
            25.13,
            25.62,
            28.96,
            21.43,
            25.18,
            25.64,
            29.03,
            21.51,
            25.23,
            25.68,
            29.09,
            21.64,
            25.3,
            25.72,
            29.13,
            21.82,
            25.37,
            25.77,
            29.15,
            22.06,
            25.45,
            25.84,
            29.17,
            22.29,
            25.51,
            25.89,
            29.16,
            22.56,
            25.57,
            25.93,
            29.12,
            22.84,
            25.62,
            25.97,
            29.04,
            23.14,
            25.63,
            25.99
           ]
          },
          {
           "legendgroup": "Blockers",
           "marker": {
            "color": "black",
            "size": 20,
            "symbol": "x"
           },
           "mode": "markers",
           "name": "Blockers",
           "type": "scatter",
           "x": [
            79.99,
            79.93,
            79.8,
            80.27,
            80.47
           ],
           "y": [
            23.12,
            29.62,
            25.95,
            28.65,
            27.3
           ]
          },
          {
           "legendgroup": "QB",
           "marker": {
            "color": "black",
            "size": 20,
            "symbol": "diamond"
           },
           "mode": "markers",
           "name": "QB",
           "type": "scatter",
           "x": [
            83.76
           ],
           "y": [
            26.44
           ]
          },
          {
           "mode": "text",
           "text": [
            "QB Distruption Probability: 0.378"
           ],
           "textfont": {
            "color": "black",
            "size": 17
           },
           "type": "scatter",
           "x": [
            74.69
           ],
           "y": [
            30.67
           ]
          }
         ]
        },
        {
         "data": [
          {
           "legendgroup": "Rushers",
           "marker": {
            "cmax": 0.3,
            "cmin": -0.3,
            "color": [
             0.053920477628707886,
             0.005437314510345459,
             0.06771814823150635,
             0.07196864485740662
            ],
            "colorscale": [
             [
              0,
              "rgb(49,54,149)"
             ],
             [
              0.1,
              "rgb(69,117,180)"
             ],
             [
              0.2,
              "rgb(116,173,209)"
             ],
             [
              0.3,
              "rgb(171,217,233)"
             ],
             [
              0.4,
              "rgb(224,243,248)"
             ],
             [
              0.5,
              "rgb(255,255,191)"
             ],
             [
              0.6,
              "rgb(254,224,144)"
             ],
             [
              0.7,
              "rgb(253,174,97)"
             ],
             [
              0.8,
              "rgb(244,109,67)"
             ],
             [
              0.9,
              "rgb(215,48,39)"
             ],
             [
              1,
              "rgb(165,0,38)"
             ]
            ],
            "showscale": false,
            "size": 20
           },
           "mode": "markers+text",
           "name": "Rushers",
           "text": [
            "Rusher Metric: 0.054",
            "Rusher Metric: 0.005",
            "Rusher Metric: 0.068",
            "Rusher Metric: 0.072"
           ],
           "textposition": "bottom center",
           "type": "scatter",
           "x": [
            79.37,
            79.33,
            77.86,
            78.97
           ],
           "y": [
            28.87,
            23.75,
            25.58,
            26.01
           ]
          },
          {
           "marker": {
            "cmax": 0.3,
            "cmin": -0.3,
            "color": [
             -0.0035824179649353027,
             0.0009929835796356201,
             -0.0011959969997406006,
             -0.015029162168502808,
             -0.0008094310760498047,
             -0.009118258953094482,
             -0.0035460293292999268,
             -0.0005391538143157959,
             0.005627363920211792,
             -0.011396944522857666,
             0.0020392239093780518,
             0.008966147899627686,
             -0.00023916363716125488,
             -0.014789104461669922,
             0.0016776323318481445,
             0.019344568252563477,
             0.002268075942993164,
             -0.011516287922859192,
             0.0034280866384506226,
             0.02354523539543152,
             0.032263949513435364,
             -0.0057565271854400635,
             0.009186327457427979,
             0.04480317234992981,
             0.05849538743495941,
             -0.002558887004852295,
             0.0105876624584198,
             0.07764099538326263,
             0.09481798112392426,
             0.0012027323246002197,
             0.013115674257278442,
             0.11470003426074982,
             0.14204815030097961,
             0.0004703998565673828,
             0.008370190858840942,
             0.15681840479373932,
             0.18598075211048126,
             -0.0011706650257110596,
             0.015088319778442383,
             0.19568094611167908,
             0.19447414577007294,
             -0.0008240342140197754,
             0.018021583557128906,
             0.19768553972244263,
             0.19466069340705872,
             0.0005885958671569824,
             0.03291240334510803,
             0.19924943149089813,
             0.17696863412857056,
             -0.0017899274826049805,
             0.042174845933914185,
             0.1770760416984558,
             0.16251394152641296,
             -0.0012878179550170898,
             0.04020005464553833,
             0.16443310678005219,
             0.14441584050655365,
             -0.0003349483013153076,
             0.05718839168548584,
             0.14943650364875793,
             0.11513617634773254,
             -0.0009247660636901855,
             0.05940866470336914,
             0.12522275745868683,
             0.059859007596969604,
             -0.0010495483875274658,
             0.06605890393257141,
             0.07387930154800415
            ],
            "colorscale": [
             [
              0,
              "rgb(49,54,149)"
             ],
             [
              0.1,
              "rgb(69,117,180)"
             ],
             [
              0.2,
              "rgb(116,173,209)"
             ],
             [
              0.3,
              "rgb(171,217,233)"
             ],
             [
              0.4,
              "rgb(224,243,248)"
             ],
             [
              0.5,
              "rgb(255,255,191)"
             ],
             [
              0.6,
              "rgb(254,224,144)"
             ],
             [
              0.7,
              "rgb(253,174,97)"
             ],
             [
              0.8,
              "rgb(244,109,67)"
             ],
             [
              0.9,
              "rgb(215,48,39)"
             ],
             [
              1,
              "rgb(165,0,38)"
             ]
            ],
            "showscale": false,
            "size": 10,
            "symbol": "circle"
           },
           "mode": "markers",
           "type": "scatter",
           "x": [
            75.32,
            76.29,
            72.69,
            75.37,
            75.38,
            76.39,
            72.7,
            75.42,
            75.5,
            76.53,
            72.74,
            75.48,
            75.64,
            76.69,
            72.81,
            75.58,
            75.83,
            76.89,
            72.9,
            75.71,
            76.08,
            77.11,
            73.03,
            75.88,
            76.35,
            77.36,
            73.2,
            76.1,
            76.65,
            77.61,
            73.42,
            76.36,
            77,
            77.86,
            73.69,
            76.66,
            77.36,
            78.1,
            74.02,
            76.98,
            77.73,
            78.32,
            74.39,
            77.3,
            78.07,
            78.51,
            74.82,
            77.62,
            78.41,
            78.69,
            75.29,
            77.89,
            78.7,
            78.84,
            75.78,
            78.16,
            78.94,
            78.98,
            76.3,
            78.39,
            79.1,
            79.1,
            76.83,
            78.6,
            79.27,
            79.22,
            77.36,
            78.8
           ],
           "y": [
            28.68,
            21.36,
            25.11,
            25.6,
            28.69,
            21.37,
            25.09,
            25.59,
            28.71,
            21.36,
            25.08,
            25.59,
            28.75,
            21.34,
            25.08,
            25.59,
            28.8,
            21.33,
            25.09,
            25.59,
            28.85,
            21.33,
            25.11,
            25.61,
            28.9,
            21.36,
            25.13,
            25.62,
            28.96,
            21.43,
            25.18,
            25.64,
            29.03,
            21.51,
            25.23,
            25.68,
            29.09,
            21.64,
            25.3,
            25.72,
            29.13,
            21.82,
            25.37,
            25.77,
            29.15,
            22.06,
            25.45,
            25.84,
            29.17,
            22.29,
            25.51,
            25.89,
            29.16,
            22.56,
            25.57,
            25.93,
            29.12,
            22.84,
            25.62,
            25.97,
            29.04,
            23.14,
            25.63,
            25.99,
            28.97,
            23.44,
            25.61,
            26
           ]
          },
          {
           "legendgroup": "Blockers",
           "marker": {
            "color": "black",
            "size": 20,
            "symbol": "x"
           },
           "mode": "markers",
           "name": "Blockers",
           "type": "scatter",
           "x": [
            80.07,
            80.03,
            79.96,
            80.37,
            80.6
           ],
           "y": [
            23.3,
            29.59,
            25.96,
            28.59,
            27.35
           ]
          },
          {
           "legendgroup": "QB",
           "marker": {
            "color": "black",
            "size": 20,
            "symbol": "diamond"
           },
           "mode": "markers",
           "name": "QB",
           "type": "scatter",
           "x": [
            83.87
           ],
           "y": [
            26.42
           ]
          },
          {
           "mode": "text",
           "text": [
            "QB Distruption Probability: 0.374"
           ],
           "textfont": {
            "color": "black",
            "size": 17
           },
           "type": "scatter",
           "x": [
            74.69
           ],
           "y": [
            30.67
           ]
          }
         ]
        },
        {
         "data": [
          {
           "legendgroup": "Rushers",
           "marker": {
            "cmax": 0.3,
            "cmin": -0.3,
            "color": [
             0.06333443522453308,
             0.003930538892745972,
             0.05706825852394104,
             0.07506915926933289
            ],
            "colorscale": [
             [
              0,
              "rgb(49,54,149)"
             ],
             [
              0.1,
              "rgb(69,117,180)"
             ],
             [
              0.2,
              "rgb(116,173,209)"
             ],
             [
              0.3,
              "rgb(171,217,233)"
             ],
             [
              0.4,
              "rgb(224,243,248)"
             ],
             [
              0.5,
              "rgb(255,255,191)"
             ],
             [
              0.6,
              "rgb(254,224,144)"
             ],
             [
              0.7,
              "rgb(253,174,97)"
             ],
             [
              0.8,
              "rgb(244,109,67)"
             ],
             [
              0.9,
              "rgb(215,48,39)"
             ],
             [
              1,
              "rgb(165,0,38)"
             ]
            ],
            "showscale": false,
            "size": 20
           },
           "mode": "markers+text",
           "name": "Rushers",
           "text": [
            "Rusher Metric: 0.063",
            "Rusher Metric: 0.004",
            "Rusher Metric: 0.057",
            "Rusher Metric: 0.075"
           ],
           "textposition": "bottom center",
           "type": "scatter",
           "x": [
            79.45,
            79.45,
            78.31,
            79.12
           ],
           "y": [
            28.76,
            24.04,
            25.55,
            26.01
           ]
          },
          {
           "marker": {
            "cmax": 0.3,
            "cmin": -0.3,
            "color": [
             -0.0035824179649353027,
             0.0009929835796356201,
             -0.0011959969997406006,
             -0.015029162168502808,
             -0.0008094310760498047,
             -0.009118258953094482,
             -0.0035460293292999268,
             -0.0005391538143157959,
             0.005627363920211792,
             -0.011396944522857666,
             0.0020392239093780518,
             0.008966147899627686,
             -0.00023916363716125488,
             -0.014789104461669922,
             0.0016776323318481445,
             0.019344568252563477,
             0.002268075942993164,
             -0.011516287922859192,
             0.0034280866384506226,
             0.02354523539543152,
             0.032263949513435364,
             -0.0057565271854400635,
             0.009186327457427979,
             0.04480317234992981,
             0.05849538743495941,
             -0.002558887004852295,
             0.0105876624584198,
             0.07764099538326263,
             0.09481798112392426,
             0.0012027323246002197,
             0.013115674257278442,
             0.11470003426074982,
             0.14204815030097961,
             0.0004703998565673828,
             0.008370190858840942,
             0.15681840479373932,
             0.18598075211048126,
             -0.0011706650257110596,
             0.015088319778442383,
             0.19568094611167908,
             0.19447414577007294,
             -0.0008240342140197754,
             0.018021583557128906,
             0.19768553972244263,
             0.19466069340705872,
             0.0005885958671569824,
             0.03291240334510803,
             0.19924943149089813,
             0.17696863412857056,
             -0.0017899274826049805,
             0.042174845933914185,
             0.1770760416984558,
             0.16251394152641296,
             -0.0012878179550170898,
             0.04020005464553833,
             0.16443310678005219,
             0.14441584050655365,
             -0.0003349483013153076,
             0.05718839168548584,
             0.14943650364875793,
             0.11513617634773254,
             -0.0009247660636901855,
             0.05940866470336914,
             0.12522275745868683,
             0.059859007596969604,
             -0.0010495483875274658,
             0.06605890393257141,
             0.07387930154800415,
             0.053920477628707886,
             0.005437314510345459,
             0.06771814823150635,
             0.07196864485740662
            ],
            "colorscale": [
             [
              0,
              "rgb(49,54,149)"
             ],
             [
              0.1,
              "rgb(69,117,180)"
             ],
             [
              0.2,
              "rgb(116,173,209)"
             ],
             [
              0.3,
              "rgb(171,217,233)"
             ],
             [
              0.4,
              "rgb(224,243,248)"
             ],
             [
              0.5,
              "rgb(255,255,191)"
             ],
             [
              0.6,
              "rgb(254,224,144)"
             ],
             [
              0.7,
              "rgb(253,174,97)"
             ],
             [
              0.8,
              "rgb(244,109,67)"
             ],
             [
              0.9,
              "rgb(215,48,39)"
             ],
             [
              1,
              "rgb(165,0,38)"
             ]
            ],
            "showscale": false,
            "size": 10,
            "symbol": "circle"
           },
           "mode": "markers",
           "type": "scatter",
           "x": [
            75.32,
            76.29,
            72.69,
            75.37,
            75.38,
            76.39,
            72.7,
            75.42,
            75.5,
            76.53,
            72.74,
            75.48,
            75.64,
            76.69,
            72.81,
            75.58,
            75.83,
            76.89,
            72.9,
            75.71,
            76.08,
            77.11,
            73.03,
            75.88,
            76.35,
            77.36,
            73.2,
            76.1,
            76.65,
            77.61,
            73.42,
            76.36,
            77,
            77.86,
            73.69,
            76.66,
            77.36,
            78.1,
            74.02,
            76.98,
            77.73,
            78.32,
            74.39,
            77.3,
            78.07,
            78.51,
            74.82,
            77.62,
            78.41,
            78.69,
            75.29,
            77.89,
            78.7,
            78.84,
            75.78,
            78.16,
            78.94,
            78.98,
            76.3,
            78.39,
            79.1,
            79.1,
            76.83,
            78.6,
            79.27,
            79.22,
            77.36,
            78.8,
            79.37,
            79.33,
            77.86,
            78.97
           ],
           "y": [
            28.68,
            21.36,
            25.11,
            25.6,
            28.69,
            21.37,
            25.09,
            25.59,
            28.71,
            21.36,
            25.08,
            25.59,
            28.75,
            21.34,
            25.08,
            25.59,
            28.8,
            21.33,
            25.09,
            25.59,
            28.85,
            21.33,
            25.11,
            25.61,
            28.9,
            21.36,
            25.13,
            25.62,
            28.96,
            21.43,
            25.18,
            25.64,
            29.03,
            21.51,
            25.23,
            25.68,
            29.09,
            21.64,
            25.3,
            25.72,
            29.13,
            21.82,
            25.37,
            25.77,
            29.15,
            22.06,
            25.45,
            25.84,
            29.17,
            22.29,
            25.51,
            25.89,
            29.16,
            22.56,
            25.57,
            25.93,
            29.12,
            22.84,
            25.62,
            25.97,
            29.04,
            23.14,
            25.63,
            25.99,
            28.97,
            23.44,
            25.61,
            26,
            28.87,
            23.75,
            25.58,
            26.01
           ]
          },
          {
           "legendgroup": "Blockers",
           "marker": {
            "color": "black",
            "size": 20,
            "symbol": "x"
           },
           "mode": "markers",
           "name": "Blockers",
           "type": "scatter",
           "x": [
            80.15,
            80.13,
            80.12,
            80.44,
            80.73
           ],
           "y": [
            23.48,
            29.57,
            25.96,
            28.52,
            27.4
           ]
          },
          {
           "legendgroup": "QB",
           "marker": {
            "color": "black",
            "size": 20,
            "symbol": "diamond"
           },
           "mode": "markers",
           "name": "QB",
           "type": "scatter",
           "x": [
            83.96
           ],
           "y": [
            26.41
           ]
          },
          {
           "mode": "text",
           "text": [
            "QB Distruption Probability: 0.336"
           ],
           "textfont": {
            "color": "black",
            "size": 17
           },
           "type": "scatter",
           "x": [
            74.69
           ],
           "y": [
            30.67
           ]
          }
         ]
        },
        {
         "data": [
          {
           "legendgroup": "Rushers",
           "marker": {
            "cmax": 0.3,
            "cmin": -0.3,
            "color": [
             0.06453278660774231,
             0.004399806261062622,
             0.04897642135620117,
             0.0917915403842926
            ],
            "colorscale": [
             [
              0,
              "rgb(49,54,149)"
             ],
             [
              0.1,
              "rgb(69,117,180)"
             ],
             [
              0.2,
              "rgb(116,173,209)"
             ],
             [
              0.3,
              "rgb(171,217,233)"
             ],
             [
              0.4,
              "rgb(224,243,248)"
             ],
             [
              0.5,
              "rgb(255,255,191)"
             ],
             [
              0.6,
              "rgb(254,224,144)"
             ],
             [
              0.7,
              "rgb(253,174,97)"
             ],
             [
              0.8,
              "rgb(244,109,67)"
             ],
             [
              0.9,
              "rgb(215,48,39)"
             ],
             [
              1,
              "rgb(165,0,38)"
             ]
            ],
            "showscale": false,
            "size": 20
           },
           "mode": "markers+text",
           "name": "Rushers",
           "text": [
            "Rusher Metric: 0.065",
            "Rusher Metric: 0.004",
            "Rusher Metric: 0.049",
            "Rusher Metric: 0.092"
           ],
           "textposition": "bottom center",
           "type": "scatter",
           "x": [
            79.48,
            79.57,
            78.73,
            79.29
           ],
           "y": [
            28.65,
            24.32,
            25.5,
            25.99
           ]
          },
          {
           "marker": {
            "cmax": 0.3,
            "cmin": -0.3,
            "color": [
             -0.0035824179649353027,
             0.0009929835796356201,
             -0.0011959969997406006,
             -0.015029162168502808,
             -0.0008094310760498047,
             -0.009118258953094482,
             -0.0035460293292999268,
             -0.0005391538143157959,
             0.005627363920211792,
             -0.011396944522857666,
             0.0020392239093780518,
             0.008966147899627686,
             -0.00023916363716125488,
             -0.014789104461669922,
             0.0016776323318481445,
             0.019344568252563477,
             0.002268075942993164,
             -0.011516287922859192,
             0.0034280866384506226,
             0.02354523539543152,
             0.032263949513435364,
             -0.0057565271854400635,
             0.009186327457427979,
             0.04480317234992981,
             0.05849538743495941,
             -0.002558887004852295,
             0.0105876624584198,
             0.07764099538326263,
             0.09481798112392426,
             0.0012027323246002197,
             0.013115674257278442,
             0.11470003426074982,
             0.14204815030097961,
             0.0004703998565673828,
             0.008370190858840942,
             0.15681840479373932,
             0.18598075211048126,
             -0.0011706650257110596,
             0.015088319778442383,
             0.19568094611167908,
             0.19447414577007294,
             -0.0008240342140197754,
             0.018021583557128906,
             0.19768553972244263,
             0.19466069340705872,
             0.0005885958671569824,
             0.03291240334510803,
             0.19924943149089813,
             0.17696863412857056,
             -0.0017899274826049805,
             0.042174845933914185,
             0.1770760416984558,
             0.16251394152641296,
             -0.0012878179550170898,
             0.04020005464553833,
             0.16443310678005219,
             0.14441584050655365,
             -0.0003349483013153076,
             0.05718839168548584,
             0.14943650364875793,
             0.11513617634773254,
             -0.0009247660636901855,
             0.05940866470336914,
             0.12522275745868683,
             0.059859007596969604,
             -0.0010495483875274658,
             0.06605890393257141,
             0.07387930154800415,
             0.053920477628707886,
             0.005437314510345459,
             0.06771814823150635,
             0.07196864485740662,
             0.06333443522453308,
             0.003930538892745972,
             0.05706825852394104,
             0.07506915926933289
            ],
            "colorscale": [
             [
              0,
              "rgb(49,54,149)"
             ],
             [
              0.1,
              "rgb(69,117,180)"
             ],
             [
              0.2,
              "rgb(116,173,209)"
             ],
             [
              0.3,
              "rgb(171,217,233)"
             ],
             [
              0.4,
              "rgb(224,243,248)"
             ],
             [
              0.5,
              "rgb(255,255,191)"
             ],
             [
              0.6,
              "rgb(254,224,144)"
             ],
             [
              0.7,
              "rgb(253,174,97)"
             ],
             [
              0.8,
              "rgb(244,109,67)"
             ],
             [
              0.9,
              "rgb(215,48,39)"
             ],
             [
              1,
              "rgb(165,0,38)"
             ]
            ],
            "showscale": false,
            "size": 10,
            "symbol": "circle"
           },
           "mode": "markers",
           "type": "scatter",
           "x": [
            75.32,
            76.29,
            72.69,
            75.37,
            75.38,
            76.39,
            72.7,
            75.42,
            75.5,
            76.53,
            72.74,
            75.48,
            75.64,
            76.69,
            72.81,
            75.58,
            75.83,
            76.89,
            72.9,
            75.71,
            76.08,
            77.11,
            73.03,
            75.88,
            76.35,
            77.36,
            73.2,
            76.1,
            76.65,
            77.61,
            73.42,
            76.36,
            77,
            77.86,
            73.69,
            76.66,
            77.36,
            78.1,
            74.02,
            76.98,
            77.73,
            78.32,
            74.39,
            77.3,
            78.07,
            78.51,
            74.82,
            77.62,
            78.41,
            78.69,
            75.29,
            77.89,
            78.7,
            78.84,
            75.78,
            78.16,
            78.94,
            78.98,
            76.3,
            78.39,
            79.1,
            79.1,
            76.83,
            78.6,
            79.27,
            79.22,
            77.36,
            78.8,
            79.37,
            79.33,
            77.86,
            78.97,
            79.45,
            79.45,
            78.31,
            79.12
           ],
           "y": [
            28.68,
            21.36,
            25.11,
            25.6,
            28.69,
            21.37,
            25.09,
            25.59,
            28.71,
            21.36,
            25.08,
            25.59,
            28.75,
            21.34,
            25.08,
            25.59,
            28.8,
            21.33,
            25.09,
            25.59,
            28.85,
            21.33,
            25.11,
            25.61,
            28.9,
            21.36,
            25.13,
            25.62,
            28.96,
            21.43,
            25.18,
            25.64,
            29.03,
            21.51,
            25.23,
            25.68,
            29.09,
            21.64,
            25.3,
            25.72,
            29.13,
            21.82,
            25.37,
            25.77,
            29.15,
            22.06,
            25.45,
            25.84,
            29.17,
            22.29,
            25.51,
            25.89,
            29.16,
            22.56,
            25.57,
            25.93,
            29.12,
            22.84,
            25.62,
            25.97,
            29.04,
            23.14,
            25.63,
            25.99,
            28.97,
            23.44,
            25.61,
            26,
            28.87,
            23.75,
            25.58,
            26.01,
            28.76,
            24.04,
            25.55,
            26.01
           ]
          },
          {
           "legendgroup": "Blockers",
           "marker": {
            "color": "black",
            "size": 20,
            "symbol": "x"
           },
           "mode": "markers",
           "name": "Blockers",
           "type": "scatter",
           "x": [
            80.24,
            80.24,
            80.29,
            80.5,
            80.83
           ],
           "y": [
            23.68,
            29.55,
            25.95,
            28.42,
            27.4
           ]
          },
          {
           "legendgroup": "QB",
           "marker": {
            "color": "black",
            "size": 20,
            "symbol": "diamond"
           },
           "mode": "markers",
           "name": "QB",
           "type": "scatter",
           "x": [
            84
           ],
           "y": [
            26.42
           ]
          },
          {
           "mode": "text",
           "text": [
            "QB Distruption Probability: 0.312"
           ],
           "textfont": {
            "color": "black",
            "size": 17
           },
           "type": "scatter",
           "x": [
            74.69
           ],
           "y": [
            30.67
           ]
          }
         ]
        },
        {
         "data": [
          {
           "legendgroup": "Rushers",
           "marker": {
            "cmax": 0.3,
            "cmin": -0.3,
            "color": [
             0.06798212230205536,
             0.0046695321798324585,
             0.03269936144351959,
             0.08296513557434082
            ],
            "colorscale": [
             [
              0,
              "rgb(49,54,149)"
             ],
             [
              0.1,
              "rgb(69,117,180)"
             ],
             [
              0.2,
              "rgb(116,173,209)"
             ],
             [
              0.3,
              "rgb(171,217,233)"
             ],
             [
              0.4,
              "rgb(224,243,248)"
             ],
             [
              0.5,
              "rgb(255,255,191)"
             ],
             [
              0.6,
              "rgb(254,224,144)"
             ],
             [
              0.7,
              "rgb(253,174,97)"
             ],
             [
              0.8,
              "rgb(244,109,67)"
             ],
             [
              0.9,
              "rgb(215,48,39)"
             ],
             [
              1,
              "rgb(165,0,38)"
             ]
            ],
            "showscale": false,
            "size": 20
           },
           "mode": "markers+text",
           "name": "Rushers",
           "text": [
            "Rusher Metric: 0.068",
            "Rusher Metric: 0.005",
            "Rusher Metric: 0.033",
            "Rusher Metric: 0.083"
           ],
           "textposition": "bottom center",
           "type": "scatter",
           "x": [
            79.48,
            79.71,
            79.08,
            79.44
           ],
           "y": [
            28.54,
            24.54,
            25.46,
            26.01
           ]
          },
          {
           "marker": {
            "cmax": 0.3,
            "cmin": -0.3,
            "color": [
             -0.0035824179649353027,
             0.0009929835796356201,
             -0.0011959969997406006,
             -0.015029162168502808,
             -0.0008094310760498047,
             -0.009118258953094482,
             -0.0035460293292999268,
             -0.0005391538143157959,
             0.005627363920211792,
             -0.011396944522857666,
             0.0020392239093780518,
             0.008966147899627686,
             -0.00023916363716125488,
             -0.014789104461669922,
             0.0016776323318481445,
             0.019344568252563477,
             0.002268075942993164,
             -0.011516287922859192,
             0.0034280866384506226,
             0.02354523539543152,
             0.032263949513435364,
             -0.0057565271854400635,
             0.009186327457427979,
             0.04480317234992981,
             0.05849538743495941,
             -0.002558887004852295,
             0.0105876624584198,
             0.07764099538326263,
             0.09481798112392426,
             0.0012027323246002197,
             0.013115674257278442,
             0.11470003426074982,
             0.14204815030097961,
             0.0004703998565673828,
             0.008370190858840942,
             0.15681840479373932,
             0.18598075211048126,
             -0.0011706650257110596,
             0.015088319778442383,
             0.19568094611167908,
             0.19447414577007294,
             -0.0008240342140197754,
             0.018021583557128906,
             0.19768553972244263,
             0.19466069340705872,
             0.0005885958671569824,
             0.03291240334510803,
             0.19924943149089813,
             0.17696863412857056,
             -0.0017899274826049805,
             0.042174845933914185,
             0.1770760416984558,
             0.16251394152641296,
             -0.0012878179550170898,
             0.04020005464553833,
             0.16443310678005219,
             0.14441584050655365,
             -0.0003349483013153076,
             0.05718839168548584,
             0.14943650364875793,
             0.11513617634773254,
             -0.0009247660636901855,
             0.05940866470336914,
             0.12522275745868683,
             0.059859007596969604,
             -0.0010495483875274658,
             0.06605890393257141,
             0.07387930154800415,
             0.053920477628707886,
             0.005437314510345459,
             0.06771814823150635,
             0.07196864485740662,
             0.06333443522453308,
             0.003930538892745972,
             0.05706825852394104,
             0.07506915926933289,
             0.06453278660774231,
             0.004399806261062622,
             0.04897642135620117,
             0.0917915403842926
            ],
            "colorscale": [
             [
              0,
              "rgb(49,54,149)"
             ],
             [
              0.1,
              "rgb(69,117,180)"
             ],
             [
              0.2,
              "rgb(116,173,209)"
             ],
             [
              0.3,
              "rgb(171,217,233)"
             ],
             [
              0.4,
              "rgb(224,243,248)"
             ],
             [
              0.5,
              "rgb(255,255,191)"
             ],
             [
              0.6,
              "rgb(254,224,144)"
             ],
             [
              0.7,
              "rgb(253,174,97)"
             ],
             [
              0.8,
              "rgb(244,109,67)"
             ],
             [
              0.9,
              "rgb(215,48,39)"
             ],
             [
              1,
              "rgb(165,0,38)"
             ]
            ],
            "showscale": false,
            "size": 10,
            "symbol": "circle"
           },
           "mode": "markers",
           "type": "scatter",
           "x": [
            75.32,
            76.29,
            72.69,
            75.37,
            75.38,
            76.39,
            72.7,
            75.42,
            75.5,
            76.53,
            72.74,
            75.48,
            75.64,
            76.69,
            72.81,
            75.58,
            75.83,
            76.89,
            72.9,
            75.71,
            76.08,
            77.11,
            73.03,
            75.88,
            76.35,
            77.36,
            73.2,
            76.1,
            76.65,
            77.61,
            73.42,
            76.36,
            77,
            77.86,
            73.69,
            76.66,
            77.36,
            78.1,
            74.02,
            76.98,
            77.73,
            78.32,
            74.39,
            77.3,
            78.07,
            78.51,
            74.82,
            77.62,
            78.41,
            78.69,
            75.29,
            77.89,
            78.7,
            78.84,
            75.78,
            78.16,
            78.94,
            78.98,
            76.3,
            78.39,
            79.1,
            79.1,
            76.83,
            78.6,
            79.27,
            79.22,
            77.36,
            78.8,
            79.37,
            79.33,
            77.86,
            78.97,
            79.45,
            79.45,
            78.31,
            79.12,
            79.48,
            79.57,
            78.73,
            79.29
           ],
           "y": [
            28.68,
            21.36,
            25.11,
            25.6,
            28.69,
            21.37,
            25.09,
            25.59,
            28.71,
            21.36,
            25.08,
            25.59,
            28.75,
            21.34,
            25.08,
            25.59,
            28.8,
            21.33,
            25.09,
            25.59,
            28.85,
            21.33,
            25.11,
            25.61,
            28.9,
            21.36,
            25.13,
            25.62,
            28.96,
            21.43,
            25.18,
            25.64,
            29.03,
            21.51,
            25.23,
            25.68,
            29.09,
            21.64,
            25.3,
            25.72,
            29.13,
            21.82,
            25.37,
            25.77,
            29.15,
            22.06,
            25.45,
            25.84,
            29.17,
            22.29,
            25.51,
            25.89,
            29.16,
            22.56,
            25.57,
            25.93,
            29.12,
            22.84,
            25.62,
            25.97,
            29.04,
            23.14,
            25.63,
            25.99,
            28.97,
            23.44,
            25.61,
            26,
            28.87,
            23.75,
            25.58,
            26.01,
            28.76,
            24.04,
            25.55,
            26.01,
            28.65,
            24.32,
            25.5,
            25.99
           ]
          },
          {
           "legendgroup": "Blockers",
           "marker": {
            "color": "black",
            "size": 20,
            "symbol": "x"
           },
           "mode": "markers",
           "name": "Blockers",
           "type": "scatter",
           "x": [
            80.33,
            80.36,
            80.45,
            80.53,
            80.89
           ],
           "y": [
            23.87,
            29.54,
            25.91,
            28.33,
            27.41
           ]
          },
          {
           "legendgroup": "QB",
           "marker": {
            "color": "black",
            "size": 20,
            "symbol": "diamond"
           },
           "mode": "markers",
           "name": "QB",
           "type": "scatter",
           "x": [
            84.02
           ],
           "y": [
            26.42
           ]
          },
          {
           "mode": "text",
           "text": [
            "QB Distruption Probability: 0.245"
           ],
           "textfont": {
            "color": "black",
            "size": 17
           },
           "type": "scatter",
           "x": [
            74.69
           ],
           "y": [
            30.67
           ]
          }
         ]
        },
        {
         "data": [
          {
           "legendgroup": "Rushers",
           "marker": {
            "cmax": 0.3,
            "cmin": -0.3,
            "color": [
             0.049622684717178345,
             0.0013639330863952637,
             0.01607409119606018,
             0.055712223052978516
            ],
            "colorscale": [
             [
              0,
              "rgb(49,54,149)"
             ],
             [
              0.1,
              "rgb(69,117,180)"
             ],
             [
              0.2,
              "rgb(116,173,209)"
             ],
             [
              0.3,
              "rgb(171,217,233)"
             ],
             [
              0.4,
              "rgb(224,243,248)"
             ],
             [
              0.5,
              "rgb(255,255,191)"
             ],
             [
              0.6,
              "rgb(254,224,144)"
             ],
             [
              0.7,
              "rgb(253,174,97)"
             ],
             [
              0.8,
              "rgb(244,109,67)"
             ],
             [
              0.9,
              "rgb(215,48,39)"
             ],
             [
              1,
              "rgb(165,0,38)"
             ]
            ],
            "showscale": false,
            "size": 20
           },
           "mode": "markers+text",
           "name": "Rushers",
           "text": [
            "Rusher Metric: 0.05",
            "Rusher Metric: 0.001",
            "Rusher Metric: 0.016",
            "Rusher Metric: 0.056"
           ],
           "textposition": "bottom center",
           "type": "scatter",
           "x": [
            79.44,
            79.83,
            79.38,
            79.56
           ],
           "y": [
            28.42,
            24.76,
            25.41,
            26.04
           ]
          },
          {
           "marker": {
            "cmax": 0.3,
            "cmin": -0.3,
            "color": [
             -0.0035824179649353027,
             0.0009929835796356201,
             -0.0011959969997406006,
             -0.015029162168502808,
             -0.0008094310760498047,
             -0.009118258953094482,
             -0.0035460293292999268,
             -0.0005391538143157959,
             0.005627363920211792,
             -0.011396944522857666,
             0.0020392239093780518,
             0.008966147899627686,
             -0.00023916363716125488,
             -0.014789104461669922,
             0.0016776323318481445,
             0.019344568252563477,
             0.002268075942993164,
             -0.011516287922859192,
             0.0034280866384506226,
             0.02354523539543152,
             0.032263949513435364,
             -0.0057565271854400635,
             0.009186327457427979,
             0.04480317234992981,
             0.05849538743495941,
             -0.002558887004852295,
             0.0105876624584198,
             0.07764099538326263,
             0.09481798112392426,
             0.0012027323246002197,
             0.013115674257278442,
             0.11470003426074982,
             0.14204815030097961,
             0.0004703998565673828,
             0.008370190858840942,
             0.15681840479373932,
             0.18598075211048126,
             -0.0011706650257110596,
             0.015088319778442383,
             0.19568094611167908,
             0.19447414577007294,
             -0.0008240342140197754,
             0.018021583557128906,
             0.19768553972244263,
             0.19466069340705872,
             0.0005885958671569824,
             0.03291240334510803,
             0.19924943149089813,
             0.17696863412857056,
             -0.0017899274826049805,
             0.042174845933914185,
             0.1770760416984558,
             0.16251394152641296,
             -0.0012878179550170898,
             0.04020005464553833,
             0.16443310678005219,
             0.14441584050655365,
             -0.0003349483013153076,
             0.05718839168548584,
             0.14943650364875793,
             0.11513617634773254,
             -0.0009247660636901855,
             0.05940866470336914,
             0.12522275745868683,
             0.059859007596969604,
             -0.0010495483875274658,
             0.06605890393257141,
             0.07387930154800415,
             0.053920477628707886,
             0.005437314510345459,
             0.06771814823150635,
             0.07196864485740662,
             0.06333443522453308,
             0.003930538892745972,
             0.05706825852394104,
             0.07506915926933289,
             0.06453278660774231,
             0.004399806261062622,
             0.04897642135620117,
             0.0917915403842926,
             0.06798212230205536,
             0.0046695321798324585,
             0.03269936144351959,
             0.08296513557434082
            ],
            "colorscale": [
             [
              0,
              "rgb(49,54,149)"
             ],
             [
              0.1,
              "rgb(69,117,180)"
             ],
             [
              0.2,
              "rgb(116,173,209)"
             ],
             [
              0.3,
              "rgb(171,217,233)"
             ],
             [
              0.4,
              "rgb(224,243,248)"
             ],
             [
              0.5,
              "rgb(255,255,191)"
             ],
             [
              0.6,
              "rgb(254,224,144)"
             ],
             [
              0.7,
              "rgb(253,174,97)"
             ],
             [
              0.8,
              "rgb(244,109,67)"
             ],
             [
              0.9,
              "rgb(215,48,39)"
             ],
             [
              1,
              "rgb(165,0,38)"
             ]
            ],
            "showscale": false,
            "size": 10,
            "symbol": "circle"
           },
           "mode": "markers",
           "type": "scatter",
           "x": [
            75.32,
            76.29,
            72.69,
            75.37,
            75.38,
            76.39,
            72.7,
            75.42,
            75.5,
            76.53,
            72.74,
            75.48,
            75.64,
            76.69,
            72.81,
            75.58,
            75.83,
            76.89,
            72.9,
            75.71,
            76.08,
            77.11,
            73.03,
            75.88,
            76.35,
            77.36,
            73.2,
            76.1,
            76.65,
            77.61,
            73.42,
            76.36,
            77,
            77.86,
            73.69,
            76.66,
            77.36,
            78.1,
            74.02,
            76.98,
            77.73,
            78.32,
            74.39,
            77.3,
            78.07,
            78.51,
            74.82,
            77.62,
            78.41,
            78.69,
            75.29,
            77.89,
            78.7,
            78.84,
            75.78,
            78.16,
            78.94,
            78.98,
            76.3,
            78.39,
            79.1,
            79.1,
            76.83,
            78.6,
            79.27,
            79.22,
            77.36,
            78.8,
            79.37,
            79.33,
            77.86,
            78.97,
            79.45,
            79.45,
            78.31,
            79.12,
            79.48,
            79.57,
            78.73,
            79.29,
            79.48,
            79.71,
            79.08,
            79.44
           ],
           "y": [
            28.68,
            21.36,
            25.11,
            25.6,
            28.69,
            21.37,
            25.09,
            25.59,
            28.71,
            21.36,
            25.08,
            25.59,
            28.75,
            21.34,
            25.08,
            25.59,
            28.8,
            21.33,
            25.09,
            25.59,
            28.85,
            21.33,
            25.11,
            25.61,
            28.9,
            21.36,
            25.13,
            25.62,
            28.96,
            21.43,
            25.18,
            25.64,
            29.03,
            21.51,
            25.23,
            25.68,
            29.09,
            21.64,
            25.3,
            25.72,
            29.13,
            21.82,
            25.37,
            25.77,
            29.15,
            22.06,
            25.45,
            25.84,
            29.17,
            22.29,
            25.51,
            25.89,
            29.16,
            22.56,
            25.57,
            25.93,
            29.12,
            22.84,
            25.62,
            25.97,
            29.04,
            23.14,
            25.63,
            25.99,
            28.97,
            23.44,
            25.61,
            26,
            28.87,
            23.75,
            25.58,
            26.01,
            28.76,
            24.04,
            25.55,
            26.01,
            28.65,
            24.32,
            25.5,
            25.99,
            28.54,
            24.54,
            25.46,
            26.01
           ]
          },
          {
           "legendgroup": "Blockers",
           "marker": {
            "color": "black",
            "size": 20,
            "symbol": "x"
           },
           "mode": "markers",
           "name": "Blockers",
           "type": "scatter",
           "x": [
            80.43,
            80.49,
            80.59,
            80.55,
            80.96
           ],
           "y": [
            24.04,
            29.52,
            25.9,
            28.23,
            27.39
           ]
          },
          {
           "legendgroup": "QB",
           "marker": {
            "color": "black",
            "size": 20,
            "symbol": "diamond"
           },
           "mode": "markers",
           "name": "QB",
           "type": "scatter",
           "x": [
            84.02
           ],
           "y": [
            26.43
           ]
          },
          {
           "mode": "text",
           "text": [
            "QB Distruption Probability: 0.188"
           ],
           "textfont": {
            "color": "black",
            "size": 17
           },
           "type": "scatter",
           "x": [
            74.69
           ],
           "y": [
            30.67
           ]
          }
         ]
        },
        {
         "data": [
          {
           "legendgroup": "Rushers",
           "marker": {
            "cmax": 0.3,
            "cmin": -0.3,
            "color": [
             0.039091773331165314,
             0.0038083046674728394,
             0.00415349006652832,
             0.05248966068029404
            ],
            "colorscale": [
             [
              0,
              "rgb(49,54,149)"
             ],
             [
              0.1,
              "rgb(69,117,180)"
             ],
             [
              0.2,
              "rgb(116,173,209)"
             ],
             [
              0.3,
              "rgb(171,217,233)"
             ],
             [
              0.4,
              "rgb(224,243,248)"
             ],
             [
              0.5,
              "rgb(255,255,191)"
             ],
             [
              0.6,
              "rgb(254,224,144)"
             ],
             [
              0.7,
              "rgb(253,174,97)"
             ],
             [
              0.8,
              "rgb(244,109,67)"
             ],
             [
              0.9,
              "rgb(215,48,39)"
             ],
             [
              1,
              "rgb(165,0,38)"
             ]
            ],
            "showscale": false,
            "size": 20
           },
           "mode": "markers+text",
           "name": "Rushers",
           "text": [
            "Rusher Metric: 0.039",
            "Rusher Metric: 0.004",
            "Rusher Metric: 0.004",
            "Rusher Metric: 0.052"
           ],
           "textposition": "bottom center",
           "type": "scatter",
           "x": [
            79.35,
            79.98,
            79.62,
            79.7
           ],
           "y": [
            28.33,
            24.94,
            25.38,
            26.09
           ]
          },
          {
           "marker": {
            "cmax": 0.3,
            "cmin": -0.3,
            "color": [
             -0.0035824179649353027,
             0.0009929835796356201,
             -0.0011959969997406006,
             -0.015029162168502808,
             -0.0008094310760498047,
             -0.009118258953094482,
             -0.0035460293292999268,
             -0.0005391538143157959,
             0.005627363920211792,
             -0.011396944522857666,
             0.0020392239093780518,
             0.008966147899627686,
             -0.00023916363716125488,
             -0.014789104461669922,
             0.0016776323318481445,
             0.019344568252563477,
             0.002268075942993164,
             -0.011516287922859192,
             0.0034280866384506226,
             0.02354523539543152,
             0.032263949513435364,
             -0.0057565271854400635,
             0.009186327457427979,
             0.04480317234992981,
             0.05849538743495941,
             -0.002558887004852295,
             0.0105876624584198,
             0.07764099538326263,
             0.09481798112392426,
             0.0012027323246002197,
             0.013115674257278442,
             0.11470003426074982,
             0.14204815030097961,
             0.0004703998565673828,
             0.008370190858840942,
             0.15681840479373932,
             0.18598075211048126,
             -0.0011706650257110596,
             0.015088319778442383,
             0.19568094611167908,
             0.19447414577007294,
             -0.0008240342140197754,
             0.018021583557128906,
             0.19768553972244263,
             0.19466069340705872,
             0.0005885958671569824,
             0.03291240334510803,
             0.19924943149089813,
             0.17696863412857056,
             -0.0017899274826049805,
             0.042174845933914185,
             0.1770760416984558,
             0.16251394152641296,
             -0.0012878179550170898,
             0.04020005464553833,
             0.16443310678005219,
             0.14441584050655365,
             -0.0003349483013153076,
             0.05718839168548584,
             0.14943650364875793,
             0.11513617634773254,
             -0.0009247660636901855,
             0.05940866470336914,
             0.12522275745868683,
             0.059859007596969604,
             -0.0010495483875274658,
             0.06605890393257141,
             0.07387930154800415,
             0.053920477628707886,
             0.005437314510345459,
             0.06771814823150635,
             0.07196864485740662,
             0.06333443522453308,
             0.003930538892745972,
             0.05706825852394104,
             0.07506915926933289,
             0.06453278660774231,
             0.004399806261062622,
             0.04897642135620117,
             0.0917915403842926,
             0.06798212230205536,
             0.0046695321798324585,
             0.03269936144351959,
             0.08296513557434082,
             0.049622684717178345,
             0.0013639330863952637,
             0.01607409119606018,
             0.055712223052978516
            ],
            "colorscale": [
             [
              0,
              "rgb(49,54,149)"
             ],
             [
              0.1,
              "rgb(69,117,180)"
             ],
             [
              0.2,
              "rgb(116,173,209)"
             ],
             [
              0.3,
              "rgb(171,217,233)"
             ],
             [
              0.4,
              "rgb(224,243,248)"
             ],
             [
              0.5,
              "rgb(255,255,191)"
             ],
             [
              0.6,
              "rgb(254,224,144)"
             ],
             [
              0.7,
              "rgb(253,174,97)"
             ],
             [
              0.8,
              "rgb(244,109,67)"
             ],
             [
              0.9,
              "rgb(215,48,39)"
             ],
             [
              1,
              "rgb(165,0,38)"
             ]
            ],
            "showscale": false,
            "size": 10,
            "symbol": "circle"
           },
           "mode": "markers",
           "type": "scatter",
           "x": [
            75.32,
            76.29,
            72.69,
            75.37,
            75.38,
            76.39,
            72.7,
            75.42,
            75.5,
            76.53,
            72.74,
            75.48,
            75.64,
            76.69,
            72.81,
            75.58,
            75.83,
            76.89,
            72.9,
            75.71,
            76.08,
            77.11,
            73.03,
            75.88,
            76.35,
            77.36,
            73.2,
            76.1,
            76.65,
            77.61,
            73.42,
            76.36,
            77,
            77.86,
            73.69,
            76.66,
            77.36,
            78.1,
            74.02,
            76.98,
            77.73,
            78.32,
            74.39,
            77.3,
            78.07,
            78.51,
            74.82,
            77.62,
            78.41,
            78.69,
            75.29,
            77.89,
            78.7,
            78.84,
            75.78,
            78.16,
            78.94,
            78.98,
            76.3,
            78.39,
            79.1,
            79.1,
            76.83,
            78.6,
            79.27,
            79.22,
            77.36,
            78.8,
            79.37,
            79.33,
            77.86,
            78.97,
            79.45,
            79.45,
            78.31,
            79.12,
            79.48,
            79.57,
            78.73,
            79.29,
            79.48,
            79.71,
            79.08,
            79.44,
            79.44,
            79.83,
            79.38,
            79.56
           ],
           "y": [
            28.68,
            21.36,
            25.11,
            25.6,
            28.69,
            21.37,
            25.09,
            25.59,
            28.71,
            21.36,
            25.08,
            25.59,
            28.75,
            21.34,
            25.08,
            25.59,
            28.8,
            21.33,
            25.09,
            25.59,
            28.85,
            21.33,
            25.11,
            25.61,
            28.9,
            21.36,
            25.13,
            25.62,
            28.96,
            21.43,
            25.18,
            25.64,
            29.03,
            21.51,
            25.23,
            25.68,
            29.09,
            21.64,
            25.3,
            25.72,
            29.13,
            21.82,
            25.37,
            25.77,
            29.15,
            22.06,
            25.45,
            25.84,
            29.17,
            22.29,
            25.51,
            25.89,
            29.16,
            22.56,
            25.57,
            25.93,
            29.12,
            22.84,
            25.62,
            25.97,
            29.04,
            23.14,
            25.63,
            25.99,
            28.97,
            23.44,
            25.61,
            26,
            28.87,
            23.75,
            25.58,
            26.01,
            28.76,
            24.04,
            25.55,
            26.01,
            28.65,
            24.32,
            25.5,
            25.99,
            28.54,
            24.54,
            25.46,
            26.01,
            28.42,
            24.76,
            25.41,
            26.04
           ]
          },
          {
           "legendgroup": "Blockers",
           "marker": {
            "color": "black",
            "size": 20,
            "symbol": "x"
           },
           "mode": "markers",
           "name": "Blockers",
           "type": "scatter",
           "x": [
            80.55,
            80.61,
            80.72,
            80.55,
            80.99
           ],
           "y": [
            24.2,
            29.52,
            25.9,
            28.15,
            27.36
           ]
          },
          {
           "legendgroup": "QB",
           "marker": {
            "color": "black",
            "size": 20,
            "symbol": "diamond"
           },
           "mode": "markers",
           "name": "QB",
           "type": "scatter",
           "x": [
            84
           ],
           "y": [
            26.44
           ]
          },
          {
           "mode": "text",
           "text": [
            "QB Distruption Probability: 0.161"
           ],
           "textfont": {
            "color": "black",
            "size": 17
           },
           "type": "scatter",
           "x": [
            74.69
           ],
           "y": [
            30.67
           ]
          }
         ]
        },
        {
         "data": [
          {
           "legendgroup": "Rushers",
           "marker": {
            "cmax": 0.3,
            "cmin": -0.3,
            "color": [
             0.019543759524822235,
             0.0034427419304847717,
             -0.0014706626534461975,
             0.027584530413150787
            ],
            "colorscale": [
             [
              0,
              "rgb(49,54,149)"
             ],
             [
              0.1,
              "rgb(69,117,180)"
             ],
             [
              0.2,
              "rgb(116,173,209)"
             ],
             [
              0.3,
              "rgb(171,217,233)"
             ],
             [
              0.4,
              "rgb(224,243,248)"
             ],
             [
              0.5,
              "rgb(255,255,191)"
             ],
             [
              0.6,
              "rgb(254,224,144)"
             ],
             [
              0.7,
              "rgb(253,174,97)"
             ],
             [
              0.8,
              "rgb(244,109,67)"
             ],
             [
              0.9,
              "rgb(215,48,39)"
             ],
             [
              1,
              "rgb(165,0,38)"
             ]
            ],
            "showscale": false,
            "size": 20
           },
           "mode": "markers+text",
           "name": "Rushers",
           "text": [
            "Rusher Metric: 0.02",
            "Rusher Metric: 0.003",
            "Rusher Metric: -0.001",
            "Rusher Metric: 0.028"
           ],
           "textposition": "bottom center",
           "type": "scatter",
           "x": [
            79.25,
            80.13,
            79.81,
            79.84
           ],
           "y": [
            28.23,
            25.07,
            25.35,
            26.13
           ]
          },
          {
           "marker": {
            "cmax": 0.3,
            "cmin": -0.3,
            "color": [
             -0.0035824179649353027,
             0.0009929835796356201,
             -0.0011959969997406006,
             -0.015029162168502808,
             -0.0008094310760498047,
             -0.009118258953094482,
             -0.0035460293292999268,
             -0.0005391538143157959,
             0.005627363920211792,
             -0.011396944522857666,
             0.0020392239093780518,
             0.008966147899627686,
             -0.00023916363716125488,
             -0.014789104461669922,
             0.0016776323318481445,
             0.019344568252563477,
             0.002268075942993164,
             -0.011516287922859192,
             0.0034280866384506226,
             0.02354523539543152,
             0.032263949513435364,
             -0.0057565271854400635,
             0.009186327457427979,
             0.04480317234992981,
             0.05849538743495941,
             -0.002558887004852295,
             0.0105876624584198,
             0.07764099538326263,
             0.09481798112392426,
             0.0012027323246002197,
             0.013115674257278442,
             0.11470003426074982,
             0.14204815030097961,
             0.0004703998565673828,
             0.008370190858840942,
             0.15681840479373932,
             0.18598075211048126,
             -0.0011706650257110596,
             0.015088319778442383,
             0.19568094611167908,
             0.19447414577007294,
             -0.0008240342140197754,
             0.018021583557128906,
             0.19768553972244263,
             0.19466069340705872,
             0.0005885958671569824,
             0.03291240334510803,
             0.19924943149089813,
             0.17696863412857056,
             -0.0017899274826049805,
             0.042174845933914185,
             0.1770760416984558,
             0.16251394152641296,
             -0.0012878179550170898,
             0.04020005464553833,
             0.16443310678005219,
             0.14441584050655365,
             -0.0003349483013153076,
             0.05718839168548584,
             0.14943650364875793,
             0.11513617634773254,
             -0.0009247660636901855,
             0.05940866470336914,
             0.12522275745868683,
             0.059859007596969604,
             -0.0010495483875274658,
             0.06605890393257141,
             0.07387930154800415,
             0.053920477628707886,
             0.005437314510345459,
             0.06771814823150635,
             0.07196864485740662,
             0.06333443522453308,
             0.003930538892745972,
             0.05706825852394104,
             0.07506915926933289,
             0.06453278660774231,
             0.004399806261062622,
             0.04897642135620117,
             0.0917915403842926,
             0.06798212230205536,
             0.0046695321798324585,
             0.03269936144351959,
             0.08296513557434082,
             0.049622684717178345,
             0.0013639330863952637,
             0.01607409119606018,
             0.055712223052978516,
             0.039091773331165314,
             0.0038083046674728394,
             0.00415349006652832,
             0.05248966068029404
            ],
            "colorscale": [
             [
              0,
              "rgb(49,54,149)"
             ],
             [
              0.1,
              "rgb(69,117,180)"
             ],
             [
              0.2,
              "rgb(116,173,209)"
             ],
             [
              0.3,
              "rgb(171,217,233)"
             ],
             [
              0.4,
              "rgb(224,243,248)"
             ],
             [
              0.5,
              "rgb(255,255,191)"
             ],
             [
              0.6,
              "rgb(254,224,144)"
             ],
             [
              0.7,
              "rgb(253,174,97)"
             ],
             [
              0.8,
              "rgb(244,109,67)"
             ],
             [
              0.9,
              "rgb(215,48,39)"
             ],
             [
              1,
              "rgb(165,0,38)"
             ]
            ],
            "showscale": false,
            "size": 10,
            "symbol": "circle"
           },
           "mode": "markers",
           "type": "scatter",
           "x": [
            75.32,
            76.29,
            72.69,
            75.37,
            75.38,
            76.39,
            72.7,
            75.42,
            75.5,
            76.53,
            72.74,
            75.48,
            75.64,
            76.69,
            72.81,
            75.58,
            75.83,
            76.89,
            72.9,
            75.71,
            76.08,
            77.11,
            73.03,
            75.88,
            76.35,
            77.36,
            73.2,
            76.1,
            76.65,
            77.61,
            73.42,
            76.36,
            77,
            77.86,
            73.69,
            76.66,
            77.36,
            78.1,
            74.02,
            76.98,
            77.73,
            78.32,
            74.39,
            77.3,
            78.07,
            78.51,
            74.82,
            77.62,
            78.41,
            78.69,
            75.29,
            77.89,
            78.7,
            78.84,
            75.78,
            78.16,
            78.94,
            78.98,
            76.3,
            78.39,
            79.1,
            79.1,
            76.83,
            78.6,
            79.27,
            79.22,
            77.36,
            78.8,
            79.37,
            79.33,
            77.86,
            78.97,
            79.45,
            79.45,
            78.31,
            79.12,
            79.48,
            79.57,
            78.73,
            79.29,
            79.48,
            79.71,
            79.08,
            79.44,
            79.44,
            79.83,
            79.38,
            79.56,
            79.35,
            79.98,
            79.62,
            79.7
           ],
           "y": [
            28.68,
            21.36,
            25.11,
            25.6,
            28.69,
            21.37,
            25.09,
            25.59,
            28.71,
            21.36,
            25.08,
            25.59,
            28.75,
            21.34,
            25.08,
            25.59,
            28.8,
            21.33,
            25.09,
            25.59,
            28.85,
            21.33,
            25.11,
            25.61,
            28.9,
            21.36,
            25.13,
            25.62,
            28.96,
            21.43,
            25.18,
            25.64,
            29.03,
            21.51,
            25.23,
            25.68,
            29.09,
            21.64,
            25.3,
            25.72,
            29.13,
            21.82,
            25.37,
            25.77,
            29.15,
            22.06,
            25.45,
            25.84,
            29.17,
            22.29,
            25.51,
            25.89,
            29.16,
            22.56,
            25.57,
            25.93,
            29.12,
            22.84,
            25.62,
            25.97,
            29.04,
            23.14,
            25.63,
            25.99,
            28.97,
            23.44,
            25.61,
            26,
            28.87,
            23.75,
            25.58,
            26.01,
            28.76,
            24.04,
            25.55,
            26.01,
            28.65,
            24.32,
            25.5,
            25.99,
            28.54,
            24.54,
            25.46,
            26.01,
            28.42,
            24.76,
            25.41,
            26.04,
            28.33,
            24.94,
            25.38,
            26.09
           ]
          },
          {
           "legendgroup": "Blockers",
           "marker": {
            "color": "black",
            "size": 20,
            "symbol": "x"
           },
           "mode": "markers",
           "name": "Blockers",
           "type": "scatter",
           "x": [
            80.67,
            80.75,
            80.84,
            80.52,
            81.02
           ],
           "y": [
            24.35,
            29.55,
            25.91,
            28.07,
            27.33
           ]
          },
          {
           "legendgroup": "QB",
           "marker": {
            "color": "black",
            "size": 20,
            "symbol": "diamond"
           },
           "mode": "markers",
           "name": "QB",
           "type": "scatter",
           "x": [
            83.98
           ],
           "y": [
            26.45
           ]
          },
          {
           "mode": "text",
           "text": [
            "QB Distruption Probability: 0.124"
           ],
           "textfont": {
            "color": "black",
            "size": 17
           },
           "type": "scatter",
           "x": [
            74.69
           ],
           "y": [
            30.67
           ]
          }
         ]
        },
        {
         "data": [
          {
           "legendgroup": "Rushers",
           "marker": {
            "cmax": 0.3,
            "cmin": -0.3,
            "color": [
             0.009832784533500671,
             0.0010151639580726624,
             -0.007008254528045654,
             0.013601839542388916
            ],
            "colorscale": [
             [
              0,
              "rgb(49,54,149)"
             ],
             [
              0.1,
              "rgb(69,117,180)"
             ],
             [
              0.2,
              "rgb(116,173,209)"
             ],
             [
              0.3,
              "rgb(171,217,233)"
             ],
             [
              0.4,
              "rgb(224,243,248)"
             ],
             [
              0.5,
              "rgb(255,255,191)"
             ],
             [
              0.6,
              "rgb(254,224,144)"
             ],
             [
              0.7,
              "rgb(253,174,97)"
             ],
             [
              0.8,
              "rgb(244,109,67)"
             ],
             [
              0.9,
              "rgb(215,48,39)"
             ],
             [
              1,
              "rgb(165,0,38)"
             ]
            ],
            "showscale": false,
            "size": 20
           },
           "mode": "markers+text",
           "name": "Rushers",
           "text": [
            "Rusher Metric: 0.01",
            "Rusher Metric: 0.001",
            "Rusher Metric: -0.007",
            "Rusher Metric: 0.014"
           ],
           "textposition": "bottom center",
           "type": "scatter",
           "x": [
            79.12,
            80.23,
            79.95,
            79.96
           ],
           "y": [
            28.14,
            25.12,
            25.33,
            26.19
           ]
          },
          {
           "marker": {
            "cmax": 0.3,
            "cmin": -0.3,
            "color": [
             -0.0035824179649353027,
             0.0009929835796356201,
             -0.0011959969997406006,
             -0.015029162168502808,
             -0.0008094310760498047,
             -0.009118258953094482,
             -0.0035460293292999268,
             -0.0005391538143157959,
             0.005627363920211792,
             -0.011396944522857666,
             0.0020392239093780518,
             0.008966147899627686,
             -0.00023916363716125488,
             -0.014789104461669922,
             0.0016776323318481445,
             0.019344568252563477,
             0.002268075942993164,
             -0.011516287922859192,
             0.0034280866384506226,
             0.02354523539543152,
             0.032263949513435364,
             -0.0057565271854400635,
             0.009186327457427979,
             0.04480317234992981,
             0.05849538743495941,
             -0.002558887004852295,
             0.0105876624584198,
             0.07764099538326263,
             0.09481798112392426,
             0.0012027323246002197,
             0.013115674257278442,
             0.11470003426074982,
             0.14204815030097961,
             0.0004703998565673828,
             0.008370190858840942,
             0.15681840479373932,
             0.18598075211048126,
             -0.0011706650257110596,
             0.015088319778442383,
             0.19568094611167908,
             0.19447414577007294,
             -0.0008240342140197754,
             0.018021583557128906,
             0.19768553972244263,
             0.19466069340705872,
             0.0005885958671569824,
             0.03291240334510803,
             0.19924943149089813,
             0.17696863412857056,
             -0.0017899274826049805,
             0.042174845933914185,
             0.1770760416984558,
             0.16251394152641296,
             -0.0012878179550170898,
             0.04020005464553833,
             0.16443310678005219,
             0.14441584050655365,
             -0.0003349483013153076,
             0.05718839168548584,
             0.14943650364875793,
             0.11513617634773254,
             -0.0009247660636901855,
             0.05940866470336914,
             0.12522275745868683,
             0.059859007596969604,
             -0.0010495483875274658,
             0.06605890393257141,
             0.07387930154800415,
             0.053920477628707886,
             0.005437314510345459,
             0.06771814823150635,
             0.07196864485740662,
             0.06333443522453308,
             0.003930538892745972,
             0.05706825852394104,
             0.07506915926933289,
             0.06453278660774231,
             0.004399806261062622,
             0.04897642135620117,
             0.0917915403842926,
             0.06798212230205536,
             0.0046695321798324585,
             0.03269936144351959,
             0.08296513557434082,
             0.049622684717178345,
             0.0013639330863952637,
             0.01607409119606018,
             0.055712223052978516,
             0.039091773331165314,
             0.0038083046674728394,
             0.00415349006652832,
             0.05248966068029404,
             0.019543759524822235,
             0.0034427419304847717,
             -0.0014706626534461975,
             0.027584530413150787
            ],
            "colorscale": [
             [
              0,
              "rgb(49,54,149)"
             ],
             [
              0.1,
              "rgb(69,117,180)"
             ],
             [
              0.2,
              "rgb(116,173,209)"
             ],
             [
              0.3,
              "rgb(171,217,233)"
             ],
             [
              0.4,
              "rgb(224,243,248)"
             ],
             [
              0.5,
              "rgb(255,255,191)"
             ],
             [
              0.6,
              "rgb(254,224,144)"
             ],
             [
              0.7,
              "rgb(253,174,97)"
             ],
             [
              0.8,
              "rgb(244,109,67)"
             ],
             [
              0.9,
              "rgb(215,48,39)"
             ],
             [
              1,
              "rgb(165,0,38)"
             ]
            ],
            "showscale": false,
            "size": 10,
            "symbol": "circle"
           },
           "mode": "markers",
           "type": "scatter",
           "x": [
            75.32,
            76.29,
            72.69,
            75.37,
            75.38,
            76.39,
            72.7,
            75.42,
            75.5,
            76.53,
            72.74,
            75.48,
            75.64,
            76.69,
            72.81,
            75.58,
            75.83,
            76.89,
            72.9,
            75.71,
            76.08,
            77.11,
            73.03,
            75.88,
            76.35,
            77.36,
            73.2,
            76.1,
            76.65,
            77.61,
            73.42,
            76.36,
            77,
            77.86,
            73.69,
            76.66,
            77.36,
            78.1,
            74.02,
            76.98,
            77.73,
            78.32,
            74.39,
            77.3,
            78.07,
            78.51,
            74.82,
            77.62,
            78.41,
            78.69,
            75.29,
            77.89,
            78.7,
            78.84,
            75.78,
            78.16,
            78.94,
            78.98,
            76.3,
            78.39,
            79.1,
            79.1,
            76.83,
            78.6,
            79.27,
            79.22,
            77.36,
            78.8,
            79.37,
            79.33,
            77.86,
            78.97,
            79.45,
            79.45,
            78.31,
            79.12,
            79.48,
            79.57,
            78.73,
            79.29,
            79.48,
            79.71,
            79.08,
            79.44,
            79.44,
            79.83,
            79.38,
            79.56,
            79.35,
            79.98,
            79.62,
            79.7,
            79.25,
            80.13,
            79.81,
            79.84
           ],
           "y": [
            28.68,
            21.36,
            25.11,
            25.6,
            28.69,
            21.37,
            25.09,
            25.59,
            28.71,
            21.36,
            25.08,
            25.59,
            28.75,
            21.34,
            25.08,
            25.59,
            28.8,
            21.33,
            25.09,
            25.59,
            28.85,
            21.33,
            25.11,
            25.61,
            28.9,
            21.36,
            25.13,
            25.62,
            28.96,
            21.43,
            25.18,
            25.64,
            29.03,
            21.51,
            25.23,
            25.68,
            29.09,
            21.64,
            25.3,
            25.72,
            29.13,
            21.82,
            25.37,
            25.77,
            29.15,
            22.06,
            25.45,
            25.84,
            29.17,
            22.29,
            25.51,
            25.89,
            29.16,
            22.56,
            25.57,
            25.93,
            29.12,
            22.84,
            25.62,
            25.97,
            29.04,
            23.14,
            25.63,
            25.99,
            28.97,
            23.44,
            25.61,
            26,
            28.87,
            23.75,
            25.58,
            26.01,
            28.76,
            24.04,
            25.55,
            26.01,
            28.65,
            24.32,
            25.5,
            25.99,
            28.54,
            24.54,
            25.46,
            26.01,
            28.42,
            24.76,
            25.41,
            26.04,
            28.33,
            24.94,
            25.38,
            26.09,
            28.23,
            25.07,
            25.35,
            26.13
           ]
          },
          {
           "legendgroup": "Blockers",
           "marker": {
            "color": "black",
            "size": 20,
            "symbol": "x"
           },
           "mode": "markers",
           "name": "Blockers",
           "type": "scatter",
           "x": [
            80.8,
            80.88,
            80.95,
            80.46,
            81.05
           ],
           "y": [
            24.51,
            29.6,
            25.92,
            28.01,
            27.29
           ]
          },
          {
           "legendgroup": "QB",
           "marker": {
            "color": "black",
            "size": 20,
            "symbol": "diamond"
           },
           "mode": "markers",
           "name": "QB",
           "type": "scatter",
           "x": [
            83.95
           ],
           "y": [
            26.48
           ]
          },
          {
           "mode": "text",
           "text": [
            "QB Distruption Probability: 0.092"
           ],
           "textfont": {
            "color": "black",
            "size": 17
           },
           "type": "scatter",
           "x": [
            74.69
           ],
           "y": [
            30.67
           ]
          }
         ]
        },
        {
         "data": [
          {
           "legendgroup": "Rushers",
           "marker": {
            "cmax": 0.3,
            "cmin": -0.3,
            "color": [
             0.00559157133102417,
             -0.0006430745124816895,
             -0.0049499571323394775,
             0.010872505605220795
            ],
            "colorscale": [
             [
              0,
              "rgb(49,54,149)"
             ],
             [
              0.1,
              "rgb(69,117,180)"
             ],
             [
              0.2,
              "rgb(116,173,209)"
             ],
             [
              0.3,
              "rgb(171,217,233)"
             ],
             [
              0.4,
              "rgb(224,243,248)"
             ],
             [
              0.5,
              "rgb(255,255,191)"
             ],
             [
              0.6,
              "rgb(254,224,144)"
             ],
             [
              0.7,
              "rgb(253,174,97)"
             ],
             [
              0.8,
              "rgb(244,109,67)"
             ],
             [
              0.9,
              "rgb(215,48,39)"
             ],
             [
              1,
              "rgb(165,0,38)"
             ]
            ],
            "showscale": false,
            "size": 20
           },
           "mode": "markers+text",
           "name": "Rushers",
           "text": [
            "Rusher Metric: 0.006",
            "Rusher Metric: -0.001",
            "Rusher Metric: -0.005",
            "Rusher Metric: 0.011"
           ],
           "textposition": "bottom center",
           "type": "scatter",
           "x": [
            78.98,
            80.34,
            80.05,
            80.1
           ],
           "y": [
            28.07,
            25.14,
            25.3,
            26.25
           ]
          },
          {
           "marker": {
            "cmax": 0.3,
            "cmin": -0.3,
            "color": [
             -0.0035824179649353027,
             0.0009929835796356201,
             -0.0011959969997406006,
             -0.015029162168502808,
             -0.0008094310760498047,
             -0.009118258953094482,
             -0.0035460293292999268,
             -0.0005391538143157959,
             0.005627363920211792,
             -0.011396944522857666,
             0.0020392239093780518,
             0.008966147899627686,
             -0.00023916363716125488,
             -0.014789104461669922,
             0.0016776323318481445,
             0.019344568252563477,
             0.002268075942993164,
             -0.011516287922859192,
             0.0034280866384506226,
             0.02354523539543152,
             0.032263949513435364,
             -0.0057565271854400635,
             0.009186327457427979,
             0.04480317234992981,
             0.05849538743495941,
             -0.002558887004852295,
             0.0105876624584198,
             0.07764099538326263,
             0.09481798112392426,
             0.0012027323246002197,
             0.013115674257278442,
             0.11470003426074982,
             0.14204815030097961,
             0.0004703998565673828,
             0.008370190858840942,
             0.15681840479373932,
             0.18598075211048126,
             -0.0011706650257110596,
             0.015088319778442383,
             0.19568094611167908,
             0.19447414577007294,
             -0.0008240342140197754,
             0.018021583557128906,
             0.19768553972244263,
             0.19466069340705872,
             0.0005885958671569824,
             0.03291240334510803,
             0.19924943149089813,
             0.17696863412857056,
             -0.0017899274826049805,
             0.042174845933914185,
             0.1770760416984558,
             0.16251394152641296,
             -0.0012878179550170898,
             0.04020005464553833,
             0.16443310678005219,
             0.14441584050655365,
             -0.0003349483013153076,
             0.05718839168548584,
             0.14943650364875793,
             0.11513617634773254,
             -0.0009247660636901855,
             0.05940866470336914,
             0.12522275745868683,
             0.059859007596969604,
             -0.0010495483875274658,
             0.06605890393257141,
             0.07387930154800415,
             0.053920477628707886,
             0.005437314510345459,
             0.06771814823150635,
             0.07196864485740662,
             0.06333443522453308,
             0.003930538892745972,
             0.05706825852394104,
             0.07506915926933289,
             0.06453278660774231,
             0.004399806261062622,
             0.04897642135620117,
             0.0917915403842926,
             0.06798212230205536,
             0.0046695321798324585,
             0.03269936144351959,
             0.08296513557434082,
             0.049622684717178345,
             0.0013639330863952637,
             0.01607409119606018,
             0.055712223052978516,
             0.039091773331165314,
             0.0038083046674728394,
             0.00415349006652832,
             0.05248966068029404,
             0.019543759524822235,
             0.0034427419304847717,
             -0.0014706626534461975,
             0.027584530413150787,
             0.009832784533500671,
             0.0010151639580726624,
             -0.007008254528045654,
             0.013601839542388916
            ],
            "colorscale": [
             [
              0,
              "rgb(49,54,149)"
             ],
             [
              0.1,
              "rgb(69,117,180)"
             ],
             [
              0.2,
              "rgb(116,173,209)"
             ],
             [
              0.3,
              "rgb(171,217,233)"
             ],
             [
              0.4,
              "rgb(224,243,248)"
             ],
             [
              0.5,
              "rgb(255,255,191)"
             ],
             [
              0.6,
              "rgb(254,224,144)"
             ],
             [
              0.7,
              "rgb(253,174,97)"
             ],
             [
              0.8,
              "rgb(244,109,67)"
             ],
             [
              0.9,
              "rgb(215,48,39)"
             ],
             [
              1,
              "rgb(165,0,38)"
             ]
            ],
            "showscale": false,
            "size": 10,
            "symbol": "circle"
           },
           "mode": "markers",
           "type": "scatter",
           "x": [
            75.32,
            76.29,
            72.69,
            75.37,
            75.38,
            76.39,
            72.7,
            75.42,
            75.5,
            76.53,
            72.74,
            75.48,
            75.64,
            76.69,
            72.81,
            75.58,
            75.83,
            76.89,
            72.9,
            75.71,
            76.08,
            77.11,
            73.03,
            75.88,
            76.35,
            77.36,
            73.2,
            76.1,
            76.65,
            77.61,
            73.42,
            76.36,
            77,
            77.86,
            73.69,
            76.66,
            77.36,
            78.1,
            74.02,
            76.98,
            77.73,
            78.32,
            74.39,
            77.3,
            78.07,
            78.51,
            74.82,
            77.62,
            78.41,
            78.69,
            75.29,
            77.89,
            78.7,
            78.84,
            75.78,
            78.16,
            78.94,
            78.98,
            76.3,
            78.39,
            79.1,
            79.1,
            76.83,
            78.6,
            79.27,
            79.22,
            77.36,
            78.8,
            79.37,
            79.33,
            77.86,
            78.97,
            79.45,
            79.45,
            78.31,
            79.12,
            79.48,
            79.57,
            78.73,
            79.29,
            79.48,
            79.71,
            79.08,
            79.44,
            79.44,
            79.83,
            79.38,
            79.56,
            79.35,
            79.98,
            79.62,
            79.7,
            79.25,
            80.13,
            79.81,
            79.84,
            79.12,
            80.23,
            79.95,
            79.96
           ],
           "y": [
            28.68,
            21.36,
            25.11,
            25.6,
            28.69,
            21.37,
            25.09,
            25.59,
            28.71,
            21.36,
            25.08,
            25.59,
            28.75,
            21.34,
            25.08,
            25.59,
            28.8,
            21.33,
            25.09,
            25.59,
            28.85,
            21.33,
            25.11,
            25.61,
            28.9,
            21.36,
            25.13,
            25.62,
            28.96,
            21.43,
            25.18,
            25.64,
            29.03,
            21.51,
            25.23,
            25.68,
            29.09,
            21.64,
            25.3,
            25.72,
            29.13,
            21.82,
            25.37,
            25.77,
            29.15,
            22.06,
            25.45,
            25.84,
            29.17,
            22.29,
            25.51,
            25.89,
            29.16,
            22.56,
            25.57,
            25.93,
            29.12,
            22.84,
            25.62,
            25.97,
            29.04,
            23.14,
            25.63,
            25.99,
            28.97,
            23.44,
            25.61,
            26,
            28.87,
            23.75,
            25.58,
            26.01,
            28.76,
            24.04,
            25.55,
            26.01,
            28.65,
            24.32,
            25.5,
            25.99,
            28.54,
            24.54,
            25.46,
            26.01,
            28.42,
            24.76,
            25.41,
            26.04,
            28.33,
            24.94,
            25.38,
            26.09,
            28.23,
            25.07,
            25.35,
            26.13,
            28.14,
            25.12,
            25.33,
            26.19
           ]
          },
          {
           "legendgroup": "Blockers",
           "marker": {
            "color": "black",
            "size": 20,
            "symbol": "x"
           },
           "mode": "markers",
           "name": "Blockers",
           "type": "scatter",
           "x": [
            80.92,
            81.01,
            81.05,
            80.4,
            81.07
           ],
           "y": [
            24.63,
            29.66,
            25.94,
            27.97,
            27.26
           ]
          },
          {
           "legendgroup": "QB",
           "marker": {
            "color": "black",
            "size": 20,
            "symbol": "diamond"
           },
           "mode": "markers",
           "name": "QB",
           "type": "scatter",
           "x": [
            83.93
           ],
           "y": [
            26.51
           ]
          },
          {
           "mode": "text",
           "text": [
            "QB Distruption Probability: 0.077"
           ],
           "textfont": {
            "color": "black",
            "size": 17
           },
           "type": "scatter",
           "x": [
            74.69
           ],
           "y": [
            30.67
           ]
          }
         ]
        }
       ],
       "layout": {
        "autosize": false,
        "height": 600,
        "legend": {
         "orientation": "h"
        },
        "plot_bgcolor": "green",
        "template": {
         "data": {
          "bar": [
           {
            "error_x": {
             "color": "#2a3f5f"
            },
            "error_y": {
             "color": "#2a3f5f"
            },
            "marker": {
             "line": {
              "color": "#E5ECF6",
              "width": 0.5
             },
             "pattern": {
              "fillmode": "overlay",
              "size": 10,
              "solidity": 0.2
             }
            },
            "type": "bar"
           }
          ],
          "barpolar": [
           {
            "marker": {
             "line": {
              "color": "#E5ECF6",
              "width": 0.5
             },
             "pattern": {
              "fillmode": "overlay",
              "size": 10,
              "solidity": 0.2
             }
            },
            "type": "barpolar"
           }
          ],
          "carpet": [
           {
            "aaxis": {
             "endlinecolor": "#2a3f5f",
             "gridcolor": "white",
             "linecolor": "white",
             "minorgridcolor": "white",
             "startlinecolor": "#2a3f5f"
            },
            "baxis": {
             "endlinecolor": "#2a3f5f",
             "gridcolor": "white",
             "linecolor": "white",
             "minorgridcolor": "white",
             "startlinecolor": "#2a3f5f"
            },
            "type": "carpet"
           }
          ],
          "choropleth": [
           {
            "colorbar": {
             "outlinewidth": 0,
             "ticks": ""
            },
            "type": "choropleth"
           }
          ],
          "contour": [
           {
            "colorbar": {
             "outlinewidth": 0,
             "ticks": ""
            },
            "colorscale": [
             [
              0,
              "#0d0887"
             ],
             [
              0.1111111111111111,
              "#46039f"
             ],
             [
              0.2222222222222222,
              "#7201a8"
             ],
             [
              0.3333333333333333,
              "#9c179e"
             ],
             [
              0.4444444444444444,
              "#bd3786"
             ],
             [
              0.5555555555555556,
              "#d8576b"
             ],
             [
              0.6666666666666666,
              "#ed7953"
             ],
             [
              0.7777777777777778,
              "#fb9f3a"
             ],
             [
              0.8888888888888888,
              "#fdca26"
             ],
             [
              1,
              "#f0f921"
             ]
            ],
            "type": "contour"
           }
          ],
          "contourcarpet": [
           {
            "colorbar": {
             "outlinewidth": 0,
             "ticks": ""
            },
            "type": "contourcarpet"
           }
          ],
          "heatmap": [
           {
            "colorbar": {
             "outlinewidth": 0,
             "ticks": ""
            },
            "colorscale": [
             [
              0,
              "#0d0887"
             ],
             [
              0.1111111111111111,
              "#46039f"
             ],
             [
              0.2222222222222222,
              "#7201a8"
             ],
             [
              0.3333333333333333,
              "#9c179e"
             ],
             [
              0.4444444444444444,
              "#bd3786"
             ],
             [
              0.5555555555555556,
              "#d8576b"
             ],
             [
              0.6666666666666666,
              "#ed7953"
             ],
             [
              0.7777777777777778,
              "#fb9f3a"
             ],
             [
              0.8888888888888888,
              "#fdca26"
             ],
             [
              1,
              "#f0f921"
             ]
            ],
            "type": "heatmap"
           }
          ],
          "heatmapgl": [
           {
            "colorbar": {
             "outlinewidth": 0,
             "ticks": ""
            },
            "colorscale": [
             [
              0,
              "#0d0887"
             ],
             [
              0.1111111111111111,
              "#46039f"
             ],
             [
              0.2222222222222222,
              "#7201a8"
             ],
             [
              0.3333333333333333,
              "#9c179e"
             ],
             [
              0.4444444444444444,
              "#bd3786"
             ],
             [
              0.5555555555555556,
              "#d8576b"
             ],
             [
              0.6666666666666666,
              "#ed7953"
             ],
             [
              0.7777777777777778,
              "#fb9f3a"
             ],
             [
              0.8888888888888888,
              "#fdca26"
             ],
             [
              1,
              "#f0f921"
             ]
            ],
            "type": "heatmapgl"
           }
          ],
          "histogram": [
           {
            "marker": {
             "pattern": {
              "fillmode": "overlay",
              "size": 10,
              "solidity": 0.2
             }
            },
            "type": "histogram"
           }
          ],
          "histogram2d": [
           {
            "colorbar": {
             "outlinewidth": 0,
             "ticks": ""
            },
            "colorscale": [
             [
              0,
              "#0d0887"
             ],
             [
              0.1111111111111111,
              "#46039f"
             ],
             [
              0.2222222222222222,
              "#7201a8"
             ],
             [
              0.3333333333333333,
              "#9c179e"
             ],
             [
              0.4444444444444444,
              "#bd3786"
             ],
             [
              0.5555555555555556,
              "#d8576b"
             ],
             [
              0.6666666666666666,
              "#ed7953"
             ],
             [
              0.7777777777777778,
              "#fb9f3a"
             ],
             [
              0.8888888888888888,
              "#fdca26"
             ],
             [
              1,
              "#f0f921"
             ]
            ],
            "type": "histogram2d"
           }
          ],
          "histogram2dcontour": [
           {
            "colorbar": {
             "outlinewidth": 0,
             "ticks": ""
            },
            "colorscale": [
             [
              0,
              "#0d0887"
             ],
             [
              0.1111111111111111,
              "#46039f"
             ],
             [
              0.2222222222222222,
              "#7201a8"
             ],
             [
              0.3333333333333333,
              "#9c179e"
             ],
             [
              0.4444444444444444,
              "#bd3786"
             ],
             [
              0.5555555555555556,
              "#d8576b"
             ],
             [
              0.6666666666666666,
              "#ed7953"
             ],
             [
              0.7777777777777778,
              "#fb9f3a"
             ],
             [
              0.8888888888888888,
              "#fdca26"
             ],
             [
              1,
              "#f0f921"
             ]
            ],
            "type": "histogram2dcontour"
           }
          ],
          "mesh3d": [
           {
            "colorbar": {
             "outlinewidth": 0,
             "ticks": ""
            },
            "type": "mesh3d"
           }
          ],
          "parcoords": [
           {
            "line": {
             "colorbar": {
              "outlinewidth": 0,
              "ticks": ""
             }
            },
            "type": "parcoords"
           }
          ],
          "pie": [
           {
            "automargin": true,
            "type": "pie"
           }
          ],
          "scatter": [
           {
            "fillpattern": {
             "fillmode": "overlay",
             "size": 10,
             "solidity": 0.2
            },
            "type": "scatter"
           }
          ],
          "scatter3d": [
           {
            "line": {
             "colorbar": {
              "outlinewidth": 0,
              "ticks": ""
             }
            },
            "marker": {
             "colorbar": {
              "outlinewidth": 0,
              "ticks": ""
             }
            },
            "type": "scatter3d"
           }
          ],
          "scattercarpet": [
           {
            "marker": {
             "colorbar": {
              "outlinewidth": 0,
              "ticks": ""
             }
            },
            "type": "scattercarpet"
           }
          ],
          "scattergeo": [
           {
            "marker": {
             "colorbar": {
              "outlinewidth": 0,
              "ticks": ""
             }
            },
            "type": "scattergeo"
           }
          ],
          "scattergl": [
           {
            "marker": {
             "colorbar": {
              "outlinewidth": 0,
              "ticks": ""
             }
            },
            "type": "scattergl"
           }
          ],
          "scattermapbox": [
           {
            "marker": {
             "colorbar": {
              "outlinewidth": 0,
              "ticks": ""
             }
            },
            "type": "scattermapbox"
           }
          ],
          "scatterpolar": [
           {
            "marker": {
             "colorbar": {
              "outlinewidth": 0,
              "ticks": ""
             }
            },
            "type": "scatterpolar"
           }
          ],
          "scatterpolargl": [
           {
            "marker": {
             "colorbar": {
              "outlinewidth": 0,
              "ticks": ""
             }
            },
            "type": "scatterpolargl"
           }
          ],
          "scatterternary": [
           {
            "marker": {
             "colorbar": {
              "outlinewidth": 0,
              "ticks": ""
             }
            },
            "type": "scatterternary"
           }
          ],
          "surface": [
           {
            "colorbar": {
             "outlinewidth": 0,
             "ticks": ""
            },
            "colorscale": [
             [
              0,
              "#0d0887"
             ],
             [
              0.1111111111111111,
              "#46039f"
             ],
             [
              0.2222222222222222,
              "#7201a8"
             ],
             [
              0.3333333333333333,
              "#9c179e"
             ],
             [
              0.4444444444444444,
              "#bd3786"
             ],
             [
              0.5555555555555556,
              "#d8576b"
             ],
             [
              0.6666666666666666,
              "#ed7953"
             ],
             [
              0.7777777777777778,
              "#fb9f3a"
             ],
             [
              0.8888888888888888,
              "#fdca26"
             ],
             [
              1,
              "#f0f921"
             ]
            ],
            "type": "surface"
           }
          ],
          "table": [
           {
            "cells": {
             "fill": {
              "color": "#EBF0F8"
             },
             "line": {
              "color": "white"
             }
            },
            "header": {
             "fill": {
              "color": "#C8D4E3"
             },
             "line": {
              "color": "white"
             }
            },
            "type": "table"
           }
          ]
         },
         "layout": {
          "annotationdefaults": {
           "arrowcolor": "#2a3f5f",
           "arrowhead": 0,
           "arrowwidth": 1
          },
          "autotypenumbers": "strict",
          "coloraxis": {
           "colorbar": {
            "outlinewidth": 0,
            "ticks": ""
           }
          },
          "colorscale": {
           "diverging": [
            [
             0,
             "#8e0152"
            ],
            [
             0.1,
             "#c51b7d"
            ],
            [
             0.2,
             "#de77ae"
            ],
            [
             0.3,
             "#f1b6da"
            ],
            [
             0.4,
             "#fde0ef"
            ],
            [
             0.5,
             "#f7f7f7"
            ],
            [
             0.6,
             "#e6f5d0"
            ],
            [
             0.7,
             "#b8e186"
            ],
            [
             0.8,
             "#7fbc41"
            ],
            [
             0.9,
             "#4d9221"
            ],
            [
             1,
             "#276419"
            ]
           ],
           "sequential": [
            [
             0,
             "#0d0887"
            ],
            [
             0.1111111111111111,
             "#46039f"
            ],
            [
             0.2222222222222222,
             "#7201a8"
            ],
            [
             0.3333333333333333,
             "#9c179e"
            ],
            [
             0.4444444444444444,
             "#bd3786"
            ],
            [
             0.5555555555555556,
             "#d8576b"
            ],
            [
             0.6666666666666666,
             "#ed7953"
            ],
            [
             0.7777777777777778,
             "#fb9f3a"
            ],
            [
             0.8888888888888888,
             "#fdca26"
            ],
            [
             1,
             "#f0f921"
            ]
           ],
           "sequentialminus": [
            [
             0,
             "#0d0887"
            ],
            [
             0.1111111111111111,
             "#46039f"
            ],
            [
             0.2222222222222222,
             "#7201a8"
            ],
            [
             0.3333333333333333,
             "#9c179e"
            ],
            [
             0.4444444444444444,
             "#bd3786"
            ],
            [
             0.5555555555555556,
             "#d8576b"
            ],
            [
             0.6666666666666666,
             "#ed7953"
            ],
            [
             0.7777777777777778,
             "#fb9f3a"
            ],
            [
             0.8888888888888888,
             "#fdca26"
            ],
            [
             1,
             "#f0f921"
            ]
           ]
          },
          "colorway": [
           "#636efa",
           "#EF553B",
           "#00cc96",
           "#ab63fa",
           "#FFA15A",
           "#19d3f3",
           "#FF6692",
           "#B6E880",
           "#FF97FF",
           "#FECB52"
          ],
          "font": {
           "color": "#2a3f5f"
          },
          "geo": {
           "bgcolor": "white",
           "lakecolor": "white",
           "landcolor": "#E5ECF6",
           "showlakes": true,
           "showland": true,
           "subunitcolor": "white"
          },
          "hoverlabel": {
           "align": "left"
          },
          "hovermode": "closest",
          "mapbox": {
           "style": "light"
          },
          "paper_bgcolor": "white",
          "plot_bgcolor": "#E5ECF6",
          "polar": {
           "angularaxis": {
            "gridcolor": "white",
            "linecolor": "white",
            "ticks": ""
           },
           "bgcolor": "#E5ECF6",
           "radialaxis": {
            "gridcolor": "white",
            "linecolor": "white",
            "ticks": ""
           }
          },
          "scene": {
           "xaxis": {
            "backgroundcolor": "#E5ECF6",
            "gridcolor": "white",
            "gridwidth": 2,
            "linecolor": "white",
            "showbackground": true,
            "ticks": "",
            "zerolinecolor": "white"
           },
           "yaxis": {
            "backgroundcolor": "#E5ECF6",
            "gridcolor": "white",
            "gridwidth": 2,
            "linecolor": "white",
            "showbackground": true,
            "ticks": "",
            "zerolinecolor": "white"
           },
           "zaxis": {
            "backgroundcolor": "#E5ECF6",
            "gridcolor": "white",
            "gridwidth": 2,
            "linecolor": "white",
            "showbackground": true,
            "ticks": "",
            "zerolinecolor": "white"
           }
          },
          "shapedefaults": {
           "line": {
            "color": "#2a3f5f"
           }
          },
          "ternary": {
           "aaxis": {
            "gridcolor": "white",
            "linecolor": "white",
            "ticks": ""
           },
           "baxis": {
            "gridcolor": "white",
            "linecolor": "white",
            "ticks": ""
           },
           "bgcolor": "#E5ECF6",
           "caxis": {
            "gridcolor": "white",
            "linecolor": "white",
            "ticks": ""
           }
          },
          "title": {
           "x": 0.05
          },
          "xaxis": {
           "automargin": true,
           "gridcolor": "white",
           "linecolor": "white",
           "ticks": "",
           "title": {
            "standoff": 15
           },
           "zerolinecolor": "white",
           "zerolinewidth": 2
          },
          "yaxis": {
           "automargin": true,
           "gridcolor": "white",
           "linecolor": "white",
           "ticks": "",
           "title": {
            "standoff": 15
           },
           "zerolinecolor": "white",
           "zerolinewidth": 2
          }
         }
        },
        "title": {
         "text": "Play 2021090900187"
        },
        "updatemenus": [
         {
          "buttons": [
           {
            "args": [
             null,
             {
              "frame": {
               "duration": 200,
               "redraw": false
              },
              "fromcurrent": true,
              "transition": {
               "duration": 0
              }
             }
            ],
            "label": "Play",
            "method": "animate"
           }
          ],
          "type": "buttons"
         }
        ],
        "width": 800,
        "xaxis": {
         "autorange": false,
         "dtick": 5,
         "gridcolor": "black",
         "range": [
          70.69,
          86.02
         ],
         "tick0": 70,
         "tickmode": "linear",
         "title": {
          "text": "src freq"
         }
        },
        "yaxis": {
         "autorange": false,
         "dtick": 10,
         "gridcolor": "green",
         "range": [
          19.33,
          31.67
         ],
         "tick0": 70
        }
       }
      }
     },
     "metadata": {},
     "output_type": "display_data"
    }
   ],
   "source": [
    "from __future__ import annotations\n",
    "import plotly\n",
    "import plotly.graph_objects as go\n",
    "fig = go.Figure(\n",
    "    data= start_frame,\n",
    "    layout=layout_draw,\n",
    "    frames=all_frame\n",
    ")\n",
    "\n",
    "fig.update_layout(legend=dict(orientation = \"h\"))  \n",
    "fig.show()"
   ]
  },
  {
   "cell_type": "code",
   "execution_count": 738,
   "metadata": {},
   "outputs": [],
   "source": [
    "# plot player metric over time\n"
   ]
  },
  {
   "cell_type": "code",
   "execution_count": null,
   "metadata": {},
   "outputs": [],
   "source": []
  },
  {
   "cell_type": "code",
   "execution_count": null,
   "metadata": {},
   "outputs": [],
   "source": []
  },
  {
   "cell_type": "code",
   "execution_count": 747,
   "metadata": {},
   "outputs": [
    {
     "name": "stdout",
     "output_type": "stream",
     "text": [
      "Getting week 1 normalized training data\n"
     ]
    },
    {
     "name": "stderr",
     "output_type": "stream",
     "text": [
      "100%|██████████| 1/1 [00:00<00:00, 968.21it/s]\n"
     ]
    },
    {
     "name": "stdout",
     "output_type": "stream",
     "text": [
      "Getting week 1 normalized training data\n"
     ]
    },
    {
     "name": "stderr",
     "output_type": "stream",
     "text": [
      "100%|██████████| 1/1 [00:00<00:00, 1501.18it/s]\n"
     ]
    },
    {
     "name": "stdout",
     "output_type": "stream",
     "text": [
      "Getting week 1 normalized training data\n"
     ]
    },
    {
     "name": "stderr",
     "output_type": "stream",
     "text": [
      "100%|██████████| 1/1 [00:00<00:00, 1035.12it/s]\n"
     ]
    },
    {
     "name": "stdout",
     "output_type": "stream",
     "text": [
      "Getting week 1 normalized training data\n"
     ]
    },
    {
     "name": "stderr",
     "output_type": "stream",
     "text": [
      "100%|██████████| 1/1 [00:00<00:00, 1485.76it/s]\n"
     ]
    },
    {
     "name": "stdout",
     "output_type": "stream",
     "text": [
      "Getting week 1 normalized training data\n"
     ]
    },
    {
     "name": "stderr",
     "output_type": "stream",
     "text": [
      "100%|██████████| 1/1 [00:00<00:00, 1145.67it/s]\n"
     ]
    },
    {
     "name": "stdout",
     "output_type": "stream",
     "text": [
      "Getting week 1 normalized training data\n"
     ]
    },
    {
     "name": "stderr",
     "output_type": "stream",
     "text": [
      "100%|██████████| 1/1 [00:00<00:00, 1161.54it/s]\n"
     ]
    },
    {
     "name": "stdout",
     "output_type": "stream",
     "text": [
      "Getting week 1 normalized training data\n"
     ]
    },
    {
     "name": "stderr",
     "output_type": "stream",
     "text": [
      "100%|██████████| 1/1 [00:00<00:00, 1129.93it/s]\n"
     ]
    },
    {
     "data": {
      "text/plain": [
       "{'43326': [-0.006088346242904663,\n",
       "  -0.004359155893325806,\n",
       "  -0.0004145503044128418,\n",
       "  -0.000576511025428772,\n",
       "  0.004043415188789368,\n",
       "  -0.0028232336044311523,\n",
       "  -0.008213818073272705,\n",
       "  -0.009313791990280151,\n",
       "  -0.014683842658996582,\n",
       "  -0.017232805490493774,\n",
       "  -0.01882469654083252,\n",
       "  -0.020893782377243042,\n",
       "  -0.018287718296051025,\n",
       "  -0.017757385969161987,\n",
       "  -0.016088247299194336,\n",
       "  -0.016876906156539917,\n",
       "  -0.013585984706878662,\n",
       "  -0.01393955945968628,\n",
       "  -0.013289153575897217,\n",
       "  -0.01349639892578125,\n",
       "  -0.011487603187561035,\n",
       "  -0.009463608264923096,\n",
       "  -0.0013390183448791504,\n",
       "  0.0009668469429016113,\n",
       "  0.004124343395233154,\n",
       "  0.009134531021118164,\n",
       "  0.015918850898742676,\n",
       "  0.025658071041107178,\n",
       "  0.03603053092956543,\n",
       "  0.046986281871795654],\n",
       " '43338': [-0.016980469226837158,\n",
       "  -0.017154276371002197,\n",
       "  -0.016656875610351562,\n",
       "  -0.014622345566749573,\n",
       "  0.002912461757659912,\n",
       "  0.03849563002586365,\n",
       "  0.07848890125751495,\n",
       "  0.12460461258888245,\n",
       "  0.14715087413787842,\n",
       "  0.19052384793758392,\n",
       "  0.20097486674785614,\n",
       "  0.2238396555185318,\n",
       "  0.20679771900177002,\n",
       "  0.21335449814796448,\n",
       "  0.19715386629104614,\n",
       "  0.19355839490890503,\n",
       "  0.1882845163345337,\n",
       "  0.20031672716140747,\n",
       "  0.17079421877861023,\n",
       "  0.17546072602272034,\n",
       "  0.17010042071342468,\n",
       "  0.17877379059791565,\n",
       "  0.1428801417350769,\n",
       "  0.11809638142585754,\n",
       "  0.05798065662384033,\n",
       "  0.033961474895477295,\n",
       "  0.00020450353622436523,\n",
       "  -0.003969669342041016,\n",
       "  0.016231179237365723,\n",
       "  0.029556572437286377],\n",
       " '52546': [-0.0008786916732788086,\n",
       "  0.002474844455718994,\n",
       "  0.00247994065284729,\n",
       "  0.0025869905948638916,\n",
       "  0.0028798729181289673,\n",
       "  -0.0002994835376739502,\n",
       "  -0.0009345710277557373,\n",
       "  -0.0030027925968170166,\n",
       "  -0.006823837757110596,\n",
       "  -0.012538313865661621,\n",
       "  -0.02480366826057434,\n",
       "  -0.0323391854763031,\n",
       "  -0.039593130350112915,\n",
       "  -0.04951786994934082,\n",
       "  -0.0631982684135437,\n",
       "  -0.07615312933921814,\n",
       "  -0.07821989059448242,\n",
       "  -0.08744692802429199,\n",
       "  -0.0929606556892395,\n",
       "  -0.09366154670715332,\n",
       "  -0.09522432088851929,\n",
       "  -0.09532010555267334,\n",
       "  -0.08782327175140381,\n",
       "  -0.08642959594726562,\n",
       "  -0.07956498861312866,\n",
       "  -0.06720656156539917,\n",
       "  -0.041767418384552,\n",
       "  -0.006101489067077637,\n",
       "  0.02035290002822876,\n",
       "  0.04170727729797363],\n",
       " '52585': [-0.003257662057876587,\n",
       "  -0.012553870677947998,\n",
       "  -0.023344308137893677,\n",
       "  -0.029948756098747253,\n",
       "  -0.028010264039039612,\n",
       "  -0.0320647656917572,\n",
       "  -0.02611216902732849,\n",
       "  -0.025039076805114746,\n",
       "  -0.017658710479736328,\n",
       "  -0.023809999227523804,\n",
       "  -0.03176546096801758,\n",
       "  -0.033061206340789795,\n",
       "  -0.03373625874519348,\n",
       "  -0.03950643539428711,\n",
       "  -0.047096192836761475,\n",
       "  -0.054217368364334106,\n",
       "  -0.05251413583755493,\n",
       "  -0.058528244495391846,\n",
       "  -0.06072700023651123,\n",
       "  -0.06501221656799316,\n",
       "  -0.060251832008361816,\n",
       "  -0.06336909532546997,\n",
       "  -0.05861842632293701,\n",
       "  -0.059736788272857666,\n",
       "  -0.056268930435180664,\n",
       "  -0.050340116024017334,\n",
       "  -0.044923245906829834,\n",
       "  -0.03491532802581787,\n",
       "  -0.02685493230819702,\n",
       "  -0.02301400899887085],\n",
       " '52792': [-0.0016055405139923096,\n",
       "  -0.0028310418128967285,\n",
       "  -0.0059555768966674805,\n",
       "  -0.0060701072216033936,\n",
       "  -0.007010802626609802,\n",
       "  -0.011617898941040039,\n",
       "  -0.01261049509048462,\n",
       "  -0.01026850938796997,\n",
       "  -0.012651920318603516,\n",
       "  -0.013883858919143677,\n",
       "  -0.019188344478607178,\n",
       "  -0.020923733711242676,\n",
       "  -0.021447420120239258,\n",
       "  -0.02302563190460205,\n",
       "  -0.027454912662506104,\n",
       "  -0.03500959277153015,\n",
       "  -0.03529548645019531,\n",
       "  -0.044387876987457275,\n",
       "  -0.04951000213623047,\n",
       "  -0.05541086196899414,\n",
       "  -0.05782288312911987,\n",
       "  -0.06239515542984009,\n",
       "  -0.05700945854187012,\n",
       "  -0.05711555480957031,\n",
       "  -0.0544203519821167,\n",
       "  -0.04830574989318848,\n",
       "  -0.045147836208343506,\n",
       "  -0.03977060317993164,\n",
       "  -0.03309541940689087,\n",
       "  -0.02898728847503662],\n",
       " '53487': [-0.0035934150218963623,\n",
       "  -0.009483188390731812,\n",
       "  -0.0248662531375885,\n",
       "  -0.03253863751888275,\n",
       "  -0.03181196749210358,\n",
       "  -0.034899353981018066,\n",
       "  -0.031180351972579956,\n",
       "  -0.028015226125717163,\n",
       "  -0.026293635368347168,\n",
       "  -0.025980323553085327,\n",
       "  -0.03223729133605957,\n",
       "  -0.029799968004226685,\n",
       "  -0.030650556087493896,\n",
       "  -0.031080305576324463,\n",
       "  -0.036929547786712646,\n",
       "  -0.04375317692756653,\n",
       "  -0.03888249397277832,\n",
       "  -0.04490375518798828,\n",
       "  -0.04985541105270386,\n",
       "  -0.05500251054763794,\n",
       "  -0.05763363838195801,\n",
       "  -0.06069701910018921,\n",
       "  -0.054894983768463135,\n",
       "  -0.05191028118133545,\n",
       "  -0.04871654510498047,\n",
       "  -0.043494582176208496,\n",
       "  -0.03955888748168945,\n",
       "  -0.030905723571777344,\n",
       "  -0.026136696338653564,\n",
       "  -0.025467216968536377]}"
      ]
     },
     "execution_count": 747,
     "metadata": {},
     "output_type": "execute_result"
    }
   ],
   "source": [
    "# write function to calculate all player metrics\n",
    "\n",
    "# load_all_player_metrics_by_play(week)\n",
    "\n",
    "all_plays = all_data.play_details_df.playId.unique()\n",
    "get_all_player_metrics_on_play(all_data, play_id = 2021091209198, model = lstm_model) # do for all plays and concat into 1 df\n",
    "\n",
    "\n",
    "\n",
    "\n"
   ]
  },
  {
   "cell_type": "code",
   "execution_count": null,
   "metadata": {},
   "outputs": [],
   "source": []
  },
  {
   "cell_type": "code",
   "execution_count": null,
   "metadata": {},
   "outputs": [],
   "source": []
  },
  {
   "cell_type": "code",
   "execution_count": null,
   "metadata": {},
   "outputs": [],
   "source": []
  },
  {
   "cell_type": "code",
   "execution_count": null,
   "metadata": {},
   "outputs": [],
   "source": [
    "\n"
   ]
  },
  {
   "cell_type": "code",
   "execution_count": null,
   "metadata": {},
   "outputs": [],
   "source": [
    "  "
   ]
  },
  {
   "cell_type": "code",
   "execution_count": null,
   "metadata": {},
   "outputs": [],
   "source": []
  },
  {
   "cell_type": "code",
   "execution_count": null,
   "metadata": {},
   "outputs": [],
   "source": []
  },
  {
   "cell_type": "code",
   "execution_count": null,
   "metadata": {},
   "outputs": [],
   "source": []
  },
  {
   "cell_type": "code",
   "execution_count": 468,
   "metadata": {},
   "outputs": [
    {
     "name": "stdout",
     "output_type": "stream",
     "text": [
      "Percent of player play disruptions: 0.022958343514613237\n",
      "Percent of team play disruptions: 0.37583265163024426\n"
     ]
    }
   ],
   "source": [
    "play_dets = all_data.play_details_df\n",
    "play_dets['disrupt'] = play_dets.pff_hit + play_dets.pff_hurry + play_dets.pff_sack\n",
    "print( f'Percent of player play disruptions: {play_dets.disrupt.sum() / len(play_dets.disrupt)}')\n",
    "team_dets = play_dets.groupby('playId').agg({'disrupt' : [sum]})\n",
    "team_dets.columns = [\"_\".join(x) for x in np.array(team_dets.columns).ravel()]\n",
    "team_dets = team_dets.reset_index()\n",
    "print( f'Percent of team play disruptions: {len(team_dets.loc[team_dets.disrupt_sum > 0]) / len(team_dets)}')"
   ]
  },
  {
   "cell_type": "code",
   "execution_count": null,
   "metadata": {},
   "outputs": [],
   "source": []
  },
  {
   "cell_type": "code",
   "execution_count": null,
   "metadata": {},
   "outputs": [],
   "source": [
    "# sack / hurry / hit are dependent on both pass coverage and lineman and we only care about linemen. \n",
    "# Instead of using sack / hit /hurry, use P(Sack, Hurry, Hit @ time t) given conditions for team\n",
    "# to evaluate players, need some sort of metric for 'contribution to P(Sack, Hurry, Hit @ time t) on play'\n",
    "# to do so try to do  or sommin    [ P(Sack, Hurry, Hit @ time t replacing player with rusher average) / P(Sack, Hurry, Hit @ time t) ] - P(Sack, Hurry, Hit @ time t)\n",
    "\n",
    "\n",
    "\n",
    "\n",
    "# new idea: since there is no team level time of sack\n",
    "# find model that we can track each player prob of hit/hurry/sack \n",
    "# each player route will have a prob of sack at time t. \n",
    "# to compare use average route stats in similar situation: note may have to import more data (ie. play type etc)\n",
    "\n",
    "\n",
    "# also: need to create qb_metric for 'facing rusher' "
   ]
  },
  {
   "cell_type": "code",
   "execution_count": null,
   "metadata": {},
   "outputs": [],
   "source": [
    "\n",
    "\n"
   ]
  },
  {
   "cell_type": "code",
   "execution_count": null,
   "metadata": {},
   "outputs": [],
   "source": []
  },
  {
   "cell_type": "code",
   "execution_count": null,
   "metadata": {},
   "outputs": [],
   "source": [
    "\n"
   ]
  },
  {
   "cell_type": "code",
   "execution_count": null,
   "metadata": {},
   "outputs": [],
   "source": [
    "\n",
    "\n",
    "\n",
    "\n",
    "\n",
    "\n",
    "\n",
    "\n",
    "\n",
    "\n"
   ]
  },
  {
   "cell_type": "code",
   "execution_count": null,
   "metadata": {},
   "outputs": [],
   "source": []
  },
  {
   "cell_type": "code",
   "execution_count": null,
   "metadata": {},
   "outputs": [],
   "source": []
  },
  {
   "cell_type": "code",
   "execution_count": null,
   "metadata": {},
   "outputs": [],
   "source": []
  },
  {
   "cell_type": "code",
   "execution_count": null,
   "metadata": {},
   "outputs": [],
   "source": [
    "import matplotlib.pyplot as plt\n",
    "plot_overall_avgs = all_dist_dfs.query(\"time_after_snap > 0\").groupby(by = ['time_after_snap']).mean().reset_index()\n",
    "\n",
    "plt.title = \"Average Rusher Distance From QB by Seconds After Snap\"\n",
    "plt.xlabel = \"Seconds After Snap\"\n",
    "plt.plot('time_after_snap',  'rusher_distance_from_qb', data = plot_overall_avgs, linestyle='dashed')\n",
    "plt.ylabel = \"Rusher Distance From QB\"\n",
    "plt.show()"
   ]
  },
  {
   "cell_type": "code",
   "execution_count": null,
   "metadata": {},
   "outputs": [],
   "source": []
  },
  {
   "cell_type": "code",
   "execution_count": null,
   "metadata": {},
   "outputs": [],
   "source": []
  },
  {
   "cell_type": "code",
   "execution_count": null,
   "metadata": {},
   "outputs": [],
   "source": [
    "### want to get groups of players with similar starting positions: conlusion: just use number of blockers on play for now, maybe add in weigt of blocker later\n",
    "\n",
    "# this_week_starting_pos = all_data.training_data_individual.get('1')\n",
    "# this_week_starting_pos = this_week_training_individual.loc[this_week_training_individual.time_after_snap == 0, ['playId', 'nflId', 'rusher_distance_from_qb', 'y']]\n",
    "\n",
    "\n",
    "\n",
    "# gmm_train = this_week_starting_pos.drop(['playId', 'nflId'], axis = 1)\n",
    "# gmm = mixture.GaussianMixture(n_components=2).fit(gmm_train)\n",
    "# gmm_labels = gmm.predict(gmm_train).astype(str)\n",
    "\n",
    "# this_week_starting_pos['starting_pos_class'] = gmm_labels\n",
    "# this_week_starting_pos.groupby('starting_pos_class').groups.items()\n",
    "# plot_df = this_week_starting_pos.drop(['playId', 'nflId'], axis = 1).reset_index(drop = 1)\n",
    "# plot_df.starting_pos_class.unique()\n",
    "# plot_df\n",
    "\n",
    "# groups = plot_df.groupby('starting_pos_class')\n",
    "# # Plot\n",
    "# fig, ax = plt.subplots()\n",
    "# ax.margins(0.05) # Optional, just adds 5% padding to the autoscaling\n",
    "# for name, group in groups:\n",
    "#     ax.plot(group.rusher_distance_from_qb, group.y, marker='o', linestyle='', ms=12, label=name)\n",
    "# ax.legend()\n",
    "\n",
    "# plt.show()\n",
    "\n",
    "# ret_df = this_week_starting_pos.loc[:, ['playId', 'nflId', 'starting_pos_class']]\n",
    "# ret_df"
   ]
  },
  {
   "cell_type": "code",
   "execution_count": null,
   "metadata": {},
   "outputs": [],
   "source": []
  }
 ],
 "metadata": {
  "kernelspec": {
   "display_name": "Python 3.9.12",
   "language": "python",
   "name": "python3"
  },
  "language_info": {
   "codemirror_mode": {
    "name": "ipython",
    "version": 3
   },
   "file_extension": ".py",
   "mimetype": "text/x-python",
   "name": "python",
   "nbconvert_exporter": "python",
   "pygments_lexer": "ipython3",
   "version": "3.10.6"
  },
  "orig_nbformat": 4,
  "vscode": {
   "interpreter": {
    "hash": "8b5140b98f9aa636ad904647e184ddf94a8c49b25e448223e4f659e3845abf7f"
   }
  }
 },
 "nbformat": 4,
 "nbformat_minor": 2
}
