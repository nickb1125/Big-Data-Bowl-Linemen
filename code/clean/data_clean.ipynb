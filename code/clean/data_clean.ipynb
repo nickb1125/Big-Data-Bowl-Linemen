{
 "cells": [
  {
   "cell_type": "code",
   "execution_count": 1234,
   "metadata": {},
   "outputs": [],
   "source": [
    "import os\n",
    "\n",
    "proj_dir = '/Users/nickbachelder/Desktop/Kaggle/Linemen'\n",
    "os.chdir( os.path.join(proj_dir, 'code/objects') )\n",
    "\n",
    "%run load_modules.ipynb\n",
    "%run tracking_objects.ipynb"
   ]
  },
  {
   "cell_type": "code",
   "execution_count": 1235,
   "metadata": {},
   "outputs": [
    {
     "name": "stdout",
     "output_type": "stream",
     "text": [
      "Warning: Your Kaggle API key is readable by other users on this system! To fix this, you can run 'chmod 600 /Users/nickbachelder/.kaggle/kaggle.json'\n",
      "Downloading nfl-big-data-bowl-2023.zip to /Users/nickbachelder/Desktop/Kaggle/Linemen/data\n"
     ]
    },
    {
     "name": "stderr",
     "output_type": "stream",
     "text": [
      "100%|██████████| 172M/172M [00:04<00:00, 36.9MB/s] "
     ]
    },
    {
     "name": "stdout",
     "output_type": "stream",
     "text": [
      "\n",
      "Archive:  /Users/nickbachelder/Desktop/Kaggle/Linemen/data/nfl-big-data-bowl-2023.zip\n",
      "  inflating: games.csv               \n",
      "  inflating: pffScoutingData.csv     \n",
      "  inflating: players.csv             \n",
      "  inflating: plays.csv               \n",
      "  inflating: week1.csv               "
     ]
    },
    {
     "name": "stderr",
     "output_type": "stream",
     "text": [
      "\n"
     ]
    },
    {
     "name": "stdout",
     "output_type": "stream",
     "text": [
      "\n",
      "  inflating: week2.csv               \n",
      "  inflating: week3.csv               \n",
      "  inflating: week4.csv               \n",
      "  inflating: week5.csv               \n",
      "  inflating: week6.csv               \n",
      "  inflating: week7.csv               \n",
      "  inflating: week8.csv               \n"
     ]
    }
   ],
   "source": [
    "data_dir = os.path.join(proj_dir, 'data' )\n",
    "os.chdir( proj_dir )\n",
    "os.system(\"rm -rf {}\".format( data_dir ))\n",
    "os.system('mkdir data')\n",
    "os.chdir( data_dir )\n",
    "os.system(\"kaggle competitions download -c nfl-big-data-bowl-2023\")\n",
    "os.system( 'unzip {}.zip'.format( os.path.join(data_dir, 'nfl-big-data-bowl-2023')) )\n",
    "\n",
    "curr_cd = os.getcwd()\n",
    "files = [x for x in os.listdir(curr_cd) if os.path.isfile(os.path.join(curr_cd, x))]\n",
    "\n",
    "player_files = [os.path.join(curr_cd, x) for x in files if x.endswith('players.csv')]\n",
    "player_tracking_files = [os.path.join(curr_cd, x) for x in files if x.startswith('week')]\n",
    "play_details_files = [os.path.join(curr_cd, x) for x in files if x.endswith('ScoutingData.csv')]\n",
    "play_info_files = [os.path.join(curr_cd, x) for x in files if x.endswith('plays.csv')]\n"
   ]
  },
  {
   "cell_type": "code",
   "execution_count": 1236,
   "metadata": {},
   "outputs": [],
   "source": [
    "all_data = master_track(track_paths = player_tracking_files, \n",
    "                            play_info_path = play_info_files[0],\n",
    "                            play_details_path = play_details_files[0],\n",
    "                            players_path = player_files[0])"
   ]
  },
  {
   "cell_type": "code",
   "execution_count": 1237,
   "metadata": {},
   "outputs": [
    {
     "name": "stdout",
     "output_type": "stream",
     "text": [
      "Getting week 1 training data\n"
     ]
    },
    {
     "name": "stderr",
     "output_type": "stream",
     "text": [
      "100%|██████████| 1172/1172 [05:56<00:00,  3.29it/s]\n"
     ]
    },
    {
     "name": "stdout",
     "output_type": "stream",
     "text": [
      "Getting week 2 training data\n"
     ]
    },
    {
     "name": "stderr",
     "output_type": "stream",
     "text": [
      "100%|██████████| 1062/1062 [05:30<00:00,  3.22it/s]\n"
     ]
    },
    {
     "name": "stdout",
     "output_type": "stream",
     "text": [
      "Done\n"
     ]
    }
   ],
   "source": [
    "all_data.load_training_data(week = 3)"
   ]
  },
  {
   "cell_type": "code",
   "execution_count": 1238,
   "metadata": {},
   "outputs": [
    {
     "name": "stdout",
     "output_type": "stream",
     "text": [
      "Getting week 1 average metrics by position and blocker number\n",
      "Getting week 2 average metrics by position and blocker number\n",
      "Done\n"
     ]
    }
   ],
   "source": [
    "all_data.get_averages_up_to_week(week = 3)"
   ]
  },
  {
   "cell_type": "code",
   "execution_count": 1239,
   "metadata": {},
   "outputs": [
    {
     "name": "stdout",
     "output_type": "stream",
     "text": [
      "Getting week 1 normalized training data\n"
     ]
    },
    {
     "name": "stderr",
     "output_type": "stream",
     "text": [
      "100%|██████████| 1172/1172 [00:00<00:00, 3679.83it/s]\n"
     ]
    },
    {
     "name": "stdout",
     "output_type": "stream",
     "text": [
      "Train NA\n",
      "332\n",
      "Test NA\n",
      "104\n",
      "Length train : 936\n",
      "Length test : 234\n"
     ]
    }
   ],
   "source": [
    "# figure out where these issues are coming from later and fix\n",
    "\n",
    "all_dat_labels = all_data.get_rush_sequences_labels(week = 2, normalize = True)\n",
    "\n",
    "training_dat, test_dat = train_test_split(all_dat_labels, test_size = 0.2)\n",
    "\n",
    "# remove nas (fix these nas being created later)\n",
    "bad_indexs = []\n",
    "print('Train NA')\n",
    "for value in range(len(training_dat)):\n",
    "    any_na = training_dat[value][0].isnull().values.any()\n",
    "    if any_na == True:\n",
    "        bad_indexs.append(value)\n",
    "        print(value)\n",
    "\n",
    "for index in sorted(bad_indexs, reverse=True):\n",
    "    del training_dat[index]\n",
    "\n",
    "\n",
    "bad_indexs = []\n",
    "print('Test NA')\n",
    "for value in range(len(test_dat)):\n",
    "    any_na = test_dat[value][0].isnull().values.any()\n",
    "    if any_na == True:\n",
    "        bad_indexs.append(value)\n",
    "        print(value)\n",
    "\n",
    "for index in sorted(bad_indexs, reverse=True):\n",
    "    del test_dat[index]\n",
    "\n",
    "print(f'Length train : {len(training_dat)}')\n",
    "print(f'Length test : {len(test_dat)}')"
   ]
  },
  {
   "cell_type": "code",
   "execution_count": 1240,
   "metadata": {},
   "outputs": [
    {
     "name": "stdout",
     "output_type": "stream",
     "text": [
      "Epoch 0\n",
      "---------\n",
      "Overall Train loss: 0.6643911618739367 , Overall Train AUC: 0.5146218746728843\n",
      "Train loss for period 1: 0.6659588105976582 , Train AUC for period 1: 0.5025840683774034\n",
      "Train loss for period 2: 0.6663312762975693 , Train AUC for period 2: 0.5032979112870553\n",
      "Train loss for period 3: 0.6659957710653543 , Train AUC for period 3: 0.5025506802106774\n",
      "Train loss for period 4: 0.6649791095405817 , Train AUC for period 4: 0.5049557997295754\n",
      "Train loss for period 5: 0.662775244563818 , Train AUC for period 5: 0.5265409566393151\n",
      "Train loss for period 6: 0.6603066809475422 , Train AUC for period 6: 0.5512025109463398\n",
      "Overall test loss: 0.6746905148029327 , Overall test AUC: 0.5784935420084985\n",
      "Test loss for period 1: 20.818779978901148 , Test AUC for period 1: 0.5199809876892296\n",
      "Test loss for period 2: 20.83308705687523 , Test AUC for period 2: 0.5286065164343552\n",
      "Test loss for period 3: 20.681874688714743 , Test AUC for period 3: 0.547627889382652\n",
      "Test loss for period 4: 20.500936679542065 , Test AUC for period 4: 0.5651360654424855\n",
      "Test loss for period 5: 19.926376532763243 , Test AUC for period 5: 0.6074715001641038\n",
      "Test loss for period 6: 19.31856844201684 , Test AUC for period 6: 0.6434590356285078\n",
      "\n",
      "Epoch 1\n",
      "---------\n",
      "Overall Train loss: 0.6587240248918533 , Overall Train AUC: 0.5274723216111363\n",
      "Train loss for period 1: 0.6615968346595764 , Train AUC for period 1: 0.49793335058063193\n",
      "Train loss for period 2: 0.6615507137030363 , Train AUC for period 2: 0.4973536460951953\n",
      "Train loss for period 3: 0.6610301490873098 , Train AUC for period 3: 0.5041499929220992\n",
      "Train loss for period 4: 0.6596043314784765 , Train AUC for period 4: 0.5200802487516047\n",
      "Train loss for period 5: 0.6561627890914679 , Train AUC for period 5: 0.555825502897058\n",
      "Train loss for period 6: 0.6523993480950594 , Train AUC for period 6: 0.5957254360230984\n",
      "Overall test loss: 0.6697950065135956 , Overall test AUC: 0.5875625815137364\n",
      "Test loss for period 1: 20.905256059020758 , Test AUC for period 1: 0.5197304208831692\n",
      "Test loss for period 2: 20.919303707778454 , Test AUC for period 2: 0.5282667082445299\n",
      "Test loss for period 3: 20.767881650477648 , Test AUC for period 3: 0.5472447093679238\n",
      "Test loss for period 4: 20.58577137440443 , Test AUC for period 4: 0.564882411824361\n",
      "Test loss for period 5: 20.009532149881124 , Test AUC for period 5: 0.6073719051337308\n",
      "Test loss for period 6: 19.401476468890905 , Test AUC for period 6: 0.6432954122806551\n",
      "\n",
      "Epoch 2\n",
      "---------\n",
      "Overall Train loss: 0.6562331207096577 , Overall Train AUC: 0.5656406151102606\n",
      "Train loss for period 1: 0.6619729064404964 , Train AUC for period 1: 0.522830379326672\n",
      "Train loss for period 2: 0.6613411344587803 , Train AUC for period 2: 0.5266544959314273\n",
      "Train loss for period 3: 0.6595232542604208 , Train AUC for period 3: 0.5392537451858072\n",
      "Train loss for period 4: 0.6572798695415258 , Train AUC for period 4: 0.5595636108033174\n",
      "Train loss for period 5: 0.6522139422595501 , Train AUC for period 5: 0.6038634599708097\n",
      "Train loss for period 6: 0.6450675614178181 , Train AUC for period 6: 0.6499670511512572\n",
      "Overall test loss: 0.6723485440015793 , Overall test AUC: 0.593370608776137\n",
      "Test loss for period 1: 20.98874369636178 , Test AUC for period 1: 0.5193513776976256\n",
      "Test loss for period 2: 21.003522969782352 , Test AUC for period 2: 0.527829023656565\n",
      "Test loss for period 3: 20.850911777466536 , Test AUC for period 3: 0.5468898808646795\n",
      "Test loss for period 4: 20.667252406477928 , Test AUC for period 4: 0.5646364580363946\n",
      "Test loss for period 5: 20.089266169816256 , Test AUC for period 5: 0.6072140772469353\n",
      "Test loss for period 6: 19.480656523257494 , Test AUC for period 6: 0.6431217521555621\n",
      "\n",
      "Epoch 3\n",
      "---------\n",
      "Overall Train loss: 0.6535658687353134 , Overall Train AUC: 0.5705647758095247\n",
      "Train loss for period 1: 0.6648211367428303 , Train AUC for period 1: 0.5209967636908569\n",
      "Train loss for period 2: 0.6646829675883055 , Train AUC for period 2: 0.5267215651435349\n",
      "Train loss for period 3: 0.6600279398262501 , Train AUC for period 3: 0.5449458418552886\n",
      "Train loss for period 4: 0.6546980664134026 , Train AUC for period 4: 0.5688623128627424\n",
      "Train loss for period 5: 0.6446227505803108 , Train AUC for period 5: 0.610541093316021\n",
      "Train loss for period 6: 0.632542310282588 , Train AUC for period 6: 0.6596272630977775\n",
      "Overall test loss: 0.6665605381131172 , Overall test AUC: 0.6002955109596533\n",
      "Test loss for period 1: 21.07323718443513 , Test AUC for period 1: 0.5190656399899015\n",
      "Test loss for period 2: 21.087778076529503 , Test AUC for period 2: 0.5275068256968861\n",
      "Test loss for period 3: 20.934987794607878 , Test AUC for period 3: 0.5465408094777742\n",
      "Test loss for period 4: 20.75071582943201 , Test AUC for period 4: 0.5643314840015352\n",
      "Test loss for period 5: 20.169438246637583 , Test AUC for period 5: 0.6071867291457564\n",
      "Test loss for period 6: 19.558865878731012 , Test AUC for period 6: 0.643191445865481\n",
      "\n",
      "Epoch 4\n",
      "---------\n",
      "Overall Train loss: 0.651720630005002 , Overall Train AUC: 0.5751650045802967\n",
      "Train loss for period 1: 0.6598365139216185 , Train AUC for period 1: 0.5251622791816971\n",
      "Train loss for period 2: 0.6595327155664563 , Train AUC for period 2: 0.530222636591283\n",
      "Train loss for period 3: 0.6569832870736718 , Train AUC for period 3: 0.5464951699428399\n",
      "Train loss for period 4: 0.6533930022269487 , Train AUC for period 4: 0.5708411963116814\n",
      "Train loss for period 5: 0.6452046856284142 , Train AUC for period 5: 0.6168450134968246\n",
      "Train loss for period 6: 0.6353736463934183 , Train AUC for period 6: 0.67282076314415\n",
      "Overall test loss: 0.6659018099308014 , Overall test AUC: 0.6031304640498127\n",
      "Test loss for period 1: 21.156583931297064 , Test AUC for period 1: 0.518729542887953\n",
      "Test loss for period 2: 21.172041229903698 , Test AUC for period 2: 0.5272038214457901\n",
      "Test loss for period 3: 21.018671836704016 , Test AUC for period 3: 0.546317139083298\n",
      "Test loss for period 4: 20.833273738622665 , Test AUC for period 4: 0.5642145206626155\n",
      "Test loss for period 5: 20.24908833578229 , Test AUC for period 5: 0.6072779779038533\n",
      "Test loss for period 6: 19.639472391456366 , Test AUC for period 6: 0.6431021208111241\n",
      "\n",
      "Epoch 5\n",
      "---------\n",
      "Overall Train loss: 0.6442698063328862 , Overall Train AUC: 0.5890060349274068\n",
      "Train loss for period 1: 0.6544910660013556 , Train AUC for period 1: 0.5370855644992019\n",
      "Train loss for period 2: 0.6537944823503494 , Train AUC for period 2: 0.5407496717318403\n",
      "Train loss for period 3: 0.650844644755125 , Train AUC for period 3: 0.5562925467263489\n",
      "Train loss for period 4: 0.6468924088403583 , Train AUC for period 4: 0.5819772238032246\n",
      "Train loss for period 5: 0.6363957207649946 , Train AUC for period 5: 0.6348896579665435\n",
      "Train loss for period 6: 0.6232004575431347 , Train AUC for period 6: 0.702384520386795\n",
      "Overall test loss: 0.6686494499444962 , Overall test AUC: 0.6084096091547815\n",
      "Test loss for period 1: 21.226344253867865 , Test AUC for period 1: 0.5190849832360551\n",
      "Test loss for period 2: 21.24371949583292 , Test AUC for period 2: 0.5274660386778673\n",
      "Test loss for period 3: 21.091993127018213 , Test AUC for period 3: 0.5464565057941297\n",
      "Test loss for period 4: 20.90760313719511 , Test AUC for period 4: 0.5642543974043237\n",
      "Test loss for period 5: 20.32312450185418 , Test AUC for period 5: 0.607268784124903\n",
      "Test loss for period 6: 19.711341854184866 , Test AUC for period 6: 0.6431919781637057\n",
      "\n",
      "Epoch 6\n",
      "---------\n",
      "Overall Train loss: 0.6618216000497341 , Overall Train AUC: 0.556796813263281\n",
      "Train loss for period 1: 0.6733980514109135 , Train AUC for period 1: 0.5132060938285586\n",
      "Train loss for period 2: 0.6721592433750629 , Train AUC for period 2: 0.5178799490391139\n",
      "Train loss for period 3: 0.6683225128799677 , Train AUC for period 3: 0.529249596071521\n",
      "Train loss for period 4: 0.6637582425028086 , Train AUC for period 4: 0.5489952797723356\n",
      "Train loss for period 5: 0.6534700561314821 , Train AUC for period 5: 0.5907542113510005\n",
      "Train loss for period 6: 0.6398215927183628 , Train AUC for period 6: 0.6442340490962253\n",
      "Overall test loss: 0.664234921336174 , Overall test AUC: 0.6117682695948504\n",
      "Test loss for period 1: 21.309955541044474 , Test AUC for period 1: 0.5188983835500174\n",
      "Test loss for period 2: 21.326866775751114 , Test AUC for period 2: 0.5272537107943367\n",
      "Test loss for period 3: 21.17526951804757 , Test AUC for period 3: 0.5461830899656649\n",
      "Test loss for period 4: 20.989486277103424 , Test AUC for period 4: 0.5640940341164822\n",
      "Test loss for period 5: 20.402042288333178 , Test AUC for period 5: 0.6073476380155087\n",
      "Test loss for period 6: 19.790142443031073 , Test AUC for period 6: 0.6432438145390481\n",
      "\n",
      "Epoch 7\n",
      "---------\n",
      "Overall Train loss: 0.6440588384866714 , Overall Train AUC: 0.6039226865433648\n",
      "Train loss for period 1: 0.6570403594523668 , Train AUC for period 1: 0.5385987708859091\n",
      "Train loss for period 2: 0.6549776867032051 , Train AUC for period 2: 0.5442617749422785\n",
      "Train loss for period 3: 0.6514234784990549 , Train AUC for period 3: 0.5711649248522184\n",
      "Train loss for period 4: 0.6453536339104176 , Train AUC for period 4: 0.6030605819498884\n",
      "Train loss for period 5: 0.6339278612285852 , Train AUC for period 5: 0.6611835226468421\n",
      "Train loss for period 6: 0.6216300074011087 , Train AUC for period 6: 0.7319884996314611\n",
      "Overall test loss: 0.6623823642730713 , Overall test AUC: 0.6111456939711388\n",
      "Test loss for period 1: 21.388512644916773 , Test AUC for period 1: 0.5188137467649422\n",
      "Test loss for period 2: 21.407633438706398 , Test AUC for period 2: 0.5270686417401057\n",
      "Test loss for period 3: 21.255648281425238 , Test AUC for period 3: 0.5460591370724738\n",
      "Test loss for period 4: 21.06779306381941 , Test AUC for period 4: 0.564182784049829\n",
      "Test loss for period 5: 20.478760864585638 , Test AUC for period 5: 0.6074583541637755\n",
      "Test loss for period 6: 19.866790037602186 , Test AUC for period 6: 0.6432881247474034\n",
      "\n",
      "Epoch 8\n",
      "---------\n",
      "Overall Train loss: 0.648690577596426 , Overall Train AUC: 0.5986291434872193\n",
      "Train loss for period 1: 0.6698001231998205 , Train AUC for period 1: 0.5391597311373942\n",
      "Train loss for period 2: 0.6641254592686892 , Train AUC for period 2: 0.5446575516320663\n",
      "Train loss for period 3: 0.6575964689254761 , Train AUC for period 3: 0.5635822964615378\n",
      "Train loss for period 4: 0.6510565988719463 , Train AUC for period 4: 0.5916127363164652\n",
      "Train loss for period 5: 0.6351069044321775 , Train AUC for period 5: 0.6515126694425055\n",
      "Train loss for period 6: 0.6144579071551561 , Train AUC for period 6: 0.7256220010446005\n",
      "Overall test loss: 0.6668893918395042 , Overall test AUC: 0.6176643947999495\n",
      "Test loss for period 1: 21.474927980452776 , Test AUC for period 1: 0.5186265199082646\n",
      "Test loss for period 2: 21.49128121882677 , Test AUC for period 2: 0.5270702433605864\n",
      "Test loss for period 3: 21.336935747414827 , Test AUC for period 3: 0.5462181689024717\n",
      "Test loss for period 4: 21.14718236029148 , Test AUC for period 4: 0.5644464314306092\n",
      "Test loss for period 5: 20.55657823011279 , Test AUC for period 5: 0.6076886026968683\n",
      "Test loss for period 6: 19.94240964576602 , Test AUC for period 6: 0.6436021933554721\n",
      "\n",
      "Epoch 9\n",
      "---------\n",
      "Overall Train loss: 0.6449633315205574 , Overall Train AUC: 0.6046689793233093\n",
      "Train loss for period 1: 0.6674197800457478 , Train AUC for period 1: 0.5394264459663287\n",
      "Train loss for period 2: 0.6616838444024324 , Train AUC for period 2: 0.547493983784285\n",
      "Train loss for period 3: 0.6573666706681252 , Train AUC for period 3: 0.5712159833644923\n",
      "Train loss for period 4: 0.6498908959329128 , Train AUC for period 4: 0.5983694468986591\n",
      "Train loss for period 5: 0.6298382189124823 , Train AUC for period 5: 0.6514404260408175\n",
      "Train loss for period 6: 0.6035805884748697 , Train AUC for period 6: 0.7277169620673328\n",
      "Overall test loss: 0.6576981246471405 , Overall test AUC: 0.6236343136017501\n",
      "Test loss for period 1: 21.561816308647394 , Test AUC for period 1: 0.51832475395782\n",
      "Test loss for period 2: 21.576319456100464 , Test AUC for period 2: 0.5268892989796641\n",
      "Test loss for period 3: 21.42136413231492 , Test AUC for period 3: 0.5460384238479808\n",
      "Test loss for period 4: 21.232450008392334 , Test AUC for period 4: 0.564186412891304\n",
      "Test loss for period 5: 20.63447479531169 , Test AUC for period 5: 0.6079732457538258\n",
      "Test loss for period 6: 20.01552039012313 , Test AUC for period 6: 0.6441979195444356\n",
      "\n",
      "Epoch 10\n",
      "---------\n",
      "Overall Train loss: 0.6404489241540432 , Overall Train AUC: 0.6098013577637522\n",
      "Train loss for period 1: 0.6551202898845077 , Train AUC for period 1: 0.5423114959753591\n",
      "Train loss for period 2: 0.654668752104044 , Train AUC for period 2: 0.5488574315518175\n",
      "Train loss for period 3: 0.6515023279935122 , Train AUC for period 3: 0.5686754562805387\n",
      "Train loss for period 4: 0.6450054664164782 , Train AUC for period 4: 0.5979355959836573\n",
      "Train loss for period 5: 0.6289948020130396 , Train AUC for period 5: 0.6571825073341697\n",
      "Train loss for period 6: 0.607401960529387 , Train AUC for period 6: 0.7342762724357255\n",
      "Overall test loss: 0.6650311723351479 , Overall test AUC: 0.6281134250494341\n",
      "Test loss for period 1: 21.661478143185377 , Test AUC for period 1: 0.5174823650351918\n",
      "Test loss for period 2: 21.671131283044815 , Test AUC for period 2: 0.5261549751503769\n",
      "Test loss for period 3: 21.513677943497896 , Test AUC for period 3: 0.5454306371050267\n",
      "Test loss for period 4: 21.32184524834156 , Test AUC for period 4: 0.5638268536602107\n",
      "Test loss for period 5: 20.718599762767553 , Test AUC for period 5: 0.6079355703713872\n",
      "Test loss for period 6: 20.09488643333316 , Test AUC for period 6: 0.6444037884365796\n",
      "\n",
      "Epoch 11\n",
      "---------\n",
      "Overall Train loss: 0.6435474846512079 , Overall Train AUC: 0.6094970622643751\n",
      "Train loss for period 1: 0.6690532770007849 , Train AUC for period 1: 0.5428763612755841\n",
      "Train loss for period 2: 0.6627214774489403 , Train AUC for period 2: 0.5501840742349765\n",
      "Train loss for period 3: 0.6559656653553247 , Train AUC for period 3: 0.5752314473575023\n",
      "Train loss for period 4: 0.6475136782974005 , Train AUC for period 4: 0.6041730327096644\n",
      "Train loss for period 5: 0.6273008976131678 , Train AUC for period 5: 0.6573493505415814\n",
      "Train loss for period 6: 0.5987299345433712 , Train AUC for period 6: 0.7344437990266667\n",
      "Overall test loss: 0.6547442823648453 , Overall test AUC: 0.6306442004291304\n",
      "Test loss for period 1: 21.76055458560586 , Test AUC for period 1: 0.5166738055893674\n",
      "Test loss for period 2: 21.763185687363148 , Test AUC for period 2: 0.5257354749134232\n",
      "Test loss for period 3: 21.60305756703019 , Test AUC for period 3: 0.545187539141482\n",
      "Test loss for period 4: 21.407691217958927 , Test AUC for period 4: 0.5638619008723684\n",
      "Test loss for period 5: 20.794890101999044 , Test AUC for period 5: 0.6086640890716257\n",
      "Test loss for period 6: 20.16844344511628 , Test AUC for period 6: 0.6451593026275511\n",
      "\n",
      "Epoch 12\n",
      "---------\n",
      "Overall Train loss: 0.6483202930539846 , Overall Train AUC: 0.6117775510680037\n",
      "Train loss for period 1: 0.6747382543981075 , Train AUC for period 1: 0.54492885489327\n",
      "Train loss for period 2: 0.6663921307772398 , Train AUC for period 2: 0.5492069334140377\n",
      "Train loss for period 3: 0.6619703434407711 , Train AUC for period 3: 0.5697571547814881\n",
      "Train loss for period 4: 0.6547801736742258 , Train AUC for period 4: 0.5976700526693448\n",
      "Train loss for period 5: 0.6329239495098591 , Train AUC for period 5: 0.6560999301972538\n",
      "Train loss for period 6: 0.5991169847548008 , Train AUC for period 6: 0.7377449319789323\n",
      "Overall test loss: 0.6536116227507591 , Overall test AUC: 0.6345449114392697\n",
      "Test loss for period 1: 21.833480071276426 , Test AUC for period 1: 0.5169483239653172\n",
      "Test loss for period 2: 21.840109907090664 , Test AUC for period 2: 0.5258183580064616\n",
      "Test loss for period 3: 21.681635405868292 , Test AUC for period 3: 0.545194355228675\n",
      "Test loss for period 4: 21.484827540814877 , Test AUC for period 4: 0.5640257613957033\n",
      "Test loss for period 5: 20.869128417223692 , Test AUC for period 5: 0.6089612517410405\n",
      "Test loss for period 6: 20.242201436311007 , Test AUC for period 6: 0.6453935753308878\n",
      "\n",
      "Epoch 13\n",
      "---------\n",
      "Overall Train loss: 0.6519203837960958 , Overall Train AUC: 0.5795416855817466\n",
      "Train loss for period 1: 0.6689262762665749 , Train AUC for period 1: 0.5159528074859784\n",
      "Train loss for period 2: 0.6675751097500324 , Train AUC for period 2: 0.5230685872998052\n",
      "Train loss for period 3: 0.6643831878900528 , Train AUC for period 3: 0.5403049843065855\n",
      "Train loss for period 4: 0.6568436082452536 , Train AUC for period 4: 0.5669090074830496\n",
      "Train loss for period 5: 0.6388575900346041 , Train AUC for period 5: 0.6244085071486799\n",
      "Train loss for period 6: 0.6149364877492189 , Train AUC for period 6: 0.6930868922157735\n",
      "Overall test loss: 0.6532739847898483 , Overall test AUC: 0.6312553325760444\n",
      "Test loss for period 1: 21.928601380437613 , Test AUC for period 1: 0.5160269736804466\n",
      "Test loss for period 2: 21.934982411563396 , Test AUC for period 2: 0.5249182970575728\n",
      "Test loss for period 3: 21.77651071920991 , Test AUC for period 3: 0.5442723990823152\n",
      "Test loss for period 4: 21.574876070022583 , Test AUC for period 4: 0.5635788985874289\n",
      "Test loss for period 5: 20.9527304507792 , Test AUC for period 5: 0.6088896432433257\n",
      "Test loss for period 6: 20.32286835834384 , Test AUC for period 6: 0.6454581616170477\n",
      "\n",
      "Epoch 14\n",
      "---------\n",
      "Overall Train loss: 0.6465135719627142 , Overall Train AUC: 0.6113950217136981\n",
      "Train loss for period 1: 0.6691030003130436 , Train AUC for period 1: 0.540991296622621\n",
      "Train loss for period 2: 0.6633827053010464 , Train AUC for period 2: 0.5492206987108457\n",
      "Train loss for period 3: 0.6577956601977348 , Train AUC for period 3: 0.5726150647017763\n",
      "Train loss for period 4: 0.6511088870465755 , Train AUC for period 4: 0.5999939471744533\n",
      "Train loss for period 5: 0.6324599049985409 , Train AUC for period 5: 0.6593577171085067\n",
      "Train loss for period 6: 0.6052313186228275 , Train AUC for period 6: 0.7351084383221957\n",
      "Overall test loss: 0.6486164405941963 , Overall test AUC: 0.635870966384787\n",
      "Test loss for period 1: 22.00951488688588 , Test AUC for period 1: 0.5161535763363422\n",
      "Test loss for period 2: 22.011461183428764 , Test AUC for period 2: 0.5254040053225053\n",
      "Test loss for period 3: 21.851988580077887 , Test AUC for period 3: 0.5447927635892166\n",
      "Test loss for period 4: 21.649879403412342 , Test AUC for period 4: 0.5640449336083263\n",
      "Test loss for period 5: 21.026702385395765 , Test AUC for period 5: 0.6093104799485358\n",
      "Test loss for period 6: 20.39922931417823 , Test AUC for period 6: 0.6456616876658846\n",
      "\n",
      "Epoch 15\n",
      "---------\n",
      "Overall Train loss: 0.6573359034955502 , Overall Train AUC: 0.5737117461154256\n",
      "Train loss for period 1: 0.6660373583436012 , Train AUC for period 1: 0.505356848235162\n",
      "Train loss for period 2: 0.6676704082638025 , Train AUC for period 2: 0.5164676881623329\n",
      "Train loss for period 3: 0.6668380927294493 , Train AUC for period 3: 0.5340566134441066\n",
      "Train loss for period 4: 0.6623481679707766 , Train AUC for period 4: 0.5608202554878138\n",
      "Train loss for period 5: 0.6494666263461113 , Train AUC for period 5: 0.6161022732264977\n",
      "Train loss for period 6: 0.6316547710448503 , Train AUC for period 6: 0.6777265782498547\n",
      "Overall test loss: 0.6562805324792862 , Overall test AUC: 0.6375176490386637\n",
      "Test loss for period 1: 22.096332635730505 , Test AUC for period 1: 0.5158938599491236\n",
      "Test loss for period 2: 22.095387995243073 , Test AUC for period 2: 0.5253412853505615\n",
      "Test loss for period 3: 21.934256833046675 , Test AUC for period 3: 0.5448280225433091\n",
      "Test loss for period 4: 21.731152944266796 , Test AUC for period 4: 0.5641176246689596\n",
      "Test loss for period 5: 21.10561276599765 , Test AUC for period 5: 0.6094720318065652\n",
      "Test loss for period 6: 20.473995458334684 , Test AUC for period 6: 0.6460268305865642\n",
      "\n",
      "Epoch 16\n",
      "---------\n",
      "Overall Train loss: 0.6390356626361609 , Overall Train AUC: 0.609954907534412\n",
      "Train loss for period 1: 0.6614227183163166 , Train AUC for period 1: 0.5343084890878294\n",
      "Train loss for period 2: 0.6562731098383665 , Train AUC for period 2: 0.5381868858700692\n",
      "Train loss for period 3: 0.6530990414321423 , Train AUC for period 3: 0.56420905678429\n",
      "Train loss for period 4: 0.6452706437557936 , Train AUC for period 4: 0.6016108326052044\n",
      "Train loss for period 5: 0.6240825410932302 , Train AUC for period 5: 0.6692205034584089\n",
      "Train loss for period 6: 0.5940658850595355 , Train AUC for period 6: 0.7546225526327351\n",
      "Overall test loss: 0.6556093245744705 , Overall test AUC: 0.6400953342589086\n",
      "Test loss for period 1: 22.18532943353057 , Test AUC for period 1: 0.5155253067602716\n",
      "Test loss for period 2: 22.180231913924217 , Test AUC for period 2: 0.5252552088158644\n",
      "Test loss for period 3: 22.017420951277018 , Test AUC for period 3: 0.5448656031881404\n",
      "Test loss for period 4: 21.81074507534504 , Test AUC for period 4: 0.5644248267646605\n",
      "Test loss for period 5: 21.1784277446568 , Test AUC for period 5: 0.610072471901359\n",
      "Test loss for period 6: 20.544003453105688 , Test AUC for period 6: 0.6466935871739187\n",
      "\n",
      "Epoch 17\n",
      "---------\n",
      "Overall Train loss: 0.6335534658282995 , Overall Train AUC: 0.6271593997506192\n",
      "Train loss for period 1: 0.6621921621263027 , Train AUC for period 1: 0.5582249600952831\n",
      "Train loss for period 2: 0.6562972627580166 , Train AUC for period 2: 0.5615856450408322\n",
      "Train loss for period 3: 0.6496962178498507 , Train AUC for period 3: 0.5848520230593128\n",
      "Train loss for period 4: 0.6383193358778954 , Train AUC for period 4: 0.6147696753440104\n",
      "Train loss for period 5: 0.613736535422504 , Train AUC for period 5: 0.6784867936132928\n",
      "Train loss for period 6: 0.5810793172568083 , Train AUC for period 6: 0.7626976076695158\n",
      "Overall test loss: 0.6479495391249657 , Overall test AUC: 0.6442061929403845\n",
      "Test loss for period 1: 22.263980071991682 , Test AUC for period 1: 0.5154809195393777\n",
      "Test loss for period 2: 22.265960417687893 , Test AUC for period 2: 0.5249593721213425\n",
      "Test loss for period 3: 22.10749637708068 , Test AUC for period 3: 0.5443633970985912\n",
      "Test loss for period 4: 21.898840509355068 , Test AUC for period 4: 0.5639734695504058\n",
      "Test loss for period 5: 21.264831352978945 , Test AUC for period 5: 0.6096352387536583\n",
      "Test loss for period 6: 20.62382723018527 , Test AUC for period 6: 0.646571689115176\n",
      "\n",
      "Epoch 18\n",
      "---------\n",
      "Overall Train loss: 0.6410311069339514 , Overall Train AUC: 0.6082428338287864\n",
      "Train loss for period 1: 0.6761350147426128 , Train AUC for period 1: 0.5200638475468972\n",
      "Train loss for period 2: 0.6649052985012531 , Train AUC for period 2: 0.533511468640018\n",
      "Train loss for period 3: 0.6595544554293156 , Train AUC for period 3: 0.5599140889277224\n",
      "Train loss for period 4: 0.647758312523365 , Train AUC for period 4: 0.593139610373762\n",
      "Train loss for period 5: 0.6200652439147234 , Train AUC for period 5: 0.6557186021878036\n",
      "Train loss for period 6: 0.5777683202177286 , Train AUC for period 6: 0.7453736399447435\n",
      "Overall test loss: 0.6457297801971436 , Overall test AUC: 0.6442428373091001\n",
      "Test loss for period 1: 22.35700110718608 , Test AUC for period 1: 0.5153075047970683\n",
      "Test loss for period 2: 22.355408243834972 , Test AUC for period 2: 0.5250600637009855\n",
      "Test loss for period 3: 22.19419426843524 , Test AUC for period 3: 0.544575710369346\n",
      "Test loss for period 4: 21.97957683354616 , Test AUC for period 4: 0.5645362781774607\n",
      "Test loss for period 5: 21.333755534142256 , Test AUC for period 5: 0.6109166021371655\n",
      "Test loss for period 6: 20.688310276716948 , Test AUC for period 6: 0.6478163060508948\n",
      "\n",
      "Epoch 19\n",
      "---------\n",
      "Overall Train loss: 0.6369650643318892 , Overall Train AUC: 0.6288278209773794\n",
      "Train loss for period 1: 0.660680927336216 , Train AUC for period 1: 0.5596223817868526\n",
      "Train loss for period 2: 0.6581032872200012 , Train AUC for period 2: 0.5696335599888707\n",
      "Train loss for period 3: 0.6534225381910801 , Train AUC for period 3: 0.592325407711495\n",
      "Train loss for period 4: 0.6430048830807209 , Train AUC for period 4: 0.6235964522632198\n",
      "Train loss for period 5: 0.6205093767493963 , Train AUC for period 5: 0.6742996051019463\n",
      "Train loss for period 6: 0.5860693082213402 , Train AUC for period 6: 0.7400262614527757\n",
      "Overall test loss: 0.6543817892670631 , Overall test AUC: 0.6521959695401573\n",
      "Test loss for period 1: 22.43111876770854 , Test AUC for period 1: 0.5157210962125371\n",
      "Test loss for period 2: 22.42875687032938 , Test AUC for period 2: 0.525485079930185\n",
      "Test loss for period 3: 22.268641021102667 , Test AUC for period 3: 0.5448634575481986\n",
      "Test loss for period 4: 22.052368849515915 , Test AUC for period 4: 0.5649299494218201\n",
      "Test loss for period 5: 21.395991273224354 , Test AUC for period 5: 0.611808731687195\n",
      "Test loss for period 6: 20.744496785104275 , Test AUC for period 6: 0.6489204264161105\n",
      "\n"
     ]
    }
   ],
   "source": [
    "# model building\n",
    "\n",
    "model = SequenceModel(n_features = training_dat[0][0].shape[1], n_classes = 2, n_hidden = 15, n_layers = 1)\n",
    "loss_function = torch.nn.CrossEntropyLoss()\n",
    "optimizer = torch.optim.Adam(model.parameters(), lr= 0.01)\n",
    "train_dataset = RushDataset(sequences = training_dat, sequence_length=30)\n",
    "train_loader = DataLoader(train_dataset, batch_size = 30, shuffle = True)\n",
    "test_dataset = RushDataset(sequences = test_dat, sequence_length=30)\n",
    "test_loader = DataLoader(test_dataset, batch_size = 30, shuffle = True)\n",
    "\n",
    "lstm_model = train_rush_lstm(train_loader, test_loader, model, loss_function, optimizer, num_epochs = 20)"
   ]
  },
  {
   "cell_type": "code",
   "execution_count": 1305,
   "metadata": {},
   "outputs": [
    {
     "data": {
      "text/plain": [
       "2.7"
      ]
     },
     "execution_count": 1305,
     "metadata": {},
     "output_type": "execute_result"
    }
   ],
   "source": []
  },
  {
   "cell_type": "code",
   "execution_count": 1316,
   "metadata": {},
   "outputs": [
    {
     "name": "stdout",
     "output_type": "stream",
     "text": [
      "Getting week 1 normalized training data\n"
     ]
    },
    {
     "name": "stderr",
     "output_type": "stream",
     "text": [
      "100%|██████████| 1/1 [00:00<00:00, 654.85it/s]"
     ]
    },
    {
     "name": "stdout",
     "output_type": "stream",
     "text": [
      "Getting week 1 normalized training data\n"
     ]
    },
    {
     "name": "stderr",
     "output_type": "stream",
     "text": [
      "\n",
      "100%|██████████| 1/1 [00:00<00:00, 1141.31it/s]\n"
     ]
    },
    {
     "name": "stdout",
     "output_type": "stream",
     "text": [
      "Getting week 1 normalized training data\n"
     ]
    },
    {
     "name": "stderr",
     "output_type": "stream",
     "text": [
      "100%|██████████| 1/1 [00:00<00:00, 1572.08it/s]\n"
     ]
    },
    {
     "name": "stdout",
     "output_type": "stream",
     "text": [
      "Getting week 1 normalized training data\n"
     ]
    },
    {
     "name": "stderr",
     "output_type": "stream",
     "text": [
      "100%|██████████| 1/1 [00:00<00:00, 1193.60it/s]\n"
     ]
    },
    {
     "name": "stdout",
     "output_type": "stream",
     "text": [
      "Getting week 1 normalized training data\n"
     ]
    },
    {
     "name": "stderr",
     "output_type": "stream",
     "text": [
      "100%|██████████| 1/1 [00:00<00:00, 1194.96it/s]\n"
     ]
    },
    {
     "data": {
      "text/html": [
       "<div>\n",
       "<style scoped>\n",
       "    .dataframe tbody tr th:only-of-type {\n",
       "        vertical-align: middle;\n",
       "    }\n",
       "\n",
       "    .dataframe tbody tr th {\n",
       "        vertical-align: top;\n",
       "    }\n",
       "\n",
       "    .dataframe thead th {\n",
       "        text-align: right;\n",
       "    }\n",
       "</style>\n",
       "<table border=\"1\" class=\"dataframe\">\n",
       "  <thead>\n",
       "    <tr style=\"text-align: right;\">\n",
       "      <th></th>\n",
       "      <th>nflId</th>\n",
       "      <th>rusher_metric</th>\n",
       "      <th>time_after_snap</th>\n",
       "    </tr>\n",
       "  </thead>\n",
       "  <tbody>\n",
       "    <tr>\n",
       "      <th>0</th>\n",
       "      <td>35441</td>\n",
       "      <td>-0.003379</td>\n",
       "      <td>0.0</td>\n",
       "    </tr>\n",
       "    <tr>\n",
       "      <th>1</th>\n",
       "      <td>35441</td>\n",
       "      <td>0.003668</td>\n",
       "      <td>0.1</td>\n",
       "    </tr>\n",
       "    <tr>\n",
       "      <th>2</th>\n",
       "      <td>35441</td>\n",
       "      <td>0.012781</td>\n",
       "      <td>0.2</td>\n",
       "    </tr>\n",
       "    <tr>\n",
       "      <th>3</th>\n",
       "      <td>35441</td>\n",
       "      <td>0.040511</td>\n",
       "      <td>0.3</td>\n",
       "    </tr>\n",
       "    <tr>\n",
       "      <th>4</th>\n",
       "      <td>35441</td>\n",
       "      <td>0.065495</td>\n",
       "      <td>0.4</td>\n",
       "    </tr>\n",
       "    <tr>\n",
       "      <th>...</th>\n",
       "      <td>...</td>\n",
       "      <td>...</td>\n",
       "      <td>...</td>\n",
       "    </tr>\n",
       "    <tr>\n",
       "      <th>25</th>\n",
       "      <td>53461</td>\n",
       "      <td>-0.005972</td>\n",
       "      <td>2.5</td>\n",
       "    </tr>\n",
       "    <tr>\n",
       "      <th>26</th>\n",
       "      <td>53461</td>\n",
       "      <td>-0.005373</td>\n",
       "      <td>2.6</td>\n",
       "    </tr>\n",
       "    <tr>\n",
       "      <th>27</th>\n",
       "      <td>53461</td>\n",
       "      <td>-0.005963</td>\n",
       "      <td>2.7</td>\n",
       "    </tr>\n",
       "    <tr>\n",
       "      <th>28</th>\n",
       "      <td>53461</td>\n",
       "      <td>-0.006009</td>\n",
       "      <td>2.8</td>\n",
       "    </tr>\n",
       "    <tr>\n",
       "      <th>29</th>\n",
       "      <td>53461</td>\n",
       "      <td>-0.006207</td>\n",
       "      <td>2.9</td>\n",
       "    </tr>\n",
       "  </tbody>\n",
       "</table>\n",
       "<p>120 rows × 3 columns</p>\n",
       "</div>"
      ],
      "text/plain": [
       "    nflId  rusher_metric  time_after_snap\n",
       "0   35441      -0.003379              0.0\n",
       "1   35441       0.003668              0.1\n",
       "2   35441       0.012781              0.2\n",
       "3   35441       0.040511              0.3\n",
       "4   35441       0.065495              0.4\n",
       "..    ...            ...              ...\n",
       "25  53461      -0.005972              2.5\n",
       "26  53461      -0.005373              2.6\n",
       "27  53461      -0.005963              2.7\n",
       "28  53461      -0.006009              2.8\n",
       "29  53461      -0.006207              2.9\n",
       "\n",
       "[120 rows x 3 columns]"
      ]
     },
     "execution_count": 1316,
     "metadata": {},
     "output_type": "execute_result"
    }
   ],
   "source": [
    "\n",
    "# print(np.array(original_prob))\n",
    "# np.array(original_prob) - np.array(replace_player_prob)\n",
    "play_id = 20210909002279\n",
    "\n",
    "\n",
    "def get_all_player_metrics_on_play(master_track, play_id, model):\n",
    "    max_time_after = max(all_data.search_track_weeks(variables = [\"playId\"], variable_values = [play_id]).time_after_snap.values)\n",
    "    max_frame = int(max_time_after * 10)\n",
    "    original_prob = predict_play(master_track = all_data, play_id = play_id, model = lstm_model, normalize = True, replace_player = None)\n",
    "    all_plays = all_data.play_details_df\n",
    "    play_rushers = all_plays.loc[(all_plays.pff_role == 'Pass Rush') & (all_plays.playId == play_id)].nflId.tolist()\n",
    "    rusher_metrics = {str(player_id) : (np.array(original_prob) - np.array(predict_play(master_track, play_id, model, normalize = True, replace_player = player_id))).tolist()[0:(max_frame + 1)] for player_id in play_rushers}\n",
    "    return rusher_metrics\n",
    "\n",
    "\n",
    "\n",
    "this = get_all_player_metrics_on_play(master_track = all_data, play_id = 20210909002279, model = lstm_model)\n",
    "player_metrics = []\n",
    "for player_id in this.keys():\n",
    "    metrics = this.get(player_id)\n",
    "    player_id = int(player_id)\n",
    "    metrics_df = pd.DataFrame({'nflId': player_id, 'rusher_metric' : metrics, 'time_after_snap' : np.array(range(0, len(metrics))) / 10})\n",
    "    player_metrics.append(metrics_df)\n",
    "player_metrics_df = pd.concat(player_metrics)\n",
    "player_metrics_df"
   ]
  },
  {
   "cell_type": "code",
   "execution_count": null,
   "metadata": {},
   "outputs": [],
   "source": []
  },
  {
   "cell_type": "code",
   "execution_count": 1346,
   "metadata": {},
   "outputs": [
    {
     "name": "stdout",
     "output_type": "stream",
     "text": [
      "Getting week 1 normalized training data\n"
     ]
    },
    {
     "name": "stderr",
     "output_type": "stream",
     "text": [
      "100%|██████████| 1/1 [00:00<00:00, 956.08it/s]\n"
     ]
    },
    {
     "name": "stdout",
     "output_type": "stream",
     "text": [
      "Getting week 1 normalized training data\n"
     ]
    },
    {
     "name": "stderr",
     "output_type": "stream",
     "text": [
      "100%|██████████| 1/1 [00:00<00:00, 545.21it/s]"
     ]
    },
    {
     "name": "stdout",
     "output_type": "stream",
     "text": [
      "Getting week 1 normalized training data\n"
     ]
    },
    {
     "name": "stderr",
     "output_type": "stream",
     "text": [
      "\n",
      "100%|██████████| 1/1 [00:00<00:00, 934.56it/s]\n"
     ]
    },
    {
     "name": "stdout",
     "output_type": "stream",
     "text": [
      "Getting week 1 normalized training data\n"
     ]
    },
    {
     "name": "stderr",
     "output_type": "stream",
     "text": [
      "100%|██████████| 1/1 [00:00<00:00, 1526.87it/s]"
     ]
    },
    {
     "name": "stdout",
     "output_type": "stream",
     "text": [
      "Getting week 1 normalized training data\n"
     ]
    },
    {
     "name": "stderr",
     "output_type": "stream",
     "text": [
      "\n",
      "100%|██████████| 1/1 [00:00<00:00, 783.69it/s]\n"
     ]
    },
    {
     "name": "stdout",
     "output_type": "stream",
     "text": [
      "Getting week 1 normalized training data\n"
     ]
    },
    {
     "name": "stderr",
     "output_type": "stream",
     "text": [
      "100%|██████████| 1/1 [00:00<00:00, 860.55it/s]\n"
     ]
    },
    {
     "name": "stdout",
     "output_type": "stream",
     "text": [
      "Getting week 1 normalized training data\n"
     ]
    },
    {
     "name": "stderr",
     "output_type": "stream",
     "text": [
      "100%|██████████| 1/1 [00:00<00:00, 1694.67it/s]\n"
     ]
    },
    {
     "name": "stdout",
     "output_type": "stream",
     "text": [
      "Getting week 1 normalized training data\n"
     ]
    },
    {
     "name": "stderr",
     "output_type": "stream",
     "text": [
      "100%|██████████| 1/1 [00:00<00:00, 1246.82it/s]"
     ]
    },
    {
     "name": "stdout",
     "output_type": "stream",
     "text": [
      "Getting week 1 normalized training data\n"
     ]
    },
    {
     "name": "stderr",
     "output_type": "stream",
     "text": [
      "\n",
      "100%|██████████| 1/1 [00:00<00:00, 1745.44it/s]\n"
     ]
    },
    {
     "name": "stdout",
     "output_type": "stream",
     "text": [
      "Getting week 1 normalized training data\n"
     ]
    },
    {
     "name": "stderr",
     "output_type": "stream",
     "text": [
      "100%|██████████| 1/1 [00:00<00:00, 1675.04it/s]\n"
     ]
    },
    {
     "name": "stdout",
     "output_type": "stream",
     "text": [
      "Getting week 1 normalized training data\n"
     ]
    },
    {
     "name": "stderr",
     "output_type": "stream",
     "text": [
      "100%|██████████| 1/1 [00:00<00:00, 1625.07it/s]\n"
     ]
    }
   ],
   "source": [
    "### plotting all below\n",
    "\n",
    "\n",
    "play_id = 2021091201901\n",
    "\n",
    "play_prob = predict_play(master_track = all_data, play_id = play_id, model = lstm_model, normalize = True)\n",
    "player_metrics = get_all_player_metrics_on_play(master_track = all_data, play_id = play_id, model = lstm_model)\n",
    "\n",
    "\n",
    "rusher_play_info = all_data.get_play(play_id).reset_index(drop = 1)\n",
    "rusher_play_info.time_after_snap = round(rusher_play_info.time_after_snap, 1)\n",
    "\n",
    "this = get_all_player_metrics_on_play(master_track = all_data, play_id = play_id, model = lstm_model)\n",
    "player_metrics = []\n",
    "for player_id in this.keys():\n",
    "    metrics = this.get(player_id)\n",
    "    metrics_df = pd.DataFrame({'nflId': float(player_id), 'rusher_metric' : metrics, 'time_after_snap' : np.array(range(0, len(metrics))) / 10})\n",
    "    player_metrics.append(metrics_df)\n",
    "player_metrics_df = pd.concat(player_metrics)\n",
    "\n",
    "rusher_play_info =  rusher_play_info.merge(player_metrics_df, on = ['nflId', 'time_after_snap'], how = 'left')\n",
    "\n",
    "\n",
    "\n",
    "def_match = all_data.play_details_df.loc[(all_data.play_details_df.playId == play_id) & (all_data.play_details_df.pff_nflIdBlockedPlayer.notna()), ['playId', 'nflId', 'pff_nflIdBlockedPlayer']]\n",
    "defender_track = []\n",
    "for defender in def_match.nflId:\n",
    "    this_def = all_data.search_track_weeks(variables = [\"playId\", \"nflId\"], variable_values = [play_id, defender])\n",
    "    defender_track.append(this_def)\n",
    "defender_track = pd.concat(defender_track).merge(def_match, on = ['playId', 'nflId'], how = 'left').loc[:,['nflId', 'playId', 'time_after_snap', 'pff_nflIdBlockedPlayer', 'x', 'y']].rename(columns = {'pff_nflIdBlockedPlayer' : 'nflId', 'nflId' : 'blockerId', 'x' : 'x_block', 'y' : 'y_block'})\n",
    "\n",
    "# get qb track\n",
    "qb_track = all_data.get_qb_track_on_play(play_id).loc[:, ['playId', 'time_after_snap', 'x', 'y', 's', 'a']].rename(columns = {'x' : 'x_qb', 'y' : 'y_qb', 's' : 's_qb', 'a' : 'a_qb'})\n",
    "defender_qb_track = defender_track.merge(qb_track, on = ['playId', 'time_after_snap'], how = 'left')\n",
    "defender_qb_track.time_after_snap = round(defender_qb_track.time_after_snap, 1)\n",
    "\n",
    "block_df = defender_qb_track.loc[(defender_qb_track.time_after_snap >= 0) & (defender_qb_track.time_after_snap < len(play_prob) / 10), ['blockerId', 'time_after_snap', 'x_block', 'y_block']].rename(columns = {'blockerId' : 'nflId', 'x_block' : 'x', 'y_block' : 'y'}).drop_duplicates()\n",
    "rush_df = rusher_play_info.loc[(rusher_play_info.time_after_snap >= 0) & (rusher_play_info.time_after_snap < len(play_prob) / 10), ['nflId', 'time_after_snap', 'rusher_metric', 'x', 'y']].drop_duplicates()\n",
    "qb_df = defender_qb_track.loc[(defender_qb_track.time_after_snap >= 0) & (defender_qb_track.time_after_snap < len(play_prob) / 10), ['time_after_snap', 'x_qb', 'y_qb']].rename(columns = {'x_qb' : 'x', 'y_qb' : 'y'}).drop_duplicates()\n",
    "qb_df['nflId'] = 1\n",
    "\n",
    "\n",
    "unique_time_after_snap = rush_df.time_after_snap.unique()\n",
    "n_player_rush = len(rush_df.nflId.unique())\n",
    "n_player_block = len(block_df.nflId.unique())\n",
    "\n",
    "n_frame = len(unique_time_after_snap)\n",
    "motion_rush = np.empty(shape = (n_frame,3,n_player_rush))\n",
    "motion_block = np.empty(shape = (n_frame,3,n_player_block))\n",
    "motion_qb = np.empty(shape = (n_frame,3, 1))\n",
    "frame = 0\n",
    "for time_after in unique_time_after_snap:\n",
    "    this_frame_rush = rush_df.loc[rush_df.time_after_snap == time_after].copy()\n",
    "    x_this_frame_rush, y_this_frame_rush, color_this_frame_rush = this_frame_rush.x.values.tolist(), this_frame_rush.y.values.tolist(), this_frame_rush.rusher_metric.values.tolist()\n",
    "    motion_rush[frame, :, :] = [x_this_frame_rush, y_this_frame_rush, color_this_frame_rush]\n",
    "    \n",
    "    this_frame_block = block_df.loc[block_df.time_after_snap == time_after].copy()\n",
    "    x_this_frame_block, y_this_frame_block, color_this_frame_block = this_frame_block.x.values.tolist(), this_frame_block.y.values.tolist(), this_frame_block.x.values.tolist()\n",
    "    motion_block[frame, :, :] = [x_this_frame_block, y_this_frame_block, color_this_frame_block]\n",
    "\n",
    "    this_frame_qb = qb_df.loc[block_df.time_after_snap == time_after].copy()\n",
    "    x_this_frame_qb, y_this_frame_qb, color_this_frame_qb = this_frame_qb.x.values.tolist(), this_frame_qb.y.values.tolist(), this_frame_qb.x.values.tolist()\n",
    "    motion_qb[frame, :, :] = [x_this_frame_qb, y_this_frame_qb, color_this_frame_qb]\n",
    "    frame += 1"
   ]
  },
  {
   "cell_type": "code",
   "execution_count": 1356,
   "metadata": {},
   "outputs": [],
   "source": [
    "range_x = [min(motion_block[0,0,:]) - 15, max(motion_rush[0,0,:]) + 15]\n",
    "range_y = [min(motion_rush[0,1,:]) - 15, max(motion_rush[0,1,:]) + 15]\n",
    "color_min, color_max = np.amin(motion_rush[:,2,:]), np.amax(motion_rush[:,2,:])\n",
    "start_frame = [go.Scatter(x=motion_rush[0,0,:], y = motion_rush[0,1,:], \n",
    "                            mode = \"markers+text\", \n",
    "                            text = ['Rusher Metric: ' + str(round(metric, 3)) for metric in motion_rush[0,2,:]],\n",
    "                            textposition=\"bottom center\",\n",
    "                            name = \"Rushers\",\n",
    "                            legendgroup = \"Rushers\",\n",
    "                            marker = dict(size=16,color=motion_rush[0,2,:],colorscale='Greens',showscale=True, cmin=color_min, cmax = color_max)),\n",
    "               go.Scatter(x=motion_block[0,0,:], y = motion_block[0,1,:], \n",
    "                            mode = \"markers\", \n",
    "                            name = \"Blockers\",\n",
    "                            legendgroup = \"Blockers\",\n",
    "                            marker = dict(size=16),\n",
    "                            marker_symbol = \"x\"  ),\n",
    "                go.Scatter(x=motion_qb[0,0,:], y = motion_qb[0,1,:], \n",
    "                            mode = \"markers\", \n",
    "                            name = \"QB\",\n",
    "                            legendgroup = \"QB\",\n",
    "                            marker = dict(size=16),\n",
    "                            marker_symbol = \"x\"  ),\n",
    "                go.Scatter(x= np.array(range_x[1]-8), y = np.array(range_y[1]-3), \n",
    "                            mode = \"text\",\n",
    "                            text = ['QB Distruption Probability: ' + str(round(play_prob[0], 3))],\n",
    "                            textfont = dict(size=20) ) ]\n",
    "\n",
    "all_frame = [   go.Frame(data = [go.Scatter(x=vec[0][0], y = vec[0][1], \n",
    "                                            mode = \"markers+text\", \n",
    "                                            text = ['Rusher Metric: ' + str(round(metric, 3)) for metric in vec[0][2]],\n",
    "                                            textposition=\"bottom center\",\n",
    "                                            name = \"Rushers\",\n",
    "                                            legendgroup = \"Rushers\",\n",
    "                                            marker = dict(size=16,color=vec[0][2] ) ),\n",
    "                                 go.Scatter(x=vec[1][0], y = vec[1][1], \n",
    "                                            mode = \"markers\", \n",
    "                                            name = \"Blockers\",\n",
    "                                            legendgroup = \"Blockers\",\n",
    "                                            marker = dict(size=16),\n",
    "                                            marker_symbol = \"x\" ),\n",
    "                                go.Scatter(x=vec[2][0], y = vec[2][1], \n",
    "                                            mode = \"markers\", \n",
    "                                            name = \"QB\",\n",
    "                                            legendgroup = \"QB\",\n",
    "                                            marker = dict(size=16),\n",
    "                                            marker_symbol = \"x\" ),\n",
    "                                go.Scatter(x= np.array(range_x[1]-8), y = np.array(range_y[1]-3), \n",
    "                                                mode = \"text\",\n",
    "                                                text = ['QB Distruption Probability: ' + str(round(vec[3], 3))],\n",
    "                                                ) ]) \n",
    "            for vec in zip(motion_rush[1:,:,:], motion_block[1:,:,:], motion_qb[1:,:,:], play_prob[1:])  ]\n",
    "layout_draw = go.Layout(\n",
    "        xaxis=dict(range=range_x, autorange=False),\n",
    "        yaxis=dict(range=range_y, autorange=False),\n",
    "        title= f'Play {play_id}',\n",
    "        updatemenus=[dict(type=\"buttons\",\n",
    "                        buttons=[dict(label=\"Play\",\n",
    "                                    method=\"animate\",\n",
    "                                    args=[None, {\"frame\": {\"duration\": 500, \"redraw\": False}, \"fromcurrent\": True, \"transition\": {\"duration\": 0}}])])]\n",
    "    )\n"
   ]
  },
  {
   "cell_type": "code",
   "execution_count": 1357,
   "metadata": {},
   "outputs": [
    {
     "data": {
      "application/vnd.plotly.v1+json": {
       "config": {
        "plotlyServerURL": "https://plot.ly"
       },
       "data": [
        {
         "legendgroup": "Rushers",
         "marker": {
          "cmax": 0.08150461316108704,
          "cmin": -0.008971631526947021,
          "color": [
           -0.0019757747650146484,
           -0.006991952657699585,
           -0.002598404884338379,
           -0.0009636580944061279
          ],
          "colorscale": [
           [
            0,
            "rgb(247,252,245)"
           ],
           [
            0.125,
            "rgb(229,245,224)"
           ],
           [
            0.25,
            "rgb(199,233,192)"
           ],
           [
            0.375,
            "rgb(161,217,155)"
           ],
           [
            0.5,
            "rgb(116,196,118)"
           ],
           [
            0.625,
            "rgb(65,171,93)"
           ],
           [
            0.75,
            "rgb(35,139,69)"
           ],
           [
            0.875,
            "rgb(0,109,44)"
           ],
           [
            1,
            "rgb(0,68,27)"
           ]
          ],
          "showscale": true,
          "size": 16
         },
         "mode": "markers+text",
         "name": "Rushers",
         "text": [
          "Rusher Metric: -0.002",
          "Rusher Metric: -0.007",
          "Rusher Metric: -0.003",
          "Rusher Metric: -0.001"
         ],
         "textposition": "bottom center",
         "type": "scatter",
         "x": [
          31.63,
          31.62,
          31.64,
          31.52
         ],
         "y": [
          19.75,
          24.67,
          21.14,
          28.48
         ]
        },
        {
         "legendgroup": "Blockers",
         "marker": {
          "size": 16,
          "symbol": "x"
         },
         "mode": "markers",
         "name": "Blockers",
         "type": "scatter",
         "x": [
          29.53,
          29.42,
          29.96,
          30.52,
          29.53
         ],
         "y": [
          22.2,
          20.87,
          25.14,
          23.65,
          26.69
         ]
        },
        {
         "legendgroup": "QB",
         "marker": {
          "size": 16,
          "symbol": "x"
         },
         "mode": "markers",
         "name": "QB",
         "type": "scatter",
         "x": [
          25.8
         ],
         "y": [
          23.8
         ]
        },
        {
         "mode": "text",
         "text": [
          "QB Distruption Probability: 0.268"
         ],
         "textfont": {
          "size": 20
         },
         "type": "scatter",
         "x": [
          38.64
         ],
         "y": [
          40.480000000000004
         ]
        }
       ],
       "frames": [
        {
         "data": [
          {
           "legendgroup": "Rushers",
           "marker": {
            "color": [
             -0.002722412347793579,
             -0.008971631526947021,
             -0.0030732452869415283,
             -0.001078084111213684
            ],
            "size": 16
           },
           "mode": "markers+text",
           "name": "Rushers",
           "text": [
            "Rusher Metric: -0.003",
            "Rusher Metric: -0.009",
            "Rusher Metric: -0.003",
            "Rusher Metric: -0.001"
           ],
           "textposition": "bottom center",
           "type": "scatter",
           "x": [
            31.6,
            31.55,
            31.58,
            31.45
           ],
           "y": [
            19.74,
            24.66,
            21.14,
            28.46
           ]
          },
          {
           "legendgroup": "Blockers",
           "marker": {
            "size": 16,
            "symbol": "x"
           },
           "mode": "markers",
           "name": "Blockers",
           "type": "scatter",
           "x": [
            29.51,
            29.41,
            29.94,
            30.47,
            29.48
           ],
           "y": [
            22.19,
            20.87,
            25.12,
            23.67,
            26.7
           ]
          },
          {
           "legendgroup": "QB",
           "marker": {
            "size": 16,
            "symbol": "x"
           },
           "mode": "markers",
           "name": "QB",
           "type": "scatter",
           "x": [
            25.78
           ],
           "y": [
            23.81
           ]
          },
          {
           "mode": "text",
           "text": [
            "QB Distruption Probability: 0.239"
           ],
           "type": "scatter",
           "x": [
            38.64
           ],
           "y": [
            40.480000000000004
           ]
          }
         ]
        },
        {
         "data": [
          {
           "legendgroup": "Rushers",
           "marker": {
            "color": [
             -0.0022998303174972534,
             -0.008508950471878052,
             -0.0030260831117630005,
             -0.001454368233680725
            ],
            "size": 16
           },
           "mode": "markers+text",
           "name": "Rushers",
           "text": [
            "Rusher Metric: -0.002",
            "Rusher Metric: -0.009",
            "Rusher Metric: -0.003",
            "Rusher Metric: -0.001"
           ],
           "textposition": "bottom center",
           "type": "scatter",
           "x": [
            31.51,
            31.42,
            31.48,
            31.34
           ],
           "y": [
            19.71,
            24.65,
            21.13,
            28.44
           ]
          },
          {
           "legendgroup": "Blockers",
           "marker": {
            "size": 16,
            "symbol": "x"
           },
           "mode": "markers",
           "name": "Blockers",
           "type": "scatter",
           "x": [
            29.48,
            29.4,
            29.9,
            30.37,
            29.4
           ],
           "y": [
            22.18,
            20.87,
            25.11,
            23.72,
            26.73
           ]
          },
          {
           "legendgroup": "QB",
           "marker": {
            "size": 16,
            "symbol": "x"
           },
           "mode": "markers",
           "name": "QB",
           "type": "scatter",
           "x": [
            25.76
           ],
           "y": [
            23.82
           ]
          },
          {
           "mode": "text",
           "text": [
            "QB Distruption Probability: 0.228"
           ],
           "type": "scatter",
           "x": [
            38.64
           ],
           "y": [
            40.480000000000004
           ]
          }
         ]
        },
        {
         "data": [
          {
           "legendgroup": "Rushers",
           "marker": {
            "color": [
             -0.0026190727949142456,
             0.002798900008201599,
             -0.0031163841485977173,
             -0.001631811261177063
            ],
            "size": 16
           },
           "mode": "markers+text",
           "name": "Rushers",
           "text": [
            "Rusher Metric: -0.003",
            "Rusher Metric: 0.003",
            "Rusher Metric: -0.003",
            "Rusher Metric: -0.002"
           ],
           "textposition": "bottom center",
           "type": "scatter",
           "x": [
            31.38,
            31.23,
            31.34,
            31.13
           ],
           "y": [
            19.68,
            24.62,
            21.14,
            28.44
           ]
          },
          {
           "legendgroup": "Blockers",
           "marker": {
            "size": 16,
            "symbol": "x"
           },
           "mode": "markers",
           "name": "Blockers",
           "type": "scatter",
           "x": [
            29.43,
            29.39,
            29.82,
            30.23,
            29.29
           ],
           "y": [
            22.16,
            20.86,
            25.1,
            23.79,
            26.79
           ]
          },
          {
           "legendgroup": "QB",
           "marker": {
            "size": 16,
            "symbol": "x"
           },
           "mode": "markers",
           "name": "QB",
           "type": "scatter",
           "x": [
            25.74
           ],
           "y": [
            23.82
           ]
          },
          {
           "mode": "text",
           "text": [
            "QB Distruption Probability: 0.234"
           ],
           "type": "scatter",
           "x": [
            38.64
           ],
           "y": [
            40.480000000000004
           ]
          }
         ]
        },
        {
         "data": [
          {
           "legendgroup": "Rushers",
           "marker": {
            "color": [
             -0.0027969777584075928,
             0.027656272053718567,
             -0.0035082101821899414,
             -0.001941382884979248
            ],
            "size": 16
           },
           "mode": "markers+text",
           "name": "Rushers",
           "text": [
            "Rusher Metric: -0.003",
            "Rusher Metric: 0.028",
            "Rusher Metric: -0.004",
            "Rusher Metric: -0.002"
           ],
           "textposition": "bottom center",
           "type": "scatter",
           "x": [
            31.17,
            31.04,
            31.15,
            30.87
           ],
           "y": [
            19.63,
            24.63,
            21.15,
            28.43
           ]
          },
          {
           "legendgroup": "Blockers",
           "marker": {
            "size": 16,
            "symbol": "x"
           },
           "mode": "markers",
           "name": "Blockers",
           "type": "scatter",
           "x": [
            29.37,
            29.34,
            29.73,
            30.08,
            29.14
           ],
           "y": [
            22.14,
            20.86,
            25.09,
            23.84,
            26.88
           ]
          },
          {
           "legendgroup": "QB",
           "marker": {
            "size": 16,
            "symbol": "x"
           },
           "mode": "markers",
           "name": "QB",
           "type": "scatter",
           "x": [
            25.72
           ],
           "y": [
            23.83
           ]
          },
          {
           "mode": "text",
           "text": [
            "QB Distruption Probability: 0.253"
           ],
           "type": "scatter",
           "x": [
            38.64
           ],
           "y": [
            40.480000000000004
           ]
          }
         ]
        },
        {
         "data": [
          {
           "legendgroup": "Rushers",
           "marker": {
            "color": [
             -0.0031097233295440674,
             0.05721098184585571,
             -0.0036890506744384766,
             -0.003107428550720215
            ],
            "size": 16
           },
           "mode": "markers+text",
           "name": "Rushers",
           "text": [
            "Rusher Metric: -0.003",
            "Rusher Metric: 0.057",
            "Rusher Metric: -0.004",
            "Rusher Metric: -0.003"
           ],
           "textposition": "bottom center",
           "type": "scatter",
           "x": [
            30.91,
            30.84,
            30.92,
            30.57
           ],
           "y": [
            19.58,
            24.62,
            21.21,
            28.44
           ]
          },
          {
           "legendgroup": "Blockers",
           "marker": {
            "size": 16,
            "symbol": "x"
           },
           "mode": "markers",
           "name": "Blockers",
           "type": "scatter",
           "x": [
            29.3,
            29.24,
            29.62,
            29.93,
            28.99
           ],
           "y": [
            22.13,
            20.84,
            25.08,
            23.9,
            26.96
           ]
          },
          {
           "legendgroup": "QB",
           "marker": {
            "size": 16,
            "symbol": "x"
           },
           "mode": "markers",
           "name": "QB",
           "type": "scatter",
           "x": [
            25.66
           ],
           "y": [
            23.84
           ]
          },
          {
           "mode": "text",
           "text": [
            "QB Distruption Probability: 0.275"
           ],
           "type": "scatter",
           "x": [
            38.64
           ],
           "y": [
            40.480000000000004
           ]
          }
         ]
        },
        {
         "data": [
          {
           "legendgroup": "Rushers",
           "marker": {
            "color": [
             -0.002645254135131836,
             0.06581923365592957,
             -0.004089266061782837,
             -0.0019826889038085938
            ],
            "size": 16
           },
           "mode": "markers+text",
           "name": "Rushers",
           "text": [
            "Rusher Metric: -0.003",
            "Rusher Metric: 0.066",
            "Rusher Metric: -0.004",
            "Rusher Metric: -0.002"
           ],
           "textposition": "bottom center",
           "type": "scatter",
           "x": [
            30.6,
            30.63,
            30.68,
            30.23
           ],
           "y": [
            19.53,
            24.66,
            21.28,
            28.45
           ]
          },
          {
           "legendgroup": "Blockers",
           "marker": {
            "size": 16,
            "symbol": "x"
           },
           "mode": "markers",
           "name": "Blockers",
           "type": "scatter",
           "x": [
            29.21,
            29.06,
            29.5,
            29.77,
            28.81
           ],
           "y": [
            22.11,
            20.81,
            25.08,
            23.97,
            27.04
           ]
          },
          {
           "legendgroup": "QB",
           "marker": {
            "size": 16,
            "symbol": "x"
           },
           "mode": "markers",
           "name": "QB",
           "type": "scatter",
           "x": [
            25.57
           ],
           "y": [
            23.87
           ]
          },
          {
           "mode": "text",
           "text": [
            "QB Distruption Probability: 0.29"
           ],
           "type": "scatter",
           "x": [
            38.64
           ],
           "y": [
            40.480000000000004
           ]
          }
         ]
        },
        {
         "data": [
          {
           "legendgroup": "Rushers",
           "marker": {
            "color": [
             -0.0021338164806365967,
             0.08150461316108704,
             -0.0033223330974578857,
             -0.0018373727798461914
            ],
            "size": 16
           },
           "mode": "markers+text",
           "name": "Rushers",
           "text": [
            "Rusher Metric: -0.002",
            "Rusher Metric: 0.082",
            "Rusher Metric: -0.003",
            "Rusher Metric: -0.002"
           ],
           "textposition": "bottom center",
           "type": "scatter",
           "x": [
            30.27,
            30.41,
            30.41,
            29.83
           ],
           "y": [
            19.48,
            24.74,
            21.37,
            28.46
           ]
          },
          {
           "legendgroup": "Blockers",
           "marker": {
            "size": 16,
            "symbol": "x"
           },
           "mode": "markers",
           "name": "Blockers",
           "type": "scatter",
           "x": [
            29.08,
            28.87,
            29.37,
            29.6,
            28.59
           ],
           "y": [
            22.09,
            20.76,
            25.08,
            24.03,
            27.13
           ]
          },
          {
           "legendgroup": "QB",
           "marker": {
            "size": 16,
            "symbol": "x"
           },
           "mode": "markers",
           "name": "QB",
           "type": "scatter",
           "x": [
            25.43
           ],
           "y": [
            23.89
           ]
          },
          {
           "mode": "text",
           "text": [
            "QB Distruption Probability: 0.3"
           ],
           "type": "scatter",
           "x": [
            38.64
           ],
           "y": [
            40.480000000000004
           ]
          }
         ]
        },
        {
         "data": [
          {
           "legendgroup": "Rushers",
           "marker": {
            "color": [
             -0.001431882381439209,
             0.062100574374198914,
             -0.0031581223011016846,
             -0.0019375085830688477
            ],
            "size": 16
           },
           "mode": "markers+text",
           "name": "Rushers",
           "text": [
            "Rusher Metric: -0.001",
            "Rusher Metric: 0.062",
            "Rusher Metric: -0.003",
            "Rusher Metric: -0.002"
           ],
           "textposition": "bottom center",
           "type": "scatter",
           "x": [
            29.91,
            30.17,
            30.14,
            29.43
           ],
           "y": [
            19.41,
            24.8,
            21.49,
            28.47
           ]
          },
          {
           "legendgroup": "Blockers",
           "marker": {
            "size": 16,
            "symbol": "x"
           },
           "mode": "markers",
           "name": "Blockers",
           "type": "scatter",
           "x": [
            28.95,
            28.65,
            29.19,
            29.44,
            28.36
           ],
           "y": [
            22.08,
            20.7,
            25.09,
            24.09,
            27.21
           ]
          },
          {
           "legendgroup": "QB",
           "marker": {
            "size": 16,
            "symbol": "x"
           },
           "mode": "markers",
           "name": "QB",
           "type": "scatter",
           "x": [
            25.25
           ],
           "y": [
            23.91
           ]
          },
          {
           "mode": "text",
           "text": [
            "QB Distruption Probability: 0.3"
           ],
           "type": "scatter",
           "x": [
            38.64
           ],
           "y": [
            40.480000000000004
           ]
          }
         ]
        },
        {
         "data": [
          {
           "legendgroup": "Rushers",
           "marker": {
            "color": [
             0.00024187564849853516,
             0.05740642547607422,
             -0.0025809109210968018,
             -0.0020133554935455322
            ],
            "size": 16
           },
           "mode": "markers+text",
           "name": "Rushers",
           "text": [
            "Rusher Metric: 0.0",
            "Rusher Metric: 0.057",
            "Rusher Metric: -0.003",
            "Rusher Metric: -0.002"
           ],
           "textposition": "bottom center",
           "type": "scatter",
           "x": [
            29.47,
            29.94,
            29.86,
            29.02
           ],
           "y": [
            19.36,
            24.88,
            21.64,
            28.51
           ]
          },
          {
           "legendgroup": "Blockers",
           "marker": {
            "size": 16,
            "symbol": "x"
           },
           "mode": "markers",
           "name": "Blockers",
           "type": "scatter",
           "x": [
            28.8,
            28.39,
            29,
            29.27,
            28.12
           ],
           "y": [
            22.1,
            20.65,
            25.11,
            24.16,
            27.28
           ]
          },
          {
           "legendgroup": "QB",
           "marker": {
            "size": 16,
            "symbol": "x"
           },
           "mode": "markers",
           "name": "QB",
           "type": "scatter",
           "x": [
            25.05
           ],
           "y": [
            23.94
           ]
          },
          {
           "mode": "text",
           "text": [
            "QB Distruption Probability: 0.291"
           ],
           "type": "scatter",
           "x": [
            38.64
           ],
           "y": [
            40.480000000000004
           ]
          }
         ]
        },
        {
         "data": [
          {
           "legendgroup": "Rushers",
           "marker": {
            "color": [
             -0.00015661120414733887,
             0.04811656475067139,
             -0.0023185014724731445,
             -0.0005476176738739014
            ],
            "size": 16
           },
           "mode": "markers+text",
           "name": "Rushers",
           "text": [
            "Rusher Metric: -0.0",
            "Rusher Metric: 0.048",
            "Rusher Metric: -0.002",
            "Rusher Metric: -0.001"
           ],
           "textposition": "bottom center",
           "type": "scatter",
           "x": [
            29.04,
            29.68,
            29.58,
            28.57
           ],
           "y": [
            19.32,
            24.98,
            21.81,
            28.55
           ]
          },
          {
           "legendgroup": "Blockers",
           "marker": {
            "size": 16,
            "symbol": "x"
           },
           "mode": "markers",
           "name": "Blockers",
           "type": "scatter",
           "x": [
            28.63,
            28.11,
            28.81,
            29.12,
            27.87
           ],
           "y": [
            22.14,
            20.58,
            25.12,
            24.24,
            27.35
           ]
          },
          {
           "legendgroup": "QB",
           "marker": {
            "size": 16,
            "symbol": "x"
           },
           "mode": "markers",
           "name": "QB",
           "type": "scatter",
           "x": [
            24.84
           ],
           "y": [
            23.98
           ]
          },
          {
           "mode": "text",
           "text": [
            "QB Distruption Probability: 0.278"
           ],
           "type": "scatter",
           "x": [
            38.64
           ],
           "y": [
            40.480000000000004
           ]
          }
         ]
        },
        {
         "data": [
          {
           "legendgroup": "Rushers",
           "marker": {
            "color": [
             0.0007344186305999756,
             0.04436275362968445,
             -0.0020685195922851562,
             -0.000043898820877075195
            ],
            "size": 16
           },
           "mode": "markers+text",
           "name": "Rushers",
           "text": [
            "Rusher Metric: 0.001",
            "Rusher Metric: 0.044",
            "Rusher Metric: -0.002",
            "Rusher Metric: -0.0"
           ],
           "textposition": "bottom center",
           "type": "scatter",
           "x": [
            28.6,
            29.42,
            29.31,
            28.1
           ],
           "y": [
            19.29,
            25.1,
            21.98,
            28.58
           ]
          },
          {
           "legendgroup": "Blockers",
           "marker": {
            "size": 16,
            "symbol": "x"
           },
           "mode": "markers",
           "name": "Blockers",
           "type": "scatter",
           "x": [
            28.46,
            27.82,
            28.61,
            28.96,
            27.6
           ],
           "y": [
            22.17,
            20.52,
            25.14,
            24.33,
            27.4
           ]
          },
          {
           "legendgroup": "QB",
           "marker": {
            "size": 16,
            "symbol": "x"
           },
           "mode": "markers",
           "name": "QB",
           "type": "scatter",
           "x": [
            24.63
           ],
           "y": [
            24.02
           ]
          },
          {
           "mode": "text",
           "text": [
            "QB Distruption Probability: 0.257"
           ],
           "type": "scatter",
           "x": [
            38.64
           ],
           "y": [
            40.480000000000004
           ]
          }
         ]
        },
        {
         "data": [
          {
           "legendgroup": "Rushers",
           "marker": {
            "color": [
             0.0012369304895401,
             0.030689984560012817,
             -0.0018861889839172363,
             -0.000037997961044311523
            ],
            "size": 16
           },
           "mode": "markers+text",
           "name": "Rushers",
           "text": [
            "Rusher Metric: 0.001",
            "Rusher Metric: 0.031",
            "Rusher Metric: -0.002",
            "Rusher Metric: -0.0"
           ],
           "textposition": "bottom center",
           "type": "scatter",
           "x": [
            28.16,
            29.18,
            29.06,
            27.64
           ],
           "y": [
            19.27,
            25.23,
            22.16,
            28.61
           ]
          },
          {
           "legendgroup": "Blockers",
           "marker": {
            "size": 16,
            "symbol": "x"
           },
           "mode": "markers",
           "name": "Blockers",
           "type": "scatter",
           "x": [
            28.27,
            27.5,
            28.4,
            28.8,
            27.32
           ],
           "y": [
            22.22,
            20.5,
            25.18,
            24.42,
            27.44
           ]
          },
          {
           "legendgroup": "QB",
           "marker": {
            "size": 16,
            "symbol": "x"
           },
           "mode": "markers",
           "name": "QB",
           "type": "scatter",
           "x": [
            24.42
           ],
           "y": [
            24.07
           ]
          },
          {
           "mode": "text",
           "text": [
            "QB Distruption Probability: 0.25"
           ],
           "type": "scatter",
           "x": [
            38.64
           ],
           "y": [
            40.480000000000004
           ]
          }
         ]
        },
        {
         "data": [
          {
           "legendgroup": "Rushers",
           "marker": {
            "color": [
             0.002084881067276001,
             0.02878771722316742,
             -0.0016948878765106201,
             0.0009174942970275879
            ],
            "size": 16
           },
           "mode": "markers+text",
           "name": "Rushers",
           "text": [
            "Rusher Metric: 0.002",
            "Rusher Metric: 0.029",
            "Rusher Metric: -0.002",
            "Rusher Metric: 0.001"
           ],
           "textposition": "bottom center",
           "type": "scatter",
           "x": [
            27.72,
            28.94,
            28.82,
            27.16
           ],
           "y": [
            19.28,
            25.36,
            22.35,
            28.62
           ]
          },
          {
           "legendgroup": "Blockers",
           "marker": {
            "size": 16,
            "symbol": "x"
           },
           "mode": "markers",
           "name": "Blockers",
           "type": "scatter",
           "x": [
            28.06,
            27.18,
            28.18,
            28.66,
            27.01
           ],
           "y": [
            22.32,
            20.48,
            25.21,
            24.53,
            27.45
           ]
          },
          {
           "legendgroup": "QB",
           "marker": {
            "size": 16,
            "symbol": "x"
           },
           "mode": "markers",
           "name": "QB",
           "type": "scatter",
           "x": [
            24.22
           ],
           "y": [
            24.12
           ]
          },
          {
           "mode": "text",
           "text": [
            "QB Distruption Probability: 0.252"
           ],
           "type": "scatter",
           "x": [
            38.64
           ],
           "y": [
            40.480000000000004
           ]
          }
         ]
        },
        {
         "data": [
          {
           "legendgroup": "Rushers",
           "marker": {
            "color": [
             0.001876041293144226,
             0.009834900498390198,
             -0.0019510388374328613,
             0.001249939203262329
            ],
            "size": 16
           },
           "mode": "markers+text",
           "name": "Rushers",
           "text": [
            "Rusher Metric: 0.002",
            "Rusher Metric: 0.01",
            "Rusher Metric: -0.002",
            "Rusher Metric: 0.001"
           ],
           "textposition": "bottom center",
           "type": "scatter",
           "x": [
            27.27,
            28.7,
            28.59,
            26.66
           ],
           "y": [
            19.29,
            25.49,
            22.54,
            28.6
           ]
          },
          {
           "legendgroup": "Blockers",
           "marker": {
            "size": 16,
            "symbol": "x"
           },
           "mode": "markers",
           "name": "Blockers",
           "type": "scatter",
           "x": [
            27.86,
            26.86,
            27.96,
            28.51,
            26.68
           ],
           "y": [
            22.43,
            20.46,
            25.26,
            24.66,
            27.44
           ]
          },
          {
           "legendgroup": "QB",
           "marker": {
            "size": 16,
            "symbol": "x"
           },
           "mode": "markers",
           "name": "QB",
           "type": "scatter",
           "x": [
            24.03
           ],
           "y": [
            24.16
           ]
          },
          {
           "mode": "text",
           "text": [
            "QB Distruption Probability: 0.25"
           ],
           "type": "scatter",
           "x": [
            38.64
           ],
           "y": [
            40.480000000000004
           ]
          }
         ]
        },
        {
         "data": [
          {
           "legendgroup": "Rushers",
           "marker": {
            "color": [
             0.0012871623039245605,
             0.0011432915925979614,
             -0.0012076497077941895,
             0.002713516354560852
            ],
            "size": 16
           },
           "mode": "markers+text",
           "name": "Rushers",
           "text": [
            "Rusher Metric: 0.001",
            "Rusher Metric: 0.001",
            "Rusher Metric: -0.001",
            "Rusher Metric: 0.003"
           ],
           "textposition": "bottom center",
           "type": "scatter",
           "x": [
            26.85,
            28.45,
            28.37,
            26.16
           ],
           "y": [
            19.31,
            25.64,
            22.74,
            28.56
           ]
          },
          {
           "legendgroup": "Blockers",
           "marker": {
            "size": 16,
            "symbol": "x"
           },
           "mode": "markers",
           "name": "Blockers",
           "type": "scatter",
           "x": [
            27.66,
            26.55,
            27.76,
            28.36,
            26.34
           ],
           "y": [
            22.54,
            20.46,
            25.31,
            24.8,
            27.43
           ]
          },
          {
           "legendgroup": "QB",
           "marker": {
            "size": 16,
            "symbol": "x"
           },
           "mode": "markers",
           "name": "QB",
           "type": "scatter",
           "x": [
            23.88
           ],
           "y": [
            24.23
           ]
          },
          {
           "mode": "text",
           "text": [
            "QB Distruption Probability: 0.25"
           ],
           "type": "scatter",
           "x": [
            38.64
           ],
           "y": [
            40.480000000000004
           ]
          }
         ]
        },
        {
         "data": [
          {
           "legendgroup": "Rushers",
           "marker": {
            "color": [
             0.0023217350244522095,
             -0.0019871294498443604,
             -0.0007551312446594238,
             0.0003317147493362427
            ],
            "size": 16
           },
           "mode": "markers+text",
           "name": "Rushers",
           "text": [
            "Rusher Metric: 0.002",
            "Rusher Metric: -0.002",
            "Rusher Metric: -0.001",
            "Rusher Metric: 0.0"
           ],
           "textposition": "bottom center",
           "type": "scatter",
           "x": [
            26.45,
            28.21,
            28.17,
            25.71
           ],
           "y": [
            19.38,
            25.78,
            22.94,
            28.51
           ]
          },
          {
           "legendgroup": "Blockers",
           "marker": {
            "size": 16,
            "symbol": "x"
           },
           "mode": "markers",
           "name": "Blockers",
           "type": "scatter",
           "x": [
            27.47,
            26.23,
            27.55,
            28.21,
            26
           ],
           "y": [
            22.67,
            20.48,
            25.36,
            24.93,
            27.39
           ]
          },
          {
           "legendgroup": "QB",
           "marker": {
            "size": 16,
            "symbol": "x"
           },
           "mode": "markers",
           "name": "QB",
           "type": "scatter",
           "x": [
            23.78
           ],
           "y": [
            24.27
           ]
          },
          {
           "mode": "text",
           "text": [
            "QB Distruption Probability: 0.242"
           ],
           "type": "scatter",
           "x": [
            38.64
           ],
           "y": [
            40.480000000000004
           ]
          }
         ]
        },
        {
         "data": [
          {
           "legendgroup": "Rushers",
           "marker": {
            "color": [
             0.0006366521120071411,
             -0.002989932894706726,
             -0.0012698322534561157,
             0.0024489015340805054
            ],
            "size": 16
           },
           "mode": "markers+text",
           "name": "Rushers",
           "text": [
            "Rusher Metric: 0.001",
            "Rusher Metric: -0.003",
            "Rusher Metric: -0.001",
            "Rusher Metric: 0.002"
           ],
           "textposition": "bottom center",
           "type": "scatter",
           "x": [
            26.06,
            27.97,
            27.98,
            25.26
           ],
           "y": [
            19.44,
            25.94,
            23.14,
            28.42
           ]
          },
          {
           "legendgroup": "Blockers",
           "marker": {
            "size": 16,
            "symbol": "x"
           },
           "mode": "markers",
           "name": "Blockers",
           "type": "scatter",
           "x": [
            27.28,
            25.94,
            27.35,
            28.07,
            25.63
           ],
           "y": [
            22.83,
            20.5,
            25.44,
            25.07,
            27.33
           ]
          },
          {
           "legendgroup": "QB",
           "marker": {
            "size": 16,
            "symbol": "x"
           },
           "mode": "markers",
           "name": "QB",
           "type": "scatter",
           "x": [
            23.69
           ],
           "y": [
            24.33
           ]
          },
          {
           "mode": "text",
           "text": [
            "QB Distruption Probability: 0.235"
           ],
           "type": "scatter",
           "x": [
            38.64
           ],
           "y": [
            40.480000000000004
           ]
          }
         ]
        },
        {
         "data": [
          {
           "legendgroup": "Rushers",
           "marker": {
            "color": [
             0.0011078864336013794,
             -0.0036662817001342773,
             -0.0005974471569061279,
             0.002045184373855591
            ],
            "size": 16
           },
           "mode": "markers+text",
           "name": "Rushers",
           "text": [
            "Rusher Metric: 0.001",
            "Rusher Metric: -0.004",
            "Rusher Metric: -0.001",
            "Rusher Metric: 0.002"
           ],
           "textposition": "bottom center",
           "type": "scatter",
           "x": [
            25.7,
            27.74,
            27.81,
            24.84
           ],
           "y": [
            19.52,
            26.1,
            23.36,
            28.29
           ]
          },
          {
           "legendgroup": "Blockers",
           "marker": {
            "size": 16,
            "symbol": "x"
           },
           "mode": "markers",
           "name": "Blockers",
           "type": "scatter",
           "x": [
            27.11,
            25.66,
            27.18,
            27.93,
            25.29
           ],
           "y": [
            23,
            20.52,
            25.53,
            25.21,
            27.26
           ]
          },
          {
           "legendgroup": "QB",
           "marker": {
            "size": 16,
            "symbol": "x"
           },
           "mode": "markers",
           "name": "QB",
           "type": "scatter",
           "x": [
            23.62
           ],
           "y": [
            24.38
           ]
          },
          {
           "mode": "text",
           "text": [
            "QB Distruption Probability: 0.226"
           ],
           "type": "scatter",
           "x": [
            38.64
           ],
           "y": [
            40.480000000000004
           ]
          }
         ]
        },
        {
         "data": [
          {
           "legendgroup": "Rushers",
           "marker": {
            "color": [
             0.0008300840854644775,
             -0.004035443067550659,
             -0.00016142427921295166,
             0.0037166327238082886
            ],
            "size": 16
           },
           "mode": "markers+text",
           "name": "Rushers",
           "text": [
            "Rusher Metric: 0.001",
            "Rusher Metric: -0.004",
            "Rusher Metric: -0.0",
            "Rusher Metric: 0.004"
           ],
           "textposition": "bottom center",
           "type": "scatter",
           "x": [
            25.37,
            27.52,
            27.66,
            24.46
           ],
           "y": [
            19.61,
            26.26,
            23.57,
            28.1
           ]
          },
          {
           "legendgroup": "Blockers",
           "marker": {
            "size": 16,
            "symbol": "x"
           },
           "mode": "markers",
           "name": "Blockers",
           "type": "scatter",
           "x": [
            26.95,
            25.41,
            27.01,
            27.78,
            24.95
           ],
           "y": [
            23.17,
            20.58,
            25.63,
            25.36,
            27.16
           ]
          },
          {
           "legendgroup": "QB",
           "marker": {
            "size": 16,
            "symbol": "x"
           },
           "mode": "markers",
           "name": "QB",
           "type": "scatter",
           "x": [
            23.57
           ],
           "y": [
            24.45
           ]
          },
          {
           "mode": "text",
           "text": [
            "QB Distruption Probability: 0.222"
           ],
           "type": "scatter",
           "x": [
            38.64
           ],
           "y": [
            40.480000000000004
           ]
          }
         ]
        },
        {
         "data": [
          {
           "legendgroup": "Rushers",
           "marker": {
            "color": [
             0.0018355250358581543,
             -0.003035023808479309,
             0.0010314732789993286,
             0.002717927098274231
            ],
            "size": 16
           },
           "mode": "markers+text",
           "name": "Rushers",
           "text": [
            "Rusher Metric: 0.002",
            "Rusher Metric: -0.003",
            "Rusher Metric: 0.001",
            "Rusher Metric: 0.003"
           ],
           "textposition": "bottom center",
           "type": "scatter",
           "x": [
            25.1,
            27.3,
            27.52,
            24.12
           ],
           "y": [
            19.73,
            26.41,
            23.79,
            27.9
           ]
          },
          {
           "legendgroup": "Blockers",
           "marker": {
            "size": 16,
            "symbol": "x"
           },
           "mode": "markers",
           "name": "Blockers",
           "type": "scatter",
           "x": [
            26.8,
            25.17,
            26.85,
            27.66,
            24.63
           ],
           "y": [
            23.34,
            20.65,
            25.71,
            25.49,
            27.05
           ]
          },
          {
           "legendgroup": "QB",
           "marker": {
            "size": 16,
            "symbol": "x"
           },
           "mode": "markers",
           "name": "QB",
           "type": "scatter",
           "x": [
            23.55
           ],
           "y": [
            24.52
           ]
          },
          {
           "mode": "text",
           "text": [
            "QB Distruption Probability: 0.213"
           ],
           "type": "scatter",
           "x": [
            38.64
           ],
           "y": [
            40.480000000000004
           ]
          }
         ]
        },
        {
         "data": [
          {
           "legendgroup": "Rushers",
           "marker": {
            "color": [
             0.0026886463165283203,
             -0.0031100958585739136,
             0.0018948912620544434,
             0.0023330003023147583
            ],
            "size": 16
           },
           "mode": "markers+text",
           "name": "Rushers",
           "text": [
            "Rusher Metric: 0.003",
            "Rusher Metric: -0.003",
            "Rusher Metric: 0.002",
            "Rusher Metric: 0.002"
           ],
           "textposition": "bottom center",
           "type": "scatter",
           "x": [
            24.88,
            27.11,
            27.4,
            23.88
           ],
           "y": [
            19.85,
            26.56,
            24.03,
            27.66
           ]
          },
          {
           "legendgroup": "Blockers",
           "marker": {
            "size": 16,
            "symbol": "x"
           },
           "mode": "markers",
           "name": "Blockers",
           "type": "scatter",
           "x": [
            26.68,
            24.96,
            26.7,
            27.53,
            24.33
           ],
           "y": [
            23.54,
            20.73,
            25.79,
            25.63,
            26.93
           ]
          },
          {
           "legendgroup": "QB",
           "marker": {
            "size": 16,
            "symbol": "x"
           },
           "mode": "markers",
           "name": "QB",
           "type": "scatter",
           "x": [
            23.56
           ],
           "y": [
            24.56
           ]
          },
          {
           "mode": "text",
           "text": [
            "QB Distruption Probability: 0.207"
           ],
           "type": "scatter",
           "x": [
            38.64
           ],
           "y": [
            40.480000000000004
           ]
          }
         ]
        },
        {
         "data": [
          {
           "legendgroup": "Rushers",
           "marker": {
            "color": [
             0.0008427649736404419,
             0.005048036575317383,
             0.00022774934768676758,
             -0.00014850497245788574
            ],
            "size": 16
           },
           "mode": "markers+text",
           "name": "Rushers",
           "text": [
            "Rusher Metric: 0.001",
            "Rusher Metric: 0.005",
            "Rusher Metric: 0.0",
            "Rusher Metric: -0.0"
           ],
           "textposition": "bottom center",
           "type": "scatter",
           "x": [
            24.67,
            26.92,
            27.29,
            23.65
           ],
           "y": [
            19.96,
            26.7,
            24.26,
            27.45
           ]
          },
          {
           "legendgroup": "Blockers",
           "marker": {
            "size": 16,
            "symbol": "x"
           },
           "mode": "markers",
           "name": "Blockers",
           "type": "scatter",
           "x": [
            26.57,
            24.76,
            26.57,
            27.41,
            24.06
           ],
           "y": [
            23.74,
            20.81,
            25.87,
            25.76,
            26.79
           ]
          },
          {
           "legendgroup": "QB",
           "marker": {
            "size": 16,
            "symbol": "x"
           },
           "mode": "markers",
           "name": "QB",
           "type": "scatter",
           "x": [
            23.57
           ],
           "y": [
            24.6
           ]
          },
          {
           "mode": "text",
           "text": [
            "QB Distruption Probability: 0.198"
           ],
           "type": "scatter",
           "x": [
            38.64
           ],
           "y": [
            40.480000000000004
           ]
          }
         ]
        },
        {
         "data": [
          {
           "legendgroup": "Rushers",
           "marker": {
            "color": [
             0.0006030350923538208,
             0.00190792977809906,
             0.00004057586193084717,
             -0.0017071366310119629
            ],
            "size": 16
           },
           "mode": "markers+text",
           "name": "Rushers",
           "text": [
            "Rusher Metric: 0.001",
            "Rusher Metric: 0.002",
            "Rusher Metric: 0.0",
            "Rusher Metric: -0.002"
           ],
           "textposition": "bottom center",
           "type": "scatter",
           "x": [
            24.51,
            26.72,
            27.2,
            23.48
           ],
           "y": [
            20.08,
            26.84,
            24.51,
            27.24
           ]
          },
          {
           "legendgroup": "Blockers",
           "marker": {
            "size": 16,
            "symbol": "x"
           },
           "mode": "markers",
           "name": "Blockers",
           "type": "scatter",
           "x": [
            26.48,
            24.58,
            26.45,
            27.3,
            23.84
           ],
           "y": [
            23.93,
            20.89,
            25.96,
            25.9,
            26.64
           ]
          },
          {
           "legendgroup": "QB",
           "marker": {
            "size": 16,
            "symbol": "x"
           },
           "mode": "markers",
           "name": "QB",
           "type": "scatter",
           "x": [
            23.6
           ],
           "y": [
            24.64
           ]
          },
          {
           "mode": "text",
           "text": [
            "QB Distruption Probability: 0.192"
           ],
           "type": "scatter",
           "x": [
            38.64
           ],
           "y": [
            40.480000000000004
           ]
          }
         ]
        },
        {
         "data": [
          {
           "legendgroup": "Rushers",
           "marker": {
            "color": [
             0.0008170902729034424,
             0.0011571496725082397,
             -0.0003596395254135132,
             -0.004016563296318054
            ],
            "size": 16
           },
           "mode": "markers+text",
           "name": "Rushers",
           "text": [
            "Rusher Metric: 0.001",
            "Rusher Metric: 0.001",
            "Rusher Metric: -0.0",
            "Rusher Metric: -0.004"
           ],
           "textposition": "bottom center",
           "type": "scatter",
           "x": [
            24.41,
            26.53,
            27.13,
            23.34
           ],
           "y": [
            20.23,
            26.99,
            24.76,
            27.02
           ]
          },
          {
           "legendgroup": "Blockers",
           "marker": {
            "size": 16,
            "symbol": "x"
           },
           "mode": "markers",
           "name": "Blockers",
           "type": "scatter",
           "x": [
            26.43,
            24.42,
            26.33,
            27.22,
            23.63
           ],
           "y": [
            24.12,
            20.96,
            26.04,
            26.02,
            26.48
           ]
          },
          {
           "legendgroup": "QB",
           "marker": {
            "size": 16,
            "symbol": "x"
           },
           "mode": "markers",
           "name": "QB",
           "type": "scatter",
           "x": [
            23.62
           ],
           "y": [
            24.65
           ]
          },
          {
           "mode": "text",
           "text": [
            "QB Distruption Probability: 0.184"
           ],
           "type": "scatter",
           "x": [
            38.64
           ],
           "y": [
            40.480000000000004
           ]
          }
         ]
        },
        {
         "data": [
          {
           "legendgroup": "Rushers",
           "marker": {
            "color": [
             0.00016030669212341309,
             0.003648802638053894,
             -0.00009532272815704346,
             -0.003891080617904663
            ],
            "size": 16
           },
           "mode": "markers+text",
           "name": "Rushers",
           "text": [
            "Rusher Metric: 0.0",
            "Rusher Metric: 0.004",
            "Rusher Metric: -0.0",
            "Rusher Metric: -0.004"
           ],
           "textposition": "bottom center",
           "type": "scatter",
           "x": [
            24.33,
            26.35,
            27.07,
            23.24
           ],
           "y": [
            20.36,
            27.12,
            25.01,
            26.81
           ]
          },
          {
           "legendgroup": "Blockers",
           "marker": {
            "size": 16,
            "symbol": "x"
           },
           "mode": "markers",
           "name": "Blockers",
           "type": "scatter",
           "x": [
            26.39,
            24.3,
            26.21,
            27.14,
            23.49
           ],
           "y": [
            24.32,
            21.04,
            26.13,
            26.15,
            26.26
           ]
          },
          {
           "legendgroup": "QB",
           "marker": {
            "size": 16,
            "symbol": "x"
           },
           "mode": "markers",
           "name": "QB",
           "type": "scatter",
           "x": [
            23.65
           ],
           "y": [
            24.64
           ]
          },
          {
           "mode": "text",
           "text": [
            "QB Distruption Probability: 0.185"
           ],
           "type": "scatter",
           "x": [
            38.64
           ],
           "y": [
            40.480000000000004
           ]
          }
         ]
        },
        {
         "data": [
          {
           "legendgroup": "Rushers",
           "marker": {
            "color": [
             0.000531122088432312,
             -0.00024469196796417236,
             -0.00021591782569885254,
             -0.003765195608139038
            ],
            "size": 16
           },
           "mode": "markers+text",
           "name": "Rushers",
           "text": [
            "Rusher Metric: 0.001",
            "Rusher Metric: -0.0",
            "Rusher Metric: -0.0",
            "Rusher Metric: -0.004"
           ],
           "textposition": "bottom center",
           "type": "scatter",
           "x": [
            24.26,
            26.21,
            27.03,
            23.21
           ],
           "y": [
            20.49,
            27.24,
            25.27,
            26.61
           ]
          },
          {
           "legendgroup": "Blockers",
           "marker": {
            "size": 16,
            "symbol": "x"
           },
           "mode": "markers",
           "name": "Blockers",
           "type": "scatter",
           "x": [
            26.37,
            24.2,
            26.1,
            27.07,
            23.45
           ],
           "y": [
            24.5,
            21.14,
            26.19,
            26.28,
            26.07
           ]
          },
          {
           "legendgroup": "QB",
           "marker": {
            "size": 16,
            "symbol": "x"
           },
           "mode": "markers",
           "name": "QB",
           "type": "scatter",
           "x": [
            23.69
           ],
           "y": [
            24.61
           ]
          },
          {
           "mode": "text",
           "text": [
            "QB Distruption Probability: 0.189"
           ],
           "type": "scatter",
           "x": [
            38.64
           ],
           "y": [
            40.480000000000004
           ]
          }
         ]
        },
        {
         "data": [
          {
           "legendgroup": "Rushers",
           "marker": {
            "color": [
             0.0006509870290756226,
             -0.0021913349628448486,
             -0.0005221515893936157,
             -0.0028833746910095215
            ],
            "size": 16
           },
           "mode": "markers+text",
           "name": "Rushers",
           "text": [
            "Rusher Metric: 0.001",
            "Rusher Metric: -0.002",
            "Rusher Metric: -0.001",
            "Rusher Metric: -0.003"
           ],
           "textposition": "bottom center",
           "type": "scatter",
           "x": [
            24.23,
            26.07,
            27.01,
            23.2
           ],
           "y": [
            20.64,
            27.38,
            25.51,
            26.41
           ]
          },
          {
           "legendgroup": "Blockers",
           "marker": {
            "size": 16,
            "symbol": "x"
           },
           "mode": "markers",
           "name": "Blockers",
           "type": "scatter",
           "x": [
            26.37,
            24.12,
            26.01,
            27,
            23.38
           ],
           "y": [
            24.68,
            21.23,
            26.26,
            26.41,
            25.86
           ]
          },
          {
           "legendgroup": "QB",
           "marker": {
            "size": 16,
            "symbol": "x"
           },
           "mode": "markers",
           "name": "QB",
           "type": "scatter",
           "x": [
            23.73
           ],
           "y": [
            24.57
           ]
          },
          {
           "mode": "text",
           "text": [
            "QB Distruption Probability: 0.192"
           ],
           "type": "scatter",
           "x": [
            38.64
           ],
           "y": [
            40.480000000000004
           ]
          }
         ]
        }
       ],
       "layout": {
        "legend": {
         "orientation": "h"
        },
        "template": {
         "data": {
          "bar": [
           {
            "error_x": {
             "color": "#2a3f5f"
            },
            "error_y": {
             "color": "#2a3f5f"
            },
            "marker": {
             "line": {
              "color": "#E5ECF6",
              "width": 0.5
             },
             "pattern": {
              "fillmode": "overlay",
              "size": 10,
              "solidity": 0.2
             }
            },
            "type": "bar"
           }
          ],
          "barpolar": [
           {
            "marker": {
             "line": {
              "color": "#E5ECF6",
              "width": 0.5
             },
             "pattern": {
              "fillmode": "overlay",
              "size": 10,
              "solidity": 0.2
             }
            },
            "type": "barpolar"
           }
          ],
          "carpet": [
           {
            "aaxis": {
             "endlinecolor": "#2a3f5f",
             "gridcolor": "white",
             "linecolor": "white",
             "minorgridcolor": "white",
             "startlinecolor": "#2a3f5f"
            },
            "baxis": {
             "endlinecolor": "#2a3f5f",
             "gridcolor": "white",
             "linecolor": "white",
             "minorgridcolor": "white",
             "startlinecolor": "#2a3f5f"
            },
            "type": "carpet"
           }
          ],
          "choropleth": [
           {
            "colorbar": {
             "outlinewidth": 0,
             "ticks": ""
            },
            "type": "choropleth"
           }
          ],
          "contour": [
           {
            "colorbar": {
             "outlinewidth": 0,
             "ticks": ""
            },
            "colorscale": [
             [
              0,
              "#0d0887"
             ],
             [
              0.1111111111111111,
              "#46039f"
             ],
             [
              0.2222222222222222,
              "#7201a8"
             ],
             [
              0.3333333333333333,
              "#9c179e"
             ],
             [
              0.4444444444444444,
              "#bd3786"
             ],
             [
              0.5555555555555556,
              "#d8576b"
             ],
             [
              0.6666666666666666,
              "#ed7953"
             ],
             [
              0.7777777777777778,
              "#fb9f3a"
             ],
             [
              0.8888888888888888,
              "#fdca26"
             ],
             [
              1,
              "#f0f921"
             ]
            ],
            "type": "contour"
           }
          ],
          "contourcarpet": [
           {
            "colorbar": {
             "outlinewidth": 0,
             "ticks": ""
            },
            "type": "contourcarpet"
           }
          ],
          "heatmap": [
           {
            "colorbar": {
             "outlinewidth": 0,
             "ticks": ""
            },
            "colorscale": [
             [
              0,
              "#0d0887"
             ],
             [
              0.1111111111111111,
              "#46039f"
             ],
             [
              0.2222222222222222,
              "#7201a8"
             ],
             [
              0.3333333333333333,
              "#9c179e"
             ],
             [
              0.4444444444444444,
              "#bd3786"
             ],
             [
              0.5555555555555556,
              "#d8576b"
             ],
             [
              0.6666666666666666,
              "#ed7953"
             ],
             [
              0.7777777777777778,
              "#fb9f3a"
             ],
             [
              0.8888888888888888,
              "#fdca26"
             ],
             [
              1,
              "#f0f921"
             ]
            ],
            "type": "heatmap"
           }
          ],
          "heatmapgl": [
           {
            "colorbar": {
             "outlinewidth": 0,
             "ticks": ""
            },
            "colorscale": [
             [
              0,
              "#0d0887"
             ],
             [
              0.1111111111111111,
              "#46039f"
             ],
             [
              0.2222222222222222,
              "#7201a8"
             ],
             [
              0.3333333333333333,
              "#9c179e"
             ],
             [
              0.4444444444444444,
              "#bd3786"
             ],
             [
              0.5555555555555556,
              "#d8576b"
             ],
             [
              0.6666666666666666,
              "#ed7953"
             ],
             [
              0.7777777777777778,
              "#fb9f3a"
             ],
             [
              0.8888888888888888,
              "#fdca26"
             ],
             [
              1,
              "#f0f921"
             ]
            ],
            "type": "heatmapgl"
           }
          ],
          "histogram": [
           {
            "marker": {
             "pattern": {
              "fillmode": "overlay",
              "size": 10,
              "solidity": 0.2
             }
            },
            "type": "histogram"
           }
          ],
          "histogram2d": [
           {
            "colorbar": {
             "outlinewidth": 0,
             "ticks": ""
            },
            "colorscale": [
             [
              0,
              "#0d0887"
             ],
             [
              0.1111111111111111,
              "#46039f"
             ],
             [
              0.2222222222222222,
              "#7201a8"
             ],
             [
              0.3333333333333333,
              "#9c179e"
             ],
             [
              0.4444444444444444,
              "#bd3786"
             ],
             [
              0.5555555555555556,
              "#d8576b"
             ],
             [
              0.6666666666666666,
              "#ed7953"
             ],
             [
              0.7777777777777778,
              "#fb9f3a"
             ],
             [
              0.8888888888888888,
              "#fdca26"
             ],
             [
              1,
              "#f0f921"
             ]
            ],
            "type": "histogram2d"
           }
          ],
          "histogram2dcontour": [
           {
            "colorbar": {
             "outlinewidth": 0,
             "ticks": ""
            },
            "colorscale": [
             [
              0,
              "#0d0887"
             ],
             [
              0.1111111111111111,
              "#46039f"
             ],
             [
              0.2222222222222222,
              "#7201a8"
             ],
             [
              0.3333333333333333,
              "#9c179e"
             ],
             [
              0.4444444444444444,
              "#bd3786"
             ],
             [
              0.5555555555555556,
              "#d8576b"
             ],
             [
              0.6666666666666666,
              "#ed7953"
             ],
             [
              0.7777777777777778,
              "#fb9f3a"
             ],
             [
              0.8888888888888888,
              "#fdca26"
             ],
             [
              1,
              "#f0f921"
             ]
            ],
            "type": "histogram2dcontour"
           }
          ],
          "mesh3d": [
           {
            "colorbar": {
             "outlinewidth": 0,
             "ticks": ""
            },
            "type": "mesh3d"
           }
          ],
          "parcoords": [
           {
            "line": {
             "colorbar": {
              "outlinewidth": 0,
              "ticks": ""
             }
            },
            "type": "parcoords"
           }
          ],
          "pie": [
           {
            "automargin": true,
            "type": "pie"
           }
          ],
          "scatter": [
           {
            "fillpattern": {
             "fillmode": "overlay",
             "size": 10,
             "solidity": 0.2
            },
            "type": "scatter"
           }
          ],
          "scatter3d": [
           {
            "line": {
             "colorbar": {
              "outlinewidth": 0,
              "ticks": ""
             }
            },
            "marker": {
             "colorbar": {
              "outlinewidth": 0,
              "ticks": ""
             }
            },
            "type": "scatter3d"
           }
          ],
          "scattercarpet": [
           {
            "marker": {
             "colorbar": {
              "outlinewidth": 0,
              "ticks": ""
             }
            },
            "type": "scattercarpet"
           }
          ],
          "scattergeo": [
           {
            "marker": {
             "colorbar": {
              "outlinewidth": 0,
              "ticks": ""
             }
            },
            "type": "scattergeo"
           }
          ],
          "scattergl": [
           {
            "marker": {
             "colorbar": {
              "outlinewidth": 0,
              "ticks": ""
             }
            },
            "type": "scattergl"
           }
          ],
          "scattermapbox": [
           {
            "marker": {
             "colorbar": {
              "outlinewidth": 0,
              "ticks": ""
             }
            },
            "type": "scattermapbox"
           }
          ],
          "scatterpolar": [
           {
            "marker": {
             "colorbar": {
              "outlinewidth": 0,
              "ticks": ""
             }
            },
            "type": "scatterpolar"
           }
          ],
          "scatterpolargl": [
           {
            "marker": {
             "colorbar": {
              "outlinewidth": 0,
              "ticks": ""
             }
            },
            "type": "scatterpolargl"
           }
          ],
          "scatterternary": [
           {
            "marker": {
             "colorbar": {
              "outlinewidth": 0,
              "ticks": ""
             }
            },
            "type": "scatterternary"
           }
          ],
          "surface": [
           {
            "colorbar": {
             "outlinewidth": 0,
             "ticks": ""
            },
            "colorscale": [
             [
              0,
              "#0d0887"
             ],
             [
              0.1111111111111111,
              "#46039f"
             ],
             [
              0.2222222222222222,
              "#7201a8"
             ],
             [
              0.3333333333333333,
              "#9c179e"
             ],
             [
              0.4444444444444444,
              "#bd3786"
             ],
             [
              0.5555555555555556,
              "#d8576b"
             ],
             [
              0.6666666666666666,
              "#ed7953"
             ],
             [
              0.7777777777777778,
              "#fb9f3a"
             ],
             [
              0.8888888888888888,
              "#fdca26"
             ],
             [
              1,
              "#f0f921"
             ]
            ],
            "type": "surface"
           }
          ],
          "table": [
           {
            "cells": {
             "fill": {
              "color": "#EBF0F8"
             },
             "line": {
              "color": "white"
             }
            },
            "header": {
             "fill": {
              "color": "#C8D4E3"
             },
             "line": {
              "color": "white"
             }
            },
            "type": "table"
           }
          ]
         },
         "layout": {
          "annotationdefaults": {
           "arrowcolor": "#2a3f5f",
           "arrowhead": 0,
           "arrowwidth": 1
          },
          "autotypenumbers": "strict",
          "coloraxis": {
           "colorbar": {
            "outlinewidth": 0,
            "ticks": ""
           }
          },
          "colorscale": {
           "diverging": [
            [
             0,
             "#8e0152"
            ],
            [
             0.1,
             "#c51b7d"
            ],
            [
             0.2,
             "#de77ae"
            ],
            [
             0.3,
             "#f1b6da"
            ],
            [
             0.4,
             "#fde0ef"
            ],
            [
             0.5,
             "#f7f7f7"
            ],
            [
             0.6,
             "#e6f5d0"
            ],
            [
             0.7,
             "#b8e186"
            ],
            [
             0.8,
             "#7fbc41"
            ],
            [
             0.9,
             "#4d9221"
            ],
            [
             1,
             "#276419"
            ]
           ],
           "sequential": [
            [
             0,
             "#0d0887"
            ],
            [
             0.1111111111111111,
             "#46039f"
            ],
            [
             0.2222222222222222,
             "#7201a8"
            ],
            [
             0.3333333333333333,
             "#9c179e"
            ],
            [
             0.4444444444444444,
             "#bd3786"
            ],
            [
             0.5555555555555556,
             "#d8576b"
            ],
            [
             0.6666666666666666,
             "#ed7953"
            ],
            [
             0.7777777777777778,
             "#fb9f3a"
            ],
            [
             0.8888888888888888,
             "#fdca26"
            ],
            [
             1,
             "#f0f921"
            ]
           ],
           "sequentialminus": [
            [
             0,
             "#0d0887"
            ],
            [
             0.1111111111111111,
             "#46039f"
            ],
            [
             0.2222222222222222,
             "#7201a8"
            ],
            [
             0.3333333333333333,
             "#9c179e"
            ],
            [
             0.4444444444444444,
             "#bd3786"
            ],
            [
             0.5555555555555556,
             "#d8576b"
            ],
            [
             0.6666666666666666,
             "#ed7953"
            ],
            [
             0.7777777777777778,
             "#fb9f3a"
            ],
            [
             0.8888888888888888,
             "#fdca26"
            ],
            [
             1,
             "#f0f921"
            ]
           ]
          },
          "colorway": [
           "#636efa",
           "#EF553B",
           "#00cc96",
           "#ab63fa",
           "#FFA15A",
           "#19d3f3",
           "#FF6692",
           "#B6E880",
           "#FF97FF",
           "#FECB52"
          ],
          "font": {
           "color": "#2a3f5f"
          },
          "geo": {
           "bgcolor": "white",
           "lakecolor": "white",
           "landcolor": "#E5ECF6",
           "showlakes": true,
           "showland": true,
           "subunitcolor": "white"
          },
          "hoverlabel": {
           "align": "left"
          },
          "hovermode": "closest",
          "mapbox": {
           "style": "light"
          },
          "paper_bgcolor": "white",
          "plot_bgcolor": "#E5ECF6",
          "polar": {
           "angularaxis": {
            "gridcolor": "white",
            "linecolor": "white",
            "ticks": ""
           },
           "bgcolor": "#E5ECF6",
           "radialaxis": {
            "gridcolor": "white",
            "linecolor": "white",
            "ticks": ""
           }
          },
          "scene": {
           "xaxis": {
            "backgroundcolor": "#E5ECF6",
            "gridcolor": "white",
            "gridwidth": 2,
            "linecolor": "white",
            "showbackground": true,
            "ticks": "",
            "zerolinecolor": "white"
           },
           "yaxis": {
            "backgroundcolor": "#E5ECF6",
            "gridcolor": "white",
            "gridwidth": 2,
            "linecolor": "white",
            "showbackground": true,
            "ticks": "",
            "zerolinecolor": "white"
           },
           "zaxis": {
            "backgroundcolor": "#E5ECF6",
            "gridcolor": "white",
            "gridwidth": 2,
            "linecolor": "white",
            "showbackground": true,
            "ticks": "",
            "zerolinecolor": "white"
           }
          },
          "shapedefaults": {
           "line": {
            "color": "#2a3f5f"
           }
          },
          "ternary": {
           "aaxis": {
            "gridcolor": "white",
            "linecolor": "white",
            "ticks": ""
           },
           "baxis": {
            "gridcolor": "white",
            "linecolor": "white",
            "ticks": ""
           },
           "bgcolor": "#E5ECF6",
           "caxis": {
            "gridcolor": "white",
            "linecolor": "white",
            "ticks": ""
           }
          },
          "title": {
           "x": 0.05
          },
          "xaxis": {
           "automargin": true,
           "gridcolor": "white",
           "linecolor": "white",
           "ticks": "",
           "title": {
            "standoff": 15
           },
           "zerolinecolor": "white",
           "zerolinewidth": 2
          },
          "yaxis": {
           "automargin": true,
           "gridcolor": "white",
           "linecolor": "white",
           "ticks": "",
           "title": {
            "standoff": 15
           },
           "zerolinecolor": "white",
           "zerolinewidth": 2
          }
         }
        },
        "title": {
         "text": "Play 2021091201901"
        },
        "updatemenus": [
         {
          "buttons": [
           {
            "args": [
             null,
             {
              "frame": {
               "duration": 500,
               "redraw": false
              },
              "fromcurrent": true,
              "transition": {
               "duration": 0
              }
             }
            ],
            "label": "Play",
            "method": "animate"
           }
          ],
          "type": "buttons"
         }
        ],
        "xaxis": {
         "autorange": false,
         "range": [
          14.420000000000002,
          46.64
         ]
        },
        "yaxis": {
         "autorange": false,
         "range": [
          4.75,
          43.480000000000004
         ]
        }
       }
      }
     },
     "metadata": {},
     "output_type": "display_data"
    }
   ],
   "source": [
    "from __future__ import annotations\n",
    "import plotly\n",
    "import plotly.graph_objects as go\n",
    "fig = go.Figure(\n",
    "    data= start_frame,\n",
    "    layout=layout_draw,\n",
    "    frames=all_frame\n",
    ")\n",
    "\n",
    "fig.update_layout(legend=dict(orientation = \"h\"))  \n",
    "fig.show()"
   ]
  },
  {
   "cell_type": "code",
   "execution_count": 1040,
   "metadata": {},
   "outputs": [
    {
     "data": {
      "text/plain": [
       "0.28772175312042236"
      ]
     },
     "execution_count": 1040,
     "metadata": {},
     "output_type": "execute_result"
    }
   ],
   "source": [
    "list(zip(motion_rush[1:,:,:], motion_block[1:,:,:], motion_qb[1:,:,:], play_prob[1:]))[0][3]"
   ]
  },
  {
   "cell_type": "code",
   "execution_count": null,
   "metadata": {},
   "outputs": [],
   "source": []
  },
  {
   "cell_type": "code",
   "execution_count": null,
   "metadata": {},
   "outputs": [],
   "source": []
  },
  {
   "cell_type": "code",
   "execution_count": null,
   "metadata": {},
   "outputs": [],
   "source": []
  },
  {
   "cell_type": "code",
   "execution_count": null,
   "metadata": {},
   "outputs": [],
   "source": []
  },
  {
   "cell_type": "code",
   "execution_count": null,
   "metadata": {},
   "outputs": [],
   "source": []
  },
  {
   "cell_type": "code",
   "execution_count": null,
   "metadata": {},
   "outputs": [],
   "source": []
  },
  {
   "cell_type": "code",
   "execution_count": null,
   "metadata": {},
   "outputs": [],
   "source": [
    "\n",
    "  "
   ]
  },
  {
   "cell_type": "code",
   "execution_count": null,
   "metadata": {},
   "outputs": [],
   "source": []
  },
  {
   "cell_type": "code",
   "execution_count": null,
   "metadata": {},
   "outputs": [],
   "source": []
  },
  {
   "cell_type": "code",
   "execution_count": null,
   "metadata": {},
   "outputs": [],
   "source": []
  },
  {
   "cell_type": "code",
   "execution_count": 396,
   "metadata": {},
   "outputs": [
    {
     "name": "stdout",
     "output_type": "stream",
     "text": [
      "Percent of player play disruptions: 0.022958343514613237\n",
      "Percent of team play disruptions: 0.37583265163024426\n"
     ]
    }
   ],
   "source": [
    "play_dets = all_data.play_details_df\n",
    "play_dets['disrupt'] = play_dets.pff_hit + play_dets.pff_hurry + play_dets.pff_sack\n",
    "print( f'Percent of player play disruptions: {play_dets.disrupt.sum() / len(play_dets.disrupt)}')\n",
    "team_dets = play_dets.groupby('playId').agg({'disrupt' : [sum]})\n",
    "team_dets.columns = [\"_\".join(x) for x in np.array(team_dets.columns).ravel()]\n",
    "team_dets = team_dets.reset_index()\n",
    "print( f'Percent of team play disruptions: {len(team_dets.loc[team_dets.disrupt_sum > 0]) / len(team_dets)}')"
   ]
  },
  {
   "cell_type": "code",
   "execution_count": null,
   "metadata": {},
   "outputs": [],
   "source": []
  },
  {
   "cell_type": "code",
   "execution_count": null,
   "metadata": {},
   "outputs": [],
   "source": [
    "# sack / hurry / hit are dependent on both pass coverage and lineman and we only care about linemen. \n",
    "# Instead of using sack / hit /hurry, use P(Sack, Hurry, Hit @ time t) given conditions for team\n",
    "# to evaluate players, need some sort of metric for 'contribution to P(Sack, Hurry, Hit @ time t) on play'\n",
    "# to do so try to do  or sommin    [ P(Sack, Hurry, Hit @ time t replacing player with rusher average) / P(Sack, Hurry, Hit @ time t) ] - P(Sack, Hurry, Hit @ time t)\n",
    "\n",
    "\n",
    "\n",
    "\n",
    "# new idea: since there is no team level time of sack\n",
    "# find model that we can track each player prob of hit/hurry/sack \n",
    "# each player route will have a prob of sack at time t. \n",
    "# to compare use average route stats in similar situation: note may have to import more data (ie. play type etc)\n",
    "\n",
    "\n",
    "# also: need to create qb_metric for 'facing rusher' "
   ]
  },
  {
   "cell_type": "code",
   "execution_count": null,
   "metadata": {},
   "outputs": [],
   "source": [
    "\n",
    "\n"
   ]
  },
  {
   "cell_type": "code",
   "execution_count": null,
   "metadata": {},
   "outputs": [],
   "source": []
  },
  {
   "cell_type": "code",
   "execution_count": null,
   "metadata": {},
   "outputs": [],
   "source": [
    "\n"
   ]
  },
  {
   "cell_type": "code",
   "execution_count": null,
   "metadata": {},
   "outputs": [],
   "source": [
    "\n",
    "\n",
    "\n",
    "\n",
    "\n",
    "\n",
    "\n",
    "\n",
    "\n",
    "\n",
    "\n",
    "\n",
    "\n"
   ]
  },
  {
   "cell_type": "code",
   "execution_count": null,
   "metadata": {},
   "outputs": [],
   "source": []
  },
  {
   "cell_type": "code",
   "execution_count": 1096,
   "metadata": {},
   "outputs": [],
   "source": []
  },
  {
   "cell_type": "code",
   "execution_count": null,
   "metadata": {},
   "outputs": [],
   "source": []
  },
  {
   "cell_type": "code",
   "execution_count": 1205,
   "metadata": {},
   "outputs": [
    {
     "data": {
      "image/png": "[encoded data removed]",
      "text/plain": [
       "<Figure size 640x480 with 1 Axes>"
      ]
     },
     "metadata": {},
     "output_type": "display_data"
    }
   ],
   "source": [
    "import matplotlib.pyplot as plt\n",
    "plot_overall_avgs = all_dist_dfs.query(\"time_after_snap > 0\").groupby(by = ['time_after_snap']).mean().reset_index()\n",
    "\n",
    "plt.title = \"Average Rusher Distance From QB by Seconds After Snap\"\n",
    "plt.xlabel = \"Seconds After Snap\"\n",
    "plt.plot('time_after_snap',  'rusher_distance_from_qb', data = plot_overall_avgs, linestyle='dashed')\n",
    "plt.ylabel = \"Rusher Distance From QB\"\n",
    "plt.show()"
   ]
  },
  {
   "cell_type": "code",
   "execution_count": null,
   "metadata": {},
   "outputs": [],
   "source": []
  },
  {
   "cell_type": "code",
   "execution_count": null,
   "metadata": {},
   "outputs": [],
   "source": []
  },
  {
   "cell_type": "code",
   "execution_count": null,
   "metadata": {},
   "outputs": [],
   "source": [
    "### want to get groups of players with similar starting positions: conlusion: just use number of blockers on play for now, maybe add in weigt of blocker later\n",
    "\n",
    "# this_week_starting_pos = all_data.training_data_individual.get('1')\n",
    "# this_week_starting_pos = this_week_training_individual.loc[this_week_training_individual.time_after_snap == 0, ['playId', 'nflId', 'rusher_distance_from_qb', 'y']]\n",
    "\n",
    "\n",
    "\n",
    "# gmm_train = this_week_starting_pos.drop(['playId', 'nflId'], axis = 1)\n",
    "# gmm = mixture.GaussianMixture(n_components=2).fit(gmm_train)\n",
    "# gmm_labels = gmm.predict(gmm_train).astype(str)\n",
    "\n",
    "# this_week_starting_pos['starting_pos_class'] = gmm_labels\n",
    "# this_week_starting_pos.groupby('starting_pos_class').groups.items()\n",
    "# plot_df = this_week_starting_pos.drop(['playId', 'nflId'], axis = 1).reset_index(drop = 1)\n",
    "# plot_df.starting_pos_class.unique()\n",
    "# plot_df\n",
    "\n",
    "# groups = plot_df.groupby('starting_pos_class')\n",
    "# # Plot\n",
    "# fig, ax = plt.subplots()\n",
    "# ax.margins(0.05) # Optional, just adds 5% padding to the autoscaling\n",
    "# for name, group in groups:\n",
    "#     ax.plot(group.rusher_distance_from_qb, group.y, marker='o', linestyle='', ms=12, label=name)\n",
    "# ax.legend()\n",
    "\n",
    "# plt.show()\n",
    "\n",
    "# ret_df = this_week_starting_pos.loc[:, ['playId', 'nflId', 'starting_pos_class']]\n",
    "# ret_df"
   ]
  },
  {
   "cell_type": "code",
   "execution_count": null,
   "metadata": {},
   "outputs": [],
   "source": []
  }
 ],
 "metadata": {
  "kernelspec": {
   "display_name": "Python 3.9.12",
   "language": "python",
   "name": "python3"
  },
  "language_info": {
   "codemirror_mode": {
    "name": "ipython",
    "version": 3
   },
   "file_extension": ".py",
   "mimetype": "text/x-python",
   "name": "python",
   "nbconvert_exporter": "python",
   "pygments_lexer": "ipython3",
   "version": "3.10.6"
  },
  "orig_nbformat": 4,
  "vscode": {
   "interpreter": {
    "hash": "8b5140b98f9aa636ad904647e184ddf94a8c49b25e448223e4f659e3845abf7f"
   }
  }
 },
 "nbformat": 4,
 "nbformat_minor": 2
}
