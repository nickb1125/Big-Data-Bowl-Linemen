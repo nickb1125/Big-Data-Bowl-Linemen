{
 "cells": [
  {
   "cell_type": "code",
   "execution_count": null,
   "metadata": {},
   "outputs": [],
   "source": [
    "import pandas as pd\n",
    "import numpy as np\n",
    "import tqdm\n",
    "import os\n",
    "import warnings\n",
    "warnings.filterwarnings(\"ignore\", message=\"pandas.Int64Index is deprecated and will be removed from pandas in a future version. Use pandas.Index with the appropriate dtype instead.\")\n",
    "\n",
    "# import all_Data object ... if not loaded run clean.ipynb script in code/clean folder to create\n",
    "\n",
    "# proj_dir = INSERT YOUR WD\n",
    "\n",
    "os.chdir( os.path.join(proj_dir, 'code/clean') )\n",
    "%run clean_objects.ipynb\n",
    "os.chdir( os.path.join(proj_dir, 'code/modeling') )\n",
    "%run lstm_objects.ipynb\n",
    "\n",
    "def get_all_player_metrics_on_play(master_track, play_id, model):\n",
    "    max_time_after = max(master_track.search_track_weeks(variables = [\"playId\"], variable_values = [play_id]).time_after_snap.values)\n",
    "    max_frame = int(max_time_after * 10)\n",
    "    original_prob = predict_play(master_track = master_track, play_id = play_id, model = model, normalize = True, replace_player = None)\n",
    "    all_plays = master_track.play_details_df\n",
    "    play_rushers = all_plays.loc[(all_plays.pff_role == 'Pass Rush') & (all_plays.playId == play_id)].nflId.tolist()\n",
    "    rusher_metrics = {str(player_id) : (np.array(original_prob) - np.array(predict_play(master_track, play_id, model, normalize = True, replace_player = player_id))).tolist()[0:(max_frame + 1)] for player_id in play_rushers}\n",
    "    return rusher_metrics\n",
    "\n",
    "def get_player_metrics(week, master_track, model):\n",
    "    player_metrics_each_play = {}\n",
    "    for this_week in range(week):\n",
    "        all_plays = master_track.search_track_weeks(variables = ['week'], variable_values = [this_week]).playId.unique()\n",
    "        for play in tqdm.tqdm(all_plays):\n",
    "            this_play_dat = get_all_player_metrics_on_play(master_track, play_id = play, model = model) \n",
    "            this_play_dat_avgs = {key : sum(this_play_dat.get(key)) / len(this_play_dat.get(key)) for key in this_play_dat.keys()}\n",
    "            for key in this_play_dat_avgs.keys():\n",
    "                if (key in player_metrics_each_play.keys()):\n",
    "                    player_metrics_each_play[key].append(this_play_dat_avgs[key])\n",
    "                else:\n",
    "                    player_metrics_each_play.update({key : [ this_play_dat_avgs[key] ]})\n",
    "    avg_metric_to_this_point = {key : [sum(player_metrics_each_play.get(key)) / len(player_metrics_each_play.get(key)), len(player_metrics_each_play.get(key))] for key in player_metrics_each_play.keys()}\n",
    "    avg_metric_to_this_point = dict(sorted(avg_metric_to_this_point.items(), reverse = True, key=lambda item: item[1]))\n",
    "\n",
    "    return(avg_metric_to_this_point)\n",
    "\n",
    "def get_top_player_metrics(master_track, metric_dict, min_play_n):\n",
    "    top_n = pd.DataFrame({'nflId' : list(metric_dict.keys()), 'metric' : [item[0] for item in metric_dict.values()], 'n_play' : [item[1] for item in metric_dict.values()]}).astype({'nflId': 'int32'})\n",
    "    player_df = master_track.player_df.astype({'nflId': 'int32'})\n",
    "    top_n = top_n.merge(player_df, on = 'nflId', how = 'left')\n",
    "    top_n = top_n.loc[top_n.n_play >= min_play_n].reset_index(drop = 1)\n",
    "    top_n['rank'] = top_n.index + 1\n",
    "    return(top_n)\n",
    "\n",
    "def get_number_of_individual_disruptions(master_track, player_names):\n",
    "    play_dets = master_track.play_details_df\n",
    "    all_disrupt_nums = []\n",
    "    for name in player_names:\n",
    "        player_id = master_track.player_df.query('displayName == @name').reset_index(drop = 0).nflId[0]\n",
    "        num_df = play_dets.loc[(play_dets.nflId == player_id) & (play_dets.pff_role == \"Pass Rush\")  & ( (play_dets.pff_hit == 1) | (play_dets.pff_hurry == 1) | (play_dets.pff_sack == 1) )]\n",
    "        all_disrupt_nums.append(len(num_df))\n",
    "    return all_disrupt_nums\n",
    "\n",
    "os.chdir( os.path.join(proj_dir, 'code/modeling') )"
   ]
  }
 ],
 "metadata": {
  "kernelspec": {
   "display_name": "Python 3.8.9 64-bit",
   "language": "python",
   "name": "python3"
  },
  "language_info": {
   "name": "python",
   "version": "3.8.9"
  },
  "orig_nbformat": 4,
  "vscode": {
   "interpreter": {
    "hash": "31f2aee4e71d21fbe5cf8b01ff0e069b9275f58929596ceb00d14d90e3e16cd6"
   }
  }
 },
 "nbformat": 4,
 "nbformat_minor": 2
}
