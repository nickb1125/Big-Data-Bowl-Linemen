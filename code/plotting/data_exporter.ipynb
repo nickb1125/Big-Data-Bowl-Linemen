{
 "cells": [
  {
   "cell_type": "code",
   "execution_count": 8,
   "metadata": {},
   "outputs": [],
   "source": [
    "import pickle\n",
    "import math\n",
    "import pandas as pd\n",
    "import numpy as np\n",
    "import os\n",
    "import pathlib\n",
    "import tqdm\n",
    "from functools import reduce\n",
    "from scipy.stats import uniform, randint\n",
    "from sklearn.metrics import auc, accuracy_score, confusion_matrix, mean_squared_error\n",
    "from sklearn.model_selection import cross_val_score, GridSearchCV, KFold, RandomizedSearchCV, train_test_split\n",
    "import warnings\n",
    "import torch\n",
    "from torch.utils.data import Dataset\n",
    "from torch.utils.data import DataLoader\n",
    "\n",
    "proj_dir = '/Users/nickbachelder/Desktop/Kaggle/Linemen'\n",
    "os.chdir( os.path.join(proj_dir, 'code/clean') )\n",
    "%run clean_objects.ipynb\n",
    "os.chdir( os.path.join(proj_dir, 'code/modeling') )\n",
    "%run metric_objects.ipynb\n",
    "%run lstm_objects.ipynb\n",
    "os.chdir( os.path.join(proj_dir, 'data') )\n",
    "with open('all_data.pkl', 'rb') as file:\n",
    "    all_data = pickle.load(file)\n",
    "lstm_model = SequenceModel(n_features = 21, n_classes = 2, n_hidden = 15, n_layers = 1)\n",
    "lstm_model.load_state_dict(torch.load(\"lstm_weights\"))\n",
    "os.chdir( os.path.join(proj_dir, 'code/plotting') )\n",
    "%run export_objects.ipynb"
   ]
  },
  {
   "cell_type": "code",
   "execution_count": 13,
   "metadata": {},
   "outputs": [
    {
     "name": "stdout",
     "output_type": "stream",
     "text": [
      "Exporting data for feature distribution plots\n",
      "Exporting sack play\n",
      "Exporting hit play\n",
      "Exporting hurry play\n",
      "Exporting non-disrupt play\n"
     ]
    }
   ],
   "source": [
    "week = 9\n",
    "folder = os.path.join(proj_dir, 'data' )\n",
    "\n",
    "# export week 1 training dat for feature disribution plot\n",
    "\n",
    "print('Exporting data for feature distribution plots')\n",
    "export_w1_for_plotting = all_data.training_data_team.get('1')\n",
    "export_w1_for_plotting.to_csv(\"w1_for_plotting\")\n",
    "\n",
    "# Sack Plots\n",
    "\n",
    "print('Exporting sack play')\n",
    "download_play_plot_df(master_track = all_data, play_id = 20210912082010, model = lstm_model, folder = folder)\n",
    "download_metric_plot_df(master_track = all_data, play_id = 20210912082010, model = lstm_model, folder = folder)\n",
    "\n",
    "# Hit Plots\n",
    "\n",
    "print('Exporting hit play')\n",
    "download_play_plot_df(master_track = all_data, play_id = 20210912003480, model = lstm_model, folder = folder)\n",
    "download_metric_plot_df(master_track = all_data, play_id = 20210912003480, model = lstm_model, folder = folder)\n",
    "\n",
    "# Hurry Plots\n",
    "\n",
    "\n",
    "print('Exporting hurry play')\n",
    "download_play_plot_df(master_track = all_data, play_id = 2021090900687, model = lstm_model, folder = folder)\n",
    "download_metric_plot_df(master_track = all_data, play_id = 2021090900687, model = lstm_model, folder = folder)\n",
    "\n",
    "# Non-Disrupt Plots\n",
    "\n",
    "\n",
    "print('Exporting non-disrupt play')\n",
    "download_play_plot_df(master_track = all_data, play_id = 2021090900282, model = lstm_model, folder = folder)\n",
    "download_metric_plot_df(master_track = all_data, play_id = 2021090900282, model = lstm_model, folder = folder)\n",
    "\n",
    "\n",
    "# Prob difference example plot\n",
    "\n",
    "\n",
    "print('Exporting probability differences plot data')\n",
    "download_play_prob_differences(master_track = all_data, play_id = 20210909003962, model = lstm_model, folder = folder)\n",
    "\n",
    "\n",
    "# export final rankings data\n",
    "\n",
    "print('Exporting top player metrics data (this may take some time)')\n",
    "\n",
    "ranking_dict = get_player_metrics(master_track = all_data, model = lstm_model, week = week)\n",
    "ranking_df = get_top_player_metrics(master_track = all_data, metric_dict = ranking_dict, min_play_n = 10)\n",
    "ranking_df[0:50].to_csv('final_metric_rankings.csv')"
   ]
  },
  {
   "cell_type": "code",
   "execution_count": null,
   "metadata": {},
   "outputs": [],
   "source": []
  }
 ],
 "metadata": {
  "kernelspec": {
   "display_name": "Python 3.10.6",
   "language": "python",
   "name": "python3"
  },
  "language_info": {
   "codemirror_mode": {
    "name": "ipython",
    "version": 3
   },
   "file_extension": ".py",
   "mimetype": "text/x-python",
   "name": "python",
   "nbconvert_exporter": "python",
   "pygments_lexer": "ipython3",
   "version": "3.10.6"
  },
  "orig_nbformat": 4,
  "vscode": {
   "interpreter": {
    "hash": "8b5140b98f9aa636ad904647e184ddf94a8c49b25e448223e4f659e3845abf7f"
   }
  }
 },
 "nbformat": 4,
 "nbformat_minor": 2
}
